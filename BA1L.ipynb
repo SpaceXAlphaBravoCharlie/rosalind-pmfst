{
  "nbformat": 4,
  "nbformat_minor": 0,
  "metadata": {
    "colab": {
      "name": "BA1L.ipynb",
      "provenance": []
    },
    "kernelspec": {
      "name": "python3",
      "display_name": "Python 3"
    },
    "language_info": {
      "name": "python"
    }
  },
  "cells": [
    {
      "cell_type": "code",
      "execution_count": null,
      "metadata": {
        "id": "rOVUXcZ-0rgf"
      },
      "outputs": [],
      "source": [
        "def PatternToNumber(pattern):\n",
        "  if len(pattern) == 0:\n",
        "    return 0\n",
        "  symbol = LastSymbol(pattern)\n",
        "  prefix = Prefix(pattern)\n",
        "  return 4 * PatternToNumber(prefix) + SymbolToNumber(symbol)"
      ]
    },
    {
      "cell_type": "code",
      "source": [
        "def LastSymbol(pattern):\n",
        "  return pattern[len(pattern) - 1]"
      ],
      "metadata": {
        "id": "WRDirk-s57mr"
      },
      "execution_count": null,
      "outputs": []
    },
    {
      "cell_type": "code",
      "source": [
        "def Prefix(pattern):\n",
        "  return pattern[0:len(pattern) - 1]"
      ],
      "metadata": {
        "id": "Fxl3AlCp6Qfx"
      },
      "execution_count": null,
      "outputs": []
    },
    {
      "cell_type": "code",
      "source": [
        "def SymbolToNumber(symbol):\n",
        "  if(symbol == 'A'):\n",
        "    return 0\n",
        "  if(symbol == 'C'):\n",
        "    return 1\n",
        "  if(symbol == 'G'):\n",
        "    return 2\n",
        "  if(symbol == 'T'):\n",
        "    return 3"
      ],
      "metadata": {
        "id": "uAx3kksV6z5g"
      },
      "execution_count": null,
      "outputs": []
    },
    {
      "cell_type": "code",
      "source": [
        "PatternToNumber('AGT')"
      ],
      "metadata": {
        "colab": {
          "base_uri": "https://localhost:8080/"
        },
        "id": "cCUKOXBQ79p3",
        "outputId": "9ec2d42a-65bd-47ae-a581-48af6783ee38"
      },
      "execution_count": null,
      "outputs": [
        {
          "output_type": "execute_result",
          "data": {
            "text/plain": [
              "11"
            ]
          },
          "metadata": {},
          "execution_count": 58
        }
      ]
    },
    {
      "cell_type": "code",
      "source": [
        "pattern = 'TGAGTCGGCCATGTCACAGCG'"
      ],
      "metadata": {
        "id": "XFxvebLj_29c"
      },
      "execution_count": null,
      "outputs": []
    },
    {
      "cell_type": "code",
      "source": [
        "PatternToNumber(pattern)"
      ],
      "metadata": {
        "id": "NYDHZnok_4iT",
        "outputId": "bcade431-35b3-4166-ab97-c64d4c8b00b3",
        "colab": {
          "base_uri": "https://localhost:8080/"
        }
      },
      "execution_count": null,
      "outputs": [
        {
          "output_type": "execute_result",
          "data": {
            "text/plain": [
              "3897302110502"
            ]
          },
          "metadata": {},
          "execution_count": 60
        }
      ]
    },
    {
      "cell_type": "markdown",
      "source": [
        "# Vlastita implementacija --> bez pseudokoda iz knjige"
      ],
      "metadata": {
        "id": "WNU-Jnnz8lP9"
      }
    },
    {
      "cell_type": "markdown",
      "source": [
        "Ako pattern zavrsava sa 'A', prije patterna se moze nalaziti samo cijeli broj drugih patterna, tj. samo cijeli broj patterna koji se abecedno nalaze ispred zadanog patterna. Dakle, prvo odredimo koliko se patterna prije zadanog patterna nalazi u retku koji odgovara ponavljanju (k-1)-meru patterna (možemo zamisliti matricu sa 4^(k-1) redaka i 4 stupca, svaki redak odgovara jednom od mogućih (k-1)-merova, 4 stupca odgovaraju svim mogućim ponavljanjima tog (k-1)-mera). Nakon toga određujemo koliko redaka se nalazi prije zadanog retka. Navedeno određujemo na sljedeći način: uzmemo zadnji nukleotid od trenutnog (k-1)-mera, pozovemo funkciju LetterToNumber koja nam vrati koliko (k-1)-merova se nalazi prije trenutnog (k-1)-mera s obzirom na nukleotid na poziciji k-2, pomnožimo taj broj sa 4 jer je se svaki (k-1)-mer ponavlja 4 puta, nastavljamo tako da gledamo koliko se k-merova nalazi prije (k-2)-mera s obzirom na nukleotid na poziciji k-3 te pomnožimo navedeni broj sa 16 (npr. ako je početni pattern AACGT, odredili smo koliko se patterna nalazi prije AACG, sada gledamo koliko se patterna nalazi prije AAC --> samo AAA, budući da gledamo 5-mere, imamo A A A _ _, na praznim pozicijama mogu biti 4 nukleotida, dakle sa početnim AAA imamo 16 varijacija 5. reda), navedeno ponavljamo sve dok len(pattern) ne bude 0"
      ],
      "metadata": {
        "id": "gMpfVuOQFjik"
      }
    },
    {
      "cell_type": "code",
      "source": [
        "def LetterToNumber(letter):\n",
        "  if letter == 'A':\n",
        "    return 0\n",
        "  elif letter == 'C':\n",
        "    return 1\n",
        "  elif letter == 'G':\n",
        "    return 2\n",
        "  else:\n",
        "    return 3"
      ],
      "metadata": {
        "id": "4WNES3dg09he"
      },
      "execution_count": 1,
      "outputs": []
    },
    {
      "cell_type": "code",
      "source": [
        "from math import pow"
      ],
      "metadata": {
        "id": "70vsmX0f2EXa"
      },
      "execution_count": 11,
      "outputs": []
    },
    {
      "cell_type": "code",
      "source": [
        "def PatternToNumber(pattern):\n",
        "  number = LetterToNumber(pattern[-1])\n",
        "  pattern = pattern[0:len(pattern) - 1]\n",
        "  i = 1\n",
        "  while len(pattern) > 0:\n",
        "    number = number + LetterToNumber(pattern[-1]) * pow(4,i)\n",
        "    pattern = pattern[0:len(pattern) - 1]\n",
        "    i = i + 1\n",
        "  return int(number)"
      ],
      "metadata": {
        "id": "7UTLFLl-0_Fy"
      },
      "execution_count": 18,
      "outputs": []
    },
    {
      "cell_type": "code",
      "source": [
        "pattern = 'AGT'"
      ],
      "metadata": {
        "id": "T0I9OgWq1OKc"
      },
      "execution_count": 13,
      "outputs": []
    },
    {
      "cell_type": "code",
      "source": [
        "PatternToNumber(pattern)"
      ],
      "metadata": {
        "colab": {
          "base_uri": "https://localhost:8080/"
        },
        "id": "_unkTIe41wgI",
        "outputId": "22d1449a-b4aa-4e7d-fc3e-16f90f500bc8"
      },
      "execution_count": 19,
      "outputs": [
        {
          "output_type": "execute_result",
          "data": {
            "text/plain": [
              "11"
            ]
          },
          "metadata": {},
          "execution_count": 19
        }
      ]
    },
    {
      "cell_type": "code",
      "source": [
        "pattern = 'TTCTCATGTTAGTCGATAATTGC'"
      ],
      "metadata": {
        "id": "4tI6ghyI2cgY"
      },
      "execution_count": 20,
      "outputs": []
    },
    {
      "cell_type": "code",
      "source": [
        "PatternToNumber(pattern)"
      ],
      "metadata": {
        "colab": {
          "base_uri": "https://localhost:8080/"
        },
        "id": "qTWS5_Lq2pBm",
        "outputId": "db2ff3c1-335b-48b0-ad78-0e71e277d44d"
      },
      "execution_count": 21,
      "outputs": [
        {
          "output_type": "execute_result",
          "data": {
            "text/plain": [
              "67979613450489"
            ]
          },
          "metadata": {},
          "execution_count": 21
        }
      ]
    }
  ]
}