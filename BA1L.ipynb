{
  "nbformat": 4,
  "nbformat_minor": 0,
  "metadata": {
    "colab": {
      "name": "BA1L.ipynb",
      "provenance": []
    },
    "kernelspec": {
      "name": "python3",
      "display_name": "Python 3"
    },
    "language_info": {
      "name": "python"
    }
  },
  "cells": [
    {
      "cell_type": "code",
      "execution_count": 54,
      "metadata": {
        "id": "rOVUXcZ-0rgf"
      },
      "outputs": [],
      "source": [
        "def PatternToNumber(pattern):\n",
        "  if len(pattern) == 0:\n",
        "    return 0\n",
        "  symbol = LastSymbol(pattern)\n",
        "  prefix = Prefix(pattern)\n",
        "  return 4 * PatternToNumber(prefix) + SymbolToNumber(symbol)"
      ]
    },
    {
      "cell_type": "code",
      "source": [
        "# def PatternToNumber(pattern):\n",
        "#   if len(pattern) == 0:\n",
        "#     return 0\n",
        "#   prefix = Prefix(pattern)\n",
        "#   return 4 * PatternToNumber(prefix) + SymbolToNumber(symbol)"
      ],
      "metadata": {
        "id": "O4pgeQ9X8-aG"
      },
      "execution_count": null,
      "outputs": []
    },
    {
      "cell_type": "code",
      "source": [
        "def LastSymbol(pattern):\n",
        "  return pattern[len(pattern) - 1]"
      ],
      "metadata": {
        "id": "WRDirk-s57mr"
      },
      "execution_count": 55,
      "outputs": []
    },
    {
      "cell_type": "code",
      "source": [
        "def Prefix(pattern):\n",
        "  return pattern[0:len(pattern) - 1]"
      ],
      "metadata": {
        "id": "Fxl3AlCp6Qfx"
      },
      "execution_count": 56,
      "outputs": []
    },
    {
      "cell_type": "code",
      "source": [
        "def SymbolToNumber(symbol):\n",
        "  if(symbol == 'A'):\n",
        "    return 0\n",
        "  if(symbol == 'C'):\n",
        "    return 1\n",
        "  if(symbol == 'G'):\n",
        "    return 2\n",
        "  if(symbol == 'T'):\n",
        "    return 3"
      ],
      "metadata": {
        "id": "uAx3kksV6z5g"
      },
      "execution_count": 57,
      "outputs": []
    },
    {
      "cell_type": "code",
      "source": [
        "PatternToNumber('AGT')"
      ],
      "metadata": {
        "colab": {
          "base_uri": "https://localhost:8080/"
        },
        "id": "cCUKOXBQ79p3",
        "outputId": "9ec2d42a-65bd-47ae-a581-48af6783ee38"
      },
      "execution_count": 58,
      "outputs": [
        {
          "output_type": "execute_result",
          "data": {
            "text/plain": [
              "11"
            ]
          },
          "metadata": {},
          "execution_count": 58
        }
      ]
    },
    {
      "cell_type": "code",
      "source": [
        "pattern = 'TGAGTCGGCCATGTCACAGCG'"
      ],
      "metadata": {
        "id": "XFxvebLj_29c"
      },
      "execution_count": 59,
      "outputs": []
    },
    {
      "cell_type": "code",
      "source": [
        "PatternToNumber(pattern)"
      ],
      "metadata": {
        "colab": {
          "base_uri": "https://localhost:8080/"
        },
        "id": "NYDHZnok_4iT",
        "outputId": "bcade431-35b3-4166-ab97-c64d4c8b00b3"
      },
      "execution_count": 60,
      "outputs": [
        {
          "output_type": "execute_result",
          "data": {
            "text/plain": [
              "3897302110502"
            ]
          },
          "metadata": {},
          "execution_count": 60
        }
      ]
    }
  ]
}