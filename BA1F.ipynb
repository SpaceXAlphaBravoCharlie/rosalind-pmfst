{
  "nbformat": 4,
  "nbformat_minor": 0,
  "metadata": {
    "colab": {
      "name": "BA1F.ipynb",
      "provenance": []
    },
    "kernelspec": {
      "name": "python3",
      "display_name": "Python 3"
    },
    "language_info": {
      "name": "python"
    }
  },
  "cells": [
    {
      "cell_type": "markdown",
      "source": [
        "Biologists call a reverse half-strand a leading half-strand since a single DNA polymerase traverses this half-strand non-stop, and they call a forward half-strand a lagging half-strand since it is used as a template by many DNA polymerases stopping and starting replication."
      ],
      "metadata": {
        "id": "nINvGLfSOWbh"
      }
    },
    {
      "cell_type": "markdown",
      "source": [
        "As the replication fork expands, DNA polymerase synthesizes DNA quickly on the reverse half-strand but suffers delays on the forward half-strand. Notice that since the replication of a reverse half-strand proceeds quickly (single DNA polymerase traverses this half-strand non-stop), it lives double-stranded for most of its life. Conversely, a forward half-strand spends a much larger\n",
        "amount of its life single-stranded (it is used as a template by many DNA polymerases stopping and starting replication), waiting to be used as a template for replication. This discrepancy between the forward and reverse half-strands (forward half-strand spends a much larger amount of its life single-stranded, reverse half-strand lives double-stranded for most of its life) is important because single-stranded DNA has a much higher mutation rate than double-stranded DNA. In particular, if one of the four nucleotides in single-stranded DNA has a greater tendency than other nucleotides to mutate in single-stranded DNA, then we should observe a shortage of this nucleotide on the forward half-strand (npr. ako nukleotid T ima veću tendendciju da utira od drugih nukleotida, onda mutira u nukleotide iz skupa {A, C, G})."
      ],
      "metadata": {
        "id": "dLX9UbokOiql"
      }
    },
    {
      "cell_type": "markdown",
      "source": [
        "cytosine (C) has a tendency to mutate into thymine (T) through a process called deamination"
      ],
      "metadata": {
        "id": "EhGH7c0tQ5kl"
      }
    },
    {
      "cell_type": "markdown",
      "source": [
        "Let’s follow the 5 - 3 direction of DNA and walk along the chromosome from\n",
        "terC to oriC (along a reverse half-strand, pravi smjer citanja), then continue on from oriC to terC (along a forward half-strand, pravi smjer citanja). In Figure 1.11, we saw that the skew is decreasing along the reverse half-strand and increasing along the forward half-strand. Thus, the skew should achieve a minimum at the position where the reverse half-strand ends and the forward half-strand begins, which is exactly the location of oriC. --> smjer oriC - terC, #G - #C raste, tj. povećava se broj nukletotida koji su guanin i smanjuje se broj nukletoida koji su citozin, smjer terC - oriC, #G - #C opada, smanjuje se broj nukleotida koji su guanin i povećava se broj nukleotida koji su citozin, dakle na terC se broj nukleotida koji su guanin smanjuje i broj nukleotida koji su citozin povećava, odnosno nakon što iz forward half-stranda pređemo na reverse half-strand, na oriC se broj nukleotida koji su guanin povećava i broj nukleotida koji su citozin smanjuje, odnosno kada pređemo iz reverse half-stranda u forward half-strand --> dakle, kada se #G - #C počne povećavati, prešli smo iz reverse half-stranda u forward half-strand, odnosno kada #G - #C ima minimalnu vrijednost stigli smo do kraja reverse half-stranda jer kada pređemo u forward half strand #G se počne povećavati, a #C se počne smanjivati"
      ],
      "metadata": {
        "id": "ddgYFVaOisPZ"
      }
    },
    {
      "cell_type": "code",
      "source": [
        "from collections import Counter"
      ],
      "metadata": {
        "id": "xk3MthdYlJZS"
      },
      "execution_count": 3,
      "outputs": []
    },
    {
      "cell_type": "code",
      "source": [
        "def Skew(last_prefix_skew_value,current_prefix_last_nucletoide):\n",
        "  if current_prefix_last_nucletoide == 'C':\n",
        "    return last_prefix_skew_value - 1\n",
        "  elif current_prefix_last_nucletoide == 'G':\n",
        "    return last_prefix_skew_value + 1\n",
        "  else:\n",
        "    return last_prefix_skew_value"
      ],
      "metadata": {
        "id": "OmaZwb8mkkEo"
      },
      "execution_count": 89,
      "outputs": []
    },
    {
      "cell_type": "code",
      "source": [
        "def PrefixI(genome,i):\n",
        "  return genome[i]"
      ],
      "metadata": {
        "id": "AA4ayrzZkrVA"
      },
      "execution_count": 90,
      "outputs": []
    },
    {
      "cell_type": "code",
      "source": [
        "import numpy as np"
      ],
      "metadata": {
        "id": "n9_EQnLKoNCM"
      },
      "execution_count": 26,
      "outputs": []
    },
    {
      "cell_type": "code",
      "source": [
        "def MinimumSkew(genome):\n",
        "  skew = [0]\n",
        "  for i in range(len(genome)):\n",
        "    skew.append(Skew(skew[len(skew)-1],PrefixI(genome,i)))\n",
        "  skew = np.array(skew)\n",
        "  return (np.where(skew == np.amin(skew)))[0]"
      ],
      "metadata": {
        "id": "KEgZSBwek_sw"
      },
      "execution_count": 102,
      "outputs": []
    },
    {
      "cell_type": "code",
      "source": [
        "genome = 'CCTATCGGTGGATTAGCATGTCCCTGTACGTTTCGCCGCGAACTAGTTCACACGGCTTGATGGCAAATGGTTTTTCCGGCGACCGTAATCGTCCACCGAG'"
      ],
      "metadata": {
        "id": "X_L6Ogrwku2s"
      },
      "execution_count": 103,
      "outputs": []
    },
    {
      "cell_type": "code",
      "source": [
        "for solution in MinimumSkew(genome):\n",
        "  print(solution)"
      ],
      "metadata": {
        "colab": {
          "base_uri": "https://localhost:8080/"
        },
        "id": "SvPxClxrmgRQ",
        "outputId": "e40ca7d8-2ecf-4553-c992-2eaf2bf23c8d"
      },
      "execution_count": 104,
      "outputs": [
        {
          "output_type": "stream",
          "name": "stdout",
          "text": [
            "53\n",
            "97\n"
          ]
        }
      ]
    },
    {
      "cell_type": "code",
      "source": [
        "with open('/content/rosalind_ba1f.txt') as task_file:\n",
        "  genome = [line.rstrip() for line in task_file]\n",
        "genome = genome[0]"
      ],
      "metadata": {
        "id": "LoGi5VcGrBtQ"
      },
      "execution_count": 108,
      "outputs": []
    },
    {
      "cell_type": "code",
      "source": [
        "f = open(\"task_result\", \"w\")\n",
        "for solution in MinimumSkew(genome):\n",
        "  f.write(str(solution) + '\\n')\n",
        "f.close()"
      ],
      "metadata": {
        "id": "dwsksgM9rNwB"
      },
      "execution_count": 110,
      "outputs": []
    }
  ]
}