{
  "nbformat": 4,
  "nbformat_minor": 0,
  "metadata": {
    "colab": {
      "name": "BA4C.ipynb",
      "provenance": []
    },
    "kernelspec": {
      "name": "python3",
      "display_name": "Python 3"
    },
    "language_info": {
      "name": "python"
    }
  },
  "cells": [
    {
      "cell_type": "code",
      "source": [
        "def FindAllKmers(peptide,k):\n",
        "  kmers_list = []\n",
        "  i = 0\n",
        "  while i + k - 1 <= len(peptide)-1:\n",
        "    kmers_list.append(peptide[i:i+k])\n",
        "    i = i + 1\n",
        "  while i <= len(peptide) - 1:\n",
        "    kmers_list.append(peptide[i:len(peptide)] + peptide[0:k-len(peptide[i:len(peptide)])])\n",
        "    i = i + 1\n",
        "  return kmers_list"
      ],
      "metadata": {
        "id": "a5-96lU6pzdd"
      },
      "execution_count": 45,
      "outputs": []
    },
    {
      "cell_type": "code",
      "source": [
        "def GenerateAllSubpeptides(peptide):\n",
        "  subpeptides = []\n",
        "  for subpeptide_length in range(1,len(peptide)):\n",
        "    subpeptides.extend(FindAllKmers(peptide,subpeptide_length))\n",
        "  subpeptides.append(peptide)\n",
        "  return subpeptides"
      ],
      "metadata": {
        "id": "ygVMSH6dow2L"
      },
      "execution_count": 56,
      "outputs": []
    },
    {
      "cell_type": "code",
      "source": [
        "def CycloSpectrum(peptide):\n",
        "  subpeptides = GenerateAllSubpeptides(peptide)"
      ],
      "metadata": {
        "id": "SF0Xbm-foQ9T"
      },
      "execution_count": null,
      "outputs": []
    },
    {
      "cell_type": "code",
      "source": [
        "aminoacids_integer_masses_dict = {'A':71.03711,\n",
        "'R':156.10111,\n",
        "'N':114.04293,\n",
        "'D':115.02694,\n",
        "'C':103.00919,\n",
        "'E':129.04259,\n",
        "'Q':128.05858,\n",
        "'G':57.02146,\n",
        "'H':137.05891,\n",
        "'I':113.08406,\n",
        "'L':113.08406,\n",
        "'K':128.09496,\n",
        "'M':131.04049,\n",
        "'F':147.06841,\n",
        "'P':97.05276,\n",
        "'S':87.03203,\n",
        "'T':101.04768,\n",
        "'W':186.07931,\n",
        "'Y':163.06333,\n",
        "'V':99.06841}"
      ],
      "metadata": {
        "id": "yIrVJq_jw-cc"
      },
      "execution_count": 58,
      "outputs": []
    },
    {
      "cell_type": "code",
      "source": [
        "for key in aminoacids_integer_masses_dict:\n",
        "  aminoacids_integer_masses_dict[key] = int(aminoacids_integer_masses_dict[key])"
      ],
      "metadata": {
        "id": "fumRRRqax41X"
      },
      "execution_count": 60,
      "outputs": []
    },
    {
      "cell_type": "code",
      "source": [
        "peptide = 'LEQN'"
      ],
      "metadata": {
        "id": "zW8FjskwyDUx"
      },
      "execution_count": null,
      "outputs": []
    },
    {
      "cell_type": "markdown",
      "source": [
        "The theoretical spectrum of a cyclic peptide Peptide is the collection of all of the masses\n",
        "of its subpeptides, in addition to the mass 0 and the mass of the entire peptide, with\n",
        "masses ordered from smallest to largest. We will assume that the theoretical spectrum can contain duplicate elements"
      ],
      "metadata": {
        "id": "8FUlqt4syoom"
      }
    },
    {
      "cell_type": "code",
      "source": [
        "def CycloSpectrum(peptide):\n",
        "  subpeptides = GenerateAllSubpeptides(peptide)\n",
        "  theoretical_spectrum = [0]\n",
        "  for subpeptide in subpeptides:\n",
        "    subpeptide_mass = 0\n",
        "    for aminoacid in subpeptide:\n",
        "      subpeptide_mass = subpeptide_mass + aminoacids_integer_masses_dict[aminoacid]\n",
        "    theoretical_spectrum.append(subpeptide_mass)\n",
        "  return sorted(theoretical_spectrum)"
      ],
      "metadata": {
        "id": "Q3ZdHP6LyFOT"
      },
      "execution_count": 71,
      "outputs": []
    },
    {
      "cell_type": "code",
      "source": [
        "CycloSpectrum(peptide)"
      ],
      "metadata": {
        "colab": {
          "base_uri": "https://localhost:8080/"
        },
        "id": "huC5giAmydh1",
        "outputId": "28856da0-b136-4d2d-d4e2-6f067caf213f"
      },
      "execution_count": 72,
      "outputs": [
        {
          "output_type": "execute_result",
          "data": {
            "text/plain": [
              "[0, 113, 114, 128, 129, 227, 242, 242, 257, 355, 356, 370, 371, 484]"
            ]
          },
          "metadata": {},
          "execution_count": 72
        }
      ]
    },
    {
      "cell_type": "code",
      "source": [
        "peptide = 'RHQLRNVVHKHIWCV'"
      ],
      "metadata": {
        "id": "J8P5MxjYy-rN"
      },
      "execution_count": 73,
      "outputs": []
    },
    {
      "cell_type": "code",
      "source": [
        "for solution in CycloSpectrum(peptide):\n",
        "  print(solution)"
      ],
      "metadata": {
        "id": "Fk84h-jTzEH_"
      },
      "execution_count": null,
      "outputs": []
    }
  ]
}