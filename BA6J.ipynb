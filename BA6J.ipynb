{
  "nbformat": 4,
  "nbformat_minor": 0,
  "metadata": {
    "colab": {
      "name": "BA6J.ipynb",
      "provenance": []
    },
    "kernelspec": {
      "name": "python3",
      "display_name": "Python 3"
    },
    "language_info": {
      "name": "python"
    }
  },
  "cells": [
    {
      "cell_type": "markdown",
      "source": [
        "(i, i_dash) --> izbaci\n",
        "\n",
        "(j, j_dash) --> izbaci\n",
        "\n",
        "(i, j) --> dodaj\n",
        "\n",
        "(i_dash, j_dash) --> dodaj"
      ],
      "metadata": {
        "id": "uUd28jmPeWOO"
      }
    },
    {
      "cell_type": "code",
      "source": [
        "def DeleteRedEdges(colored_edges, i, i_dash, j, j_dash):\n",
        "  if i == 1:\n",
        "    colored_edges.pop(colored_edges.index((i_dash, i)))\n",
        "    colored_edges.pop(colored_edges.index((j, j_dash)))\n",
        "  if j == 1:\n",
        "    colored_edges.pop(colored_edges.index((j_dash, j)))\n",
        "    colored_edges.pop(colored_edges.index((i, i_dash)))\n",
        "  if i != 1 and j != 1:\n",
        "    colored_edges.pop(colored_edges.index((i, i_dash)))\n",
        "    colored_edges.pop(colored_edges.index((j, j_dash)))\n",
        "  return colored_edges"
      ],
      "metadata": {
        "id": "ogLXz_pZ6OSo"
      },
      "execution_count": 73,
      "outputs": []
    },
    {
      "cell_type": "code",
      "source": [
        "def EdgesToAdd(i, i_dash, j, j_dash):\n",
        "  edges_to_add = []\n",
        "  if i == 1:\n",
        "    edges_to_add.append((j,i))\n",
        "    edges_to_add.append((i_dash,j_dash))\n",
        "  if i_dash == 1:\n",
        "    edges_to_add.append((i,j))\n",
        "    edges_to_add.append((j_dash, i_dash))\n",
        "  if i != 1 and i_dash != 1:\n",
        "    edges_to_add.append((i,j))\n",
        "    edges_to_add.append((i_dash,j_dash))\n",
        "  return edges_to_add"
      ],
      "metadata": {
        "id": "LA3pNhlKDtje"
      },
      "execution_count": 74,
      "outputs": []
    },
    {
      "cell_type": "code",
      "source": [
        "def IndexForInserting(colored_edges, edge_to_add):\n",
        "  for colored_edge in enumerate(colored_edges):\n",
        "    if (colored_edge[1][0] == edge_to_add[1] + 1) and (colored_edge[1][1] == edge_to_add[0] + 1):\n",
        "      return colored_edge[0] + 1\n",
        "    else:\n",
        "      continue\n",
        "  return len(colored_edges) - 1 + 1"
      ],
      "metadata": {
        "id": "8Ap6DPJ9j4-C"
      },
      "execution_count": 82,
      "outputs": []
    },
    {
      "cell_type": "code",
      "source": [
        "def AddNewRedEdges(colored_edges, edges_to_add):\n",
        "  for edge_to_add in edges_to_add:\n",
        "    colored_edges.insert(IndexForInserting(colored_edges, edge_to_add), edge_to_add)\n",
        "  return colored_edges"
      ],
      "metadata": {
        "id": "4rSboDjK8bLP"
      },
      "execution_count": 83,
      "outputs": []
    },
    {
      "cell_type": "code",
      "source": [
        "def TwoBreakOnGenomeGrapH(colored_edges, i, i_dash, j, j_dash):\n",
        "  colored_edges = DeleteRedEdges(colored_edges, i, i_dash, j, j_dash)\n",
        "  edges_to_add = EdgesToAdd(i, i_dash, j, j_dash)\n",
        "  colored_edges = AddNewRedEdges(colored_edges, edges_to_add)\n",
        "  return colored_edges"
      ],
      "metadata": {
        "id": "-jlJCIerQXej"
      },
      "execution_count": 84,
      "outputs": []
    },
    {
      "cell_type": "code",
      "source": [
        "colored_edges = [(2, 4), (3, 8), (7, 5), (6, 1)]"
      ],
      "metadata": {
        "id": "eP06QmDRQst5"
      },
      "execution_count": 85,
      "outputs": []
    },
    {
      "cell_type": "code",
      "source": [
        "colored_edges"
      ],
      "metadata": {
        "id": "Ggf3kh-cQw_d",
        "outputId": "db9cc479-8241-44c8-9a29-7f35053dbe75",
        "colab": {
          "base_uri": "https://localhost:8080/"
        }
      },
      "execution_count": 86,
      "outputs": [
        {
          "output_type": "execute_result",
          "data": {
            "text/plain": [
              "[(2, 4), (3, 8), (7, 5), (6, 1)]"
            ]
          },
          "metadata": {},
          "execution_count": 86
        }
      ]
    },
    {
      "cell_type": "code",
      "source": [
        "i, i_dash, j, j_dash = 1, 6, 3, 8"
      ],
      "metadata": {
        "id": "CjjY2IHyQy-L"
      },
      "execution_count": 87,
      "outputs": []
    },
    {
      "cell_type": "code",
      "source": [
        "TwoBreakOnGenomeGrapH(colored_edges, i, i_dash, j, j_dash)"
      ],
      "metadata": {
        "colab": {
          "base_uri": "https://localhost:8080/"
        },
        "id": "hU2vQ-Fogc0j",
        "outputId": "a900bb80-058c-40fe-fe02-b95d8bec6a21"
      },
      "execution_count": 88,
      "outputs": [
        {
          "output_type": "execute_result",
          "data": {
            "text/plain": [
              "[(2, 4), (3, 1), (7, 5), (6, 8)]"
            ]
          },
          "metadata": {},
          "execution_count": 88
        }
      ]
    },
    {
      "cell_type": "code",
      "source": [
        "i, i_dash, j, j_dash = 88, 89, 56, 58"
      ],
      "metadata": {
        "id": "MJLDmbhKKTvr"
      },
      "execution_count": 96,
      "outputs": []
    },
    {
      "cell_type": "code",
      "source": [
        "with open('/content/rosalind_ba6j.txt') as task_file:\n",
        "  colored_edges = [line.rstrip() for line in task_file]"
      ],
      "metadata": {
        "id": "BARbX3ItIwM2"
      },
      "execution_count": 97,
      "outputs": []
    },
    {
      "cell_type": "code",
      "source": [
        "colored_edges = colored_edges[0]"
      ],
      "metadata": {
        "id": "skZ540C0I4z4"
      },
      "execution_count": 98,
      "outputs": []
    },
    {
      "cell_type": "code",
      "source": [
        "colored_edges_tuples = []\n",
        "for colored_edge in colored_edges.split(', ('):\n",
        "  colored_edge = colored_edge.replace('(', '')\n",
        "  colored_edge = colored_edge.replace(')', '')\n",
        "  colored_edge = colored_edge.replace(',', '')\n",
        "  colored_edges_tuples.append((int(colored_edge.split(' ')[0]), int(colored_edge.split(' ')[1])))"
      ],
      "metadata": {
        "id": "Y0rqhv7DI7rm"
      },
      "execution_count": 100,
      "outputs": []
    },
    {
      "cell_type": "code",
      "source": [
        "string_to_print = ''\n",
        "for solution in TwoBreakOnGenomeGrapH(colored_edges_tuples, i, i_dash, j, j_dash):\n",
        "  string_to_print = string_to_print + str(solution) + ', '\n",
        "print(string_to_print)"
      ],
      "metadata": {
        "colab": {
          "base_uri": "https://localhost:8080/"
        },
        "id": "WP0UsHGHJYSw",
        "outputId": "4301e4db-f332-4d7c-f1a1-7fbfd85c1a66"
      },
      "execution_count": 102,
      "outputs": [
        {
          "output_type": "stream",
          "name": "stdout",
          "text": [
            "(2, 3), (4, 6), (5, 7), (8, 10), (9, 11), (12, 13), (14, 16), (15, 17), (18, 20), (19, 22), (21, 24), (23, 26), (25, 28), (27, 29), (30, 31), (32, 34), (33, 35), (36, 38), (37, 40), (39, 42), (41, 43), (44, 46), (45, 48), (47, 50), (49, 52), (51, 54), (53, 55), (57, 59), (60, 62), (61, 64), (63, 65), (66, 68), (67, 70), (69, 71), (72, 73), (74, 76), (75, 78), (77, 80), (79, 81), (82, 84), (83, 85), (86, 87), (90, 92), (91, 94), (93, 96), (95, 98), (97, 100), (99, 102), (101, 104), (103, 106), (105, 107), (108, 110), (109, 111), (112, 114), (113, 116), (115, 118), (117, 119), (120, 122), (121, 124), (123, 126), (125, 128), (127, 129), (130, 131), (132, 133), (134, 136), (135, 1), (88, 56), (89, 58), \n"
          ]
        }
      ]
    }
  ]
}