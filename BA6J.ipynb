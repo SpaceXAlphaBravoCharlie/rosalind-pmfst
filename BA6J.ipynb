{
  "nbformat": 4,
  "nbformat_minor": 0,
  "metadata": {
    "colab": {
      "name": "BA6J.ipynb",
      "provenance": []
    },
    "kernelspec": {
      "name": "python3",
      "display_name": "Python 3"
    },
    "language_info": {
      "name": "python"
    }
  },
  "cells": [
    {
      "cell_type": "markdown",
      "source": [
        "(i, i_dash) --> izbaci\n",
        "\n",
        "(j, j_dash) --> izbaci\n",
        "\n",
        "(i, j) --> dodaj\n",
        "\n",
        "(i_dash, j_dash) --> dodaj"
      ],
      "metadata": {
        "id": "uUd28jmPeWOO"
      }
    },
    {
      "cell_type": "markdown",
      "source": [
        "Cirkularni kromosom možemo čitati u oba smjera. Cirkularni kromosom možemo zapisati na 2n načina (n = broj synteny blokova). Dakle, iz grafa mozemo izbaciti (i, i_dash) ili (i_dash, i) i (j, j_dash) ili (j_dash, j)."
      ],
      "metadata": {
        "id": "n0A7iA2P3-nL"
      }
    },
    {
      "cell_type": "code",
      "source": [
        "def DeleteRedEdges(colored_edges, index_i, index_i_dash, index_j, index_j_dash):\n",
        "  if (index_i, index_i_dash) in colored_edges:\n",
        "    colored_edges.pop(colored_edges.index((index_i, index_i_dash)))\n",
        "  else:\n",
        "    colored_edges.pop(colored_edges.index((index_i_dash, index_i)))\n",
        "  if (index_j, index_j_dash) in colored_edges:\n",
        "    colored_edges.pop(colored_edges.index((index_j, index_j_dash)))\n",
        "  else:\n",
        "    colored_edges.pop(colored_edges.index((index_j_dash, index_j)))\n",
        "  return colored_edges"
      ],
      "metadata": {
        "id": "ZxE3Pc614zut"
      },
      "execution_count": 1,
      "outputs": []
    },
    {
      "cell_type": "code",
      "source": [
        "def EdgesToAdd(index_i, index_i_dash, index_j, index_j_dash):\n",
        "  edges_to_add = []\n",
        "  if index_i == 1:\n",
        "    edges_to_add.append((index_j,index_i))\n",
        "    edges_to_add.append((index_i_dash,index_j_dash))\n",
        "  if index_i_dash == 1:\n",
        "    edges_to_add.append((index_i,index_j))\n",
        "    edges_to_add.append((index_j_dash, index_i_dash))\n",
        "  if index_i != 1 and index_i_dash != 1:\n",
        "    edges_to_add.append((index_i,index_j))\n",
        "    edges_to_add.append((index_i_dash,index_j_dash))\n",
        "  return edges_to_add"
      ],
      "metadata": {
        "id": "LA3pNhlKDtje"
      },
      "execution_count": 12,
      "outputs": []
    },
    {
      "cell_type": "code",
      "source": [
        "def IndexForInserting(colored_edges, edge_to_add):\n",
        "  for colored_edge in enumerate(colored_edges):\n",
        "    if (colored_edge[1][0] == edge_to_add[1] + 1) and (colored_edge[1][1] == edge_to_add[0] + 1):\n",
        "      return colored_edge[0] + 1\n",
        "    else:\n",
        "      continue\n",
        "  return len(colored_edges) - 1 + 1"
      ],
      "metadata": {
        "id": "8Ap6DPJ9j4-C"
      },
      "execution_count": 6,
      "outputs": []
    },
    {
      "cell_type": "code",
      "source": [
        "def AddNewRedEdges(colored_edges, edges_to_add):\n",
        "  for edge_to_add in edges_to_add:\n",
        "    colored_edges.insert(IndexForInserting(colored_edges, edge_to_add), edge_to_add)\n",
        "  return colored_edges"
      ],
      "metadata": {
        "id": "4rSboDjK8bLP"
      },
      "execution_count": 7,
      "outputs": []
    },
    {
      "cell_type": "code",
      "source": [
        "def TwoBreakOnGenomeGrapH(colored_edges, index_i, index_i_dash, index_j, index_j_dash):\n",
        "  colored_edges = DeleteRedEdges(colored_edges, index_i, index_i_dash, index_j, index_j_dash)\n",
        "  edges_to_add = EdgesToAdd(index_i, index_i_dash, index_j, index_j_dash)\n",
        "  colored_edges = AddNewRedEdges(colored_edges, edges_to_add)\n",
        "  return colored_edges"
      ],
      "metadata": {
        "id": "-jlJCIerQXej"
      },
      "execution_count": 8,
      "outputs": []
    },
    {
      "cell_type": "code",
      "source": [
        "colored_edges = [(2, 4), (3, 8), (7, 5), (6, 1)]"
      ],
      "metadata": {
        "id": "eP06QmDRQst5"
      },
      "execution_count": 14,
      "outputs": []
    },
    {
      "cell_type": "code",
      "source": [
        "index_i, index_i_dash, index_j, index_j_dash = 1, 6, 3, 8"
      ],
      "metadata": {
        "id": "CjjY2IHyQy-L"
      },
      "execution_count": 10,
      "outputs": []
    },
    {
      "cell_type": "code",
      "source": [
        "TwoBreakOnGenomeGrapH(colored_edges, index_i, index_i_dash, index_j, index_j_dash)"
      ],
      "metadata": {
        "colab": {
          "base_uri": "https://localhost:8080/"
        },
        "id": "hU2vQ-Fogc0j",
        "outputId": "17099f18-0ad9-47f5-e576-4a65d50681a3"
      },
      "execution_count": 16,
      "outputs": [
        {
          "output_type": "execute_result",
          "data": {
            "text/plain": [
              "[(2, 4), (3, 1), (7, 5), (6, 8)]"
            ]
          },
          "metadata": {},
          "execution_count": 16
        }
      ]
    },
    {
      "cell_type": "code",
      "source": [
        "index_i, index_i_dash, index_j, index_j_dash = 122, 124, 62, 63"
      ],
      "metadata": {
        "id": "MJLDmbhKKTvr"
      },
      "execution_count": 26,
      "outputs": []
    },
    {
      "cell_type": "code",
      "source": [
        "with open('/content/rosalind_ba6j.txt') as task_file:\n",
        "  colored_edges = [line.rstrip() for line in task_file]"
      ],
      "metadata": {
        "id": "BARbX3ItIwM2"
      },
      "execution_count": 27,
      "outputs": []
    },
    {
      "cell_type": "code",
      "source": [
        "colored_edges = colored_edges[0]"
      ],
      "metadata": {
        "id": "skZ540C0I4z4"
      },
      "execution_count": 28,
      "outputs": []
    },
    {
      "cell_type": "code",
      "source": [
        "colored_edges_tuples = []\n",
        "for colored_edge in colored_edges.split(', ('):\n",
        "  colored_edge = colored_edge.replace('(', '')\n",
        "  colored_edge = colored_edge.replace(')', '')\n",
        "  colored_edge = colored_edge.replace(',', '')\n",
        "  colored_edges_tuples.append((int(colored_edge.split(' ')[0]), int(colored_edge.split(' ')[1])))"
      ],
      "metadata": {
        "id": "Y0rqhv7DI7rm"
      },
      "execution_count": 29,
      "outputs": []
    },
    {
      "cell_type": "code",
      "source": [
        "string_to_print = ''\n",
        "for solution in TwoBreakOnGenomeGrapH(colored_edges_tuples, index_i, index_i_dash, index_j, index_j_dash):\n",
        "  string_to_print = string_to_print + str(solution) + ', '\n",
        "print(string_to_print)"
      ],
      "metadata": {
        "colab": {
          "base_uri": "https://localhost:8080/"
        },
        "id": "WP0UsHGHJYSw",
        "outputId": "f2fdfe54-99ad-4c10-d49f-e5674f852ebd"
      },
      "execution_count": 31,
      "outputs": [
        {
          "output_type": "stream",
          "name": "stdout",
          "text": [
            "(2, 3), (4, 6), (5, 7), (8, 9), (10, 12), (11, 14), (13, 16), (15, 17), (18, 20), (19, 22), (21, 24), (23, 25), (26, 28), (27, 29), (30, 31), (32, 33), (34, 35), (36, 37), (38, 39), (40, 41), (42, 44), (43, 46), (45, 48), (47, 49), (50, 52), (51, 54), (53, 55), (56, 58), (57, 59), (60, 61), (64, 65), (66, 68), (67, 69), (70, 71), (72, 74), (73, 76), (75, 78), (77, 80), (79, 82), (81, 84), (83, 86), (85, 88), (87, 90), (89, 91), (92, 93), (94, 95), (96, 98), (97, 99), (100, 101), (102, 104), (103, 106), (105, 108), (107, 110), (109, 112), (111, 114), (113, 116), (115, 117), (118, 120), (119, 121), (123, 125), (126, 128), (127, 130), (129, 132), (131, 133), (134, 136), (135, 1), (122, 62), (124, 63), \n"
          ]
        }
      ]
    }
  ]
}