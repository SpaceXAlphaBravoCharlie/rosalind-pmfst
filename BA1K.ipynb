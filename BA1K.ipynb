{
  "nbformat": 4,
  "nbformat_minor": 0,
  "metadata": {
    "colab": {
      "name": "BA1K.ipynb",
      "provenance": []
    },
    "kernelspec": {
      "name": "python3",
      "display_name": "Python 3"
    },
    "language_info": {
      "name": "python"
    }
  },
  "cells": [
    {
      "cell_type": "code",
      "execution_count": 31,
      "metadata": {
        "id": "Qg8hTqfNzOX_"
      },
      "outputs": [],
      "source": [
        "from collections import Counter\n",
        "from itertools import product"
      ]
    },
    {
      "cell_type": "code",
      "source": [
        "def FindAllKmers(text,k):\n",
        "  kmers_list = []\n",
        "  i = 0\n",
        "  while i + k - 1 <= len(text) - 1:\n",
        "    kmers_list.append(text[i:i+k])\n",
        "    i = i + 1\n",
        "  return kmers_list"
      ],
      "metadata": {
        "id": "Qloiu-8u1Ex-"
      },
      "execution_count": 32,
      "outputs": []
    },
    {
      "cell_type": "code",
      "source": [
        "def GenerateAllKmers(k):\n",
        "  sets_for_product = k * [['A','C','G','T']]\n",
        "  return sorted(list(product(*sets_for_product)))"
      ],
      "metadata": {
        "id": "rptahaYd0jkG"
      },
      "execution_count": 33,
      "outputs": []
    },
    {
      "cell_type": "code",
      "source": [
        "def FrequencyArray(text,k):\n",
        "  frequency_array = []\n",
        "  text_kmers_count_dict = Counter(FindAllKmers(text,k))\n",
        "  for kmer in GenerateAllKmers(k):\n",
        "    kmer = ''.join(kmer)\n",
        "    frequency_array.append(text_kmers_count_dict[kmer])\n",
        "  return frequency_array"
      ],
      "metadata": {
        "id": "IBCYom1szPhR"
      },
      "execution_count": 34,
      "outputs": []
    },
    {
      "cell_type": "code",
      "source": [
        "text = 'ACGCGGCTCTGAAA'"
      ],
      "metadata": {
        "id": "MSchR9cOzRqO"
      },
      "execution_count": 35,
      "outputs": []
    },
    {
      "cell_type": "code",
      "source": [
        "k = 2"
      ],
      "metadata": {
        "id": "fjkjjT8xzUeL"
      },
      "execution_count": 36,
      "outputs": []
    },
    {
      "cell_type": "code",
      "source": [
        "FrequencyArray(text,k)"
      ],
      "metadata": {
        "colab": {
          "base_uri": "https://localhost:8080/"
        },
        "id": "hyCqFgf62s6t",
        "outputId": "191df7c1-b810-4533-a365-650f774f92f9"
      },
      "execution_count": 37,
      "outputs": [
        {
          "output_type": "execute_result",
          "data": {
            "text/plain": [
              "[2, 1, 0, 0, 0, 0, 2, 2, 1, 2, 1, 0, 0, 1, 1, 0]"
            ]
          },
          "metadata": {},
          "execution_count": 37
        }
      ]
    },
    {
      "cell_type": "code",
      "source": [
        "with open('/content/rosalind_ba1k.txt') as task_file:\n",
        "  text = [line.rstrip() for line in task_file]\n",
        "text = text[0]"
      ],
      "metadata": {
        "id": "Oz4CLJWl1t1l"
      },
      "execution_count": 39,
      "outputs": []
    },
    {
      "cell_type": "code",
      "source": [
        "k = 8"
      ],
      "metadata": {
        "id": "Idny2Arf2Dvl"
      },
      "execution_count": 38,
      "outputs": []
    },
    {
      "cell_type": "code",
      "source": [
        "f = open(\"task_result.txt\", \"w\")\n",
        "for solution in FrequencyArray(text,k):\n",
        "  f.write(str(solution) + ' ')\n",
        "f.close()"
      ],
      "metadata": {
        "id": "7SgUVDyT1wO5"
      },
      "execution_count": 41,
      "outputs": []
    }
  ]
}