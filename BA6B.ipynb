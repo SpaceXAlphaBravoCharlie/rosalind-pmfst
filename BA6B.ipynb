{
  "nbformat": 4,
  "nbformat_minor": 0,
  "metadata": {
    "colab": {
      "name": "BA6B.ipynb",
      "provenance": []
    },
    "kernelspec": {
      "name": "python3",
      "display_name": "Python 3"
    },
    "language_info": {
      "name": "python"
    }
  },
  "cells": [
    {
      "cell_type": "markdown",
      "source": [
        "The intuition that we are trying to build is that consecutive elements like (+12 +13) are desirable because they appear in the same order as in the identity permutation. However, consecutive elements like (-11 -10) are also desirable, since these elements can be later inverted into the correct order, (+10 +11). The pairs (+12 +13) and (-11 -10) have something in common; the second element is equal to the first element plus 1. We therefore say that consecutive elements (pi pi+1) in permutation P = (p1 ... pn) form an adjacency if pi+1 - pi is equal to 1. By definition, for any positive integer k < n, both (k k + 1) and (-(k + 1) k) are adjacencies. If pi+1 - pi is not equal to 1, then we say that (pi pi+1) is a breakpoint. We can think about a breakpoint intuitively as a pair of consecutive elements that are “out of order” compared to the identity permutation (+1 +2 ... +n). For example, the pair (+5 12) is a breakpoint because +5 and -12 are not neighbors in the identity permutation. Similarly, (-12 -8), (-6 +1), (+2 +10), (+9 -11), and (-11 +13) are\n",
        "clearly out of order. But (+10 +9) is also a breakpoint (even though it is formed by consecutive integers) because its signs are out of order compared to the identity permutation. The permutation (5 4 3 2 1) is clearly not the identity permutation, but where are its breakpoints?\n",
        "We will further represent the beginning and end of permutation P by adding 0 to the left of the first element and n + 1 to the right of the last element,\n",
        "(0 p1 ... pn (n + 1)). As a result, there are n + 1 pairs of consecutive elements:\n",
        "\n",
        "(0 p1), (p1 p2), (p2 p3), ..., (pn1 pn), (pn (n + 1)).\n",
        "\n",
        "We use ADJACENCIES(P) and BREAKPOINTS(P) to denote the number of adjacencies\n",
        "and breakpoints of permutation P, respectively. Because any pair of consecutive elements of a permutation form either a breakpoint or\n",
        "adjacency, we have the following identity for any permutation P of length n:\n",
        "\n",
        "ADJACENCIES(P) + BREAKPOINTS(P) = n + 1.\n",
        "\n",
        "\n",
        "identity permutation (+1 +2 ...+n) is the only permutation for which all consecutive elements are adjacencies, meaning that it has no breakpoints. --> ADJACENCIES(P) + BREAKPOINTS(P) = n + 1 + 0 = n + 1\n",
        "\n",
        "Note also that the permutation (-n -(n  1) ... -2 -1) has adjacencies for every consecutive pair of elements except for the two breakpoints (0 n) and (1 (n + 1)).\n"
      ],
      "metadata": {
        "id": "HkoNgjs617L8"
      }
    },
    {
      "cell_type": "code",
      "source": [
        "def NumberOfBreakpoints(permutation):\n",
        "  number_of_breakpoints = 0\n",
        "  i = 0\n",
        "  while i + 1 <= len(permutation) - 1:\n",
        "    if permutation[i+1] - permutation[i] != 1:\n",
        "      number_of_breakpoints = number_of_breakpoints + 1\n",
        "    i = i + 1\n",
        "  return number_of_breakpoints"
      ],
      "metadata": {
        "id": "Up4VI2wp10zM"
      },
      "execution_count": 1,
      "outputs": []
    },
    {
      "cell_type": "code",
      "source": [
        "permutation = [+3, +4, +5, -12, -8, -7, -6, +1, +2, +10, +9, -11, +13, +14]\n",
        "permutation.insert(0,0)\n",
        "permutation.insert(len(permutation),len(permutation))"
      ],
      "metadata": {
        "id": "glQN0iQK_tmV"
      },
      "execution_count": 4,
      "outputs": []
    },
    {
      "cell_type": "code",
      "source": [
        "permutation"
      ],
      "metadata": {
        "colab": {
          "base_uri": "https://localhost:8080/"
        },
        "id": "T-EuypnOCGFV",
        "outputId": "34d392ac-145e-4ca8-a732-165c3637f408"
      },
      "execution_count": 5,
      "outputs": [
        {
          "output_type": "execute_result",
          "data": {
            "text/plain": [
              "[0, 3, 4, 5, -12, -8, -7, -6, 1, 2, 10, 9, -11, 13, 14, 15]"
            ]
          },
          "metadata": {},
          "execution_count": 5
        }
      ]
    },
    {
      "cell_type": "code",
      "source": [
        "NumberOfBreakpoints(permutation)"
      ],
      "metadata": {
        "colab": {
          "base_uri": "https://localhost:8080/"
        },
        "id": "9BLdNS3UAs_O",
        "outputId": "a9258c58-dc19-48c6-813e-fa5a6f05c0ea"
      },
      "execution_count": 6,
      "outputs": [
        {
          "output_type": "execute_result",
          "data": {
            "text/plain": [
              "8"
            ]
          },
          "metadata": {},
          "execution_count": 6
        }
      ]
    },
    {
      "cell_type": "code",
      "source": [
        "with open('/content/rosalind_ba6b.txt') as task_file:\n",
        "  permutation = [line.rstrip() for line in task_file][0]\n",
        "permutation = permutation.replace('(',\"\")\n",
        "permutation = permutation.replace(')',\"\")\n",
        "permutation = permutation.split(' ')\n",
        "for i in range(len(permutation)):\n",
        "   permutation[i] = int(permutation[i])\n",
        "permutation.insert(0,0)\n",
        "permutation.append(len(permutation))"
      ],
      "metadata": {
        "id": "umE2xsFN6I_4"
      },
      "execution_count": 10,
      "outputs": []
    },
    {
      "cell_type": "code",
      "source": [
        "NumberOfBreakpoints(permutation)"
      ],
      "metadata": {
        "colab": {
          "base_uri": "https://localhost:8080/"
        },
        "id": "6hmmtzl-BfKq",
        "outputId": "3a5f7b2a-d03d-4a5c-e0d6-362dc0f2f462"
      },
      "execution_count": 15,
      "outputs": [
        {
          "output_type": "execute_result",
          "data": {
            "text/plain": [
              "92"
            ]
          },
          "metadata": {},
          "execution_count": 15
        }
      ]
    }
  ]
}