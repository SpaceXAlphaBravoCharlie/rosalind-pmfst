{
  "nbformat": 4,
  "nbformat_minor": 0,
  "metadata": {
    "colab": {
      "name": "BA2A.ipynb",
      "provenance": []
    },
    "kernelspec": {
      "name": "python3",
      "display_name": "Python 3"
    },
    "language_info": {
      "name": "python"
    }
  },
  "cells": [
    {
      "cell_type": "markdown",
      "source": [
        "ATT --> prvi kmer u prvom dna stringu\n",
        "\n",
        "CTT --> kmer u drugom dna stringu, HammingDistance(ATT, CTT) = 1\n",
        "\n",
        "ATC --> kmer u trećem dna stringu, HammingDistance(ATT, ATC) = 1\n",
        "\n",
        "AAT --> kmer u četvrtom dna stringu, HammingDistance(ATT, AAT) = 1\n",
        "\n",
        "Pitanje --> je li rješenje jedinstveno --> nije\n",
        "\n",
        "['TTT', 'CTT', 'TAT', 'ATT']\n",
        "\n",
        "TTT --> drugi kmer u prvom dna stringu\n",
        "\n",
        "CTT --> kmer u drugom dna stringu, HammingDistance(TTT, CTT) = 1\n",
        "\n",
        "TAT --> kmer u trećem dna stringu, HammingDistance(TTT, TAT) = 1\n",
        "\n",
        "ATT --> kmer u četvrtom dna stringu, HammingDistance(ATT, ATT) = 1\n",
        "\n"
      ],
      "metadata": {
        "id": "_kfQ-_yx5Iaz"
      }
    },
    {
      "cell_type": "markdown",
      "source": [
        " In contrast, a regulatory motif is a pattern that appears at least once\n",
        "(perhaps with variation) in each of many different regions that are scattered throughout the genome. --> dakle, regulatorni motiv je uzorak koji se pojavljuje barem jednom (možda i sa varijacijom) u svakoj od različitih regija koje su razbacane po genomu --> ako se regulatorni motiv (transcription factor binding site) pojavljuje više puta unutar genoma veća je vjerojatnost da će se regulatorni protein (transcription factor) vezati na genom"
      ],
      "metadata": {
        "id": "p7zR_fJXxtIR"
      }
    },
    {
      "cell_type": "code",
      "source": [
        "def FindAllKmers(genome,k):\n",
        "  kmers_list = []\n",
        "  i = 0\n",
        "  while i + k - 1 <= len(genome) - 1:\n",
        "    kmers_list.append(genome[i:i+k])\n",
        "    i = i + 1\n",
        "  return kmers_list"
      ],
      "metadata": {
        "id": "I6KzkVYABdwd"
      },
      "execution_count": 12,
      "outputs": []
    },
    {
      "cell_type": "code",
      "source": [
        "def HammingDistance(first_string, second_string):\n",
        "  hamming_distance = 0\n",
        "  for i in range(min(len(first_string),len(second_string))):\n",
        "    if first_string[i] != second_string[i]:\n",
        "      hamming_distance = hamming_distance + 1\n",
        "  return hamming_distance + abs(len(first_string) - len(second_string))"
      ],
      "metadata": {
        "id": "2_2mQFCZyRBf"
      },
      "execution_count": 13,
      "outputs": []
    },
    {
      "cell_type": "code",
      "source": [
        "def ChangeNucletoide(nucleotide):\n",
        "  if nucleotide == 'A':\n",
        "    return ['C', 'T', 'G']\n",
        "  elif nucleotide == 'C':\n",
        "    return ['A', 'T', 'G']\n",
        "  elif nucleotide == 'G':\n",
        "    return ['A', 'C', 'T']\n",
        "  else:\n",
        "    return ['A', 'C', 'G']"
      ],
      "metadata": {
        "id": "sYa0I43eutT5"
      },
      "execution_count": 14,
      "outputs": []
    },
    {
      "cell_type": "code",
      "source": [
        "def ImmediateNeigbors(pattern):\n",
        "  immediate_neighbors = []\n",
        "  for i in range(len(pattern)):\n",
        "    for new_value in ChangeNucletoide(pattern[i]):\n",
        "      pattern_copy = pattern.copy()\n",
        "      pattern_copy[i] = new_value\n",
        "      immediate_neighbors.append(pattern_copy)\n",
        "  return immediate_neighbors"
      ],
      "metadata": {
        "id": "poZtPCB7BEJ_"
      },
      "execution_count": 15,
      "outputs": []
    },
    {
      "cell_type": "code",
      "source": [
        "def ListToString(neighbors):\n",
        "  for i in range(len(neighbors)):\n",
        "    neighbors[i] = ''.join(neighbors[i])\n",
        "  return neighbors"
      ],
      "metadata": {
        "id": "j03WGimcBF2z"
      },
      "execution_count": 17,
      "outputs": []
    },
    {
      "cell_type": "code",
      "source": [
        "def StringToList(neighbors):\n",
        "  for i in range(len(neighbors)):\n",
        "    neighbors[i] = list(neighbors[i])\n",
        "  return neighbors"
      ],
      "metadata": {
        "id": "x3BdCm3_BGLu"
      },
      "execution_count": 18,
      "outputs": []
    },
    {
      "cell_type": "code",
      "source": [
        "def RemoveDuplicates(neighbors):\n",
        "  neighbors = ListToString(neighbors)\n",
        "  neighbors = set(neighbors)\n",
        "  neighbors = list(neighbors)\n",
        "  neighbors = StringToList(neighbors)\n",
        "  return neighbors"
      ],
      "metadata": {
        "id": "ysaMqrT9BJUx"
      },
      "execution_count": 19,
      "outputs": []
    },
    {
      "cell_type": "code",
      "source": [
        "def DNeighborhoodOfString(dna_string, d):\n",
        "  neighbors = [list(dna_string)]\n",
        "  for i in range(d):\n",
        "    new_neighbors_list = []\n",
        "    for neighbor in neighbors:\n",
        "      new_neighbors_list = (ImmediateNeigbors(neighbor))\n",
        "    neighbors.extend(new_neighbors_list)\n",
        "    neighbors = RemoveDuplicates(neighbors)\n",
        "  return neighbors"
      ],
      "metadata": {
        "id": "71NoUp8xBJl1"
      },
      "execution_count": 20,
      "outputs": []
    },
    {
      "cell_type": "code",
      "source": [
        "def MotifEnumeration(dna, k, d):\n",
        "  patterns = set()\n",
        "  for dna_string in dna:\n",
        "    for kmer in FindAllKmers(dna_string, k):\n",
        "      for kmer_neighbor in DNeighborhoodOfString(kmer, d):\n",
        "        kmer_neighbor = ''.join(kmer_neighbor)\n",
        "        counter = 0\n",
        "        for dna_string in dna:\n",
        "          for comparison_kmer in FindAllKmers(dna_string, k):\n",
        "            if HammingDistance(kmer_neighbor, comparison_kmer) <= d:\n",
        "              counter = counter + 1\n",
        "              break #we found the match in current dna_string --> break the for comparison_kmer in FindAllKmers(dna_string, k) loop --> go to another dna_string\n",
        "        if counter == len(dna):\n",
        "          patterns.add(kmer_neighbor)\n",
        "    return patterns"
      ],
      "metadata": {
        "id": "gydf4ZqML1FI"
      },
      "execution_count": 32,
      "outputs": []
    },
    {
      "cell_type": "code",
      "source": [
        "dna = ['ATTTGGC', 'TGCCTTA', 'CGGTATC', 'GAAAATT']"
      ],
      "metadata": {
        "id": "AwfeNpFXx7m5"
      },
      "execution_count": 69,
      "outputs": []
    },
    {
      "cell_type": "code",
      "source": [
        "k = 3"
      ],
      "metadata": {
        "id": "tC_v7t8_yB9X"
      },
      "execution_count": 70,
      "outputs": []
    },
    {
      "cell_type": "code",
      "source": [
        "d = 1"
      ],
      "metadata": {
        "id": "6x4VC4ZByD4e"
      },
      "execution_count": 71,
      "outputs": []
    },
    {
      "cell_type": "code",
      "source": [
        "MotifEnumeration(dna, k, d)"
      ],
      "metadata": {
        "colab": {
          "base_uri": "https://localhost:8080/"
        },
        "id": "jr9eP9yGHb9L",
        "outputId": "d976f5db-cd94-4c9c-dec1-5cd31d5f15e7"
      },
      "execution_count": 72,
      "outputs": [
        {
          "output_type": "execute_result",
          "data": {
            "text/plain": [
              "{'ATA', 'ATT', 'GTT', 'TTT'}"
            ]
          },
          "metadata": {},
          "execution_count": 72
        }
      ]
    },
    {
      "cell_type": "code",
      "source": [
        "for solution in sorted(MotifEnumeration(dna, k, d)):\n",
        "  print(solution)"
      ],
      "metadata": {
        "colab": {
          "base_uri": "https://localhost:8080/"
        },
        "id": "A90FVuXi10Zk",
        "outputId": "9f245166-4bdc-429f-f57e-a6b7333f5461"
      },
      "execution_count": 73,
      "outputs": [
        {
          "output_type": "stream",
          "name": "stdout",
          "text": [
            "ATA\n",
            "ATT\n",
            "GTT\n",
            "TTT\n"
          ]
        }
      ]
    },
    {
      "cell_type": "code",
      "source": [
        "with open('/content/rosalind_ba2a.txt') as task_file:\n",
        "  task_arguments = [line.rstrip() for line in task_file]"
      ],
      "metadata": {
        "id": "0JneVeBnCvxB"
      },
      "execution_count": 99,
      "outputs": []
    },
    {
      "cell_type": "code",
      "source": [
        "k = int(task_arguments[0][0])"
      ],
      "metadata": {
        "id": "bVD1jXzLDCdl"
      },
      "execution_count": 101,
      "outputs": []
    },
    {
      "cell_type": "code",
      "source": [
        "d = int(task_arguments[0][2])"
      ],
      "metadata": {
        "id": "ukzlFjEuDNTR"
      },
      "execution_count": 102,
      "outputs": []
    },
    {
      "cell_type": "code",
      "source": [
        "dna = task_arguments[1:len(task_arguments)]"
      ],
      "metadata": {
        "id": "9FrtiSdkDVOv"
      },
      "execution_count": 103,
      "outputs": []
    },
    {
      "cell_type": "code",
      "source": [
        "f = open(\"task_result.txt\", \"w\")\n",
        "for solution in sorted(MotifEnumeration(dna,k,d)):\n",
        "  f.write(solution + ' ')\n",
        "f.close()"
      ],
      "metadata": {
        "id": "t8mOZEkHDfVe"
      },
      "execution_count": 107,
      "outputs": []
    }
  ]
}