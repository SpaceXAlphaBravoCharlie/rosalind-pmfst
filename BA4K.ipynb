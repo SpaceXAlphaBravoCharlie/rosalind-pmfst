{
  "nbformat": 4,
  "nbformat_minor": 0,
  "metadata": {
    "colab": {
      "name": "BA4K.ipynb",
      "provenance": []
    },
    "kernelspec": {
      "name": "python3",
      "display_name": "Python 3"
    },
    "language_info": {
      "name": "python"
    }
  },
  "cells": [
    {
      "cell_type": "markdown",
      "source": [
        "To implement the TRIM function in LEADERBOARDCYCLOPEPTIDESEQUENCING,\n",
        "we first will generate the theoretical spectra of all linear peptides from Leaderboard. Then, we will compute the scores of each theoretical spectrum against an experimental spectrum Spectrum"
      ],
      "metadata": {
        "id": "Bkf4zd2nVKRC"
      }
    },
    {
      "cell_type": "code",
      "source": [
        "def FindAllKmers(peptide,k):\n",
        "  kmers_list = []\n",
        "  i = 0\n",
        "  while i + k - 1 <= len(peptide)-1:\n",
        "    kmers_list.append(peptide[i:i+k])\n",
        "    i = i + 1\n",
        "  return kmers_list"
      ],
      "metadata": {
        "id": "9ZRN-knxWHqp"
      },
      "execution_count": 83,
      "outputs": []
    },
    {
      "cell_type": "code",
      "source": [
        "def GenerateAllSubpeptides(peptide):\n",
        "  subpeptides = []\n",
        "  for subpeptide_length in range(1,len(peptide)):\n",
        "    subpeptides.extend(FindAllKmers(peptide,subpeptide_length))\n",
        "  subpeptides.append(peptide)\n",
        "  return subpeptides"
      ],
      "metadata": {
        "id": "koS1qacPWIM1"
      },
      "execution_count": 84,
      "outputs": []
    },
    {
      "cell_type": "code",
      "source": [
        "aminoacids_integer_masses_dict = {'A':71.03711,\n",
        "'R':156.10111,\n",
        "'N':114.04293,\n",
        "'D':115.02694,\n",
        "'C':103.00919,\n",
        "'E':129.04259,\n",
        "'Q':128.05858,\n",
        "'G':57.02146,\n",
        "'H':137.05891,\n",
        "'I':113.08406,\n",
        "'L':113.08406,\n",
        "'K':128.09496,\n",
        "'M':131.04049,\n",
        "'F':147.06841,\n",
        "'P':97.05276,\n",
        "'S':87.03203,\n",
        "'T':101.04768,\n",
        "'W':186.07931,\n",
        "'Y':163.06333,\n",
        "'V':99.06841}"
      ],
      "metadata": {
        "id": "NG-O1wh9aHPf"
      },
      "execution_count": 85,
      "outputs": []
    },
    {
      "cell_type": "code",
      "source": [
        "for key in aminoacids_integer_masses_dict:\n",
        "  aminoacids_integer_masses_dict[key] = int(aminoacids_integer_masses_dict[key])"
      ],
      "metadata": {
        "id": "vzD_DqSVaJfF"
      },
      "execution_count": 86,
      "outputs": []
    },
    {
      "cell_type": "code",
      "source": [
        "def SubpeptideMass(subpeptide):\n",
        "  mass = 0\n",
        "  for aminoacid in subpeptide:\n",
        "    mass = mass + aminoacids_integer_masses_dict[aminoacid]\n",
        "  return mass"
      ],
      "metadata": {
        "id": "tdwZ_kLAZjMM"
      },
      "execution_count": 87,
      "outputs": []
    },
    {
      "cell_type": "code",
      "source": [
        "def LinearSpectrum(peptide):\n",
        "  theoretical_linear_spectrum = [0]\n",
        "  for subpeptide in GenerateAllSubpeptides(peptide):\n",
        "    theoretical_linear_spectrum.append(SubpeptideMass(subpeptide))\n",
        "  return theoretical_linear_spectrum"
      ],
      "metadata": {
        "id": "GRNlcje5WKVS"
      },
      "execution_count": 88,
      "outputs": []
    },
    {
      "cell_type": "code",
      "source": [
        "from collections import Counter"
      ],
      "metadata": {
        "id": "ICgSLS-XafEx"
      },
      "execution_count": 89,
      "outputs": []
    },
    {
      "cell_type": "code",
      "source": [
        "def LinearPeptideScoring(peptide,spectrum): #the score is computed for spectrum against peptide's theoretical spectrum\n",
        "  peptide_theoretical_spectrum = LinearSpectrum(peptide)\n",
        "  peptide_theoretical_spectrum_counter_dict = Counter(peptide_theoretical_spectrum)\n",
        "  spectrum_counter_dict = Counter(spectrum)\n",
        "  score = 0\n",
        "  scored_aminoacid_integer_masses = []\n",
        "  for aminoacid_integer_mass in spectrum:\n",
        "    if aminoacid_integer_mass not in scored_aminoacid_integer_masses:\n",
        "      if spectrum_counter_dict[aminoacid_integer_mass] == peptide_theoretical_spectrum_counter_dict[aminoacid_integer_mass]:\n",
        "        score = score + spectrum_counter_dict[aminoacid_integer_mass]\n",
        "        scored_aminoacid_integer_masses.append(aminoacid_integer_mass)\n",
        "      elif spectrum_counter_dict[aminoacid_integer_mass] > peptide_theoretical_spectrum_counter_dict[aminoacid_integer_mass]:\n",
        "        if peptide_theoretical_spectrum_counter_dict[aminoacid_integer_mass] > 0: #if peptide_theoretical_spectrum_counter_dict[aminoacid_integer_mass] > 0 then there are surpluss occurences of same mass in experimental spectrum\n",
        "          score = score + peptide_theoretical_spectrum_counter_dict[aminoacid_integer_mass]\n",
        "          scored_aminoacid_integer_masses.append(aminoacid_integer_mass)\n",
        "      else: #spectrum_counter_dict[aminoacid_integer_mass] < peptide_theoretical_spectrum_counter_dict[aminoacid_integer_mass] --> there are surpluss occurences of same mass in theoretical spectrum\n",
        "        if spectrum_counter_dict[aminoacid_integer_mass] > 0:\n",
        "          score = score + spectrum_counter_dict[aminoacid_integer_mass]\n",
        "          scored_aminoacid_integer_masses.append(aminoacid_integer_mass)\n",
        "  return score"
      ],
      "metadata": {
        "id": "4Zh-5aRPVBUi"
      },
      "execution_count": 90,
      "outputs": []
    },
    {
      "cell_type": "code",
      "source": [
        "peptide = 'NQEL'"
      ],
      "metadata": {
        "id": "5R_SCJ-jVdNW"
      },
      "execution_count": 95,
      "outputs": []
    },
    {
      "cell_type": "code",
      "source": [
        "linear_spectrum = [0, 99, 113, 114, 128, 227, 257, 299, 355, 356, 370, 371, 484] #spectrum of linear peptide"
      ],
      "metadata": {
        "id": "-mMVAM2KVfWt"
      },
      "execution_count": 96,
      "outputs": []
    },
    {
      "cell_type": "code",
      "source": [
        "LinearPeptideScoring(peptide,linear_spectrum)"
      ],
      "metadata": {
        "colab": {
          "base_uri": "https://localhost:8080/"
        },
        "id": "VPeJhA5FXcyM",
        "outputId": "b71c056d-415a-43b9-a8b3-8edb30c6448e"
      },
      "execution_count": 97,
      "outputs": [
        {
          "output_type": "execute_result",
          "data": {
            "text/plain": [
              "8"
            ]
          },
          "metadata": {},
          "execution_count": 97
        }
      ]
    },
    {
      "cell_type": "code",
      "source": [
        "with open('/content/rosalind_ba4k.txt') as task_file:\n",
        "  linear_spectrum = [line.rstrip() for line in task_file]"
      ],
      "metadata": {
        "id": "_2b2Ig-NatjZ"
      },
      "execution_count": 99,
      "outputs": []
    },
    {
      "cell_type": "code",
      "source": [
        "linear_spectrum = linear_spectrum[0]"
      ],
      "metadata": {
        "id": "f_mxsMOTat87"
      },
      "execution_count": 100,
      "outputs": []
    },
    {
      "cell_type": "code",
      "source": [
        "linear_spectrum = linear_spectrum.split(' ')"
      ],
      "metadata": {
        "id": "QXq1cfZzavkO"
      },
      "execution_count": 101,
      "outputs": []
    },
    {
      "cell_type": "code",
      "source": [
        "for i in range(len(linear_spectrum)):\n",
        "  linear_spectrum[i] = int(linear_spectrum[i])"
      ],
      "metadata": {
        "id": "iBeCmLbcaxoE"
      },
      "execution_count": 102,
      "outputs": []
    },
    {
      "cell_type": "code",
      "source": [
        "peptide = 'WMVGFVNMRMSNCQRAKVVKHHSTNPQYACWQAIAGV'"
      ],
      "metadata": {
        "id": "ggZw5THwazaI"
      },
      "execution_count": 98,
      "outputs": []
    },
    {
      "cell_type": "code",
      "source": [
        "LinearPeptideScoring(peptide,linear_spectrum)"
      ],
      "metadata": {
        "colab": {
          "base_uri": "https://localhost:8080/"
        },
        "id": "Msq42SakbKC3",
        "outputId": "460d7bd7-7afa-44f2-bddd-83e6e53cb255"
      },
      "execution_count": 104,
      "outputs": [
        {
          "output_type": "execute_result",
          "data": {
            "text/plain": [
              "199"
            ]
          },
          "metadata": {},
          "execution_count": 104
        }
      ]
    }
  ]
}