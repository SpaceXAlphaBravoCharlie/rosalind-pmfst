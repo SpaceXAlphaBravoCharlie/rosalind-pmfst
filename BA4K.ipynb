{
  "nbformat": 4,
  "nbformat_minor": 0,
  "metadata": {
    "colab": {
      "name": "BA4K.ipynb",
      "provenance": []
    },
    "kernelspec": {
      "name": "python3",
      "display_name": "Python 3"
    },
    "language_info": {
      "name": "python"
    }
  },
  "cells": [
    {
      "cell_type": "code",
      "source": [
        "aminoacids_integer_masses_dict = {'A':71.03711,\n",
        "'R':156.10111,\n",
        "'N':114.04293,\n",
        "'D':115.02694,\n",
        "'C':103.00919,\n",
        "'E':129.04259,\n",
        "'Q':128.05858,\n",
        "'G':57.02146,\n",
        "'H':137.05891,\n",
        "'I':113.08406,\n",
        "'L':113.08406,\n",
        "'K':128.09496,\n",
        "'M':131.04049,\n",
        "'F':147.06841,\n",
        "'P':97.05276,\n",
        "'S':87.03203,\n",
        "'T':101.04768,\n",
        "'W':186.07931,\n",
        "'Y':163.06333,\n",
        "'V':99.06841}"
      ],
      "metadata": {
        "id": "NG-O1wh9aHPf"
      },
      "execution_count": 1,
      "outputs": []
    },
    {
      "cell_type": "code",
      "source": [
        "for key in aminoacids_integer_masses_dict:\n",
        "  aminoacids_integer_masses_dict[key] = int(aminoacids_integer_masses_dict[key])"
      ],
      "metadata": {
        "id": "vzD_DqSVaJfF"
      },
      "execution_count": 2,
      "outputs": []
    },
    {
      "cell_type": "code",
      "source": [
        "def FindAllKmers(peptide,k):\n",
        "  kmers_list = []\n",
        "  i = 0\n",
        "  while i + k - 1 <= len(peptide)-1:\n",
        "    kmers_list.append(peptide[i:i+k])\n",
        "    i = i + 1\n",
        "  return kmers_list"
      ],
      "metadata": {
        "id": "jMA0O5ubTJD1"
      },
      "execution_count": 3,
      "outputs": []
    },
    {
      "cell_type": "code",
      "source": [
        "def GenerateAllSubpeptides(peptide):\n",
        "  subpeptides = []\n",
        "  for subpeptide_length in range(1,len(peptide)):\n",
        "    subpeptides.extend(FindAllKmers(peptide,subpeptide_length))\n",
        "  subpeptides.append(peptide)\n",
        "  return subpeptides"
      ],
      "metadata": {
        "id": "E6cVCs4bTAFv"
      },
      "execution_count": 4,
      "outputs": []
    },
    {
      "cell_type": "code",
      "source": [
        "def SubpeptideMass(subpeptide):\n",
        "  mass = 0\n",
        "  for aminoacid in subpeptide:\n",
        "    mass = mass + aminoacids_integer_masses_dict[aminoacid]\n",
        "  return mass"
      ],
      "metadata": {
        "id": "y2pleUsbTDIk"
      },
      "execution_count": 5,
      "outputs": []
    },
    {
      "cell_type": "code",
      "source": [
        "def LinearSpectrum(peptide):\n",
        "  theoretical_linear_spectrum = [0]\n",
        "  for subpeptide in GenerateAllSubpeptides(peptide):\n",
        "    theoretical_linear_spectrum.append(SubpeptideMass(subpeptide))\n",
        "  return theoretical_linear_spectrum"
      ],
      "metadata": {
        "id": "-qhklLm5TElr"
      },
      "execution_count": 7,
      "outputs": []
    },
    {
      "cell_type": "code",
      "source": [
        "from collections import Counter"
      ],
      "metadata": {
        "id": "ICgSLS-XafEx"
      },
      "execution_count": 8,
      "outputs": []
    },
    {
      "cell_type": "markdown",
      "source": [
        "Given a cyclic peptide Peptide and a spectrum Spectrum, we define SCORE(Peptide, Spectrum) as the number of masses shared between\n",
        "CYCLOSPECTRUM(Peptide) and Spectrum"
      ],
      "metadata": {
        "id": "mC1TYNepTSgn"
      }
    },
    {
      "cell_type": "code",
      "source": [
        "def LinearPeptideScoring(peptide,spectrum): #the score is computed for spectrum against peptide's theoretical spectrum --> spectrum is experimental spectrum\n",
        "  peptide_theoretical_spectrum = LinearSpectrum(peptide)\n",
        "  peptide_theoretical_spectrum_counter_dict = Counter(peptide_theoretical_spectrum)\n",
        "  spectrum_counter_dict = Counter(spectrum)\n",
        "  score = 0\n",
        "  scored_aminoacid_integer_masses = []\n",
        "  for aminoacid_integer_mass in spectrum:\n",
        "    if aminoacid_integer_mass not in scored_aminoacid_integer_masses:\n",
        "      if spectrum_counter_dict[aminoacid_integer_mass] == peptide_theoretical_spectrum_counter_dict[aminoacid_integer_mass]:\n",
        "        score = score + spectrum_counter_dict[aminoacid_integer_mass]\n",
        "        scored_aminoacid_integer_masses.append(aminoacid_integer_mass)\n",
        "      elif spectrum_counter_dict[aminoacid_integer_mass] > peptide_theoretical_spectrum_counter_dict[aminoacid_integer_mass]:\n",
        "        if peptide_theoretical_spectrum_counter_dict[aminoacid_integer_mass] > 0: #if peptide_theoretical_spectrum_counter_dict[aminoacid_integer_mass] > 0 then there are surpluss occurences of same mass in experimental spectrum\n",
        "          score = score + peptide_theoretical_spectrum_counter_dict[aminoacid_integer_mass]\n",
        "          scored_aminoacid_integer_masses.append(aminoacid_integer_mass)\n",
        "      else: #spectrum_counter_dict[aminoacid_integer_mass] < peptide_theoretical_spectrum_counter_dict[aminoacid_integer_mass] --> there are surpluss occurences of same mass in theoretical spectrum\n",
        "        score = score + spectrum_counter_dict[aminoacid_integer_mass]\n",
        "        scored_aminoacid_integer_masses.append(aminoacid_integer_mass)\n",
        "  return score"
      ],
      "metadata": {
        "id": "4Zh-5aRPVBUi"
      },
      "execution_count": 13,
      "outputs": []
    },
    {
      "cell_type": "code",
      "source": [
        "peptide = 'NQEL'"
      ],
      "metadata": {
        "id": "5R_SCJ-jVdNW"
      },
      "execution_count": 14,
      "outputs": []
    },
    {
      "cell_type": "code",
      "source": [
        "linear_spectrum = [0, 99, 113, 114, 128, 227, 257, 299, 355, 356, 370, 371, 484] #spectrum of linear peptide"
      ],
      "metadata": {
        "id": "-mMVAM2KVfWt"
      },
      "execution_count": 15,
      "outputs": []
    },
    {
      "cell_type": "code",
      "source": [
        "LinearPeptideScoring(peptide,linear_spectrum)"
      ],
      "metadata": {
        "colab": {
          "base_uri": "https://localhost:8080/"
        },
        "id": "VPeJhA5FXcyM",
        "outputId": "8b7b7fef-13fe-4352-949e-7d5a3862ce79"
      },
      "execution_count": 16,
      "outputs": [
        {
          "output_type": "execute_result",
          "data": {
            "text/plain": [
              "8"
            ]
          },
          "metadata": {},
          "execution_count": 16
        }
      ]
    },
    {
      "cell_type": "code",
      "source": [
        "with open('/content/rosalind_ba4k.txt') as task_file:\n",
        "  task_arguments = [line.rstrip() for line in task_file]"
      ],
      "metadata": {
        "id": "UF9f291JUBxw"
      },
      "execution_count": 17,
      "outputs": []
    },
    {
      "cell_type": "code",
      "source": [
        "peptide = task_arguments[0]"
      ],
      "metadata": {
        "id": "jhL9XV55UEu-"
      },
      "execution_count": 19,
      "outputs": []
    },
    {
      "cell_type": "code",
      "source": [
        "linear_spectrum = task_arguments[1]\n",
        "linear_spectrum = linear_spectrum.split(' ')\n",
        "for i in range(len(linear_spectrum)):\n",
        "  linear_spectrum[i] = int(linear_spectrum[i])"
      ],
      "metadata": {
        "id": "f_mxsMOTat87"
      },
      "execution_count": 20,
      "outputs": []
    },
    {
      "cell_type": "code",
      "source": [
        "f = open(\"task_result.txt\",\"w\")\n",
        "f.write(str(LinearPeptideScoring(peptide,linear_spectrum)))\n",
        "f.close()"
      ],
      "metadata": {
        "id": "Msq42SakbKC3"
      },
      "execution_count": 23,
      "outputs": []
    }
  ]
}