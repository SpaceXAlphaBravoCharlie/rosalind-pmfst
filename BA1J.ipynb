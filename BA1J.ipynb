{
  "nbformat": 4,
  "nbformat_minor": 0,
  "metadata": {
    "colab": {
      "name": "BA1J.ipynb",
      "provenance": []
    },
    "kernelspec": {
      "name": "python3",
      "display_name": "Python 3"
    },
    "language_info": {
      "name": "python"
    }
  },
  "cells": [
    {
      "cell_type": "code",
      "source": [
        "from itertools import product"
      ],
      "metadata": {
        "id": "iutPbr3VFaye"
      },
      "execution_count": 66,
      "outputs": []
    },
    {
      "cell_type": "code",
      "source": [
        "def HammingDistance(first_string, second_string):\n",
        "  hamming_distance = 0\n",
        "  for i in range(min(len(first_string),len(second_string))):\n",
        "    if first_string[i] != second_string[i]:\n",
        "      hamming_distance = hamming_distance + 1\n",
        "  return hamming_distance + abs(len(first_string) - len(second_string))"
      ],
      "metadata": {
        "id": "_K8OBqP3vfUn"
      },
      "execution_count": 50,
      "outputs": []
    },
    {
      "cell_type": "code",
      "source": [
        "def FindAllKmers(text,k):\n",
        "  kmers_list = []\n",
        "  i = 0\n",
        "  while i + k - 1 <= len(text) - 1:\n",
        "    kmers_list.append(text[i:i+k])\n",
        "    i = i + 1\n",
        "  return kmers_list"
      ],
      "metadata": {
        "id": "Q3xHfG7aFygx"
      },
      "execution_count": 51,
      "outputs": []
    },
    {
      "cell_type": "code",
      "source": [
        "def GenerateAllKmers(k):\n",
        "  sets_for_product = k * [['A','C','G','T']]\n",
        "  return list(product(*sets_for_product))"
      ],
      "metadata": {
        "id": "AILHaItXGf6T"
      },
      "execution_count": 52,
      "outputs": []
    },
    {
      "cell_type": "code",
      "source": [
        "def ComplementaryBase(base):\n",
        "  if base == 'A':\n",
        "    return 'T'\n",
        "  elif base == 'C':\n",
        "    return 'G'\n",
        "  elif base == 'G':\n",
        "    return 'C'\n",
        "  else:\n",
        "    return 'A'"
      ],
      "metadata": {
        "id": "6jWFmPDlq0bU"
      },
      "execution_count": 53,
      "outputs": []
    },
    {
      "cell_type": "code",
      "source": [
        "def ReverseComplement(pattern):\n",
        "  reverse_complement = str()\n",
        "  for nucleotide in pattern:\n",
        "    reverse_complement = reverse_complement + ComplementaryBase(nucleotide)\n",
        "  return reverse_complement[::-1]"
      ],
      "metadata": {
        "id": "6gOAZkRPqvQt"
      },
      "execution_count": 54,
      "outputs": []
    },
    {
      "cell_type": "markdown",
      "source": [
        "Return: All k-mers Pattern maximizing the sum Countd(Text, Pattern) + Countd(Text, Pattern reverse complement) over all possible k-mers."
      ],
      "metadata": {
        "id": "v6n6EHbitnKW"
      }
    },
    {
      "cell_type": "code",
      "source": [
        "def FrequentWordWithMismatchesAndReverseComplements(text,k,d):\n",
        "  most_frequent_kmers_dict = {}\n",
        "  for kmer in GenerateAllKmers(k):\n",
        "    kmer = ''.join(kmer)\n",
        "    kmer_reverse_complement = ReverseComplement(kmer)\n",
        "    most_frequent_kmers_dict.update({kmer:0})\n",
        "    for text_kmer in FindAllKmers(text,k):\n",
        "      if HammingDistance(kmer,text_kmer) <= d: #if and if satisfied if kmer = kmer_reverse_complement\n",
        "        most_frequent_kmers_dict[kmer] = most_frequent_kmers_dict[kmer] + 1\n",
        "      if HammingDistance(kmer_reverse_complement,text_kmer) <= d:\n",
        "        most_frequent_kmers_dict[kmer] = most_frequent_kmers_dict[kmer] + 1\n",
        "  return most_frequent_kmers_dict"
      ],
      "metadata": {
        "id": "8hxZ9hNaFy7O"
      },
      "execution_count": 55,
      "outputs": []
    },
    {
      "cell_type": "code",
      "source": [
        "def ReturnMostFrequntKmers(most_frequent_kmers_dict):\n",
        "  most_frequent_kmers = []\n",
        "  sorted_tuples = sorted(most_frequent_kmers_dict.items(), key=lambda x:x[1], reverse=True)\n",
        "  for i in range(len(sorted_tuples)):\n",
        "    if sorted_tuples[i][1] == sorted_tuples[0][1]:\n",
        "      most_frequent_kmers.append(sorted_tuples[i][0])\n",
        "  return most_frequent_kmers"
      ],
      "metadata": {
        "id": "GGwsZtE9mEc3"
      },
      "execution_count": 56,
      "outputs": []
    },
    {
      "cell_type": "code",
      "source": [
        "k = 4"
      ],
      "metadata": {
        "id": "VmpmbJ8GFcjp"
      },
      "execution_count": 57,
      "outputs": []
    },
    {
      "cell_type": "code",
      "source": [
        "d = 1"
      ],
      "metadata": {
        "id": "UsHdk4O9FfF9"
      },
      "execution_count": 58,
      "outputs": []
    },
    {
      "cell_type": "code",
      "source": [
        "text = 'ACGTTGCATGTCGCATGATGCATGAGAGCT'"
      ],
      "metadata": {
        "id": "f5lG5IH9H3U-"
      },
      "execution_count": 59,
      "outputs": []
    },
    {
      "cell_type": "code",
      "source": [
        "for solution in ReturnMostFrequntKmers(FrequentWordWithMismatchesAndReverseComplements(text,k,d)):\n",
        "  print(solution)"
      ],
      "metadata": {
        "colab": {
          "base_uri": "https://localhost:8080/"
        },
        "id": "Kpxc1AtpH5zd",
        "outputId": "e1a17e2f-d678-49ac-8eed-6ef637bf0623"
      },
      "execution_count": 60,
      "outputs": [
        {
          "output_type": "stream",
          "name": "stdout",
          "text": [
            "ACAT\n",
            "ATGT\n"
          ]
        }
      ]
    },
    {
      "cell_type": "code",
      "source": [
        "k = 5"
      ],
      "metadata": {
        "id": "XuIuE8w9m3he"
      },
      "execution_count": 67,
      "outputs": []
    },
    {
      "cell_type": "code",
      "source": [
        "d = 2"
      ],
      "metadata": {
        "id": "xlsi_cinm4zE"
      },
      "execution_count": 68,
      "outputs": []
    },
    {
      "cell_type": "code",
      "source": [
        "with open('/content/rosalind_ba1j.txt') as task_file:\n",
        "  text = [line.rstrip() for line in task_file]\n",
        "text = text[0]"
      ],
      "metadata": {
        "id": "ktLjnZDYm5Uw"
      },
      "execution_count": 69,
      "outputs": []
    },
    {
      "cell_type": "code",
      "source": [
        "f = open(\"task_result.txt\", \"w\")\n",
        "for solution in ReturnMostFrequntKmers(FrequentWordWithMismatchesAndReverseComplements(text,k,d)):\n",
        "  f.write(str(solution) + '\\n')\n",
        "f.close()"
      ],
      "metadata": {
        "id": "OkinD3tNnHqG"
      },
      "execution_count": 71,
      "outputs": []
    }
  ]
}