{
  "nbformat": 4,
  "nbformat_minor": 0,
  "metadata": {
    "colab": {
      "name": "BA2C.ipynb",
      "provenance": []
    },
    "kernelspec": {
      "name": "python3",
      "display_name": "Python 3"
    },
    "language_info": {
      "name": "python"
    }
  },
  "cells": [
    {
      "cell_type": "code",
      "execution_count": 5,
      "metadata": {
        "id": "ggdTuvBMdBsi"
      },
      "outputs": [],
      "source": [
        "import numpy as np"
      ]
    },
    {
      "cell_type": "code",
      "source": [
        "def KmerProbability(profile, kmer):\n",
        "  probability = 1\n",
        "  for nucleotide in enumerate(kmer):\n",
        "    probability = probability * profile[NucleotideIndex(nucleotide[1]), nucleotide[0]]\n",
        "  return probability"
      ],
      "metadata": {
        "id": "F_ieyWzDdU3d"
      },
      "execution_count": 34,
      "outputs": []
    },
    {
      "cell_type": "code",
      "source": [
        "def NucleotideIndex(nucleotide):\n",
        "  if nucleotide == 'A':\n",
        "    return 0\n",
        "  elif nucleotide == 'C':\n",
        "    return 1\n",
        "  elif nucleotide == 'G':\n",
        "    return 2\n",
        "  else:\n",
        "    return 3"
      ],
      "metadata": {
        "id": "_KcYmg7AildW"
      },
      "execution_count": 35,
      "outputs": []
    },
    {
      "cell_type": "code",
      "source": [
        "def FindAllKmers(dna_string, k):\n",
        "  kmers_list = []\n",
        "  for kmer_end_index in range(k - 1, len(dna_string)):\n",
        "    kmers_list.append(dna_string[kmer_end_index + 1 - k:kmer_end_index + 1])\n",
        "  return kmers_list"
      ],
      "metadata": {
        "id": "FAhKgHK3h4Ib"
      },
      "execution_count": 36,
      "outputs": []
    },
    {
      "cell_type": "code",
      "source": [
        "def ProfileMostProbableKmer(text, k, profile):\n",
        "  highest_probability = 0\n",
        "  profile_most_probable_kmer = str()\n",
        "  for kmer in FindAllKmers(text, k):\n",
        "    if highest_probability < KmerProbability(profile, kmer):\n",
        "      highest_probability = KmerProbability(profile, kmer)\n",
        "      profile_most_probable_kmer = kmer\n",
        "  return profile_most_probable_kmer"
      ],
      "metadata": {
        "id": "4L_LQ6rlduVz"
      },
      "execution_count": 51,
      "outputs": []
    },
    {
      "cell_type": "code",
      "source": [
        "text = 'ACCTGTTTATTGCCTAAGTTCCGAACAAACCCAATATAGCCCGAGGGCCT'"
      ],
      "metadata": {
        "id": "Trq9mFAEd-Ui"
      },
      "execution_count": 45,
      "outputs": []
    },
    {
      "cell_type": "code",
      "source": [
        "k = 5"
      ],
      "metadata": {
        "id": "oZwZwUdqeBWm"
      },
      "execution_count": 46,
      "outputs": []
    },
    {
      "cell_type": "code",
      "source": [
        "profile_values = [\n",
        "0.2, 0.2, 0.3, 0.2, 0.3,\n",
        "0.4, 0.3, 0.1, 0.5, 0.1,\n",
        "0.3, 0.3, 0.5, 0.2, 0.4,\n",
        "0.1, 0.2, 0.1, 0.1, 0.2\n",
        "]"
      ],
      "metadata": {
        "id": "eKNdeydHeUaK"
      },
      "execution_count": 47,
      "outputs": []
    },
    {
      "cell_type": "code",
      "source": [
        "profile = np.full((4,k), np.reshape(profile_values, (4,k)))"
      ],
      "metadata": {
        "id": "t9b3dQcbeC5o"
      },
      "execution_count": 48,
      "outputs": []
    },
    {
      "cell_type": "code",
      "source": [
        "profile"
      ],
      "metadata": {
        "colab": {
          "base_uri": "https://localhost:8080/"
        },
        "id": "BBl_gTH_hrGT",
        "outputId": "2e69a6df-16dc-47b0-bcdc-e752733c2996"
      },
      "execution_count": 49,
      "outputs": [
        {
          "output_type": "execute_result",
          "data": {
            "text/plain": [
              "array([[0.2, 0.2, 0.3, 0.2, 0.3],\n",
              "       [0.4, 0.3, 0.1, 0.5, 0.1],\n",
              "       [0.3, 0.3, 0.5, 0.2, 0.4],\n",
              "       [0.1, 0.2, 0.1, 0.1, 0.2]])"
            ]
          },
          "metadata": {},
          "execution_count": 49
        }
      ]
    },
    {
      "cell_type": "code",
      "source": [
        "ProfileMostProbableKmer(text, k, profile)"
      ],
      "metadata": {
        "colab": {
          "base_uri": "https://localhost:8080/",
          "height": 35
        },
        "id": "WnbWo4Mbitn7",
        "outputId": "9d8d9484-688e-4494-95fe-941ddeb96bc4"
      },
      "execution_count": 52,
      "outputs": [
        {
          "output_type": "execute_result",
          "data": {
            "text/plain": [
              "'CCGAG'"
            ],
            "application/vnd.google.colaboratory.intrinsic+json": {
              "type": "string"
            }
          },
          "metadata": {},
          "execution_count": 52
        }
      ]
    },
    {
      "cell_type": "code",
      "source": [
        "text = 'CGGATGAGCTCCAGAACTGATCCTGTAGCTAAGCCGAGTAGCACGAACAAACCGAGGAGCACTGGGAACTGAGCTTACTGCCGAAGTATCACGCTACAGATGCTCATGTTTCATCGCCACAGCAGACCGCTAGTGACGACTCGAGGCGTCGCTCCCAAGCAGTGTAAAGTGCTGGTCCCACCCATTACCGGATCCCCTGG'"
      ],
      "metadata": {
        "id": "hjz0Sd9qjXG3"
      },
      "execution_count": 53,
      "outputs": []
    },
    {
      "cell_type": "code",
      "source": [
        "k = 7"
      ],
      "metadata": {
        "id": "6XnAUZawjc4d"
      },
      "execution_count": 54,
      "outputs": []
    },
    {
      "cell_type": "code",
      "source": [
        "profile_values = [\n",
        "0.179, 0.214, 0.107, 0.25, 0.179, 0.357, 0.321,\n",
        "0.357, 0.214, 0.357, 0.214, 0.357, 0.143, 0.393,\n",
        "0.179, 0.321, 0.214, 0.214, 0.179, 0.286, 0.179,\n",
        "0.286, 0.25, 0.321, 0.321, 0.286, 0.214, 0.107\n",
        "]"
      ],
      "metadata": {
        "id": "b8uFuAtHjfSw"
      },
      "execution_count": 55,
      "outputs": []
    },
    {
      "cell_type": "code",
      "source": [
        "profile = np.full((4,k), np.reshape(profile_values, (4,k)))"
      ],
      "metadata": {
        "id": "_jb_NQeDjqiD"
      },
      "execution_count": 56,
      "outputs": []
    },
    {
      "cell_type": "code",
      "source": [
        "profile"
      ],
      "metadata": {
        "colab": {
          "base_uri": "https://localhost:8080/"
        },
        "id": "_2lWBGw_jsSR",
        "outputId": "774af145-f609-4d1a-d1ba-ba67d7f41fde"
      },
      "execution_count": 57,
      "outputs": [
        {
          "output_type": "execute_result",
          "data": {
            "text/plain": [
              "array([[0.179, 0.214, 0.107, 0.25 , 0.179, 0.357, 0.321],\n",
              "       [0.357, 0.214, 0.357, 0.214, 0.357, 0.143, 0.393],\n",
              "       [0.179, 0.321, 0.214, 0.214, 0.179, 0.286, 0.179],\n",
              "       [0.286, 0.25 , 0.321, 0.321, 0.286, 0.214, 0.107]])"
            ]
          },
          "metadata": {},
          "execution_count": 57
        }
      ]
    },
    {
      "cell_type": "code",
      "source": [
        "ProfileMostProbableKmer(text, k, profile)"
      ],
      "metadata": {
        "colab": {
          "base_uri": "https://localhost:8080/",
          "height": 35
        },
        "id": "goxF5aGAjtZV",
        "outputId": "35e7e620-77f6-4e62-a42c-0b6e1310b173"
      },
      "execution_count": 58,
      "outputs": [
        {
          "output_type": "execute_result",
          "data": {
            "text/plain": [
              "'CTCCCAA'"
            ],
            "application/vnd.google.colaboratory.intrinsic+json": {
              "type": "string"
            }
          },
          "metadata": {},
          "execution_count": 58
        }
      ]
    },
    {
      "cell_type": "code",
      "source": [
        "text = 'TCCCTACGTCTTAGACGAGTCAAGGCCTTCGTTAGAGAGCAACGGAGTTAAATATTAATATTACAAACCTCGCCCCAGCCTTCGCCAATTACGATAGACGGGCAGTGGTTGGAGGAAAAATATTAGAGACCACACCAAGCGTTGTTAAGTGTCGATAAGAAGTATCGGGATAACTTATTGATTCGTTTTCTAGCTCAACT'"
      ],
      "metadata": {
        "id": "n6f5Roh-j795"
      },
      "execution_count": 59,
      "outputs": []
    },
    {
      "cell_type": "code",
      "source": [
        "k = 6"
      ],
      "metadata": {
        "id": "lIqYMWeBj9Hv"
      },
      "execution_count": 60,
      "outputs": []
    },
    {
      "cell_type": "code",
      "source": [
        "profile_values = [\n",
        "0.303, 0.364, 0.303, 0.242, 0.303, 0.273,\n",
        "0.182, 0.303, 0.212, 0.212, 0.212, 0.212,\n",
        "0.303, 0.152, 0.212, 0.485, 0.333, 0.333,\n",
        "0.212, 0.182, 0.273, 0.061, 0.152, 0.182\n",
        "]"
      ],
      "metadata": {
        "id": "3LdtnBhqj--h"
      },
      "execution_count": 61,
      "outputs": []
    },
    {
      "cell_type": "code",
      "source": [
        "profile = np.full((4,k), np.reshape(profile_values, (4,k)))"
      ],
      "metadata": {
        "id": "A9BEB-W3kP5T"
      },
      "execution_count": 62,
      "outputs": []
    },
    {
      "cell_type": "code",
      "source": [
        "profile"
      ],
      "metadata": {
        "id": "opBHrxFXkRgW",
        "outputId": "14413f36-de30-4c36-b0a2-91f1cdfc2a1b",
        "colab": {
          "base_uri": "https://localhost:8080/"
        }
      },
      "execution_count": 63,
      "outputs": [
        {
          "output_type": "execute_result",
          "data": {
            "text/plain": [
              "array([[0.303, 0.364, 0.303, 0.242, 0.303, 0.273],\n",
              "       [0.182, 0.303, 0.212, 0.212, 0.212, 0.212],\n",
              "       [0.303, 0.152, 0.212, 0.485, 0.333, 0.333],\n",
              "       [0.212, 0.182, 0.273, 0.061, 0.152, 0.182]])"
            ]
          },
          "metadata": {},
          "execution_count": 63
        }
      ]
    },
    {
      "cell_type": "code",
      "source": [
        "ProfileMostProbableKmer(text, k, profile)"
      ],
      "metadata": {
        "id": "tpbz3FL6kSgE",
        "outputId": "788d14fc-c848-4e9c-ceba-00db5d1a9852",
        "colab": {
          "base_uri": "https://localhost:8080/",
          "height": 35
        }
      },
      "execution_count": 64,
      "outputs": [
        {
          "output_type": "execute_result",
          "data": {
            "text/plain": [
              "'GACGGG'"
            ],
            "application/vnd.google.colaboratory.intrinsic+json": {
              "type": "string"
            }
          },
          "metadata": {},
          "execution_count": 64
        }
      ]
    }
  ]
}