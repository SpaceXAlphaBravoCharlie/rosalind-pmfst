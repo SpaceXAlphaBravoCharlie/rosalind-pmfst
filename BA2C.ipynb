{
  "nbformat": 4,
  "nbformat_minor": 0,
  "metadata": {
    "colab": {
      "name": "BA2C.ipynb",
      "provenance": []
    },
    "kernelspec": {
      "name": "python3",
      "display_name": "Python 3"
    },
    "language_info": {
      "name": "python"
    }
  },
  "cells": [
    {
      "cell_type": "code",
      "execution_count": 7,
      "metadata": {
        "id": "ggdTuvBMdBsi"
      },
      "outputs": [],
      "source": [
        "import numpy as np"
      ]
    },
    {
      "cell_type": "code",
      "source": [
        "def KmerProbability(profile, kmer):\n",
        "  probability = 1\n",
        "  for nucleotide in enumerate(kmer):\n",
        "    probability = probability * profile[NucleotideIndex(nucleotide[1]),nucleotide[0]]\n",
        "  return probability"
      ],
      "metadata": {
        "id": "F_ieyWzDdU3d"
      },
      "execution_count": 3,
      "outputs": []
    },
    {
      "cell_type": "code",
      "source": [
        "def NucleotideIndex(nucleotide):\n",
        "  if nucleotide == 'A':\n",
        "    return 0\n",
        "  elif nucleotide == 'C':\n",
        "    return 1\n",
        "  elif nucleotide == 'G':\n",
        "    return 2\n",
        "  else:\n",
        "    return 3"
      ],
      "metadata": {
        "id": "_KcYmg7AildW"
      },
      "execution_count": 1,
      "outputs": []
    },
    {
      "cell_type": "code",
      "source": [
        "def FindAllKmers(dna_string, k):\n",
        "  kmers_list = []\n",
        "  i = 0\n",
        "  while i + k - 1 <= len(dna_string) - 1:\n",
        "    kmers_list.append(dna_string[i:i+k])\n",
        "    i = i + 1\n",
        "  return kmers_list"
      ],
      "metadata": {
        "id": "t7Qf25w_ZyBr"
      },
      "execution_count": 2,
      "outputs": []
    },
    {
      "cell_type": "code",
      "source": [
        "def ProfileMostProbableKmer(text, k, profile):\n",
        "  highest_probability = 0\n",
        "  profile_most_probable_kmer = str()\n",
        "  for kmer in FindAllKmers(text, k):\n",
        "    if highest_probability < KmerProbability(profile, kmer):\n",
        "      highest_probability = KmerProbability(profile, kmer)\n",
        "      profile_most_probable_kmer = kmer\n",
        "  return profile_most_probable_kmer"
      ],
      "metadata": {
        "id": "4L_LQ6rlduVz"
      },
      "execution_count": 4,
      "outputs": []
    },
    {
      "cell_type": "code",
      "source": [
        "text = 'ACCTGTTTATTGCCTAAGTTCCGAACAAACCCAATATAGCCCGAGGGCCT'"
      ],
      "metadata": {
        "id": "Trq9mFAEd-Ui"
      },
      "execution_count": 15,
      "outputs": []
    },
    {
      "cell_type": "code",
      "source": [
        "k = 5"
      ],
      "metadata": {
        "id": "oZwZwUdqeBWm"
      },
      "execution_count": 54,
      "outputs": []
    },
    {
      "cell_type": "code",
      "source": [
        "profile_values = [\n",
        "0.2, 0.2, 0.3, 0.2, 0.3,\n",
        "0.4, 0.3, 0.1, 0.5, 0.1,\n",
        "0.3, 0.3, 0.5, 0.2, 0.4,\n",
        "0.1, 0.2, 0.1, 0.1, 0.2\n",
        "]"
      ],
      "metadata": {
        "id": "eKNdeydHeUaK"
      },
      "execution_count": 55,
      "outputs": []
    },
    {
      "cell_type": "code",
      "source": [
        "profile = np.full((4,k),np.reshape(profile_values,(4,k)))"
      ],
      "metadata": {
        "id": "t9b3dQcbeC5o"
      },
      "execution_count": 56,
      "outputs": []
    },
    {
      "cell_type": "code",
      "source": [
        "ProfileMostProbableKmer(text, k, profile)"
      ],
      "metadata": {
        "colab": {
          "base_uri": "https://localhost:8080/",
          "height": 36
        },
        "id": "WnbWo4Mbitn7",
        "outputId": "ca387731-df15-42a6-d06d-cf4cabeddc16"
      },
      "execution_count": 19,
      "outputs": [
        {
          "output_type": "execute_result",
          "data": {
            "text/plain": [
              "'CCGAG'"
            ],
            "application/vnd.google.colaboratory.intrinsic+json": {
              "type": "string"
            }
          },
          "metadata": {},
          "execution_count": 19
        }
      ]
    },
    {
      "cell_type": "code",
      "source": [
        "with open('/content/rosalind_ba2c.txt') as task_file:\n",
        "  task_arguments = [line.rstrip() for line in task_file]"
      ],
      "metadata": {
        "id": "1wltH2zBa50o"
      },
      "execution_count": 20,
      "outputs": []
    },
    {
      "cell_type": "code",
      "source": [
        "task_arguments"
      ],
      "metadata": {
        "colab": {
          "base_uri": "https://localhost:8080/"
        },
        "id": "FnWVcaM4bKMD",
        "outputId": "c3b7c248-5824-4c7a-f901-c5bf20e15a84"
      },
      "execution_count": 21,
      "outputs": [
        {
          "output_type": "execute_result",
          "data": {
            "text/plain": [
              "['ACCAGAGGTGAAAAGCCTTGAGGCGGGCGAGGACGTAGTTACGGCATACTCTGCAAAGGTACCCCTATGGGTAGATGACACTGATCCAGCAATTCCCAGACACCCCCCTTGTCGTGAGCGGAATTCGGTCCTCCATAACAAATGTTTCTAGACAACGATTGCCACCTGGGTAACACAGCGGTTTCTCAACAGGTTCGCCT',\n",
              " '8',\n",
              " '0.28 0.24 0.4 0.28 0.04 0.24 0.12 0.2',\n",
              " '0.24 0.28 0.28 0.2 0.32 0.2 0.24 0.12',\n",
              " '0.32 0.24 0.08 0.4 0.28 0.32 0.16 0.32',\n",
              " '0.16 0.24 0.24 0.12 0.36 0.24 0.48 0.36']"
            ]
          },
          "metadata": {},
          "execution_count": 21
        }
      ]
    },
    {
      "cell_type": "code",
      "source": [
        "text = task_arguments[0]"
      ],
      "metadata": {
        "id": "A0sQHCCabL_D"
      },
      "execution_count": 22,
      "outputs": []
    },
    {
      "cell_type": "code",
      "source": [
        "k = int(task_arguments[1])"
      ],
      "metadata": {
        "id": "1gXJLuPWbOqH"
      },
      "execution_count": 24,
      "outputs": []
    },
    {
      "cell_type": "code",
      "source": [
        "profile_values = task_arguments[2:len(task_arguments)]"
      ],
      "metadata": {
        "id": "H7IvJ4HXbSON"
      },
      "execution_count": 44,
      "outputs": []
    },
    {
      "cell_type": "code",
      "source": [
        "for i in range(len(profile_values)):\n",
        "  profile_values[i] = profile_values[i].split(' ')\n",
        "  for j in range(len(profile_values[i])):\n",
        "    profile_values[i][j] = float(profile_values[i][j])"
      ],
      "metadata": {
        "id": "E372ItVdcFiP"
      },
      "execution_count": 46,
      "outputs": []
    },
    {
      "cell_type": "code",
      "source": [
        "profile = np.full((4,k),np.reshape(profile_values,(4,k)))"
      ],
      "metadata": {
        "id": "DJUGK250bnnu"
      },
      "execution_count": 48,
      "outputs": []
    },
    {
      "cell_type": "code",
      "source": [
        "f = open(\"task_result.txt\", \"w\")\n",
        "for solution in ProfileMostProbableKmer(text, k, profile):\n",
        "  f.write(solution)\n",
        "f.close()"
      ],
      "metadata": {
        "id": "uXfQisnOa-EA"
      },
      "execution_count": 32,
      "outputs": []
    }
  ]
}