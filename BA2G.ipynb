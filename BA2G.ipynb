{
  "nbformat": 4,
  "nbformat_minor": 0,
  "metadata": {
    "colab": {
      "name": "BA2G.ipynb",
      "provenance": []
    },
    "kernelspec": {
      "name": "python3",
      "display_name": "Python 3"
    },
    "language_info": {
      "name": "python"
    }
  },
  "cells": [
    {
      "cell_type": "code",
      "source": [
        "import numpy as np\n",
        "from collections import Counter"
      ],
      "metadata": {
        "id": "SycVzDXrKNnX"
      },
      "execution_count": 23,
      "outputs": []
    },
    {
      "cell_type": "code",
      "source": [
        "def FindAllKmers(dna_string,k):\n",
        "  kmers_list = []\n",
        "  i = 0\n",
        "  while i + k - 1 <= len(dna_string) - 1:\n",
        "    kmers_list.append(dna_string[i:i+k])\n",
        "    i = i + 1\n",
        "  return kmers_list"
      ],
      "metadata": {
        "id": "GhhK-DmWIdDR"
      },
      "execution_count": 24,
      "outputs": []
    },
    {
      "cell_type": "code",
      "source": [
        "def SelectRandomKmers(dna,k,t):\n",
        "  random_kmers = []\n",
        "  for dna_string in dna:\n",
        "    random_kmers.append(FindAllKmers(dna_string, k)[np.random.randint(0,len(dna_string) - k + 1)]) #upper bound not included\n",
        "  return random_kmers"
      ],
      "metadata": {
        "id": "EZ_ZXbosHlVJ"
      },
      "execution_count": 25,
      "outputs": []
    },
    {
      "cell_type": "code",
      "source": [
        "def NucleotideIndex(nucleotide):\n",
        "  if nucleotide == 'A':\n",
        "    return 0\n",
        "  elif nucleotide == 'C':\n",
        "    return 1\n",
        "  elif nucleotide == 'G':\n",
        "    return 2\n",
        "  else:\n",
        "    return 3"
      ],
      "metadata": {
        "id": "jxvgOTSEIYnl"
      },
      "execution_count": 26,
      "outputs": []
    },
    {
      "cell_type": "code",
      "source": [
        "def IndexNucleotide(index):\n",
        "  if index == 0:\n",
        "    return 'A'\n",
        "  elif index == 1:\n",
        "    return 'C'\n",
        "  elif index == 2:\n",
        "    return 'G'\n",
        "  else:\n",
        "    return 'T'"
      ],
      "metadata": {
        "id": "4cZpBk5mIadQ"
      },
      "execution_count": 27,
      "outputs": []
    },
    {
      "cell_type": "code",
      "source": [
        "def KmerProbability(profile,kmer):\n",
        "  probability = 1\n",
        "  for i in range(len(kmer)):\n",
        "    probability = probability * profile[NucleotideIndex(kmer[i])][i]\n",
        "  return probability"
      ],
      "metadata": {
        "id": "nbO6qN8QKUYQ"
      },
      "execution_count": 28,
      "outputs": []
    },
    {
      "cell_type": "code",
      "source": [
        "def Consensus(profile,k):\n",
        "  consensus = str()\n",
        "  for i in range(k):\n",
        "    consensus = consensus + IndexNucleotide(np.argmax(profile[:,i]))\n",
        "  return consensus"
      ],
      "metadata": {
        "id": "DjWLkiPWKaao"
      },
      "execution_count": 29,
      "outputs": []
    },
    {
      "cell_type": "code",
      "source": [
        "def HammingDistance(first_string,second_string):\n",
        "  hamming_distance = 0\n",
        "  for i in range(min(len(first_string),len(second_string))):\n",
        "    if first_string[i] != second_string[i]:\n",
        "      hamming_distance = hamming_distance + 1\n",
        "  return hamming_distance + abs(len(first_string) - len(second_string))"
      ],
      "metadata": {
        "id": "C1upOMYVKdIW"
      },
      "execution_count": 30,
      "outputs": []
    },
    {
      "cell_type": "code",
      "source": [
        "def DnaToArray(dna):\n",
        "  dna_array = np.zeros((len(dna),len(dna[0])), dtype='str')\n",
        "  for i in range(len(dna)):\n",
        "    dna_array[i,:] = np.asarray(list(dna[i]), dtype='str')\n",
        "  return dna_array"
      ],
      "metadata": {
        "id": "Z-0My0Z5OCXx"
      },
      "execution_count": 31,
      "outputs": []
    },
    {
      "cell_type": "code",
      "source": [
        "def GenerateProfile(motifs,k):\n",
        "  profile = np.zeros((4,k))\n",
        "  motifs_array = DnaToArray(motifs)\n",
        "  for i in range(k):\n",
        "    nucleotide_frequency_dict = Counter(motifs_array[:,i])\n",
        "    for nucleotide_index in range(4):\n",
        "      profile[nucleotide_index][i] = nucleotide_frequency_dict[IndexNucleotide(nucleotide_index)]\n",
        "  profile = profile / len(motifs)\n",
        "  return profile"
      ],
      "metadata": {
        "id": "tH19rtvFOAoR"
      },
      "execution_count": 68,
      "outputs": []
    },
    {
      "cell_type": "code",
      "source": [
        "def GenerateProfileAndApplyLaplacesRuleOfSuccession(motifs,k):\n",
        "  profile = np.zeros((4,k))\n",
        "  motifs_array = DnaToArray(motifs)\n",
        "  for i in range(k):\n",
        "    nucleotide_frequency_dict = Counter(motifs_array[:,i])\n",
        "    for nucleotide_index in range(4):\n",
        "      profile[nucleotide_index][i] = nucleotide_frequency_dict[IndexNucleotide(nucleotide_index)] + 1\n",
        "  profile = profile / (len(motifs) + 4) #sum of occurences before applying Laplace's rule of succession must be len(motifs), after we apply Laplace's rule of succession sum must be len(motifs) + 4\n",
        "  return profile"
      ],
      "metadata": {
        "id": "wcoEz4R6NKFo"
      },
      "execution_count": 65,
      "outputs": []
    },
    {
      "cell_type": "code",
      "source": [
        "def Score(motifs,k):\n",
        "  score = 0\n",
        "  profile = GenerateProfile(motifs,k)\n",
        "  consensus = Consensus(profile,k)\n",
        "  for motif in motifs:\n",
        "    score = score + HammingDistance(consensus,motif)\n",
        "  return score"
      ],
      "metadata": {
        "id": "IVSWPcbdKYhh"
      },
      "execution_count": 66,
      "outputs": []
    },
    {
      "cell_type": "code",
      "source": [
        "def ProfileRandomlyGeneratedKmer(dna_string,profile,k):\n",
        "  kmers = FindAllKmers(dna_string,k)\n",
        "  kmers_probabilities = []\n",
        "  for kmer in kmers:\n",
        "    kmers_probabilities.append(KmerProbability(profile,kmer))\n",
        "  kmers_probabilities_sum = sum(kmers_probabilities)\n",
        "  for i in range(len(kmers_probabilities)):\n",
        "    kmers_probabilities[i] = kmers_probabilities[i] / kmers_probabilities_sum\n",
        "  return kmers[np.random.choice(np.arange(len(dna_string)-k+1),p=kmers_probabilities)]"
      ],
      "metadata": {
        "id": "AUv1l-6kMz19"
      },
      "execution_count": 67,
      "outputs": []
    },
    {
      "cell_type": "markdown",
      "source": [
        "**Cromwell’s rule is relevant to the calculation of the probability of a string based on a profile matrix**. For example, consider the following Profile:\n",
        "\n",
        "A: .2 .2 .0 .0 .0 .0 .9 .1 .1 .1 .3 .0\n",
        "\n",
        "C: .1 .6 .0 .0 .0 .0 .0 .4 .1 .2 .4 .6\n",
        "\n",
        "G: .0 .0  1  1 .9 .9 .1 .0 .0 .0 .0 .0\n",
        "\n",
        "T: .7 .2 .0 .0 .1 .1 .0 .5 .8 .7 .3 .4\n",
        "\n",
        "Pr(TCGTGGATTTCC|Profile) = .7 · .6 · 1 · .0 · .9 · .9 · .9 · .5 · .8 · .7 · .4 · .6 = 0\n",
        "\n",
        "The fourth symbol of TCGTGGATTTCC causes Pr(TCGTGGATTTCC|Profile) to equal zero (event with non-zero probability didn't occur, its observed frequency is zero, setting its probability to zero represents an inaccurate oversimplification that may cause problems --> profile matricu nismo generirali sa kmerima koji su imali nukleotid T na 4. poziciji, vjerojatnost da je T na 4. poziciji nije 0). As a result, the entire string is assigned a zero probability, even though TCGTGGATTTCC differs from the consensus string at only one position (inaccurate oversimplification that caused problems). For that matter, TCGTGGATTTCC has the same low probability as AAATCTTGGAA, which is very different from the consensus string (inaccurate oversimplification that caused problems). In order to improve this unfair scoring, bioinformaticians often substitute zeroes with small numbers called pseudocounts. In the case of\n",
        "motifs, pseudocounts often amount to adding 1 (or some other small number) to each element of COUNT(Motifs)."
      ],
      "metadata": {
        "id": "oiRD_D41EEDy"
      }
    },
    {
      "cell_type": "markdown",
      "source": [
        "Although GIBBSSAMPLER performs well in many cases, it may converge to a suboptimal solution, particularly for difficult search problems with elusive motifs (motivi koji imaju malo jako očuvanih pozicija, tj. više slabo očuvanih pozicija od jako očuvanih pozicija). A local\n",
        "optimum is a solution that is optimal within a small neighboring set of solutions, which is in contrast to a global optimum, or the optimal solution among all possible solutions. Since GIBBSSAMPLER explores just a small subset of solutions (trades accuracy for speed), it may “get stuck” in a local optimum. For this reason, similarly to RANDOMIZEDMOTIFSEARCH, it should be run many times with the hope that one of these runs will produce the best-scoring motifs. "
      ],
      "metadata": {
        "id": "hVccnKlyDBcp"
      }
    },
    {
      "cell_type": "code",
      "source": [
        "def GibbsSampler(dna,k,t,N):\n",
        "  motifs = SelectRandomKmers(dna,k,t)\n",
        "  best_motifs = motifs\n",
        "  best_score = Score(best_motifs,k)\n",
        "  for j in range(N):\n",
        "    i = np.random.randint(t)\n",
        "    motifs.pop(i)\n",
        "    profile = GenerateProfileAndApplyLaplacesRuleOfSuccession(motifs,k) #apply Laplace's rule of succession as profile is used to calculate probabilities of kmers\n",
        "    motif_i = ProfileRandomlyGeneratedKmer(dna[i],profile,k)\n",
        "    motifs.insert(i,motif_i)\n",
        "    if Score(motifs,k) < Score(best_motifs,k):\n",
        "      best_motifs = motifs\n",
        "      best_score = Score(motifs,k)\n",
        "  return best_score,best_motifs"
      ],
      "metadata": {
        "id": "pemm_gcrNrKQ"
      },
      "execution_count": 77,
      "outputs": []
    },
    {
      "cell_type": "code",
      "source": [
        "from math import inf"
      ],
      "metadata": {
        "id": "pYjwkkzuZHs8"
      },
      "execution_count": 70,
      "outputs": []
    },
    {
      "cell_type": "code",
      "source": [
        "def RunGibbsSampler(dna,k,t,N):\n",
        "  best_motifs = []\n",
        "  best_score = inf\n",
        "  for i in range(20):\n",
        "    score,motifs = GibbsSampler(dna,k,t,N)\n",
        "    if score < best_score:\n",
        "      best_motifs = motifs\n",
        "      best_score = score\n",
        "  return best_motifs"
      ],
      "metadata": {
        "id": "oLhnUqgSTf-g"
      },
      "execution_count": 71,
      "outputs": []
    },
    {
      "cell_type": "markdown",
      "source": [
        "We now define a Profile-randomly generated k-mer in a string Text. For each k-mer Pattern in Text, compute the probability Pr(Pattern|Profile), resulting in n = |Text| - k + 1 probabilities (p1, ... , pn). These probabilities do not necessarily sum to 1, but we can still form the random number generator RANDOM(p1, ... , pn) based on them. GIBBSSAMPLER uses this random number generator to select a Profile-randomly generated k-mer at each step: if the die rolls the number i, then we define the Profile-randomly generated k-mer as the i-th k-mer in Text. "
      ],
      "metadata": {
        "id": "th7bFgmUL15U"
      }
    },
    {
      "cell_type": "markdown",
      "source": [
        "statistical maxim called Cromwell’s rule, which states that we\n",
        "should not use probabilities of 0 or 1 unless we are talking about logical statements that can only be true or false (statement jedino može biti istina ili laž, tj. imamo samo 2 moguća ishoda). In other words, we should allow a small probability for extremely unlikely events, such as “this book was written by aliens” or “the sun will not rise tomorrow”. --> dakle, trebali bi odrediti kardinalni broj skupa elementarnih događaja tako da znamo kada možemo koristiti vjerojatnosti 0 i 1, a kada ne (P(Ω) = 1, kod uniformnog vjerojatnosnog modela svi elementarni događaju su jednako vjerojatni, ako ih ima n onda je vjerojatnost svakog od njih 1/n, dakle nijedna vjerojatnost nije 0, ako slučajni pokus sa 2 moguća ishoda (uspjeh ili neuspjeh) modeliramo Bernoullijevom slučajnom varijablom onda je vjerojatnost P(X=1)=p, P(X=0)=1-p=q, dakle ako je p = 1 onda slučajni pokus ima samo jedan ishod i nema smisla govoriti o vjerojatnosti 0, ako je p = 0 onda slučajni pokus ima samo jedan ishod i ima smisla govoriti o vjerojatnosti 0, elementarni događaji su svi mogući, a nedjeljivi, ishodi slučajnog pokusa, dakle treba u obzir uzeti sve elementarne događaje)"
      ],
      "metadata": {
        "id": "RqK6TJ1yMc7S"
      }
    },
    {
      "cell_type": "code",
      "source": [
        "dna = ['CGCCCCTCTCGGGGGTGTTCAGTAAACGGCCA', 'GGGCGAGGTATGTGTAAGTGCCAAGGTGCCAG', 'TAGTACCGAGACCGAAAGAAGTATACAGGCGT', 'TAGATCAAGTTTCAGGTGCACGTCGGTGAACC', 'AATCCACCAGCTCCACGTGCAATGTTGGCCTA']"
      ],
      "metadata": {
        "id": "PWEV1OfT-Kjf"
      },
      "execution_count": 78,
      "outputs": []
    },
    {
      "cell_type": "code",
      "source": [
        "k = 8"
      ],
      "metadata": {
        "id": "M1H7hMw1-Uk_"
      },
      "execution_count": 79,
      "outputs": []
    },
    {
      "cell_type": "code",
      "source": [
        "t = 5"
      ],
      "metadata": {
        "id": "AYsirg5t-Y3m"
      },
      "execution_count": 80,
      "outputs": []
    },
    {
      "cell_type": "code",
      "source": [
        "N = 100"
      ],
      "metadata": {
        "id": "wKZHRSA3-ZxV"
      },
      "execution_count": 81,
      "outputs": []
    },
    {
      "cell_type": "code",
      "source": [
        "RunGibbsSampler(dna,k,t,N)"
      ],
      "metadata": {
        "id": "Dpd0DeTj-dJy",
        "colab": {
          "base_uri": "https://localhost:8080/"
        },
        "outputId": "41aa0dbf-1705-4b23-8aac-45af03e5e0f3"
      },
      "execution_count": 84,
      "outputs": [
        {
          "output_type": "execute_result",
          "data": {
            "text/plain": [
              "['TCTCGGGG', 'TGCCAAGG', 'TACAGGCG', 'TTTCAGGT', 'TGTTGGCC']"
            ]
          },
          "metadata": {},
          "execution_count": 84
        }
      ]
    },
    {
      "cell_type": "code",
      "source": [
        "with open('/content/rosalind_ba2g.txt') as task_file:\n",
        "  task_arguments = [line.rstrip() for line in task_file]"
      ],
      "metadata": {
        "id": "t2Vsfsws98sS"
      },
      "execution_count": 91,
      "outputs": []
    },
    {
      "cell_type": "code",
      "source": [
        "k = int(task_arguments[0][0:2])"
      ],
      "metadata": {
        "id": "BBPco2_a9_RN"
      },
      "execution_count": 92,
      "outputs": []
    },
    {
      "cell_type": "code",
      "source": [
        "t = int(task_arguments[0][3:5])"
      ],
      "metadata": {
        "id": "GuKojyAk9_4R"
      },
      "execution_count": 93,
      "outputs": []
    },
    {
      "cell_type": "code",
      "source": [
        "N = int(task_arguments[0][6:len(task_arguments[0])])"
      ],
      "metadata": {
        "id": "QHbvqE4H-AhB"
      },
      "execution_count": 94,
      "outputs": []
    },
    {
      "cell_type": "code",
      "source": [
        "dna = task_arguments[1:len(task_arguments)]"
      ],
      "metadata": {
        "id": "H45u-jre-CXX"
      },
      "execution_count": 95,
      "outputs": []
    },
    {
      "cell_type": "code",
      "source": [
        "f = open(\"task_result.txt\", \"w\")\n",
        "for solution in RunGibbsSampler(dna,k,t,N):\n",
        "  f.write(solution + '\\n')\n",
        "f.close()"
      ],
      "metadata": {
        "id": "88G4YjU8-R6k"
      },
      "execution_count": 96,
      "outputs": []
    }
  ]
}