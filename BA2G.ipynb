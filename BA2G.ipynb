{
  "nbformat": 4,
  "nbformat_minor": 0,
  "metadata": {
    "colab": {
      "name": "BA2G.ipynb",
      "provenance": []
    },
    "kernelspec": {
      "name": "python3",
      "display_name": "Python 3"
    },
    "language_info": {
      "name": "python"
    }
  },
  "cells": [
    {
      "cell_type": "code",
      "execution_count": 4,
      "metadata": {
        "id": "r336aHzrjifv"
      },
      "outputs": [],
      "source": [
        "import numpy as np\n",
        "from numpy.random import randint\n",
        "from math import pow"
      ]
    },
    {
      "cell_type": "code",
      "source": [
        "def GibbsSampler(Dna, k, t, N):\n",
        "  motifs = SelectRandomKmers(Dna, k, t)\n",
        "  best_motifs = motifs\n",
        "  for j in range(N):\n",
        "    i = randint(t)\n",
        "    motifs.pop(i)\n",
        "    profile = GenerateProfile(motifs, k)\n",
        "    motif_i = ProfileRandomlyGeneratedKmer(Dna, profile, i, k)\n",
        "    if Score(motifs) < Score(best_motifs):\n",
        "      best_motifs = motifs\n",
        "  return best_motifs"
      ],
      "metadata": {
        "id": "pemm_gcrNrKQ"
      },
      "execution_count": 5,
      "outputs": []
    },
    {
      "cell_type": "code",
      "source": [
        "def SelectRandomKmers(Dna, k, t):\n",
        "  random_kmers = []\n",
        "  for dna_string in Dna:\n",
        "    random_kmers.append(FindAllKmers(dna_string, k)[randint(0, len(dna_string) - k + 1)]) #upper bound not included\n",
        "  return random_kmers"
      ],
      "metadata": {
        "id": "rni-u3cXjrdQ"
      },
      "execution_count": 6,
      "outputs": []
    },
    {
      "cell_type": "code",
      "source": [
        "def GenerateProfile(motifs, k):\n",
        "  profile = np.zeros((4,k))\n",
        "  motifs_array = DnaToArray(motifs)\n",
        "  for i in range(k):\n",
        "    frequency_dict = {'A':0, 'C':0, 'G':0, 'T':0}\n",
        "    for j in range(len(np.unique(motifs_array[:,i], return_counts=True)[0])):\n",
        "      frequency_dict[np.unique(motifs_array[:,i], return_counts=True)[0][j]] = np.unique(motifs_array[:,i], return_counts=True)[1][j]\n",
        "    profile[:,i] = np.array(list(frequency_dict.values()))\n",
        "  profile = profile + 1\n",
        "  profile = profile / (len(motifs_array) + 4)\n",
        "  return profile"
      ],
      "metadata": {
        "id": "s5c1USNsNPXv"
      },
      "execution_count": 7,
      "outputs": []
    },
    {
      "cell_type": "code",
      "source": [
        "def KmerProbability(profile, kmer):\n",
        "  probability = 1\n",
        "  for nucleotide in enumerate(kmer):\n",
        "    probability = probability * profile[NucleotideIndex(nucleotide[1])][nucleotide[0]]\n",
        "  return probability"
      ],
      "metadata": {
        "id": "-HDYUBBlNkTx"
      },
      "execution_count": 8,
      "outputs": []
    },
    {
      "cell_type": "code",
      "source": [
        "def ProfileRandomlyGeneratedKmer(Dna, profile, i, k):\n",
        "  kmers = FindAllKmers(Dna[i], k)\n",
        "  kmers_probabilities = []\n",
        "  occurence_list = []\n",
        "  elementary_events_list = []\n",
        "  for kmer in kmers:\n",
        "    kmers_probabilities.append(KmerProbability(profile, kmer))\n",
        "  if sum(kmers_probabilities) < 1:\n",
        "    largest_denominator = 1\n",
        "    for i in range(len(kmers_probabilities)):\n",
        "      kmers_probabilities[i] = kmers_probabilities[i] / sum(kmers_probabilities)\n",
        "      if kmers_probabilities[i].as_integer_ratio()[1] > largest_denominator:\n",
        "        largest_denominator = kmers_probabilities[i].as_integer_ratio()[1]\n",
        "  for i in range(len(kmers_probabilities)):\n",
        "    occurence_list.append(kmers_probabilities[i].as_integer_ratio()[0] * largest_denominator)\n",
        "  for i in range(len(kmers_probabilities)):\n",
        "    for j in range(occurence_list.count(i)):\n",
        "      elementary_events_list.append(i)\n",
        "  return elementary_events_list[randint(0,len(elementary_events_list) - 1)]"
      ],
      "metadata": {
        "id": "f2Fq4UUbX1pY"
      },
      "execution_count": 9,
      "outputs": []
    },
    {
      "cell_type": "code",
      "source": [
        "def NucleotideIndex(nucleotide):\n",
        "  if nucleotide == 'A':\n",
        "    return 0\n",
        "  elif nucleotide == 'C':\n",
        "    return 1\n",
        "  elif nucleotide == 'G':\n",
        "    return 2\n",
        "  else:\n",
        "    return 3"
      ],
      "metadata": {
        "id": "jLgHmkIHNhvZ"
      },
      "execution_count": 10,
      "outputs": []
    },
    {
      "cell_type": "code",
      "source": [
        "def IndexNucleotide(index):\n",
        "  if index == 0:\n",
        "    return 'A'\n",
        "  elif index == 1:\n",
        "    return 'C'\n",
        "  elif index == 2:\n",
        "    return 'G'\n",
        "  else:\n",
        "    return 'T'"
      ],
      "metadata": {
        "id": "xYq5JqVANVs5"
      },
      "execution_count": 11,
      "outputs": []
    },
    {
      "cell_type": "code",
      "source": [
        "def FindAllKmers(dna_string, k):\n",
        "  kmers_list = []\n",
        "  for kmer_end_index in range(k - 1, len(dna_string)):\n",
        "    kmers_list.append(dna_string[kmer_end_index + 1 - k:kmer_end_index + 1])\n",
        "  return kmers_list"
      ],
      "metadata": {
        "id": "YlI3_BgmNXW0"
      },
      "execution_count": 12,
      "outputs": []
    },
    {
      "cell_type": "code",
      "source": [
        "def Score(motifs, k):\n",
        "  score = 0\n",
        "  profile = GenerateProfile(motifs, k)\n",
        "  consensus = Consensus(profile, k)\n",
        "  for motif in motifs:\n",
        "    score = score + HammingDistance(consensus, motif)\n",
        "  return score"
      ],
      "metadata": {
        "id": "CY58FfytNYyI"
      },
      "execution_count": 13,
      "outputs": []
    },
    {
      "cell_type": "code",
      "source": [
        "def Consensus(profile, k):\n",
        "  consensus = []\n",
        "  for i in range(k):\n",
        "    consensus.append(IndexNucleotide(np.argmax(profile[:,i])))\n",
        "  return ''.join(consensus)"
      ],
      "metadata": {
        "id": "fZZTG19VNZY4"
      },
      "execution_count": 14,
      "outputs": []
    },
    {
      "cell_type": "code",
      "source": [
        "def HammingDistance(string1, string2):\n",
        "  counter = 0\n",
        "  if len(string1) > len(string2):\n",
        "    for i in range(len(string2)):\n",
        "      if string1[i] != string2[i]:\n",
        "        counter = counter + 1\n",
        "    counter = counter + (len(string1) - len(string2))\n",
        "  else:\n",
        "    for i in range(len(string1)):\n",
        "      if string1[i] != string2[i]:\n",
        "        counter = counter + 1\n",
        "    counter = counter + (len(string2) - len(string1))\n",
        "  return counter"
      ],
      "metadata": {
        "id": "Qu_JBSBjNazw"
      },
      "execution_count": 15,
      "outputs": []
    },
    {
      "cell_type": "code",
      "source": [
        "def DnaToArray(Dna):\n",
        "  dna_array = np.zeros((len(Dna), len(Dna[0])), dtype='str')\n",
        "  for dna_string in enumerate(Dna):\n",
        "    dna_array[dna_string[0],:] = np.asarray(list(dna_string[1]), dtype='str')\n",
        "  return dna_array"
      ],
      "metadata": {
        "id": "CHpoNjfwNcNd"
      },
      "execution_count": 16,
      "outputs": []
    },
    {
      "cell_type": "code",
      "source": [
        "Dna = ['CGCCCCTCTCGGGGGTGTTCAGTAAACGGCCA', 'GGGCGAGGTATGTGTAAGTGCCAAGGTGCCAG', 'TAGTACCGAGACCGAAAGAAGTATACAGGCGT', 'TAGATCAAGTTTCAGGTGCACGTCGGTGAACC', 'AATCCACCAGCTCCACGTGCAATGTTGGCCTA']"
      ],
      "metadata": {
        "id": "PWEV1OfT-Kjf"
      },
      "execution_count": 17,
      "outputs": []
    },
    {
      "cell_type": "code",
      "source": [
        "k = 8"
      ],
      "metadata": {
        "id": "M1H7hMw1-Uk_"
      },
      "execution_count": 18,
      "outputs": []
    },
    {
      "cell_type": "code",
      "source": [
        "t = 5"
      ],
      "metadata": {
        "id": "AYsirg5t-Y3m"
      },
      "execution_count": 19,
      "outputs": []
    },
    {
      "cell_type": "code",
      "source": [
        "N = 100"
      ],
      "metadata": {
        "id": "wKZHRSA3-ZxV"
      },
      "execution_count": 20,
      "outputs": []
    },
    {
      "cell_type": "code",
      "source": [
        "GibbsSampler(Dna, k, t, N)"
      ],
      "metadata": {
        "colab": {
          "base_uri": "https://localhost:8080/",
          "height": 346
        },
        "id": "Dpd0DeTj-dJy",
        "outputId": "e9d07b13-fe60-4eb1-b383-2cd46e83c9e7"
      },
      "execution_count": 21,
      "outputs": [
        {
          "output_type": "error",
          "ename": "ValueError",
          "evalue": "ignored",
          "traceback": [
            "\u001b[0;31m---------------------------------------------------------------------------\u001b[0m",
            "\u001b[0;31mValueError\u001b[0m                                Traceback (most recent call last)",
            "\u001b[0;32m<ipython-input-21-c98ee1ca4be6>\u001b[0m in \u001b[0;36m<module>\u001b[0;34m()\u001b[0m\n\u001b[0;32m----> 1\u001b[0;31m \u001b[0mGibbsSampler\u001b[0m\u001b[0;34m(\u001b[0m\u001b[0mDna\u001b[0m\u001b[0;34m,\u001b[0m \u001b[0mk\u001b[0m\u001b[0;34m,\u001b[0m \u001b[0mt\u001b[0m\u001b[0;34m,\u001b[0m \u001b[0mN\u001b[0m\u001b[0;34m)\u001b[0m\u001b[0;34m\u001b[0m\u001b[0;34m\u001b[0m\u001b[0m\n\u001b[0m",
            "\u001b[0;32m<ipython-input-5-edc7fa4eca6e>\u001b[0m in \u001b[0;36mGibbsSampler\u001b[0;34m(Dna, k, t, N)\u001b[0m\n\u001b[1;32m      6\u001b[0m     \u001b[0mmotifs\u001b[0m\u001b[0;34m.\u001b[0m\u001b[0mpop\u001b[0m\u001b[0;34m(\u001b[0m\u001b[0mi\u001b[0m\u001b[0;34m)\u001b[0m\u001b[0;34m\u001b[0m\u001b[0;34m\u001b[0m\u001b[0m\n\u001b[1;32m      7\u001b[0m     \u001b[0mprofile\u001b[0m \u001b[0;34m=\u001b[0m \u001b[0mGenerateProfile\u001b[0m\u001b[0;34m(\u001b[0m\u001b[0mmotifs\u001b[0m\u001b[0;34m,\u001b[0m \u001b[0mk\u001b[0m\u001b[0;34m)\u001b[0m\u001b[0;34m\u001b[0m\u001b[0;34m\u001b[0m\u001b[0m\n\u001b[0;32m----> 8\u001b[0;31m     \u001b[0mmotif_i\u001b[0m \u001b[0;34m=\u001b[0m \u001b[0mProfileRandomlyGeneratedKmer\u001b[0m\u001b[0;34m(\u001b[0m\u001b[0mDna\u001b[0m\u001b[0;34m,\u001b[0m \u001b[0mprofile\u001b[0m\u001b[0;34m,\u001b[0m \u001b[0mi\u001b[0m\u001b[0;34m,\u001b[0m \u001b[0mk\u001b[0m\u001b[0;34m)\u001b[0m\u001b[0;34m\u001b[0m\u001b[0;34m\u001b[0m\u001b[0m\n\u001b[0m\u001b[1;32m      9\u001b[0m     \u001b[0;32mif\u001b[0m \u001b[0mScore\u001b[0m\u001b[0;34m(\u001b[0m\u001b[0mmotifs\u001b[0m\u001b[0;34m)\u001b[0m \u001b[0;34m<\u001b[0m \u001b[0mScore\u001b[0m\u001b[0;34m(\u001b[0m\u001b[0mbest_motifs\u001b[0m\u001b[0;34m)\u001b[0m\u001b[0;34m:\u001b[0m\u001b[0;34m\u001b[0m\u001b[0;34m\u001b[0m\u001b[0m\n\u001b[1;32m     10\u001b[0m       \u001b[0mbest_motifs\u001b[0m \u001b[0;34m=\u001b[0m \u001b[0mmotifs\u001b[0m\u001b[0;34m\u001b[0m\u001b[0;34m\u001b[0m\u001b[0m\n",
            "\u001b[0;32m<ipython-input-9-2cec3fb920c6>\u001b[0m in \u001b[0;36mProfileRandomlyGeneratedKmer\u001b[0;34m(Dna, profile, i, k)\u001b[0m\n\u001b[1;32m     17\u001b[0m     \u001b[0;32mfor\u001b[0m \u001b[0mj\u001b[0m \u001b[0;32min\u001b[0m \u001b[0mrange\u001b[0m\u001b[0;34m(\u001b[0m\u001b[0moccurence_list\u001b[0m\u001b[0;34m.\u001b[0m\u001b[0mcount\u001b[0m\u001b[0;34m(\u001b[0m\u001b[0mi\u001b[0m\u001b[0;34m)\u001b[0m\u001b[0;34m)\u001b[0m\u001b[0;34m:\u001b[0m\u001b[0;34m\u001b[0m\u001b[0;34m\u001b[0m\u001b[0m\n\u001b[1;32m     18\u001b[0m       \u001b[0melementary_events_list\u001b[0m\u001b[0;34m.\u001b[0m\u001b[0mappend\u001b[0m\u001b[0;34m(\u001b[0m\u001b[0mi\u001b[0m\u001b[0;34m)\u001b[0m\u001b[0;34m\u001b[0m\u001b[0;34m\u001b[0m\u001b[0m\n\u001b[0;32m---> 19\u001b[0;31m   \u001b[0;32mreturn\u001b[0m \u001b[0melementary_events_list\u001b[0m\u001b[0;34m[\u001b[0m\u001b[0mrandint\u001b[0m\u001b[0;34m(\u001b[0m\u001b[0;36m0\u001b[0m\u001b[0;34m,\u001b[0m\u001b[0mlen\u001b[0m\u001b[0;34m(\u001b[0m\u001b[0melementary_events_list\u001b[0m\u001b[0;34m)\u001b[0m \u001b[0;34m-\u001b[0m \u001b[0;36m1\u001b[0m\u001b[0;34m)\u001b[0m\u001b[0;34m]\u001b[0m\u001b[0;34m\u001b[0m\u001b[0;34m\u001b[0m\u001b[0m\n\u001b[0m",
            "\u001b[0;32mmtrand.pyx\u001b[0m in \u001b[0;36mnumpy.random.mtrand.RandomState.randint\u001b[0;34m()\u001b[0m\n",
            "\u001b[0;32m_bounded_integers.pyx\u001b[0m in \u001b[0;36mnumpy.random._bounded_integers._rand_int64\u001b[0;34m()\u001b[0m\n",
            "\u001b[0;31mValueError\u001b[0m: high <= 0"
          ]
        }
      ]
    }
  ]
}