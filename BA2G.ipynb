{
  "nbformat": 4,
  "nbformat_minor": 0,
  "metadata": {
    "colab": {
      "name": "BA2G.ipynb",
      "provenance": []
    },
    "kernelspec": {
      "name": "python3",
      "display_name": "Python 3"
    },
    "language_info": {
      "name": "python"
    }
  },
  "cells": [
    {
      "cell_type": "code",
      "execution_count": 1,
      "metadata": {
        "id": "r336aHzrjifv"
      },
      "outputs": [],
      "source": [
        "import numpy as np\n",
        "from numpy.random import randint\n",
        "from numpy.random import choice\n",
        "from math import pow\n",
        "from fractions import Fraction"
      ]
    },
    {
      "cell_type": "code",
      "source": [
        "def GibbsSampler(Dna, k, t, N):\n",
        "  motifs = SelectRandomKmers(Dna, k, t)\n",
        "  best_motifs = motifs\n",
        "  for j in range(N):\n",
        "    i = randint(t)\n",
        "    motifs.pop(i)\n",
        "    profile = GenerateProfile(motifs, k)\n",
        "    motif_i = ProfileRandomlyGeneratedKmer(Dna[i], profile, k)\n",
        "    motifs.insert(i, motif_i)\n",
        "    if Score(motifs, k) < Score(best_motifs, k):\n",
        "      best_motifs = motifs\n",
        "  return best_motifs"
      ],
      "metadata": {
        "id": "pemm_gcrNrKQ"
      },
      "execution_count": 2,
      "outputs": []
    },
    {
      "cell_type": "code",
      "source": [
        "def SelectRandomKmers(Dna, k, t):\n",
        "  random_kmers = []\n",
        "  for dna_string in Dna:\n",
        "    random_kmers.append(FindAllKmers(dna_string, k)[randint(0, len(dna_string) - k + 1)]) #upper bound not included\n",
        "  return random_kmers"
      ],
      "metadata": {
        "id": "rni-u3cXjrdQ"
      },
      "execution_count": 3,
      "outputs": []
    },
    {
      "cell_type": "code",
      "source": [
        "def GenerateProfile(motifs, k):\n",
        "  profile = np.zeros((4,k))\n",
        "  motifs_array = DnaToArray(motifs)\n",
        "  for i in range(k):\n",
        "    frequency_dict = {'A':0, 'C':0, 'G':0, 'T':0}\n",
        "    for j in range(len(np.unique(motifs_array[:,i], return_counts=True)[0])):\n",
        "      frequency_dict[np.unique(motifs_array[:,i], return_counts=True)[0][j]] = np.unique(motifs_array[:,i], return_counts=True)[1][j]\n",
        "    profile[:,i] = np.array(list(frequency_dict.values()))\n",
        "  profile = profile + 1 #Laplace's rule of succession\n",
        "  profile = profile / (len(motifs_array) + 4)\n",
        "  return profile"
      ],
      "metadata": {
        "id": "s5c1USNsNPXv"
      },
      "execution_count": 4,
      "outputs": []
    },
    {
      "cell_type": "code",
      "source": [
        "def KmerProbability(profile, kmer):\n",
        "  probability = 1\n",
        "  for nucleotide in enumerate(kmer):\n",
        "    probability = probability * profile[NucleotideIndex(nucleotide[1])][nucleotide[0]]\n",
        "  return probability"
      ],
      "metadata": {
        "id": "-HDYUBBlNkTx"
      },
      "execution_count": 5,
      "outputs": []
    },
    {
      "cell_type": "code",
      "source": [
        "def ProfileRandomlyGeneratedKmer(deleted_dna_string, profile, k):\n",
        "  kmers = FindAllKmers(deleted_dna_string, k)\n",
        "  kmers_probabilities = []\n",
        "  initial_kmers_probabilities_sum = 0\n",
        "  nominators_list = []\n",
        "  denominators_list = []\n",
        "  elementary_events_list = []\n",
        "  for kmer in kmers:\n",
        "    kmers_probabilities.append(KmerProbability(profile, kmer))\n",
        "  initial_kmers_probabilities_sum = sum(kmers_probabilities)\n",
        "  for i in range(len(kmers_probabilities)):\n",
        "    kmers_probabilities[i] = kmers_probabilities[i] / initial_kmers_probabilities_sum\n",
        "    nominators_list.append(int(str(Fraction(kmers_probabilities[i]).limit_denominator())[0]))\n",
        "    denominators_list.append(int(str(Fraction(kmers_probabilities[i]).limit_denominator())[str(Fraction(kmers_probabilities[i]).limit_denominator()).find('/') + 1:len(str(Fraction(kmers_probabilities[i]).limit_denominator()))]))\n",
        "  for i in range(len(nominators_list)):\n",
        "    nominators_list[i] = int(nominators_list[i] * (np.lcm.reduce(denominators_list)/denominators_list[i]))\n",
        "  for i in range(len(nominators_list)):\n",
        "    for j in range(nominators_list[i]):\n",
        "      elementary_events_list.append(i)\n",
        "  return kmers[choice(elementary_events_list)]"
      ],
      "metadata": {
        "id": "f2Fq4UUbX1pY"
      },
      "execution_count": 6,
      "outputs": []
    },
    {
      "cell_type": "code",
      "source": [
        "def NucleotideIndex(nucleotide):\n",
        "  if nucleotide == 'A':\n",
        "    return 0\n",
        "  elif nucleotide == 'C':\n",
        "    return 1\n",
        "  elif nucleotide == 'G':\n",
        "    return 2\n",
        "  else:\n",
        "    return 3"
      ],
      "metadata": {
        "id": "jLgHmkIHNhvZ"
      },
      "execution_count": 7,
      "outputs": []
    },
    {
      "cell_type": "code",
      "source": [
        "def IndexNucleotide(index):\n",
        "  if index == 0:\n",
        "    return 'A'\n",
        "  elif index == 1:\n",
        "    return 'C'\n",
        "  elif index == 2:\n",
        "    return 'G'\n",
        "  else:\n",
        "    return 'T'"
      ],
      "metadata": {
        "id": "xYq5JqVANVs5"
      },
      "execution_count": 8,
      "outputs": []
    },
    {
      "cell_type": "code",
      "source": [
        "def FindAllKmers(dna_string, k):\n",
        "  kmers_list = []\n",
        "  for kmer_end_index in range(k - 1, len(dna_string)):\n",
        "    kmers_list.append(dna_string[kmer_end_index + 1 - k:kmer_end_index + 1])\n",
        "  return kmers_list"
      ],
      "metadata": {
        "id": "YlI3_BgmNXW0"
      },
      "execution_count": 9,
      "outputs": []
    },
    {
      "cell_type": "code",
      "source": [
        "def Score(motifs, k):\n",
        "  score = 0\n",
        "  profile = GenerateProfile(motifs, k)\n",
        "  consensus = Consensus(profile, k)\n",
        "  for motif in motifs:\n",
        "    score = score + HammingDistance(consensus, motif)\n",
        "  return score"
      ],
      "metadata": {
        "id": "CY58FfytNYyI"
      },
      "execution_count": 10,
      "outputs": []
    },
    {
      "cell_type": "code",
      "source": [
        "def Consensus(profile, k):\n",
        "  consensus = []\n",
        "  for i in range(k):\n",
        "    consensus.append(IndexNucleotide(np.argmax(profile[:,i])))\n",
        "  return ''.join(consensus)"
      ],
      "metadata": {
        "id": "fZZTG19VNZY4"
      },
      "execution_count": 11,
      "outputs": []
    },
    {
      "cell_type": "code",
      "source": [
        "def HammingDistance(string1, string2):\n",
        "  counter = 0\n",
        "  if len(string1) > len(string2):\n",
        "    for i in range(len(string2)):\n",
        "      if string1[i] != string2[i]:\n",
        "        counter = counter + 1\n",
        "    counter = counter + (len(string1) - len(string2))\n",
        "  else:\n",
        "    for i in range(len(string1)):\n",
        "      if string1[i] != string2[i]:\n",
        "        counter = counter + 1\n",
        "    counter = counter + (len(string2) - len(string1))\n",
        "  return counter"
      ],
      "metadata": {
        "id": "Qu_JBSBjNazw"
      },
      "execution_count": 12,
      "outputs": []
    },
    {
      "cell_type": "code",
      "source": [
        "def DnaToArray(Dna):\n",
        "  dna_array = np.zeros((len(Dna), len(Dna[0])), dtype='str')\n",
        "  for dna_string in enumerate(Dna):\n",
        "    dna_array[dna_string[0],:] = np.asarray(list(dna_string[1]), dtype='str')\n",
        "  return dna_array"
      ],
      "metadata": {
        "id": "CHpoNjfwNcNd"
      },
      "execution_count": 13,
      "outputs": []
    },
    {
      "cell_type": "code",
      "source": [
        "Dna = ['CGCCCCTCTCGGGGGTGTTCAGTAAACGGCCA', 'GGGCGAGGTATGTGTAAGTGCCAAGGTGCCAG', 'TAGTACCGAGACCGAAAGAAGTATACAGGCGT', 'TAGATCAAGTTTCAGGTGCACGTCGGTGAACC', 'AATCCACCAGCTCCACGTGCAATGTTGGCCTA']"
      ],
      "metadata": {
        "id": "PWEV1OfT-Kjf"
      },
      "execution_count": 14,
      "outputs": []
    },
    {
      "cell_type": "code",
      "source": [
        "Dna"
      ],
      "metadata": {
        "colab": {
          "base_uri": "https://localhost:8080/"
        },
        "id": "XmJMnFdU8EHk",
        "outputId": "6bb5350b-d60c-4f1a-812f-420eac1eaafa"
      },
      "execution_count": 15,
      "outputs": [
        {
          "output_type": "execute_result",
          "data": {
            "text/plain": [
              "['CGCCCCTCTCGGGGGTGTTCAGTAAACGGCCA',\n",
              " 'GGGCGAGGTATGTGTAAGTGCCAAGGTGCCAG',\n",
              " 'TAGTACCGAGACCGAAAGAAGTATACAGGCGT',\n",
              " 'TAGATCAAGTTTCAGGTGCACGTCGGTGAACC',\n",
              " 'AATCCACCAGCTCCACGTGCAATGTTGGCCTA']"
            ]
          },
          "metadata": {},
          "execution_count": 15
        }
      ]
    },
    {
      "cell_type": "code",
      "source": [
        "k = 8"
      ],
      "metadata": {
        "id": "M1H7hMw1-Uk_"
      },
      "execution_count": 16,
      "outputs": []
    },
    {
      "cell_type": "code",
      "source": [
        "t = 5"
      ],
      "metadata": {
        "id": "AYsirg5t-Y3m"
      },
      "execution_count": 17,
      "outputs": []
    },
    {
      "cell_type": "code",
      "source": [
        "N = 100"
      ],
      "metadata": {
        "id": "wKZHRSA3-ZxV"
      },
      "execution_count": 18,
      "outputs": []
    },
    {
      "cell_type": "code",
      "source": [
        "GibbsSampler(Dna, k, t, N)"
      ],
      "metadata": {
        "colab": {
          "base_uri": "https://localhost:8080/"
        },
        "id": "Dpd0DeTj-dJy",
        "outputId": "d43d5619-4511-40dd-884c-ad7bfe647706"
      },
      "execution_count": 29,
      "outputs": [
        {
          "output_type": "execute_result",
          "data": {
            "text/plain": [
              "['CCCTCTCG', 'GGTGCCAG', 'AAGTATAC', 'AGATCAAG', 'CACCAGCT']"
            ]
          },
          "metadata": {},
          "execution_count": 29
        }
      ]
    },
    {
      "cell_type": "code",
      "source": [
        "k = 15"
      ],
      "metadata": {
        "id": "lGHnGExG9gch"
      },
      "execution_count": 142,
      "outputs": []
    },
    {
      "cell_type": "code",
      "source": [
        "t = 20"
      ],
      "metadata": {
        "id": "DNuVE1GA9kqM"
      },
      "execution_count": 143,
      "outputs": []
    },
    {
      "cell_type": "code",
      "source": [
        "N = 2000"
      ],
      "metadata": {
        "id": "dvtAhR439mij"
      },
      "execution_count": 144,
      "outputs": []
    },
    {
      "cell_type": "code",
      "source": [
        "with open('/content/rosalind_ba2g.txt') as task_file:\n",
        "  Dna = [line.rstrip() for line in task_file]"
      ],
      "metadata": {
        "id": "bqg_2gGm9odE"
      },
      "execution_count": 145,
      "outputs": []
    },
    {
      "cell_type": "code",
      "source": [
        "Dna"
      ],
      "metadata": {
        "colab": {
          "base_uri": "https://localhost:8080/"
        },
        "id": "Q1BBbE6g9w09",
        "outputId": "ac0fa379-9e17-4b6b-8a90-b730ee1d2a41"
      },
      "execution_count": 146,
      "outputs": [
        {
          "output_type": "execute_result",
          "data": {
            "text/plain": [
              "['GCCCGCATGCCTGCCTCTTGGCCTTAGTGTCTTACTAAAGGGTGCGCCATTATCCTGTGGCATTGCCATTTGTTGGACAAGTTAAAATGCCGTCTCGCCCTAACCGGCGAACCAGCCCAACTCCACCAAACTAATTTACGCTCGTTTTTGTATCCTGAGACTGGCACGGAACCTTTCCCTGCAGCCGGTTGTGAGGCTTCGCGAAGCGCGGACAAGGTTCACGCAAGCGTTGTGCCACCTCTAGTCGAGAGTGCGACTCAGGCCTGTGTTTACCAAAGCGAAGATGAACTAAAACTCGGTTACCGAAGCCCGCATGCCTGCC',\n",
              " 'TCTTGGCCTTAGTGTCTTACTAAAGGGTGCGCCATTATCCTGTGGCATTGCCATTTGTTGGACAAGTTAAAATGCCGTCTCGCCCTAACCGGCGAACCAGCCCAACTCCACCAAACTAATTTACGCTCGTTTTTGTATCCTGAGACTGGCACGGAACCTGACTTAGTCTCAGCTTTCCCTGCAGCCGGTTGTGAGGCTTCGCGAAGCGCGGACAAGGTTCACGCAAGCGTTGTGCCACCTCTAGTCGAGAGTGCGACTCAGGCCTGTGTTTACCAAAGCGAAGATGAACTAAAACTCGGTTACCGAAGCCCGCATGCCTGCC',\n",
              " 'AAAGTCCCACCAAATGTAAGGACCGGTTCTCAGCTCCAGGATAGCGGCAGGTCTGGGCAATGAGGGGACTGGTTACCGCACTGCTCCTCGAGGAAGCAAATAGTTCATCTGCTTCCTTAGCGCCTGACAGACCAAAACGGCTAGCGGACAGCAGTGTCAGCTCTATCAAGTCACCCATTGATTCCGGCTTGCATACTCTGATCTGATTTCCTTTGTGAACTTCCAATAGAAAGCTAATTAGAGGGGAAAATTATGAGTGGAGGCCAGTAGGGGGCATCCACAAACGATCGCGGATACCTTTAGATTATCAGCACTGGTGTTG',\n",
              " 'TGAGTATCAATCGGAACTTCGCGAGGGTCCAAAACTTGCGATGCCTGAACCATAGTACAGTTATTCGTGCGAAACCCCCTATAGAGCTACAATACTCTTAGATGACGGTAATAGGTAGGTTCAGGCCCGTGCTACGCCGAGAAAAGTTAACACACGTTTGGCTTATTTAGACCATGTCTACTCTAAAACTATGGCGGTTGGCTGTGCCAGAGCCCCAGACGTGCATGCCGTTGCGTGGGTGTTCTACAGAGCTGACCCGTTCATTCACGGAGTGCCGATCAATTGGATCGGGATGACATCGACATGGTGATGTCTGGAGGAC',\n",
              " 'TTAAGCGAACGCACGCCCTCTTCTAGGGCTTCGCATAGATCCATAGGGCTTAGACCATCCGTCAGCTCCGATCTCGAATACGTTTAATTTAATCCCTGTGTGCGCACCCAGAACCATACAGAAGGAGTTTACCTAGGGTACCAACCATCGACTTCTACCGACCCATGCGTATGCCTACGGTTCGGTCTCAAGTAGGCCAATTCGTCTCTCCAGTGATCATGAGGTGGCCGATCAAATCGGTGTCGCTGGCGCAGGAAGGTTATTTAAAGGACATAATTCGTGAAGAGCGTGAAGTTTCGACGTGGTCGCGTAAGATGTCTAC',\n",
              " 'ATCAGAGTGGAGTACGCGGCTTTTCTGCGTTTGGATGTCAGGAATTAATGGTGGTAACAGATGTTTGCTCGGCGACCGGATGGATCCTAGCACTAGAAGATAAGTGGCAATGCAACTCCGACTGCTGATGTGTAACCATTACTAGTCACAAAGAACTCTCTGCGCAGACCCGATAGAAAAGACGTCATGTCTCAGCTCGTTCATGGAGTGAGAAACGAAACATAAGCACTGCCGGAGAGAACATAATCAAAGAACCGCTTTTATACTCATGTCAAGCTACGACCTCTGATATCAGTCCGAATACACGTTTCGCGACATGACG',\n",
              " 'CGAAGGGCCGGGGTCATTTTCGGACCCGGTCATGCGGTCAGCCTTAGTTCGCGTAACAATGGTTATGCTGTTTGCCTGCCAACGACTGAGGGCAGATGTCTCAGCTCGTCGTATAGAAGCGACTTGTCACACCACCATTGGCTTTAGTTAATCTCATGCATTAAAAACATTCGACGCGGTTTGGGATTCTGTAGCTGTGGAATCCGGCTAGGTAGCCTGCTTGGTTTATTAAAACCCAGACTCGCCACGGTCAAGTCGCGCGGCCTCTATAGTTACTACAACATCCATGGTAAAGGACACCCGCCAAGAATACAATGAGTAA',\n",
              " 'TGTAGTCCCCGAGCTATGAAGCTCATAGAAAAGCACCGATCGCCACAAGATGCTAGCAAGTGTCCGCCGTCTGCACTAAGATGAAGCCATGTCTCAGCACTCTAAGGTTGATTTAATTCATTAGTCGCTGCGTTTCGCAGAGTGATATGGTACGCAACTTCGCTTGAAACCGTAGGCATACGACAATCCAACTTAGGAGTCAGTCACTTGGGTAAAGGATGCATAGTCAACTACCAGACGTCAGTCAGTTCCACTTCCAACGGAGGCTTTGTGTGGCATTGTTTTATATTTACTGCGTCATGAAGTAATACAGCTCTGATAG',\n",
              " 'TTGATAATGGCCGTTCTTAGAAGTTGATTAGCGGGGTAAGGCAACCTTTATATGCGGGAGCAACTCGCTTGACCCACCCAATTGGCATAATTTTTTTAGTGAGCTCGGGCTAGAGAAACTAAAGTTTGTACAATAAGGAGCGGAGGGTAGTAAGGGATTAGGTGCCGGCGCTTAATCGCATGATGGCCCACCAACTACCATCACTCAGGAGTAATTAGCTCTCGATTACCATGTCTCAGGCCAGTCCCCCGACCAGGTTGCGCACCGTCCAAACGCAGATTAGCTGCGGACACCCCCTAGGGAAGGGCGGCTTTTATCTCAT',\n",
              " 'CCGTTTAGGGCCCGTTAATAGCTAGCAAGCAATGTGTCGCGCCGCACACGGAATATATAGTCCGGGTGAACCAGGCATAGTCCTTTCCGTAGGTCGTCACTCAGAGGCATCAGGGAGACGGGTGAGTCGTATCTAAGGGATTAGTACACCCAGTCGCCGAGGCTGTACACAGTGGCGGCCTGTGGGATACGGGCTCCATCCCTGGCACGCCAGAGGCGTGACAAGTGGGCCAGGTCCAGGATGGCCCTGAAGCTATTTTTGATCCCACGAAATATACAGTCTGACCAGTACTCAGCTTGGTTAGCACAGGCCGCTGATCAAT',\n",
              " 'GGCTGTACTGCTTGCGTGTTATATTGGTGTATAGCCTACCAGCCGAGACACGTGAATGGACAACACAATCTCTTGCACCGTCAGCACAGAAACCATTGACCATCGGAGGGGTGCCGCCTGCTAGAATTCCGATTACAGATGACTCCCAGGGCATTATGCGCACGCGCGGATTCGCTTAAGCACCTCAACAGAACACCCGAGAATGACCATGTGGTAGCTCATCTCTATCGACGGTAACTTACTGTCAAGGTCCCATAATTATCGGCTACGCCTTTCCCCCTTACGGCGTTTGCATTTCTCCAATGGCTTATTTTCATATCTG',\n",
              " 'CGGGACAGTGCGTACCAAATTCCATGGTTCGGAAGCGAACTTATAGACACAAGGTGACCCCTTCTCAGCTTGCACGGCCTCTAGGGGGATCGAAAGGTGGGATTAACGATCTTTGACTGCGCGGTGAACGTATTCCTAGTCTACGCCTGGTATATGAAGATAGTTTGGTTGCGTGGTGAACAAGATCATACAGACGAAGGCCTTAAGGTACGGGCATGGACGGTCCGGCGATGGGAATTATCCTACATATTTCCACCAGTTAGTGATAGACATCCTATACAGACGGGGAGTCGGGCAGATATCGTACACTGGTGTCCGGATG',\n",
              " 'CTGTCATCACAGTGAGGAGAGAGGAGGTTTAGTGAAGACTGCGTCTCAGCTATCAGGCCCGCCTCTACCCTTGAGTGCGCCACAAGCAAGGGAATGTGCTGTCTGGTGTTAGAGTTCATGAGCCGAAGTCGTAATGCCCAGCTAGAGATTAACAGGTGGAAAACAGGTAAATCCAGGTGCCGTATTGGACATAAAAGCGTCACAGGCGCACGCGCCATGAGACTGTACAGACACTTACATTTCCCGCTTACACGTCTCATGCTTCGAGTTTGTCTGCTTACCGTCGAAATTTAACTCTCCTTGGACGGGGGGCCAAGAACTC',\n",
              " 'ATCCCACGGCCGGTTTCGGAAGTTGCTGGTATTCCAACTGTTGGTTTTCCCGACCGTCCAGCTGCGGTGTTGAGTTAGATAGGATTTTCGAGGTTGTCGGATACTCGGTTTGATTAGATCCAACGTCACGTCAGTAAACTGCGTGCTAAGTAGCCGGTGCAAAGTCCGTTGAATTGAATGAACGCTTGACCATGTCAGCGCTGTAACCCGATAATCAAATTAAGAACTTTCACAGCCCCCCACGACGACTCAGTTCTCCTGACGTCACCTTGCTAGTCCCGTGGGATCGTTCTTGATCTTTCCAGTAAGTAGGGTGACGGGC',\n",
              " 'CACGTATGAATCCTCGTAGACATTTATTTGGGGTCACCACGATCAAAAGGAAATTGTCTCAGCTGGAGTAACGGGAGCCATGCCCCAACGAGCGTTTTGGCACATCTTAATCCAATCTCCCGTGGGTGCTCTATCCATATCCAAATGAATTAGATTCTACCGCCAGCTCCTCTTTGACTTGCCCTTCTGCAACCGACGCGCGAATATCTGCTTTAGATTCGGGGCGTGGGCATGCAAGATCCAACCGGCCTCTGTGCATGCCAACATCTTTCGCAGGGGGACGCCGTCCGGTCACCCACACGGTGTTTAGTTACCGTCTAGA',\n",
              " 'GGACCTAGAATCAAGTCGCACAGGAAGTCGCCCAGATTACTTGCCCTGAGTGATGTCTGAAAAGGCATCTAGTACAGACTCGTTTGCTGAACAATACTATGGTAGGTTAACAATCCTGGTACTCCCCGTGCAGCGAGTTTGAGGGGAAATCGAAACGGGCCTGTTCTCGTTCCCATCTTCGCCGGGGGATGCGCTCAGTTATAACTATGATGTAATGTAGCTAGTCCACCCAGATTAGTGGTTATCTGATCCCCGTACCCCAAAGTCCCTGACCATGCTCCAGCTATAACGAATAATATAATAATATAACACATTTGAAGTT',\n",
              " 'TACGTTAACCGAAAACGGAGACTCACCCCAGAACCGGTGTTATGCTGAAAGCAATTTCGTGGTTAGCCGTTTCGGCGTGACGTAAACTACATAACACACGCATCAACTTTATGATCTAGGCACCGCGCCCCCCCTGACCAAATCGGACCTTTGAGACCATGTCTCATGCTATGACAACTTTTGCGAAGCGTGCAACCCAGGGCCCCTCCGTCTTAAGAGAAATACGGAAATGCCTGACGGGCTCTAGTCGCGAGGCGTAAGGCTCATGCCAAGTCCTACCATTCGGGAACCTTACATGTATTAGTAATTTACTTGAACTCTT',\n",
              " 'AAATCAGGTCTTTTATCCTCCACTTCACCACCCACCGGGACCTGCGAGTGTTCCACTCAGTAATATACCCCAGTTTGTTCAGTTTCGTTTCCCTAGACTTATCGGGTTTGTGGAACGATCACGTAGAGTCAGGTATTGTTTGCTGGTCGTTCAACGCGACGGGATCATAAGCTATCTACCTGCGAGGCGGAACGCGGAGAGGAGATGGTGGCGTCTATTGGGAGACCATGTCTCTATTGGCGAGGTGAGCGAAGCCCTTTGGCTTGTGCCAACTATAAAATTCCAAAGCGAATCTTCGCATACATGCTCACCATCGGTTGAC',\n",
              " 'TGCGTGGGCTCCTGACTGTCCGGGGATTATAGGTTCATCGACCTGCTCCTCATGGGTTAAACTGGTTTATCAGACAGATGGCTACTTTCGCTCCGCTATCAATTTATACGTCGTAACGCGGAAGTTATGGGGAGTCGGAATCCGCACGAGACCACGTTCTCCGTATGCAGGGGGGAACCTATTCCCTAGGCCAGAGATACGCTCCACCAAAGGCTAGATAGATACGACGCATTATGTACAACCCCACGGTTGCTGCATTCATTTAAGCGTCCATTTACTCCTCGTAGCGCTGATGACCATAGGTCAGCTCGGTAGCCATTTA',\n",
              " 'GGTCTTGCCCTCGAAGTTGGTGACCAGAGCTCAGCTGAAAAAGCTCATTCTGTCGTTAATATAGAGCATATGGGCGCAGAATGTGGTACATTGATGGATTATACAGCGCTCGTTCGGAACTCGGCCGGATGCGTGAATTAAGTTCAAAGATCTGATGATCTAATTAAAGGTATGTTCCAGGAAGGCGTCAAAACACGCTCTGACCCCTCATCAACGTTATCTAACGCCGGCTTCGGTGATGCGGTTGACTGGCTCCGGTGACTCCTCACCCGGTGGGTTTCGATCACGCTATTTATTTTTGACAGGACGATGGCACGAGTGA']"
            ]
          },
          "metadata": {},
          "execution_count": 146
        }
      ]
    },
    {
      "cell_type": "code",
      "source": [
        "GibbsSampler(Dna, k, t, N)"
      ],
      "metadata": {
        "id": "bwmmmL-i9yYF"
      },
      "execution_count": null,
      "outputs": []
    }
  ]
}