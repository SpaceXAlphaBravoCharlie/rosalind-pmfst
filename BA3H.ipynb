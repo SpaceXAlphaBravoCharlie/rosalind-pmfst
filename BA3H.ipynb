{
  "nbformat": 4,
  "nbformat_minor": 0,
  "metadata": {
    "colab": {
      "name": "BA3H.ipynb",
      "provenance": []
    },
    "kernelspec": {
      "name": "python3",
      "display_name": "Python 3"
    },
    "language_info": {
      "name": "python"
    }
  },
  "cells": [
    {
      "cell_type": "code",
      "execution_count": 39,
      "metadata": {
        "id": "1tWcKUhYeTha"
      },
      "outputs": [],
      "source": [
        "def FindAllKmers(dna_string, k):\n",
        "  kmers_list = []\n",
        "  i = 0\n",
        "  while i + (k - 1) <= len(dna_string) - 1:\n",
        "    kmers_list.append(dna_string[i:i+k])\n",
        "    i = i + 1\n",
        "  return kmers_list"
      ]
    },
    {
      "cell_type": "code",
      "source": [
        "def DeBruijnGraphK(patterns, k):\n",
        "  adjacency_dict = {}\n",
        "  for kmer in patterns:\n",
        "    adjacency_dict.setdefault(kmer[0:len(kmer)-1], list())\n",
        "    adjacency_dict[kmer[0:len(kmer) - 1]].append(kmer[1:len(kmer)])\n",
        "  return adjacency_dict"
      ],
      "metadata": {
        "id": "GINAG2VIjrSt"
      },
      "execution_count": 40,
      "outputs": []
    },
    {
      "cell_type": "markdown",
      "source": [
        "U DeBruijn grafu su identitični čvorovi gluani zajedno --> dakle, u listi čvorova ne možemo imati duplikate, možemo imati samo duplikatne veze, tj. readove koji se ponavljaju"
      ],
      "metadata": {
        "id": "YK-i_3bZsy9T"
      }
    },
    {
      "cell_type": "code",
      "source": [
        "def DeBruijnGraphNodes(de_bruijn_graph_dict):\n",
        "  de_bruijn_graph_nodes = set()\n",
        "  for key,values_list in de_bruijn_graph_dict.items():\n",
        "    de_bruijn_graph_nodes.update([key] + values_list)\n",
        "  return list(de_bruijn_graph_nodes) #mapping from read to number defined by mapping from index of list --> element at that index"
      ],
      "metadata": {
        "id": "c9j3yJDusVfT"
      },
      "execution_count": 63,
      "outputs": []
    },
    {
      "cell_type": "code",
      "source": [
        "def DefineGraphDict(de_bruijn_graph_dict, de_bruijn_graph_nodes):\n",
        "  graph_dict = {}\n",
        "  for i in range(len(de_bruijn_graph_nodes)):\n",
        "    graph_dict.setdefault(i,[])\n",
        "  for key,values_list in de_bruijn_graph_dict.items():\n",
        "    for value in values_list:\n",
        "      graph_dict[de_bruijn_graph_nodes.index(key)].append(de_bruijn_graph_nodes.index(value))\n",
        "  return graph_dict"
      ],
      "metadata": {
        "id": "GEvQV81PoLRZ"
      },
      "execution_count": 64,
      "outputs": []
    },
    {
      "cell_type": "code",
      "source": [
        "def VisitedEdges(graph_dict):\n",
        "  visited_edges_dict = {}\n",
        "  for key,values_list in graph_dict.items():\n",
        "    for value in values_list:\n",
        "      visited_edges_dict.setdefault((key,value), 0)\n",
        "  return visited_edges_dict"
      ],
      "metadata": {
        "id": "vuFQHYaswcL1"
      },
      "execution_count": 43,
      "outputs": []
    },
    {
      "cell_type": "code",
      "source": [
        "def NodeInDegree(graph_dict,node):\n",
        "  node_indegree = 0\n",
        "  for adjacent_nodes_list in graph_dict.values():\n",
        "    if node in adjacent_nodes_list:\n",
        "      node_indegree = node_indegree + 1\n",
        "  return node_indegree"
      ],
      "metadata": {
        "id": "SBhOevLAwgc4"
      },
      "execution_count": 44,
      "outputs": []
    },
    {
      "cell_type": "code",
      "source": [
        "def NodeOutDegree(graph_dict,node):\n",
        "  return len(graph_dict[node])"
      ],
      "metadata": {
        "id": "76PFAz6Kwh-p"
      },
      "execution_count": 45,
      "outputs": []
    },
    {
      "cell_type": "code",
      "source": [
        "import numpy as np\n",
        "from random import randint, randrange"
      ],
      "metadata": {
        "id": "Mn0t-QjSwjhu"
      },
      "execution_count": 59,
      "outputs": []
    },
    {
      "cell_type": "code",
      "source": [
        "def EulerianCycle(graph_dict):\n",
        "  visited_edges_dict = VisitedEdges(graph_dict)\n",
        "  starting_node = randint(min(graph_dict.keys()), max(graph_dict.keys()))\n",
        "  cycle = [starting_node]\n",
        "  while sum(visited_edges_dict.values()) < len(visited_edges_dict): #repeat until Eulerian cycle is found --> input is an Eulerian directed graph --> Eulerian cycle can always be found\n",
        "    #while loop entered --> sum(visited_edges_dict.values()) < len(visited_edges_dict) --> cycle smaller than Eulerian cycle is being formed\n",
        "    possible_adjacent_nodes = [key[1] for key in visited_edges_dict.keys() if key[0] == cycle[len(cycle)-1] and visited_edges_dict[key] == 0]\n",
        "    if len(possible_adjacent_nodes) == 0 and sum(visited_edges_dict.values()) < len(visited_edges_dict): #cycle smaller than Eulerian cycle completed as we got stuck at starting node --> all edges are not visited\n",
        "      #possible_starting_nodes_list = [node for node in cycle if NodeOutDegree(graph_dict,node) >= NodeOutDegree(graph_dict,cycle[0])] #no, thsi way we are choosing node regardless of the number of times it appeared in cycle\n",
        "      #possible_starting_nodes_list = [visited_edge[0] for node in cycle for visited_edge in visited_edges_dict.keys() if visited_edge[0] == node and visited_edges_dict[visited_edge] == 1] --> this caused efficiency problems\n",
        "      possible_starting_nodes_list = [node for node in cycle if NodeOutDegree(graph_dict,node) > cycle.count(node)] #if NodeOutDegree(node) > number of times node occurs in cycle then there are unused outgoing edges, every occurence measn that one outgoing edge is used \n",
        "      starting_node = possible_starting_nodes_list[randrange(0,len(possible_starting_nodes_list))] #randomly choose new starting node among nodes with higher NodeOutDegree than previous starting node\n",
        "      cycle = cycle[cycle.index(starting_node):len(cycle)] + cycle[1:cycle.index(starting_node)+1] #construct new_cycle using previous cycle\n",
        "    else: #len(possible_adjacent_nodes) > 1 and sum(visited_edges_dict.values()) < len(visited_edges_dict) --> cycle is not finished yet\n",
        "      if len(possible_adjacent_nodes) == 1:\n",
        "        next_node = possible_adjacent_nodes[0]\n",
        "        visited_edges_dict[(cycle[len(cycle)-1], next_node)] = 1\n",
        "        cycle.append(next_node)\n",
        "      else:\n",
        "        next_node = possible_adjacent_nodes[randint(0,len(possible_adjacent_nodes)-1)]\n",
        "        visited_edges_dict[(cycle[len(cycle)-1], next_node)] = 1\n",
        "        cycle.append(next_node)\n",
        "  return cycle"
      ],
      "metadata": {
        "id": "K2c71I91wl72"
      },
      "execution_count": 47,
      "outputs": []
    },
    {
      "cell_type": "code",
      "source": [
        "def FindUnbalancedNodes(graph_dict):\n",
        "  unbalanced_nodes = []\n",
        "  for node in graph_dict.keys():\n",
        "    if NodeInDegree(graph_dict,node) != NodeOutDegree(graph_dict,node):\n",
        "      unbalanced_nodes.append(node)\n",
        "  for adjacent_nodes_list in graph_dict.values():\n",
        "    for adjacent_node in adjacent_nodes_list:\n",
        "      if adjacent_node not in graph_dict.keys():\n",
        "        unbalanced_nodes.append(adjacent_node)\n",
        "  return unbalanced_nodes"
      ],
      "metadata": {
        "id": "yGhImkKSxQZh"
      },
      "execution_count": 48,
      "outputs": []
    },
    {
      "cell_type": "code",
      "source": [
        "def UnbalancedNodesOrder(graph_dict,unbalanced_nodes):\n",
        "  ordered_unbalanced_nodes = [unbalanced_nodes[0]]\n",
        "  if NodeInDegree(graph_dict, unbalanced_nodes[1]) < NodeOutDegree(graph_dict, unbalanced_nodes[1]): #node lacks one incoming edge --> node is starting node in Eulerian path\n",
        "    ordered_unbalanced_nodes.insert(0, unbalanced_nodes[1])\n",
        "  else: #NodeInDegree(graph_dict, unbalanced_nodes[1]) > NodeOutDegree(graph_dict, unbalanced_nodes[1]) --> node lacks one outgoing edge --> node is ending node in Eulerian path\n",
        "    ordered_unbalanced_nodes.insert(1, unbalanced_nodes[1])\n",
        "  return ordered_unbalanced_nodes"
      ],
      "metadata": {
        "id": "82_uNT0qxSuW"
      },
      "execution_count": 49,
      "outputs": []
    },
    {
      "cell_type": "code",
      "source": [
        "def BalanceUnbalancedNodes(graph_dict, ordered_unbalanced_nodes):\n",
        "  #ordered_unbalanced_nodes = [starting_node, ending_node]\n",
        "  graph_dict.update({ordered_unbalanced_nodes[1]:[ordered_unbalanced_nodes[0]]})\n",
        "  return graph_dict"
      ],
      "metadata": {
        "id": "TGsHIvRGxYmc"
      },
      "execution_count": 50,
      "outputs": []
    },
    {
      "cell_type": "code",
      "source": [
        "def FindEulerianPathInEulerianCycle(ordered_unbalanced_nodes,eulerian_cycle):\n",
        "  #ordered_unbalanced_nodes = [starting_node,ending_node]\n",
        "  eulerian_cycle = np.array(eulerian_cycle)\n",
        "  eulerian_path = []\n",
        "  eulerian_path_start_indices = list(np.where(eulerian_cycle == ordered_unbalanced_nodes[0])[0])\n",
        "  eulerian_path_end_indices = list(np.where(eulerian_cycle == ordered_unbalanced_nodes[1])[0])\n",
        "  eulerian_cycle = list(eulerian_cycle)\n",
        "  for start_index in eulerian_path_start_indices:\n",
        "    for end_index in eulerian_path_end_indices:\n",
        "      if end_index < start_index:\n",
        "        if (len(eulerian_cycle) - 1 - start_index + 1) + (end_index - 0 + 1) == len(eulerian_cycle):\n",
        "          return eulerian_cycle[start_index:len(eulerian_cycle)] + eulerian_cycle[1:end_index+1]\n",
        "      else:\n",
        "        if (end_index - start_index + 1) == len(eulerian_cycle):\n",
        "          return eulerian_cycle[start_index:end_index+1]"
      ],
      "metadata": {
        "id": "2aeusj2HxbM1"
      },
      "execution_count": 51,
      "outputs": []
    },
    {
      "cell_type": "code",
      "source": [
        "def PrintResult(eulerian_cycle):\n",
        "  string_to_print = ''\n",
        "  for node in eulerian_cycle:\n",
        "    string_to_print = string_to_print + str(node) + '->'\n",
        "  print(string_to_print[0:len(string_to_print)-2])"
      ],
      "metadata": {
        "id": "-SHwAYRUwngP"
      },
      "execution_count": 52,
      "outputs": []
    },
    {
      "cell_type": "code",
      "source": [
        "def AssembleStringFromNodes(nodes):\n",
        "  string = str(nodes[0])\n",
        "  for i in range(1,len(nodes)):\n",
        "    string = string + str(nodes[i][k-1-1])\n",
        "  return string"
      ],
      "metadata": {
        "id": "2LYZbHo-0E9R"
      },
      "execution_count": 88,
      "outputs": []
    },
    {
      "cell_type": "code",
      "source": [
        "def StringReconstruction(reads,k):\n",
        "  de_bruijn_graph_dict = DeBruijnGraphK(reads,k)\n",
        "  de_bruijn_graph_nodes = DeBruijnGraphNodes(de_bruijn_graph_dict)\n",
        "  graph_dict = DefineGraphDict(de_bruijn_graph_dict,de_bruijn_graph_nodes)\n",
        "  unbalanced_nodes = FindUnbalancedNodes(graph_dict)\n",
        "  unbalanced_nodes = UnbalancedNodesOrder(graph_dict,unbalanced_nodes)\n",
        "  graph_dict = BalanceUnbalancedNodes(graph_dict,unbalanced_nodes)\n",
        "  eulerian_cycle = EulerianCycle(graph_dict)\n",
        "  eulerian_path = FindEulerianPathInEulerianCycle(unbalanced_nodes,eulerian_cycle)\n",
        "  for i in range(len(eulerian_path)):\n",
        "    eulerian_path[i] = de_bruijn_graph_nodes[eulerian_path[i]]\n",
        "  string = AssembleStringFromNodes(eulerian_path)\n",
        "  return string"
      ],
      "metadata": {
        "id": "fkLFbygJwWoa"
      },
      "execution_count": 89,
      "outputs": []
    },
    {
      "cell_type": "code",
      "source": [
        "k = 4"
      ],
      "metadata": {
        "id": "JG_SfdJGwYAP"
      },
      "execution_count": 90,
      "outputs": []
    },
    {
      "cell_type": "code",
      "source": [
        "reads = [\n",
        "'CTTA',\n",
        "'ACCA',\n",
        "'TACC',\n",
        "'GGCT',\n",
        "'GCTT',\n",
        "'TTAC']"
      ],
      "metadata": {
        "id": "f19LZ9PGwZLp"
      },
      "execution_count": 91,
      "outputs": []
    },
    {
      "cell_type": "code",
      "source": [
        "StringReconstruction(reads,k)"
      ],
      "metadata": {
        "colab": {
          "base_uri": "https://localhost:8080/",
          "height": 36
        },
        "id": "iSD8-jCtx4YH",
        "outputId": "a722ab62-c4ff-4998-bc3c-d6604a26b102"
      },
      "execution_count": 92,
      "outputs": [
        {
          "output_type": "execute_result",
          "data": {
            "text/plain": [
              "'GGCTTACCA'"
            ],
            "application/vnd.google.colaboratory.intrinsic+json": {
              "type": "string"
            }
          },
          "metadata": {},
          "execution_count": 92
        }
      ]
    },
    {
      "cell_type": "code",
      "source": [
        "with open('/content/rosalind_ba3h.txt') as task_file:\n",
        "  reads = [line.rstrip() for line in task_file]"
      ],
      "metadata": {
        "id": "RL83Rd9J0sfD"
      },
      "execution_count": 100,
      "outputs": []
    },
    {
      "cell_type": "code",
      "source": [
        "k = 25"
      ],
      "metadata": {
        "id": "NyQjI3b_0vta"
      },
      "execution_count": 101,
      "outputs": []
    },
    {
      "cell_type": "code",
      "source": [
        "f = open(\"task_result.txt\", \"w\")\n",
        "f.write(StringReconstruction(reads,k))\n",
        "f.close()"
      ],
      "metadata": {
        "id": "Y75giMvS0z1v"
      },
      "execution_count": 99,
      "outputs": []
    }
  ]
}