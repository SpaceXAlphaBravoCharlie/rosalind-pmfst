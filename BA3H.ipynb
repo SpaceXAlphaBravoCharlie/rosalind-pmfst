{
  "nbformat": 4,
  "nbformat_minor": 0,
  "metadata": {
    "colab": {
      "name": "BA3H.ipynb",
      "provenance": []
    },
    "kernelspec": {
      "name": "python3",
      "display_name": "Python 3"
    },
    "language_info": {
      "name": "python"
    }
  },
  "cells": [
    {
      "cell_type": "code",
      "execution_count": 17,
      "metadata": {
        "id": "1tWcKUhYeTha"
      },
      "outputs": [],
      "source": [
        "def FindAllKmers(dna_string,k):\n",
        "  kmers_list = []\n",
        "  i = 0\n",
        "  while i + k - 1 <= len(dna_string) - 1:\n",
        "    kmers_list.append(dna_string[i:i+k])\n",
        "    i = i + 1\n",
        "  return kmers_list"
      ]
    },
    {
      "cell_type": "code",
      "source": [
        "def Prefix(pattern):\n",
        "  return pattern[0:len(pattern)-1]"
      ],
      "metadata": {
        "id": "CdUkCDleTDR3"
      },
      "execution_count": 18,
      "outputs": []
    },
    {
      "cell_type": "code",
      "source": [
        "def Suffix(pattern):\n",
        "  return pattern[1:len(pattern)]"
      ],
      "metadata": {
        "id": "4eKFVM4vTOvI"
      },
      "execution_count": 19,
      "outputs": []
    },
    {
      "cell_type": "code",
      "source": [
        "def DeBruijnGraphK(patterns,k):\n",
        "  de_bruijn_graph_dict = {}\n",
        "  for pattern in patterns:\n",
        "    de_bruijn_graph_dict.setdefault(Prefix(pattern),[])\n",
        "    de_bruijn_graph_dict[Prefix(pattern)].append(Suffix(pattern))\n",
        "  return de_bruijn_graph_dict"
      ],
      "metadata": {
        "id": "JztxzqtIS4M2"
      },
      "execution_count": 20,
      "outputs": []
    },
    {
      "cell_type": "markdown",
      "source": [
        "U DeBruijn grafu su identitični čvorovi gluani zajedno --> dakle, u listi čvorova ne možemo imati duplikate, možemo imati samo duplikatne veze, tj. readove koji se ponavljaju --> ako zbrojimo sve liste susjedstva onda možemo imati duplikate"
      ],
      "metadata": {
        "id": "YK-i_3bZsy9T"
      }
    },
    {
      "cell_type": "code",
      "source": [
        "def DeBruijnGraphNodes(de_bruijn_graph_dict):\n",
        "  de_bruijn_graph_nodes = set()\n",
        "  for node,adjacent_nodes in de_bruijn_graph_dict.items():\n",
        "    de_bruijn_graph_nodes.update([node] + adjacent_nodes)\n",
        "  return list(de_bruijn_graph_nodes) #mapping from read to number defined by mapping from index of list --> element at that index"
      ],
      "metadata": {
        "id": "ganYYwq5UvL3"
      },
      "execution_count": 21,
      "outputs": []
    },
    {
      "cell_type": "code",
      "source": [
        "def DefineGraphDict(de_bruijn_graph_dict,de_bruijn_graph_nodes):\n",
        "  graph_dict = {}\n",
        "  for i in range(len(de_bruijn_graph_nodes)):\n",
        "    graph_dict.setdefault(i,[])\n",
        "  for key,values_list in de_bruijn_graph_dict.items():\n",
        "    for value in values_list:\n",
        "      graph_dict[de_bruijn_graph_nodes.index(key)].append(de_bruijn_graph_nodes.index(value))\n",
        "  return graph_dict"
      ],
      "metadata": {
        "id": "GEvQV81PoLRZ"
      },
      "execution_count": 22,
      "outputs": []
    },
    {
      "cell_type": "markdown",
      "source": [
        "U listi susjedstva možemo imati duplikatne čvorove, npr.\n",
        "\n",
        "AT --> TG, TG, TG (u genomu imamo 3 puta kmer ATG)\n",
        "\n",
        "U ovom slučaju u rječniku moramo imati 3 ključa --> (AT, TG), (AT, TG), (AT, TG) --> ne možemo jer ključ mora biti jedinstven"
      ],
      "metadata": {
        "id": "WnlL6z2-a2eG"
      }
    },
    {
      "cell_type": "code",
      "source": [
        "def VisitedEdges(graph_dict):\n",
        "  visited_edges_dict = {}\n",
        "  for key,adjacent_nodes in graph_dict.items():\n",
        "    for node in adjacent_nodes:\n",
        "      visited_edges_dict.setdefault((key,node),[])\n",
        "      visited_edges_dict[(key,node)].append(0)\n",
        "  return visited_edges_dict"
      ],
      "metadata": {
        "id": "n3HHO4VWafV7"
      },
      "execution_count": 23,
      "outputs": []
    },
    {
      "cell_type": "code",
      "source": [
        "def NodeInDegree(de_bruijn_graph_dict,node):\n",
        "  node_in_degree = 0\n",
        "  for values_list in de_bruijn_graph_dict.values():\n",
        "    if node in values_list:\n",
        "      node_in_degree = node_in_degree + 1\n",
        "  return node_in_degree"
      ],
      "metadata": {
        "id": "SBhOevLAwgc4"
      },
      "execution_count": 24,
      "outputs": []
    },
    {
      "cell_type": "code",
      "source": [
        "def NodeOutDegree(graph_dict,node):\n",
        "  return len(graph_dict[node])"
      ],
      "metadata": {
        "id": "76PFAz6Kwh-p"
      },
      "execution_count": 25,
      "outputs": []
    },
    {
      "cell_type": "code",
      "source": [
        "import numpy as np\n",
        "from random import randint, randrange"
      ],
      "metadata": {
        "id": "Mn0t-QjSwjhu"
      },
      "execution_count": 26,
      "outputs": []
    },
    {
      "cell_type": "code",
      "source": [
        "def VisitedEdgesDictSum(visited_edges_dict):\n",
        "  visited_edges_dict_sum = 0\n",
        "  for values_list in visited_edges_dict.values():\n",
        "    visited_edges_dict_sum = visited_edges_dict_sum + sum(values_list)\n",
        "  return visited_edges_dict_sum"
      ],
      "metadata": {
        "id": "Zqk17Tu5I3Q5"
      },
      "execution_count": 27,
      "outputs": []
    },
    {
      "cell_type": "code",
      "source": [
        "def VisitedEdgesDictValueCount(visited_edges_dict):\n",
        "  visited_edges_dict_value_count = 0\n",
        "  for values_list in visited_edges_dict.values():\n",
        "    visited_edges_dict_value_count = visited_edges_dict_value_count + len(values_list)\n",
        "  return visited_edges_dict_value_count"
      ],
      "metadata": {
        "id": "nOisXoZ5I4jx"
      },
      "execution_count": 28,
      "outputs": []
    },
    {
      "cell_type": "code",
      "source": [
        "def EulerianCycle(graph_dict):\n",
        "  visited_edges_dict = VisitedEdges(graph_dict)\n",
        "  starting_node = randint(min(graph_dict.keys()),max(graph_dict.keys())) #lower and upper bound included\n",
        "  cycle = [starting_node]\n",
        "  visited_edges_dict_value_count = VisitedEdgesDictValueCount(visited_edges_dict)\n",
        "  while VisitedEdgesDictSum(visited_edges_dict) < visited_edges_dict_value_count: #repeat until Eulerian cycle is found --> input is an Eulerian directed graph --> Eulerian cycle can always be found\n",
        "    #while loop entered --> sum(visited_edges_dict.values()) < len(visited_edges_dict) --> cycle smaller than Eulerian cycle is being formed\n",
        "    possible_adjacent_nodes = [key[1] for key in visited_edges_dict.keys() if key[0] == cycle[len(cycle)-1] and visited_edges_dict[key].count(0) > 0]\n",
        "    if len(possible_adjacent_nodes) == 0 and VisitedEdgesDictSum(visited_edges_dict) < visited_edges_dict_value_count: #cycle smaller than Eulerian cycle completed as we got stuck at starting node --> all edges are not visited\n",
        "      #possible_starting_nodes_list = [node for node in cycle if NodeOutDegree(graph_dict,node) >= NodeOutDegree(graph_dict,cycle[0])] #no, this way we are choosing node regardless of the number of times it appeared in cycle\n",
        "      #possible_starting_nodes_list = [visited_edge[0] for node in cycle for visited_edge in visited_edges_dict.keys() if visited_edge[0] == node and visited_edges_dict[visited_edge] == 1] --> this caused efficiency problems\n",
        "      possible_starting_nodes_list = [node for node in cycle if NodeOutDegree(graph_dict,node) > cycle.count(node)] #if NodeOutDegree(node) > number of times node occurs in cycle then there are unused outgoing edges (and unused ingoing edges because of unused outgoing edges, unused outgoing edges must be visited by unused incoming edges), every occurence means that one outgoing edge is used\n",
        "      if len(possible_starting_nodes_list) == 0: #if this condition is satisfied than graph is not strongly connected --> there is no Eulerian cycle nor Eulerian path in graph\n",
        "        return []\n",
        "      if len(possible_starting_nodes_list) == 1:\n",
        "        starting_node = possible_starting_nodes_list[0] #choose only available starting node\n",
        "      else:\n",
        "        starting_node = possible_starting_nodes_list[randrange(0,len(possible_starting_nodes_list))] #randomly choose new starting node among nodes with higher NodeOutDegree than previous starting node\n",
        "      cycle = cycle[cycle.index(starting_node):len(cycle)] + cycle[1:cycle.index(starting_node)+1] #construct new_cycle using previous cycle\n",
        "    else: #len(possible_adjacent_nodes) > 1 and sum(visited_edges_dict.values()) < len(visited_edges_dict) --> cycle is not finished yet\n",
        "      if len(possible_adjacent_nodes) == 1:\n",
        "        next_node = possible_adjacent_nodes[0]\n",
        "        #visited_edges_dict[(cycle[len(cycle)-1], next_node)] = 1\n",
        "        visited_edges_dict_value_list = visited_edges_dict[(cycle[len(cycle)-1], next_node)]\n",
        "        visited_edges_dict_value_list[visited_edges_dict_value_list.index(0)] = 1 #always update the first zero\n",
        "        cycle.append(next_node)\n",
        "      else:\n",
        "        next_node = possible_adjacent_nodes[randint(0,len(possible_adjacent_nodes)-1)] #lower and upper bound included\n",
        "        visited_edges_dict_value_list = visited_edges_dict[(cycle[len(cycle)-1], next_node)]\n",
        "        visited_edges_dict_value_list[visited_edges_dict_value_list.index(0)] = 1 #always update the first zero\n",
        "        cycle.append(next_node)\n",
        "  return cycle"
      ],
      "metadata": {
        "id": "K2c71I91wl72"
      },
      "execution_count": 29,
      "outputs": []
    },
    {
      "cell_type": "markdown",
      "source": [
        "U grafu sa Eulerovim putom imamo 2 nebalansirana čvora --> ne možemo imati samo jedan nebalansirani čvor jer njegovim balansiranjem (dodavanjem ulazne ili izlazne veze) neki drugi čvor ćemo učinit nebalansiranim. Dakle, ne možemo imati neparan broj nebalansiranih čvorova."
      ],
      "metadata": {
        "id": "eiqo-hKraBee"
      }
    },
    {
      "cell_type": "markdown",
      "source": [
        "Thus, a nearly balanced graph has an Eulerian path if and only if\n",
        "adding an edge between its unbalanced nodes makes the graph balanced and strongly\n",
        "connected."
      ],
      "metadata": {
        "id": "LPum1xYEapCL"
      }
    },
    {
      "cell_type": "code",
      "source": [
        "def FindUnbalancedNodes(graph_dict):\n",
        "  unbalanced_nodes = []\n",
        "  for node in graph_dict.keys():\n",
        "    if NodeInDegree(graph_dict,node) != NodeOutDegree(graph_dict,node):\n",
        "      unbalanced_nodes.append(node)\n",
        "  for adjacent_nodes_list in graph_dict.values():\n",
        "    for adjacent_node in adjacent_nodes_list:\n",
        "      if adjacent_node not in graph_dict.keys():\n",
        "        unbalanced_nodes.append(adjacent_node)\n",
        "  return unbalanced_nodes"
      ],
      "metadata": {
        "id": "yGhImkKSxQZh"
      },
      "execution_count": 30,
      "outputs": []
    },
    {
      "cell_type": "code",
      "source": [
        "def UnbalancedNodesOrder(graph_dict,unbalanced_nodes):\n",
        "  ordered_unbalanced_nodes = [unbalanced_nodes[0]]\n",
        "  if NodeInDegree(graph_dict, unbalanced_nodes[1]) < NodeOutDegree(graph_dict, unbalanced_nodes[1]): #node lacks one incoming edge --> node is starting node in Eulerian path\n",
        "    ordered_unbalanced_nodes.insert(0, unbalanced_nodes[1])\n",
        "  else: #NodeInDegree(graph_dict, unbalanced_nodes[1]) > NodeOutDegree(graph_dict, unbalanced_nodes[1]) --> node lacks one outgoing edge --> node is ending node in Eulerian path\n",
        "    ordered_unbalanced_nodes.insert(1, unbalanced_nodes[1])\n",
        "  return ordered_unbalanced_nodes"
      ],
      "metadata": {
        "id": "82_uNT0qxSuW"
      },
      "execution_count": 31,
      "outputs": []
    },
    {
      "cell_type": "code",
      "source": [
        "def BalanceUnbalancedNodes(graph_dict, ordered_unbalanced_nodes):\n",
        "  #ordered_unbalanced_nodes = [starting_node, ending_node]\n",
        "  graph_dict.update({ordered_unbalanced_nodes[1]:[ordered_unbalanced_nodes[0]]})\n",
        "  return graph_dict"
      ],
      "metadata": {
        "id": "TGsHIvRGxYmc"
      },
      "execution_count": 32,
      "outputs": []
    },
    {
      "cell_type": "code",
      "source": [
        "def FindEulerianPathInEulerianCycle(ordered_unbalanced_nodes,eulerian_cycle):\n",
        "  #ordered_unbalanced_nodes = [starting_node,ending_node]\n",
        "  eulerian_cycle = np.array(eulerian_cycle)\n",
        "  eulerian_path = []\n",
        "  eulerian_path_start_indices = list(np.where(eulerian_cycle == ordered_unbalanced_nodes[0])[0])\n",
        "  eulerian_path_end_indices = list(np.where(eulerian_cycle == ordered_unbalanced_nodes[1])[0])\n",
        "  eulerian_cycle = list(eulerian_cycle)\n",
        "  for start_index in eulerian_path_start_indices:\n",
        "    for end_index in eulerian_path_end_indices:\n",
        "      if end_index < start_index:\n",
        "        if (len(eulerian_cycle) - 1 - start_index + 1) + (end_index - 0 + 1) == len(eulerian_cycle):\n",
        "          return eulerian_cycle[start_index:len(eulerian_cycle)] + eulerian_cycle[1:end_index+1]\n",
        "      else:\n",
        "        if (end_index - start_index + 1) == len(eulerian_cycle):\n",
        "          return eulerian_cycle[start_index:end_index+1]"
      ],
      "metadata": {
        "id": "2aeusj2HxbM1"
      },
      "execution_count": 33,
      "outputs": []
    },
    {
      "cell_type": "code",
      "source": [
        "def PrintResult(eulerian_cycle):\n",
        "  string_to_print = ''\n",
        "  for node in eulerian_cycle:\n",
        "    string_to_print = string_to_print + str(node) + '->'\n",
        "  print(string_to_print[0:len(string_to_print)-2])"
      ],
      "metadata": {
        "id": "-SHwAYRUwngP"
      },
      "execution_count": 34,
      "outputs": []
    },
    {
      "cell_type": "code",
      "source": [
        "def AssembleStringFromNodes(nodes):\n",
        "  string = str(nodes[0])\n",
        "  for i in range(1,len(nodes)):\n",
        "    string = string + str(nodes[i][k-1-1])\n",
        "  return string"
      ],
      "metadata": {
        "id": "2LYZbHo-0E9R"
      },
      "execution_count": 35,
      "outputs": []
    },
    {
      "cell_type": "code",
      "source": [
        "def StringReconstruction(reads,k):\n",
        "  de_bruijn_graph_dict = DeBruijnGraphK(reads,k)\n",
        "  de_bruijn_graph_nodes = DeBruijnGraphNodes(de_bruijn_graph_dict)\n",
        "  graph_dict = DefineGraphDict(de_bruijn_graph_dict,de_bruijn_graph_nodes)\n",
        "  unbalanced_nodes = FindUnbalancedNodes(graph_dict)\n",
        "  unbalanced_nodes = UnbalancedNodesOrder(graph_dict,unbalanced_nodes)\n",
        "  graph_dict = BalanceUnbalancedNodes(graph_dict,unbalanced_nodes)\n",
        "  eulerian_cycle = EulerianCycle(graph_dict)\n",
        "  eulerian_path = FindEulerianPathInEulerianCycle(unbalanced_nodes,eulerian_cycle)\n",
        "  for i in range(len(eulerian_path)):\n",
        "    eulerian_path[i] = de_bruijn_graph_nodes[eulerian_path[i]]\n",
        "  string = AssembleStringFromNodes(eulerian_path)\n",
        "  return string"
      ],
      "metadata": {
        "id": "fkLFbygJwWoa"
      },
      "execution_count": 36,
      "outputs": []
    },
    {
      "cell_type": "code",
      "source": [
        "k = 4"
      ],
      "metadata": {
        "id": "JG_SfdJGwYAP"
      },
      "execution_count": 39,
      "outputs": []
    },
    {
      "cell_type": "code",
      "source": [
        "reads = [\n",
        "'CTTA',\n",
        "'ACCA',\n",
        "'TACC',\n",
        "'GGCT',\n",
        "'GCTT',\n",
        "'TTAC']"
      ],
      "metadata": {
        "id": "f19LZ9PGwZLp"
      },
      "execution_count": 40,
      "outputs": []
    },
    {
      "cell_type": "code",
      "source": [
        "StringReconstruction(reads,k)"
      ],
      "metadata": {
        "colab": {
          "base_uri": "https://localhost:8080/",
          "height": 36
        },
        "id": "iSD8-jCtx4YH",
        "outputId": "e4b7100b-c11a-4d3f-adca-853dbcd592cf"
      },
      "execution_count": 41,
      "outputs": [
        {
          "output_type": "execute_result",
          "data": {
            "text/plain": [
              "'GGCTTACCA'"
            ],
            "application/vnd.google.colaboratory.intrinsic+json": {
              "type": "string"
            }
          },
          "metadata": {},
          "execution_count": 41
        }
      ]
    },
    {
      "cell_type": "code",
      "source": [
        "with open('/content/rosalind_ba3h_1_dataset.txt') as task_file:\n",
        "  reads = [line.rstrip() for line in task_file]"
      ],
      "metadata": {
        "id": "RL83Rd9J0sfD"
      },
      "execution_count": 38,
      "outputs": []
    },
    {
      "cell_type": "code",
      "source": [
        "k = 25"
      ],
      "metadata": {
        "id": "NyQjI3b_0vta"
      },
      "execution_count": 39,
      "outputs": []
    },
    {
      "cell_type": "code",
      "source": [
        "f = open(\"task_result.txt\", \"w\")\n",
        "f.write(StringReconstruction(reads,k))\n",
        "f.close()"
      ],
      "metadata": {
        "id": "Y75giMvS0z1v"
      },
      "execution_count": 40,
      "outputs": []
    }
  ]
}