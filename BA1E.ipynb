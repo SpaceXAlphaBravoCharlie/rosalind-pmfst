{
  "nbformat": 4,
  "nbformat_minor": 0,
  "metadata": {
    "colab": {
      "name": "BA1E.ipynb",
      "provenance": []
    },
    "kernelspec": {
      "name": "python3",
      "display_name": "Python 3"
    },
    "language_info": {
      "name": "python"
    }
  },
  "cells": [
    {
      "cell_type": "code",
      "execution_count": 40,
      "metadata": {
        "id": "NM4iNpFY6bz9"
      },
      "outputs": [],
      "source": [
        "def FindAllKmers(genome,k):\n",
        "  kmers_list = []\n",
        "  i = 0\n",
        "  while i + k - 1 <= len(genome) - 1: #i + k - 1 is the last index of kmer\n",
        "    kmers_list.append(genome[i:i+k])\n",
        "    i = i + 1\n",
        "  return kmers_list"
      ]
    },
    {
      "cell_type": "code",
      "source": [
        "from collections import Counter"
      ],
      "metadata": {
        "id": "8WyAvSJr9nhl"
      },
      "execution_count": 41,
      "outputs": []
    },
    {
      "cell_type": "code",
      "source": [
        "def ClumpFinding(genome,k,L,t):\n",
        "  clump_forming_patterns = []\n",
        "  for interval in FindAllKmers(genome,L):\n",
        "    kmers_list = FindAllKmers(interval,k)\n",
        "    kmers_occurence_dict = Counter(kmers_list)\n",
        "    for kmer in kmers_list:\n",
        "      if kmers_occurence_dict[kmer] >= t and kmer not in clump_forming_patterns:\n",
        "        clump_forming_patterns.append(kmer)\n",
        "  return clump_forming_patterns"
      ],
      "metadata": {
        "id": "SnuBDydD6dme"
      },
      "execution_count": 42,
      "outputs": []
    },
    {
      "cell_type": "code",
      "source": [
        "genome = 'CGGACTCGACAGATGTGAAGAAATGTGAAGACTGAGTGAAGAGAAGAGGAAACACGACACGACATTGCGACATAATGTACGAATGTAATGTGCCTATGGC'"
      ],
      "metadata": {
        "id": "QxnQST4F6evI"
      },
      "execution_count": 29,
      "outputs": []
    },
    {
      "cell_type": "code",
      "source": [
        "k = 5"
      ],
      "metadata": {
        "id": "lkrqKw_k6n7p"
      },
      "execution_count": 30,
      "outputs": []
    },
    {
      "cell_type": "code",
      "source": [
        "L = 75"
      ],
      "metadata": {
        "id": "_neodzAy6pc0"
      },
      "execution_count": 31,
      "outputs": []
    },
    {
      "cell_type": "code",
      "source": [
        "t = 4"
      ],
      "metadata": {
        "id": "2neEepcZ6qQJ"
      },
      "execution_count": 32,
      "outputs": []
    },
    {
      "cell_type": "code",
      "source": [
        "for solution in ClumpFinding(genome,k,L,t):\n",
        "  print(solution)"
      ],
      "metadata": {
        "colab": {
          "base_uri": "https://localhost:8080/"
        },
        "id": "-fERvaEb73gi",
        "outputId": "529ecec6-4274-4fb3-a6a6-dd61220998c5"
      },
      "execution_count": 33,
      "outputs": [
        {
          "output_type": "stream",
          "name": "stdout",
          "text": [
            "CGACA\n",
            "GAAGA\n",
            "AATGT\n"
          ]
        }
      ]
    },
    {
      "cell_type": "code",
      "source": [
        "k = 10"
      ],
      "metadata": {
        "id": "CVw7rmoz8Gvo"
      },
      "execution_count": 43,
      "outputs": []
    },
    {
      "cell_type": "code",
      "source": [
        "L = 509"
      ],
      "metadata": {
        "id": "ZqjfA4lQ8I7Q"
      },
      "execution_count": 44,
      "outputs": []
    },
    {
      "cell_type": "code",
      "source": [
        "t = 20"
      ],
      "metadata": {
        "id": "_rMuykhy8Jfe"
      },
      "execution_count": 45,
      "outputs": []
    },
    {
      "cell_type": "code",
      "source": [
        "with open('/content/rosalind_ba1e.txt') as task_file:\n",
        "  genome = [line.rstrip() for line in task_file]\n",
        "genome = genome[0]"
      ],
      "metadata": {
        "id": "HVeuY1Pc8KGR"
      },
      "execution_count": 46,
      "outputs": []
    },
    {
      "cell_type": "code",
      "source": [
        "f = open(\"task_result\", \"w\")\n",
        "for solution in ClumpFinding(genome,k,L,t):\n",
        "  f.write(str(solution) + '\\n')\n",
        "f.close()"
      ],
      "metadata": {
        "id": "CO_fy1mk8MFO"
      },
      "execution_count": 48,
      "outputs": []
    }
  ]
}