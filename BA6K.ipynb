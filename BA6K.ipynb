{
  "nbformat": 4,
  "nbformat_minor": 0,
  "metadata": {
    "colab": {
      "name": "BA6K.ipynb",
      "provenance": []
    },
    "kernelspec": {
      "name": "python3",
      "display_name": "Python 3"
    },
    "language_info": {
      "name": "python"
    }
  },
  "cells": [
    {
      "cell_type": "markdown",
      "source": [
        "(index_i, index_i_dash) --> izbaci\n",
        "\n",
        "(index_j, index_j_dash) --> izbaci\n",
        "\n",
        "(index_i, index_j) --> dodaj\n",
        "\n",
        "(index_i_dash, index_j_dash) --> dodaj"
      ],
      "metadata": {
        "id": "rModwFyrHUtd"
      }
    },
    {
      "cell_type": "code",
      "source": [
        "def DeleteRedEdges(colored_edges, index_i, index_i_dash, index_j, index_j_dash):\n",
        "  if (index_i, index_i_dash) in colored_edges:\n",
        "    colored_edges.pop(colored_edges.index((index_i, index_i_dash)))\n",
        "  else:\n",
        "    colored_edges.pop(colored_edges.index((index_i_dash, index_i)))\n",
        "  if (index_j, index_j_dash) in colored_edges:\n",
        "    colored_edges.pop(colored_edges.index((index_j, index_j_dash)))\n",
        "  else:\n",
        "    colored_edges.pop(colored_edges.index((index_j_dash, index_j)))\n",
        "  return colored_edges"
      ],
      "metadata": {
        "id": "Y0MP0SBWHVr4"
      },
      "execution_count": null,
      "outputs": []
    },
    {
      "cell_type": "code",
      "source": [
        "def EdgesToAdd(index_i, index_i_dash, index_j, index_j_dash):\n",
        "  edges_to_add = []\n",
        "  if index_i == 1:\n",
        "    edges_to_add.append((index_j,index_i))\n",
        "    edges_to_add.append((index_i_dash,index_j_dash))\n",
        "  if index_i_dash == 1:\n",
        "    edges_to_add.append((index_i,index_j))\n",
        "    edges_to_add.append((index_j_dash, index_i_dash))\n",
        "  if index_i != 1 and index_i_dash != 1:\n",
        "    edges_to_add.append((index_i,index_j))\n",
        "    edges_to_add.append((index_i_dash,index_j_dash))\n",
        "  return edges_to_add"
      ],
      "metadata": {
        "id": "Uy1JOF-8HX3e"
      },
      "execution_count": null,
      "outputs": []
    },
    {
      "cell_type": "code",
      "source": [
        "def IndexForInserting(colored_edges, edge_to_add):\n",
        "  for colored_edge in enumerate(colored_edges):\n",
        "    if (colored_edge[1][0] == edge_to_add[1] + 1) and (colored_edge[1][1] == edge_to_add[0] + 1):\n",
        "      return colored_edge[0] + 1\n",
        "    else:\n",
        "      continue\n",
        "  return len(colored_edges) - 1 + 1"
      ],
      "metadata": {
        "id": "hiaMu5sIHbjd"
      },
      "execution_count": null,
      "outputs": []
    },
    {
      "cell_type": "code",
      "source": [
        "def AddNewRedEdges(colored_edges, edges_to_add):\n",
        "  for edge_to_add in edges_to_add:\n",
        "    colored_edges.insert(IndexForInserting(colored_edges, edge_to_add), edge_to_add)\n",
        "  return colored_edges"
      ],
      "metadata": {
        "id": "pGg3t2zgHdtG"
      },
      "execution_count": null,
      "outputs": []
    },
    {
      "cell_type": "code",
      "source": [
        "def TwoBreakOnGenomeGrapH(genome, index_i, index_i_dash, index_j, index_j_dash):\n",
        "  colored_edges = ColoredEdges(genome)\n",
        "  print(colored_edges)\n",
        "  colored_edges = DeleteRedEdges(colored_edges, index_i, index_i_dash, index_j, index_j_dash)\n",
        "  edges_to_add = EdgesToAdd(index_i, index_i_dash, index_j, index_j_dash)\n",
        "  colored_edges = AddNewRedEdges(colored_edges, edges_to_add)\n",
        "  print(colored_edges)\n",
        "  new_genome = GraphToGenome(colored_edges)\n",
        "  return new_genome"
      ],
      "metadata": {
        "id": "mDHv-eVkHfbO"
      },
      "execution_count": null,
      "outputs": []
    },
    {
      "cell_type": "code",
      "source": [
        "def IntegerPairToSyntenyBlock(integer_pair):\n",
        "  if integer_pair[0] < integer_pair[1]:\n",
        "    return '+' + str(int(integer_pair[1]/2))\n",
        "  else:\n",
        "    return '-' + str(int((integer_pair[0]/2)))"
      ],
      "metadata": {
        "id": "jGc-vYIrRPm1"
      },
      "execution_count": null,
      "outputs": []
    },
    {
      "cell_type": "code",
      "source": [
        "def FormatForPrinting(chromosome):\n",
        "  string_to_print = '('\n",
        "  for number in enumerate(chromosome):\n",
        "    if number[0] < len(chromosome) - 1:\n",
        "      string_to_print = string_to_print + str(number[1]) + ' '\n",
        "    else:\n",
        "      string_to_print = string_to_print + str(number[1]) + ')'\n",
        "  return string_to_print"
      ],
      "metadata": {
        "id": "RAalBw9ARUhp"
      },
      "execution_count": null,
      "outputs": []
    },
    {
      "cell_type": "markdown",
      "source": [
        "Cirkularni kromosom možemo čitati u oba smjera. Cirkularni kromosom možemo zapisati na 2n načina (n = broj synteny blokova)"
      ],
      "metadata": {
        "id": "m0lpkwxhefrt"
      }
    },
    {
      "cell_type": "code",
      "source": [
        "def CycleToChromosome(cycle):\n",
        "  chromosome = []\n",
        "  for i in range(len(cycle)):\n",
        "    chromosome.append([])\n",
        "  for subcycle in enumerate(cycle):\n",
        "    i = 0\n",
        "    while i + 1 <= len(subcycle[1]) - 1:\n",
        "      chromosome[subcycle[0]].append(IntegerPairToSyntenyBlock((subcycle[1])[i:i+2]))\n",
        "      i = i + 2\n",
        "  string_to_print = ''\n",
        "  for chromosome_part in chromosome:\n",
        "    string_to_print = string_to_print + FormatForPrinting(chromosome_part) + ' '\n",
        "  print(string_to_print)\n",
        "  return chromosome"
      ],
      "metadata": {
        "id": "saxwIPFbRX5U"
      },
      "execution_count": null,
      "outputs": []
    },
    {
      "cell_type": "code",
      "source": [
        "def GraphToGenome(graph):\n",
        "  cycle = [[]]\n",
        "  i = 0\n",
        "  for colored_edge in graph:\n",
        "    if len(cycle[i]) == 0:\n",
        "      if colored_edge[0] % 2 == 0:\n",
        "        cycle[i].append(colored_edge[0] - 1)\n",
        "      else:\n",
        "        cycle[i].append(colored_edge[0] + 1)\n",
        "      cycle[i].append(colored_edge[0])\n",
        "      cycle[i].append(colored_edge[1])\n",
        "    else:\n",
        "      if colored_edge[1] == cycle[i][0]:\n",
        "        cycle[i].append(colored_edge[0])\n",
        "        cycle.append([])\n",
        "        i = i + 1\n",
        "      else:\n",
        "        cycle[i].append(colored_edge[0])\n",
        "        cycle[i].append(colored_edge[1])\n",
        "  cycle.pop(len(cycle) - 1)\n",
        "  for i in range(len(cycle)):\n",
        "    cycle[i] = cycle[i][::-1]\n",
        "  return CycleToChromosome(cycle)"
      ],
      "metadata": {
        "id": "9QnI5lhlRYbY"
      },
      "execution_count": null,
      "outputs": []
    },
    {
      "cell_type": "code",
      "source": [
        "def SyntenyBlockToIntegerPair(synteny_block):\n",
        "  if synteny_block < 0:\n",
        "    return [2*abs(synteny_block), 2*abs(synteny_block) - 1]\n",
        "  else:\n",
        "    return [2*synteny_block - 1, 2*synteny_block]"
      ],
      "metadata": {
        "id": "HAXT6brDRao6"
      },
      "execution_count": null,
      "outputs": []
    },
    {
      "cell_type": "code",
      "source": [
        "def ChromosomeToCycle(chromosome):\n",
        "  cycle = []\n",
        "  for synteny_block in chromosome:\n",
        "    cycle.extend(SyntenyBlockToIntegerPair(synteny_block))\n",
        "  return cycle"
      ],
      "metadata": {
        "id": "MMtW9bPTRkZs"
      },
      "execution_count": null,
      "outputs": []
    },
    {
      "cell_type": "code",
      "source": [
        "def ColoredEdges(chromosome):\n",
        "  colored_edges = []\n",
        "  for chromosome_part in chromosome:\n",
        "    cycle = ChromosomeToCycle(chromosome_part)\n",
        "    i = 1\n",
        "    while i + 1 <= len(cycle) - 1 - 1:\n",
        "      colored_edges.append((cycle[i], cycle[i+1]))\n",
        "      i = i + 2\n",
        "    colored_edges.append((cycle[len(cycle)-1], cycle[0]))\n",
        "  return colored_edges"
      ],
      "metadata": {
        "id": "bdWXdpz1RndK"
      },
      "execution_count": null,
      "outputs": []
    },
    {
      "cell_type": "code",
      "source": [
        "genome = [[+1, -2, -4, +3]]"
      ],
      "metadata": {
        "id": "XQFnjpCpJB7G"
      },
      "execution_count": null,
      "outputs": []
    },
    {
      "cell_type": "code",
      "source": [
        "index_i, index_i_dash, index_j, index_j_dash = 1, 6, 3, 8"
      ],
      "metadata": {
        "id": "bdylDC6jJ5rR"
      },
      "execution_count": null,
      "outputs": []
    },
    {
      "cell_type": "code",
      "source": [
        "TwoBreakOnGenomeGrapH(genome, index_i, index_i_dash, index_j, index_j_dash)"
      ],
      "metadata": {
        "colab": {
          "base_uri": "https://localhost:8080/"
        },
        "id": "yjFbw0LkMkzI",
        "outputId": "9087da6f-09f3-421b-f0d6-4682f0751e22"
      },
      "execution_count": null,
      "outputs": [
        {
          "output_type": "stream",
          "name": "stdout",
          "text": [
            "(+2 -1) (-3 +4) \n"
          ]
        },
        {
          "output_type": "execute_result",
          "data": {
            "text/plain": [
              "[['+2', '-1'], ['-3', '+4']]"
            ]
          },
          "metadata": {},
          "execution_count": 168
        }
      ]
    },
    {
      "cell_type": "code",
      "source": [
        "index_i, index_i_dash, index_j, index_j_dash = 22, 19, 32, 34"
      ],
      "metadata": {
        "id": "c5EY_0uM0idY"
      },
      "execution_count": null,
      "outputs": []
    },
    {
      "cell_type": "code",
      "source": [
        "with open('/content/rosalind_ba6k.txt') as task_file:\n",
        "  chromosome = [line.rstrip() for line in task_file]"
      ],
      "metadata": {
        "id": "1bpjddkHyjoX"
      },
      "execution_count": null,
      "outputs": []
    },
    {
      "cell_type": "code",
      "source": [
        "chromosome = chromosome[0]"
      ],
      "metadata": {
        "id": "XqDVdMWFykAk"
      },
      "execution_count": null,
      "outputs": []
    },
    {
      "cell_type": "code",
      "source": [
        "chromosome = chromosome.split(')')"
      ],
      "metadata": {
        "id": "eiw2HngeymQL"
      },
      "execution_count": null,
      "outputs": []
    },
    {
      "cell_type": "code",
      "source": [
        "chromosome.pop(len(chromosome) - 1)"
      ],
      "metadata": {
        "colab": {
          "base_uri": "https://localhost:8080/",
          "height": 36
        },
        "id": "vJJKbIduypNI",
        "outputId": "685cc863-2150-495c-edf1-663150f634e7"
      },
      "execution_count": null,
      "outputs": [
        {
          "output_type": "execute_result",
          "data": {
            "text/plain": [
              "''"
            ],
            "application/vnd.google.colaboratory.intrinsic+json": {
              "type": "string"
            }
          },
          "metadata": {},
          "execution_count": 242
        }
      ]
    },
    {
      "cell_type": "code",
      "source": [
        "for i in range(len(chromosome)):\n",
        "  chromosome[i] = chromosome[i].replace('(', '')"
      ],
      "metadata": {
        "id": "o6pbC--Cyr2J"
      },
      "execution_count": null,
      "outputs": []
    },
    {
      "cell_type": "code",
      "source": [
        "chromosome_list = []"
      ],
      "metadata": {
        "id": "DodFVUAayuVX"
      },
      "execution_count": null,
      "outputs": []
    },
    {
      "cell_type": "code",
      "source": [
        "for string in chromosome:\n",
        "  chromosome_list.append(string.split(' '))"
      ],
      "metadata": {
        "id": "4ygz_MTxywAi"
      },
      "execution_count": null,
      "outputs": []
    },
    {
      "cell_type": "code",
      "source": [
        "chromosome_list_integers = []\n",
        "for sublist in chromosome_list:\n",
        "  integers_sublist = []\n",
        "  for number in sublist:\n",
        "    integers_sublist.append(int(number))\n",
        "  chromosome_list_integers.append(integers_sublist)"
      ],
      "metadata": {
        "id": "iGkE4gbMy3CJ"
      },
      "execution_count": null,
      "outputs": []
    },
    {
      "cell_type": "code",
      "source": [
        "TwoBreakOnGenomeGrapH(chromosome_list_integers, index_i, index_i_dash, index_j, index_j_dash)"
      ],
      "metadata": {
        "id": "K0QgWSARzWrs"
      },
      "execution_count": null,
      "outputs": []
    }
  ]
}