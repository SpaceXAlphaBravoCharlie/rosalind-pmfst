{
  "nbformat": 4,
  "nbformat_minor": 0,
  "metadata": {
    "colab": {
      "name": "BA5G.ipynb",
      "provenance": [],
      "collapsed_sections": []
    },
    "kernelspec": {
      "name": "python3",
      "display_name": "Python 3"
    },
    "language_info": {
      "name": "python"
    }
  },
  "cells": [
    {
      "cell_type": "markdown",
      "source": [
        "To generalize the alignment scoring model, we still award +1 for matches, but we also penalize mismatches by some positive constant µ (the mismatch penalty) and indels by some positive constant σ (the indel penalty). As a result, the score of an alignment is equal to\n",
        "\n",
        "num matches - µ · num mismatches - σ · num indels"
      ],
      "metadata": {
        "id": "u0wkYuJ1hUuH"
      }
    },
    {
      "cell_type": "markdown",
      "source": [
        "Biologists have further refined this cost function to allow for the fact that some mutations may be more likely than others, which calls for mismatches and indel penalties that differ depending on the specific symbols involved (ako manje penaliziramo vjerojatnije mutacije, a više penaliziramo manje vjerojatne mutacije, onda ćemo dobiti alignment sa manje manje vjerojatnih mutacija i sa više vjerojatnijih mutacija). We will extend the k-letter alphabet to include the space symbol and then construct a (k + 1) x (k + 1) scoring\n",
        "matrix Score holding the score of aligning every pair of symbols. The scoring matrix for comparing DNA sequences (k = 4) when all mismatches are penalized by µ and all indels are penalized by σ is shown below.\n",
        "\n",
        "  A C G T - \n",
        "\n",
        "+1 -µ -µ -µ -s\n",
        "\n",
        "C -µ +1 -µ -µ -s\n",
        "\n",
        "G -µ -µ +1 -µ -s\n",
        "\n",
        "T -µ -µ -µ +1 -s\n",
        "\n",
        "-\n",
        "\n",
        " -σ -σ -σ -σ"
      ],
      "metadata": {
        "id": "Q1BbpjA8iQfJ"
      }
    },
    {
      "cell_type": "markdown",
      "source": [
        "To solve the Global Alignment Problem, we still must find a longest path in the alignment graph after updating the edge weights to reflect the values in the scoring matrix."
      ],
      "metadata": {
        "id": "VIfUq-5djig0"
      }
    },
    {
      "cell_type": "markdown",
      "source": [
        "Recalling that deletions correspond to vertical edges, insertions correspond to horizontal edges, and matches/mismatches correspond to diagonal edges, we obtain the following recurrence for si,j, the length of a longest path\n",
        "from (0, 0) to (i, j):\n",
        "\n",
        "si,j = max {\n",
        "\n",
        "si1,j + Score(vi,-)\n",
        "\n",
        "si,j-1 + Score(-,wj)\n",
        "\n",
        "si-1,j-1 + Score(vi,wj)\n",
        "\n",
        "}\n",
        "\n",
        "When the match reward is +1, the mismatch penalty is µ, and the indel penalty is σ, the alignment recurrence can be written as follows:\n",
        "\n",
        "si,j = max {\n",
        "\n",
        "si-1,j - σ\n",
        "\n",
        "si,j-1 - σ\n",
        "\n",
        "si-1,j-1 + 1 , if vi = wj\n",
        "\n",
        "si-1,j-1  -µ , if vi != wj\n",
        "\n",
        "}"
      ],
      "metadata": {
        "id": "VLw9pdFCGtx8"
      }
    },
    {
      "cell_type": "markdown",
      "source": [
        "BLOSUM62 is a commonly used scoring matrix in alignment problems considering protein strings. It assigns different alignment scores to substituted amino acids depending on the particular acids substituted; scores were computed based on the relative frequency of one amino acid to be substituted for another in a collection of known alignments (više penaliziramo manje frekventne zamjene, a manje penaliziramo više frekventne zamjene).\n",
        "\n",
        "The scoring matrix is \"symmetric\", which in this case means that the score assigned to substituting symbol x for symbol y is the same as that of substituting y for x.\n",
        "\n",
        "As a result, the score of an alignment is equal to\n",
        "\n",
        "num matches - µ · num mismatches - σ · num indels"
      ],
      "metadata": {
        "id": "rpHKpEK6HagR"
      }
    },
    {
      "cell_type": "markdown",
      "source": [
        "si,j = max {\n",
        "\n",
        "si1,j + Score(vi,-)\n",
        "\n",
        "si,j-1 + Score(-,wj)\n",
        "\n",
        "si-1,j-1 + Score(vi,wj)\n",
        "\n",
        "}"
      ],
      "metadata": {
        "id": "0js_77cfH4k6"
      }
    },
    {
      "cell_type": "code",
      "source": [
        "import numpy as np"
      ],
      "metadata": {
        "id": "-U1CNX0ihVQD"
      },
      "execution_count": 11,
      "outputs": []
    },
    {
      "cell_type": "code",
      "source": [
        "blosum_62_matrix_values = list()\n",
        "with open('/content/blosum_62.txt') as task_file:\n",
        "  blosum_62_matrix_values.extend([line.rstrip() for line in task_file])\n",
        "for i in range(len(blosum_62_matrix_values)):\n",
        "  blosum_62_matrix_values[i] = blosum_62_matrix_values[i].split(' ')\n",
        "  blosum_62_matrix_values[i] = [int(string) for string in blosum_62_matrix_values[i] if string != '']\n",
        "blosum_62_matrix = np.full((20,20),fill_value= blosum_62_matrix_values)"
      ],
      "metadata": {
        "id": "52ZhciHGLrBr"
      },
      "execution_count": 102,
      "outputs": []
    },
    {
      "cell_type": "code",
      "source": [
        "def IndexToAminoacid(aminoacids,aminoacid):\n",
        "  return aminoacids.index(aminoacid) #mapping from aminoacid to index defined by mapping from index to element at the index"
      ],
      "metadata": {
        "id": "okOCC8d-M9zN"
      },
      "execution_count": 103,
      "outputs": []
    },
    {
      "cell_type": "markdown",
      "source": [
        "When the match reward is +1, the mismatch penalty is µ, and the indel penalty is σ, the alignment recurrence can be written as follows:\n",
        "\n",
        "si,j = max {\n",
        "\n",
        "si-1,j - σ\n",
        "\n",
        "si,j-1 - σ\n",
        "\n",
        "si-1,j-1 + 1 , if vi = wj\n",
        "\n",
        "si-1,j-1  -µ , if vi != wj\n",
        "\n",
        "}"
      ],
      "metadata": {
        "id": "CWoS7AfiOoF4"
      }
    },
    {
      "cell_type": "code",
      "source": [
        "def LongestCommonSubsequenceBacktrack(v,w,sigma):\n",
        "  s = np.full((len(v)+1,len(w)+1),np.NINF)\n",
        "  backtrack = np.full((len(v)+1,len(w)+1),'')\n",
        "  aminoacids = ['A','C','D','E','F','G','H','I','K','L','M','N','P','Q','R','S','T','V','W','Y']\n",
        "  s[0][0] = 0 #the longest path from source to source has length 0\n",
        "  for i in range(1,len(v)+1):\n",
        "    s[i][0] = i*(-sigma)\n",
        "  for j in range(1,len(w)+1):\n",
        "    s[0][j] = j*(-sigma)\n",
        "  for i in range(1,len(v)+1):\n",
        "    for j in range(1,len(w)+1):\n",
        "      terms = [s[i-1][j] - sigma,s[i][j-1] - sigma]\n",
        "      if v[i-1] == w[j-1]:\n",
        "        #terms.append(s[i-1][j-1] + blosum_62_matrix[IndexToAminoacid(aminoacids,v[i-1])][IndexToAminoacid(aminoacids,w[j-1])])\n",
        "        terms.append(s[i-1][j-1] + 1)\n",
        "      elif v[i-1] != w[j-1]:\n",
        "        #terms.append(s[i-1][j-1] + blosum_62_matrix[IndexToAminoacid(aminoacids,v[i-1])][IndexToAminoacid(aminoacids,w[j-1])])\n",
        "        terms.append(s[i-1][j-1] - 1)\n",
        "      s[i][j] = max(terms)\n",
        "      if s[i][j] == s[i-1][j] - sigma:\n",
        "        backtrack[i][j] = 'D' #we came to node (i,j) from node (i-1,j) --> deletion\n",
        "      elif s[i][j] == s[i][j-1] - sigma:\n",
        "        backtrack[i][j] = 'R' #we came to node (i,j) from node (i,j-1) --> insertion\n",
        "      elif s[i][j] == (s[i-1][j-1] + 1) and v[i-1] == w[j-1]:\n",
        "        backtrack[i][j] = 'M' #we came to node (i,j) from node (i-1,j-1)\n",
        "      elif s[i][j] == (s[i-1][j-1] - 1) and v[i-1] != w[j-1]:\n",
        "        backtrack[i][j] = 'L' #we came to node (i,j) from node (i-1,j-1)\n",
        "  return backtrack"
      ],
      "metadata": {
        "id": "HdvnJAqQOeEk"
      },
      "execution_count": 1,
      "outputs": []
    },
    {
      "cell_type": "code",
      "source": [
        "def OutputLongestCommonSubsequence(backtrack,w,i,j,f):\n",
        "  if i == 0 or j == 0: #if we arrive to first column we can only follow down edges to source node, if we arrive to first row we can only follow right edges to sink node --> we cannot follow diagonal edges --> only some of diagonal edges present matches\n",
        "    if i == 0:\n",
        "      f.write(j*'R')\n",
        "    else: #j=0\n",
        "      f.write(i*'D')\n",
        "    return\n",
        "  if backtrack[i][j] == 'D':\n",
        "    f.write('D')\n",
        "    OutputLongestCommonSubsequence(backtrack,w,i-1,j,f) #we came to node (i,j) from node (i-1,j)\n",
        "  elif backtrack[i][j] == 'R':\n",
        "    f.write('R')\n",
        "    OutputLongestCommonSubsequence(backtrack,w,i,j-1,f) #we came to node (i,j) from node (i,j-1)\n",
        "  elif backtrack[i][j] == 'M':\n",
        "    f.write('M')\n",
        "    OutputLongestCommonSubsequence(backtrack,w,i-1,j-1,f) #we came to node (i,j) from node (i-1,j-1)\n",
        "  elif backtrack[i][j] == 'L':\n",
        "    f.write('L')\n",
        "    OutputLongestCommonSubsequence(backtrack,w,i-1,j-1,f) #we came to node (i,j) from node (i-1,j-1)"
      ],
      "metadata": {
        "id": "XeeF4QdCOgBb"
      },
      "execution_count": 2,
      "outputs": []
    },
    {
      "cell_type": "markdown",
      "source": [
        "deletions --> vertical edges \n",
        "\n",
        "insertions --> horizontal edges\n",
        "\n",
        "matches/mismatches --> diagonal edges\n",
        "\n",
        "insertion --> v\n",
        "\n",
        "deletion --> w"
      ],
      "metadata": {
        "id": "gwwidRDhCWAi"
      }
    },
    {
      "cell_type": "code",
      "source": [
        "def ReturnAlignment(backtrack_sequence,v,w):\n",
        "  aligned_v = str()\n",
        "  aligned_w = str()\n",
        "  pointer_v = 0 #start of string v\n",
        "  pointer_w = 0 #start of string w\n",
        "  for i in range(len(backtrack_sequence)):\n",
        "    if backtrack_sequence[i] == 'D': #deletion --> w\n",
        "      aligned_w = aligned_w + '-'\n",
        "      aligned_v = aligned_v + v[pointer_v]\n",
        "      pointer_v = pointer_v + 1\n",
        "    elif backtrack_sequence[i] == 'R': #insertion --> v\n",
        "      aligned_v = aligned_v + '-'\n",
        "      aligned_w = aligned_w + w[pointer_w]\n",
        "      pointer_w = pointer_w + 1\n",
        "    elif backtrack_sequence[i] == 'M' or backtrack_sequence[i] == 'L': #match or mismtach -->v,w\n",
        "      aligned_v = aligned_v + v[pointer_v]\n",
        "      aligned_w = aligned_w + w[pointer_w]\n",
        "      pointer_v = pointer_v + 1\n",
        "      pointer_w = pointer_w + 1\n",
        "  return aligned_v,aligned_w"
      ],
      "metadata": {
        "id": "2tx0iH1k_pOd"
      },
      "execution_count": 3,
      "outputs": []
    },
    {
      "cell_type": "code",
      "source": [
        "def AlignmentScore(aligned_v,aligned_w,blosum_62_matrix,aminoacids,sigma):\n",
        "  alignment_score = 0\n",
        "  for i in range(len(aligned_v)): #alinged_v and aligned_w have the same length\n",
        "    if aligned_v[i] == '-' or aligned_w[i] == '-':\n",
        "      alignment_score = alignment_score - sigma\n",
        "    else:\n",
        "      alignment_score = alignment_score + blosum_62_matrix[IndexToAminoacid(aminoacids,aligned_v[i])][IndexToAminoacid(aminoacids,aligned_w[i])]\n",
        "  return alignment_score"
      ],
      "metadata": {
        "id": "6MMr9hizD-eH"
      },
      "execution_count": 4,
      "outputs": []
    },
    {
      "cell_type": "code",
      "source": [
        "def EditDistance(aligned_w,aligned_v): #returns minimum number of edit operations (substituion,insertion,deletion) needed to transfomr string v into string w\n",
        "  edit_distance = 0\n",
        "  for i in range(len(aligned_w)):\n",
        "   if aligned_w[i] == '-' or aligned_v[i] == '-': #deletion or insertion\n",
        "     edit_distance = edit_distance + 1\n",
        "   elif aligned_v[i] != '-' and aligned_w[i] != '-' and aligned_w[i] != aligned_v[i]: #mismatch --> substitution\n",
        "     edit_distance = edit_distance + 1\n",
        "  return edit_distance"
      ],
      "metadata": {
        "id": "PfSbuMeBWgjy"
      },
      "execution_count": 38,
      "outputs": []
    },
    {
      "cell_type": "code",
      "source": [
        "v = 'PLEASANTLY'"
      ],
      "metadata": {
        "id": "BMj6i3QtLiOF"
      },
      "execution_count": 144,
      "outputs": []
    },
    {
      "cell_type": "code",
      "source": [
        "w = 'MEANLY'"
      ],
      "metadata": {
        "id": "qSUtN7diLk76"
      },
      "execution_count": 145,
      "outputs": []
    },
    {
      "cell_type": "code",
      "source": [
        "#sigma = 5"
      ],
      "metadata": {
        "id": "dgbvYGMwLpjA"
      },
      "execution_count": 130,
      "outputs": []
    },
    {
      "cell_type": "code",
      "source": [
        "sigma = 1"
      ],
      "metadata": {
        "id": "Vdz5aYh9LHkK"
      },
      "execution_count": 55,
      "outputs": []
    },
    {
      "cell_type": "code",
      "source": [
        "backtrack = LongestCommonSubsequenceBacktrack(v,w,sigma)"
      ],
      "metadata": {
        "id": "iJ-6Q07MQGNt"
      },
      "execution_count": 56,
      "outputs": []
    },
    {
      "cell_type": "code",
      "source": [
        "#backtrack = LongestCommonSubsequenceBacktrack(v,w,sigma,blosum_62_matrix)"
      ],
      "metadata": {
        "id": "saNOfFkFLMvn"
      },
      "execution_count": 70,
      "outputs": []
    },
    {
      "cell_type": "code",
      "source": [
        "f = open(\"task_result.txt\",\"w\")\n",
        "OutputLongestCommonSubsequence(backtrack,w,len(v),len(w),f)\n",
        "f.close()\n",
        "with open('task_result.txt') as task_file:\n",
        "  backtrack_sequence = [line.rstrip() for line in task_file]\n",
        "  backtrack_sequence = backtrack_sequence[0][::-1]\n",
        "aligned_v,aligned_w = ReturnAlignment(backtrack_sequence,v,w)\n",
        "f = open(\"task_result.txt\",\"w\")\n",
        "f.write(str(EditDistance(aligned_v,aligned_w)))\n",
        "f.close()"
      ],
      "metadata": {
        "id": "uAuTjj3hQacS"
      },
      "execution_count": 57,
      "outputs": []
    },
    {
      "cell_type": "code",
      "source": [
        "with open('/content/rosalind_ba5g_2_dataset.txt') as task_file:\n",
        "  task_arguments = [line.rstrip() for line in task_file]"
      ],
      "metadata": {
        "id": "79lwH68KGBYi"
      },
      "execution_count": 58,
      "outputs": []
    },
    {
      "cell_type": "code",
      "source": [
        "v = task_arguments[0]"
      ],
      "metadata": {
        "id": "6FHfXYtaGFm8"
      },
      "execution_count": 59,
      "outputs": []
    },
    {
      "cell_type": "code",
      "source": [
        "w = task_arguments[1]"
      ],
      "metadata": {
        "id": "YD3JqbUnGIy-"
      },
      "execution_count": 60,
      "outputs": []
    },
    {
      "cell_type": "code",
      "source": [
        "sigma = 1"
      ],
      "metadata": {
        "id": "LgfYt64fGMZe"
      },
      "execution_count": 61,
      "outputs": []
    },
    {
      "cell_type": "code",
      "source": [
        "backtrack = LongestCommonSubsequenceBacktrack(v,w,sigma)"
      ],
      "metadata": {
        "id": "4hSg6foVGNxb"
      },
      "execution_count": 62,
      "outputs": []
    },
    {
      "cell_type": "code",
      "source": [
        "import sys\n",
        "sys.setrecursionlimit(10000)\n",
        "f = open(\"task_result.txt\",\"w\")\n",
        "OutputLongestCommonSubsequence(backtrack,w,len(v),len(w),f)\n",
        "f.close()\n",
        "with open('task_result.txt') as task_file:\n",
        "  backtrack_sequence = [line.rstrip() for line in task_file]\n",
        "  backtrack_sequence = backtrack_sequence[0][::-1]\n",
        "aligned_v,aligned_w = ReturnAlignment(backtrack_sequence,v,w)\n",
        "f = open(\"task_result.txt\",\"w\")\n",
        "f.write(str(EditDistance(aligned_w,aligned_v)))\n",
        "f.close()"
      ],
      "metadata": {
        "id": "zNmrPKr2GPIf"
      },
      "execution_count": 63,
      "outputs": []
    }
  ]
}