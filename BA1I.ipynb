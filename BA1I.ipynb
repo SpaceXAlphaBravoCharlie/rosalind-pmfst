{
  "nbformat": 4,
  "nbformat_minor": 0,
  "metadata": {
    "colab": {
      "name": "BA1I.ipynb",
      "provenance": []
    },
    "kernelspec": {
      "name": "python3",
      "display_name": "Python 3"
    },
    "language_info": {
      "name": "python"
    }
  },
  "cells": [
    {
      "cell_type": "code",
      "source": [
        "from itertools import product"
      ],
      "metadata": {
        "id": "iutPbr3VFaye"
      },
      "execution_count": 69,
      "outputs": []
    },
    {
      "cell_type": "code",
      "source": [
        "def HammingDistance(first_string, second_string):\n",
        "  hamming_distance = 0\n",
        "  for i in range(min(len(first_string),len(second_string))):\n",
        "    if first_string[i] != second_string[i]:\n",
        "      hamming_distance = hamming_distance + 1\n",
        "  return hamming_distance + abs(len(first_string) - len(second_string))"
      ],
      "metadata": {
        "id": "rn1umy2lFwq1"
      },
      "execution_count": 70,
      "outputs": []
    },
    {
      "cell_type": "code",
      "source": [
        "def FindAllKmers(text,k):\n",
        "  kmers_list = []\n",
        "  i = 0\n",
        "  while i + k - 1 <= len(text) - 1:\n",
        "    kmers_list.append(text[i:i+k])\n",
        "    i = i + 1\n",
        "  return kmers_list"
      ],
      "metadata": {
        "id": "Q3xHfG7aFygx"
      },
      "execution_count": 71,
      "outputs": []
    },
    {
      "cell_type": "code",
      "source": [
        "def GenerateAllKmers(k):\n",
        "  sets_for_product = k * [['A','C','G','T']]\n",
        "  return list(product(*sets_for_product))"
      ],
      "metadata": {
        "id": "AILHaItXGf6T"
      },
      "execution_count": 72,
      "outputs": []
    },
    {
      "cell_type": "code",
      "source": [
        "def FrequentWordWithMismatches(text,k,d):\n",
        "  most_frequent_kmers_dict = {}\n",
        "  for kmer in GenerateAllKmers(k):\n",
        "    kmer = ''.join(kmer)\n",
        "    most_frequent_kmers_dict.update({kmer:0})\n",
        "    for text_kmer in FindAllKmers(text,k):\n",
        "      if HammingDistance(kmer,text_kmer) <= d:\n",
        "        most_frequent_kmers_dict[kmer] = most_frequent_kmers_dict[kmer] + 1\n",
        "  return most_frequent_kmers_dict"
      ],
      "metadata": {
        "id": "8hxZ9hNaFy7O"
      },
      "execution_count": 73,
      "outputs": []
    },
    {
      "cell_type": "code",
      "source": [
        "def ReturnMostFrequntKmers(most_frequent_kmers_dict):\n",
        "  most_frequent_kmers = []\n",
        "  sorted_tuples = sorted(most_frequent_kmers_dict.items(), key=lambda x:x[1], reverse=True)\n",
        "  for i in range(len(sorted_tuples)):\n",
        "    if sorted_tuples[i][1] == sorted_tuples[0][1]:\n",
        "      most_frequent_kmers.append(sorted_tuples[i][0])\n",
        "  return most_frequent_kmers"
      ],
      "metadata": {
        "id": "GGwsZtE9mEc3"
      },
      "execution_count": 74,
      "outputs": []
    },
    {
      "cell_type": "code",
      "source": [
        "k = 4"
      ],
      "metadata": {
        "id": "VmpmbJ8GFcjp"
      },
      "execution_count": 75,
      "outputs": []
    },
    {
      "cell_type": "code",
      "source": [
        "d = 1"
      ],
      "metadata": {
        "id": "UsHdk4O9FfF9"
      },
      "execution_count": 76,
      "outputs": []
    },
    {
      "cell_type": "code",
      "source": [
        "text = 'ACGTTGCATGTCGCATGATGCATGAGAGCT'"
      ],
      "metadata": {
        "id": "f5lG5IH9H3U-"
      },
      "execution_count": 77,
      "outputs": []
    },
    {
      "cell_type": "code",
      "source": [
        "for solution in ReturnMostFrequntKmers(FrequentWordWithMismatches(text,k,d)):\n",
        "  print(solution)"
      ],
      "metadata": {
        "colab": {
          "base_uri": "https://localhost:8080/"
        },
        "id": "Kpxc1AtpH5zd",
        "outputId": "3537cd27-b3fd-489c-e2f8-26524e3e962f"
      },
      "execution_count": 78,
      "outputs": [
        {
          "output_type": "stream",
          "name": "stdout",
          "text": [
            "ATGC\n",
            "ATGT\n",
            "GATG\n"
          ]
        }
      ]
    },
    {
      "cell_type": "code",
      "source": [
        "k = 6"
      ],
      "metadata": {
        "id": "XuIuE8w9m3he"
      },
      "execution_count": 79,
      "outputs": []
    },
    {
      "cell_type": "code",
      "source": [
        "d = 2"
      ],
      "metadata": {
        "id": "xlsi_cinm4zE"
      },
      "execution_count": 80,
      "outputs": []
    },
    {
      "cell_type": "code",
      "source": [
        "with open('/content/rosalind_ba1i.txt') as task_file:\n",
        "  text = [line.rstrip() for line in task_file]\n",
        "text = text[0]"
      ],
      "metadata": {
        "id": "ktLjnZDYm5Uw"
      },
      "execution_count": 81,
      "outputs": []
    },
    {
      "cell_type": "code",
      "source": [
        "f = open(\"task_result.txt\", \"w\")\n",
        "for solution in ReturnMostFrequntKmers(FrequentWordWithMismatches(text,k,d)):\n",
        "  f.write(str(solution) + '\\n')\n",
        "f.close()"
      ],
      "metadata": {
        "id": "OkinD3tNnHqG"
      },
      "execution_count": 83,
      "outputs": []
    }
  ]
}