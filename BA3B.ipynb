{
  "nbformat": 4,
  "nbformat_minor": 0,
  "metadata": {
    "colab": {
      "name": "BA3B.ipynb",
      "provenance": []
    },
    "kernelspec": {
      "name": "python3",
      "display_name": "Python 3"
    },
    "language_info": {
      "name": "python"
    }
  },
  "cells": [
    {
      "cell_type": "code",
      "execution_count": 2,
      "metadata": {
        "id": "jMxVADvsiXrN"
      },
      "outputs": [],
      "source": [
        "def GenomePathProblem(kmers):\n",
        "  genome = kmers[0]\n",
        "  for kmer in kmers[1:len(kmers)]:\n",
        "    genome = genome + kmer[len(kmer)-1]\n",
        "  return genome"
      ]
    },
    {
      "cell_type": "code",
      "source": [
        "kmers = ['ACCGA', 'CCGAA', 'CGAAG', 'GAAGC', 'AAGCT']"
      ],
      "metadata": {
        "id": "aRBSFsd-imjx"
      },
      "execution_count": 3,
      "outputs": []
    },
    {
      "cell_type": "code",
      "source": [
        "GenomePathProblem(kmers)"
      ],
      "metadata": {
        "colab": {
          "base_uri": "https://localhost:8080/",
          "height": 36
        },
        "id": "ytQOIL-OlekU",
        "outputId": "ab1bbb54-482c-4334-f0c3-ce8df1479399"
      },
      "execution_count": 4,
      "outputs": [
        {
          "output_type": "execute_result",
          "data": {
            "text/plain": [
              "'ACCGAAGCT'"
            ],
            "application/vnd.google.colaboratory.intrinsic+json": {
              "type": "string"
            }
          },
          "metadata": {},
          "execution_count": 4
        }
      ]
    },
    {
      "cell_type": "code",
      "source": [
        "with open('/content/rosalind_ba3b.txt') as task_file:\n",
        "  kmers = [line.rstrip() for line in task_file]"
      ],
      "metadata": {
        "id": "91cwKwTKRJ0E"
      },
      "execution_count": 6,
      "outputs": []
    },
    {
      "cell_type": "code",
      "source": [
        "f = open(\"task_result.txt\", \"w\")\n",
        "f.write(GenomePathProblem(kmers))\n",
        "f.close()"
      ],
      "metadata": {
        "id": "1IVfBsXXRNm7"
      },
      "execution_count": 9,
      "outputs": []
    }
  ]
}