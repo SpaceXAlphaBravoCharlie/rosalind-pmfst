{
  "nbformat": 4,
  "nbformat_minor": 0,
  "metadata": {
    "colab": {
      "name": "BA5F.ipynb",
      "provenance": [],
      "collapsed_sections": []
    },
    "kernelspec": {
      "name": "python3",
      "display_name": "Python 3"
    },
    "language_info": {
      "name": "python"
    }
  },
  "cells": [
    {
      "cell_type": "markdown",
      "source": [
        "Analysis of homeobox genes offers an example of a problem for which global alignment may fail to reveal biologically relevant similarities. Homeobox genes are long, and they differ greatly between species, but an approximately 60\n",
        "amino acid-long region in each gene, called the homeodomain, is highly conserved. The immediate question is how to find this conserved segment within the much longer genes and ignore the flanking areas, which exhibit little similarity. Global alignment seeks similarities between two strings across their entire length; however, when searching for homeodomains, we are looking for smaller, local regions of similarity and do not need to align the entire strings. --> dakle, kada tražimo homeodomains u homeobox genima, tražimo manje, lokalne regije homeobox gena i ne trebamo alignati cijele homeobox gene (npr. homeobox gene za ljude i miševe) kako bi pronašli homeodomains --> nema smisla tražiti global alignment između homeobox gena za ljude i miševe jer global alignment traži sličnosti između između 2 stringa preko cijele duljine stringova, homeobx geni se razlikuju, homeobox geni su dosta slični u homedomains koje su očuvane kod vrsta"
      ],
      "metadata": {
        "id": "GXatwTZgK94F"
      }
    },
    {
      "cell_type": "markdown",
      "source": [
        "When biologically significant similarities are present in some parts of sequences v and w and absent from others, biologists attempt to ignore global alignment and instead align substrings of v and w, which yields a local alignment of the two strings. The problem of finding substrings that maximize the global alignment score over all substrings of v and w is called the Local Alignment Problem. The straightforward way to solve the Local Alignment Problem is to find the longest path connecting every pair of nodes in the alignment graph (rather than just those connecting the source and sink, as in the Global Alignment Problem), and then to select the path having maximum weight over all these longest paths."
      ],
      "metadata": {
        "id": "nvDEB701N5fw"
      }
    },
    {
      "cell_type": "markdown",
      "source": [
        "For a faster local alignment approach, imagine a “free taxi ride” from the source (0,0) to the node representing the start node of the conserved (red) interval. Imagine also a free taxi ride from the end node of the conserved interval to the sink. If such rides were available, then you could reach the starting node of the conserved interval for free, instead of incurring heavy penalties as in global alignment. Then, you could travel along the conserved interval to its end node, accumulating positive match scores. Finally, you could take another free ride from the end node of the conserved interval to the sink for free, instead of incurring heavy penalties as in global alignment. The resulting score of this ride is equal to the alignment score of only the conserved intervals, as desired. Connecting the source (0,0) to every other node by adding a zero-weight edge and connecting every node to the sink (n,m) by a zero-weight edge will result in a DAG perfectly suited for solving the Local Alignment Problem. Because of free taxi rides, we no longer need to construct a longest path between every pair of nodes in the graph — the longest path from source to sink yields an optimal local alignment!"
      ],
      "metadata": {
        "id": "S3DjpgMPPbne"
      }
    },
    {
      "cell_type": "markdown",
      "source": [
        "The total number of edges in the graph in is O(|v|·|w|) (ako je |v|*|w| > |v|*|v| i |v|*|w| > |w|*|w|), which is still small. Since the runtime of finding a longest path in a DAG is defined by the number of edges in the graph, the resulting local alignment algorithm will be fast. As for computing the values si,j, adding zero-weight edges from (0, 0) to every node has made\n",
        "the source node (0,0) a predecessor of every node (i,j). Therefore, there are now four edges entering (i,j), which adds only one new term to the longest path recurrence relation:\n",
        "si,j = max {\n",
        "\n",
        "0\n",
        "\n",
        "si1, j + Score(vi, -)\n",
        "\n",
        "si, j1 + Score(-, wj)\n",
        "\n",
        "si1, j1 + Score(vi, wj)\n",
        "\n",
        "}\n"
      ],
      "metadata": {
        "id": "XP56UHBwLKan"
      }
    },
    {
      "cell_type": "code",
      "source": [
        "import numpy as np"
      ],
      "metadata": {
        "id": "cmV3uTGcLx4M"
      },
      "execution_count": 376,
      "outputs": []
    },
    {
      "cell_type": "code",
      "source": [
        "pam_250_matrix_values = list()\n",
        "with open('/content/pam_250.txt') as task_file:\n",
        "  pam_250_matrix_values.extend([line.rstrip() for line in task_file])\n",
        "for i in range(len(pam_250_matrix_values)):\n",
        "  pam_250_matrix_values[i] = pam_250_matrix_values[i].split(' ')\n",
        "  pam_250_matrix_values[i] = [int(string) for string in pam_250_matrix_values[i] if string != '']\n",
        "pam_250_matrix = np.full((20,20),fill_value= pam_250_matrix_values)"
      ],
      "metadata": {
        "id": "qbO9t7WKLzpM"
      },
      "execution_count": 574,
      "outputs": []
    },
    {
      "cell_type": "code",
      "source": [
        "def IndexToAminoacid(aminoacids,aminoacid):\n",
        "  return aminoacids.index(aminoacid) #mapping from aminoacid to index defined by mapping from index to element at the index"
      ],
      "metadata": {
        "id": "hPyl8hu5MYWl"
      },
      "execution_count": 378,
      "outputs": []
    },
    {
      "cell_type": "markdown",
      "source": [
        "Sink čvor mora biti povezan sa svim ostalim čvorovima."
      ],
      "metadata": {
        "id": "-_anDkW-0w1R"
      }
    },
    {
      "cell_type": "code",
      "source": [
        "def ArgMax(s):\n",
        "  return np.unravel_index(np.argmax(s),s.shape)"
      ],
      "metadata": {
        "id": "cn7Rhf3CC7EE"
      },
      "execution_count": 573,
      "outputs": []
    },
    {
      "cell_type": "code",
      "source": [
        "def LongestCommonSubsequenceBacktrack(v,w,sigma,pam_250_matrix):\n",
        "  s = np.full((len(v)+1,len(w)+1),np.NINF)\n",
        "  backtrack = np.full((len(v)+1,len(w)+1),'')\n",
        "  aminoacids = ['A','C','D','E','F','G','H','I','K','L','M','N','P','Q','R','S','T','V','W','Y']\n",
        "  s[0][0] = 0 #the longest path from source to source has length 0\n",
        "  for i in range(1,len(v)+1):\n",
        "    s[i][0] = 0\n",
        "    backtrack[i][0] = 'N'\n",
        "  for j in range(1,len(w)+1):\n",
        "    s[0][j] = 0\n",
        "    backtrack[0][j] = 'N'\n",
        "  for i in range(1,len(v)+1):\n",
        "    for j in range(1,len(w)+1):\n",
        "      terms = [0,s[i-1][j] - sigma,s[i][j-1] - sigma]\n",
        "      if v[i-1] == w[j-1]:\n",
        "        terms.append(s[i-1][j-1] + pam_250_matrix[IndexToAminoacid(aminoacids,v[i-1])][IndexToAminoacid(aminoacids,w[j-1])])\n",
        "      elif v[i-1] != w[j-1]:\n",
        "        terms.append(s[i-1][j-1] + pam_250_matrix[IndexToAminoacid(aminoacids,v[i-1])][IndexToAminoacid(aminoacids,w[j-1])])\n",
        "      s[i][j] = max(terms)\n",
        "      if s[i][j] == s[i-1][j] - sigma:\n",
        "        backtrack[i][j] = 'D' #we came to node (i,j) from node (i-1,j) --> deletion\n",
        "      elif s[i][j] == s[i][j-1] - sigma:\n",
        "        backtrack[i][j] = 'R' #we came to node (i,j) from node (i,j-1) --> insertion\n",
        "      elif s[i][j] == (s[i-1][j-1] + pam_250_matrix[IndexToAminoacid(aminoacids,v[i-1])][IndexToAminoacid(aminoacids,w[j-1])]) and v[i-1] == w[j-1]:\n",
        "        backtrack[i][j] = 'M' #we came to node (i,j) from node (i-1,j-1)\n",
        "      elif s[i][j] == s[i-1][j-1] + pam_250_matrix[IndexToAminoacid(aminoacids,v[i-1])][IndexToAminoacid(aminoacids,w[j-1])] and v[i-1] != w[j-1]:\n",
        "        backtrack[i][j] = 'L' #we came to node (i,j) from node (i-1,j-1)\n",
        "      elif s[i][j] == 0:\n",
        "        backtrack[i][j] = 'N' #we came to node (i,j) from source node, N-->new edge from source node to node\n",
        "  s[len(v)][len(w)] = np.amax(s) #all nodes are connected with sink node\n",
        "  backtrack_starting_node = ArgMax(s)\n",
        "  return backtrack,backtrack_starting_node"
      ],
      "metadata": {
        "id": "w3bUkpFxMaq6"
      },
      "execution_count": 579,
      "outputs": []
    },
    {
      "cell_type": "code",
      "source": [
        "def OutputLongestCommonSubsequence(backtrack,w,i,j,f):\n",
        "  if backtrack[i][j] == 'N': #we came to node (i,j) from source node\n",
        "    f.write('N')\n",
        "    return\n",
        "  if backtrack[i][j] == 'D':\n",
        "    f.write('D')\n",
        "    OutputLongestCommonSubsequence(backtrack,w,i-1,j,f) #we came to node (i,j) from node (i-1,j)\n",
        "  elif backtrack[i][j] == 'R':\n",
        "    f.write('R')\n",
        "    OutputLongestCommonSubsequence(backtrack,w,i,j-1,f) #we came to node (i,j) from node (i,j-1)\n",
        "  elif backtrack[i][j] == 'M':\n",
        "    f.write('M')\n",
        "    OutputLongestCommonSubsequence(backtrack,w,i-1,j-1,f) #we came to node (i,j) from node (i-1,j-1)\n",
        "  elif backtrack[i][j] == 'L':\n",
        "    f.write('L')\n",
        "    OutputLongestCommonSubsequence(backtrack,w,i-1,j-1,f) #we came to node (i,j) from node (i-1,j-1)"
      ],
      "metadata": {
        "id": "Cvv-js0kMq9e"
      },
      "execution_count": 583,
      "outputs": []
    },
    {
      "cell_type": "markdown",
      "source": [
        "deletions --> vertical edges \n",
        "\n",
        "insertions --> horizontal edges\n",
        "\n",
        "matches/mismatches --> diagonal edges\n",
        "\n",
        "insertion --> v\n",
        "\n",
        "deletion --> w"
      ],
      "metadata": {
        "id": "bKibMJapMuis"
      }
    },
    {
      "cell_type": "code",
      "source": [
        "def ReturnAlignment(backtrack_sequence,v,w,backtrack_starting_node):\n",
        "  aligned_v = str()\n",
        "  aligned_w = str()\n",
        "  pointer_v = backtrack_starting_node[0] - 1\n",
        "  pointer_w = backtrack_starting_node[1] - 1\n",
        "  i = 0\n",
        "  while backtrack_sequence[i] != 'N':\n",
        "    if backtrack_sequence[i] == 'D': #deletion --> w\n",
        "      aligned_w = aligned_w + '-'\n",
        "      aligned_v = aligned_v + v[pointer_v]\n",
        "      pointer_v = pointer_v - 1\n",
        "    elif backtrack_sequence[i] == 'R': #insertion --> v\n",
        "      aligned_v = aligned_v + '-'\n",
        "      aligned_w = aligned_w + w[pointer_w]\n",
        "      pointer_w = pointer_w - 1\n",
        "    elif backtrack_sequence[i] == 'M' or backtrack_sequence[i] == 'L': #match or mismatch -->v,w\n",
        "      aligned_v = aligned_v + v[pointer_v]\n",
        "      aligned_w = aligned_w + w[pointer_w]\n",
        "      pointer_v = pointer_v - 1\n",
        "      pointer_w = pointer_w - 1\n",
        "    i = i + 1\n",
        "  return aligned_v[::-1],aligned_w[::-1]"
      ],
      "metadata": {
        "id": "j2QiMtnHSsc1"
      },
      "execution_count": 621,
      "outputs": []
    },
    {
      "cell_type": "code",
      "source": [
        "def AlignmentScore(aligned_v,aligned_w,pam_250_matrix,aminoacids,sigma):\n",
        "  alignment_score = 0\n",
        "  for i in range(len(aligned_v)): #alinged_v and aligned_w have the same length\n",
        "    if aligned_v[i] == '-' or aligned_w[i] == '-':\n",
        "      alignment_score = alignment_score - sigma\n",
        "    else:\n",
        "      alignment_score = alignment_score + pam_250_matrix[IndexToAminoacid(aminoacids,aligned_v[i])][IndexToAminoacid(aminoacids,aligned_w[i])]\n",
        "  return alignment_score"
      ],
      "metadata": {
        "id": "WKXvEpjZMyTh"
      },
      "execution_count": 622,
      "outputs": []
    },
    {
      "cell_type": "code",
      "source": [
        "v = 'MEANLY'"
      ],
      "metadata": {
        "id": "obDFdFdYMypR"
      },
      "execution_count": 623,
      "outputs": []
    },
    {
      "cell_type": "code",
      "source": [
        "w = 'PENALTY'"
      ],
      "metadata": {
        "id": "Tkw7JdNUM2lZ"
      },
      "execution_count": 624,
      "outputs": []
    },
    {
      "cell_type": "code",
      "source": [
        "# v = 'KYVILIVGN'"
      ],
      "metadata": {
        "id": "sopHcNn7NPxX"
      },
      "execution_count": 627,
      "outputs": []
    },
    {
      "cell_type": "code",
      "source": [
        "# w = 'DDVISLIVPL'"
      ],
      "metadata": {
        "id": "8wjCJx4iNQvX"
      },
      "execution_count": 628,
      "outputs": []
    },
    {
      "cell_type": "code",
      "source": [
        "sigma = 5"
      ],
      "metadata": {
        "id": "41OQijbPM7zf"
      },
      "execution_count": 629,
      "outputs": []
    },
    {
      "cell_type": "code",
      "source": [
        "backtrack,backtrack_starting_node = LongestCommonSubsequenceBacktrack(v,w,sigma,pam_250_matrix)\n",
        "f = open(\"task_result.txt\",\"w\")\n",
        "OutputLongestCommonSubsequence(backtrack,w,backtrack_starting_node[0],backtrack_starting_node[1],f)\n",
        "f.close()\n",
        "with open('task_result.txt') as task_file:\n",
        "  backtrack_sequence = [line.rstrip() for line in task_file][0] #returns longest path --> if subpaths of longest path have higher score than whole path then return highest scoring subpath of path as all nodes are connected with sink node\n",
        "aligned_v,aligned_w = ReturnAlignment(backtrack_sequence,v,w,backtrack_starting_node) #returns alignment with highest score\n",
        "aminoacids = ['A','C','D','E','F','G','H','I','K','L','M','N','P','Q','R','S','T','V','W','Y']\n",
        "alignment_score = AlignmentScore(aligned_v,aligned_w,pam_250_matrix,aminoacids,sigma)\n",
        "f = open(\"task_result.txt\",\"w\")\n",
        "f.write(str(alignment_score) + '\\n')\n",
        "f.write(aligned_v + '\\n')\n",
        "f.write(aligned_w)\n",
        "f.close()"
      ],
      "metadata": {
        "id": "GBSLmdTvNC28"
      },
      "execution_count": 630,
      "outputs": []
    },
    {
      "cell_type": "code",
      "source": [
        "with open('/content/rosalind_ba5f.txt') as task_file:\n",
        "  task_arguments = [line.rstrip() for line in task_file]"
      ],
      "metadata": {
        "id": "T9sIGVoDTQCv"
      },
      "execution_count": 631,
      "outputs": []
    },
    {
      "cell_type": "code",
      "source": [
        "v = task_arguments[0]"
      ],
      "metadata": {
        "id": "Cm21ZpVdTQVK"
      },
      "execution_count": 632,
      "outputs": []
    },
    {
      "cell_type": "code",
      "source": [
        "w = task_arguments[1]"
      ],
      "metadata": {
        "id": "vxb32yP0TRZf"
      },
      "execution_count": 633,
      "outputs": []
    },
    {
      "cell_type": "code",
      "source": [
        "sigma = 5"
      ],
      "metadata": {
        "id": "stPfisDKTSaf"
      },
      "execution_count": 634,
      "outputs": []
    },
    {
      "cell_type": "code",
      "source": [
        "import sys\n",
        "sys.setrecursionlimit(10000)\n",
        "backtrack,backtrack_starting_node = LongestCommonSubsequenceBacktrack(v,w,sigma,pam_250_matrix)\n",
        "f = open(\"task_result.txt\",\"w\")\n",
        "OutputLongestCommonSubsequence(backtrack,w,backtrack_starting_node[0],backtrack_starting_node[1],f)\n",
        "f.close()\n",
        "with open('task_result.txt') as task_file:\n",
        "  backtrack_sequence = [line.rstrip() for line in task_file][0] #returns longest path --> if subpaths of longest path have higher score than whole path then return highest scoring subpath of path as all nodes are connected with sink node\n",
        "aligned_v,aligned_w = ReturnAlignment(backtrack_sequence,v,w,backtrack_starting_node) #returns alignment with highest score\n",
        "aminoacids = ['A','C','D','E','F','G','H','I','K','L','M','N','P','Q','R','S','T','V','W','Y']\n",
        "alignment_score = AlignmentScore(aligned_v,aligned_w,pam_250_matrix,aminoacids,sigma)\n",
        "f = open(\"task_result.txt\",\"w\")\n",
        "f.write(str(alignment_score) + '\\n')\n",
        "f.write(aligned_v + '\\n')\n",
        "f.write(aligned_w)\n",
        "f.close()"
      ],
      "metadata": {
        "id": "l0dojAd4TV2z"
      },
      "execution_count": 636,
      "outputs": []
    }
  ]
}