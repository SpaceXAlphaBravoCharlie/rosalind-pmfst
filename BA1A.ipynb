{
  "nbformat": 4,
  "nbformat_minor": 0,
  "metadata": {
    "colab": {
      "name": "BA1A.ipynb",
      "provenance": []
    },
    "kernelspec": {
      "name": "python3",
      "display_name": "Python 3"
    },
    "language_info": {
      "name": "python"
    }
  },
  "cells": [
    {
      "cell_type": "code",
      "source": [
        "def FindAllKmers(dna_string, pattern):\n",
        "  kmers_list = []\n",
        "  for kmer_end_index in range(len(pattern) - 1, len(dna_string)):\n",
        "    kmers_list.append(dna_string[kmer_end_index + 1 - k:kmer_end_index + 1])\n",
        "  return kmers_list"
      ],
      "metadata": {
        "id": "_hAzOVNvwzhE"
      },
      "execution_count": 36,
      "outputs": []
    },
    {
      "cell_type": "code",
      "source": [
        "def PatternCount(dna_string, pattern):\n",
        "  counter = 0\n",
        "  for kmer_end_index in range(len(pattern) - 1, len(dna_string)):\n",
        "    if(dna_string[(kmer_end_index + 1 - len(pattern)):kmer_end_index + 1] == pattern):\n",
        "      counter = counter + 1\n",
        "  return counter"
      ],
      "metadata": {
        "id": "kU-KN9Rg_AjY"
      },
      "execution_count": 52,
      "outputs": []
    },
    {
      "cell_type": "code",
      "source": [
        "PatternCount('GCGCG', 'GCG')"
      ],
      "metadata": {
        "colab": {
          "base_uri": "https://localhost:8080/"
        },
        "id": "BkfgyjTS-IbU",
        "outputId": "4f384036-05ed-4726-a59b-0bdc47ab7ec4"
      },
      "execution_count": 48,
      "outputs": [
        {
          "output_type": "execute_result",
          "data": {
            "text/plain": [
              "2"
            ]
          },
          "metadata": {},
          "execution_count": 48
        }
      ]
    },
    {
      "cell_type": "code",
      "source": [
        "FindAllKmers('GCGCG', 'GCG')"
      ],
      "metadata": {
        "colab": {
          "base_uri": "https://localhost:8080/"
        },
        "id": "ufchcd4U_S5e",
        "outputId": "0c67824e-0093-4e48-c044-af429c1e5edf"
      },
      "execution_count": 49,
      "outputs": [
        {
          "output_type": "execute_result",
          "data": {
            "text/plain": [
              "['GCG', 'CGC', 'GCG']"
            ]
          },
          "metadata": {},
          "execution_count": 49
        }
      ]
    },
    {
      "cell_type": "code",
      "source": [
        "dna_string = 'TATAATCTCTACCCGCTACAAAAACTCTACCCTCTACCTCTCTACCCGCCTCTACCGCTCTACCTCTCTACCAGCCCGCACTCTACCCTCTACCCTATCCTCTACCGGCTCTACCGCTCTACCCTCTACCCTAACCTCTACCCTCTACCGCGATCGGTAAAACTCTACCAACTCTACCACTCTACCCAAACGACGAGACTCTACCCTCTACCGTTTCTCTACCGCCTCTACCAAGCCTCTACCGCTCTACCGGCTCTACCCGAACGTCTCTACCGTCTCTACCCTCTACCGGGCCGACACTGTCAACTCTACCACTCTACCTACTCTACCCTTTTACTCTACCACGCCCTGCTCTACCTAATCTCTACCCTCTACCCTCTACCCTCTACCCCTCTACCCCTCTACCCTCTACCCTCAACTCTACCAGCTCTACCCTCTACCCGATCACGCTCTCTACCCAACTCTACCAACTCTACCAGCCTCTCTACCCGGAACTCTACCTGCTCTACCACTCTACCTGACTCTACCCTCTACCACCTCTACCCTCACAGTCTCTACCAGTCTCTACCAGGTGACTCTACCAACTCTACCGCGACTCTACCGGGCTCTACCGCTCTACCCGATCTCTACCGCTTTACCTCTACCCTCTACCTCTCTAACTCTACCCTCTACCGCCTCTACCAAGCTCTCTACCGTTTCTCTACCTACTCTACCCTCTCTACCCTCTACCCTCTACCCCTCTACCCATAGTCTCTACCATACTCTACCCCAGGTCTCACCTCGCTCTACCCTCTACCCTCTACCCTCTACCCCTCTACCACTCTACCCTCTACCGTGCGCTCTACCGCGACGGAACTCTACCCTTAAGCTCTACCCTCTACCTTCTCTACCGCCTCTACCCTCTACCCCTCTACCCCTACCTCTACCAACCTGCTAGCAGCAAATCTCTACC'"
      ],
      "metadata": {
        "id": "kwGdbd0BBogQ"
      },
      "execution_count": 45,
      "outputs": []
    },
    {
      "cell_type": "code",
      "source": [
        "pattern = 'CTCTACCCT'"
      ],
      "metadata": {
        "id": "z6_QvT6ZBz4O"
      },
      "execution_count": 46,
      "outputs": []
    },
    {
      "cell_type": "code",
      "source": [
        "PatternCount(dna_string, pattern)"
      ],
      "metadata": {
        "colab": {
          "base_uri": "https://localhost:8080/"
        },
        "id": "IsoTeFdVB20V",
        "outputId": "05353fc9-52cd-48c5-85fa-42bf00b93122"
      },
      "execution_count": 53,
      "outputs": [
        {
          "output_type": "execute_result",
          "data": {
            "text/plain": [
              "29"
            ]
          },
          "metadata": {},
          "execution_count": 53
        }
      ]
    }
  ]
}