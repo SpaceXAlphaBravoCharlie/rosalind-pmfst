{
  "nbformat": 4,
  "nbformat_minor": 0,
  "metadata": {
    "colab": {
      "name": "BA1A.ipynb",
      "provenance": []
    },
    "kernelspec": {
      "name": "python3",
      "display_name": "Python 3"
    },
    "language_info": {
      "name": "python"
    }
  },
  "cells": [
    {
      "cell_type": "code",
      "execution_count": null,
      "metadata": {
        "id": "jmUwNGg91UHb"
      },
      "outputs": [],
      "source": [
        "def MostFrequentKmers(dna_string, k):\n",
        "  most_frequent_kmers_list = []\n",
        "  for i in range(k):\n",
        "    most_frequent_kmers_list.append(FindMostFrequentKmer(dna_string, i))\n",
        "  return Counter(most_frequent_kmers_list).most_common()"
      ]
    },
    {
      "cell_type": "code",
      "source": [
        "from collections import Counter"
      ],
      "metadata": {
        "id": "R7rZs3DL8sK6"
      },
      "execution_count": null,
      "outputs": []
    },
    {
      "cell_type": "code",
      "source": [
        "def FindMostFrequentKmers(dna_string, k):\n",
        "  kmers_list = []\n",
        "  for i in(range(int(len(dna_string) / k))):\n",
        "    kmers_list.append(dna_string[i:i+4])\n",
        "  if((len(dna_string) % k) != 0):\n",
        "    for j in range((len(dna_string) % k)):\n",
        "      kmers_list.append(dna_string[i+1:i+4])\n",
        "    return Counter(kmers_list).most_common()"
      ],
      "metadata": {
        "id": "k3DbmcPf5elm"
      },
      "execution_count": null,
      "outputs": []
    },
    {
      "cell_type": "code",
      "source": [
        "def FindMostFrequentKmers(dna_string, k):\n",
        "  kmers_list = []\n",
        "  for i in(range(len(dna_string))):\n",
        "    kmers_list.append(dna_string[i:i+4])"
      ],
      "metadata": {
        "id": "UyshY9s5AG8M"
      },
      "execution_count": null,
      "outputs": []
    },
    {
      "cell_type": "code",
      "source": [
        "def FindMostFrequentKmers(dna_string, k):\n",
        "  kmers_list = []\n",
        "  for i in range(len(dna_string)):\n",
        "    if((i + k) <= len(dna_string) - 1):\n",
        "       kmers_list.append(dna_string[i:i+k])\n",
        "  return [element[0] for element in Counter(kmers_list).most_common() if element[1] == Counter(kmers_list).most_common(1)[0][1]]"
      ],
      "metadata": {
        "id": "GXYwFVguBLib"
      },
      "execution_count": null,
      "outputs": []
    },
    {
      "cell_type": "code",
      "source": [
        "ATCCGTCTCTTTTAACTTTTAACTAGTCGACTTTTAACATCCGTCTCACGAGAGAATAGTCGACGCTTGTGTCACGAGAGAAGCTTGTGTCGCTTGTGTCTAGTCGACGCTTGTGTCACGAGAGAAGCTTGTGTCTTTTAACGCTTGTGTCTTTTAACACGAGAGAATTTTAACATCCGTCTCTAGTCGACGCTTGTGTCATCCGTCTCTTTTAACTAGTCGACTAGTCGACATCCGTCTCACGAGAGAAACGAGAGAATTTTAACGCTTGTGTCTAGTCGACTTTTAACGCTTGTGTCATCCGTCTCGCTTGTGTCACGAGAGAAGCTTGTGTCGCTTGTGTCTAGTCGACATCCGTCTCTAGTCGACATCCGTCTCTAGTCGACATCCGTCTCTTTTAACTTTTAACATCCGTCTCACGAGAGAATAGTCGACGCTTGTGTCACGAGAGAAGCTTGTGTCTAGTCGACTTTTAACTTTTAACATCCGTCTCTAGTCGACATCCGTCTCTAGTCGACATCCGTCTCTTTTAACGCTTGTGTCTTTTAACACGAGAGAATTTTAACGCTTGTGTCTAGTCGACATCCGTCTCTTTTAACTAGTCGACTAGTCGACATCCGTCTCACGAGAGAATAGTCGACTAGTCGACTTTTAACTTTTAACACGAGAGAAACGAGAGAAATCCGTCTCTTTTAACATCCGTCTCTTTTAACTTTTAACTAGTCGACGCTTGTGTCTTTTAACACGAGAGAAGCTTGTGTCGCTTGTGTCTAGTCGACATCCGTCTCTTTTAACACGAGAGAAGCTTGTGTC"
      ],
      "metadata": {
        "id": "dQCEIhhdFeis"
      },
      "execution_count": null,
      "outputs": []
    },
    {
      "cell_type": "code",
      "source": [
        "dna_string = \"ATCCGTCTCTTTTAACTTTTAACTAGTCGACTTTTAACATCCGTCTCACGAGAGAATAGTCGACGCTTGTGTCACGAGAGAAGCTTGTGTCGCTTGTGTCTAGTCGACGCTTGTGTCACGAGAGAAGCTTGTGTCTTTTAACGCTTGTGTCTTTTAACACGAGAGAATTTTAACATCCGTCTCTAGTCGACGCTTGTGTCATCCGTCTCTTTTAACTAGTCGACTAGTCGACATCCGTCTCACGAGAGAAACGAGAGAATTTTAACGCTTGTGTCTAGTCGACTTTTAACGCTTGTGTCATCCGTCTCGCTTGTGTCACGAGAGAAGCTTGTGTCGCTTGTGTCTAGTCGACATCCGTCTCTAGTCGACATCCGTCTCTAGTCGACATCCGTCTCTTTTAACTTTTAACATCCGTCTCACGAGAGAATAGTCGACGCTTGTGTCACGAGAGAAGCTTGTGTCTAGTCGACTTTTAACTTTTAACATCCGTCTCTAGTCGACATCCGTCTCTAGTCGACATCCGTCTCTTTTAACGCTTGTGTCTTTTAACACGAGAGAATTTTAACGCTTGTGTCTAGTCGACATCCGTCTCTTTTAACTAGTCGACTAGTCGACATCCGTCTCACGAGAGAATAGTCGACTAGTCGACTTTTAACTTTTAACACGAGAGAAACGAGAGAAATCCGTCTCTTTTAACATCCGTCTCTTTTAACTTTTAACTAGTCGACGCTTGTGTCTTTTAACACGAGAGAAGCTTGTGTCGCTTGTGTCTAGTCGACATCCGTCTCTTTTAACACGAGAGAAGCTTGTGTC\""
      ],
      "metadata": {
        "id": "oRqezyfZ6My2"
      },
      "execution_count": null,
      "outputs": []
    },
    {
      "cell_type": "code",
      "source": [
        "FindMostFrequentKmers(dna_string, 14)"
      ],
      "metadata": {
        "colab": {
          "base_uri": "https://localhost:8080/"
        },
        "id": "LZzVdWnu-DSv",
        "outputId": "31838f1a-df9a-40fe-c9f5-5dd7f4de8dab"
      },
      "execution_count": null,
      "outputs": [
        {
          "output_type": "execute_result",
          "data": {
            "text/plain": [
              "['CTAGTCGACATCCG',\n",
              " 'TAGTCGACATCCGT',\n",
              " 'AGTCGACATCCGTC',\n",
              " 'GTCGACATCCGTCT',\n",
              " 'TCGACATCCGTCTC']"
            ]
          },
          "metadata": {},
          "execution_count": 64
        }
      ]
    }
  ]
}