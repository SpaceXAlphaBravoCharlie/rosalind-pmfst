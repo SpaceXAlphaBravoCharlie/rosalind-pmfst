{
  "nbformat": 4,
  "nbformat_minor": 0,
  "metadata": {
    "colab": {
      "name": "BA4I.ipynb",
      "provenance": []
    },
    "kernelspec": {
      "name": "python3",
      "display_name": "Python 3"
    },
    "language_info": {
      "name": "python"
    }
  },
  "cells": [
    {
      "cell_type": "markdown",
      "source": [
        "In addition to the 22 proteinogenic amino acids, NRPs contain non-proteinogenic amino acids, which expand the number of possible building blocks for antibiotic peptides from 20 to over 100. Enlarging the amino acid alphabet spells trouble for current approach to cyclopeptide sequencing. The correct peptide now must “compete” with many more incorrect ones for a place on the leaderboard, increasing the chance that the correct peptide will be cut along the way."
      ],
      "metadata": {
        "id": "AH5zM9p0QD8Q"
      }
    },
    {
      "cell_type": "markdown",
      "source": [
        "Because so many non-proteinogenic amino acids exist, bioinformaticians often assume that any integer between 57 and 200 may represent the mass of an amino acid; the “lightest” amino acid, Gly, has mass 57 Da, and most amino acids have masses smaller than 200 Da. --> masa peptida Gly-Gly je 114 Da pa možemo pogrešno zaključiti da je to masa aminokiseline --> za sve mase peptide veličine 2 čija je masa < 200 Da možemo pogrešno zaključiti da su mase aminokiselina"
      ],
      "metadata": {
        "id": "8OJCTwRPREXR"
      }
    },
    {
      "cell_type": "markdown",
      "source": [
        "Since LEADERBOARDCYCLOPEPTIDESEQUENCING fails to identify the correct peptide even with only 10% false and missing masses, our stated aim from the previous section is now even more important --> We must determine the amino acid composition of a peptide from its spectrum so that we may run LEADERBOARDCYCLOPEPTIDESEQUENCING on this smaller alphabet of amino acids."
      ],
      "metadata": {
        "id": "5Bk257yiR3_N"
      }
    },
    {
      "cell_type": "markdown",
      "source": [
        "One way to determine the amino acid composition of a peptide from its experimental\n",
        "spectrum would be to take the smallest masses present in the spectrum (between 57 and\n",
        "200 Da). However, even if only a single amino acid mass is missing, then this approach\n",
        "will fail to reconstruct the peptide’s amino acid composition."
      ],
      "metadata": {
        "id": "mctKz15WSXcx"
      }
    },
    {
      "cell_type": "markdown",
      "source": [
        "We now should feel confident about using the most frequently appearing integers\n",
        "in the convolution as a guess for the amino acid composition of an unknown peptide\n",
        "\n",
        "Ima smisla samo oduzimati mase kmera i (k-1)mera jer na taj način dobivamo mase aminokiselina koje sastavljaju peptid. Ima smisla oduzimati mase kmera i (k-l)mra, l > 2, jer ako imamo lažnu masu nekog kmera možemo dobiti pravu masu na taj način i nju koristiti za izračunavanje masa aminokiselina. Možemo i na taj način tražiti lažne mase u spektru."
      ],
      "metadata": {
        "id": "vzBlXKNsVxWk"
      }
    },
    {
      "cell_type": "code",
      "source": [
        "import numpy as np"
      ],
      "metadata": {
        "id": "MbWpxwNAYoRT"
      },
      "execution_count": 118,
      "outputs": []
    },
    {
      "cell_type": "code",
      "source": [
        "def PeptideIntegerMass(peptide):\n",
        "  return sum(peptide) #return sum of all integer masses of peptide"
      ],
      "metadata": {
        "id": "m3DuN-GNYqpI"
      },
      "execution_count": 119,
      "outputs": []
    },
    {
      "cell_type": "code",
      "source": [
        "def ParentMass(spectrum):\n",
        "  return max(spectrum) #we assume that the biggest mass in spectrum is the mass of peptide"
      ],
      "metadata": {
        "id": "wdAw4afJYsQz"
      },
      "execution_count": 120,
      "outputs": []
    },
    {
      "cell_type": "code",
      "source": [
        "def Expand(candidate_linear_peptides,aminoacids_integer_masses):\n",
        "  return [(candidate_linear_peptides[i] + [aminoacid_integer_mass]) for i in range(len(candidate_linear_peptides)) for aminoacid_integer_mass in aminoacids_integer_masses]"
      ],
      "metadata": {
        "id": "4B82I3GSYuSm"
      },
      "execution_count": 121,
      "outputs": []
    },
    {
      "cell_type": "code",
      "source": [
        "def FindAllKmers(peptide_integer_masses,k):\n",
        "  kmers_list = []\n",
        "  i = 0\n",
        "  while i + k - 1 <= len(peptide_integer_masses)-1:\n",
        "    kmers_list.append(peptide_integer_masses[i:i+k])\n",
        "    i = i + 1\n",
        "  return kmers_list"
      ],
      "metadata": {
        "id": "t44N1pA5Yv_0"
      },
      "execution_count": 122,
      "outputs": []
    },
    {
      "cell_type": "code",
      "source": [
        "def FindAllKmersCyclicPpetide(peptide_integer_masses,k):\n",
        "  kmers_list = []\n",
        "  i = 0\n",
        "  while i + k - 1 <= len(peptide_integer_masses)-1:\n",
        "    kmers_list.append(peptide_integer_masses[i:i+k])\n",
        "    i = i + 1\n",
        "  while i <= len(peptide_integer_masses) - 1:\n",
        "    kmers_list.append(peptide_integer_masses[i:len(peptide_integer_masses)] + peptide_integer_masses[0:k-len(peptide_integer_masses[i:len(peptide_integer_masses)])])\n",
        "    i = i + 1\n",
        "  return kmers_list"
      ],
      "metadata": {
        "id": "EPmY-aPlYyBK"
      },
      "execution_count": 123,
      "outputs": []
    },
    {
      "cell_type": "code",
      "source": [
        "def GenerateAllSubpeptidesIntegerMassesLinearPeptide(peptide_integer_masses):\n",
        "  subpeptides_integer_masses = []\n",
        "  for subpeptide_length in range(len(peptide_integer_masses)):\n",
        "    for subpeptide_integer_mass in FindAllKmers(peptide_integer_masses,subpeptide_length+1):\n",
        "      subpeptides_integer_masses.append(sum(subpeptide_integer_mass))\n",
        "  return subpeptides_integer_masses"
      ],
      "metadata": {
        "id": "9JPHAgfFY2xJ"
      },
      "execution_count": 124,
      "outputs": []
    },
    {
      "cell_type": "code",
      "source": [
        "def GenerateAllSubpeptidesIntegerMassesCyclicPeptide(peptide_integer_masses):\n",
        "  subpeptides_integer_masses = []\n",
        "  for subpeptide_length in range(len(peptide_integer_masses)):\n",
        "    for subpeptide_integer_mass in FindAllKmersCyclicPpetide(peptide_integer_masses,subpeptide_length+1):\n",
        "      subpeptides_integer_masses.append(sum(subpeptide_integer_mass))\n",
        "  return subpeptides_integer_masses"
      ],
      "metadata": {
        "id": "lZI6CUjBY4Vl"
      },
      "execution_count": 125,
      "outputs": []
    },
    {
      "cell_type": "code",
      "source": [
        "from collections import Counter"
      ],
      "metadata": {
        "id": "HZ6p-c3gY5tp"
      },
      "execution_count": 126,
      "outputs": []
    },
    {
      "cell_type": "code",
      "source": [
        "def LinearPeptideScoring(spectrum,linear_peptide_spectrum): #the score is computed for linear_peptide_spectrum against spectrum\n",
        "  linear_peptide_spectrum_kmers = GenerateAllSubpeptidesIntegerMassesLinearPeptide(linear_peptide_spectrum)\n",
        "  linear_peptide_spectrum_counter_dict = Counter(linear_peptide_spectrum_kmers)\n",
        "  spectrum_counter_dict = Counter(spectrum)\n",
        "  score = 0\n",
        "  scored_aminoacid_integer_masses = []\n",
        "  for aminoacid_integer_mass in linear_peptide_spectrum_kmers:\n",
        "    if aminoacid_integer_mass not in scored_aminoacid_integer_masses:\n",
        "      if linear_peptide_spectrum_counter_dict[aminoacid_integer_mass] == spectrum_counter_dict[aminoacid_integer_mass]:\n",
        "        score = score + linear_peptide_spectrum_counter_dict[aminoacid_integer_mass]\n",
        "        scored_aminoacid_integer_masses.append(aminoacid_integer_mass)\n",
        "      elif linear_peptide_spectrum_counter_dict[aminoacid_integer_mass] > spectrum_counter_dict[aminoacid_integer_mass]:\n",
        "        if spectrum_counter_dict[aminoacid_integer_mass] > 0: #if peptide_theoretical_spectrum_counter_dict[aminoacid_integer_mass] > 0 then there are surpluss occurences of same mass in experimental spectrum\n",
        "          score = score + spectrum_counter_dict[aminoacid_integer_mass]\n",
        "          scored_aminoacid_integer_masses.append(aminoacid_integer_mass)\n",
        "      else: #spectrum_counter_dict[aminoacid_integer_mass] < peptide_theoretical_spectrum_counter_dict[aminoacid_integer_mass] --> there are surpluss occurences of same mass in theoretical spectrum\n",
        "        if linear_peptide_spectrum_counter_dict[aminoacid_integer_mass] > 0:\n",
        "          score = score + linear_peptide_spectrum_counter_dict[aminoacid_integer_mass]\n",
        "          scored_aminoacid_integer_masses.append(aminoacid_integer_mass)\n",
        "  return score"
      ],
      "metadata": {
        "id": "WN3UazYjY69N"
      },
      "execution_count": 127,
      "outputs": []
    },
    {
      "cell_type": "code",
      "source": [
        "def CyclicPeptideScoring(spectrum,linear_peptide_spectrum): #the score is computed for linear_peptide_spectrum against spectrum\n",
        "  linear_peptide_spectrum_kmers = GenerateAllSubpeptidesIntegerMassesCyclicPeptide(linear_peptide_spectrum)\n",
        "  linear_peptide_spectrum_counter_dict = Counter(linear_peptide_spectrum_kmers)\n",
        "  spectrum_counter_dict = Counter(spectrum)\n",
        "  score = 0\n",
        "  scored_aminoacid_integer_masses = []\n",
        "  for aminoacid_integer_mass in linear_peptide_spectrum_kmers:\n",
        "    if aminoacid_integer_mass not in scored_aminoacid_integer_masses:\n",
        "      if linear_peptide_spectrum_counter_dict[aminoacid_integer_mass] == spectrum_counter_dict[aminoacid_integer_mass]:\n",
        "        score = score + linear_peptide_spectrum_counter_dict[aminoacid_integer_mass]\n",
        "        scored_aminoacid_integer_masses.append(aminoacid_integer_mass)\n",
        "      elif linear_peptide_spectrum_counter_dict[aminoacid_integer_mass] > spectrum_counter_dict[aminoacid_integer_mass]:\n",
        "        if spectrum_counter_dict[aminoacid_integer_mass] > 0: #if peptide_theoretical_spectrum_counter_dict[aminoacid_integer_mass] > 0 then there are surpluss occurences of same mass in experimental spectrum\n",
        "          score = score + spectrum_counter_dict[aminoacid_integer_mass]\n",
        "          scored_aminoacid_integer_masses.append(aminoacid_integer_mass)\n",
        "      else: #spectrum_counter_dict[aminoacid_integer_mass] < peptide_theoretical_spectrum_counter_dict[aminoacid_integer_mass] --> there are surpluss occurences of same mass in theoretical spectrum\n",
        "        if linear_peptide_spectrum_counter_dict[aminoacid_integer_mass] > 0:\n",
        "          score = score + linear_peptide_spectrum_counter_dict[aminoacid_integer_mass]\n",
        "          scored_aminoacid_integer_masses.append(aminoacid_integer_mass)\n",
        "  return score"
      ],
      "metadata": {
        "id": "qMPadZK-ZIns"
      },
      "execution_count": 128,
      "outputs": []
    },
    {
      "cell_type": "code",
      "source": [
        "def ListToString(linear_peptide):\n",
        "  string = ''\n",
        "  for aminoacid_integer_mass in linear_peptide:\n",
        "    string = string + str(aminoacid_integer_mass) + '-'\n",
        "  return string[0:len(string)-1]"
      ],
      "metadata": {
        "id": "7vsREJmoZKzh"
      },
      "execution_count": 129,
      "outputs": []
    },
    {
      "cell_type": "code",
      "source": [
        "def StringToList(linear_peptide_string):\n",
        "  linear_peptide_list = linear_peptide_string.split('-')\n",
        "  for i in range(len(linear_peptide_list)):\n",
        "    linear_peptide_list[i] = int(linear_peptide_list[i])\n",
        "  return linear_peptide_list"
      ],
      "metadata": {
        "id": "5oZExWZ_ZMaq"
      },
      "execution_count": 130,
      "outputs": []
    },
    {
      "cell_type": "code",
      "source": [
        "def Trim(leaderboard,spectrum,N): #peptides in leaderboard are scored as linear peptides\n",
        "  leaderboard_scores_dict = {}\n",
        "  for linear_peptide in leaderboard:\n",
        "    leaderboard_scores_dict.update({ListToString(linear_peptide):LinearPeptideScoring(spectrum,linear_peptide)})\n",
        "  sorted_linear_peptides = sorted(leaderboard_scores_dict.keys(), key=leaderboard_scores_dict.get, reverse=True)\n",
        "  top_n_peptides = sorted_linear_peptides[0:N] #last index is N-1, next index is N\n",
        "  i = N\n",
        "  for i in range(N,len(sorted_linear_peptides)):\n",
        "    if leaderboard_scores_dict[sorted_linear_peptides[i]] == leaderboard_scores_dict[top_n_peptides[len(top_n_peptides)-1]]:\n",
        "      top_n_peptides.append(sorted_linear_peptides[i])\n",
        "    else:\n",
        "      break\n",
        "  for i in range(len(top_n_peptides)):\n",
        "    top_n_peptides[i] = StringToList(top_n_peptides[i])\n",
        "  return top_n_peptides"
      ],
      "metadata": {
        "id": "oi1BHAxDZNtK"
      },
      "execution_count": 131,
      "outputs": []
    },
    {
      "cell_type": "code",
      "source": [
        "def LeaderboardCycloPeptideSequencing(spectrum,N,aminoacids_integer_masses):\n",
        "  leaderboard = [[]]\n",
        "  leader_peptide = []\n",
        "  cyclic_peptide_mass = ParentMass(spectrum)\n",
        "  while(len(leaderboard) > 0):\n",
        "    leaderboard = Expand(leaderboard,aminoacids_integer_masses) #branching\n",
        "    indices_to_pop = []\n",
        "    for i in range(len(leaderboard)):\n",
        "      if PeptideIntegerMass(leaderboard[i]) == cyclic_peptide_mass:\n",
        "        if CyclicPeptideScoring(spectrum,leaderboard[i]) > CyclicPeptideScoring(spectrum,leader_peptide): #return linear peptide with the highest score, score is computed between linear peptide's spectrum and cyclic petpide's spectrum\n",
        "          leader_peptide = leaderboard[i]\n",
        "      elif PeptideIntegerMass(leaderboard[i]) > cyclic_peptide_mass: #pop peptide since we are only interested in peptide's having the same mass as the cyclic peptide\n",
        "        indices_to_pop.append(i)\n",
        "    leaderboard = np.delete(leaderboard,indices_to_pop,axis=0).tolist() #delete peptides with mass biger than cyclic peptide's mass\n",
        "    leaderboard = Trim(leaderboard,spectrum,N) #bounding\n",
        "  return leader_peptide"
      ],
      "metadata": {
        "id": "dkLXOxVJZPHd"
      },
      "execution_count": 132,
      "outputs": []
    },
    {
      "cell_type": "code",
      "source": [
        "def PrintPeptide(peptide):\n",
        "  string_to_print = ''\n",
        "  for aminoacid_integer_mass in peptide:\n",
        "    string_to_print = string_to_print + str(aminoacid_integer_mass) + '-'\n",
        "  print(string_to_print[0:len(string_to_print)-1])"
      ],
      "metadata": {
        "id": "6ADn15w1ZQkW"
      },
      "execution_count": 133,
      "outputs": []
    },
    {
      "cell_type": "code",
      "source": [
        "def Convolution(spectrum):\n",
        "  positive_differences = []\n",
        "  i = 0\n",
        "  while i <= len(spectrum) - 1:\n",
        "    for aminoacid_integer_mass in spectrum[0:i]:\n",
        "      if spectrum[i] - aminoacid_integer_mass > 0:\n",
        "        positive_differences.append(spectrum[i] - aminoacid_integer_mass)\n",
        "    i = i + 1\n",
        "  positive_differences_counter_dict = Counter(positive_differences)\n",
        "  positive_differences_sorted = sorted(positive_differences_counter_dict,key=positive_differences_counter_dict.get,reverse=True)\n",
        "  return [positive_differences_counter_dict,positive_differences_sorted]"
      ],
      "metadata": {
        "id": "v5BDEFGlZgFM"
      },
      "execution_count": 170,
      "outputs": []
    },
    {
      "cell_type": "code",
      "source": [
        "def SelectMMostFrequent(counter_dict,convolution,M):\n",
        "  m_most_frequent = []\n",
        "  convolution = np.array(convolution)\n",
        "  convolution = convolution[np.logical_and(convolution >= 57, convolution <= 200)]\n",
        "  m_most_frequent.extend(list(convolution[0:M]))\n",
        "  m_most_frequent.extend([convolution[i] for i in range(M,len(convolution)) if counter_dict[convolution[i]] == counter_dict[m_most_frequent[M-1]]])\n",
        "  return m_most_frequent"
      ],
      "metadata": {
        "id": "O3yklICwZzLF"
      },
      "execution_count": 306,
      "outputs": []
    },
    {
      "cell_type": "markdown",
      "source": [
        "Given an experimental spectrum, we first compute the convolution of an experimental spectrum. We then select the M most frequent elements between 57 and 200 in the convolution to form an extended alphabet of amino acid masses. In order to be fair, we\n",
        "should include the top M elements of the convolution “with ties”. Finally, we run\n",
        "LEADERBOARDCYCLOPEPTIDESEQUENCING, where amino acid masses are restricted\n",
        "to this alphabet."
      ],
      "metadata": {
        "id": "Ze0_6BKLZrxc"
      }
    },
    {
      "cell_type": "code",
      "source": [
        "M = 20"
      ],
      "metadata": {
        "id": "3soJLDhcZSG2"
      },
      "execution_count": 289,
      "outputs": []
    },
    {
      "cell_type": "code",
      "source": [
        "N = 60"
      ],
      "metadata": {
        "id": "B6RqyFehZVVp"
      },
      "execution_count": 290,
      "outputs": []
    },
    {
      "cell_type": "code",
      "source": [
        "spectrum = [57, 57, 71, 99, 129, 137, 170, 186, 194, 208, 228, 265, 285, 299, 307, 323, 356, 364, 394, 422, 493]"
      ],
      "metadata": {
        "id": "TbL2FYuZZXkt"
      },
      "execution_count": 291,
      "outputs": []
    },
    {
      "cell_type": "code",
      "source": [
        "spectrum = sorted(spectrum)"
      ],
      "metadata": {
        "id": "r_Hr_6OchKna"
      },
      "execution_count": 292,
      "outputs": []
    },
    {
      "cell_type": "code",
      "source": [
        "counter_dict,convolution = Convolution(spectrum)"
      ],
      "metadata": {
        "id": "Bw5obX4qkiVV"
      },
      "execution_count": 293,
      "outputs": []
    },
    {
      "cell_type": "code",
      "source": [
        "aminoacids_integer_masses = SelectMMostFrequent(counter_dict,convolution,M)"
      ],
      "metadata": {
        "id": "YdCZ88AbdzAF"
      },
      "execution_count": null,
      "outputs": []
    },
    {
      "cell_type": "code",
      "source": [
        "PrintPeptide(LeaderboardCycloPeptideSequencing(spectrum,N,aminoacids_integer_masses))"
      ],
      "metadata": {
        "colab": {
          "base_uri": "https://localhost:8080/"
        },
        "id": "-rfM0p2SdryH",
        "outputId": "4fb35ab9-1b02-4a11-bfc9-9294259bbdf1"
      },
      "execution_count": 296,
      "outputs": [
        {
          "output_type": "stream",
          "name": "stdout",
          "text": [
            "99-71-137-57-57-72\n"
          ]
        }
      ]
    },
    {
      "cell_type": "code",
      "source": [
        "M = 17"
      ],
      "metadata": {
        "id": "nAftAfhtg_Mm"
      },
      "execution_count": 311,
      "outputs": []
    },
    {
      "cell_type": "code",
      "source": [
        "N = 384"
      ],
      "metadata": {
        "id": "LWVF0IM3hAdt"
      },
      "execution_count": 312,
      "outputs": []
    },
    {
      "cell_type": "code",
      "source": [
        "with open('/content/rosalind_ba4i.txt') as task_file:\n",
        "  spectrum = [line.rstrip() for line in task_file]"
      ],
      "metadata": {
        "id": "Rt4eUsIYhBOA"
      },
      "execution_count": 313,
      "outputs": []
    },
    {
      "cell_type": "code",
      "source": [
        "spectrum = spectrum[0]"
      ],
      "metadata": {
        "id": "FByzElhLhCqq"
      },
      "execution_count": 314,
      "outputs": []
    },
    {
      "cell_type": "code",
      "source": [
        "spectrum = spectrum.split(' ')"
      ],
      "metadata": {
        "id": "cbPIgZE_hD1d"
      },
      "execution_count": 315,
      "outputs": []
    },
    {
      "cell_type": "code",
      "source": [
        "for i in range(len(spectrum)):\n",
        "  spectrum[i] = int(spectrum[i])"
      ],
      "metadata": {
        "id": "mnwle7ikhFDB"
      },
      "execution_count": 316,
      "outputs": []
    },
    {
      "cell_type": "code",
      "source": [
        "spectrum = sorted(spectrum)"
      ],
      "metadata": {
        "id": "J4RF_MxOhPBD"
      },
      "execution_count": 318,
      "outputs": []
    },
    {
      "cell_type": "code",
      "source": [
        "counter_dict,convolution = Convolution(spectrum)"
      ],
      "metadata": {
        "id": "QEPHWeFVm4lK"
      },
      "execution_count": 319,
      "outputs": []
    },
    {
      "cell_type": "code",
      "source": [
        "aminoacids_integer_masses = SelectMMostFrequent(counter_dict,convolution,M)"
      ],
      "metadata": {
        "id": "G2AWEMuhm6T7"
      },
      "execution_count": 320,
      "outputs": []
    },
    {
      "cell_type": "code",
      "source": [
        "PrintPeptide(LeaderboardCycloPeptideSequencing(spectrum,N,aminoacids_integer_masses))"
      ],
      "metadata": {
        "colab": {
          "base_uri": "https://localhost:8080/"
        },
        "id": "vo9cs-UVhQBr",
        "outputId": "03659295-e224-4949-8e82-6ed0aee35cca"
      },
      "execution_count": 323,
      "outputs": [
        {
          "output_type": "stream",
          "name": "stdout",
          "text": [
            "163-103-163-128-114-57-129-87-163-131-114-97-186-103-156\n"
          ]
        }
      ]
    }
  ]
}