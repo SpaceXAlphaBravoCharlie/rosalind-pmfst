{
  "nbformat": 4,
  "nbformat_minor": 0,
  "metadata": {
    "colab": {
      "name": "BA6G.ipynb",
      "provenance": []
    },
    "kernelspec": {
      "name": "python3",
      "display_name": "Python 3"
    },
    "language_info": {
      "name": "python"
    }
  },
  "cells": [
    {
      "cell_type": "markdown",
      "source": [
        "xh = 2x\n",
        "\n",
        "xt = 2x - 1"
      ],
      "metadata": {
        "id": "glOK0jKor4EU"
      }
    },
    {
      "cell_type": "code",
      "source": [
        "def IntegerPairToSyntenyBlock(integer_pair):\n",
        "  if integer_pair[0] < integer_pair[1]:\n",
        "    return '+' + str(int(integer_pair[1]/2))\n",
        "  else:\n",
        "    return '-' + str(int((integer_pair[0]/2)))"
      ],
      "metadata": {
        "id": "k1vT4de0r3FB"
      },
      "execution_count": 12,
      "outputs": []
    },
    {
      "cell_type": "code",
      "source": [
        "def CycleToChromosome(cycle):\n",
        "  chromosome = []\n",
        "  i = 0\n",
        "  while i + 1 <= len(cycle) - 1:\n",
        "    chromosome.append(IntegerPairToSyntenyBlock(cycle[i:i+2]))\n",
        "    i = i + 2\n",
        "  return [int(number) for number in chromosome]"
      ],
      "metadata": {
        "id": "qBxPhq7Nr10p"
      },
      "execution_count": 16,
      "outputs": []
    },
    {
      "cell_type": "code",
      "source": [
        "cycle = [1, 2, 4, 3, 6, 5, 7, 8]"
      ],
      "metadata": {
        "id": "2w3XWxIZrapk"
      },
      "execution_count": 19,
      "outputs": []
    },
    {
      "cell_type": "code",
      "source": [
        "CycleToChromosome(cycle)"
      ],
      "metadata": {
        "colab": {
          "base_uri": "https://localhost:8080/"
        },
        "id": "Jnr20lVotvBP",
        "outputId": "cb66bc85-62d7-4cc2-d451-f8674952a07b"
      },
      "execution_count": 20,
      "outputs": [
        {
          "output_type": "execute_result",
          "data": {
            "text/plain": [
              "[1, -2, -3, 4]"
            ]
          },
          "metadata": {},
          "execution_count": 20
        }
      ]
    },
    {
      "cell_type": "code",
      "source": [
        "def PrintResult(cycle):\n",
        "  string_to_print = '('\n",
        "  chromosome = CycleToChromosome(cycle)\n",
        "  for i in range(len(chromosome) - 1):\n",
        "    if chromosome[i] > 0:\n",
        "      string_to_print = string_to_print + '+' + str(chromosome[i]) + ' '\n",
        "    else:\n",
        "      string_to_print = string_to_print + str(chromosome[i]) + ' '\n",
        "  if chromosome[len(chromosome) - 1] > 0:\n",
        "    string_to_print = string_to_print + '+' + str(chromosome[len(chromosome) - 1]) + ')'\n",
        "  else:\n",
        "    string_to_print = string_to_print + str(chromosome[len(chromosome) - 1]) + ')'\n",
        "  print(string_to_print)"
      ],
      "metadata": {
        "id": "AyK8xxZnu8P2"
      },
      "execution_count": 34,
      "outputs": []
    },
    {
      "cell_type": "code",
      "source": [
        "with open('/content/rosalind_ba6g.txt') as task_file:\n",
        "  cycle = [line.rstrip() for line in task_file]"
      ],
      "metadata": {
        "id": "5kH8j-hjwNp2"
      },
      "execution_count": 25,
      "outputs": []
    },
    {
      "cell_type": "code",
      "source": [
        "cycle = cycle[0]"
      ],
      "metadata": {
        "id": "0R7L7AbgwX0w"
      },
      "execution_count": 27,
      "outputs": []
    },
    {
      "cell_type": "code",
      "source": [
        "cycle"
      ],
      "metadata": {
        "colab": {
          "base_uri": "https://localhost:8080/",
          "height": 88
        },
        "id": "8ewS5jsswaMe",
        "outputId": "946107be-1056-48c4-e993-b6f104aeb5d1"
      },
      "execution_count": 28,
      "outputs": [
        {
          "output_type": "execute_result",
          "data": {
            "text/plain": [
              "'(1 2 4 3 5 6 8 7 10 9 11 12 13 14 16 15 17 18 20 19 21 22 24 23 26 25 28 27 29 30 31 32 33 34 35 36 38 37 39 40 41 42 43 44 45 46 47 48 50 49 51 52 54 53 56 55 57 58 59 60 61 62 63 64 66 65 67 68 70 69 72 71 74 73 76 75 78 77 80 79 81 82 84 83 85 86 88 87 90 89 92 91 94 93 95 96 97 98 100 99 102 101 104 103 106 105 108 107 110 109 111 112 113 114 115 116 117 118 119 120 121 122 124 123 126 125 127 128 130 129 131 132 133 134 135 136)'"
            ],
            "application/vnd.google.colaboratory.intrinsic+json": {
              "type": "string"
            }
          },
          "metadata": {},
          "execution_count": 28
        }
      ]
    },
    {
      "cell_type": "code",
      "source": [
        "cycle = cycle.replace('(', '')"
      ],
      "metadata": {
        "id": "r2BsoZPAwb-N"
      },
      "execution_count": 29,
      "outputs": []
    },
    {
      "cell_type": "code",
      "source": [
        "cycle = cycle.replace(')', '')"
      ],
      "metadata": {
        "id": "HuaWcz1zwe9s"
      },
      "execution_count": 30,
      "outputs": []
    },
    {
      "cell_type": "code",
      "source": [
        "cycle"
      ],
      "metadata": {
        "colab": {
          "base_uri": "https://localhost:8080/",
          "height": 88
        },
        "id": "V8Y99EpQwia-",
        "outputId": "e8883169-e3c1-4364-fff4-04e2db4449a2"
      },
      "execution_count": 31,
      "outputs": [
        {
          "output_type": "execute_result",
          "data": {
            "text/plain": [
              "'1 2 4 3 5 6 8 7 10 9 11 12 13 14 16 15 17 18 20 19 21 22 24 23 26 25 28 27 29 30 31 32 33 34 35 36 38 37 39 40 41 42 43 44 45 46 47 48 50 49 51 52 54 53 56 55 57 58 59 60 61 62 63 64 66 65 67 68 70 69 72 71 74 73 76 75 78 77 80 79 81 82 84 83 85 86 88 87 90 89 92 91 94 93 95 96 97 98 100 99 102 101 104 103 106 105 108 107 110 109 111 112 113 114 115 116 117 118 119 120 121 122 124 123 126 125 127 128 130 129 131 132 133 134 135 136'"
            ],
            "application/vnd.google.colaboratory.intrinsic+json": {
              "type": "string"
            }
          },
          "metadata": {},
          "execution_count": 31
        }
      ]
    },
    {
      "cell_type": "code",
      "source": [
        "cycle_list = [int(num) for num in cycle.split(' ')]"
      ],
      "metadata": {
        "id": "0lwDITAzwkgj"
      },
      "execution_count": 32,
      "outputs": []
    },
    {
      "cell_type": "code",
      "source": [
        "cycle_list"
      ],
      "metadata": {
        "id": "LiLvqF70woTW"
      },
      "execution_count": null,
      "outputs": []
    },
    {
      "cell_type": "code",
      "source": [
        "PrintResult(cycle_list)"
      ],
      "metadata": {
        "colab": {
          "base_uri": "https://localhost:8080/"
        },
        "id": "8lvkK0mFwp2c",
        "outputId": "8afb35e3-0765-44a1-e54a-2c24c4b2c376"
      },
      "execution_count": 35,
      "outputs": [
        {
          "output_type": "stream",
          "name": "stdout",
          "text": [
            "(+1 -2 +3 -4 -5 +6 +7 -8 +9 -10 +11 -12 -13 -14 +15 +16 +17 +18 -19 +20 +21 +22 +23 +24 -25 +26 -27 -28 +29 +30 +31 +32 -33 +34 -35 -36 -37 -38 -39 -40 +41 -42 +43 -44 -45 -46 -47 +48 +49 -50 -51 -52 -53 -54 -55 +56 +57 +58 +59 +60 +61 -62 -63 +64 -65 +66 +67 +68)\n"
          ]
        }
      ]
    }
  ]
}