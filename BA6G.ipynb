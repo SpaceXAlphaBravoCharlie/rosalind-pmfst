{
  "nbformat": 4,
  "nbformat_minor": 0,
  "metadata": {
    "colab": {
      "name": "BA6G.ipynb",
      "provenance": []
    },
    "kernelspec": {
      "name": "python3",
      "display_name": "Python 3"
    },
    "language_info": {
      "name": "python"
    }
  },
  "cells": [
    {
      "cell_type": "markdown",
      "source": [
        "xt = 2x - 1\n",
        "\n",
        "xh = 2x"
      ],
      "metadata": {
        "id": "glOK0jKor4EU"
      }
    },
    {
      "cell_type": "code",
      "source": [
        "def IntegerPairToSyntenyBlock(integer_pair):\n",
        "  if integer_pair[0] < integer_pair[1]: #xt then xh\n",
        "    return '+' + str(int(integer_pair[1]/2))\n",
        "  else: #xh then xt\n",
        "    return '-' + str(int((integer_pair[0]/2)))"
      ],
      "metadata": {
        "id": "k1vT4de0r3FB"
      },
      "execution_count": 1,
      "outputs": []
    },
    {
      "cell_type": "code",
      "source": [
        "def CycleToChromosome(cycle):\n",
        "  chromosome = []\n",
        "  i = 0\n",
        "  while i + 1 <= len(cycle) - 1: #i+1 is the index of the ending element of 2-mer --> continue while index of ending element is not the last element\n",
        "    chromosome.append(IntegerPairToSyntenyBlock(cycle[i:i+2]))\n",
        "    i = i + 2\n",
        "  return [int(number) for number in chromosome]"
      ],
      "metadata": {
        "id": "qBxPhq7Nr10p"
      },
      "execution_count": 2,
      "outputs": []
    },
    {
      "cell_type": "code",
      "source": [
        "cycle = [1, 2, 4, 3, 6, 5, 7, 8]"
      ],
      "metadata": {
        "id": "2w3XWxIZrapk"
      },
      "execution_count": 3,
      "outputs": []
    },
    {
      "cell_type": "code",
      "source": [
        "CycleToChromosome(cycle)"
      ],
      "metadata": {
        "colab": {
          "base_uri": "https://localhost:8080/"
        },
        "id": "Jnr20lVotvBP",
        "outputId": "77a75aed-4121-446b-f1d2-a60b7d024ad7"
      },
      "execution_count": 4,
      "outputs": [
        {
          "output_type": "execute_result",
          "data": {
            "text/plain": [
              "[1, -2, -3, 4]"
            ]
          },
          "metadata": {},
          "execution_count": 4
        }
      ]
    },
    {
      "cell_type": "code",
      "source": [
        "def PrintResult(cycle):\n",
        "  f = open(\"task_result.txt\",\"w\")\n",
        "  string_to_print = '('\n",
        "  chromosome = CycleToChromosome(cycle)\n",
        "  for i in range(len(chromosome) - 1):\n",
        "    if chromosome[i] > 0:\n",
        "      string_to_print = string_to_print + '+' + str(chromosome[i]) + ' '\n",
        "    else:\n",
        "      string_to_print = string_to_print + str(chromosome[i]) + ' '\n",
        "  if chromosome[len(chromosome) - 1] > 0:\n",
        "    string_to_print = string_to_print + '+' + str(chromosome[len(chromosome) - 1]) + ')'\n",
        "  else:\n",
        "    string_to_print = string_to_print + str(chromosome[len(chromosome) - 1]) + ')'\n",
        "  #print(string_to_print)\n",
        "  f.write(string_to_print)\n",
        "  f.close()"
      ],
      "metadata": {
        "id": "AyK8xxZnu8P2"
      },
      "execution_count": 5,
      "outputs": []
    },
    {
      "cell_type": "code",
      "source": [
        "with open('/content/rosalind_ba6g.txt') as task_file:\n",
        "  cycle = [line.rstrip() for line in task_file][0]\n",
        "cycle = cycle.replace('(', '')\n",
        "cycle = cycle.replace(')', '')\n",
        "cycle = cycle.split(' ')\n",
        "for i in range(len(cycle)):\n",
        "  cycle[i] = int(cycle[i])"
      ],
      "metadata": {
        "id": "5kH8j-hjwNp2"
      },
      "execution_count": 11,
      "outputs": []
    },
    {
      "cell_type": "code",
      "source": [
        "PrintResult(cycle)"
      ],
      "metadata": {
        "id": "8lvkK0mFwp2c"
      },
      "execution_count": 13,
      "outputs": []
    }
  ]
}