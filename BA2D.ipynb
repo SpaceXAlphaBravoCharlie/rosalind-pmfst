{
  "nbformat": 4,
  "nbformat_minor": 0,
  "metadata": {
    "colab": {
      "name": "BA2D.ipynb",
      "provenance": []
    },
    "kernelspec": {
      "name": "python3",
      "display_name": "Python 3"
    },
    "language_info": {
      "name": "python"
    }
  },
  "cells": [
    {
      "cell_type": "markdown",
      "source": [
        "Many algorithms are iterative procedures that must choose among many alternatives at each iteration. Some of these alternatives may lead to correct solutions, whereas others may not. Greedy algorithms select the “most attractive” alternative at each iteration. In general, most greedy algorithms typically fail to find an exact solution of the problem; instead, they are often fast heuristics that trade accuracy for speed in order to find an approximate solution."
      ],
      "metadata": {
        "id": "wbZ_pIBwMH6p"
      }
    },
    {
      "cell_type": "markdown",
      "source": [
        "Our proposed greedy motif search algorithm, GREEDYMOTIFSEARCH, tries each of the k-mers in Dna1 as the first motif (nije greediness). For a given choice of k-mer Motif1 in Dna1, it then builds a profile matrix Profile for this lone k-mer, and sets Motif2 equal to the Profile-most probable k-mer in Dna2. It then iterates by updating Profile as the profile matrix formed from Motif1 and Motif2, and sets Motif3 equal to the Profile-most probable k-mer in Dna3. In general, after finding i-1 k-mers Motifs in the first i -1 strings of Dna, GREEDYMOTIFSEARCH constructs Profile(Motifs) and selects the Profile-most probable k-mer from Dnai based on this profile matrix. After obtaining a k-mer from each string to generate a collection Motifs, GREEDYMOTIFSEARCH tests to see whether Motifs outscores the current best scoring collection of motifs and then moves Motif1 one symbol over in Dna1, beginning the entire process of generating Motifs again."
      ],
      "metadata": {
        "id": "4i73z7CUMRTu"
      }
    },
    {
      "cell_type": "code",
      "source": [
        "import numpy as np"
      ],
      "metadata": {
        "id": "vn2-EFm8mH0p"
      },
      "execution_count": 194,
      "outputs": []
    },
    {
      "cell_type": "code",
      "source": [
        "def FindAllKmers(dna_string, k):\n",
        "  kmers_list = []\n",
        "  i = 0\n",
        "  while i + k - 1 <= len(dna_string) - 1:\n",
        "    kmers_list.append(dna_string[i:i+k])\n",
        "    i = i + 1\n",
        "  return kmers_list"
      ],
      "metadata": {
        "id": "1eRjflEOk64G"
      },
      "execution_count": 195,
      "outputs": []
    },
    {
      "cell_type": "code",
      "source": [
        "from collections import Counter"
      ],
      "metadata": {
        "id": "hOYIDvd-o3NA"
      },
      "execution_count": 196,
      "outputs": []
    },
    {
      "cell_type": "code",
      "source": [
        "def IndexNucletoide(index):\n",
        "  if index == 0:\n",
        "    return 'A'\n",
        "  elif index == 1:\n",
        "    return 'C'\n",
        "  elif index == 2:\n",
        "    return 'G'\n",
        "  else:\n",
        "    return 'T'"
      ],
      "metadata": {
        "id": "wfIFpbU6paMV"
      },
      "execution_count": 197,
      "outputs": []
    },
    {
      "cell_type": "code",
      "source": [
        "def NucleotideIndex(nucleotide):\n",
        "  if nucleotide == 'A':\n",
        "    return 0\n",
        "  elif nucleotide == 'C':\n",
        "    return 1\n",
        "  elif nucleotide == 'G':\n",
        "    return 2\n",
        "  else:\n",
        "    return 3"
      ],
      "metadata": {
        "id": "qwUroOT-pxqr"
      },
      "execution_count": 198,
      "outputs": []
    },
    {
      "cell_type": "code",
      "source": [
        "def KmerProbability(profile, kmer):\n",
        "  probability = 1\n",
        "  for nucleotide in enumerate(kmer):\n",
        "    probability = probability * profile[NucleotideIndex(nucleotide[1]),nucleotide[0]]\n",
        "  return probability"
      ],
      "metadata": {
        "id": "W0oxiccC10FQ"
      },
      "execution_count": 199,
      "outputs": []
    },
    {
      "cell_type": "markdown",
      "source": [
        "In general, if there are multiple Profile-most probable k-mers in Text, then we select the first such k-mer occurring in Text."
      ],
      "metadata": {
        "id": "VGjkzO8i3eDR"
      }
    },
    {
      "cell_type": "code",
      "source": [
        "from collections import OrderedDict"
      ],
      "metadata": {
        "id": "RZ7IqExK5XQQ"
      },
      "execution_count": 201,
      "outputs": []
    },
    {
      "cell_type": "code",
      "source": [
        "def ProfileMostProbableKmer(text,k,profile):\n",
        "  kmers_probabilities_dict = OrderedDict()\n",
        "  for kmer in FindAllKmers(text, k):\n",
        "    kmers_probabilities_dict.update({kmer:KmerProbability(profile,kmer)})\n",
        "  for key in kmers_probabilities_dict.keys():\n",
        "    if kmers_probabilities_dict[key] == max(kmers_probabilities_dict.values()):\n",
        "      return key #return first kmer with highest probability if there are multiple kmers with same probability, otherwise return the kmer with highest probability"
      ],
      "metadata": {
        "id": "Vsnayg-W35Gg"
      },
      "execution_count": 202,
      "outputs": []
    },
    {
      "cell_type": "code",
      "source": [
        "def FormProfile(motifs,k):\n",
        "  for i in range(len(motifs)):\n",
        "    motifs[i] = list(motifs[i])\n",
        "  motifs_array = np.chararray((len(motifs),k))\n",
        "  profile = np.full((4,k),np.zeros((4,k)))\n",
        "  for i in range(len(motifs)):\n",
        "    motifs_array[i] = motifs[i]\n",
        "  for i in range(motifs_array.shape[1]):\n",
        "    column_i_count = Counter(motifs_array[:,i])\n",
        "    for j in range(0,4):\n",
        "      profile[j][i] = column_i_count[bytes(IndexNucletoide(j),encoding='utf-8')]\n",
        "  for i in range(len(motifs)):\n",
        "    motifs[i] = ''.join(motifs[i])\n",
        "  return profile"
      ],
      "metadata": {
        "id": "-c9uUriDl4p5"
      },
      "execution_count": 203,
      "outputs": []
    },
    {
      "cell_type": "code",
      "source": [
        "def Score(motifs,profile,k):\n",
        "  for i in range(len(motifs)):\n",
        "    motifs[i] = list(motifs[i])\n",
        "  motifs_array = np.chararray((len(motifs),k))\n",
        "  for i in range(len(motifs)):\n",
        "    motifs_array[i] = motifs[i]\n",
        "  score = 0\n",
        "  for i in range(motifs_array.shape[1]):\n",
        "    score = score + sum(motifs_array[:,i] != bytes(IndexNucletoide(np.argmax(profile[:,i])),encoding='utf-8'))\n",
        "  for i in range(len(motifs)):\n",
        "    motifs[i] = ''.join(motifs[i])\n",
        "  return score"
      ],
      "metadata": {
        "id": "zIT3pTO-qKbg"
      },
      "execution_count": 218,
      "outputs": []
    },
    {
      "cell_type": "code",
      "source": [
        "def GreedyMotifSearch(dna,k,t):\n",
        "  best_motifs = []\n",
        "  for i in range(len(dna)):\n",
        "    best_motifs.append(dna[i][0:k])\n",
        "  for kmer in FindAllKmers(dna[0],k):\n",
        "    motifs = [kmer]\n",
        "    for i in range(1,t):\n",
        "      profile = FormProfile(motifs,k)\n",
        "      motifs.append(ProfileMostProbableKmer(dna[i],k,profile))\n",
        "    if Score(motifs,profile,k) < Score(best_motifs,FormProfile(best_motifs,k),k):\n",
        "      best_motifs = motifs\n",
        "  return best_motifs"
      ],
      "metadata": {
        "id": "f0ZX1lyuk6Uw"
      },
      "execution_count": 205,
      "outputs": []
    },
    {
      "cell_type": "code",
      "source": [
        "dna = [\n",
        "'GGCGTTCAGGCA',\n",
        "'AAGAATCAGTCA',\n",
        "'CAAGGAGTTCGC',\n",
        "'CACGTCAATCAC',\n",
        "'CAATAATATTCG']"
      ],
      "metadata": {
        "id": "6MMoaVbIk-Sl"
      },
      "execution_count": 206,
      "outputs": []
    },
    {
      "cell_type": "code",
      "source": [
        "k = 3"
      ],
      "metadata": {
        "id": "4vUTS9Rnk-0W"
      },
      "execution_count": 207,
      "outputs": []
    },
    {
      "cell_type": "code",
      "source": [
        "t = 5"
      ],
      "metadata": {
        "id": "tV2aO82Kk_WK"
      },
      "execution_count": 208,
      "outputs": []
    },
    {
      "cell_type": "code",
      "source": [
        "GreedyMotifSearch(dna,k,t)"
      ],
      "metadata": {
        "colab": {
          "base_uri": "https://localhost:8080/"
        },
        "id": "VFwJveGR1A9u",
        "outputId": "9da82e79-ef3b-4c9d-ab7a-c19520a97f3b"
      },
      "execution_count": 219,
      "outputs": [
        {
          "output_type": "execute_result",
          "data": {
            "text/plain": [
              "['CAG', 'CAG', 'CAA', 'CAA', 'CAA']"
            ]
          },
          "metadata": {},
          "execution_count": 219
        }
      ]
    },
    {
      "cell_type": "code",
      "source": [
        "for solution in GreedyMotifSearch(dna,k,t):\n",
        "  print(solution)"
      ],
      "metadata": {
        "colab": {
          "base_uri": "https://localhost:8080/"
        },
        "id": "dQvWugWU7qyw",
        "outputId": "353067cb-5804-4ab0-f8c6-2f334fa0d9bc"
      },
      "execution_count": 220,
      "outputs": [
        {
          "output_type": "stream",
          "name": "stdout",
          "text": [
            "CAG\n",
            "CAG\n",
            "CAA\n",
            "CAA\n",
            "CAA\n"
          ]
        }
      ]
    },
    {
      "cell_type": "code",
      "source": [
        "with open('/content/rosalind_ba2d.txt') as task_file:\n",
        "  task_arguments = [line.rstrip() for line in task_file]"
      ],
      "metadata": {
        "id": "mWLaiz7f7wBc"
      },
      "execution_count": 225,
      "outputs": []
    },
    {
      "cell_type": "code",
      "source": [
        "dna = task_arguments[1:len(task_arguments)]"
      ],
      "metadata": {
        "id": "WFqd0xrq70wW"
      },
      "execution_count": 227,
      "outputs": []
    },
    {
      "cell_type": "code",
      "source": [
        "k = 12"
      ],
      "metadata": {
        "id": "681lY5jk711_"
      },
      "execution_count": 230,
      "outputs": []
    },
    {
      "cell_type": "code",
      "source": [
        "t = 25"
      ],
      "metadata": {
        "id": "-jWasCdB72Vx"
      },
      "execution_count": 231,
      "outputs": []
    },
    {
      "cell_type": "code",
      "source": [
        "f = open(\"task_result.txt\", \"w\")\n",
        "for solution in GreedyMotifSearch(dna,k,t):\n",
        "  f.write(solution + '\\n')\n",
        "f.close()"
      ],
      "metadata": {
        "id": "RHVy7eUn73EU"
      },
      "execution_count": 232,
      "outputs": []
    }
  ]
}