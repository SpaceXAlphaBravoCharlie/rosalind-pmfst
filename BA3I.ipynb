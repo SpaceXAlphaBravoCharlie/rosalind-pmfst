{
  "nbformat": 4,
  "nbformat_minor": 0,
  "metadata": {
    "colab": {
      "name": "BA3I.ipynb",
      "provenance": []
    },
    "kernelspec": {
      "name": "python3",
      "display_name": "Python 3"
    },
    "language_info": {
      "name": "python"
    }
  },
  "cells": [
    {
      "cell_type": "code",
      "execution_count": 29,
      "metadata": {
        "id": "KF8sBOz3-yjT"
      },
      "outputs": [],
      "source": [
        "def FindAllKmers(dna_string, k):\n",
        "  kmers_list = []\n",
        "  i = 0\n",
        "  while i + (k - 1) <= len(dna_string) - 1:\n",
        "    kmers_list.append(dna_string[i:i+k])\n",
        "    i = i + 1\n",
        "  return kmers_list"
      ]
    },
    {
      "cell_type": "code",
      "source": [
        "def DeBruijnGraphK(patterns, k):\n",
        "  adjacency_dict = {}\n",
        "  for kmer in patterns:\n",
        "    adjacency_dict.setdefault(kmer[0:len(kmer)-1], list())\n",
        "    adjacency_dict[kmer[0:len(kmer) - 1]].append(kmer[1:len(kmer)])\n",
        "  return adjacency_dict"
      ],
      "metadata": {
        "id": "hH-Gjy5UCZWw"
      },
      "execution_count": 30,
      "outputs": []
    },
    {
      "cell_type": "markdown",
      "source": [
        "U DeBruijn grafu su identitični čvorovi gluani zajedno --> dakle, u listi čvorova ne možemo imati duplikate, možemo imati samo duplikatne veze, tj. readove koji se ponavljaju"
      ],
      "metadata": {
        "id": "j3DUclTDCdEZ"
      }
    },
    {
      "cell_type": "code",
      "source": [
        "def DeBruijnGraphNodes(de_bruijn_graph_dict):\n",
        "  de_bruijn_graph_nodes = set()\n",
        "  for key,values_list in de_bruijn_graph_dict.items():\n",
        "    de_bruijn_graph_nodes.update([key] + values_list)\n",
        "  return list(de_bruijn_graph_nodes) #mapping from read to number defined by mapping from index of list --> element at that index"
      ],
      "metadata": {
        "id": "_OxoKOFUCasT"
      },
      "execution_count": 31,
      "outputs": []
    },
    {
      "cell_type": "code",
      "source": [
        "def DefineGraphDict(de_bruijn_graph_dict, de_bruijn_graph_nodes):\n",
        "  graph_dict = {}\n",
        "  for i in range(len(de_bruijn_graph_nodes)):\n",
        "    graph_dict.setdefault(i,[])\n",
        "  for key,values_list in de_bruijn_graph_dict.items():\n",
        "    for value in values_list:\n",
        "      graph_dict[de_bruijn_graph_nodes.index(key)].append(de_bruijn_graph_nodes.index(value))\n",
        "  return graph_dict"
      ],
      "metadata": {
        "id": "xktYZLRICf9R"
      },
      "execution_count": 33,
      "outputs": []
    },
    {
      "cell_type": "code",
      "source": [
        "def VisitedEdges(graph_dict):\n",
        "  visited_edges_dict = {}\n",
        "  for key,values_list in graph_dict.items():\n",
        "    for value in values_list:\n",
        "      visited_edges_dict.setdefault((key,value), 0)\n",
        "  return visited_edges_dict"
      ],
      "metadata": {
        "id": "fnbYMyGwChRW"
      },
      "execution_count": 34,
      "outputs": []
    },
    {
      "cell_type": "code",
      "source": [
        "def NodeInDegree(graph_dict,node):\n",
        "  node_indegree = 0\n",
        "  for adjacent_nodes_list in graph_dict.values():\n",
        "    if node in adjacent_nodes_list:\n",
        "      node_indegree = node_indegree + 1\n",
        "  return node_indegree"
      ],
      "metadata": {
        "id": "N3O2MPalCim9"
      },
      "execution_count": 35,
      "outputs": []
    },
    {
      "cell_type": "code",
      "source": [
        "def NodeOutDegree(graph_dict,node):\n",
        "  return len(graph_dict[node])"
      ],
      "metadata": {
        "id": "nkef2EqrCj4j"
      },
      "execution_count": 36,
      "outputs": []
    },
    {
      "cell_type": "code",
      "source": [
        "import numpy as np\n",
        "from random import randint, randrange"
      ],
      "metadata": {
        "id": "fsTPszKbClH3"
      },
      "execution_count": 37,
      "outputs": []
    },
    {
      "cell_type": "code",
      "source": [
        "def EulerianCycle(graph_dict):\n",
        "  visited_edges_dict = VisitedEdges(graph_dict)\n",
        "  starting_node = randint(min(graph_dict.keys()), max(graph_dict.keys()))\n",
        "  cycle = [starting_node]\n",
        "  while sum(visited_edges_dict.values()) < len(visited_edges_dict): #repeat until Eulerian cycle is found --> input is an Eulerian directed graph --> Eulerian cycle can always be found\n",
        "    #while loop entered --> sum(visited_edges_dict.values()) < len(visited_edges_dict) --> cycle smaller than Eulerian cycle is being formed\n",
        "    possible_adjacent_nodes = [key[1] for key in visited_edges_dict.keys() if key[0] == cycle[len(cycle)-1] and visited_edges_dict[key] == 0]\n",
        "    if len(possible_adjacent_nodes) == 0 and sum(visited_edges_dict.values()) < len(visited_edges_dict): #cycle smaller than Eulerian cycle completed as we got stuck at starting node --> all edges are not visited\n",
        "      #possible_starting_nodes_list = [node for node in cycle if NodeOutDegree(graph_dict,node) >= NodeOutDegree(graph_dict,cycle[0])] #no, thsi way we are choosing node regardless of the number of times it appeared in cycle\n",
        "      #possible_starting_nodes_list = [visited_edge[0] for node in cycle for visited_edge in visited_edges_dict.keys() if visited_edge[0] == node and visited_edges_dict[visited_edge] == 1] --> this caused efficiency problems\n",
        "      possible_starting_nodes_list = [node for node in cycle if NodeOutDegree(graph_dict,node) > cycle.count(node)] #if NodeOutDegree(node) > number of times node occurs in cycle then there are unused outgoing edges, every occurence measn that one outgoing edge is used \n",
        "      starting_node = possible_starting_nodes_list[randrange(0,len(possible_starting_nodes_list))] #randomly choose new starting node among nodes with higher NodeOutDegree than previous starting node\n",
        "      cycle = cycle[cycle.index(starting_node):len(cycle)] + cycle[1:cycle.index(starting_node)+1] #construct new_cycle using previous cycle\n",
        "    else: #len(possible_adjacent_nodes) > 1 and sum(visited_edges_dict.values()) < len(visited_edges_dict) --> cycle is not finished yet\n",
        "      if len(possible_adjacent_nodes) == 1:\n",
        "        next_node = possible_adjacent_nodes[0]\n",
        "        visited_edges_dict[(cycle[len(cycle)-1], next_node)] = 1\n",
        "        cycle.append(next_node)\n",
        "      else:\n",
        "        next_node = possible_adjacent_nodes[randint(0,len(possible_adjacent_nodes)-1)]\n",
        "        visited_edges_dict[(cycle[len(cycle)-1], next_node)] = 1\n",
        "        cycle.append(next_node)\n",
        "  return cycle"
      ],
      "metadata": {
        "id": "o1NDCjpMCmYK"
      },
      "execution_count": 38,
      "outputs": []
    },
    {
      "cell_type": "code",
      "source": [
        "def AssembleStringFromEdges(nodes):\n",
        "  string = str(nodes[0])\n",
        "  for i in range(1,len(nodes)-(k-1)): #we take last numbers of len(nodes)-(k-1) elements (starting from the start) as other reads can be constructed with the first kmer of the assembled genome\n",
        "    string = string + str(nodes[i][len(nodes[i])-1])\n",
        "  return string"
      ],
      "metadata": {
        "id": "luYJW4XdDzuc"
      },
      "execution_count": 142,
      "outputs": []
    },
    {
      "cell_type": "markdown",
      "source": [
        "Example for the comment above:\n",
        "\n",
        "000 --> 001 --> 011 --> 111 --> 110 --> 101 --> 010 --> 100 --> 000\n",
        "\n",
        "010 --> 100 --> 000\n",
        "\n",
        "Last number of 010 is the same as the second number of 100, that is the same as the first number of 000 --> last number of 010 is the same as the first number of 000, i.e., the first number of the first kmer of the assembled genome\n",
        "\n",
        "Second number of 100 is the same as the first number of 000, i.e., the same as the first number of the first kmer in the assembled genome\n",
        "\n",
        "Last number of 100 is the same as the second number of 000, i.e., the same as the second number of the first kmer of the assembled genome\n",
        "\n",
        "Same can be applied for following 4-mers:\n",
        "\n",
        "0111 is the start of the assembled genome, the first 4-kmer of the assembled genome\n",
        "\n",
        "0010 --> 0101 --> 1011 --> 0111"
      ],
      "metadata": {
        "id": "FwcItAPLLtQw"
      }
    },
    {
      "cell_type": "code",
      "source": [
        "def ReplaceNodesWithEdges(eulerian_cycle):\n",
        "  eulerian_cycle_edges = []\n",
        "  i = 0\n",
        "  while i + 1 <= len(eulerian_cycle) - 1:\n",
        "    eulerian_cycle_edges.append(eulerian_cycle[i] + eulerian_cycle[i+1][len(eulerian_cycle[i+1])-1])\n",
        "    i = i + 1\n",
        "  return eulerian_cycle_edges"
      ],
      "metadata": {
        "id": "o1e6b59J_0L9"
      },
      "execution_count": 134,
      "outputs": []
    },
    {
      "cell_type": "code",
      "source": [
        "def StringReconstruction(reads,k):\n",
        "  de_bruijn_graph_dict = DeBruijnGraphK(reads,k)\n",
        "  de_bruijn_graph_nodes = DeBruijnGraphNodes(de_bruijn_graph_dict)\n",
        "  graph_dict = DefineGraphDict(de_bruijn_graph_dict,de_bruijn_graph_nodes)\n",
        "  eulerian_cycle = EulerianCycle(graph_dict)\n",
        "  for i in range(len(eulerian_cycle)):\n",
        "    eulerian_cycle[i] = de_bruijn_graph_nodes[eulerian_cycle[i]]\n",
        "  eulerian_cycle_edges = ReplaceNodesWithEdges(eulerian_cycle)\n",
        "  string = AssembleStringFromEdges(eulerian_cycle_edges)\n",
        "  return string"
      ],
      "metadata": {
        "id": "IxKUGEWaDPrI"
      },
      "execution_count": 135,
      "outputs": []
    },
    {
      "cell_type": "code",
      "source": [
        "from math import pow"
      ],
      "metadata": {
        "id": "bjTJwmfP_e7O"
      },
      "execution_count": 106,
      "outputs": []
    },
    {
      "cell_type": "markdown",
      "source": [
        "Let BinaryStringsk be the set of all 2k binary k-mers. The only thing we need\n",
        "to do is to solve the k-Universal Circular String Problem is to find an Eulerian cycle\n",
        "in DEBRUIJN(BinaryStringsk). --> dakle, binarni kmeri su veze, a binarni (k-1)meri su čvorovi"
      ],
      "metadata": {
        "id": "BrDRMXpLDcan"
      }
    },
    {
      "cell_type": "code",
      "source": [
        "def BinaryStringsK(k):\n",
        "  #for some value of k, decimal numbers computed from binary numbers are in range [0, 2^k-1]\n",
        "  binary_strings = []\n",
        "  for i in range(int(pow(2,k))):\n",
        "    if len(bin(i)[2:len(bin(i))]) < k:\n",
        "      binary_strings.append((k - len(bin(i)[2:len(bin(i))])) * '0' + bin(i)[2:len(bin(i))])\n",
        "    else:\n",
        "      binary_strings.append(bin(i)[2:len(bin(i))])\n",
        "  return binary_strings"
      ],
      "metadata": {
        "id": "IoDxIcxc-3ax"
      },
      "execution_count": 107,
      "outputs": []
    },
    {
      "cell_type": "code",
      "source": [
        "k = 4"
      ],
      "metadata": {
        "id": "gt80lLna-5a1"
      },
      "execution_count": 121,
      "outputs": []
    },
    {
      "cell_type": "code",
      "source": [
        "reads = BinaryStringsK(k)"
      ],
      "metadata": {
        "id": "yRThsEjH_8n6"
      },
      "execution_count": 122,
      "outputs": []
    },
    {
      "cell_type": "code",
      "source": [
        "reads"
      ],
      "metadata": {
        "id": "rnZfdhshECnV"
      },
      "execution_count": null,
      "outputs": []
    },
    {
      "cell_type": "code",
      "source": [
        "StringReconstruction(reads,k)"
      ],
      "metadata": {
        "id": "ybda4PDKbt2j"
      },
      "execution_count": null,
      "outputs": []
    },
    {
      "cell_type": "code",
      "source": [
        "k = 9"
      ],
      "metadata": {
        "id": "YWftDZ0JK_Gx"
      },
      "execution_count": 138,
      "outputs": []
    },
    {
      "cell_type": "code",
      "source": [
        "reads = BinaryStringsK(k)"
      ],
      "metadata": {
        "id": "AQ6oQQdALFzD"
      },
      "execution_count": 139,
      "outputs": []
    },
    {
      "cell_type": "code",
      "source": [
        "StringReconstruction(reads,k)"
      ],
      "metadata": {
        "id": "2kKHWPmlLDb4"
      },
      "execution_count": null,
      "outputs": []
    }
  ]
}