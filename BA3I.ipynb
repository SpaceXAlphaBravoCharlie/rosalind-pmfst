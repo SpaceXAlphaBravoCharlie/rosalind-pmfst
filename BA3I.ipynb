{
  "nbformat": 4,
  "nbformat_minor": 0,
  "metadata": {
    "colab": {
      "name": "BA3I.ipynb",
      "provenance": []
    },
    "kernelspec": {
      "name": "python3",
      "display_name": "Python 3"
    },
    "language_info": {
      "name": "python"
    }
  },
  "cells": [
    {
      "cell_type": "code",
      "execution_count": null,
      "metadata": {
        "id": "KF8sBOz3-yjT"
      },
      "outputs": [],
      "source": [
        "def FindAllKmers(dna_string,k):\n",
        "  kmers_list = []\n",
        "  i = 0\n",
        "  while i + k - 1 <= len(dna_string) - 1:\n",
        "    kmers_list.append(dna_string[i:i+k])\n",
        "    i = i + 1\n",
        "  return kmers_list"
      ]
    },
    {
      "cell_type": "code",
      "source": [
        "def Prefix(pattern):\n",
        "  return pattern[0:len(pattern)-1]"
      ],
      "metadata": {
        "id": "gfa7IbF8rr_a"
      },
      "execution_count": null,
      "outputs": []
    },
    {
      "cell_type": "code",
      "source": [
        "def Suffix(pattern):\n",
        "  return pattern[1:len(pattern)]"
      ],
      "metadata": {
        "id": "Dn7L6zGBr_ev"
      },
      "execution_count": null,
      "outputs": []
    },
    {
      "cell_type": "code",
      "source": [
        "def DeBruijnGraphK(patterns,k):\n",
        "  de_bruijn_graph_dict = {}\n",
        "  for pattern in patterns:\n",
        "    de_bruijn_graph_dict.setdefault(Prefix(pattern),[])\n",
        "    de_bruijn_graph_dict[Prefix(pattern)].append(Suffix(pattern))\n",
        "  return de_bruijn_graph_dict"
      ],
      "metadata": {
        "id": "qWuw3T1zrlyi"
      },
      "execution_count": null,
      "outputs": []
    },
    {
      "cell_type": "markdown",
      "source": [
        "U DeBruijn grafu su identitični čvorovi gluani zajedno --> dakle, u listi čvorova ne možemo imati duplikate, možemo imati samo duplikatne veze, tj. readove koji se ponavljaju --> ako zbrojimo sve liste susjedstva onda možemo imati duplikate\n",
        "\n",
        "\n"
      ],
      "metadata": {
        "id": "j3DUclTDCdEZ"
      }
    },
    {
      "cell_type": "code",
      "source": [
        "def DeBruijnGraphNodes(de_bruijn_graph_dict):\n",
        "  de_bruijn_graph_nodes = set()\n",
        "  for node,values_list in de_bruijn_graph_dict.items():\n",
        "    de_bruijn_graph_nodes.update([node] + values_list)\n",
        "  return list(de_bruijn_graph_nodes) #mapping from read to number defined by mapping from index of list to element at the index"
      ],
      "metadata": {
        "id": "CVQt_lLDsmVw"
      },
      "execution_count": null,
      "outputs": []
    },
    {
      "cell_type": "code",
      "source": [
        "def DefineGraphDict(de_bruijn_graph_dict,de_bruijn_graph_nodes):\n",
        "  graph_dict = {}\n",
        "  for key,nodes_list in de_bruijn_graph_dict.items():\n",
        "    graph_dict.setdefault(de_bruijn_graph_nodes.index(key),[])\n",
        "    for node in nodes_list:\n",
        "      graph_dict[de_bruijn_graph_nodes.index(key)].append(de_bruijn_graph_nodes.index(node))\n",
        "  return graph_dict"
      ],
      "metadata": {
        "id": "tBUmWV9xtZbG"
      },
      "execution_count": null,
      "outputs": []
    },
    {
      "cell_type": "markdown",
      "source": [
        "U listi susjedstva možemo imati duplikatne čvorove, npr.\n",
        "\n",
        "AT --> TG, TG, TG (u genomu imamo 3 puta kmer ATG)\n",
        "\n",
        "U ovom slučaju u rječniku moramo imati 3 ključa --> (AT, TG), (AT, TG), (AT, TG) --> ne možemo jer ključ mora biti jedinstven"
      ],
      "metadata": {
        "id": "tKGqWlRNvEKq"
      }
    },
    {
      "cell_type": "code",
      "source": [
        "def VisitedEdges(graph_dict):\n",
        "  visited_edges_dict = {}\n",
        "  for key,adjacent_nodes in graph_dict.items():\n",
        "    for node in adjacent_nodes:\n",
        "      visited_edges_dict.setdefault((key,node),[])\n",
        "      visited_edges_dict[(key,node)].append(0)\n",
        "  return visited_edges_dict"
      ],
      "metadata": {
        "id": "0Q7srLk6vD0Y"
      },
      "execution_count": null,
      "outputs": []
    },
    {
      "cell_type": "code",
      "source": [
        "def NodeInDegree(graph_dict,node):\n",
        "  node_in_degree = 0\n",
        "  for values_list in graph_dict.values():\n",
        "    node_in_degree = node_in_degree + list(values_list).count(node)\n",
        "  return node_in_degree"
      ],
      "metadata": {
        "id": "_jJ6eutywOFs"
      },
      "execution_count": null,
      "outputs": []
    },
    {
      "cell_type": "code",
      "source": [
        "def NodeOutDegree(graph_dict,node):\n",
        "  return len(graph_dict[node])"
      ],
      "metadata": {
        "id": "nkef2EqrCj4j"
      },
      "execution_count": null,
      "outputs": []
    },
    {
      "cell_type": "code",
      "source": [
        "import numpy as np\n",
        "from random import randint, randrange"
      ],
      "metadata": {
        "id": "fsTPszKbClH3"
      },
      "execution_count": null,
      "outputs": []
    },
    {
      "cell_type": "code",
      "source": [
        "def VisitedEdgesDictSum(visited_edges_dict):\n",
        "  visited_edges_dict_sum = 0\n",
        "  for values_list in visited_edges_dict.values():\n",
        "    visited_edges_dict_sum = visited_edges_dict_sum + sum(values_list)\n",
        "  return visited_edges_dict_sum"
      ],
      "metadata": {
        "id": "xIJxyR-E0D1J"
      },
      "execution_count": null,
      "outputs": []
    },
    {
      "cell_type": "code",
      "source": [
        "def VisitedEdgesDictValueCount(visited_edges_dict):\n",
        "  visited_edges_dict_value_count = 0\n",
        "  for values_list in visited_edges_dict.values():\n",
        "    visited_edges_dict_value_count = visited_edges_dict_value_count + len(values_list)\n",
        "  return visited_edges_dict_value_count"
      ],
      "metadata": {
        "id": "tjFpSZi_0Fuf"
      },
      "execution_count": null,
      "outputs": []
    },
    {
      "cell_type": "code",
      "source": [
        "def EulerianCycle(graph_dict):\n",
        "  visited_edges_dict = VisitedEdges(graph_dict)\n",
        "  starting_node = randint(min(graph_dict.keys()),max(graph_dict.keys())) #lower and upper bound included\n",
        "  cycle = [starting_node]\n",
        "  visited_edges_dict_value_count = VisitedEdgesDictValueCount(visited_edges_dict)\n",
        "  while VisitedEdgesDictSum(visited_edges_dict) < visited_edges_dict_value_count: #repeat until Eulerian cycle is found --> input is an Eulerian directed graph --> Eulerian cycle can always be found\n",
        "    #while loop entered --> sum(visited_edges_dict.values()) < len(visited_edges_dict) --> cycle smaller than Eulerian cycle is being formed\n",
        "    possible_adjacent_nodes = [key[1] for key in visited_edges_dict.keys() if key[0] == cycle[len(cycle)-1] and visited_edges_dict[key].count(0) > 0]\n",
        "    if len(possible_adjacent_nodes) == 0 and VisitedEdgesDictSum(visited_edges_dict) < visited_edges_dict_value_count: #cycle smaller than Eulerian cycle completed as we got stuck at starting node --> all edges are not visited\n",
        "      #possible_starting_nodes_list = [node for node in cycle if NodeOutDegree(graph_dict,node) >= NodeOutDegree(graph_dict,cycle[0])] #no, this way we are choosing node regardless of the number of times it appeared in cycle\n",
        "      #possible_starting_nodes_list = [visited_edge[0] for node in cycle for visited_edge in visited_edges_dict.keys() if visited_edge[0] == node and visited_edges_dict[visited_edge] == 1] --> this caused efficiency problems\n",
        "      possible_starting_nodes_list = [node for node in cycle if NodeOutDegree(graph_dict,node) > cycle.count(node)] #if NodeOutDegree(node) > number of times node occurs in cycle then there are unused outgoing edges (and unused ingoing edges because of unused outgoing edges, unused outgoing edges must be visited by unused incoming edges), every occurence means that one outgoing edge is used\n",
        "      if len(possible_starting_nodes_list) == 0: #if this condition is satisfied than graph is not strongly connected --> there is no Eulerian cycle nor Eulerian path in graph\n",
        "        return []\n",
        "      if len(possible_starting_nodes_list) == 1:\n",
        "        starting_node = possible_starting_nodes_list[0] #choose only available starting node\n",
        "      else:\n",
        "        starting_node = possible_starting_nodes_list[randrange(0,len(possible_starting_nodes_list))] #randomly choose new starting node among nodes with higher NodeOutDegree than previous starting node\n",
        "      cycle = cycle[cycle.index(starting_node):len(cycle)] + cycle[1:cycle.index(starting_node)+1] #construct new_cycle using previous cycle\n",
        "    else: #len(possible_adjacent_nodes) > 1 and sum(visited_edges_dict.values()) < len(visited_edges_dict) --> cycle is not finished yet\n",
        "      if len(possible_adjacent_nodes) == 1:\n",
        "        next_node = possible_adjacent_nodes[0]\n",
        "        #visited_edges_dict[(cycle[len(cycle)-1], next_node)] = 1\n",
        "        visited_edges_dict_value_list = visited_edges_dict[(cycle[len(cycle)-1], next_node)]\n",
        "        visited_edges_dict_value_list[visited_edges_dict_value_list.index(0)] = 1 #always update the first zero\n",
        "        cycle.append(next_node)\n",
        "      else:\n",
        "        next_node = possible_adjacent_nodes[randint(0,len(possible_adjacent_nodes)-1)] #lower and upper bound included\n",
        "        visited_edges_dict_value_list = visited_edges_dict[(cycle[len(cycle)-1], next_node)]\n",
        "        visited_edges_dict_value_list[visited_edges_dict_value_list.index(0)] = 1 #always update the first zero\n",
        "        cycle.append(next_node)\n",
        "  return cycle"
      ],
      "metadata": {
        "id": "o1NDCjpMCmYK"
      },
      "execution_count": null,
      "outputs": []
    },
    {
      "cell_type": "code",
      "source": [
        "def AssembleStringFromEdges(nodes):\n",
        "  string = str(nodes[0])\n",
        "  for i in range(1,len(nodes)-(k-1)): #we take last numbers of len(nodes)-(k-1) elements (starting from the start) as other reads can be constructed with the first kmer of the assembled genome\n",
        "    string = string + str(nodes[i][len(nodes[i])-1])\n",
        "  return string"
      ],
      "metadata": {
        "id": "luYJW4XdDzuc"
      },
      "execution_count": null,
      "outputs": []
    },
    {
      "cell_type": "markdown",
      "source": [
        "Example for the comment above:\n",
        "\n",
        "000 --> 001 --> 011 --> 111 --> 110 --> 101 --> 010 --> 100 --> 000\n",
        "\n",
        "010 --> 100 --> 000\n",
        "\n",
        "Last number of 010 is the same as the second number of 100, that is the same as the first number of 000 --> last number of 010 is the same as the first number of 000, i.e., the first number of the first kmer of the assembled genome\n",
        "\n",
        "Second number of 100 is the same as the first number of 000, i.e., the same as the first number of the first kmer in the assembled genome\n",
        "\n",
        "Last number of 100 is the same as the second number of 000, i.e., the same as the second number of the first kmer of the assembled genome\n",
        "\n",
        "Same can be applied for following 4-mers:\n",
        "\n",
        "0111 is the start of the assembled genome, the first 4-kmer of the assembled genome\n",
        "\n",
        "0010 --> 0101 --> 1011 --> 0111"
      ],
      "metadata": {
        "id": "FwcItAPLLtQw"
      }
    },
    {
      "cell_type": "code",
      "source": [
        "def ReplaceNodesWithEdges(eulerian_cycle):\n",
        "  eulerian_cycle_edges = []\n",
        "  i = 0\n",
        "  while i + 1 <= len(eulerian_cycle) - 1:\n",
        "    eulerian_cycle_edges.append(eulerian_cycle[i] + eulerian_cycle[i+1][len(eulerian_cycle[i+1])-1])\n",
        "    i = i + 1\n",
        "  return eulerian_cycle_edges"
      ],
      "metadata": {
        "id": "AGWpiWKNAdNO"
      },
      "execution_count": null,
      "outputs": []
    },
    {
      "cell_type": "code",
      "source": [
        "def ReplaceNumbersWithBinaryStrings(eulerian_cycle,de_bruijn_graph_nodes):\n",
        "  for i in range(len(eulerian_cycle)):\n",
        "    eulerian_cycle[i] = de_bruijn_graph_nodes[eulerian_cycle[i]]\n",
        "  return eulerian_cycle"
      ],
      "metadata": {
        "id": "0R0sttA8_zig"
      },
      "execution_count": null,
      "outputs": []
    },
    {
      "cell_type": "markdown",
      "source": [
        "Let BinaryStringsk be the set of all 2^k binary k-mers. The only thing we need\n",
        "to do is to solve the k-Universal Circular String Problem is to find an Eulerian cycle in DEBRUIJN(BinaryStringsk)."
      ],
      "metadata": {
        "id": "BsnaAwIQ_RxW"
      }
    },
    {
      "cell_type": "code",
      "source": [
        "def StringReconstruction(k):\n",
        "  de_bruijn_graph_dict = DeBruijnGraphK(BinaryStringsK(k),k)\n",
        "  de_bruijn_graph_nodes = DeBruijnGraphNodes(de_bruijn_graph_dict)\n",
        "  graph_dict = DefineGraphDict(de_bruijn_graph_dict,de_bruijn_graph_nodes)\n",
        "  eulerian_cycle = EulerianCycle(graph_dict)\n",
        "  eulerian_cycle = ReplaceNumbersWithBinaryStrings(eulerian_cycle,de_bruijn_graph_nodes)\n",
        "  eulerian_cycle_edges = ReplaceNodesWithEdges(eulerian_cycle) #replace nodes with edges as edges in de_bruijn_graph_dict coorespond to binary kmers --> k-universal circular string is assembled from binary kmers\n",
        "  string = AssembleStringFromEdges(eulerian_cycle_edges)\n",
        "  return string"
      ],
      "metadata": {
        "id": "IxKUGEWaDPrI"
      },
      "execution_count": null,
      "outputs": []
    },
    {
      "cell_type": "markdown",
      "source": [
        "Let BinaryStringsk be the set of all 2k binary k-mers. The only thing we need\n",
        "to do is to solve the k-Universal Circular String Problem is to find an Eulerian cycle\n",
        "in DEBRUIJN(BinaryStringsk). --> dakle, binarni kmeri su veze, a binarni (k-1)meri su čvorovi"
      ],
      "metadata": {
        "id": "BrDRMXpLDcan"
      }
    },
    {
      "cell_type": "code",
      "source": [
        "from math import pow"
      ],
      "metadata": {
        "id": "dsZx5RTO9sVx"
      },
      "execution_count": null,
      "outputs": []
    },
    {
      "cell_type": "code",
      "source": [
        "def BinaryStringsK(k):\n",
        "  binary_strings = []\n",
        "  for i in range(0,int(pow(2,k))): #for some value of k, decimal numbers computed from binary numbers are in range [0, 2^k-1]\n",
        "    binary_i = bin(i)[2:len(bin(i))]\n",
        "    if len(binary_i) < k:\n",
        "      binary_strings.append((k - len(binary_i)) * '0' + binary_i)\n",
        "    else:\n",
        "      binary_strings.append(binary_i)\n",
        "  return binary_strings"
      ],
      "metadata": {
        "id": "5EA-hoko8paP"
      },
      "execution_count": null,
      "outputs": []
    },
    {
      "cell_type": "code",
      "source": [
        "k = 4"
      ],
      "metadata": {
        "id": "gt80lLna-5a1"
      },
      "execution_count": null,
      "outputs": []
    },
    {
      "cell_type": "code",
      "source": [
        "StringReconstruction(k)"
      ],
      "metadata": {
        "id": "ybda4PDKbt2j",
        "colab": {
          "base_uri": "https://localhost:8080/",
          "height": 36
        },
        "outputId": "92bdad0d-8f30-4c4c-98d2-dcf84998809f"
      },
      "execution_count": null,
      "outputs": [
        {
          "output_type": "execute_result",
          "data": {
            "text/plain": [
              "'1110010100001101'"
            ],
            "application/vnd.google.colaboratory.intrinsic+json": {
              "type": "string"
            }
          },
          "metadata": {},
          "execution_count": 99
        }
      ]
    },
    {
      "cell_type": "code",
      "source": [
        "with open('/content/rosalind_ba3i.txt') as task_file:\n",
        "  k = int([line.rstrip() for line in task_file][0])"
      ],
      "metadata": {
        "id": "YWftDZ0JK_Gx"
      },
      "execution_count": null,
      "outputs": []
    },
    {
      "cell_type": "code",
      "source": [
        "f = open(\"task_result.txt\",\"w\")\n",
        "f.write(StringReconstruction(k))\n",
        "f.close()"
      ],
      "metadata": {
        "id": "2kKHWPmlLDb4"
      },
      "execution_count": null,
      "outputs": []
    }
  ]
}