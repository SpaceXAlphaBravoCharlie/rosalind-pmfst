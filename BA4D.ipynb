{
  "nbformat": 4,
  "nbformat_minor": 0,
  "metadata": {
    "colab": {
      "name": "BA4D.ipynb",
      "provenance": []
    },
    "kernelspec": {
      "name": "python3",
      "display_name": "Python 3"
    },
    "language_info": {
      "name": "python"
    }
  },
  "cells": [
    {
      "cell_type": "markdown",
      "source": [
        " We will start by assuming that a biologist is lucky enough to generate an ideal experimental spectrum Spectrum, which is one coinciding with the peptide’s theoretical spectrum"
      ],
      "metadata": {
        "id": "Pjlz1sHmosG7"
      }
    },
    {
      "cell_type": "markdown",
      "source": [
        "For the sake of simplicity, we will also assume that for all experimental spectra,\n",
        "PARENTMASS(Spectrum) is equal to the largest mass in Spectrum"
      ],
      "metadata": {
        "id": "jugJOFGLo4wC"
      }
    },
    {
      "cell_type": "code",
      "source": [
        "aminoacids_integer_masses_dict = {'A': 71,\n",
        " 'C': 103,\n",
        " 'D': 115,\n",
        " 'E': 129,\n",
        " 'F': 147,\n",
        " 'G': 57,\n",
        " 'H': 137,\n",
        " 'I': 113,\n",
        " 'K': 128,\n",
        " 'L': 113,\n",
        " 'M': 131,\n",
        " 'N': 114,\n",
        " 'P': 97,\n",
        " 'Q': 128,\n",
        " 'R': 156,\n",
        " 'S': 87,\n",
        " 'T': 101,\n",
        " 'V': 99,\n",
        " 'W': 186,\n",
        " 'Y': 163}"
      ],
      "metadata": {
        "id": "NqTLRBPgmW5M"
      },
      "execution_count": 17,
      "outputs": []
    },
    {
      "cell_type": "code",
      "source": [
        "def GetAllCombinationsWoker(mass,aminoacids_integer_masses,counter):\n",
        "    if mass in counter:\n",
        "        return counter[mass]\n",
        "\n",
        "    if mass < 0:\n",
        "        return 0\n",
        "\n",
        "    if mass == 0:\n",
        "        return 1\n",
        "\n",
        "    counter[mass] = 0\n",
        "    for aminoacid_integer_mass in aminoacids_integer_masses:\n",
        "        counter[mass] += GetAllCombinationsWoker(mass-aminoacid_integer_mass,aminoacids_integer_masses,counter)\n",
        "\n",
        "    return counter[mass]"
      ],
      "metadata": {
        "id": "nzgOWYQOnS7P"
      },
      "execution_count": 18,
      "outputs": []
    },
    {
      "cell_type": "code",
      "source": [
        "def GetAllCombinations(mass):\n",
        "    counter = {}\n",
        "    aminoacids_integer_masses = list(set(aminoacids_integer_masses_dict.values()))\n",
        "    GetAllCombinationsWoker(mass,aminoacids_integer_masses,counter)\n",
        "    return GetAllCombinationsWoker(mass,aminoacids_integer_masses,counter)"
      ],
      "metadata": {
        "id": "GGZlNDb_MTvD"
      },
      "execution_count": 19,
      "outputs": []
    },
    {
      "cell_type": "code",
      "source": [
        "mass = 1024"
      ],
      "metadata": {
        "id": "wbxIpeKVmW8s"
      },
      "execution_count": 20,
      "outputs": []
    },
    {
      "cell_type": "code",
      "source": [
        "GetAllCombinations(mass)"
      ],
      "metadata": {
        "colab": {
          "base_uri": "https://localhost:8080/"
        },
        "id": "Qel6ubB5O3sI",
        "outputId": "decf0b5f-f8a8-462d-afe7-1327a777fb45"
      },
      "execution_count": 21,
      "outputs": [
        {
          "output_type": "execute_result",
          "data": {
            "text/plain": [
              "14712706211"
            ]
          },
          "metadata": {},
          "execution_count": 21
        }
      ]
    },
    {
      "cell_type": "code",
      "source": [
        "with open('/content/rosalind_ba4d.txt') as task_file:\n",
        "  mass = int([line.rstrip() for line in task_file][0])"
      ],
      "metadata": {
        "id": "kRyMpYdNSq-V"
      },
      "execution_count": 26,
      "outputs": []
    },
    {
      "cell_type": "code",
      "source": [
        "GetAllCombinations(mass)"
      ],
      "metadata": {
        "colab": {
          "base_uri": "https://localhost:8080/"
        },
        "id": "MBmEa5CcS-It",
        "outputId": "a67ff8ca-f5de-42c5-8d3f-13808188610e"
      },
      "execution_count": 28,
      "outputs": [
        {
          "output_type": "execute_result",
          "data": {
            "text/plain": [
              "1116417402996227"
            ]
          },
          "metadata": {},
          "execution_count": 28
        }
      ]
    }
  ]
}