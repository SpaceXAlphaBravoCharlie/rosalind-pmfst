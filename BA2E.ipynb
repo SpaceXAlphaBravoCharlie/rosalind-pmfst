{
  "nbformat": 4,
  "nbformat_minor": 0,
  "metadata": {
    "colab": {
      "name": "BA2E.ipynb",
      "provenance": []
    },
    "kernelspec": {
      "name": "python3",
      "display_name": "Python 3"
    },
    "language_info": {
      "name": "python"
    }
  },
  "cells": [
    {
      "cell_type": "code",
      "execution_count": null,
      "metadata": {
        "id": "1pI0NMeMeJ-u"
      },
      "outputs": [],
      "source": [
        ""
      ]
    },
    {
      "cell_type": "markdown",
      "source": [
        "At first glance, GREEDYMOTIFSEARCH may seem like a reasonable algorithm, but\n",
        "it is not! Let’s see whether GREEDYMOTIFSEARCH will find the (4, 1)-motif ACGT\n",
        "implanted in the following strings Dna:\n",
        "\n",
        "ttACCTtaac\n",
        "\n",
        "gATGTctgtc\n",
        "\n",
        "acgGCGTtag\n",
        "\n",
        "ccctaACGAg\n",
        "\n",
        "cgtcagAGGT\n",
        "\n",
        "We will assume that the algorithm has already correctly chosen the implanted 4-mer ACCT from the first string in Dna and constructed the corresponding Profile:\n",
        "\n",
        "A: 1 0 0 0\n",
        "\n",
        "C: 0 1 1 0\n",
        "\n",
        "G: 0 0 0 0\n",
        "\n",
        "T: 0 0 0 1\n",
        "\n",
        "The algorithm is now ready to search for a Profile-most probable 4-mer in the second sequence. The issue, however, is that there are so many zeros in the profile matrix that the probability of every 4-mer but ACCT is zero! Thus, unless ACCT is present in every string in Dna (profile most probable kmer je ACCT jer smo konstruirali Profile matricu od samo jednog kmera), there is little chance that GREEDYMOTIFSEARCH will find the implanted motif. Zeroes in the profile matrix are not just a minor annoyance but rather a persistent problem that we must address."
      ],
      "metadata": {
        "id": "Znjdpd7HeL8z"
      }
    },
    {
      "cell_type": "markdown",
      "source": [
        "statistical maxim called Cromwell’s rule, which states that we\n",
        "should not use probabilities of 0 or 1 unless we are talking about logical statements that can only be true or false (statement jedino može biti istina ili laž, tj. imamo samo 2 moguća ishoda). In other words, we should allow a small probability for extremely unlikely events, such as “this book was written by aliens” or “the sun will not rise tomorrow”. --> dakle, trebali bi odrediti kardinalni broj skupa elementarnih događaja tako da znamo kada možemo koristiti vjerojatnosti 0 i 1, a kada ne (P(Ω) = 1, kod uniformnog vjerojatnosnog modela svi elementarni događaju su jednako vjerojatni, ako ih ima n onda je vjerojatnost svakog od njih 1/n, dakle nijedna vjerojatnost nije 0, ako slučajni pokus sa 2 moguća ishoda (uspjeh ili neuspjeh) modeliramo Bernoullijevom slučajnom varijablom onda je vjerojatnost P(X=1)=p, P(X=0)=1-p=q, dakle ako je p = 1 onda slučajni pokus ima samo jedan ishod i nema smisla govoriti o vjerojatnosti 0, ako je p = 0 onda slučajni pokus ima samo jedan ishod i ima smisla govoriti o vjerojatnsti 0, elementarni događaji su svi mogući, a nedjeljivi, ishodi slučajnog pokusa, dakle treba u obzir uzeti sve elementarne događaje)"
      ],
      "metadata": {
        "id": "YsFlCpHyLTGj"
      }
    },
    {
      "cell_type": "markdown",
      "source": [
        "**Cromwell’s rule is relevant to the calculation of the probability of a string based on a profile matrix**. For example, consider the following Profile:\n",
        "\n",
        "A: .2 .2 .0 .0 .0 .0 .9 .1 .1 .1 .3 .0\n",
        "\n",
        "C: .1 .6 .0 .0 .0 .0 .0 .4 .1 .2 .4 .6\n",
        "\n",
        "G: .0 .0  1  1 .9 .9 .1 .0 .0 .0 .0 .0\n",
        "\n",
        "T: .7 .2 .0 .0 .1 .1 .0 .5 .8 .7 .3 .4\n",
        "\n",
        "Pr(TCGTGGATTTCC|Profile) = .7 · .6 · 1 · .0 · .9 · .9 · .9 · .5 · .8 · .7 · .4 · .6 = 0\n",
        "\n",
        "The fourth symbol of TCGTGGATTTCC causes Pr(TCGTGGATTTCC|Profile) to equal zero (event with non-zero probability didn't occur, its observed frequency is zero, setting its probability to zero represents and inaccurate oversimplification thah may casue problems). As a result, the entire string is assigned a zero probability, even though TCGTGGATTTCC differs from the consensus string at only one position (inaccurate oversimplification that caused problems). For that matter, TCGTGGATTTCC has the same low probability as AAATCTTGGAA, which is very different from the consensus string (inaccurate oversimplification that caused problems). In order to improve this unfair scoring, bioinformaticians often substitute zeroes with small numbers called pseudocounts. In the case of\n",
        "motifs, pseudocounts often amount to adding 1 (or some other small number) to each element of COUNT(Motifs)."
      ],
      "metadata": {
        "id": "W3CYN71QLo8R"
      }
    },
    {
      "cell_type": "code",
      "source": [
        "import numpy as np"
      ],
      "metadata": {
        "id": "vn2-EFm8mH0p"
      },
      "execution_count": 25,
      "outputs": []
    },
    {
      "cell_type": "code",
      "source": [
        "def FindAllKmers(dna_string, k):\n",
        "  kmers_list = []\n",
        "  i = 0\n",
        "  while i + k - 1 <= len(dna_string) - 1:\n",
        "    kmers_list.append(dna_string[i:i+k])\n",
        "    i = i + 1\n",
        "  return kmers_list"
      ],
      "metadata": {
        "id": "1eRjflEOk64G"
      },
      "execution_count": 26,
      "outputs": []
    },
    {
      "cell_type": "code",
      "source": [
        "from collections import Counter"
      ],
      "metadata": {
        "id": "hOYIDvd-o3NA"
      },
      "execution_count": 27,
      "outputs": []
    },
    {
      "cell_type": "code",
      "source": [
        "def IndexNucletoide(index):\n",
        "  if index == 0:\n",
        "    return 'A'\n",
        "  elif index == 1:\n",
        "    return 'C'\n",
        "  elif index == 2:\n",
        "    return 'G'\n",
        "  else:\n",
        "    return 'T'"
      ],
      "metadata": {
        "id": "wfIFpbU6paMV"
      },
      "execution_count": 28,
      "outputs": []
    },
    {
      "cell_type": "code",
      "source": [
        "def NucleotideIndex(nucleotide):\n",
        "  if nucleotide == 'A':\n",
        "    return 0\n",
        "  elif nucleotide == 'C':\n",
        "    return 1\n",
        "  elif nucleotide == 'G':\n",
        "    return 2\n",
        "  else:\n",
        "    return 3"
      ],
      "metadata": {
        "id": "qwUroOT-pxqr"
      },
      "execution_count": 29,
      "outputs": []
    },
    {
      "cell_type": "code",
      "source": [
        "def KmerProbability(profile, kmer):\n",
        "  probability = 1\n",
        "  for nucleotide in enumerate(kmer):\n",
        "    probability = probability * profile[NucleotideIndex(nucleotide[1]),nucleotide[0]]\n",
        "  return probability"
      ],
      "metadata": {
        "id": "W0oxiccC10FQ"
      },
      "execution_count": 30,
      "outputs": []
    },
    {
      "cell_type": "markdown",
      "source": [
        "In general, if there are multiple Profile-most probable k-mers in Text, then we select the first such k-mer occurring in Text."
      ],
      "metadata": {
        "id": "VGjkzO8i3eDR"
      }
    },
    {
      "cell_type": "code",
      "source": [
        "from collections import OrderedDict"
      ],
      "metadata": {
        "id": "RZ7IqExK5XQQ"
      },
      "execution_count": 31,
      "outputs": []
    },
    {
      "cell_type": "code",
      "source": [
        "def ProfileMostProbableKmer(text,k,profile):\n",
        "  kmers_probabilities_dict = OrderedDict()\n",
        "  for kmer in FindAllKmers(text, k):\n",
        "    kmers_probabilities_dict.update({kmer:KmerProbability(profile,kmer)})\n",
        "  for key in kmers_probabilities_dict.keys():\n",
        "    if kmers_probabilities_dict[key] == max(kmers_probabilities_dict.values()):\n",
        "      return key #return first kmer with highest probability if there are multiple kmers with same probability, otherwise return the kmer with highest probability"
      ],
      "metadata": {
        "id": "Vsnayg-W35Gg"
      },
      "execution_count": 32,
      "outputs": []
    },
    {
      "cell_type": "code",
      "source": [
        "def FormProfile(motifs,k,t):\n",
        "  for i in range(len(motifs)):\n",
        "    motifs[i] = list(motifs[i])\n",
        "  motifs_array = np.chararray((len(motifs),k))\n",
        "  profile = np.full((4,k),np.zeros((4,k)))\n",
        "  for i in range(len(motifs)):\n",
        "    motifs_array[i] = motifs[i]\n",
        "  for i in range(motifs_array.shape[1]):\n",
        "    column_i_count = Counter(motifs_array[:,i])\n",
        "    for j in range(0,4):\n",
        "      profile[j][i] = column_i_count[bytes(IndexNucletoide(j),encoding='utf-8')] / t\n",
        "  for i in range(len(motifs)):\n",
        "    motifs[i] = ''.join(motifs[i])\n",
        "  return profile"
      ],
      "metadata": {
        "id": "-c9uUriDl4p5"
      },
      "execution_count": 44,
      "outputs": []
    },
    {
      "cell_type": "code",
      "source": [
        "def LaplacesRuleOfSuccession(profile):\n",
        "  return profile + 1"
      ],
      "metadata": {
        "id": "PK5qcp3KNyz2"
      },
      "execution_count": 43,
      "outputs": []
    },
    {
      "cell_type": "code",
      "source": [
        "def Score(motifs,profile,k):\n",
        "  for i in range(len(motifs)):\n",
        "    motifs[i] = list(motifs[i])\n",
        "  motifs_array = np.chararray((len(motifs),k))\n",
        "  for i in range(len(motifs)):\n",
        "    motifs_array[i] = motifs[i]\n",
        "  score = 0\n",
        "  for i in range(motifs_array.shape[1]):\n",
        "    score = score + sum(motifs_array[:,i] != bytes(IndexNucletoide(np.argmax(profile[:,i])),encoding='utf-8'))\n",
        "  for i in range(len(motifs)):\n",
        "    motifs[i] = ''.join(motifs[i])\n",
        "  return score"
      ],
      "metadata": {
        "id": "zIT3pTO-qKbg"
      },
      "execution_count": 42,
      "outputs": []
    },
    {
      "cell_type": "code",
      "source": [
        "def GreedyMotifSearch(dna,k,t):\n",
        "  best_motifs = []\n",
        "  for i in range(len(dna)):\n",
        "    best_motifs.append(dna[i][0:k])\n",
        "  for kmer in FindAllKmers(dna[0],k):\n",
        "    motifs = [kmer]\n",
        "    for i in range(1,t):\n",
        "      profile = LaplacesRuleOfSuccession(FormProfile(motifs,k,t))\n",
        "      motifs.append(ProfileMostProbableKmer(dna[i],k,profile))\n",
        "    if Score(motifs,profile,k) < Score(best_motifs,FormProfile(best_motifs,k,t),k):\n",
        "      best_motifs = motifs\n",
        "  return best_motifs"
      ],
      "metadata": {
        "id": "f0ZX1lyuk6Uw"
      },
      "execution_count": 41,
      "outputs": []
    },
    {
      "cell_type": "code",
      "source": [
        "dna = [\n",
        "'GGCGTTCAGGCA',\n",
        "'AAGAATCAGTCA',\n",
        "'CAAGGAGTTCGC',\n",
        "'CACGTCAATCAC',\n",
        "'CAATAATATTCG']"
      ],
      "metadata": {
        "id": "6MMoaVbIk-Sl"
      },
      "execution_count": 49,
      "outputs": []
    },
    {
      "cell_type": "code",
      "source": [
        "k = 3"
      ],
      "metadata": {
        "id": "4vUTS9Rnk-0W"
      },
      "execution_count": 50,
      "outputs": []
    },
    {
      "cell_type": "code",
      "source": [
        "t = 5"
      ],
      "metadata": {
        "id": "tV2aO82Kk_WK"
      },
      "execution_count": 51,
      "outputs": []
    },
    {
      "cell_type": "code",
      "source": [
        "GreedyMotifSearch(dna,k,t)"
      ],
      "metadata": {
        "colab": {
          "base_uri": "https://localhost:8080/"
        },
        "id": "VFwJveGR1A9u",
        "outputId": "132c05f1-c2c8-4b01-a584-dffc69452ac0"
      },
      "execution_count": 52,
      "outputs": [
        {
          "output_type": "execute_result",
          "data": {
            "text/plain": [
              "['TCA', 'TCA', 'TCG', 'TCA', 'TCG']"
            ]
          },
          "metadata": {},
          "execution_count": 52
        }
      ]
    },
    {
      "cell_type": "code",
      "source": [
        "with open('/content/rosalind_ba2e.txt') as task_file:\n",
        "  task_arguments = [line.rstrip() for line in task_file]"
      ],
      "metadata": {
        "id": "ZzqDWjcNOZ9k"
      },
      "execution_count": 55,
      "outputs": []
    },
    {
      "cell_type": "code",
      "source": [
        "dna = task_arguments[1:len(task_arguments)]"
      ],
      "metadata": {
        "id": "WFqd0xrq70wW"
      },
      "execution_count": 57,
      "outputs": []
    },
    {
      "cell_type": "code",
      "source": [
        "k = 12"
      ],
      "metadata": {
        "id": "681lY5jk711_"
      },
      "execution_count": 59,
      "outputs": []
    },
    {
      "cell_type": "code",
      "source": [
        "t = 25"
      ],
      "metadata": {
        "id": "-jWasCdB72Vx"
      },
      "execution_count": 60,
      "outputs": []
    },
    {
      "cell_type": "code",
      "source": [
        "f = open(\"task_result.txt\", \"w\")\n",
        "for solution in GreedyMotifSearch(dna,k,t):\n",
        "  f.write(solution + '\\n')\n",
        "f.close()"
      ],
      "metadata": {
        "id": "RHVy7eUn73EU"
      },
      "execution_count": 61,
      "outputs": []
    }
  ]
}