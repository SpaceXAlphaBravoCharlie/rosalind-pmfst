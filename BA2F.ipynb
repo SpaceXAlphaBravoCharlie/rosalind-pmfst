{
  "nbformat": 4,
  "nbformat_minor": 0,
  "metadata": {
    "colab": {
      "name": "BA2F.ipynb",
      "provenance": [],
      "collapsed_sections": []
    },
    "kernelspec": {
      "name": "python3",
      "display_name": "Python 3"
    },
    "language_info": {
      "name": "python"
    }
  },
  "cells": [
    {
      "cell_type": "markdown",
      "source": [
        "Randomized algorithms may be nonintuitive because they lack the control of traditional algorithms (uvodimo neizvjesnost zbog uniform random number generator). Some randomized algorithms are Las Vegas algorithms, which deliver solutions that are guaranteed to be exact, despite the fact that they rely on making random decisions. Yet most randomized algorithms, including the motif finding algorithms that we will consider in this chapter, are Monte Carlo algorithms. These algorithms are not guaranteed to return exact solutions, but they do quickly find approximate solutions (fast heuristics that trade accuracy for speed in order to find an approximate solution as greedy algorithms). Because of their speed, they can be run many times, allowing us to\n",
        "choose the best approximation from thousands of runs."
      ],
      "metadata": {
        "id": "NhHC5mkJfNFw"
      }
    },
    {
      "cell_type": "markdown",
      "source": [
        "In general, we can begin from a collection of randomly chosen k-mers Motifs in Dna (random kmers --> randomized algorithm), construct PROFILE(Motifs), and use this profile to generate a new collection of k-mers:\n",
        "\n",
        "MOTIFS(PROFILE(Motifs),Dna)\n",
        "\n",
        "Why would we do this? Because our hope is that MOTIFS(PROFILE(Motifs), Dna) has a better score than the original collection of k-mers Motifs. We can then form the profile matrix of these k-mers, PROFILE(MOTIFS(PROFILE(Motifs), Dna)),\n",
        "and use it to form the most probable k-mers,\n",
        "\n",
        "MOTIFS(PROFILE(MOTIFS(PROFILE(Motifs), Dna)), Dna).\n",
        "\n",
        "We can continue to iterate \n",
        "\n",
        "... PROFILE(MOTIFS(PROFILE(MOTIFS(PROFILE(Motifs), Dna)), Dna))...\n",
        "\n",
        "for as long as the score of the constructed motifs keeps improving"
      ],
      "metadata": {
        "id": "AYtfG-eUf3OO"
      }
    },
    {
      "cell_type": "markdown",
      "source": [
        "Since a single run of RANDOMIZEDMOTIFSEARCH may generate a rather poor set of\n",
        "motifs, bioinformaticians usually run this algorithm thousands of times. On each run,\n",
        "they begin from a new randomly selected set of k-mers, selecting the best set of k-mers\n",
        "found in all these runs.\n"
      ],
      "metadata": {
        "id": "K6C6jXx1Hif0"
      }
    },
    {
      "cell_type": "code",
      "source": [
        "import numpy as np\n",
        "from numpy.random import randint"
      ],
      "metadata": {
        "id": "8B3ahVXmgmG1"
      },
      "execution_count": 2,
      "outputs": []
    },
    {
      "cell_type": "code",
      "source": [
        "def SelectRandomKmers(dna,k,t):\n",
        "  random_kmers = []\n",
        "  for dna_string in dna:\n",
        "    random_kmers.append(FindAllKmers(dna_string, k)[randint(0, len(dna_string) - k + 1)]) #upper bound not included\n",
        "  return random_kmers"
      ],
      "metadata": {
        "id": "asjdeN5tgf1X"
      },
      "execution_count": 3,
      "outputs": []
    },
    {
      "cell_type": "code",
      "source": [
        "def DnaToArray(dna):\n",
        "  dna_array = np.zeros((len(dna), len(dna[0])), dtype='str')\n",
        "  for i in range(len(dna)):\n",
        "    dna_array[i,:] = np.asarray(list(dna[i]), dtype='str')\n",
        "  return dna_array"
      ],
      "metadata": {
        "id": "7aYX7tssHves"
      },
      "execution_count": 4,
      "outputs": []
    },
    {
      "cell_type": "code",
      "source": [
        "from collections import Counter"
      ],
      "metadata": {
        "id": "Uwdidf5lItTP"
      },
      "execution_count": 5,
      "outputs": []
    },
    {
      "cell_type": "code",
      "source": [
        "def IndexNucleotide(index):\n",
        "  if index == 0:\n",
        "    return 'A'\n",
        "  elif index == 1:\n",
        "    return 'C'\n",
        "  elif index == 2:\n",
        "    return 'G'\n",
        "  else:\n",
        "    return 'T'"
      ],
      "metadata": {
        "id": "3V-SDRWwJTxj"
      },
      "execution_count": 6,
      "outputs": []
    },
    {
      "cell_type": "code",
      "source": [
        "def GenerateProfile(motifs,k,t):\n",
        "  profile = np.zeros((4,k))\n",
        "  motifs_array = DnaToArray(motifs)\n",
        "  for i in range(k):\n",
        "    nucleotide_frequency_dict = Counter(motifs_array[:,i])\n",
        "    for nucleotide_index in range(4):\n",
        "      profile[nucleotide_index][i] = nucleotide_frequency_dict[IndexNucleotide(nucleotide_index)]\n",
        "  profile = profile / t\n",
        "  return profile"
      ],
      "metadata": {
        "id": "DiY_c_wFIQQp"
      },
      "execution_count": 7,
      "outputs": []
    },
    {
      "cell_type": "code",
      "source": [
        "def LaplacesRuleOfSucccession(profile):\n",
        "  return profile + 1"
      ],
      "metadata": {
        "id": "Fs2wa9K1GuAi"
      },
      "execution_count": 16,
      "outputs": []
    },
    {
      "cell_type": "code",
      "source": [
        "def NucleotideIndex(nucleotide):\n",
        "  if nucleotide == 'A':\n",
        "    return 0\n",
        "  elif nucleotide == 'C':\n",
        "    return 1\n",
        "  elif nucleotide == 'G':\n",
        "    return 2\n",
        "  else:\n",
        "    return 3"
      ],
      "metadata": {
        "id": "2fxviplHixmz"
      },
      "execution_count": 9,
      "outputs": []
    },
    {
      "cell_type": "code",
      "source": [
        "def KmerProbability(profile,kmer):\n",
        "  probability = 1\n",
        "  for i in range(len(kmer)):\n",
        "    probability = probability * profile[NucleotideIndex(kmer[i])][i]\n",
        "  return probability"
      ],
      "metadata": {
        "id": "S63H0pHbKdEf"
      },
      "execution_count": 10,
      "outputs": []
    },
    {
      "cell_type": "code",
      "source": [
        "def FindAllKmers(dna_string,k):\n",
        "  kmers_list = []\n",
        "  i = 0\n",
        "  while i + k - 1 <= len(dna_string) - 1:\n",
        "    kmers_list.append(dna_string[i:i+k])\n",
        "    i = i + 1\n",
        "  return kmers_list"
      ],
      "metadata": {
        "id": "UJcL3PJMi2iH"
      },
      "execution_count": 11,
      "outputs": []
    },
    {
      "cell_type": "code",
      "source": [
        "def Motifs(profile,dna,k):\n",
        "  most_probable_kmers = []\n",
        "  for dna_string in dna:\n",
        "    probabilities = []\n",
        "    for kmer in FindAllKmers(dna_string,k):\n",
        "      probabilities.append(KmerProbability(profile, kmer))\n",
        "    most_probable_kmers.append(FindAllKmers(dna_string,k)[np.argmax(probabilities)])\n",
        "  return most_probable_kmers"
      ],
      "metadata": {
        "id": "gucE5Uq-iqhS"
      },
      "execution_count": 41,
      "outputs": []
    },
    {
      "cell_type": "code",
      "source": [
        "def Consensus(profile,k):\n",
        "  consensus = str()\n",
        "  for i in range(k):\n",
        "    consensus = consensus + IndexNucleotide(np.argmax(profile[:,i]))\n",
        "  return consensus"
      ],
      "metadata": {
        "id": "SRr6B_q8LWtY"
      },
      "execution_count": 13,
      "outputs": []
    },
    {
      "cell_type": "code",
      "source": [
        "def HammingDistance(first_string,second_string):\n",
        "  hamming_distance = 0\n",
        "  for i in range(min(len(first_string),len(second_string))):\n",
        "    if first_string[i] != second_string[i]:\n",
        "      hamming_distance = hamming_distance + 1\n",
        "  return hamming_distance + abs(len(first_string) - len(second_string))"
      ],
      "metadata": {
        "id": "a-gwzSaXjnKu"
      },
      "execution_count": 14,
      "outputs": []
    },
    {
      "cell_type": "code",
      "source": [
        "def Score(motifs,k,t):\n",
        "  score = 0\n",
        "  profile = GenerateProfile(motifs,k,t)\n",
        "  consensus = Consensus(profile,k)\n",
        "  for motif in motifs:\n",
        "    score = score + HammingDistance(consensus,motif)\n",
        "  return score"
      ],
      "metadata": {
        "id": "BmY_yGMPjA20"
      },
      "execution_count": 15,
      "outputs": []
    },
    {
      "cell_type": "markdown",
      "source": [
        "**Cromwell’s rule is relevant to the calculation of the probability of a string based on a profile matrix**. For example, consider the following Profile:\n",
        "\n",
        "A: .2 .2 .0 .0 .0 .0 .9 .1 .1 .1 .3 .0\n",
        "\n",
        "C: .1 .6 .0 .0 .0 .0 .0 .4 .1 .2 .4 .6\n",
        "\n",
        "G: .0 .0  1  1 .9 .9 .1 .0 .0 .0 .0 .0\n",
        "\n",
        "T: .7 .2 .0 .0 .1 .1 .0 .5 .8 .7 .3 .4\n",
        "\n",
        "Pr(TCGTGGATTTCC|Profile) = .7 · .6 · 1 · .0 · .9 · .9 · .9 · .5 · .8 · .7 · .4 · .6 = 0\n",
        "\n",
        "The fourth symbol of TCGTGGATTTCC causes Pr(TCGTGGATTTCC|Profile) to equal zero (event with non-zero probability didn't occur, its observed frequency is zero, setting its probability to zero represents an inaccurate oversimplification that may cause problems --> profile matricu nismo generirali sa kmerima koji su imali nukleotid T na 4. poziciji, vjerojatnost da je T na 4. poziciji nije 0). As a result, the entire string is assigned a zero probability, even though TCGTGGATTTCC differs from the consensus string at only one position (inaccurate oversimplification that caused problems). For that matter, TCGTGGATTTCC has the same low probability as AAATCTTGGAA, which is very different from the consensus string (inaccurate oversimplification that caused problems). In order to improve this unfair scoring, bioinformaticians often substitute zeroes with small numbers called pseudocounts. In the case of\n",
        "motifs, pseudocounts often amount to adding 1 (or some other small number) to each element of COUNT(Motifs)."
      ],
      "metadata": {
        "id": "NHj2HumrLJxi"
      }
    },
    {
      "cell_type": "code",
      "source": [
        "def RandomizedMotifSearch(dna,k,t):\n",
        "  motifs  = SelectRandomKmers(dna,k,t)\n",
        "  best_motifs = motifs\n",
        "  while 1:\n",
        "    profile = LaplacesRuleOfSucccession(GenerateProfile(motifs,k,t))\n",
        "    motifs = Motifs(profile,dna,k)\n",
        "    if Score(motifs,k,t) < Score(best_motifs,k,t):\n",
        "      best_motifs = motifs\n",
        "    else:\n",
        "      return [best_motifs,Score(best_motifs,k,t)]"
      ],
      "metadata": {
        "id": "-Wlwb5MpCaB0"
      },
      "execution_count": 42,
      "outputs": []
    },
    {
      "cell_type": "code",
      "source": [
        "def RunRandomizedMotifSearch(dna,k,t):\n",
        "  best_motifs = []\n",
        "  best_score = []\n",
        "  for i in range(1000):\n",
        "    motifs, motifs_score = RandomizedMotifSearch(dna,k,t)\n",
        "    if len(best_motifs) == 0:\n",
        "      best_motifs = motifs\n",
        "      best_score = motifs_score\n",
        "    else:\n",
        "      if best_score > motifs_score:\n",
        "        best_score = motifs_score\n",
        "        best_motifs = motifs\n",
        "  return best_motifs"
      ],
      "metadata": {
        "id": "dVyxBGjdgixg"
      },
      "execution_count": 43,
      "outputs": []
    },
    {
      "cell_type": "markdown",
      "source": [
        "https://www.google.com/search?q=random+dna+strings&rlz=1C1AVFC_enHR898HR898&oq=random+dna+strings&aqs=chrome..69i57j0i546l4.2474j0j7&sourceid=chrome&ie=UTF-8 --> za random dna sekvence"
      ],
      "metadata": {
        "id": "wwGrSk9VVi31"
      }
    },
    {
      "cell_type": "code",
      "source": [
        "Dna_random = ['gtcaatggcg', 'gaatgttccg', 'tcgttttttg', 'aggaagttac', 'tccgcctacc']"
      ],
      "metadata": {
        "id": "mZ5OQhDqVrhq"
      },
      "execution_count": 11,
      "outputs": []
    },
    {
      "cell_type": "code",
      "source": [
        "for i in range(len(Dna_random)):\n",
        "  Dna_random[i] = Dna_random[i].upper()"
      ],
      "metadata": {
        "id": "Q8Xnyst-h-4-"
      },
      "execution_count": 12,
      "outputs": []
    },
    {
      "cell_type": "code",
      "source": [
        "Dna_random"
      ],
      "metadata": {
        "colab": {
          "base_uri": "https://localhost:8080/"
        },
        "id": "8tWOz0c5iVQ0",
        "outputId": "1afa3a7b-a342-4824-a5d3-b1f8297e2f43"
      },
      "execution_count": 13,
      "outputs": [
        {
          "output_type": "execute_result",
          "data": {
            "text/plain": [
              "['GTCAATGGCG', 'GAATGTTCCG', 'TCGTTTTTTG', 'AGGAAGTTAC', 'TCCGCCTACC']"
            ]
          },
          "metadata": {},
          "execution_count": 13
        }
      ]
    },
    {
      "cell_type": "code",
      "source": [
        "Dna_random_array = DnaToArray(Dna_random)"
      ],
      "metadata": {
        "id": "xOxq2dqCYmux"
      },
      "execution_count": 14,
      "outputs": []
    },
    {
      "cell_type": "code",
      "source": [
        "Dna_random_array"
      ],
      "metadata": {
        "colab": {
          "base_uri": "https://localhost:8080/"
        },
        "id": "eEz6VW8RaqfL",
        "outputId": "d3b54e5a-ce92-4b55-963e-58af25731882"
      },
      "execution_count": 15,
      "outputs": [
        {
          "output_type": "execute_result",
          "data": {
            "text/plain": [
              "array([['G', 'T', 'C', 'A', 'A', 'T', 'G', 'G', 'C', 'G'],\n",
              "       ['G', 'A', 'A', 'T', 'G', 'T', 'T', 'C', 'C', 'G'],\n",
              "       ['T', 'C', 'G', 'T', 'T', 'T', 'T', 'T', 'T', 'G'],\n",
              "       ['A', 'G', 'G', 'A', 'A', 'G', 'T', 'T', 'A', 'C'],\n",
              "       ['T', 'C', 'C', 'G', 'C', 'C', 'T', 'A', 'C', 'C']], dtype='<U1')"
            ]
          },
          "metadata": {},
          "execution_count": 15
        }
      ]
    },
    {
      "cell_type": "code",
      "source": [
        "GenerateProfile(Dna_random_array,len(Dna_random_array),len(Dna_random_array))"
      ],
      "metadata": {
        "colab": {
          "base_uri": "https://localhost:8080/"
        },
        "id": "LGo3IL7CWIjC",
        "outputId": "b300b8a5-d23b-4682-a442-06fb1a9ed36c"
      },
      "execution_count": 21,
      "outputs": [
        {
          "output_type": "execute_result",
          "data": {
            "text/plain": [
              "array([[0.2, 0.2, 0.2, 0.4, 0.4],\n",
              "       [0. , 0.4, 0.4, 0. , 0.2],\n",
              "       [0.4, 0.2, 0.4, 0.2, 0.2],\n",
              "       [0.4, 0.2, 0. , 0.4, 0.2]])"
            ]
          },
          "metadata": {},
          "execution_count": 21
        }
      ]
    },
    {
      "cell_type": "code",
      "source": [
        "Dna_random2 = ['ctcacatgca', 'attgctctca', 'ctttaccaac', 'tcctcgccgg', 'caccccgggc']"
      ],
      "metadata": {
        "id": "1k_YkAVzf44F"
      },
      "execution_count": 63,
      "outputs": []
    },
    {
      "cell_type": "code",
      "source": [
        "for i in range(len(Dna_random2)):\n",
        "  Dna_random2[i] = Dna_random2[i].upper()"
      ],
      "metadata": {
        "id": "Yz3eUgs2gJhZ"
      },
      "execution_count": 64,
      "outputs": []
    },
    {
      "cell_type": "code",
      "source": [
        "Dna_random2"
      ],
      "metadata": {
        "colab": {
          "base_uri": "https://localhost:8080/"
        },
        "id": "3nfB_Pp5gL_l",
        "outputId": "7a51a44f-8fdc-4af8-e7bf-8edf317621bf"
      },
      "execution_count": 65,
      "outputs": [
        {
          "output_type": "execute_result",
          "data": {
            "text/plain": [
              "['CTCACATGCA', 'ATTGCTCTCA', 'CTTTACCAAC', 'TCCTCGCCGG', 'CACCCCGGGC']"
            ]
          },
          "metadata": {},
          "execution_count": 65
        }
      ]
    },
    {
      "cell_type": "code",
      "source": [
        "Dna_random_array2 = DnaToArray(Dna_random2)"
      ],
      "metadata": {
        "id": "JHukputkgNaC"
      },
      "execution_count": 66,
      "outputs": []
    },
    {
      "cell_type": "code",
      "source": [
        "Dna_random_array2"
      ],
      "metadata": {
        "colab": {
          "base_uri": "https://localhost:8080/"
        },
        "id": "dkgYQ7PbgQej",
        "outputId": "985ab44a-4e25-412a-c1b0-80bd09551afc"
      },
      "execution_count": 67,
      "outputs": [
        {
          "output_type": "execute_result",
          "data": {
            "text/plain": [
              "array([['C', 'T', 'C', 'A', 'C', 'A', 'T', 'G', 'C', 'A'],\n",
              "       ['A', 'T', 'T', 'G', 'C', 'T', 'C', 'T', 'C', 'A'],\n",
              "       ['C', 'T', 'T', 'T', 'A', 'C', 'C', 'A', 'A', 'C'],\n",
              "       ['T', 'C', 'C', 'T', 'C', 'G', 'C', 'C', 'G', 'G'],\n",
              "       ['C', 'A', 'C', 'C', 'C', 'C', 'G', 'G', 'G', 'C']], dtype='<U1')"
            ]
          },
          "metadata": {},
          "execution_count": 67
        }
      ]
    },
    {
      "cell_type": "code",
      "source": [
        "GenerateProfile(Dna_random_array2, len(Dna_random_array2))"
      ],
      "metadata": {
        "colab": {
          "base_uri": "https://localhost:8080/"
        },
        "id": "kZkXRraUgTgI",
        "outputId": "4744f380-c1b3-478e-e122-f7748ef13b58"
      },
      "execution_count": 68,
      "outputs": [
        {
          "output_type": "execute_result",
          "data": {
            "text/plain": [
              "array([[0.22222222, 0.22222222, 0.11111111, 0.22222222, 0.22222222],\n",
              "       [0.44444444, 0.22222222, 0.44444444, 0.22222222, 0.55555556],\n",
              "       [0.11111111, 0.11111111, 0.11111111, 0.22222222, 0.11111111],\n",
              "       [0.22222222, 0.44444444, 0.33333333, 0.33333333, 0.11111111]])"
            ]
          },
          "metadata": {},
          "execution_count": 68
        }
      ]
    },
    {
      "cell_type": "code",
      "source": [
        "GenerateProfile(Dna_random_array, len(Dna_random_array)) == GenerateProfile(Dna_random_array2, len(Dna_random_array2))"
      ],
      "metadata": {
        "colab": {
          "base_uri": "https://localhost:8080/"
        },
        "id": "hXfAxyA6tia9",
        "outputId": "ce72505a-9d99-4a4e-a9f6-65d9289175c7"
      },
      "execution_count": 69,
      "outputs": [
        {
          "output_type": "execute_result",
          "data": {
            "text/plain": [
              "array([[ True,  True, False, False, False],\n",
              "       [False, False, False, False, False],\n",
              "       [False, False, False,  True, False],\n",
              "       [False, False, False,  True, False]])"
            ]
          },
          "metadata": {},
          "execution_count": 69
        }
      ]
    },
    {
      "cell_type": "code",
      "source": [
        "Dna_random3 = ['tgtgaccccc', 'gttaggggtt', 'tgtgcggcat', 'tagtaacagc', 'atcttcgaaa']"
      ],
      "metadata": {
        "id": "ACKAWr68gqJ3"
      },
      "execution_count": 70,
      "outputs": []
    },
    {
      "cell_type": "code",
      "source": [
        "for i in range(len(Dna_random3)):\n",
        "  Dna_random3[i] = Dna_random3[i].upper()"
      ],
      "metadata": {
        "id": "fPL02XjLg6Hl"
      },
      "execution_count": 71,
      "outputs": []
    },
    {
      "cell_type": "code",
      "source": [
        "Dna_random3"
      ],
      "metadata": {
        "colab": {
          "base_uri": "https://localhost:8080/"
        },
        "id": "BPJ2gvgzhAXY",
        "outputId": "e1c52270-8ffa-4ce9-8764-80e5e7eeb753"
      },
      "execution_count": 72,
      "outputs": [
        {
          "output_type": "execute_result",
          "data": {
            "text/plain": [
              "['TGTGACCCCC', 'GTTAGGGGTT', 'TGTGCGGCAT', 'TAGTAACAGC', 'ATCTTCGAAA']"
            ]
          },
          "metadata": {},
          "execution_count": 72
        }
      ]
    },
    {
      "cell_type": "code",
      "source": [
        "Dna_random_array3 = DnaToArray(Dna_random3)"
      ],
      "metadata": {
        "id": "icCYA32IhBsq"
      },
      "execution_count": 73,
      "outputs": []
    },
    {
      "cell_type": "code",
      "source": [
        "Dna_random_array3"
      ],
      "metadata": {
        "colab": {
          "base_uri": "https://localhost:8080/"
        },
        "id": "tP-jmKR9hEva",
        "outputId": "c8cd5647-655a-49d8-b0a5-6cbb8acb8716"
      },
      "execution_count": 74,
      "outputs": [
        {
          "output_type": "execute_result",
          "data": {
            "text/plain": [
              "array([['T', 'G', 'T', 'G', 'A', 'C', 'C', 'C', 'C', 'C'],\n",
              "       ['G', 'T', 'T', 'A', 'G', 'G', 'G', 'G', 'T', 'T'],\n",
              "       ['T', 'G', 'T', 'G', 'C', 'G', 'G', 'C', 'A', 'T'],\n",
              "       ['T', 'A', 'G', 'T', 'A', 'A', 'C', 'A', 'G', 'C'],\n",
              "       ['A', 'T', 'C', 'T', 'T', 'C', 'G', 'A', 'A', 'A']], dtype='<U1')"
            ]
          },
          "metadata": {},
          "execution_count": 74
        }
      ]
    },
    {
      "cell_type": "code",
      "source": [
        "GenerateProfile(Dna_random_array3, len(Dna_random_array3))"
      ],
      "metadata": {
        "colab": {
          "base_uri": "https://localhost:8080/"
        },
        "id": "I75_qpHFhGZ9",
        "outputId": "f31be0bb-064a-4248-e571-ec3c907f6e9b"
      },
      "execution_count": 75,
      "outputs": [
        {
          "output_type": "execute_result",
          "data": {
            "text/plain": [
              "array([[0.22222222, 0.22222222, 0.11111111, 0.22222222, 0.33333333],\n",
              "       [0.11111111, 0.11111111, 0.22222222, 0.11111111, 0.22222222],\n",
              "       [0.22222222, 0.33333333, 0.22222222, 0.33333333, 0.22222222],\n",
              "       [0.44444444, 0.33333333, 0.44444444, 0.33333333, 0.22222222]])"
            ]
          },
          "metadata": {},
          "execution_count": 75
        }
      ]
    },
    {
      "cell_type": "code",
      "source": [
        "GenerateProfile(Dna_random_array3, len(Dna_random_array3)) == GenerateProfile(Dna_random_array2, len(Dna_random_array2))"
      ],
      "metadata": {
        "colab": {
          "base_uri": "https://localhost:8080/"
        },
        "id": "Jx8Y9xPIu9l8",
        "outputId": "560aee5d-372b-4674-f93b-5e3e86fa51e8"
      },
      "execution_count": 76,
      "outputs": [
        {
          "output_type": "execute_result",
          "data": {
            "text/plain": [
              "array([[ True,  True,  True,  True, False],\n",
              "       [False, False, False, False, False],\n",
              "       [False, False, False, False, False],\n",
              "       [False, False, False,  True, False]])"
            ]
          },
          "metadata": {},
          "execution_count": 76
        }
      ]
    },
    {
      "cell_type": "code",
      "source": [
        "GenerateProfile(Dna_random_array3, len(Dna_random_array3)) == GenerateProfile(Dna_random_array, len(Dna_random_array))"
      ],
      "metadata": {
        "colab": {
          "base_uri": "https://localhost:8080/"
        },
        "id": "42Q4l54lBbrm",
        "outputId": "e03be34b-79b5-49b7-f99c-bea709f86124"
      },
      "execution_count": 77,
      "outputs": [
        {
          "output_type": "execute_result",
          "data": {
            "text/plain": [
              "array([[ True,  True, False, False,  True],\n",
              "       [ True, False, False,  True,  True],\n",
              "       [False, False, False, False,  True],\n",
              "       [False, False, False,  True,  True]])"
            ]
          },
          "metadata": {},
          "execution_count": 77
        }
      ]
    },
    {
      "cell_type": "markdown",
      "source": [
        "https://birc.au.dk/~palle/php/fabox/random_sequence_generator.php"
      ],
      "metadata": {
        "id": "z6gIFN-0vbRp"
      }
    },
    {
      "cell_type": "code",
      "source": [
        "Dna_random4 = ['tgactgtcat', 'cggttatcat', 'gtacatttgc', 'tcgtatctag', 'atttgcgtac']\n",
        "Dna_random4"
      ],
      "metadata": {
        "colab": {
          "base_uri": "https://localhost:8080/"
        },
        "id": "lfIRoCi2vc5F",
        "outputId": "e5e2b0d3-30bc-4e3b-a56f-2cbc67739e4d"
      },
      "execution_count": 78,
      "outputs": [
        {
          "output_type": "execute_result",
          "data": {
            "text/plain": [
              "['tgactgtcat', 'cggttatcat', 'gtacatttgc', 'tcgtatctag', 'atttgcgtac']"
            ]
          },
          "metadata": {},
          "execution_count": 78
        }
      ]
    },
    {
      "cell_type": "code",
      "source": [
        "for i in range(len(Dna_random4)):\n",
        "  Dna_random4[i] = Dna_random4[i].upper()"
      ],
      "metadata": {
        "id": "Z5nEO87Rvwez"
      },
      "execution_count": 79,
      "outputs": []
    },
    {
      "cell_type": "code",
      "source": [
        "Dna_random4"
      ],
      "metadata": {
        "colab": {
          "base_uri": "https://localhost:8080/"
        },
        "id": "XJA1k3Esv0iC",
        "outputId": "e8b8a257-5bb9-40f0-f00e-e750c72b9710"
      },
      "execution_count": 80,
      "outputs": [
        {
          "output_type": "execute_result",
          "data": {
            "text/plain": [
              "['TGACTGTCAT', 'CGGTTATCAT', 'GTACATTTGC', 'TCGTATCTAG', 'ATTTGCGTAC']"
            ]
          },
          "metadata": {},
          "execution_count": 80
        }
      ]
    },
    {
      "cell_type": "code",
      "source": [
        "Dna_random_array4 = DnaToArray(Dna_random4)"
      ],
      "metadata": {
        "id": "blGwd2w3v16e"
      },
      "execution_count": 81,
      "outputs": []
    },
    {
      "cell_type": "code",
      "source": [
        "Dna_random_array4"
      ],
      "metadata": {
        "colab": {
          "base_uri": "https://localhost:8080/"
        },
        "id": "Y9fdVbUmv5K9",
        "outputId": "3b57efd8-1911-4ce5-b078-46f126bb9a7b"
      },
      "execution_count": 82,
      "outputs": [
        {
          "output_type": "execute_result",
          "data": {
            "text/plain": [
              "array([['T', 'G', 'A', 'C', 'T', 'G', 'T', 'C', 'A', 'T'],\n",
              "       ['C', 'G', 'G', 'T', 'T', 'A', 'T', 'C', 'A', 'T'],\n",
              "       ['G', 'T', 'A', 'C', 'A', 'T', 'T', 'T', 'G', 'C'],\n",
              "       ['T', 'C', 'G', 'T', 'A', 'T', 'C', 'T', 'A', 'G'],\n",
              "       ['A', 'T', 'T', 'T', 'G', 'C', 'G', 'T', 'A', 'C']], dtype='<U1')"
            ]
          },
          "metadata": {},
          "execution_count": 82
        }
      ]
    },
    {
      "cell_type": "code",
      "source": [
        "GenerateProfile(Dna_random_array4, len(Dna_random_array4))"
      ],
      "metadata": {
        "colab": {
          "base_uri": "https://localhost:8080/"
        },
        "id": "sOd9_xAOv6mZ",
        "outputId": "a9f5784e-fe9d-475f-873d-c91132da5659"
      },
      "execution_count": 83,
      "outputs": [
        {
          "output_type": "execute_result",
          "data": {
            "text/plain": [
              "array([[0.22222222, 0.11111111, 0.33333333, 0.11111111, 0.33333333],\n",
              "       [0.22222222, 0.22222222, 0.11111111, 0.33333333, 0.11111111],\n",
              "       [0.22222222, 0.33333333, 0.33333333, 0.11111111, 0.22222222],\n",
              "       [0.33333333, 0.33333333, 0.22222222, 0.44444444, 0.33333333]])"
            ]
          },
          "metadata": {},
          "execution_count": 83
        }
      ]
    },
    {
      "cell_type": "code",
      "source": [
        "GenerateProfile(Dna_random_array4, len(Dna_random_array4)) == GenerateProfile(Dna_random_array3, len(Dna_random_array3)) "
      ],
      "metadata": {
        "colab": {
          "base_uri": "https://localhost:8080/"
        },
        "id": "0J_vE2wLwLGb",
        "outputId": "1f5ac419-11d7-4bfc-e227-e9d517d4e668"
      },
      "execution_count": 84,
      "outputs": [
        {
          "output_type": "execute_result",
          "data": {
            "text/plain": [
              "array([[ True, False, False, False,  True],\n",
              "       [False, False, False, False, False],\n",
              "       [ True,  True, False, False,  True],\n",
              "       [False,  True, False, False, False]])"
            ]
          },
          "metadata": {},
          "execution_count": 84
        }
      ]
    },
    {
      "cell_type": "code",
      "source": [
        "GenerateProfile(Dna_random_array4, len(Dna_random_array4)) == GenerateProfile(Dna_random_array2, len(Dna_random_array2)) "
      ],
      "metadata": {
        "colab": {
          "base_uri": "https://localhost:8080/"
        },
        "id": "pD522EjnBg-k",
        "outputId": "66a61c0c-0ebe-45ec-9bb8-c98e81467301"
      },
      "execution_count": 85,
      "outputs": [
        {
          "output_type": "execute_result",
          "data": {
            "text/plain": [
              "array([[ True, False, False, False, False],\n",
              "       [False,  True, False, False, False],\n",
              "       [False, False, False, False, False],\n",
              "       [False, False, False, False, False]])"
            ]
          },
          "metadata": {},
          "execution_count": 85
        }
      ]
    },
    {
      "cell_type": "code",
      "source": [
        "GenerateProfile(Dna_random_array4, len(Dna_random_array4)) == GenerateProfile(Dna_random_array, len(Dna_random_array)) "
      ],
      "metadata": {
        "colab": {
          "base_uri": "https://localhost:8080/"
        },
        "id": "sMiECD5IBlRj",
        "outputId": "80a128cb-c6cf-4f2d-92d6-c30241e7caf9"
      },
      "execution_count": 86,
      "outputs": [
        {
          "output_type": "execute_result",
          "data": {
            "text/plain": [
              "array([[ True, False, False, False,  True],\n",
              "       [False, False, False, False, False],\n",
              "       [False, False,  True, False,  True],\n",
              "       [ True, False, False, False, False]])"
            ]
          },
          "metadata": {},
          "execution_count": 86
        }
      ]
    },
    {
      "cell_type": "markdown",
      "source": [
        "Budući da su dna stringovi nasumični, odnosno budući da ne sadrže uzorak u sebi, nema smisla gledati koji je kmer više vjerojatan od drugih kmera. "
      ],
      "metadata": {
        "id": "nQOC3MSewS9U"
      }
    },
    {
      "cell_type": "markdown",
      "source": [
        "Such a uniform profile is essentially useless for motif finding because no string is more probable than any other according to this profile and because it does not provide any clues on what an implanted motif looks like. --> If the strings in Dna were truly random (Dna stringovi ne sadrže uzorke u sebi), then we would expect that all nucleotides\n",
        "in the selected k-mers would be equally likely, resulting in an expected Profile in which every entry is approximately 0.25"
      ],
      "metadata": {
        "id": "BGwYGhamrkfC"
      }
    },
    {
      "cell_type": "markdown",
      "source": [
        "If the strings in Dna were truly random, then we would expect that all nucleotides in the selected k-mers would be equally likely, resulting in an expected Profile in which every entry is approximately 0.25 --> ako su stringovi u Dna nasumični, onda svaki nukleotid ima istu vjerojatnost pojavljivanja jer bi inače određeni stringovi imali veću vjerojatnost pojavljivanja --> ako su svi stringovi jednako vjerojatni, onda svaki element Profile matrice je 0.25 --> da svi stringovi nisu jednako vjerojatni, onda bi u Profile matrici mogli pronaći one vjerojatnosti koje, kada se pomnože, davaju najveću vjerojatnost pojavljivanja stringa --> taj bi string imao najveću frekevenciju pojavljivanja u Dna\n",
        "\n",
        "A: 0.25 0.25 0.25 0.25\n",
        "\n",
        "C: 0.25 0.25 0.25 0.25\n",
        "\n",
        "G: 0.25 0.25 0.25 0.25\n",
        "\n",
        "T: 0.25 0.25 0.25 0.25\n",
        "\n",
        "Primjer\n",
        "\n",
        "Dna \n",
        "\n",
        "ttACCT**taac**\n",
        "\n",
        "gAT**GTct**gtc\n",
        "\n",
        "**ccgG**CGTtag\n",
        "\n",
        "c**acta**ACGAg\n",
        "\n",
        "cgtcag**AGGT**\n",
        "\n",
        "\n",
        "Motifs PROFILE(Motifs)\n",
        "\n",
        "A: 0.4 0.2 0.2 0.2\n",
        "\n",
        "C: 0.2 0.4 0.2 0.2\n",
        "\n",
        "G: 0.2 0.2 0.4 0.2\n",
        "\n",
        "T: 0.2 0.2 0.2 0.4\n",
        "\n",
        "\n",
        "We can now compute the probabilities of every 4-mer in Dna based on this profile\n",
        "matrix. For example, the probability of the first 4-mer in the first string of Dna is PR(ttAC|Profile) = 0.2 · 0.2 · 0.2 · 0.2 = 0.0016. \n",
        "\n",
        "ttAC tACC ACCT CCTt CTta Ttaa taac\n",
        "\n",
        ".0016 .0016 .0128 .0064 .0016 .0016 .0016\n",
        "\n",
        "gATG ATGT TGTc GTct Tctg ctgt tgtc\n",
        "\n",
        ".0016 .0128 .0016 .0032 .0032 .0032 .0016\n",
        "\n",
        "ccgG cgGC gGCG GCGT CGTt GTta Ttag\n",
        "\n",
        ".0064 .0036 .0016 .0128 .0032 .0016 .0016\n",
        "\n",
        "cact acta ctaA taAC aACG ACGA CGAg\n",
        "\n",
        ".0032 .0064 .0016 .0016 .0032 .0128 .0016\n",
        "\n",
        "cgtc gtca tcag cagA agAG gAGG AGGT\n",
        "\n",
        ".0016 .0016 .0016 .0032 .0032 .0032 .0128\n",
        "\n",
        "Određeni kmeri imaju dosta veću vjerojatnost od drugih kmera, npr. kmeri ACCT, ATGT, GCGT, ACGA, AGGT --> If the strings in Dna were truly random, then we would expect that all nucleotides in the selected k-mers would be equally likely, resulting in an expected Profile in which every entry is approximately 0.25 --> ako su svi nukleotidi u svakom stupcu Profile matrice jednako vjerojatni, onda su svi kmeri jednako vjerojatni --> budući da određeni kmeri imaju dosta veću vjerojatnost od drugih kmera, svi nukletoidi u svim stupcima nisu jednako vjerojatni --> iz Profile matrice vidimo da najveću vjerojatnost pojavljivanja ima kmer ACGT --> ako svaki stupac Profile matrice gledamo kao da bacamo 4-sided kocku, onda je vjerojatnost da ćemo u npr. 4 uzastopna bacanja 4 različite 4-sided kocke dobiti ACCT, ATGT, GCGT, ACGA, AGGT dosta veća od vjerojatnosti za ostale kmere --> bacanje svake od 4 4-sided kocke je slučajni pokus, promatramo ishod 4 bacanja 4 različite kocke --> složeni pokus --> ako su kocke biased onda imamo veću vjerojatnost pojavljivanja određenog nukleotida na određenoj poziciji --> jesu li kocke biased ili ne ovisi o tome koje kmere smo uzeli da konstruiramo Profile matricu i koliko slabo očuvanih (weakly conserved) i jako očuvanih pozicija (strongly conserved) ima motiv\n",
        "\n",
        "Such a uniform profile is essentially useless for motif finding because no string is more probable than any other according to this profile and because it does not provide any clues on what an implanted motif looks like. --> uniformna Profile matrica je beskorisna jer nijedan string nije više vjerojatan od drugih stringova pa ne znamo kako izgleda motiv\n",
        "\n",
        "We have already noticed that if the strings in Dna were random, then\n",
        "RANDOMIZEDMOTIFSEARCH would start from a nearly uniform profile, and there\n",
        "would be nothing to work with. However, the key observation is that the strings in Dna are not random because they include the implanted motif! --> stringovi u Dna nisu random jer sadržavaju motiv, odnosno da su random ne bi mogli objasniti povećanu ekspresiju određenog gena jer bi se transcription factor vezao na bilo koji kmer, tj. bilo koji kmer bi bio transcription factor binding site te ne bismo mogli objasniti zašto ekspresija određenih gena slijedi cirkadijarni ritam. --> jesu li kmeri u Dna random ako odabiranjem kmera ne uhvatimo motiv ni u jednom Dna stringu? --> ako odabiranjem odaberemo npr. 5 kmera koji su svi jednako vjerojatni i od njih napravimo Profile matricu, Profile matrica bi trebala biti uniformna jer su svi stringovi jednako vjerojatni (nijedan string nije više vjerojatan od drugih stringova što nam ne govori kako motiv izgleda)\n",
        "\n",
        "**These multiple occurrences of the same motif may create a bias in the profile matrix, directing it away from the uniform profile and toward the implanted motif**. --> ako motiv ima dosta jako očuvanih pozicija (strongly conserved positions) i malo slabo očuvanih pozicija (weakly conserved positions) onda višestruke pojave motiva unose bias u Profile matricu"
      ],
      "metadata": {
        "id": "B1PG9UJUVcLi"
      }
    },
    {
      "cell_type": "code",
      "source": [
        "dna = ['CGCCCCTCTCGGGGGTGTTCAGTAAACGGCCA', 'GGGCGAGGTATGTGTAAGTGCCAAGGTGCCAG', 'TAGTACCGAGACCGAAAGAAGTATACAGGCGT', 'TAGATCAAGTTTCAGGTGCACGTCGGTGAACC', 'AATCCACCAGCTCCACGTGCAATGTTGGCCTA']"
      ],
      "metadata": {
        "id": "Ef-AYWXUGgLG"
      },
      "execution_count": 44,
      "outputs": []
    },
    {
      "cell_type": "code",
      "source": [
        "k = 8"
      ],
      "metadata": {
        "id": "OI3BK5lpGuFq"
      },
      "execution_count": 45,
      "outputs": []
    },
    {
      "cell_type": "code",
      "source": [
        "t = 5"
      ],
      "metadata": {
        "id": "PqCRiddLG7cy"
      },
      "execution_count": 46,
      "outputs": []
    },
    {
      "cell_type": "code",
      "source": [
        "RunRandomizedMotifSearch(dna,k,t)"
      ],
      "metadata": {
        "colab": {
          "base_uri": "https://localhost:8080/"
        },
        "id": "DWE2KJJR8IDw",
        "outputId": "d5cdbe31-4574-42c2-8dd1-de090e51c3bb"
      },
      "execution_count": 48,
      "outputs": [
        {
          "output_type": "execute_result",
          "data": {
            "text/plain": [
              "['TCTCGGGG', 'CCAAGGTG', 'TACAGGCG', 'TTCAGGTG', 'TCCACGTG']"
            ]
          },
          "metadata": {},
          "execution_count": 48
        }
      ]
    },
    {
      "cell_type": "code",
      "source": [
        "with open('/content/rosalind_ba2f.txt') as task_file:\n",
        "  task_arguments = [line.rstrip() for line in task_file]"
      ],
      "metadata": {
        "id": "hQPRrreVAR-d"
      },
      "execution_count": 49,
      "outputs": []
    },
    {
      "cell_type": "code",
      "source": [
        "k = int(task_arguments[0][0:2])"
      ],
      "metadata": {
        "id": "wUhVlzMcMtiN"
      },
      "execution_count": 50,
      "outputs": []
    },
    {
      "cell_type": "code",
      "source": [
        "t = int(task_arguments[0][3:5])"
      ],
      "metadata": {
        "id": "Zf8eDN00MuMf"
      },
      "execution_count": 51,
      "outputs": []
    },
    {
      "cell_type": "code",
      "source": [
        "dna = task_arguments[1:len(task_arguments)]"
      ],
      "metadata": {
        "id": "Fk5Ou2SrMusl"
      },
      "execution_count": 52,
      "outputs": []
    },
    {
      "cell_type": "code",
      "source": [
        "f = open(\"task_result.txt\", \"w\")\n",
        "for solution in RunRandomizedMotifSearch(dna,k,t):\n",
        "  f.write(solution + '\\n')\n",
        "f.close()"
      ],
      "metadata": {
        "id": "P3dz6gYNpcMZ"
      },
      "execution_count": 57,
      "outputs": []
    }
  ]
}