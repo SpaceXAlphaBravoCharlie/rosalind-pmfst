{
  "nbformat": 4,
  "nbformat_minor": 0,
  "metadata": {
    "colab": {
      "name": "BA2F.ipynb",
      "provenance": [],
      "collapsed_sections": []
    },
    "kernelspec": {
      "name": "python3",
      "display_name": "Python 3"
    },
    "language_info": {
      "name": "python"
    }
  },
  "cells": [
    {
      "cell_type": "code",
      "source": [
        "import numpy as np\n",
        "from numpy.random import randint"
      ],
      "metadata": {
        "id": "zBmWcsSo1E9J"
      },
      "execution_count": 178,
      "outputs": []
    },
    {
      "cell_type": "code",
      "source": [
        "def RunRandomizedMotifSearch(Dna, k, t):\n",
        "  best_motifs = []\n",
        "  best_score = []\n",
        "  for i in range(1000):\n",
        "    motifs, motifs_score = RandomizedMotifSearch(Dna, k, t)\n",
        "    if len(best_motifs) == 0:\n",
        "      best_motifs = motifs\n",
        "      best_score = motifs_score\n",
        "    else:\n",
        "      if best_score > motifs_score:\n",
        "        best_score = motifs_score\n",
        "        best_motifs = motifs\n",
        "  return best_motifs"
      ],
      "metadata": {
        "id": "EtO7WI-nCeYu"
      },
      "execution_count": 200,
      "outputs": []
    },
    {
      "cell_type": "markdown",
      "source": [
        "Since a single run of RANDOMIZEDMOTIFSEARCH may generate a rather poor set of\n",
        "motifs, bioinformaticians usually run this algorithm thousands of times. On each run,\n",
        "they begin from a new randomly selected set of k-mers, selecting the best set of k-mers\n",
        "found in all these runs.\n"
      ],
      "metadata": {
        "id": "K6C6jXx1Hif0"
      }
    },
    {
      "cell_type": "code",
      "source": [
        "def RandomizedMotifSearch(Dna, k, t):\n",
        "  motifs  = SelectRandomKmers(Dna, k, t)\n",
        "  best_motifs = motifs\n",
        "  while 1:\n",
        "    profile = GenerateProfile(motifs, k)\n",
        "    motifs = Motifs(profile, Dna, k)\n",
        "    if Score(motifs, k) < Score(best_motifs, k):\n",
        "      best_motifs = motifs\n",
        "    else:\n",
        "      return [best_motifs, Score(best_motifs, k)]"
      ],
      "metadata": {
        "id": "-Wlwb5MpCaB0"
      },
      "execution_count": 180,
      "outputs": []
    },
    {
      "cell_type": "code",
      "source": [
        "def SelectRandomKmers(Dna, k, t):\n",
        "  random_kmers = []\n",
        "  for dna_string in Dna:\n",
        "    random_kmers.append(FindAllKmers(dna_string, k)[randint(0, len(dna_string) - k + 1)]) #upper bound not included\n",
        "  return random_kmers"
      ],
      "metadata": {
        "id": "Td1ATjDm0jVs"
      },
      "execution_count": 229,
      "outputs": []
    },
    {
      "cell_type": "code",
      "source": [
        "def GenerateProfile(motifs, k):\n",
        "  profile = np.zeros((4,k))\n",
        "  motifs_array = DnaToArray(motifs)\n",
        "  for i in range(k):\n",
        "    frequency_dict = {'A':0, 'C':0, 'G':0, 'T':0}\n",
        "    for j in range(len(np.unique(motifs_array[:,i], return_counts=True)[0])):\n",
        "      frequency_dict[np.unique(motifs_array[:,i], return_counts=True)[0][j]] = np.unique(motifs_array[:,i], return_counts=True)[1][j]\n",
        "    profile[:,i] = np.array(list(frequency_dict.values()))\n",
        "  profile = profile + 1\n",
        "  profile = profile / (len(motifs_array) + 4)\n",
        "  return profile"
      ],
      "metadata": {
        "id": "LA2d6Tk38Pg3"
      },
      "execution_count": 202,
      "outputs": []
    },
    {
      "cell_type": "code",
      "source": [
        "def Motifs(profile, Dna, k):\n",
        "  most_probable_kmers = []\n",
        "  for dna_string in Dna:\n",
        "    probabilities = []\n",
        "    for kmer in FindAllKmers(dna_string,k):\n",
        "      probabilities.append(KmerProbability(profile, kmer))\n",
        "    most_probable_kmers.append(FindAllKmers(dna_string,k)[np.argmax(probabilities)])\n",
        "  return most_probable_kmers"
      ],
      "metadata": {
        "id": "rre2BMNT9O39"
      },
      "execution_count": 203,
      "outputs": []
    },
    {
      "cell_type": "code",
      "source": [
        "def KmerProbability(profile, kmer):\n",
        "  probability = 1\n",
        "  for nucleotide in enumerate(kmer):\n",
        "    probability = probability * profile[NucleotideIndex(nucleotide[1])][nucleotide[0]]\n",
        "  return probability"
      ],
      "metadata": {
        "id": "iqJEuazC_Ci4"
      },
      "execution_count": 204,
      "outputs": []
    },
    {
      "cell_type": "code",
      "source": [
        "def NucleotideIndex(nucleotide):\n",
        "  if nucleotide == 'A':\n",
        "    return 0\n",
        "  elif nucleotide == 'C':\n",
        "    return 1\n",
        "  elif nucleotide == 'G':\n",
        "    return 2\n",
        "  else:\n",
        "    return 3"
      ],
      "metadata": {
        "id": "PahUELG4AWW_"
      },
      "execution_count": 205,
      "outputs": []
    },
    {
      "cell_type": "code",
      "source": [
        "def IndexNucleotide(index):\n",
        "  if index == 0:\n",
        "    return 'A'\n",
        "  elif index == 1:\n",
        "    return 'C'\n",
        "  elif index == 2:\n",
        "    return 'G'\n",
        "  else:\n",
        "    return 'T'"
      ],
      "metadata": {
        "id": "w9wRnfwFFHPW"
      },
      "execution_count": 206,
      "outputs": []
    },
    {
      "cell_type": "code",
      "source": [
        "def FindAllKmers(dna_string, k):\n",
        "  kmers_list = []\n",
        "  for kmer_end_index in range(k - 1, len(dna_string)):\n",
        "    kmers_list.append(dna_string[kmer_end_index + 1 - k:kmer_end_index + 1])\n",
        "  return kmers_list"
      ],
      "metadata": {
        "id": "ea_7rP9_-KlW"
      },
      "execution_count": 207,
      "outputs": []
    },
    {
      "cell_type": "code",
      "source": [
        "def Score(motifs, k):\n",
        "  score = 0\n",
        "  profile = GenerateProfile(motifs, k)\n",
        "  consensus = Consensus(profile, k)\n",
        "  for motif in motifs:\n",
        "    score = score + HammingDistance(consensus, motif)\n",
        "  return score"
      ],
      "metadata": {
        "id": "pw1FjRlU9YQm"
      },
      "execution_count": 208,
      "outputs": []
    },
    {
      "cell_type": "code",
      "source": [
        "def Consensus(profile, k):\n",
        "  consensus = []\n",
        "  for i in range(k):\n",
        "    consensus.append(IndexNucleotide(np.argmax(profile[:,i])))\n",
        "  return ''.join(consensus)"
      ],
      "metadata": {
        "id": "Onp6L19n__Z9"
      },
      "execution_count": 209,
      "outputs": []
    },
    {
      "cell_type": "code",
      "source": [
        "def HammingDistance(string1, string2):\n",
        "  counter = 0\n",
        "  if len(string1) > len(string2):\n",
        "    for i in range(len(string2)):\n",
        "      if string1[i] != string2[i]:\n",
        "        counter = counter + 1\n",
        "    counter = counter + (len(string1) - len(string2))\n",
        "  else:\n",
        "    for i in range(len(string1)):\n",
        "      if string1[i] != string2[i]:\n",
        "        counter = counter + 1\n",
        "    counter = counter + (len(string2) - len(string1))\n",
        "  return counter"
      ],
      "metadata": {
        "id": "b6-oobdoF-Cz"
      },
      "execution_count": 210,
      "outputs": []
    },
    {
      "cell_type": "code",
      "source": [
        "def DnaToArray(Dna):\n",
        "  dna_array = np.zeros((len(Dna), len(Dna[0])), dtype='str')\n",
        "  for dna_string in enumerate(Dna):\n",
        "    dna_array[dna_string[0],:] = np.asarray(list(dna_string[1]), dtype='str')\n",
        "  return dna_array"
      ],
      "metadata": {
        "id": "lPRm6qqFZIUI"
      },
      "execution_count": 211,
      "outputs": []
    },
    {
      "cell_type": "markdown",
      "source": [
        "https://www.google.com/search?q=random+dna+strings&rlz=1C1AVFC_enHR898HR898&oq=random+dna+strings&aqs=chrome..69i57j0i546l4.2474j0j7&sourceid=chrome&ie=UTF-8 --> za random dna sekvence"
      ],
      "metadata": {
        "id": "wwGrSk9VVi31"
      }
    },
    {
      "cell_type": "code",
      "source": [
        "Dna_random = ['gtcaatggcg', 'gaatgttccg', 'tcgttttttg', 'aggaagttac', 'tccgcctacc']"
      ],
      "metadata": {
        "id": "mZ5OQhDqVrhq"
      },
      "execution_count": 168,
      "outputs": []
    },
    {
      "cell_type": "code",
      "source": [
        "for i in range(len(Dna_random)):\n",
        "  Dna_random[i] = Dna_random[i].upper()"
      ],
      "metadata": {
        "id": "Q8Xnyst-h-4-"
      },
      "execution_count": 109,
      "outputs": []
    },
    {
      "cell_type": "code",
      "source": [
        "Dna_random"
      ],
      "metadata": {
        "colab": {
          "base_uri": "https://localhost:8080/"
        },
        "id": "8tWOz0c5iVQ0",
        "outputId": "4b82a60f-9da8-478f-f72b-5938f6020f37"
      },
      "execution_count": 110,
      "outputs": [
        {
          "output_type": "execute_result",
          "data": {
            "text/plain": [
              "['GTCAATGGCG', 'GAATGTTCCG', 'TCGTTTTTTG', 'AGGAAGTTAC', 'TCCGCCTACC']"
            ]
          },
          "metadata": {},
          "execution_count": 110
        }
      ]
    },
    {
      "cell_type": "code",
      "source": [
        "Dna_random_array = DnaToArray(Dna_random)"
      ],
      "metadata": {
        "id": "xOxq2dqCYmux"
      },
      "execution_count": 111,
      "outputs": []
    },
    {
      "cell_type": "code",
      "source": [
        "Dna_random_array"
      ],
      "metadata": {
        "colab": {
          "base_uri": "https://localhost:8080/"
        },
        "id": "eEz6VW8RaqfL",
        "outputId": "01e4e4ce-06b3-4453-90c0-4014f72105e9"
      },
      "execution_count": 112,
      "outputs": [
        {
          "output_type": "execute_result",
          "data": {
            "text/plain": [
              "array([['G', 'T', 'C', 'A', 'A', 'T', 'G', 'G', 'C', 'G'],\n",
              "       ['G', 'A', 'A', 'T', 'G', 'T', 'T', 'C', 'C', 'G'],\n",
              "       ['T', 'C', 'G', 'T', 'T', 'T', 'T', 'T', 'T', 'G'],\n",
              "       ['A', 'G', 'G', 'A', 'A', 'G', 'T', 'T', 'A', 'C'],\n",
              "       ['T', 'C', 'C', 'G', 'C', 'C', 'T', 'A', 'C', 'C']], dtype='<U1')"
            ]
          },
          "metadata": {},
          "execution_count": 112
        }
      ]
    },
    {
      "cell_type": "code",
      "source": [
        "GenerateProfile(Dna_random_array, len(Dna_random_array))"
      ],
      "metadata": {
        "colab": {
          "base_uri": "https://localhost:8080/"
        },
        "id": "LGo3IL7CWIjC",
        "outputId": "8c7d1b7e-2566-4843-8a0c-a37edbda8816"
      },
      "execution_count": 113,
      "outputs": [
        {
          "output_type": "execute_result",
          "data": {
            "text/plain": [
              "array([[0.2, 0.2, 0.2, 0.4, 0.4],\n",
              "       [0. , 0.4, 0.4, 0. , 0.2],\n",
              "       [0.4, 0.2, 0.4, 0.2, 0.2],\n",
              "       [0.4, 0.2, 0. , 0.4, 0.2]])"
            ]
          },
          "metadata": {},
          "execution_count": 113
        }
      ]
    },
    {
      "cell_type": "code",
      "source": [
        "Dna_random2 = ['ctcacatgca', 'attgctctca', 'ctttaccaac', 'tcctcgccgg', 'caccccgggc']"
      ],
      "metadata": {
        "id": "1k_YkAVzf44F"
      },
      "execution_count": 114,
      "outputs": []
    },
    {
      "cell_type": "code",
      "source": [
        "for i in range(len(Dna_random2)):\n",
        "  Dna_random2[i] = Dna_random2[i].upper()"
      ],
      "metadata": {
        "id": "Yz3eUgs2gJhZ"
      },
      "execution_count": 115,
      "outputs": []
    },
    {
      "cell_type": "code",
      "source": [
        "Dna_random2"
      ],
      "metadata": {
        "colab": {
          "base_uri": "https://localhost:8080/"
        },
        "id": "3nfB_Pp5gL_l",
        "outputId": "1364e376-ea6a-45ba-cec0-92d0dadbf52e"
      },
      "execution_count": 116,
      "outputs": [
        {
          "output_type": "execute_result",
          "data": {
            "text/plain": [
              "['CTCACATGCA', 'ATTGCTCTCA', 'CTTTACCAAC', 'TCCTCGCCGG', 'CACCCCGGGC']"
            ]
          },
          "metadata": {},
          "execution_count": 116
        }
      ]
    },
    {
      "cell_type": "code",
      "source": [
        "Dna_random_array2 = DnaToArray(Dna_random2)"
      ],
      "metadata": {
        "id": "JHukputkgNaC"
      },
      "execution_count": 117,
      "outputs": []
    },
    {
      "cell_type": "code",
      "source": [
        "Dna_random_array2"
      ],
      "metadata": {
        "colab": {
          "base_uri": "https://localhost:8080/"
        },
        "id": "dkgYQ7PbgQej",
        "outputId": "32802827-b4d3-47c7-ebac-144205b5480e"
      },
      "execution_count": 118,
      "outputs": [
        {
          "output_type": "execute_result",
          "data": {
            "text/plain": [
              "array([['C', 'T', 'C', 'A', 'C', 'A', 'T', 'G', 'C', 'A'],\n",
              "       ['A', 'T', 'T', 'G', 'C', 'T', 'C', 'T', 'C', 'A'],\n",
              "       ['C', 'T', 'T', 'T', 'A', 'C', 'C', 'A', 'A', 'C'],\n",
              "       ['T', 'C', 'C', 'T', 'C', 'G', 'C', 'C', 'G', 'G'],\n",
              "       ['C', 'A', 'C', 'C', 'C', 'C', 'G', 'G', 'G', 'C']], dtype='<U1')"
            ]
          },
          "metadata": {},
          "execution_count": 118
        }
      ]
    },
    {
      "cell_type": "code",
      "source": [
        "GenerateProfile(Dna_random_array2, len(Dna_random_array2))"
      ],
      "metadata": {
        "colab": {
          "base_uri": "https://localhost:8080/"
        },
        "id": "kZkXRraUgTgI",
        "outputId": "c6d8c189-78e5-4b27-92e6-6149322dc4b4"
      },
      "execution_count": 119,
      "outputs": [
        {
          "output_type": "execute_result",
          "data": {
            "text/plain": [
              "array([[0.2, 0.2, 0. , 0.2, 0.2],\n",
              "       [0.6, 0.2, 0.6, 0.2, 0.8],\n",
              "       [0. , 0. , 0. , 0.2, 0. ],\n",
              "       [0.2, 0.6, 0.4, 0.4, 0. ]])"
            ]
          },
          "metadata": {},
          "execution_count": 119
        }
      ]
    },
    {
      "cell_type": "code",
      "source": [
        "GenerateProfile(Dna_random_array, len(Dna_random_array)) == GenerateProfile(Dna_random_array2, len(Dna_random_array2))"
      ],
      "metadata": {
        "colab": {
          "base_uri": "https://localhost:8080/"
        },
        "id": "hXfAxyA6tia9",
        "outputId": "bff8ab4f-d248-455b-fd7a-e2951bbec95d"
      },
      "execution_count": 120,
      "outputs": [
        {
          "output_type": "execute_result",
          "data": {
            "text/plain": [
              "array([[ True,  True, False, False, False],\n",
              "       [False, False, False, False, False],\n",
              "       [False, False, False,  True, False],\n",
              "       [False, False, False,  True, False]])"
            ]
          },
          "metadata": {},
          "execution_count": 120
        }
      ]
    },
    {
      "cell_type": "code",
      "source": [
        "Dna_random3 = ['tgtgaccccc', 'gttaggggtt', 'tgtgcggcat', 'tagtaacagc', 'atcttcgaaa']"
      ],
      "metadata": {
        "id": "ACKAWr68gqJ3"
      },
      "execution_count": 121,
      "outputs": []
    },
    {
      "cell_type": "code",
      "source": [
        "for i in range(len(Dna_random3)):\n",
        "  Dna_random3[i] = Dna_random3[i].upper()"
      ],
      "metadata": {
        "id": "fPL02XjLg6Hl"
      },
      "execution_count": 122,
      "outputs": []
    },
    {
      "cell_type": "code",
      "source": [
        "Dna_random3"
      ],
      "metadata": {
        "colab": {
          "base_uri": "https://localhost:8080/"
        },
        "id": "BPJ2gvgzhAXY",
        "outputId": "195cb066-ddd1-49c9-cf2a-0c9d72a79942"
      },
      "execution_count": 123,
      "outputs": [
        {
          "output_type": "execute_result",
          "data": {
            "text/plain": [
              "['TGTGACCCCC', 'GTTAGGGGTT', 'TGTGCGGCAT', 'TAGTAACAGC', 'ATCTTCGAAA']"
            ]
          },
          "metadata": {},
          "execution_count": 123
        }
      ]
    },
    {
      "cell_type": "code",
      "source": [
        "Dna_random_array3 = DnaToArray(Dna_random3)"
      ],
      "metadata": {
        "id": "icCYA32IhBsq"
      },
      "execution_count": 124,
      "outputs": []
    },
    {
      "cell_type": "code",
      "source": [
        "Dna_random_array3"
      ],
      "metadata": {
        "colab": {
          "base_uri": "https://localhost:8080/"
        },
        "id": "tP-jmKR9hEva",
        "outputId": "8b073609-23c6-4915-bb78-5e0cc059a548"
      },
      "execution_count": 125,
      "outputs": [
        {
          "output_type": "execute_result",
          "data": {
            "text/plain": [
              "array([['T', 'G', 'T', 'G', 'A', 'C', 'C', 'C', 'C', 'C'],\n",
              "       ['G', 'T', 'T', 'A', 'G', 'G', 'G', 'G', 'T', 'T'],\n",
              "       ['T', 'G', 'T', 'G', 'C', 'G', 'G', 'C', 'A', 'T'],\n",
              "       ['T', 'A', 'G', 'T', 'A', 'A', 'C', 'A', 'G', 'C'],\n",
              "       ['A', 'T', 'C', 'T', 'T', 'C', 'G', 'A', 'A', 'A']], dtype='<U1')"
            ]
          },
          "metadata": {},
          "execution_count": 125
        }
      ]
    },
    {
      "cell_type": "code",
      "source": [
        "GenerateProfile(Dna_random_array3, len(Dna_random_array3))"
      ],
      "metadata": {
        "colab": {
          "base_uri": "https://localhost:8080/"
        },
        "id": "I75_qpHFhGZ9",
        "outputId": "33f3039c-0ad0-4ba9-da57-4aefb7bbdd90"
      },
      "execution_count": 126,
      "outputs": [
        {
          "output_type": "execute_result",
          "data": {
            "text/plain": [
              "array([[0.2, 0.2, 0. , 0.2, 0.4],\n",
              "       [0. , 0. , 0.2, 0. , 0.2],\n",
              "       [0.2, 0.4, 0.2, 0.4, 0.2],\n",
              "       [0.6, 0.4, 0.6, 0.4, 0.2]])"
            ]
          },
          "metadata": {},
          "execution_count": 126
        }
      ]
    },
    {
      "cell_type": "code",
      "source": [
        "GenerateProfile(Dna_random_array3, len(Dna_random_array3)) == GenerateProfile(Dna_random_array2, len(Dna_random_array2))"
      ],
      "metadata": {
        "colab": {
          "base_uri": "https://localhost:8080/"
        },
        "id": "Jx8Y9xPIu9l8",
        "outputId": "6b66a525-75d5-45f3-c3df-313ef005d825"
      },
      "execution_count": 127,
      "outputs": [
        {
          "output_type": "execute_result",
          "data": {
            "text/plain": [
              "array([[ True,  True,  True,  True, False],\n",
              "       [False, False, False, False, False],\n",
              "       [False, False, False, False, False],\n",
              "       [False, False, False,  True, False]])"
            ]
          },
          "metadata": {},
          "execution_count": 127
        }
      ]
    },
    {
      "cell_type": "code",
      "source": [
        "GenerateProfile(Dna_random_array3, len(Dna_random_array3)) == GenerateProfile(Dna_random_array, len(Dna_random_array))"
      ],
      "metadata": {
        "colab": {
          "base_uri": "https://localhost:8080/"
        },
        "id": "42Q4l54lBbrm",
        "outputId": "27df578d-e001-4aeb-f217-f1fb58c8e349"
      },
      "execution_count": 135,
      "outputs": [
        {
          "output_type": "execute_result",
          "data": {
            "text/plain": [
              "array([[ True,  True, False, False,  True],\n",
              "       [ True, False, False,  True,  True],\n",
              "       [False, False, False, False,  True],\n",
              "       [False, False, False,  True,  True]])"
            ]
          },
          "metadata": {},
          "execution_count": 135
        }
      ]
    },
    {
      "cell_type": "markdown",
      "source": [
        "https://birc.au.dk/~palle/php/fabox/random_sequence_generator.php"
      ],
      "metadata": {
        "id": "z6gIFN-0vbRp"
      }
    },
    {
      "cell_type": "code",
      "source": [
        "Dna_random4 = ['tgactgtcat', 'cggttatcat', 'gtacatttgc', 'tcgtatctag', 'atttgcgtac']\n",
        "Dna_random4"
      ],
      "metadata": {
        "colab": {
          "base_uri": "https://localhost:8080/"
        },
        "id": "lfIRoCi2vc5F",
        "outputId": "ebb8608b-a698-4448-ae9d-7fd7d3cc8b78"
      },
      "execution_count": 219,
      "outputs": [
        {
          "output_type": "execute_result",
          "data": {
            "text/plain": [
              "['tgactgtcat', 'cggttatcat', 'gtacatttgc', 'tcgtatctag', 'atttgcgtac']"
            ]
          },
          "metadata": {},
          "execution_count": 219
        }
      ]
    },
    {
      "cell_type": "code",
      "source": [
        "for i in range(len(Dna_random4)):\n",
        "  Dna_random4[i] = Dna_random4[i].upper()"
      ],
      "metadata": {
        "id": "Z5nEO87Rvwez"
      },
      "execution_count": 221,
      "outputs": []
    },
    {
      "cell_type": "code",
      "source": [
        "Dna_random4"
      ],
      "metadata": {
        "colab": {
          "base_uri": "https://localhost:8080/"
        },
        "id": "XJA1k3Esv0iC",
        "outputId": "3afe530a-05c2-4cc7-e212-5382eaf1444c"
      },
      "execution_count": 222,
      "outputs": [
        {
          "output_type": "execute_result",
          "data": {
            "text/plain": [
              "['TGACTGTCAT', 'CGGTTATCAT', 'GTACATTTGC', 'TCGTATCTAG', 'ATTTGCGTAC']"
            ]
          },
          "metadata": {},
          "execution_count": 222
        }
      ]
    },
    {
      "cell_type": "code",
      "source": [
        "Dna_random_array4 = DnaToArray(Dna_random4)"
      ],
      "metadata": {
        "id": "blGwd2w3v16e"
      },
      "execution_count": 131,
      "outputs": []
    },
    {
      "cell_type": "code",
      "source": [
        "Dna_random_array4"
      ],
      "metadata": {
        "colab": {
          "base_uri": "https://localhost:8080/"
        },
        "id": "Y9fdVbUmv5K9",
        "outputId": "20cd6544-4c40-4755-bd00-8cbfb0c6f2da"
      },
      "execution_count": 132,
      "outputs": [
        {
          "output_type": "execute_result",
          "data": {
            "text/plain": [
              "array([['T', 'G', 'A', 'C', 'T', 'G', 'T', 'C', 'A', 'T'],\n",
              "       ['C', 'G', 'G', 'T', 'T', 'A', 'T', 'C', 'A', 'T'],\n",
              "       ['G', 'T', 'A', 'C', 'A', 'T', 'T', 'T', 'G', 'C'],\n",
              "       ['T', 'C', 'G', 'T', 'A', 'T', 'C', 'T', 'A', 'G'],\n",
              "       ['A', 'T', 'T', 'T', 'G', 'C', 'G', 'T', 'A', 'C']], dtype='<U1')"
            ]
          },
          "metadata": {},
          "execution_count": 132
        }
      ]
    },
    {
      "cell_type": "code",
      "source": [
        "GenerateProfile(Dna_random_array4, len(Dna_random_array4))"
      ],
      "metadata": {
        "colab": {
          "base_uri": "https://localhost:8080/"
        },
        "id": "sOd9_xAOv6mZ",
        "outputId": "5adc23bb-60de-47a2-9ae5-44e92fd338e0"
      },
      "execution_count": 133,
      "outputs": [
        {
          "output_type": "execute_result",
          "data": {
            "text/plain": [
              "array([[0.2, 0. , 0.4, 0. , 0.4],\n",
              "       [0.2, 0.2, 0. , 0.4, 0. ],\n",
              "       [0.2, 0.4, 0.4, 0. , 0.2],\n",
              "       [0.4, 0.4, 0.2, 0.6, 0.4]])"
            ]
          },
          "metadata": {},
          "execution_count": 133
        }
      ]
    },
    {
      "cell_type": "code",
      "source": [
        "GenerateProfile(Dna_random_array4, len(Dna_random_array4)) == GenerateProfile(Dna_random_array3, len(Dna_random_array3)) "
      ],
      "metadata": {
        "colab": {
          "base_uri": "https://localhost:8080/"
        },
        "id": "0J_vE2wLwLGb",
        "outputId": "ed7e2a27-d6c7-463e-e82f-dfd930b2d812"
      },
      "execution_count": 134,
      "outputs": [
        {
          "output_type": "execute_result",
          "data": {
            "text/plain": [
              "array([[ True, False, False, False,  True],\n",
              "       [False, False, False, False, False],\n",
              "       [ True,  True, False, False,  True],\n",
              "       [False,  True, False, False, False]])"
            ]
          },
          "metadata": {},
          "execution_count": 134
        }
      ]
    },
    {
      "cell_type": "code",
      "source": [
        "GenerateProfile(Dna_random_array4, len(Dna_random_array4)) == GenerateProfile(Dna_random_array2, len(Dna_random_array2)) "
      ],
      "metadata": {
        "colab": {
          "base_uri": "https://localhost:8080/"
        },
        "id": "pD522EjnBg-k",
        "outputId": "7c6a51e7-1cfa-479b-d2f8-25e60d42dca9"
      },
      "execution_count": 136,
      "outputs": [
        {
          "output_type": "execute_result",
          "data": {
            "text/plain": [
              "array([[ True, False, False, False, False],\n",
              "       [False,  True, False, False, False],\n",
              "       [False, False, False, False, False],\n",
              "       [False, False, False, False, False]])"
            ]
          },
          "metadata": {},
          "execution_count": 136
        }
      ]
    },
    {
      "cell_type": "code",
      "source": [
        "GenerateProfile(Dna_random_array4, len(Dna_random_array4)) == GenerateProfile(Dna_random_array, len(Dna_random_array)) "
      ],
      "metadata": {
        "colab": {
          "base_uri": "https://localhost:8080/"
        },
        "id": "sMiECD5IBlRj",
        "outputId": "67853238-f00e-4865-f3b4-86f8c74e6f43"
      },
      "execution_count": 137,
      "outputs": [
        {
          "output_type": "execute_result",
          "data": {
            "text/plain": [
              "array([[ True, False, False, False,  True],\n",
              "       [False, False, False, False, False],\n",
              "       [False, False,  True, False,  True],\n",
              "       [ True, False, False, False, False]])"
            ]
          },
          "metadata": {},
          "execution_count": 137
        }
      ]
    },
    {
      "cell_type": "markdown",
      "source": [
        "Budući da su dna stringovi nasumični, odnosno budući da ne sadrže uzorak u sebi, nema smisla gledati koji je kmer više vjerojatan od drugih kmera "
      ],
      "metadata": {
        "id": "nQOC3MSewS9U"
      }
    },
    {
      "cell_type": "markdown",
      "source": [
        "If the strings in Dna were truly random, then we would expect that all nucleotides in the selected k-mers would be equally likely, resulting in an expected Profile in which every entry is approximately 0.25 --> ako su stringovi u Dna nasumični, onda svaki nukleotid ima istu vjerojatnost pojavljivanja jer bi inače određeni stringovi imali veću vjerojatnost pojavljivanja --> ako su svi stringovi jednako vjerojatni, onda svaki element Profile matrice je 0.25 --> da svi stringovi nisu jednako vjerojatni, onda bi u Profile matrici mogli pronaći one vjerojatnosti koje, kada se pomnože, davaju najveću vjerojatnost pojavljivanja stringa --> taj bi string imao najveću frekevenciju pojavljivanja u Dna\n",
        "\n",
        "A: 0.25 0.25 0.25 0.25\n",
        "\n",
        "C: 0.25 0.25 0.25 0.25\n",
        "\n",
        "G: 0.25 0.25 0.25 0.25\n",
        "\n",
        "T: 0.25 0.25 0.25 0.25\n",
        "\n",
        "Primjer\n",
        "\n",
        "Dna \n",
        "\n",
        "ttACCT**taac**\n",
        "\n",
        "gAT**GTct**gtc\n",
        "\n",
        "**ccgG**CGTtag\n",
        "\n",
        "c**acta**ACGAg\n",
        "\n",
        "cgtcag**AGGT**\n",
        "\n",
        "\n",
        "Motifs PROFILE(Motifs)\n",
        "\n",
        "A: 0.4 0.2 0.2 0.2\n",
        "\n",
        "C: 0.2 0.4 0.2 0.2\n",
        "\n",
        "G: 0.2 0.2 0.4 0.2\n",
        "\n",
        "T: 0.2 0.2 0.2 0.4\n",
        "\n",
        "\n",
        "We can now compute the probabilities of every 4-mer in Dna based on this profile\n",
        "matrix. For example, the probability of the first 4-mer in the first string of Dna is PR(ttAC|Profile) = 0.2 · 0.2 · 0.2 · 0.2 = 0.0016. \n",
        "\n",
        "ttAC tACC ACCT CCTt CTta Ttaa taac\n",
        "\n",
        ".0016 .0016 .0128 .0064 .0016 .0016 .0016\n",
        "\n",
        "gATG ATGT TGTc GTct Tctg ctgt tgtc\n",
        "\n",
        ".0016 .0128 .0016 .0032 .0032 .0032 .0016\n",
        "\n",
        "ccgG cgGC gGCG GCGT CGTt GTta Ttag\n",
        "\n",
        ".0064 .0036 .0016 .0128 .0032 .0016 .0016\n",
        "\n",
        "cact acta ctaA taAC aACG ACGA CGAg\n",
        "\n",
        ".0032 .0064 .0016 .0016 .0032 .0128 .0016\n",
        "\n",
        "cgtc gtca tcag cagA agAG gAGG AGGT\n",
        "\n",
        ".0016 .0016 .0016 .0032 .0032 .0032 .0128\n",
        "\n",
        "Određeni kmeri imaju dosta veću vjerojatnost od drugih kmera, npr. kmeri ACCT, ATGT, GCGT, ACGA, AGGT --> If the strings in Dna were truly random, then we would expect that all nucleotides in the selected k-mers would be equally likely, resulting in an expected Profile in which every entry is approximately 0.25 --> ako su svi nukleotidi u svakom stupcu Profile matrice jednako vjerojatni, onda su svi kmeri jednako vjerojatni --> budući da određeni kmeri imaju dosta veću vjerojatnost od drugih kmera, svi nukletoidi u svim stupcima nisu jednako vjerojatni --> iz Profile matrice vidimo da najveću vjerojatnost pojavljivanja ima kmer ACGT --> ako svaki stupac Profile matrice gledamo kao da bacamo 4-sided kocku, onda je vjerojatnost da ćemo u npr. 4 uzastopna bacanja 4 različite 4-sided kocke dobiti ACCT, ATGT, GCGT, ACGA, AGGT  dosta veća od vjerojatnosti za ostale kmere --> bacanje svake od 4 4-sided kocke je slučajni pokus, a kada promatramo ishod 4 bacanja 4 različite kocke to je složeni pokus --> ako su kocke biased onda imamo veću vjerojatnost pojavljivanja određenog nukleotida na određenoj poziciji --> jesu li kocke biased ili ne ovisi o tome koje kmere smo uzeli da konstruiramo Profile matricu i koliko slabo očuvanih (weakly conserved) i jako očuvanih pozicija (strongly conserved) ima motiv\n",
        "\n",
        "Such a uniform profile is essentially useless for motif finding because no string is more probable than any other according to this profile and because it does not provide any clues on what an implanted motif looks like. --> uniformna Profile matrica je beskorisna jer nijedan string nije više vjerojatan od drugih stringova pa ne znamo kako izgleda motiv\n",
        "\n",
        "We have already noticed that if the strings in Dna were random, then\n",
        "RANDOMIZEDMOTIFSEARCH would start from a nearly uniform profile, and there\n",
        "would be nothing to work with. However, the key observation is that the strings in Dna are not random because they include the implanted motif! --> stringovi u Dna nisu random jer sadržavaju motiv, odnosno da su random ne bi mogli objasniti povećanu ekspresiju određenog gena jer bi se transcription factor vezao na bilo koji kmer, tj. bilo koji kmer bi bio transcription factor binding site te ne bismo mogli objasniti zašto ekspresija određenih gena slijedi cirkadijarni ritam. --> jesu li kmeri u Dna random ako odabiranjem kmera ne uhvatimo motiv ni u jednom Dna stringu? --> ako odabiranjem odaberemo npr. 5 kmera koji su svi jednako vjerojatni i od njih napravimo Profile matricu, Profile matrica bi trebala biti uniformna jer su svi stringovi jednako vjerojatni (nijedan string nije više vjerojatan od drugih stringova što nam ne govori kako motiv izgleda)\n",
        "\n",
        "**These multiple occurrences of the same motif may create a bias in the profile matrix, directing it away from the uniform profile and toward the implanted motif**. --> ako motiv ima dosta jako očuvanih pozicija (strongly conserved positions) i malo slabo očuvanih pozicija (weakly conserved positions) onda višestruke pojave motiva unose bias u Profile matricu"
      ],
      "metadata": {
        "id": "B1PG9UJUVcLi"
      }
    },
    {
      "cell_type": "code",
      "source": [
        "Dna = ['CGCCCCTCTCGGGGGTGTTCAGTAAACGGCCA', 'GGGCGAGGTATGTGTAAGTGCCAAGGTGCCAG', 'TAGTACCGAGACCGAAAGAAGTATACAGGCGT', 'TAGATCAAGTTTCAGGTGCACGTCGGTGAACC', 'AATCCACCAGCTCCACGTGCAATGTTGGCCTA']"
      ],
      "metadata": {
        "id": "Ef-AYWXUGgLG"
      },
      "execution_count": 252,
      "outputs": []
    },
    {
      "cell_type": "code",
      "source": [
        "k = 8"
      ],
      "metadata": {
        "id": "OI3BK5lpGuFq"
      },
      "execution_count": 253,
      "outputs": []
    },
    {
      "cell_type": "code",
      "source": [
        "t = 5"
      ],
      "metadata": {
        "id": "PqCRiddLG7cy"
      },
      "execution_count": 254,
      "outputs": []
    },
    {
      "cell_type": "code",
      "source": [
        "Dna"
      ],
      "metadata": {
        "colab": {
          "base_uri": "https://localhost:8080/"
        },
        "id": "zIujfqp_zO6y",
        "outputId": "5099a441-750e-470b-a889-9db509a40835"
      },
      "execution_count": 255,
      "outputs": [
        {
          "output_type": "execute_result",
          "data": {
            "text/plain": [
              "['CGCCCCTCTCGGGGGTGTTCAGTAAACGGCCA',\n",
              " 'GGGCGAGGTATGTGTAAGTGCCAAGGTGCCAG',\n",
              " 'TAGTACCGAGACCGAAAGAAGTATACAGGCGT',\n",
              " 'TAGATCAAGTTTCAGGTGCACGTCGGTGAACC',\n",
              " 'AATCCACCAGCTCCACGTGCAATGTTGGCCTA']"
            ]
          },
          "metadata": {},
          "execution_count": 255
        }
      ]
    },
    {
      "cell_type": "code",
      "source": [
        "RunRandomizedMotifSearch(Dna, k, t)"
      ],
      "metadata": {
        "colab": {
          "base_uri": "https://localhost:8080/"
        },
        "id": "DWE2KJJR8IDw",
        "outputId": "4f94e580-7f8b-4437-8c9d-075eb3bb8290"
      },
      "execution_count": 256,
      "outputs": [
        {
          "output_type": "execute_result",
          "data": {
            "text/plain": [
              "['TCTCGGGG', 'CCAAGGTG', 'TACAGGCG', 'TTCAGGTG', 'TCCACGTG']"
            ]
          },
          "metadata": {},
          "execution_count": 256
        }
      ]
    },
    {
      "cell_type": "code",
      "source": [
        "k = 15"
      ],
      "metadata": {
        "id": "RvpikS2li5jN"
      },
      "execution_count": 239,
      "outputs": []
    },
    {
      "cell_type": "code",
      "source": [
        "t = 20"
      ],
      "metadata": {
        "id": "T8qpOid-i6gP"
      },
      "execution_count": 240,
      "outputs": []
    },
    {
      "cell_type": "code",
      "source": [
        "with open('/content/rosalind_ba2f.txt') as task_file:\n",
        "  Dna = [line.rstrip() for line in task_file]"
      ],
      "metadata": {
        "id": "hQPRrreVAR-d"
      },
      "execution_count": 241,
      "outputs": []
    },
    {
      "cell_type": "code",
      "source": [
        "Dna"
      ],
      "metadata": {
        "colab": {
          "base_uri": "https://localhost:8080/"
        },
        "id": "3ikbLvAH0ECM",
        "outputId": "30a7db39-e2ca-45fc-9d11-40165914c02e"
      },
      "execution_count": 242,
      "outputs": [
        {
          "output_type": "execute_result",
          "data": {
            "text/plain": [
              "['CCCCTATGGTACGCGCTAGTCAACTATGGTGTATGGCGAATGCGGTCGCCCCCAACTTTGAGTGATCTGGGAAAGGCATGACCGTGGAATTATACGTTATCCCTCAGATAATTACTAATAAAGCCGTGTTTACGGAAGGTCACATCGTGCACATAGTAAGGACCAGTTTGACGTACTATCCAGTGCCCCTATGGTACGCG',\n",
              " 'CTAGTCAACTATGGTGTATGGCGAATGCGGTCGCCCCCAACTTTGAGTGATCTGGGAAAGGCATGACCGTGGAATTATACGTTATCCAGGGCCGCACTTGGGCTCAGATAATTACTAATAAAGCCGTGTTTACGGAAGGTCACATCGTGCACATAGTAAGGACCAGTTTGACGTACTATCCAGTGCCCCTATGGTACGCG',\n",
              " 'TGCAGGCTAGCCTCGGGTAAAACGGGGTTCCGACCCTCGCTTGTTGATAGGTGAAAGCGCCGTTACGTAGGAGGATCTTGTCTTACTGCTTCGACTACTAGCGCTGGTGTGCCTTGTAAACGGGACATGACTATCCGATTTACGCAGGTTTCATGCACTTGGGGTACTTTTCGCTGAAGGAATTAACAGGCCCACCTCAA',\n",
              " 'GACTTTTTTACTCTCACCAGGCGGCGCGCTCCACCACAACCCAACCGCTATTCTCCATCCAGAGGCATTCCCTGCAAGTTCAGACAGGCATGCACTGAAGGTCAAAGAAAGCTAGACTAACCCCACTGCTTGAGCAGTATAGCCGCTTTGTTGCCCGACTGGGGGGACAGAAGAATAAAGGTATGACTGTCAAGTAAAGT',\n",
              " 'CGGCTAAGGCAAATACTTGGGGTTAAAACAGCTAACTTCGCGAGCGCATTGGTCTCCACTTGTCCATGACAAGAGCTTCAACGATGCAGGGAAATGTTGGCGCACAGGTCACCATTAGCCCCTCCGGGCCAGCCGGACAGCACTGGCACTTGCTTGGGAGGGCCGAGCTGTTTATGATGCCCGATTTCGAGATGCAGGTC',\n",
              " 'TCGGGTAAGGCATGCACTTCCAGCTGCCATACCGGATCCTCATTAAGATAGTGGTGGAAAAAGCTCGAAATGGCTAGGTCAGTACTTGATCTCCTAGGGCATGTCGCTCCGGTGCGTGATTAGTTGCCGGTAGTTTTCCCCATGGGTCAAGATGAACGTTTTACGCCGTCGTGATAATTTTGTGCACTCAAATTCTGATT',\n",
              " 'ATGGGCCCGCGGTGGAGTCTGCATTAGCGCCATACTACTCCCGCGAGCTTTAAAGTCTAACCTCAAAGACCCACAGACTCTCCCGGCATGATGCAACGCCTTCGGCCAGGTCCTTGCCTCGCTTAGCCCGTAGTCAAAGATTCCATTCGAAATCCGCCCAAGGTGGGCACTTGGGTGCTATTGAGTCAATGCACTTACCT',\n",
              " 'CTCTCGGAAAGAGAAAGGTGGGTATTCTTAATAACTAACGATTGGCTGAGCTTTCTCGGGTTGTTAGAGTTTATTCATCACACCTACGTCGGGCCCGCGGGGCGCAAGGAAGTACTGTAGTCATTGCCGCGAAATGCGGCTATTTCACTCCCCGAAAGGCATGCACGGAGGCCTCCGGTCTAACAACTAATCTTGGCATG',\n",
              " 'ACCCTCGGGCATGCACTTGCCTGGAAGATAATCATAAGTTAGACTGTAACAACCCACTACCGGATCCTTGATAAAGCGAGCATACCCTGCCCAAAATTACGGCGGCGTGAGGCTGGTGGTATGGATACACCATTCAGACGAGTAGCAGTTTCATTTGGGTGACCGGGTATTTCGTGAATATGGGGCCTTTCATTCTGTTG',\n",
              " 'ATTCACTCGTGTACTTGGTCCTGACCACTGCGCGCGACCCATAGGAAAGACCGAGATTCCTGTATTCAAAATCTAAGCTCCTCAATCGTCAAGCCCGCCGACGCCGCCGCAAACTATTATCTGAGGTCTCCTATACCATGTCGTCAAGCATTTGAGGCGAACACTTGGGAACGAACTCAAGAATGACTCAAGATCATTGA',\n",
              " 'TATCGTAGAACCCTTCGTAAGGAATTTAAGTCCAGCTCCGTATGGGACGAGAGTGCTGTAGAGCTGCACTTGGGCTGTACGACTCAGTTCACTTACCATGGCCCACGTGGGGGACGTCGCTGTTCTAGCATGCCGTGGTGGGCACCCACATATAGTGGCCATAAGGTGTGCACGTGACACCAAACAGCGCAATCTCTGAG',\n",
              " 'GGCGTTAAATCCCGGTCCGAGCTTCATGTATAGAACGGACTTCAGGCATATTCTTGGGAGTATATACGGCAAGACTAATGGCATATATTCCCACGCCGTTCATCACTTCTTATTGAGCTCCGGACACCGTAAGGCCCGTTGAGTCCCCAGCATAACGTTTATGTGCTAGATCTTGCATTGGCTTTATTGCCAGGATGACT',\n",
              " 'GGTGGTTACTAAGGTTTGTAATGTGTGACCTCACGCGAACGGGACCTCCAACAACTGGTCTACCCGCGTACTTTGAAAGAGACTACTGGGCTATCTCCTGACGTCGCACACGGCAGGCGAATTTGGATGGAGCGGCCGTTCCTCATTACGTAAAAGATGACGACCTTAATGATGCACTTGGGAGCATCCCGAGTAGAAAT',\n",
              " 'TTAATTATAGGCATGCAACGGGGATGATATTTGTGCTTCATAGACGGTGCTCAGCGTAGTAGCCACGACTGGTTATATAACAATGATAGCATTTGACTGGATCATGTTAAGCTGAGAAGCCGATTAGATGGGAGTTCCAGCCTCCAAAAGTACACGGGGTTTGGTCACCTGGCGTTTCCTATTTCTGATGCAGTCCCTCA',\n",
              " 'GCAACCCAGGCATGTGTTTGGGTTAGGTGGTGTTAACCCGGGGCTAAGTTCGCAGTTGCTAACTAGCATCTATGCTGGGATCACCGTCCCCGATTCTGTCCCCCCGAAGTCTCGTAATTGTCTTAAGCTAAATCACCATGCTTGTGTAAGCCTTGCTCCAAGGAACACTTGTAAACTCATGCGAACGGGGGAGTGCACTT',\n",
              " 'AACGTGTTGGATTTTCTGGGCTTATTCCAGTTGAGGTCGATGTTTTCGTCTGGTGGTCCGAACATTATCCTGCGCCCGTCTTAATTATTTGGTTTGGGGTCTAGCGACGCGACTCAACGGAGTGGGGATCATTGCCAGGATCTACTTACAACTAGAACATAGGCAGCGACTTGGGCGCCACTTCAACATCTCACGGCAGA',\n",
              " 'GCTAGCATCCTAGTTGACATTCTGTTGAGGGATAACTGAAGTCACAGGATACGCTTCGGCGTGGTGCGGAGATGCCCTCCCTGTCTAGCATGCACTTGGCAACACGTTACTTGCTGGGTAACGGATCAAATAGGCCGTGCGAAGGCTTTCATATTAGGGTCACATACTCTAGTCTACTTAGGCACCAGCTCGAATACTGG',\n",
              " 'TCCTGATCAGTCAGAGCGATAGGCATGCCTCTGGGCCGCTCACCGAGCTACCTTGAGTTCCGCCAATACGAACTCTCGACGTATTATTTGTCGTATTTGTTACAGCTAGGATGGTTAGATAGGAGCGACGGTTCGTAAGCACTTAACTAGCGAATATAGGTCTGGCGGAGTTAAACCTGGTAAATTATTAACCGTGACCG',\n",
              " 'TTACGCCTCTGCGATAGGCTAACACTTGGGGCTCTGGAAGCGAACGATGCAGCCGCTAACCGACCTCGGCATCTTAGTCTACTTAGGCGAATCAAGATGATGTGGAAACCGTGTCCGCGGTAGTAACCACATACTGACCGACAACGCGATGGTGTATACCAAGATCGGGGAACACTCTTACTAGGCACAATTGTGCACAT',\n",
              " 'TTCTTCGCGACTTTAGTAAGTGCCTCAGCCCGGTAAAGAAGAGGTCCTTGGCGGGAAGTGGAGAATACATTTGTGCGTTTGTAAGAGTGGTTCGTACAGGCATAATCTTGGGAACCAATCAAATGGATGTTCATGGTTAGGGGAGAACCTCCGGGCCTTAGTTCATTTGAGATGGGGTCAGGCTCAACCGTGGGTGTTGA']"
            ]
          },
          "metadata": {},
          "execution_count": 242
        }
      ]
    },
    {
      "cell_type": "code",
      "source": [
        "solutions_list = RunRandomizedMotifSearch(Dna, k, t)"
      ],
      "metadata": {
        "id": "P3dz6gYNpcMZ"
      },
      "execution_count": 243,
      "outputs": []
    },
    {
      "cell_type": "code",
      "source": [
        "for solution in solutions_list:\n",
        "  print(solution)"
      ],
      "metadata": {
        "colab": {
          "base_uri": "https://localhost:8080/"
        },
        "id": "0842bu6ZpzW6",
        "outputId": "d584f5a9-09b9-4398-a577-4fcd67627a8e"
      },
      "execution_count": 244,
      "outputs": [
        {
          "output_type": "stream",
          "name": "stdout",
          "text": [
            "AGGCATGACCGTGGA\n",
            "AGGGCCGCACTTGGG\n",
            "TTTCATGCACTTGGG\n",
            "AGGCATGCACTGAAG\n",
            "AGGCAAATACTTGGG\n",
            "AGGCATGCACTTCCA\n",
            "AGGTGGGCACTTGGG\n",
            "AGGCATGCACGGAGG\n",
            "GGGCATGCACTTGCC\n",
            "AGGCGAACACTTGGG\n",
            "AGAGCTGCACTTGGG\n",
            "AGGCATATTCTTGGG\n",
            "AATGATGCACTTGGG\n",
            "AGGCATGCAACGGGG\n",
            "AGGCATGTGTTTGGG\n",
            "AGGCAGCGACTTGGG\n",
            "TAGCATGCACTTGGC\n",
            "AGGCATGCCTCTGGG\n",
            "AGGCTAACACTTGGG\n",
            "AGGCATAATCTTGGG\n"
          ]
        }
      ]
    },
    {
      "cell_type": "code",
      "source": [
        "k = 15"
      ],
      "metadata": {
        "id": "iLV0kWhN6ZyN"
      },
      "execution_count": 245,
      "outputs": []
    },
    {
      "cell_type": "code",
      "source": [
        "t = 20"
      ],
      "metadata": {
        "id": "hyIyUqEJ6bKs"
      },
      "execution_count": 246,
      "outputs": []
    },
    {
      "cell_type": "code",
      "source": [
        "with open('/content/rosalind_ba2f.txt') as task_file:\n",
        "  Dna = [line.rstrip() for line in task_file]"
      ],
      "metadata": {
        "id": "1diBce646bz_"
      },
      "execution_count": 247,
      "outputs": []
    },
    {
      "cell_type": "code",
      "source": [
        "Dna"
      ],
      "metadata": {
        "colab": {
          "base_uri": "https://localhost:8080/"
        },
        "id": "PCCNBJ_P6di7",
        "outputId": "e8ceeb16-6e4b-4162-e731-e8886d527b42"
      },
      "execution_count": 248,
      "outputs": [
        {
          "output_type": "execute_result",
          "data": {
            "text/plain": [
              "['GCCTCTCTTTTGCTCCAACTTCAGAATGGTAAATAGGAGCCCGTCGGAATGACTTTTCTAGTAAGGTTTTTACAAGAGATCGAACGCCATCCTGTTTAGTCGAGATTATCTAAGTGGCCAAATAAACGGTGCACGAAGAACGCCTCCATGTGTTACTTCGGACTGCTGGTCCTGAAAGACTTTGACATTCGCAGCCTCTCTTTTGCTC',\n",
              " 'CAACTTCAGAATGGTAAATAGGAGCCCGTCGGAATGACTTTTCTAGTAAGGTTTTTACAAGAGATCGAACGCCATCCTGTTTAGTCGAGATTATCTAAGTGGCCAAATAAACGGTGCACGAAGAACGCCTCCATGTGTTACTTCGGACTGCTGGTCCTGAAAGACTTTGAAACGGACCTACGAAGCATTCGCAGCCTCTCTTTTGCTC',\n",
              " 'CAGCTGTTTTGCTACCACCCCTTCGTTAAGTGAATCAACTCTGGTACGAAGGTGGACGATAGCAGACCAAGCAACAGATGAGGAGCCCGAATTGAACGATTCCTGGGACACCCACGATGCCCAGCTCACGAGTCCGAGAAAACCACATTCCTCCTTGCCACTTCCACATGTGGCGGGTCCCTTCCTGGTAATCTCTACCATCCTTCAG',\n",
              " 'CATCCCGTGCTGGTTGCCTTTCTAGTTATCCCTCTTAACCAAAGTCGCGAGCCATCGCGCAGTAGGTTGTGCCGAGCTTGTGAAAGTGAAATTGATGGTCAGAACACTCCGTTGTGATTCGGATCCTTTCGTTGCCATGTCCAGTGCAGAATTCGTGATAGGTACTGCCCTCCCCTACGAAATCGTGGACGAAGAGCTAGATACTCTA',\n",
              " 'GGCTTAGAACTCCCCTACTTCGGTCTCTGTATTATTTTGAAGCTGCGTATTGGGAATAAGATGTGAATCAATTCGAGCGCCCCGACACGCTCTGGCTGCGAACGGGATCGCTCGGATAAGTTAAAATATTCACCGTCCGTCGGGAAGCAGGTCCCTGGATCTTAAATAGCGAGTCTGCCGCGAAATTTTATTGCATTTAAAGTGGATA',\n",
              " 'GCTAGAAGTTCAAGTAGGTTTTCCCGTGGTTGACACTTATTCGCCGCAGAGAGGAGGTTAACCAGCTCTAGCCGATTCTGGAGCAGAACCATAGCATTGCTACTGTTGCCGCTTCCTGTGAAAGTAAGTCGGCCCACAGATTTCGATTTAAGCCGGTGTATTGTGAGAGAAATGCCAAACTCCCCACTGAAGGCCCCAGGTTCCCCAC',\n",
              " 'TCGTTTACTCTTTTATAAACATGTGTCGCACCAGCAATCAACGGCTCGAACCGACAAAAACCTACGCGGGTTGAGTTTAGGGCATTATCTGCCGGCTTAAAAGCGATCCCCTACGAAGATCGTTGGGTGGATTGAGCTTTTTAACAGTCCCACCTCTCCGTTGCGGTGTTAGGCTTCTTTTATTACGATCTTACCACTCCGGCGGATG',\n",
              " 'TCCTATAAGAATCAAACATACATTGGCGATCACCACTGCCAGACGTTCCGGTCGAAATCCTTGTCTTTCAGTCCGGCTTATTCCACCATCGGTGGGCGCTAGATGAACGTTGCGGACGTCAGTACATAGTCGAGCTGTAGTGACGGCCCCTACGAAGCTAGCTGCTCCGGTATGACAAACAGTACCAGTGTGGTCGGCACTGTGGGCA',\n",
              " 'TGTATGCTGCCTAGGTTGCAAGTAAGGACGAAGATGATCCTCCAGTTGTACATCCCCCCCGGGAAATTGGCTGTATTCGCAAAAAATTATGGGTGTTTTTTACCGTTGTGCTAACCTTTCATTAGTTTCCAGATCTAGCCCGACACCACGCGGAATCCAAGACTAACTCCCCTAGACAGTGGTTGCTTGGGAATTCCATAGGGTACCT',\n",
              " 'TGGGTGGCACTATGAGCTAGATGAGGTAACACTCTGTAACACGACAGCCAGAGCCAGCGGGACCTAGTTGACATAGAGGAACAACTCCCCTCTTAAGGTGGCATGACGGTTGGGATTCCGAAACGCCGTATATGTGTAAGGCCAGACGACATCGCACAGCTTGACAAATACGGTCCGGGAATAGGGAGCTGACTTACTTCTGCCATGG',\n",
              " 'CCCTGTATCACCAACCAGGTGGGGTCGTTTTCAGCGGGAAATTGCAACTTCCGGCATAAGTTCCGGGATACAACTCTCGCAATAGGGAATCCAAGTGTATGACCCGAAGCACCCTACGAAGTGTGCGCGTACGGAAGTTATACATACGCAGCCCGACACTCTACCGATCAGCGCTTCACAAAGCTTCGATTCCGACCACTTGCCTCAT',\n",
              " 'TCGATCCATGGAGACCATGCGAACTCTAGTACGAAGGTGTAGCACTAGGACATATCTATTATGGAAATGGACCTTATCTAAAGGTATACGCTCACATTGTAGAGCGTGCGGTTTCTTTACGCCAACAGTCTCCTAGTAGTATTGGGAAACCAGGCCTGGCCCAAAACTGACCCGTGGTTTTTTTTGATCATTAATGTGGACACTGCTA',\n",
              " 'AAGGAGCAGCACACATATCTCTACGGATGTTTTCGATGCAAGAGTGAGTAGTTGAAAGGGATGAATTGGGGTTAGCGACTTAAAATTATGAAGCAATAACCGCCATGTTACGAAGGTTGAACCCCTGCCCTATTCATCTCATGCATAGCTTAGGGGTCTAGCACACGGACACCGTGATGGATCATTCTCAACTCCGGAACGAAGCAGT',\n",
              " 'GAAAGAACTCGGTAGTGATCGGCTCATAGTTAGACTCTCGTCAAAAGTCTGAGCTTGTTTTCTCCTTTCCCAACGCCTCTGGGTCGGGTACCACATAGTAACGTGCTTTTTTCTTGTTGCAGTGCCATTGGCGGGTTGCCAGCTGCACTCCCCTACGACTCCAGGACTCTTTTCTTAGCAAAACGGGGAGCCTCGCAGGGGCTGCGGC',\n",
              " 'GGGCGTGCGCGCGTCTGGTGCTTGCTTGATAAACCTAGTCCGAGCTCCCATCGAATTGAAGTCGCACGAGAGAACGACGGCAAACTTGTCTACGAAGAGTCCTTGCAACGGACAGGCGGCGCCAAAGCCCCCACATAATGTGTCAGACACTGGTGCCCCATCTTCACCAGTGTGATACATATAGTCAAGCCCCTGTGAACTCCGTAAT',\n",
              " 'CGTGGTGTCTACCGTCGGGTAATCCAGAGAACTCCCCTACGCGAGTATACTGCACAGGTAATTAACTACGCCCATTGACGAACCCAACGGGGACTGACTCCTCATAGCATTGGTCTTAGCACCGCTCGGGTCACTAAGGCGTTTATCGTTGCTTGGGGTCGTTGGCTGATCACTAACGGACCCCGTATTTACCACCTCGGCCTCGCCC',\n",
              " 'TGCTGTAGATGGAGGAGAGTTTATGTGTGTTCCCCACTCTTCGTGCGAAGTACACATTCTGACCACTGGTGTATATTTTGAGACGCCCCTTAATCTATGTTGGGTACAGCAGGGCACCCCTCTTCTGCGCTGCACCCAGCAGGGCGTCAACTATGCTACGAAGTTCGCCCCCTGAAACCCTATCGGAATGGGTGGGCCGTAGAAATAG',\n",
              " 'GATTGCTAGGAAGAGCTCACCATCGATAGAGGCATCTCAAAGAAAACTCCTAGACGAAGTATTTTAAGGGGTAGAAGGTTCCGGACTGAGAGAGAATGAACGTAGCCTGGGTCTAATTTCGGGGGACTCATTGGATTTTCCTAAGCTTTGCTGTCTCTCGAAGTGTATTCCGAAGGCCGGCACCCAGCCCGTGCAAGCTCCCCGAGAT',\n",
              " 'CTTTCGCGAGACTGACACGGTCGCGCCTAACGACTTGAGGGTGGGTCTGAGGTATGCATTAGTCGATAGACTTTAACATTCGAACAAGCCTACGAAGCTTCTTTACAGGGCGTGTCACTGCGTCGATCCTTTGCTCGGCTGGAAAAGGCCTCACGGTAATCTCTTTTAACTCATCGTCGCAAGGCGGTGGCGCGATGGTGTATGCTTC',\n",
              " 'AAGACCCCCCCGAACGATTACAGAACTCCCACGCGAAGCTCAGCGAGCTAACCCCTCCGCTCCTAGTAAAAAGTGACGATGCGGGGTAGCCGCAAACTCTCGTTCAGAGGGGTAATCCGAAGCGTGCGAGGTGTCGTTACGTGTATAGGTAGGGCGTCTCTCAAGGCTGAAGCCTATCCAATTAGGGTCAACGAGTGCGATCAGCGAA']"
            ]
          },
          "metadata": {},
          "execution_count": 248
        }
      ]
    },
    {
      "cell_type": "code",
      "source": [
        "solutions_list = RunRandomizedMotifSearch(Dna, k, t)"
      ],
      "metadata": {
        "id": "AqtadUmm6eBl"
      },
      "execution_count": 249,
      "outputs": []
    },
    {
      "cell_type": "code",
      "source": [
        "for solution in solutions_list:\n",
        "  print(solution)"
      ],
      "metadata": {
        "colab": {
          "base_uri": "https://localhost:8080/"
        },
        "id": "FWW9wLVH6fgl",
        "outputId": "5db9896f-2341-4474-89da-6ba178a5e3ac"
      },
      "execution_count": 250,
      "outputs": [
        {
          "output_type": "stream",
          "name": "stdout",
          "text": [
            "GACTTTTCTAGTAAG\n",
            "AACGGACCTACGAAG\n",
            "AACTCTGGTACGAAG\n",
            "CCCTCCCCTACGAAA\n",
            "AACTCCCCTACTTCG\n",
            "AACTCCCCACTGAAG\n",
            "CGATCCCCTACGAAG\n",
            "ACGGCCCCTACGAAG\n",
            "AACTCCCCTAGACAG\n",
            "AACTCCCCTCTTAAG\n",
            "AAGCACCCTACGAAG\n",
            "AACTCTAGTACGAAG\n",
            "AACTCCGGAACGAAG\n",
            "CACTCCCCTACGACT\n",
            "AACTTGTCTACGAAG\n",
            "AACTCCCCTACGCGA\n",
            "AACTATGCTACGAAG\n",
            "AACTCCTAGACGAAG\n",
            "AACAAGCCTACGAAG\n",
            "AACTCCCACGCGAAG\n"
          ]
        }
      ]
    }
  ]
}