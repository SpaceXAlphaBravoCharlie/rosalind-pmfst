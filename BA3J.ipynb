{
  "nbformat": 4,
  "nbformat_minor": 0,
  "metadata": {
    "colab": {
      "name": "BA3J.ipynb",
      "provenance": []
    },
    "kernelspec": {
      "name": "python3",
      "display_name": "Python 3"
    },
    "language_info": {
      "name": "python"
    }
  },
  "cells": [
    {
      "cell_type": "markdown",
      "source": [
        "Given a (k, d)-mer (a1 ... ak | b1, ... bk), we define its prefix and suffix as the following\n",
        "(k  1, d + 1)-mers:\n",
        "\n",
        "PREFIX((a1 ... ak | b1,... bk)) = (a1 ... ak1 | b1 ... bk1)\n",
        "\n",
        "SUFFIX((a1 ... ak | b1,... bk)) = (a2 ... ak | b2 ... bk)"
      ],
      "metadata": {
        "id": "12M9E8WodqhP"
      }
    },
    {
      "cell_type": "markdown",
      "source": [
        "We define COMPOSITIONGRAPHk,d(Text) as the graph consisting of |Text| - (k + d +\n",
        "k) + 1 isolated edges that are labeled by the (k, d)-mers in Text, and whose nodes are\n",
        "labeled by the prefixes and suffixes of these labels. As you may have\n",
        "guessed, gluing identically labeled nodes in PAIREDCOMPOSITIONGRAPHk,d(Text)\n",
        "results in exactly the same de Bruijn graph as gluing identically labeled nodes in\n",
        "PATHGRAPHk,d(Text). Of course, in practice, we will not know Text; however, we can form COMPOSITIONGRAPHk,d(Text) directly from the (k, d)-mer composition of Text, and the gluing step will result in the paired de Bruijn graph of this composition. The genome can be reconstructed by following an Eulerian path in this de Bruijn graph."
      ],
      "metadata": {
        "id": "-IPhcbQwe0qG"
      }
    },
    {
      "cell_type": "code",
      "source": [
        "def ReadPairPrefix(read_pair,k):\n",
        "  read_pair_prefix = list()\n",
        "  for kmers in read_pair:\n",
        "    read_pair_prefix.append(kmers[0:k-1])\n",
        "  return read_pair_prefix[0] + read_pair_prefix[1]"
      ],
      "metadata": {
        "id": "EE2LvfCYJgR2"
      },
      "execution_count": 45,
      "outputs": []
    },
    {
      "cell_type": "code",
      "source": [
        "def ReadPairSuffix(read_pair,k):\n",
        "  read_pair_suffix = []\n",
        "  for kmers in read_pair:\n",
        "    read_pair_suffix.append(kmers[1:k])\n",
        "  return read_pair_suffix[0] + read_pair_suffix[1]"
      ],
      "metadata": {
        "id": "UK3DlhAfJiny"
      },
      "execution_count": 46,
      "outputs": []
    },
    {
      "cell_type": "markdown",
      "source": [
        "Given a string Text, we construct a graph PATHGRAPHk,d(Text) that represents a\n",
        "path formed by |Text| - (k + d + k) + 1 edges corresponding to all (k, d)-mers in Text.\n",
        "We label edges in this path by (k, d)-mers and label the starting and ending nodes of an\n",
        "edge by its prefix and suffix, respectively. Note that the paired de\n",
        "Bruijn graph is less tangled than the de Bruijn graph constructed from individual reads."
      ],
      "metadata": {
        "id": "RPt_qiCyi26Q"
      }
    },
    {
      "cell_type": "code",
      "source": [
        "def PairedDeBruijnGraphKD(read_pairs_list,k):\n",
        "  adjacency_dict = {}\n",
        "  for read_pair in read_pairs_list:\n",
        "    adjacency_dict.setdefault(ReadPairPrefix(read_pair,k),[])\n",
        "    adjacency_dict.setdefault(ReadPairSuffix(read_pair,k),[])\n",
        "  for read_pair in read_pairs_list:\n",
        "    adjacency_dict[ReadPairPrefix(read_pair,k)].append(ReadPairSuffix(read_pair,k))\n",
        "  return adjacency_dict"
      ],
      "metadata": {
        "id": "GD_qiqRc6nw3"
      },
      "execution_count": 47,
      "outputs": []
    },
    {
      "cell_type": "markdown",
      "source": [
        "U DeBruijn grafu su identitični čvorovi gluani zajedno --> dakle, u listi čvorova ne možemo imati duplikate, možemo imati samo duplikatne veze, tj. readove koji se ponavljaju"
      ],
      "metadata": {
        "id": "iVR2Rybmjcct"
      }
    },
    {
      "cell_type": "code",
      "source": [
        "def DeBruijnGraphNodes(de_bruijn_graph_dict):\n",
        "  de_bruijn_graph_nodes = set()\n",
        "  for key,values_list in de_bruijn_graph_dict.items():\n",
        "    de_bruijn_graph_nodes.update([key] + values_list)\n",
        "  return list(de_bruijn_graph_nodes) #mapping from read to number defined by mapping from index of list --> element at that index"
      ],
      "metadata": {
        "id": "rlnd4gG2jd-y"
      },
      "execution_count": 48,
      "outputs": []
    },
    {
      "cell_type": "code",
      "source": [
        "def DefineGraphDict(de_bruijn_graph_dict, de_bruijn_graph_nodes):\n",
        "  graph_dict = {}\n",
        "  for i in range(len(de_bruijn_graph_nodes)):\n",
        "    graph_dict.setdefault(i,[])\n",
        "  for key,values_list in de_bruijn_graph_dict.items():\n",
        "    for value in values_list:\n",
        "      graph_dict[de_bruijn_graph_nodes.index(key)].append(de_bruijn_graph_nodes.index(value))\n",
        "  return graph_dict"
      ],
      "metadata": {
        "id": "V2Lzrw9ljfvO"
      },
      "execution_count": 49,
      "outputs": []
    },
    {
      "cell_type": "code",
      "source": [
        "def VisitedEdges(graph_dict):\n",
        "  visited_edges_dict = {}\n",
        "  for key,values_list in graph_dict.items():\n",
        "    for value in values_list:\n",
        "      visited_edges_dict.setdefault((key,value), 0)\n",
        "  return visited_edges_dict"
      ],
      "metadata": {
        "id": "eIMkIoBbjjV_"
      },
      "execution_count": 50,
      "outputs": []
    },
    {
      "cell_type": "code",
      "source": [
        "def NodeInDegree(graph_dict,node):\n",
        "  node_indegree = 0\n",
        "  for adjacent_nodes_list in graph_dict.values():\n",
        "    if node in adjacent_nodes_list:\n",
        "      node_indegree = node_indegree + 1\n",
        "  return node_indegree"
      ],
      "metadata": {
        "id": "KbHmmO_-jk0M"
      },
      "execution_count": 51,
      "outputs": []
    },
    {
      "cell_type": "code",
      "source": [
        "def NodeOutDegree(graph_dict,node):\n",
        "  return len(graph_dict[node])"
      ],
      "metadata": {
        "id": "zJU2L2hYjmO5"
      },
      "execution_count": 52,
      "outputs": []
    },
    {
      "cell_type": "code",
      "source": [
        "import numpy as np\n",
        "from random import randint, randrange"
      ],
      "metadata": {
        "id": "I_Swq9oWjnig"
      },
      "execution_count": 53,
      "outputs": []
    },
    {
      "cell_type": "code",
      "source": [
        "def EulerianCycle(graph_dict):\n",
        "  visited_edges_dict = VisitedEdges(graph_dict)\n",
        "  starting_node = randint(min(graph_dict.keys()), max(graph_dict.keys()))\n",
        "  cycle = [starting_node]\n",
        "  while sum(visited_edges_dict.values()) < len(visited_edges_dict): #repeat until Eulerian cycle is found --> input is an Eulerian directed graph --> Eulerian cycle can always be found\n",
        "    #while loop entered --> sum(visited_edges_dict.values()) < len(visited_edges_dict) --> cycle smaller than Eulerian cycle is being formed\n",
        "    possible_adjacent_nodes = [key[1] for key in visited_edges_dict.keys() if key[0] == cycle[len(cycle)-1] and visited_edges_dict[key] == 0]\n",
        "    if len(possible_adjacent_nodes) == 0 and sum(visited_edges_dict.values()) < len(visited_edges_dict): #cycle smaller than Eulerian cycle completed as we got stuck at starting node --> all edges are not visited\n",
        "      #possible_starting_nodes_list = [node for node in cycle if NodeOutDegree(graph_dict,node) >= NodeOutDegree(graph_dict,cycle[0])] #no, thsi way we are choosing node regardless of the number of times it appeared in cycle\n",
        "      #possible_starting_nodes_list = [visited_edge[0] for node in cycle for visited_edge in visited_edges_dict.keys() if visited_edge[0] == node and visited_edges_dict[visited_edge] == 1] --> this caused efficiency problems\n",
        "      possible_starting_nodes_list = [node for node in cycle if NodeOutDegree(graph_dict,node) > cycle.count(node)] #if NodeOutDegree(node) > number of times node occurs in cycle then there are unused outgoing edges, every occurence measn that one outgoing edge is used \n",
        "      starting_node = possible_starting_nodes_list[randrange(0,len(possible_starting_nodes_list))] #randomly choose new starting node among nodes with higher NodeOutDegree than previous starting node\n",
        "      cycle = cycle[cycle.index(starting_node):len(cycle)] + cycle[1:cycle.index(starting_node)+1] #construct new_cycle using previous cycle\n",
        "    else: #len(possible_adjacent_nodes) > 1 and sum(visited_edges_dict.values()) < len(visited_edges_dict) --> cycle is not finished yet\n",
        "      if len(possible_adjacent_nodes) == 1:\n",
        "        next_node = possible_adjacent_nodes[0]\n",
        "        visited_edges_dict[(cycle[len(cycle)-1], next_node)] = 1\n",
        "        cycle.append(next_node)\n",
        "      else:\n",
        "        next_node = possible_adjacent_nodes[randint(0,len(possible_adjacent_nodes)-1)]\n",
        "        visited_edges_dict[(cycle[len(cycle)-1], next_node)] = 1\n",
        "        cycle.append(next_node)\n",
        "  return cycle"
      ],
      "metadata": {
        "id": "OfbIoqRbjo9k"
      },
      "execution_count": 54,
      "outputs": []
    },
    {
      "cell_type": "code",
      "source": [
        "def FindUnbalancedNodes(graph_dict):\n",
        "  unbalanced_nodes = []\n",
        "  for node in graph_dict.keys():\n",
        "    if NodeInDegree(graph_dict,node) != NodeOutDegree(graph_dict,node):\n",
        "      unbalanced_nodes.append(node)\n",
        "  for adjacent_nodes_list in graph_dict.values():\n",
        "    for adjacent_node in adjacent_nodes_list:\n",
        "      if adjacent_node not in graph_dict.keys():\n",
        "        unbalanced_nodes.append(adjacent_node)\n",
        "  return unbalanced_nodes"
      ],
      "metadata": {
        "id": "UuIxfK9emQaS"
      },
      "execution_count": 55,
      "outputs": []
    },
    {
      "cell_type": "code",
      "source": [
        "def UnbalancedNodesOrder(graph_dict,unbalanced_nodes):\n",
        "  ordered_unbalanced_nodes = [unbalanced_nodes[0]]\n",
        "  if NodeInDegree(graph_dict, unbalanced_nodes[1]) < NodeOutDegree(graph_dict, unbalanced_nodes[1]): #node lacks one incoming edge --> node is starting node in Eulerian path\n",
        "    ordered_unbalanced_nodes.insert(0, unbalanced_nodes[1])\n",
        "  else: #NodeInDegree(graph_dict, unbalanced_nodes[1]) > NodeOutDegree(graph_dict, unbalanced_nodes[1]) --> node lacks one outgoing edge --> node is ending node in Eulerian path\n",
        "    ordered_unbalanced_nodes.insert(1, unbalanced_nodes[1])\n",
        "  return ordered_unbalanced_nodes"
      ],
      "metadata": {
        "id": "V98YApRYmQx_"
      },
      "execution_count": 56,
      "outputs": []
    },
    {
      "cell_type": "code",
      "source": [
        "def BalanceUnbalancedNodes(graph_dict, ordered_unbalanced_nodes):\n",
        "  #ordered_unbalanced_nodes = [starting_node, ending_node]\n",
        "  graph_dict.update({ordered_unbalanced_nodes[1]:[ordered_unbalanced_nodes[0]]})\n",
        "  return graph_dict"
      ],
      "metadata": {
        "id": "3QFcbteumSub"
      },
      "execution_count": 57,
      "outputs": []
    },
    {
      "cell_type": "code",
      "source": [
        "def FindEulerianPathInEulerianCycle(ordered_unbalanced_nodes,eulerian_cycle):\n",
        "  #ordered_unbalanced_nodes = [starting_node,ending_node]\n",
        "  eulerian_cycle = np.array(eulerian_cycle)\n",
        "  eulerian_path = []\n",
        "  eulerian_path_start_indices = list(np.where(eulerian_cycle == ordered_unbalanced_nodes[0])[0])\n",
        "  eulerian_path_end_indices = list(np.where(eulerian_cycle == ordered_unbalanced_nodes[1])[0])\n",
        "  eulerian_cycle = list(eulerian_cycle)\n",
        "  for start_index in eulerian_path_start_indices:\n",
        "    for end_index in eulerian_path_end_indices:\n",
        "      if end_index < start_index:\n",
        "        if (len(eulerian_cycle) - 1 - start_index + 1) + (end_index - 0 + 1) == len(eulerian_cycle):\n",
        "          return eulerian_cycle[start_index:len(eulerian_cycle)] + eulerian_cycle[1:end_index+1]\n",
        "      else:\n",
        "        if (end_index - start_index + 1) == len(eulerian_cycle):\n",
        "          return eulerian_cycle[start_index:end_index+1]"
      ],
      "metadata": {
        "id": "7S0rkZ_bmUqz"
      },
      "execution_count": 58,
      "outputs": []
    },
    {
      "cell_type": "markdown",
      "source": [
        "String Reconstruction from Read-Pairs Problem\n",
        "\n",
        "Reconstruct a string from its paired composition.\n",
        "\n",
        "Given: Integers k and d followed by a collection of paired k-mers PairedReads.\n",
        "\n",
        "Return: A string Text with (k, d)-mer composition equal to PairedReads. (If multiple answers exist, you may return any one.)"
      ],
      "metadata": {
        "id": "MTLX30efnKeS"
      }
    },
    {
      "cell_type": "markdown",
      "source": [
        "PairedReads su (k,d)-merovi iz stringa Text. Od read parova formiramo PairedDeBruijnGraphKD, veze grafa su (k,d)-merovi, početni čvor veze je prefiks (k,d)-mera, završni čvor veze je sufiks (k,d)-mera. U PairedDeBruijnGraphKD grafu su identični čvorovi gluani zajedno. U grafu postoji Eulerov put jer se string Text može rekonstruirati preko (k,d)-merova, tj. readova veličine (k+d+k). Ako u stringu Text postoji Eulerov put, onda početni i završni čvor Eulerovog puta nisu balansirani, tj. graf nije balansiran, tj. graf nije Eulerov graf. --> budući da u grafu postoji Eulerov put, u grafu ne postoji Eulerov ciklus jer graf nije balansiran --> string Text možemo asemblirati na samo jedan način jer string nije cirkularan pa postoji samo jedan Eulerov put u grafu"
      ],
      "metadata": {
        "id": "wPc0qa07nRWp"
      }
    },
    {
      "cell_type": "markdown",
      "source": [
        "Let Reads be the collection of all 2N k-mer reads taken from N read-pairs. Note that a read-pair formed by k-mer reads Read1 and Read2 corresponds to two edges in the de Bruijn graph DEBRUIJNk(Reads). Since these reads are separated by distance d in the genome, there must be a path of length k + d + 1 in DEBRUIJNk(Reads) connecting the node at the beginning of the edge corresponding to Read1 with the node at the end of the edge corresponding to Read2. If there is only one path of length k + d + 1 connecting these nodes, or if all such paths spell out the same string, then we can transform a read-pair formed by reads Read1 and Read2 into a virtual read of length 2 · k + d that starts as Read1, spells out this path, and ends with Read2. \n",
        "\n",
        "Although the idea of transforming read-pairs into long virtual reads is used in many\n",
        "assembly programs, we have made an optimistic assumption: “If there is only one path of length k + d + 1 connecting these nodes, or if all such paths spell out the same string . . . ”. In practice, this assumption limits the application of the long virtual read approach to assembling read-pairs because highly repetitive genomic regions often contain multiple paths of the same length between two edges, and these paths often spell different strings."
      ],
      "metadata": {
        "id": "eo79O1lmotTz"
      }
    },
    {
      "cell_type": "code",
      "source": [
        "def PairedDeBruijnGraphNodesToPairedRead(first_node,second_node,k):\n",
        "  paired_read = []\n",
        "  paired_read.append(first_node[0:k-1] + second_node[k-2])\n",
        "  paired_read.append(first_node[k-1:len(first_node)] + second_node[len(second_node)-1])\n",
        "  return paired_read"
      ],
      "metadata": {
        "id": "mDHfK1pBvMOj"
      },
      "execution_count": 59,
      "outputs": []
    },
    {
      "cell_type": "markdown",
      "source": [
        "|Text| = num_of_read_pairs + (2*k + d) - 1"
      ],
      "metadata": {
        "id": "nmUN6mwXxk9w"
      }
    },
    {
      "cell_type": "code",
      "source": [
        "def AssembleStringFromNodes(eulerian_path,k,d,num_of_read_pairs):\n",
        "  string_list = []\n",
        "  for i in range(num_of_read_pairs + 2*k + d - 1):\n",
        "    string_list.append(' ')\n",
        "  i = 0\n",
        "  while i + 1 <= len(eulerian_path) - 1: #i --> starting position of first kmer in read pair, starting position of second kmer is i + k + d\n",
        "    read_pair = PairedDeBruijnGraphNodesToPairedRead(eulerian_path[i],eulerian_path[i+1],k)\n",
        "    string_list[i:i+k] = list(read_pair[0])\n",
        "    string_list[(i+k+d):(i+k+d)+k] = list(read_pair[1])\n",
        "    i = i + 1\n",
        "  return ''.join(string_list)"
      ],
      "metadata": {
        "id": "1GFUhlOAA7fJ"
      },
      "execution_count": 83,
      "outputs": []
    },
    {
      "cell_type": "code",
      "source": [
        "def StringReconstruction(read_pairs,k,d):\n",
        "  paired_de_bruijn_graph_dict = PairedDeBruijnGraphKD(read_pairs,k)\n",
        "  paired_de_bruijn_graph_nodes = DeBruijnGraphNodes(paired_de_bruijn_graph_dict)\n",
        "  graph_dict = DefineGraphDict(paired_de_bruijn_graph_dict,paired_de_bruijn_graph_nodes)\n",
        "  unbalanced_nodes = FindUnbalancedNodes(graph_dict)\n",
        "  unbalanced_nodes = UnbalancedNodesOrder(graph_dict,unbalanced_nodes)\n",
        "  graph_dict = BalanceUnbalancedNodes(graph_dict,unbalanced_nodes)\n",
        "  eulerian_cycle = EulerianCycle(graph_dict)\n",
        "  eulerian_path = FindEulerianPathInEulerianCycle(unbalanced_nodes,eulerian_cycle)\n",
        "  for i in range(len(eulerian_path)):\n",
        "    eulerian_path[i] = paired_de_bruijn_graph_nodes[eulerian_path[i]]\n",
        "  string = AssembleStringFromNodes(eulerian_path,k,d,len(read_pairs))\n",
        "  return string"
      ],
      "metadata": {
        "id": "KEIaxjmvjvR6"
      },
      "execution_count": 75,
      "outputs": []
    },
    {
      "cell_type": "markdown",
      "source": [
        "Veličina stringa Text mora biti (2k + d) - 1 + len(read_pairs)"
      ],
      "metadata": {
        "id": "BXz_mDqN_082"
      }
    },
    {
      "cell_type": "code",
      "source": [
        "def FormatReadPairs(read_pairs):\n",
        "  read_pairs_list = []\n",
        "  for read_pair in read_pairs:\n",
        "    read_pair = read_pair.split('|')\n",
        "    read_pairs_list.append(read_pair)\n",
        "  return read_pairs_list"
      ],
      "metadata": {
        "id": "1TWU5wBwKam1"
      },
      "execution_count": 76,
      "outputs": []
    },
    {
      "cell_type": "code",
      "source": [
        "k = 4"
      ],
      "metadata": {
        "id": "OD_L2-sq5TZd"
      },
      "execution_count": 77,
      "outputs": []
    },
    {
      "cell_type": "code",
      "source": [
        "d = 2"
      ],
      "metadata": {
        "id": "fsukuRxB5UDb"
      },
      "execution_count": 78,
      "outputs": []
    },
    {
      "cell_type": "code",
      "source": [
        "read_pairs = [\n",
        "'GAGA|TTGA',\n",
        "'TCGT|GATG',\n",
        "'CGTG|ATGT',\n",
        "'TGGT|TGAG',\n",
        "'GTGA|TGTT',\n",
        "'GTGG|GTGA',\n",
        "'TGAG|GTTG',\n",
        "'GGTC|GAGA',\n",
        "'GTCG|AGAT']"
      ],
      "metadata": {
        "id": "lzO8p2-G5UlV"
      },
      "execution_count": 79,
      "outputs": []
    },
    {
      "cell_type": "code",
      "source": [
        "read_pairs = FormatReadPairs(read_pairs)"
      ],
      "metadata": {
        "id": "WW4xtdoVJLDK"
      },
      "execution_count": 80,
      "outputs": []
    },
    {
      "cell_type": "code",
      "source": [
        "read_pairs"
      ],
      "metadata": {
        "colab": {
          "base_uri": "https://localhost:8080/"
        },
        "id": "W1ErUxXC5303",
        "outputId": "92ef9a2d-b2da-4166-e9b6-dffbb158d1aa"
      },
      "execution_count": 81,
      "outputs": [
        {
          "output_type": "execute_result",
          "data": {
            "text/plain": [
              "[['GAGA', 'TTGA'],\n",
              " ['TCGT', 'GATG'],\n",
              " ['CGTG', 'ATGT'],\n",
              " ['TGGT', 'TGAG'],\n",
              " ['GTGA', 'TGTT'],\n",
              " ['GTGG', 'GTGA'],\n",
              " ['TGAG', 'GTTG'],\n",
              " ['GGTC', 'GAGA'],\n",
              " ['GTCG', 'AGAT']]"
            ]
          },
          "metadata": {},
          "execution_count": 81
        }
      ]
    },
    {
      "cell_type": "code",
      "source": [
        "StringReconstruction(read_pairs,k,d)"
      ],
      "metadata": {
        "colab": {
          "base_uri": "https://localhost:8080/",
          "height": 36
        },
        "id": "qV9YnRKdkXBT",
        "outputId": "6346a47e-aa9e-478a-dcfe-1a4e0782379c"
      },
      "execution_count": 84,
      "outputs": [
        {
          "output_type": "execute_result",
          "data": {
            "text/plain": [
              "'GTGGTCGTGAGATGTTGA'"
            ],
            "application/vnd.google.colaboratory.intrinsic+json": {
              "type": "string"
            }
          },
          "metadata": {},
          "execution_count": 84
        }
      ]
    },
    {
      "cell_type": "code",
      "source": [
        "k = 30"
      ],
      "metadata": {
        "id": "u8YQEW2e6gdC"
      },
      "execution_count": 85,
      "outputs": []
    },
    {
      "cell_type": "code",
      "source": [
        "d = 100"
      ],
      "metadata": {
        "id": "Wm_Qvi9u6iI6"
      },
      "execution_count": 86,
      "outputs": []
    },
    {
      "cell_type": "code",
      "source": [
        "with open('/content/rosalind_ba3j.txt') as task_file:\n",
        "  read_pairs = [line.rstrip() for line in task_file]"
      ],
      "metadata": {
        "id": "0aYew7256iw5"
      },
      "execution_count": 87,
      "outputs": []
    },
    {
      "cell_type": "code",
      "source": [
        "read_pairs = FormatReadPairs(read_pairs)"
      ],
      "metadata": {
        "id": "dLmtSTZC6oge"
      },
      "execution_count": 88,
      "outputs": []
    },
    {
      "cell_type": "code",
      "source": [
        "StringReconstruction(read_pairs,k,d)"
      ],
      "metadata": {
        "id": "BMZERZWE6pjG"
      },
      "execution_count": null,
      "outputs": []
    }
  ]
}