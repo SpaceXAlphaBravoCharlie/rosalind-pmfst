{
  "nbformat": 4,
  "nbformat_minor": 0,
  "metadata": {
    "colab": {
      "name": "BA4L.ipynb",
      "provenance": []
    },
    "kernelspec": {
      "name": "python3",
      "display_name": "Python 3"
    },
    "language_info": {
      "name": "python"
    }
  },
  "cells": [
    {
      "cell_type": "markdown",
      "source": [
        "To be fair, a cut should include anyone who is tied with the Nth-place competitor. --> peptidi koji su tied sa Nth-place peptidom su jednako dobri za branching kao i Nth-place peptid pa nema smisla excludeati ih iz branchinga\n",
        "\n",
        "Thus, Leaderboard should be trimmed down to the “N highest-scoring linear peptides including ties”, which may include more than N peptides."
      ],
      "metadata": {
        "id": "p_7Tk5GRUMCj"
      }
    },
    {
      "cell_type": "code",
      "source": [
        "def FindAllKmers(peptide,k):\n",
        "  kmers_list = []\n",
        "  i = 0\n",
        "  while i + k - 1 <= len(peptide)-1:\n",
        "    kmers_list.append(peptide[i:i+k])\n",
        "    i = i + 1\n",
        "  return kmers_list"
      ],
      "metadata": {
        "id": "5TSQYAdyhMHr"
      },
      "execution_count": 1,
      "outputs": []
    },
    {
      "cell_type": "code",
      "source": [
        "def GenerateAllSubpeptides(peptide):\n",
        "  subpeptides = []\n",
        "  for subpeptide_length in range(1,len(peptide)+1):\n",
        "    subpeptides.extend(FindAllKmers(peptide,subpeptide_length))\n",
        "  subpeptides.append(peptide)\n",
        "  return subpeptides"
      ],
      "metadata": {
        "id": "8QE-rOaXhNgr"
      },
      "execution_count": 9,
      "outputs": []
    },
    {
      "cell_type": "code",
      "source": [
        "aminoacids_integer_masses_dict = {'A':71.03711,\n",
        "'R':156.10111,\n",
        "'N':114.04293,\n",
        "'D':115.02694,\n",
        "'C':103.00919,\n",
        "'E':129.04259,\n",
        "'Q':128.05858,\n",
        "'G':57.02146,\n",
        "'H':137.05891,\n",
        "'I':113.08406,\n",
        "'L':113.08406,\n",
        "'K':128.09496,\n",
        "'M':131.04049,\n",
        "'F':147.06841,\n",
        "'P':97.05276,\n",
        "'S':87.03203,\n",
        "'T':101.04768,\n",
        "'W':186.07931,\n",
        "'Y':163.06333,\n",
        "'V':99.06841}"
      ],
      "metadata": {
        "id": "7mkyYuOmhOzK"
      },
      "execution_count": 10,
      "outputs": []
    },
    {
      "cell_type": "code",
      "source": [
        "for key in aminoacids_integer_masses_dict:\n",
        "  aminoacids_integer_masses_dict[key] = int(aminoacids_integer_masses_dict[key])"
      ],
      "metadata": {
        "id": "4Nt4ypjrhQL1"
      },
      "execution_count": 11,
      "outputs": []
    },
    {
      "cell_type": "code",
      "source": [
        "def SubpeptideMass(subpeptide):\n",
        "  mass = 0\n",
        "  for aminoacid in subpeptide:\n",
        "    mass = mass + aminoacids_integer_masses_dict[aminoacid]\n",
        "  return mass"
      ],
      "metadata": {
        "id": "FojkH2MshSfg"
      },
      "execution_count": 12,
      "outputs": []
    },
    {
      "cell_type": "code",
      "source": [
        "def LinearSpectrum(peptide):\n",
        "  theoretical_linear_spectrum = [0]\n",
        "  for subpeptide in GenerateAllSubpeptides(peptide):\n",
        "    theoretical_linear_spectrum.append(SubpeptideMass(subpeptide))\n",
        "  return theoretical_linear_spectrum"
      ],
      "metadata": {
        "id": "NcJLjf3VhSxn"
      },
      "execution_count": 13,
      "outputs": []
    },
    {
      "cell_type": "code",
      "source": [
        "from collections import Counter"
      ],
      "metadata": {
        "id": "zOANrr8xhVGS"
      },
      "execution_count": 14,
      "outputs": []
    },
    {
      "cell_type": "code",
      "source": [
        "def LinearPeptideScoring(peptide,spectrum): #the score is computed for spectrum against peptide's theoretical spectrum --> spectrum is experimental spectrum\n",
        "  peptide_theoretical_spectrum = LinearSpectrum(peptide)\n",
        "  peptide_theoretical_spectrum_counter_dict = Counter(peptide_theoretical_spectrum)\n",
        "  spectrum_counter_dict = Counter(spectrum)\n",
        "  score = 0\n",
        "  scored_aminoacid_integer_masses = []\n",
        "  for aminoacid_integer_mass in spectrum:\n",
        "    if aminoacid_integer_mass not in scored_aminoacid_integer_masses:\n",
        "      if spectrum_counter_dict[aminoacid_integer_mass] == peptide_theoretical_spectrum_counter_dict[aminoacid_integer_mass]:\n",
        "        score = score + spectrum_counter_dict[aminoacid_integer_mass]\n",
        "        scored_aminoacid_integer_masses.append(aminoacid_integer_mass)\n",
        "      elif spectrum_counter_dict[aminoacid_integer_mass] > peptide_theoretical_spectrum_counter_dict[aminoacid_integer_mass]:\n",
        "        if peptide_theoretical_spectrum_counter_dict[aminoacid_integer_mass] > 0: #if peptide_theoretical_spectrum_counter_dict[aminoacid_integer_mass] > 0 then there are surpluss occurences of same mass in experimental spectrum\n",
        "          score = score + peptide_theoretical_spectrum_counter_dict[aminoacid_integer_mass]\n",
        "          scored_aminoacid_integer_masses.append(aminoacid_integer_mass)\n",
        "      else: #spectrum_counter_dict[aminoacid_integer_mass] < peptide_theoretical_spectrum_counter_dict[aminoacid_integer_mass] --> there are surpluss occurences of same mass in theoretical spectrum\n",
        "        score = score + spectrum_counter_dict[aminoacid_integer_mass]\n",
        "        scored_aminoacid_integer_masses.append(aminoacid_integer_mass)\n",
        "  return score"
      ],
      "metadata": {
        "id": "jCsIru-rhWSb"
      },
      "execution_count": 21,
      "outputs": []
    },
    {
      "cell_type": "code",
      "source": [
        "def Trim(leaderboard,linear_spectrum,N):\n",
        "  leaderboard_scores_dict = {}\n",
        "  for linear_peptide in leaderboard:\n",
        "    leaderboard_scores_dict.update({linear_peptide:LinearPeptideScoring(linear_peptide,linear_spectrum)}) #LinearPeptideScoring(linear_peptide,linear_spectrum) --> score of linear_peptide's spectrum against linear_spectrum\n",
        "  sorted_linear_peptides = sorted(leaderboard_scores_dict.keys(), key=leaderboard_scores_dict.get, reverse=True) #peptides sorted by scores\n",
        "  top_n_peptides = sorted_linear_peptides[0:N] #last index is N-1, next index is N\n",
        "  i = N\n",
        "  for i in range(N,len(sorted_linear_peptides)):\n",
        "    if leaderboard_scores_dict[sorted_linear_peptides[i]] == leaderboard_scores_dict[top_n_peptides[len(top_n_peptides)-1]]:\n",
        "      top_n_peptides.append(sorted_linear_peptides[i])\n",
        "    else:\n",
        "      break\n",
        "  return top_n_peptides"
      ],
      "metadata": {
        "id": "X0I-FMpAULNw"
      },
      "execution_count": 22,
      "outputs": []
    },
    {
      "cell_type": "code",
      "source": [
        "leaderboard = ['LAST', 'ALST', 'TLLT', 'TQAS']"
      ],
      "metadata": {
        "id": "TVmqE6U3gm2E"
      },
      "execution_count": 23,
      "outputs": []
    },
    {
      "cell_type": "code",
      "source": [
        "linear_spectrum = [0, 71, 87, 101, 113, 158, 184, 188, 259, 271, 372]"
      ],
      "metadata": {
        "id": "jGC5rUtegsjU"
      },
      "execution_count": 24,
      "outputs": []
    },
    {
      "cell_type": "code",
      "source": [
        "N = 2"
      ],
      "metadata": {
        "id": "cJqJnMUrg6y3"
      },
      "execution_count": 25,
      "outputs": []
    },
    {
      "cell_type": "code",
      "source": [
        "Trim(leaderboard,linear_spectrum,N)"
      ],
      "metadata": {
        "colab": {
          "base_uri": "https://localhost:8080/"
        },
        "id": "nen_5UriiuvN",
        "outputId": "34befbee-7efa-4143-f429-200c904fbf6e"
      },
      "execution_count": 26,
      "outputs": [
        {
          "output_type": "execute_result",
          "data": {
            "text/plain": [
              "['LAST', 'ALST']"
            ]
          },
          "metadata": {},
          "execution_count": 26
        }
      ]
    },
    {
      "cell_type": "code",
      "source": [
        "with open('/content/rosalind_ba4l.txt') as task_file:\n",
        "  task_arguments = [line.rstrip() for line in task_file]"
      ],
      "metadata": {
        "id": "QkedPaoqWXsf"
      },
      "execution_count": 27,
      "outputs": []
    },
    {
      "cell_type": "code",
      "source": [
        "leaderboard = task_arguments[0]\n",
        "leaderboard = leaderboard.split(' ')"
      ],
      "metadata": {
        "id": "405qRetrT7xZ"
      },
      "execution_count": 30,
      "outputs": []
    },
    {
      "cell_type": "code",
      "source": [
        "linear_spectrum = task_arguments[1]\n",
        "linear_spectrum = linear_spectrum.split(' ')\n",
        "for i in range(len(linear_spectrum)):\n",
        "  linear_spectrum[i] = int(linear_spectrum[i])"
      ],
      "metadata": {
        "id": "brLVlqtYU7qi"
      },
      "execution_count": 31,
      "outputs": []
    },
    {
      "cell_type": "code",
      "source": [
        "N = int(task_arguments[2])"
      ],
      "metadata": {
        "id": "pztjSmMUT9xq"
      },
      "execution_count": 32,
      "outputs": []
    },
    {
      "cell_type": "code",
      "source": [
        "f = open(\"task_result.txt\",\"w\")\n",
        "for solution in Trim(leaderboard,linear_spectrum,N):\n",
        "  f.write(solution + '\\n')\n",
        "f.close()"
      ],
      "metadata": {
        "id": "Mo-lESWaVndN"
      },
      "execution_count": 36,
      "outputs": []
    }
  ]
}