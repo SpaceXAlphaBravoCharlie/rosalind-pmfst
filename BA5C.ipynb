{
  "nbformat": 4,
  "nbformat_minor": 0,
  "metadata": {
    "colab": {
      "name": "BA5C.ipynb",
      "provenance": [],
      "collapsed_sections": []
    },
    "kernelspec": {
      "name": "python3",
      "display_name": "Python 3"
    },
    "language_info": {
      "name": "python"
    }
  },
  "cells": [
    {
      "cell_type": "markdown",
      "source": [
        "LCSBACKTRACK(v, w)\n",
        "\n",
        "for i 0 to |v|\n",
        "\n",
        "s[i][0] =  0\n",
        "\n",
        "for j 0 to |w|\n",
        "\n",
        "s[0][j] = 0\n",
        "\n",
        "for i = 1 to |v|\n",
        "\n",
        "for j = 1 to |w|\n",
        "\n",
        "s[i][j] = max\n",
        "\n",
        "s[i-1][j] + 0\n",
        "\n",
        "s[i][j-1] + 0\n",
        "\n",
        "s[i-1][j-1] + 1, if vi = wj\n",
        "\n",
        "if s[i][j] = s[i-1][j] + 0\n",
        "\n",
        "Backtrack[i][j] = 'strelica dolje'\n",
        "\n",
        "else if s[i][j] = s[i][j-1]\n",
        "\n",
        "Backtrack[i][j] = 'strelica lijevo'\n",
        "\n",
        "else if s[i][j] = s[i-1][j-1] + 1 and vi = wj\n",
        "\n",
        "Backtrack[i][j] = 'strelica dijagonalno'\n",
        "\n",
        "return Backtrack"
      ],
      "metadata": {
        "id": "UwS216GJPujM"
      }
    },
    {
      "cell_type": "code",
      "source": [
        "import numpy as np"
      ],
      "metadata": {
        "id": "3dUhSYPJR-nS"
      },
      "execution_count": 1,
      "outputs": []
    },
    {
      "cell_type": "code",
      "source": [
        "def LongestCommonSubsequenceBacktrack(v,w):\n",
        "  s = np.full((len(v)+1,len(w)+1),np.NINF)\n",
        "  backtrack = np.full((len(v)+1,len(w)+1),'')\n",
        "  for i in range(len(v)+1):\n",
        "    s[i][0] = 0\n",
        "  for j in range(len(w)+1):\n",
        "    s[0][j] = 0\n",
        "  for i in range(1,len(v)+1):\n",
        "    for j in range(1,len(w)+1):\n",
        "      terms = [s[i-1][j],s[i][j-1]]\n",
        "      if v[i-1] == w[j-1]:\n",
        "        terms.append(s[i-1][j-1] + 1)\n",
        "      s[i][j] = max(terms)\n",
        "      if s[i][j] == s[i-1][j]:\n",
        "        backtrack[i][j] = 'D' #we came to node (i,j) from node (i-1,j)\n",
        "      elif s[i][j] == s[i][j-1]:\n",
        "        backtrack[i][j] = 'R' #we came to node (i,j) from node (i,j-1)\n",
        "      elif s[i][j] == s[i-1][j-1] + 1 and v[i-1] == w[j-1]:\n",
        "        backtrack[i][j] = 'M' #we came to node (i,j) from node (i-1,j-1)\n",
        "  return backtrack"
      ],
      "metadata": {
        "id": "_aEEOVBdRTeZ"
      },
      "execution_count": 56,
      "outputs": []
    },
    {
      "cell_type": "code",
      "source": [
        "def OutputLongestCommonSubsequence(backtrack,v,i,j,f):\n",
        "  if i == 0 or j == 0: #if we arrive to first column we can only follow down edges to source node, if we arrive to first row we can only follow right edges to sink node --> we cannot follow diagonal edges --> only some of diagonal edges present matches\n",
        "    return\n",
        "  if backtrack[i][j] == 'D':\n",
        "    OutputLongestCommonSubsequence(backtrack,v,i-1,j,f) #we came to node (i,j) from node (i-1,j)\n",
        "  elif backtrack[i][j] == 'R':\n",
        "    OutputLongestCommonSubsequence(backtrack,v,i,j-1,f) #we came to node (i,j) from node (i,j-1)\n",
        "  else:\n",
        "    f.write(v[i-1])\n",
        "    OutputLongestCommonSubsequence(backtrack,v,i-1,j-1,f) #we came to node (i,j) from node (i-1,j-1)"
      ],
      "metadata": {
        "id": "1deIfm5zU3Pt"
      },
      "execution_count": 80,
      "outputs": []
    },
    {
      "cell_type": "code",
      "source": [
        "def PrintArrows(backtrack,v,i,j):\n",
        "  if i == 0 or j == 0: #if we arrive to first column we can only follow down edges to source node, if we arrive to first row we can only follow right edges to sink node --> we cannot follow diagonal edges --> only some of diagonal edges present matches\n",
        "    return\n",
        "  if backtrack[i][j] == 'D':\n",
        "    print('D')\n",
        "    PrintArrows(backtrack,v,i-1,j) #we came to node (i,j) from node (i-1,j)\n",
        "  elif backtrack[i][j] == 'R':\n",
        "    print('R')\n",
        "    PrintArrows(backtrack,v,i,j-1) #we came to node (i,j) from node (i,j-1)\n",
        "  else:\n",
        "    print('M')\n",
        "    PrintArrows(backtrack,v,i-1,j-1) #we came to node (i,j) from node (i-1,j-1)"
      ],
      "metadata": {
        "id": "MALFPm9aQava"
      },
      "execution_count": 66,
      "outputs": []
    },
    {
      "cell_type": "code",
      "source": [
        "v = 'AACCTTGG'"
      ],
      "metadata": {
        "id": "q5VhmD7xUE8-"
      },
      "execution_count": 76,
      "outputs": []
    },
    {
      "cell_type": "code",
      "source": [
        "w = 'ACACTGTGA'"
      ],
      "metadata": {
        "id": "n54UY_cTUIkm"
      },
      "execution_count": 77,
      "outputs": []
    },
    {
      "cell_type": "code",
      "source": [
        "backtrack = LongestCommonSubsequenceBacktrack(v,w)"
      ],
      "metadata": {
        "id": "o8F5-M-AUKn9"
      },
      "execution_count": 81,
      "outputs": []
    },
    {
      "cell_type": "code",
      "source": [
        "PrintArrows(backtrack,v,len(v),len(w))"
      ],
      "metadata": {
        "id": "bY5YU2OZQ-z4"
      },
      "execution_count": null,
      "outputs": []
    },
    {
      "cell_type": "code",
      "source": [
        "f = open(\"task_result.txt\",\"w\")\n",
        "OutputLongestCommonSubsequence(backtrack,v,len(v),len(w),f)\n",
        "f.close()\n",
        "with open('task_result.txt') as task_file:\n",
        "  longest_common_subsequence = [line.rstrip() for line in task_file]\n",
        "  longest_common_subsequence = longest_common_subsequence[0][::-1]\n",
        "f = open(\"task_result.txt\",\"w\")\n",
        "f.write(longest_common_subsequence)\n",
        "f.close()"
      ],
      "metadata": {
        "id": "BwfpgQeCVWP7"
      },
      "execution_count": 82,
      "outputs": []
    },
    {
      "cell_type": "code",
      "source": [
        "with open('/content/rosalind_ba5c.txt') as task_file:\n",
        "  task_arguments = [line.rstrip() for line in task_file]"
      ],
      "metadata": {
        "id": "HGMJt2N8uS2y"
      },
      "execution_count": 83,
      "outputs": []
    },
    {
      "cell_type": "code",
      "source": [
        "v = task_arguments[0]"
      ],
      "metadata": {
        "id": "ugdvPJkjuYNG"
      },
      "execution_count": 84,
      "outputs": []
    },
    {
      "cell_type": "code",
      "source": [
        "w = task_arguments[1]"
      ],
      "metadata": {
        "id": "1EJ8BxSvuZ6x"
      },
      "execution_count": 85,
      "outputs": []
    },
    {
      "cell_type": "code",
      "source": [
        "backtrack = LongestCommonSubsequenceBacktrack(v,w)"
      ],
      "metadata": {
        "id": "rUDL8JDYu2QF"
      },
      "execution_count": 86,
      "outputs": []
    },
    {
      "cell_type": "code",
      "source": [
        "import sys\n",
        "sys.setrecursionlimit(2000)\n",
        "f = open(\"task_result.txt\",\"w\")\n",
        "OutputLongestCommonSubsequence(backtrack,v,len(v)-1,len(w)-1,f)\n",
        "f.close()\n",
        "with open('task_result.txt') as task_file:\n",
        "  longest_common_subsequence = [line.rstrip() for line in task_file]\n",
        "  longest_common_subsequence = longest_common_subsequence[0][::-1]\n",
        "f = open(\"task_result.txt\",\"w\")\n",
        "f.write(longest_common_subsequence)\n",
        "f.close()"
      ],
      "metadata": {
        "id": "qdl3GacKudMn"
      },
      "execution_count": 87,
      "outputs": []
    }
  ]
}