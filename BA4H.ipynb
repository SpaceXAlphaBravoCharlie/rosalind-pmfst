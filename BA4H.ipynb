{
  "nbformat": 4,
  "nbformat_minor": 0,
  "metadata": {
    "colab": {
      "name": "BA4H.ipynb",
      "provenance": []
    },
    "kernelspec": {
      "name": "python3",
      "display_name": "Python 3"
    },
    "language_info": {
      "name": "python"
    }
  },
  "cells": [
    {
      "cell_type": "markdown",
      "source": [
        "One way to determine the amino acid composition of a peptide from its experimental spectrum would be to take the smallest masses present in the spectrum (between 57 and 200 Da). However, even if only a single amino acid mass is missing, then this approach will fail to reconstruct the peptide’s amino acid composition --> ako eksperimentalni spektar ima missing mase bez false masa, onda je smanjen alfabet masa koje se koriste u branching koraku algoritma LeaderboardCyclopeptideSequencing, ako ima false mass bez missing masa onda je povećan alfabet masa koji se koristi u branching koraku, ako ima false mase i missing mase onda je alfabet različit od točnog alfabeta, što može dovesti do problema u algoritmu LeaderboardCyclopeptideSequencing"
      ],
      "metadata": {
        "id": "_bVO9J5Wc_7u"
      }
    },
    {
      "cell_type": "code",
      "source": [
        "from collections import Counter"
      ],
      "metadata": {
        "id": "-V_xBbKAiZNb"
      },
      "execution_count": 1,
      "outputs": []
    },
    {
      "cell_type": "code",
      "source": [
        "def Convolution(spectrum):\n",
        "  positive_differences = []\n",
        "  i = 0\n",
        "  while i <= len(spectrum) - 1:\n",
        "    for aminoacid_integer_mass in spectrum[0:i]:\n",
        "      if spectrum[i] - aminoacid_integer_mass > 0:\n",
        "        positive_differences.append(spectrum[i]-aminoacid_integer_mass)\n",
        "    i = i + 1\n",
        "  positive_differences_counter_dict = Counter(positive_differences)\n",
        "  positive_differences_sorted = sorted(positive_differences_counter_dict,key=positive_differences_counter_dict.get,reverse=True)\n",
        "  positive_differences = []\n",
        "  for key in positive_differences_sorted:\n",
        "    for i in range(positive_differences_counter_dict[key]):\n",
        "      positive_differences.append(key)\n",
        "  return positive_differences"
      ],
      "metadata": {
        "id": "yqczj4fJe-or"
      },
      "execution_count": 12,
      "outputs": []
    },
    {
      "cell_type": "code",
      "source": [
        "spectrum = [0, 137, 186, 323]"
      ],
      "metadata": {
        "id": "z3DvNOU6e-tM"
      },
      "execution_count": 13,
      "outputs": []
    },
    {
      "cell_type": "code",
      "source": [
        "Convolution(spectrum)"
      ],
      "metadata": {
        "colab": {
          "base_uri": "https://localhost:8080/"
        },
        "id": "cANPsan7iNJ9",
        "outputId": "e581595c-c768-4972-a62e-b7fe0548efe8"
      },
      "execution_count": 14,
      "outputs": [
        {
          "output_type": "execute_result",
          "data": {
            "text/plain": [
              "[137, 137, 186, 186, 49, 323]"
            ]
          },
          "metadata": {},
          "execution_count": 14
        }
      ]
    },
    {
      "cell_type": "code",
      "source": [
        "with open('/content/rosalind_ba4h.txt') as task_file:\n",
        "  spectrum = [line.rstrip() for line in task_file][0]\n",
        "spectrum = spectrum.split(' ')\n",
        "for i in range(len(spectrum)):\n",
        "  spectrum[i] = int(spectrum[i])\n",
        "spectrum = sorted(spectrum)"
      ],
      "metadata": {
        "id": "9JQhoV05c8sz"
      },
      "execution_count": 15,
      "outputs": []
    },
    {
      "cell_type": "code",
      "source": [
        "f = open(\"task_result.txt\", \"w\")\n",
        "for solution in Convolution(spectrum):\n",
        "  f.write(str(solution) + ' ')\n",
        "f.close()"
      ],
      "metadata": {
        "id": "5fNP7-n4lOk_"
      },
      "execution_count": 17,
      "outputs": []
    }
  ]
}