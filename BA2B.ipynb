{
  "nbformat": 4,
  "nbformat_minor": 0,
  "metadata": {
    "colab": {
      "name": "BA2B.ipynb",
      "provenance": [],
      "collapsed_sections": []
    },
    "kernelspec": {
      "name": "python3",
      "display_name": "Python 3"
    },
    "language_info": {
      "name": "python"
    }
  },
  "cells": [
    {
      "cell_type": "code",
      "source": [
        "def HammingDistance(string1, string2):\n",
        "  counter = 0\n",
        "  if len(string1) > len(string2):\n",
        "    for i in range(len(string2)):\n",
        "      if string1[i] != string2[i]:\n",
        "        counter = counter + 1\n",
        "    counter = counter + (len(string1) - len(string2))\n",
        "  else:\n",
        "    for i in range(len(string1)):\n",
        "      if string1[i] != string2[i]:\n",
        "        counter = counter + 1\n",
        "    counter = counter + (len(string2) - len(string1))\n",
        "  return counter"
      ],
      "metadata": {
        "id": "_yQFX8xr7BVE"
      },
      "execution_count": 23,
      "outputs": []
    },
    {
      "cell_type": "code",
      "source": [
        "def FindAllKmers(dna_string, k):\n",
        "  kmers_list = []\n",
        "  for kmer_end_index in range(k - 1, len(dna_string)):\n",
        "    kmers_list.append(dna_string[kmer_end_index + 1 - k:kmer_end_index + 1])\n",
        "  return kmers_list"
      ],
      "metadata": {
        "id": "ZYf_GA4w7Mxo"
      },
      "execution_count": 8,
      "outputs": []
    },
    {
      "cell_type": "code",
      "source": [
        "import math\n",
        "from itertools import product"
      ],
      "metadata": {
        "id": "xv6JSI4x7Wp7"
      },
      "execution_count": 10,
      "outputs": []
    },
    {
      "cell_type": "code",
      "source": [
        "def GenerateAllKmers(k):\n",
        "  return product('ACGT', repeat=k)"
      ],
      "metadata": {
        "id": "a7jd12Wy-xrR"
      },
      "execution_count": 11,
      "outputs": []
    },
    {
      "cell_type": "code",
      "source": [
        "def Distance(Dna, pattern):\n",
        "  distance = 0\n",
        "  for dna_string in Dna:\n",
        "    minimum_distance = math.inf\n",
        "    for kmer in FindAllKmers(dna_string, len(pattern)):\n",
        "      if HammingDistance(kmer, pattern) < minimum_distance:\n",
        "        minimum_distance = HammingDistance(kmer, pattern)\n",
        "    distance = distance + minimum_distance\n",
        "  return distance"
      ],
      "metadata": {
        "id": "jfsnYZIsANPR"
      },
      "execution_count": 24,
      "outputs": []
    },
    {
      "cell_type": "code",
      "source": [
        "def MedianStringProblem(Dna, k):\n",
        "  distance = math.inf\n",
        "  for kmer in GenerateAllKmers(k):\n",
        "    if distance >= Distance(Dna, ''.join(kmer)):\n",
        "      distance = Distance(Dna, ''.join(kmer))\n",
        "      median = ''.join(kmer)\n",
        "  return median     "
      ],
      "metadata": {
        "id": "8uNQuYjK7Co7"
      },
      "execution_count": 33,
      "outputs": []
    },
    {
      "cell_type": "code",
      "source": [
        "Dna = ['AAATTGACGCAT', 'GACGACCACGTT', 'CGTCAGCGCCTG', 'GCTGAGCACCGG', 'AGTACGGGACAG']"
      ],
      "metadata": {
        "id": "WxrXHfmlBOvH"
      },
      "execution_count": 34,
      "outputs": []
    },
    {
      "cell_type": "code",
      "source": [
        "k = 3"
      ],
      "metadata": {
        "id": "yl5vJRW7Bapn"
      },
      "execution_count": 35,
      "outputs": []
    },
    {
      "cell_type": "code",
      "source": [
        "MedianStringProblem(Dna, k)"
      ],
      "metadata": {
        "colab": {
          "base_uri": "https://localhost:8080/",
          "height": 35
        },
        "id": "gkqA9kiCBcAG",
        "outputId": "23ad7e88-4282-4957-fa22-f7c1733a5cde"
      },
      "execution_count": 36,
      "outputs": [
        {
          "output_type": "execute_result",
          "data": {
            "text/plain": [
              "'GAC'"
            ],
            "application/vnd.google.colaboratory.intrinsic+json": {
              "type": "string"
            }
          },
          "metadata": {},
          "execution_count": 36
        }
      ]
    },
    {
      "cell_type": "code",
      "source": [
        "k = 6"
      ],
      "metadata": {
        "id": "iN8FUmYON3wn"
      },
      "execution_count": 40,
      "outputs": []
    },
    {
      "cell_type": "code",
      "source": [
        "Dna = ['TATTGTGCGATTATTAGACCCAAGACTGATGGCGCGCTACCA', 'ATTTGACCGACCATGATCAGCAGATTACACAAGACCGCTTAA', 'TCTTAGGGTCTCCCCGTAATTAGAACGCCACGCGCTGACGGC', 'GTCGTCGCGGCTCAGAAAATTAGATCAGGCACTCATACCCTT', 'TGCGGCGATCAGGACACAATTAGAGGACGCCGTCGCTCCGGA', 'TCTCCGATTGGACTTCCAGTCGCTTTCATCATCCCGACTCTG', 'CCGATCATTGGACGTAGTCTGAATTTTTCGTGGTCTATCTGA', 'GAGTTACTGCAACCCCAGATATTCGTAATGAAGCAGATTAGA', 'GCGCCGTTCATCATTGGAGCGATCTTCGCGGATCGCAATCTT', 'GAGGGAATGTTTATTCGAGAGTATGAAAAAGGCTTGCGTGCG']"
      ],
      "metadata": {
        "id": "QpnhGpVEN7-p"
      },
      "execution_count": 41,
      "outputs": []
    },
    {
      "cell_type": "code",
      "source": [
        "MedianStringProblem(Dna, k)"
      ],
      "metadata": {
        "colab": {
          "base_uri": "https://localhost:8080/",
          "height": 35
        },
        "id": "mZsG6vcWORVk",
        "outputId": "82361ec4-e547-41ad-e664-c06ce93d53aa"
      },
      "execution_count": 42,
      "outputs": [
        {
          "output_type": "execute_result",
          "data": {
            "text/plain": [
              "'ATTAGA'"
            ],
            "application/vnd.google.colaboratory.intrinsic+json": {
              "type": "string"
            }
          },
          "metadata": {},
          "execution_count": 42
        }
      ]
    },
    {
      "cell_type": "code",
      "source": [
        "k = 6"
      ],
      "metadata": {
        "id": "SqbFqZcbOicV"
      },
      "execution_count": 44,
      "outputs": []
    },
    {
      "cell_type": "code",
      "source": [
        "Dna = ['TTCATCGCGATAAATGAATCACAGTTGCTGCTTCCCGTCAAT', 'GGCGTGTAACCGTATCGTAGTTAAGACTCCCTCAATAGACTA', 'TTCAATGCACTACTCCAGTGCCCGCCCATAAGTCCGGACTTA', 'GAGTTCATCGCTGGACTGTTCAATAGCGCTACTCCCTCCGGA', 'GGTTTAGACTTGGGATGGTACTTCGTCAATAACTCGTCTAAC', 'CAGGAGGTCCCTGTTGCCGCATCACAGTGAAGGTAAATCAAT', 'CGAACCTGAGCTGGTGAAGTTGTCTACACCCGTGCAGTCAAT', 'ATCAATACAGGGGCTCCAGAATTGTTCAGCAGTGGACACCCC', 'TTTAAATGCGACTGCGCGACCAGGATTGAAATGGGGCTCAAT', 'GGCCGTGAGCTTGTCAATTCGATGTGAGGTACTTGATTGCCA']"
      ],
      "metadata": {
        "id": "YuXtsYtDOjFk"
      },
      "execution_count": 45,
      "outputs": []
    },
    {
      "cell_type": "code",
      "source": [
        "MedianStringProblem(Dna, k)"
      ],
      "metadata": {
        "colab": {
          "base_uri": "https://localhost:8080/",
          "height": 35
        },
        "id": "qZtJ_y9KO_FV",
        "outputId": "be3b5fc8-f19b-4902-9133-373035e099c8"
      },
      "execution_count": 46,
      "outputs": [
        {
          "output_type": "execute_result",
          "data": {
            "text/plain": [
              "'GTCAAT'"
            ],
            "application/vnd.google.colaboratory.intrinsic+json": {
              "type": "string"
            }
          },
          "metadata": {},
          "execution_count": 46
        }
      ]
    }
  ]
}