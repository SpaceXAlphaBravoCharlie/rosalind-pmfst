{
  "nbformat": 4,
  "nbformat_minor": 0,
  "metadata": {
    "colab": {
      "name": "BA2B.ipynb",
      "provenance": [],
      "collapsed_sections": []
    },
    "kernelspec": {
      "name": "python3",
      "display_name": "Python 3"
    },
    "language_info": {
      "name": "python"
    }
  },
  "cells": [
    {
      "cell_type": "code",
      "source": [
        "def HammingDistance(first_string, second_string):\n",
        "  hamming_distance = 0\n",
        "  for i in range(min(len(first_string),len(second_string))):\n",
        "    if first_string[i] != second_string[i]:\n",
        "      hamming_distance = hamming_distance + 1\n",
        "  return hamming_distance + abs(len(first_string) - len(second_string))"
      ],
      "metadata": {
        "id": "_yQFX8xr7BVE"
      },
      "execution_count": 21,
      "outputs": []
    },
    {
      "cell_type": "code",
      "source": [
        "def FindAllKmers(dna_string, k):\n",
        "  kmers_list = []\n",
        "  i = 0\n",
        "  while i + k - 1 <= len(dna_string) - 1:\n",
        "    kmers_list.append(dna_string[i:i+k])\n",
        "    i = i + 1\n",
        "  return kmers_list"
      ],
      "metadata": {
        "id": "ZYf_GA4w7Mxo"
      },
      "execution_count": 22,
      "outputs": []
    },
    {
      "cell_type": "code",
      "source": [
        "import math\n",
        "from itertools import product"
      ],
      "metadata": {
        "id": "xv6JSI4x7Wp7"
      },
      "execution_count": 23,
      "outputs": []
    },
    {
      "cell_type": "code",
      "source": [
        "def GenerateAllKmers(k):\n",
        "  return product('ACGT', repeat=k)"
      ],
      "metadata": {
        "id": "a7jd12Wy-xrR"
      },
      "execution_count": 24,
      "outputs": []
    },
    {
      "cell_type": "code",
      "source": [
        "def Distance(dna, pattern):\n",
        "  distance = 0\n",
        "  for dna_string in dna:\n",
        "    minimum_distance = math.inf\n",
        "    for kmer in FindAllKmers(dna_string, len(pattern)):\n",
        "      if HammingDistance(kmer, pattern) < minimum_distance:\n",
        "        minimum_distance = HammingDistance(kmer, pattern)\n",
        "    distance = distance + minimum_distance\n",
        "  return distance"
      ],
      "metadata": {
        "id": "jfsnYZIsANPR"
      },
      "execution_count": 35,
      "outputs": []
    },
    {
      "cell_type": "code",
      "source": [
        "def MedianString(dna, k):\n",
        "  distance = math.inf\n",
        "  for kmer in GenerateAllKmers(k):\n",
        "    if distance >= Distance(dna,''.join(kmer)):\n",
        "      distance = Distance(dna,''.join(kmer))\n",
        "      median = ''.join(kmer)\n",
        "  return median"
      ],
      "metadata": {
        "id": "8uNQuYjK7Co7"
      },
      "execution_count": 37,
      "outputs": []
    },
    {
      "cell_type": "code",
      "source": [
        "dna = ['AAATTGACGCAT', 'GACGACCACGTT', 'CGTCAGCGCCTG', 'GCTGAGCACCGG', 'AGTACGGGACAG']"
      ],
      "metadata": {
        "id": "WxrXHfmlBOvH"
      },
      "execution_count": 30,
      "outputs": []
    },
    {
      "cell_type": "code",
      "source": [
        "k = 3"
      ],
      "metadata": {
        "id": "yl5vJRW7Bapn"
      },
      "execution_count": 31,
      "outputs": []
    },
    {
      "cell_type": "code",
      "source": [
        "MedianString(dna, k)"
      ],
      "metadata": {
        "colab": {
          "base_uri": "https://localhost:8080/",
          "height": 36
        },
        "id": "gkqA9kiCBcAG",
        "outputId": "1d208671-4ca8-4664-c768-9b1b02a51c77"
      },
      "execution_count": 38,
      "outputs": [
        {
          "output_type": "execute_result",
          "data": {
            "text/plain": [
              "'GAC'"
            ],
            "application/vnd.google.colaboratory.intrinsic+json": {
              "type": "string"
            }
          },
          "metadata": {},
          "execution_count": 38
        }
      ]
    },
    {
      "cell_type": "code",
      "source": [
        "with open('/content/rosalind_ba2b.txt') as task_file:\n",
        "  task_arguments = [line.rstrip() for line in task_file]"
      ],
      "metadata": {
        "id": "fS3Ft9kEBXxI"
      },
      "execution_count": 39,
      "outputs": []
    },
    {
      "cell_type": "code",
      "source": [
        "k = int(task_arguments[0])"
      ],
      "metadata": {
        "id": "wlh1o-o4Bapc"
      },
      "execution_count": 43,
      "outputs": []
    },
    {
      "cell_type": "code",
      "source": [
        "dna = task_arguments[1:len(task_arguments)]"
      ],
      "metadata": {
        "id": "jf-VkrIMBcxU"
      },
      "execution_count": 45,
      "outputs": []
    },
    {
      "cell_type": "code",
      "source": [
        "f = open(\"task_result.txt\", \"w\")\n",
        "for solution in MedianString(dna, k):\n",
        "  f.write(solution)\n",
        "f.close()"
      ],
      "metadata": {
        "id": "p5BgHySUBesV"
      },
      "execution_count": 47,
      "outputs": []
    }
  ]
}