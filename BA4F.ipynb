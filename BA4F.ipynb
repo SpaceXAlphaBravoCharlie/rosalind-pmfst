{
  "nbformat": 4,
  "nbformat_minor": 0,
  "metadata": {
    "colab": {
      "name": "BA4F.ipynb",
      "provenance": []
    },
    "kernelspec": {
      "name": "python3",
      "display_name": "Python 3"
    },
    "language_info": {
      "name": "python"
    }
  },
  "cells": [
    {
      "cell_type": "code",
      "source": [
        "def FindAllKmers(peptide,k):\n",
        "  kmers_list = []\n",
        "  i = 0\n",
        "  while i + k - 1 <= len(peptide)-1:\n",
        "    kmers_list.append(peptide[i:i+k])\n",
        "    i = i + 1\n",
        "  while i <= len(peptide) - 1:\n",
        "    kmers_list.append(peptide[i:len(peptide)] + peptide[0:k-len(peptide[i:len(peptide)])])\n",
        "    i = i + 1\n",
        "  return kmers_list"
      ],
      "metadata": {
        "id": "nNiZGUp3DgoC"
      },
      "execution_count": 13,
      "outputs": []
    },
    {
      "cell_type": "code",
      "source": [
        "def GenerateAllSubpeptides(peptide):\n",
        "  subpeptides = []\n",
        "  for subpeptide_length in range(1,len(peptide)):\n",
        "    subpeptides.extend(FindAllKmers(peptide,subpeptide_length))\n",
        "  subpeptides.append(peptide)\n",
        "  return subpeptides"
      ],
      "metadata": {
        "id": "bkjK-q34Dowy"
      },
      "execution_count": 14,
      "outputs": []
    },
    {
      "cell_type": "code",
      "source": [
        "aminoacids_integer_masses_dict = {'A':71.03711,\n",
        "'R':156.10111,\n",
        "'N':114.04293,\n",
        "'D':115.02694,\n",
        "'C':103.00919,\n",
        "'E':129.04259,\n",
        "'Q':128.05858,\n",
        "'G':57.02146,\n",
        "'H':137.05891,\n",
        "'I':113.08406,\n",
        "'L':113.08406,\n",
        "'K':128.09496,\n",
        "'M':131.04049,\n",
        "'F':147.06841,\n",
        "'P':97.05276,\n",
        "'S':87.03203,\n",
        "'T':101.04768,\n",
        "'W':186.07931,\n",
        "'Y':163.06333,\n",
        "'V':99.06841}"
      ],
      "metadata": {
        "id": "6hbFCRiGDsmj"
      },
      "execution_count": 15,
      "outputs": []
    },
    {
      "cell_type": "code",
      "source": [
        "for key in aminoacids_integer_masses_dict:\n",
        "  aminoacids_integer_masses_dict[key] = int(aminoacids_integer_masses_dict[key])"
      ],
      "metadata": {
        "id": "1u64_ukTDuCM"
      },
      "execution_count": 16,
      "outputs": []
    },
    {
      "cell_type": "markdown",
      "source": [
        "The theoretical spectrum of a cyclic peptide Peptide is the collection of all of the masses\n",
        "of its subpeptides, in addition to the mass 0 and the mass of the entire peptide, with\n",
        "masses ordered from smallest to largest. We will assume that the theoretical spectrum can contain duplicate elements"
      ],
      "metadata": {
        "id": "9A7sAkvFD2rI"
      }
    },
    {
      "cell_type": "code",
      "source": [
        "def CycloSpectrum(peptide):\n",
        "  subpeptides = GenerateAllSubpeptides(peptide)\n",
        "  theoretical_spectrum = [0]\n",
        "  for subpeptide in subpeptides:\n",
        "    subpeptide_mass = 0\n",
        "    for aminoacid in subpeptide:\n",
        "      subpeptide_mass = subpeptide_mass + aminoacids_integer_masses_dict[aminoacid]\n",
        "    theoretical_spectrum.append(subpeptide_mass)\n",
        "  return sorted(theoretical_spectrum)"
      ],
      "metadata": {
        "id": "kYJYMUIXDuYX"
      },
      "execution_count": 17,
      "outputs": []
    },
    {
      "cell_type": "markdown",
      "source": [
        "Theoretical: 0 113 114 128 129 227 242 242 257 355 356 370 371 484 --> theoretical\n",
        "\n",
        "Experimental: 0 99 113 114 128 227 257 299 355 356 370 371 484 --> experimental\n",
        "\n",
        "99 --> false mass\n",
        "\n",
        "129 --> missing mass"
      ],
      "metadata": {
        "id": "b0lA9bU3H5w7"
      }
    },
    {
      "cell_type": "markdown",
      "source": [
        "Given a cyclic peptide Peptide and a spectrum Spectrum, we define SCORE(Peptide, Spectrum) as the number of masses shared between\n",
        "CYCLOSPECTRUM(Peptide) and Spectrum --> ako je neka atomska masa zastupljena isti broj puta u teoretskom spektru i eksperimentalnom spektru, onda scoreu dodamo taj broj, ako je neka atomska masa zastupljena veći broj puta u eksperimentalnom spektru nego u teoretskom spektru i ako je broj pojavljivanja u teoretskom spektru > 0, odna scoreu dodamo broj pojavljivanja atomske mase u teoretskom spektru (toliko pojavljivanja te atomske mase dijele), ako je broj pojavljivanja neke atomske mase veći u teoretskom spektru nego u eksperimentalnom spektru, onda scoreu dodamo broj pojavljivanja atomske mase u eksperimentalnom spektru (toliko pojavljivanja te atomske mase dijele)\n",
        "\n",
        "Ako je neka atomska masa zastupljena isti broj puta u teoretskom spektru i u eksperimentalnom spektru, onda teoretski spektar i eksperimentalni spektar imaju isti broj ponavljanja te mase, odnosno dijele tu masu. Ako neka atomska masa nije zastupljena isti broj puta u teoretskom spektru i u eksperimentalnom spektru, onda ili teoretski ili eksperimentalni spektar ima veći broj ponavljanja te mase. Eksperimentalni spektar može imati veći broj ponavljanja mase od teoretskog spektra pa su višak lažne mase. Eksperimentalni spektar može imati manji broj ponavljanja neke mase od teoretskog spektra pa je broj ponavljanja t.s. - broj ponavljanja e.s. masa iz teoretskog spektra mase koje fale."
      ],
      "metadata": {
        "id": "YhS-5-f2MzgH"
      }
    },
    {
      "cell_type": "code",
      "source": [
        "from collections import Counter"
      ],
      "metadata": {
        "id": "AaCj_GFABzAS"
      },
      "execution_count": 18,
      "outputs": []
    },
    {
      "cell_type": "code",
      "source": [
        "def CyclicPeptideScoring(peptide,spectrum): #the score is computed for spectrum against peptide's theoretical spectrum\n",
        "  peptide_theoretical_spectrum = CycloSpectrum(peptide)\n",
        "  peptide_theoretical_spectrum_counter_dict = Counter(peptide_theoretical_spectrum)\n",
        "  spectrum_counter_dict = Counter(spectrum)\n",
        "  score = 0\n",
        "  scored_aminoacid_integer_masses = []\n",
        "  for aminoacid_integer_mass in spectrum:\n",
        "    if aminoacid_integer_mass not in scored_aminoacid_integer_masses:\n",
        "      if spectrum_counter_dict[aminoacid_integer_mass] == peptide_theoretical_spectrum_counter_dict[aminoacid_integer_mass]: #same number of occurences of integer mass in theoretical spectrum and given spectrum\n",
        "        score = score + spectrum_counter_dict[aminoacid_integer_mass]\n",
        "        scored_aminoacid_integer_masses.append(aminoacid_integer_mass)\n",
        "      elif spectrum_counter_dict[aminoacid_integer_mass] > peptide_theoretical_spectrum_counter_dict[aminoacid_integer_mass]:\n",
        "        if peptide_theoretical_spectrum_counter_dict[aminoacid_integer_mass] > 0: #if peptide_theoretical_spectrum_counter_dict[aminoacid_integer_mass] > 0 then there are surpluss occurences of same mass in experimental spectrum --> there are false masses in spectrum\n",
        "          score = score + peptide_theoretical_spectrum_counter_dict[aminoacid_integer_mass]\n",
        "          scored_aminoacid_integer_masses.append(aminoacid_integer_mass)\n",
        "      else: #spectrum_counter_dict[aminoacid_integer_mass] < peptide_theoretical_spectrum_counter_dict[aminoacid_integer_mass] --> there are surpluss occurences of same mass in theoretical spectrum --> there are missing masses in spectrum\n",
        "        score = score + spectrum_counter_dict[aminoacid_integer_mass]\n",
        "        scored_aminoacid_integer_masses.append(aminoacid_integer_mass)\n",
        "  return score"
      ],
      "metadata": {
        "id": "J7kIDlVUL8vK"
      },
      "execution_count": 23,
      "outputs": []
    },
    {
      "cell_type": "code",
      "source": [
        "peptide = 'NQEL'"
      ],
      "metadata": {
        "id": "f5Joo4IQD60y"
      },
      "execution_count": 24,
      "outputs": []
    },
    {
      "cell_type": "code",
      "source": [
        "spectrum = [0, 99, 113, 114, 128, 227, 257, 299, 355, 356, 370, 371, 484]"
      ],
      "metadata": {
        "id": "CPQdImEMD_-r"
      },
      "execution_count": 25,
      "outputs": []
    },
    {
      "cell_type": "code",
      "source": [
        "CyclicPeptideScoring(peptide,spectrum)"
      ],
      "metadata": {
        "colab": {
          "base_uri": "https://localhost:8080/"
        },
        "id": "HfuDDFW0MhNS",
        "outputId": "e9638e79-549c-4bd9-9e0f-6574b59597dc"
      },
      "execution_count": 26,
      "outputs": [
        {
          "output_type": "execute_result",
          "data": {
            "text/plain": [
              "11"
            ]
          },
          "metadata": {},
          "execution_count": 26
        }
      ]
    },
    {
      "cell_type": "code",
      "source": [
        "with open('/content/rosalind_ba4f.txt') as task_file:\n",
        "  task_arguments = [line.rstrip() for line in task_file]"
      ],
      "metadata": {
        "id": "X_onQUfCDspf"
      },
      "execution_count": 28,
      "outputs": []
    },
    {
      "cell_type": "code",
      "source": [
        "peptide = task_arguments[0]"
      ],
      "metadata": {
        "id": "1rp-_UYsDzdj"
      },
      "execution_count": 32,
      "outputs": []
    },
    {
      "cell_type": "code",
      "source": [
        "spectrum = task_arguments[1]\n",
        "spectrum = spectrum.split(' ')\n",
        "for i in range(len(spectrum)):\n",
        "  spectrum[i] = int(spectrum[i])"
      ],
      "metadata": {
        "id": "znpUaGAwQLjG"
      },
      "execution_count": 33,
      "outputs": []
    },
    {
      "cell_type": "code",
      "source": [
        "f = open(\"task_result.txt\",\"w\")\n",
        "f.write(str(CyclicPeptideScoring(peptide,spectrum)))\n",
        "f.close()"
      ],
      "metadata": {
        "id": "Iec8UBulQyAI"
      },
      "execution_count": 36,
      "outputs": []
    }
  ]
}