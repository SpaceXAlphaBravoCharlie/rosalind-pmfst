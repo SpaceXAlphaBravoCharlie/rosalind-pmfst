{
  "nbformat": 4,
  "nbformat_minor": 0,
  "metadata": {
    "colab": {
      "name": "BA4F.ipynb",
      "provenance": []
    },
    "kernelspec": {
      "name": "python3",
      "display_name": "Python 3"
    },
    "language_info": {
      "name": "python"
    }
  },
  "cells": [
    {
      "cell_type": "code",
      "source": [
        "def FindAllKmers(peptide,k):\n",
        "  kmers_list = []\n",
        "  i = 0\n",
        "  while i + k - 1 <= len(peptide)-1:\n",
        "    kmers_list.append(peptide[i:i+k])\n",
        "    i = i + 1\n",
        "  while i <= len(peptide) - 1:\n",
        "    kmers_list.append(peptide[i:len(peptide)] + peptide[0:k-len(peptide[i:len(peptide)])])\n",
        "    i = i + 1\n",
        "  return kmers_list"
      ],
      "metadata": {
        "id": "nNiZGUp3DgoC"
      },
      "execution_count": 8,
      "outputs": []
    },
    {
      "cell_type": "code",
      "source": [
        "def GenerateAllSubpeptides(peptide):\n",
        "  subpeptides = []\n",
        "  for subpeptide_length in range(1,len(peptide)):\n",
        "    subpeptides.extend(FindAllKmers(peptide,subpeptide_length))\n",
        "  subpeptides.append(peptide)\n",
        "  return subpeptides"
      ],
      "metadata": {
        "id": "bkjK-q34Dowy"
      },
      "execution_count": 9,
      "outputs": []
    },
    {
      "cell_type": "code",
      "source": [
        "def CycloSpectrum(peptide):\n",
        "  subpeptides = GenerateAllSubpeptides(peptide)"
      ],
      "metadata": {
        "id": "-2FBLB5oDp7v"
      },
      "execution_count": 10,
      "outputs": []
    },
    {
      "cell_type": "code",
      "source": [
        "aminoacids_integer_masses_dict = {'A':71.03711,\n",
        "'R':156.10111,\n",
        "'N':114.04293,\n",
        "'D':115.02694,\n",
        "'C':103.00919,\n",
        "'E':129.04259,\n",
        "'Q':128.05858,\n",
        "'G':57.02146,\n",
        "'H':137.05891,\n",
        "'I':113.08406,\n",
        "'L':113.08406,\n",
        "'K':128.09496,\n",
        "'M':131.04049,\n",
        "'F':147.06841,\n",
        "'P':97.05276,\n",
        "'S':87.03203,\n",
        "'T':101.04768,\n",
        "'W':186.07931,\n",
        "'Y':163.06333,\n",
        "'V':99.06841}"
      ],
      "metadata": {
        "id": "6hbFCRiGDsmj"
      },
      "execution_count": 11,
      "outputs": []
    },
    {
      "cell_type": "code",
      "source": [
        "for key in aminoacids_integer_masses_dict:\n",
        "  aminoacids_integer_masses_dict[key] = int(aminoacids_integer_masses_dict[key])"
      ],
      "metadata": {
        "id": "1u64_ukTDuCM"
      },
      "execution_count": 12,
      "outputs": []
    },
    {
      "cell_type": "markdown",
      "source": [
        "The theoretical spectrum of a cyclic peptide Peptide is the collection of all of the masses\n",
        "of its subpeptides, in addition to the mass 0 and the mass of the entire peptide, with\n",
        "masses ordered from smallest to largest. We will assume that the theoretical spectrum can contain duplicate elements"
      ],
      "metadata": {
        "id": "9A7sAkvFD2rI"
      }
    },
    {
      "cell_type": "code",
      "source": [
        "def CycloSpectrum(peptide):\n",
        "  subpeptides = GenerateAllSubpeptides(peptide)\n",
        "  theoretical_spectrum = [0]\n",
        "  for subpeptide in subpeptides:\n",
        "    subpeptide_mass = 0\n",
        "    for aminoacid in subpeptide:\n",
        "      subpeptide_mass = subpeptide_mass + aminoacids_integer_masses_dict[aminoacid]\n",
        "    theoretical_spectrum.append(subpeptide_mass)\n",
        "  return sorted(theoretical_spectrum)"
      ],
      "metadata": {
        "id": "kYJYMUIXDuYX"
      },
      "execution_count": 13,
      "outputs": []
    },
    {
      "cell_type": "code",
      "source": [
        "from collections import Counter"
      ],
      "metadata": {
        "id": "vgAL9oVtFCMn"
      },
      "execution_count": 4,
      "outputs": []
    },
    {
      "cell_type": "markdown",
      "source": [
        "Theoretical: 0 113 114 128 129 227 242 242 257 355 356 370 371 484 --> theoretical\n",
        "\n",
        "Experimental: 0 99 113 114 128 227 257 299 355 356 370 371 484 --> experimental\n",
        "\n",
        "99 --> false mass\n",
        "\n",
        "129 --> missing mass"
      ],
      "metadata": {
        "id": "b0lA9bU3H5w7"
      }
    },
    {
      "cell_type": "markdown",
      "source": [
        "Given a cyclic peptide Peptide and a spectrum Spectrum, we define SCORE(Peptide, Spectrum) as the number of masses shared between\n",
        "CYCLOSPECTRUM(Peptide) and Spectrum --> ako je neka atomska masa zastupljena isti broj puta u teoretskom spektru i eksperimetnalnom spektru, onda scoreu dodamo taj broj, ako nije ne dodajemo ništa\n",
        "\n",
        "Ako je neka atomska masa zastupljena isti broj puta u teoretskom spektru i u eksperimentalnom spektru, onda teoretski spektar i eksperimentalni spektar imaju isti broj ponavljanja te mase, odnosno dijele tu masu. Ako neka atomska masa nije zastupljena isti broj puta u teoretskom spektru i u eksperimentalnom spektru, onda ili teoretski ili eksperimentalni spektar ima veći broj ponavljanja te mase. Eksperimentalni spektar može imati veći broj ponavljanja mase od teoretskog spektra pa su višak lažne mase. Eksperimentalni spektar može imati manji broj ponavljanja neke mase od teoretskog spektra pa je broj ponavljanja t.s. - broj ponavljanja e.s. masa iz teoretskog spektra mase koje fale."
      ],
      "metadata": {
        "id": "YhS-5-f2MzgH"
      }
    },
    {
      "cell_type": "code",
      "source": [
        "def CyclicPeptideScoring(peptide,spectrum): #the score is computed for spectrum against peptide's theoretical spectrum\n",
        "  peptide_theoretical_spectrum = CycloSpectrum(peptide)\n",
        "  peptide_theoretical_spectrum_counter_dict = Counter(peptide_theoretical_spectrum)\n",
        "  spectrum_counter_dict = Counter(spectrum)\n",
        "  score = 0\n",
        "  scored_aminoacid_integer_masses = []\n",
        "  for aminoacid_integer_mass in spectrum:\n",
        "    if aminoacid_integer_mass not in scored_aminoacid_integer_masses:\n",
        "      if spectrum_counter_dict[aminoacid_integer_mass] == peptide_theoretical_spectrum_counter_dict[aminoacid_integer_mass]:\n",
        "        score = score + spectrum_counter_dict[aminoacid_integer_mass]\n",
        "        scored_aminoacid_integer_masses.append(aminoacid_integer_mass)\n",
        "      elif spectrum_counter_dict[aminoacid_integer_mass] > peptide_theoretical_spectrum_counter_dict[aminoacid_integer_mass]:\n",
        "        if peptide_theoretical_spectrum_counter_dict[aminoacid_integer_mass] > 0: #if peptide_theoretical_spectrum_counter_dict[aminoacid_integer_mass] > 0 then there are surpluss occurences of same mass in experimental spectrum\n",
        "          score = score + peptide_theoretical_spectrum_counter_dict[aminoacid_integer_mass]\n",
        "          scored_aminoacid_integer_masses.append(aminoacid_integer_mass)\n",
        "      else: #spectrum_counter_dict[aminoacid_integer_mass] < peptide_theoretical_spectrum_counter_dict[aminoacid_integer_mass] --> there are surpluss occurences of same mass in theoretical spectrum\n",
        "        if spectrum_counter_dict[aminoacid_integer_mass] > 0:\n",
        "          score = score + spectrum_counter_dict[aminoacid_integer_mass]\n",
        "          scored_aminoacid_integer_masses.append(aminoacid_integer_mass)\n",
        "  return score"
      ],
      "metadata": {
        "id": "J7kIDlVUL8vK"
      },
      "execution_count": 27,
      "outputs": []
    },
    {
      "cell_type": "code",
      "source": [
        "peptide = 'NQEL'"
      ],
      "metadata": {
        "id": "f5Joo4IQD60y"
      },
      "execution_count": 28,
      "outputs": []
    },
    {
      "cell_type": "code",
      "source": [
        "spectrum = [0, 99, 113, 114, 128, 227, 257, 299, 355, 356, 370, 371, 484]"
      ],
      "metadata": {
        "id": "CPQdImEMD_-r"
      },
      "execution_count": 29,
      "outputs": []
    },
    {
      "cell_type": "code",
      "source": [
        "CyclicPeptideScoring(peptide,spectrum)"
      ],
      "metadata": {
        "colab": {
          "base_uri": "https://localhost:8080/"
        },
        "id": "HfuDDFW0MhNS",
        "outputId": "5b9ef020-5278-413f-965e-a78d3a0b0a5e"
      },
      "execution_count": 30,
      "outputs": [
        {
          "output_type": "execute_result",
          "data": {
            "text/plain": [
              "11"
            ]
          },
          "metadata": {},
          "execution_count": 30
        }
      ]
    },
    {
      "cell_type": "code",
      "source": [
        "with open('/content/rosalind_ba4f.txt') as task_file:\n",
        "  spectrum = [line.rstrip() for line in task_file]"
      ],
      "metadata": {
        "id": "znpUaGAwQLjG"
      },
      "execution_count": 32,
      "outputs": []
    },
    {
      "cell_type": "code",
      "source": [
        "spectrum = spectrum[0]"
      ],
      "metadata": {
        "id": "9mkfjYJZQqvA"
      },
      "execution_count": 34,
      "outputs": []
    },
    {
      "cell_type": "code",
      "source": [
        "spectrum = spectrum.split(' ')"
      ],
      "metadata": {
        "id": "fVanRb1bQtBY"
      },
      "execution_count": 35,
      "outputs": []
    },
    {
      "cell_type": "code",
      "source": [
        "for i in range(len(spectrum)):\n",
        "  spectrum[i] = int(spectrum[i])"
      ],
      "metadata": {
        "id": "Xhu06LmlQvE8"
      },
      "execution_count": 36,
      "outputs": []
    },
    {
      "cell_type": "code",
      "source": [
        "peptide = 'NRTWEFVLVYQCTIAYATNRETWCYTLVRWNCMGP'"
      ],
      "metadata": {
        "id": "bm8EQahZQOJ-"
      },
      "execution_count": 31,
      "outputs": []
    },
    {
      "cell_type": "code",
      "source": [
        "CyclicPeptideScoring(peptide,spectrum)"
      ],
      "metadata": {
        "colab": {
          "base_uri": "https://localhost:8080/"
        },
        "id": "Iec8UBulQyAI",
        "outputId": "edd8a5a9-9eee-4af2-9bc5-fc3c9185ed10"
      },
      "execution_count": 38,
      "outputs": [
        {
          "output_type": "execute_result",
          "data": {
            "text/plain": [
              "330"
            ]
          },
          "metadata": {},
          "execution_count": 38
        }
      ]
    }
  ]
}