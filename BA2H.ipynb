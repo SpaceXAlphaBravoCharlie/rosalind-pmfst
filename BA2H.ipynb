{
  "nbformat": 4,
  "nbformat_minor": 0,
  "metadata": {
    "colab": {
      "name": "BA2H.ipynb",
      "provenance": []
    },
    "kernelspec": {
      "name": "python3",
      "display_name": "Python 3"
    },
    "language_info": {
      "name": "python"
    }
  },
  "cells": [
    {
      "cell_type": "code",
      "source": [
        "from math import inf"
      ],
      "metadata": {
        "id": "j8hfd7XiRUoo"
      },
      "execution_count": 3,
      "outputs": []
    },
    {
      "cell_type": "code",
      "source": [
        "def FindAllKmers(dna_string, k):\n",
        "  kmers_list = []\n",
        "  i = 0\n",
        "  while i + k - 1 <= len(dna_string) - 1:\n",
        "    kmers_list.append(dna_string[i:i+k])\n",
        "    i = i + 1\n",
        "  return kmers_list"
      ],
      "metadata": {
        "id": "deOoW9z3RYRh"
      },
      "execution_count": 4,
      "outputs": []
    },
    {
      "cell_type": "code",
      "source": [
        "def HammingDistance(first_string, second_string):\n",
        "  hamming_distance = 0\n",
        "  for i in range(min(len(first_string),len(second_string))):\n",
        "    if first_string[i] != second_string[i]:\n",
        "      hamming_distance = hamming_distance + 1\n",
        "  return hamming_distance + abs(len(first_string) - len(second_string))"
      ],
      "metadata": {
        "id": "WSyNXVWtRgA9"
      },
      "execution_count": 5,
      "outputs": []
    },
    {
      "cell_type": "code",
      "source": [
        "def DistanceBetweenPatternAndStrings(dna, pattern):\n",
        "  distance = 0\n",
        "  for dna_string in dna:\n",
        "    minimum_distance = inf\n",
        "    for kmer in FindAllKmers(dna_string, len(pattern)):\n",
        "      if HammingDistance(kmer, pattern) < minimum_distance:\n",
        "        minimum_distance = HammingDistance(kmer, pattern)\n",
        "    distance = distance + minimum_distance\n",
        "  return distance"
      ],
      "metadata": {
        "id": "FLU_SJEKRBnJ"
      },
      "execution_count": 6,
      "outputs": []
    },
    {
      "cell_type": "code",
      "source": [
        "pattern = 'AAA'"
      ],
      "metadata": {
        "id": "JyxCRBfjRFZa"
      },
      "execution_count": 1,
      "outputs": []
    },
    {
      "cell_type": "code",
      "source": [
        "dna = ['TTACCTTAAC', 'GATATCTGTC', 'ACGGCGTTCG', 'CCCTAAAGAG', 'CGTCAGAGGT']"
      ],
      "metadata": {
        "id": "TZ2QcqhFRK4e"
      },
      "execution_count": 2,
      "outputs": []
    },
    {
      "cell_type": "code",
      "source": [
        "DistanceBetweenPatternAndStrings(dna, pattern)"
      ],
      "metadata": {
        "colab": {
          "base_uri": "https://localhost:8080/"
        },
        "id": "O2xVT0MBRoge",
        "outputId": "0ae59f01-a39b-410f-ad75-6abd10fb6a73"
      },
      "execution_count": 7,
      "outputs": [
        {
          "output_type": "execute_result",
          "data": {
            "text/plain": [
              "5"
            ]
          },
          "metadata": {},
          "execution_count": 7
        }
      ]
    },
    {
      "cell_type": "code",
      "source": [
        "with open('/content/rosalind_ba2h.txt') as task_file:\n",
        "  task_arguments = [line.rstrip() for line in task_file]"
      ],
      "metadata": {
        "id": "5yKT78hvRqv2"
      },
      "execution_count": 15,
      "outputs": []
    },
    {
      "cell_type": "code",
      "source": [
        "pattern = task_arguments[0]"
      ],
      "metadata": {
        "id": "HYoHvm6ARtz0"
      },
      "execution_count": 16,
      "outputs": []
    },
    {
      "cell_type": "code",
      "source": [
        "dna = task_arguments[1:len(task_arguments)][0]"
      ],
      "metadata": {
        "id": "FxWcYmtJRvfx"
      },
      "execution_count": 17,
      "outputs": []
    },
    {
      "cell_type": "code",
      "source": [
        "dna = dna.split(' ')"
      ],
      "metadata": {
        "id": "o-9xaDnpSEsF"
      },
      "execution_count": 18,
      "outputs": []
    },
    {
      "cell_type": "code",
      "source": [
        "f = open(\"task_result.txt\", \"w\")\n",
        "f.write(str(DistanceBetweenPatternAndStrings(dna, pattern)))\n",
        "f.close()"
      ],
      "metadata": {
        "id": "qeucHHM8RsaL"
      },
      "execution_count": 22,
      "outputs": []
    }
  ]
}