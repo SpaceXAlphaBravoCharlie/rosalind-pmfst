{
  "nbformat": 4,
  "nbformat_minor": 0,
  "metadata": {
    "colab": {
      "name": "BA5B.ipynb",
      "provenance": []
    },
    "kernelspec": {
      "name": "python3",
      "display_name": "Python 3"
    },
    "language_info": {
      "name": "python"
    }
  },
  "cells": [
    {
      "cell_type": "code",
      "execution_count": null,
      "metadata": {
        "id": "lLH-VQkpIplx"
      },
      "outputs": [],
      "source": [
        "import numpy as np"
      ]
    },
    {
      "cell_type": "code",
      "source": [
        "n = 4 #index of last row --> there are n - 0 + 1 = n + 1 = 5 rows"
      ],
      "metadata": {
        "id": "2KhfL9u9AuDu"
      },
      "execution_count": null,
      "outputs": []
    },
    {
      "cell_type": "code",
      "source": [
        "m = 4 #index of last column --> there are m - 0 + 1 = m + 1 = 5 columns"
      ],
      "metadata": {
        "id": "9jr1wIRUA80L"
      },
      "execution_count": null,
      "outputs": []
    },
    {
      "cell_type": "code",
      "source": [
        "down_matrix_values = [\n",
        "1, 0, 2, 4, 3,\n",
        "4, 6, 5, 2, 1,\n",
        "4, 4, 5, 2, 1,\n",
        "5, 6, 8, 5, 3\n",
        "]"
      ],
      "metadata": {
        "id": "jSn_kq1LB0r8"
      },
      "execution_count": null,
      "outputs": []
    },
    {
      "cell_type": "code",
      "source": [
        "down_matrix = np.resize(down_matrix_values,(n,m+1))"
      ],
      "metadata": {
        "id": "KhD0hS85A9r5"
      },
      "execution_count": null,
      "outputs": []
    },
    {
      "cell_type": "code",
      "source": [
        "right_matrix_values = [\n",
        "3, 2, 4, 0,\n",
        "3, 2, 4, 2,\n",
        "0, 7, 3, 3,\n",
        "3, 3, 0, 2,\n",
        "1, 3, 2, 2]"
      ],
      "metadata": {
        "id": "V01iCjLhCQox"
      },
      "execution_count": null,
      "outputs": []
    },
    {
      "cell_type": "code",
      "source": [
        "right_matrix = np.resize(right_matrix_values,(n+1,m))"
      ],
      "metadata": {
        "id": "0u_D4ResCHz7"
      },
      "execution_count": null,
      "outputs": []
    },
    {
      "cell_type": "code",
      "source": [
        "def MahattanTourist(n,m,down_matrix,right_matrix):\n",
        "  longest_paths_matrix = np.full((n+1,m+1),np.NINF)\n",
        "  for i in range(n+1):\n",
        "    longest_paths_matrix[i,0] = sum(down_matrix[0:i,0])\n",
        "  for j in range(m+1):\n",
        "    longest_paths_matrix[0,j] = sum(right_matrix[0,0:j])\n",
        "  for i in range(1,n+1):\n",
        "    for j in range(1,m+1):\n",
        "      longest_paths_matrix[i,j] = max(longest_paths_matrix[i-1,j] + down_matrix[i-1,j],longest_paths_matrix[i,j-1] + right_matrix[i,j-1])\n",
        "  return int(longest_paths_matrix[n,m])"
      ],
      "metadata": {
        "id": "Cgv5DncWCo3l"
      },
      "execution_count": null,
      "outputs": []
    },
    {
      "cell_type": "code",
      "source": [
        "MahattanTourist(n,m,down_matrix,right_matrix)"
      ],
      "metadata": {
        "colab": {
          "base_uri": "https://localhost:8080/"
        },
        "id": "_91B_4-nF0j8",
        "outputId": "a1a85fb0-1960-469e-b304-37c2856735ed"
      },
      "execution_count": null,
      "outputs": [
        {
          "output_type": "execute_result",
          "data": {
            "text/plain": [
              "34"
            ]
          },
          "metadata": {},
          "execution_count": 51
        }
      ]
    },
    {
      "cell_type": "code",
      "source": [
        "with open('/content/rosalind_ba5b.txt') as task_file:\n",
        "  task_arguments = [line.rstrip() for line in task_file]"
      ],
      "metadata": {
        "id": "21IWSWNOFe4e"
      },
      "execution_count": null,
      "outputs": []
    },
    {
      "cell_type": "code",
      "source": [
        "task_arguments"
      ],
      "metadata": {
        "id": "zbU9Ad-jG3oW"
      },
      "execution_count": null,
      "outputs": []
    },
    {
      "cell_type": "code",
      "source": [
        "n = int(task_arguments[0][0:2])"
      ],
      "metadata": {
        "id": "piL4e0lUXezM"
      },
      "execution_count": null,
      "outputs": []
    },
    {
      "cell_type": "code",
      "source": [
        "m = int(task_arguments[0][3:len(task_arguments[0])])"
      ],
      "metadata": {
        "id": "yIr2ec2CXihL"
      },
      "execution_count": null,
      "outputs": []
    },
    {
      "cell_type": "code",
      "source": [
        "separator_index = task_arguments.index('-')"
      ],
      "metadata": {
        "id": "F_k7LuY4HKSS"
      },
      "execution_count": null,
      "outputs": []
    },
    {
      "cell_type": "code",
      "source": [
        "down_matrix_values = task_arguments[1:separator_index]\n",
        "down_matrix_values = [int(down_matrix_values[i][j]) for i in range(len(down_matrix_values)) for j in range(len(down_matrix_values[i])) if down_matrix_values[i][j] != ' ']"
      ],
      "metadata": {
        "id": "TJgSB16CHWSM"
      },
      "execution_count": null,
      "outputs": []
    },
    {
      "cell_type": "code",
      "source": [
        "down_matrix = np.resize(down_matrix_values,(n,m+1))"
      ],
      "metadata": {
        "id": "raWzPrqSHtSP"
      },
      "execution_count": null,
      "outputs": []
    },
    {
      "cell_type": "code",
      "source": [
        "right_matrix_values = task_arguments[separator_index+1:len(task_arguments)]\n",
        "right_matrix_values = [int(right_matrix_values[i][j]) for i in range(len(right_matrix_values)) for j in range(len(right_matrix_values[i])) if right_matrix_values[i][j] != ' ']"
      ],
      "metadata": {
        "id": "IDb8-PA6Hcg-"
      },
      "execution_count": null,
      "outputs": []
    },
    {
      "cell_type": "code",
      "source": [
        "right_matrix = np.resize(right_matrix_values,(n+1,m))"
      ],
      "metadata": {
        "id": "zY70waeTHyq-"
      },
      "execution_count": null,
      "outputs": []
    },
    {
      "cell_type": "code",
      "source": [
        "f = open(\"task_result.txt\",\"w\")\n",
        "f.write(str(MahattanTourist(n,m,down_matrix,right_matrix)))\n",
        "f.close()"
      ],
      "metadata": {
        "id": "Hrac7JE9H3SI"
      },
      "execution_count": null,
      "outputs": []
    }
  ]
}