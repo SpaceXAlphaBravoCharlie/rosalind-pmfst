{
  "nbformat": 4,
  "nbformat_minor": 0,
  "metadata": {
    "colab": {
      "name": "BA5B.ipynb",
      "provenance": []
    },
    "kernelspec": {
      "name": "python3",
      "display_name": "Python 3"
    },
    "language_info": {
      "name": "python"
    }
  },
  "cells": [
    {
      "cell_type": "code",
      "execution_count": 19,
      "metadata": {
        "id": "lLH-VQkpIplx"
      },
      "outputs": [],
      "source": [
        "import numpy as np"
      ]
    },
    {
      "cell_type": "code",
      "source": [
        "n = 4 #index of last row"
      ],
      "metadata": {
        "id": "2KhfL9u9AuDu"
      },
      "execution_count": 20,
      "outputs": []
    },
    {
      "cell_type": "code",
      "source": [
        "m = 4 #index of last column"
      ],
      "metadata": {
        "id": "9jr1wIRUA80L"
      },
      "execution_count": 21,
      "outputs": []
    },
    {
      "cell_type": "code",
      "source": [
        "Down_matrix_values = [1, 0, 2, 4, 3,\n",
        "4, 6, 5, 2, 1,\n",
        "4, 4, 5, 2, 1,\n",
        "5, 6, 8, 5, 3]"
      ],
      "metadata": {
        "id": "jSn_kq1LB0r8"
      },
      "execution_count": 22,
      "outputs": []
    },
    {
      "cell_type": "code",
      "source": [
        "Down_matrix = np.resize(Down_matrix_values, (n,m+1))"
      ],
      "metadata": {
        "id": "KhD0hS85A9r5"
      },
      "execution_count": 23,
      "outputs": []
    },
    {
      "cell_type": "code",
      "source": [
        "Right_matrix_values = [3, 2, 4, 0,\n",
        "3, 2, 4, 2,\n",
        "0, 7, 3, 3,\n",
        "3, 3, 0, 2,\n",
        "1, 3, 2, 2]"
      ],
      "metadata": {
        "id": "V01iCjLhCQox"
      },
      "execution_count": 14,
      "outputs": []
    },
    {
      "cell_type": "code",
      "source": [
        "Right_matrix = np.resize(Right_matrix_values, (n+1,m))"
      ],
      "metadata": {
        "id": "but7xz6mCeRT"
      },
      "execution_count": 15,
      "outputs": []
    },
    {
      "cell_type": "code",
      "source": [
        "Right_matrix"
      ],
      "metadata": {
        "id": "QOombO8qCiCb"
      },
      "execution_count": null,
      "outputs": []
    },
    {
      "cell_type": "code",
      "source": [
        "Longest_paths_matrix = np.zeros((n+1,m+1))"
      ],
      "metadata": {
        "id": "3ds7T_v_Cpcv"
      },
      "execution_count": 26,
      "outputs": []
    },
    {
      "cell_type": "code",
      "source": [
        "Longest_paths_matrix"
      ],
      "metadata": {
        "id": "l7_8BjhUCwo8"
      },
      "execution_count": null,
      "outputs": []
    },
    {
      "cell_type": "code",
      "source": [
        "Down_matrix"
      ],
      "metadata": {
        "id": "EstYlSDRWAnV"
      },
      "execution_count": null,
      "outputs": []
    },
    {
      "cell_type": "code",
      "source": [
        "Right_matrix"
      ],
      "metadata": {
        "id": "oUion-p2XPHA"
      },
      "execution_count": null,
      "outputs": []
    },
    {
      "cell_type": "code",
      "source": [
        "def MahattanTourist(n, m, Down, Right):\n",
        "  for i in range(n+1):\n",
        "    Longest_paths_matrix[i,0] = sum(Down_matrix[0:i,0])\n",
        "  for j in range(m+1):\n",
        "    Longest_paths_matrix[0,j] = sum(Right_matrix[0,0:j])\n",
        "  for i in range(1,n+1):\n",
        "    for j in range(1,m+1):\n",
        "      Longest_paths_matrix[i,j] = max(Longest_paths_matrix[i-1,j] + Down[i-1,j], Longest_paths_matrix[i,j-1] + Right[i,j-1])\n",
        "  return int(Longest_paths_matrix[n,m])"
      ],
      "metadata": {
        "id": "Cgv5DncWCo3l"
      },
      "execution_count": 37,
      "outputs": []
    },
    {
      "cell_type": "code",
      "source": [
        "MahattanTourist(n, m, Down_matrix, Right_matrix)"
      ],
      "metadata": {
        "colab": {
          "base_uri": "https://localhost:8080/"
        },
        "id": "_91B_4-nF0j8",
        "outputId": "3d4ef518-daee-4eb0-c04e-2bdf8c240a3d"
      },
      "execution_count": 38,
      "outputs": [
        {
          "output_type": "execute_result",
          "data": {
            "text/plain": [
              "34"
            ]
          },
          "metadata": {},
          "execution_count": 38
        }
      ]
    },
    {
      "cell_type": "code",
      "source": [
        "n = 16"
      ],
      "metadata": {
        "id": "piL4e0lUXezM"
      },
      "execution_count": 80,
      "outputs": []
    },
    {
      "cell_type": "code",
      "source": [
        "m = 4"
      ],
      "metadata": {
        "id": "yIr2ec2CXihL"
      },
      "execution_count": 81,
      "outputs": []
    },
    {
      "cell_type": "code",
      "source": [
        "Down_matrix_values = list()\n",
        "with open('/content/rosalind_ba5b.txt') as task_file:\n",
        "  Down_matrix_values = [line.rstrip() for line in task_file]\n",
        "  Down_matrix_values = [int(Down_matrix_values[i][j]) for i in range(len(Down_matrix_values)) for j in range(len(Down_matrix_values[i])) if Down_matrix_values[i][j] != ' ']\n",
        "Down_matrix = np.resize(Down_matrix_values, (n,m+1))"
      ],
      "metadata": {
        "id": "vzjwYwZ_XyTz"
      },
      "execution_count": 82,
      "outputs": []
    },
    {
      "cell_type": "code",
      "source": [
        "Down_matrix_values"
      ],
      "metadata": {
        "id": "Jz1Cwyc-avBg"
      },
      "execution_count": null,
      "outputs": []
    },
    {
      "cell_type": "code",
      "source": [
        "Down_matrix"
      ],
      "metadata": {
        "id": "qxf62Jyva65m"
      },
      "execution_count": null,
      "outputs": []
    },
    {
      "cell_type": "code",
      "source": [
        "Right_matrix_values = list()\n",
        "with open('/content/rosalind_ba5b.txt') as task_file:\n",
        "  Right_matrix_values = [line.rstrip() for line in task_file]\n",
        "  Right_matrix_values = [int(Right_matrix_values[i][j]) for i in range(len(Right_matrix_values)) for j in range(len(Right_matrix_values[i])) if Right_matrix_values[i][j] != ' ']\n",
        "Right_matrix = np.resize(Right_matrix_values, (n+1,m))"
      ],
      "metadata": {
        "id": "BHwEpzPnaLz1"
      },
      "execution_count": 84,
      "outputs": []
    },
    {
      "cell_type": "code",
      "source": [
        "Right_matrix_values"
      ],
      "metadata": {
        "id": "XtNhcOhUa4wx"
      },
      "execution_count": null,
      "outputs": []
    },
    {
      "cell_type": "code",
      "source": [
        "Right_matrix"
      ],
      "metadata": {
        "id": "H4J073Zda8ff"
      },
      "execution_count": null,
      "outputs": []
    },
    {
      "cell_type": "code",
      "source": [
        "Longest_paths_matrix = np.zeros((n+1,m+1))"
      ],
      "metadata": {
        "id": "dvWv70bebIuq"
      },
      "execution_count": 89,
      "outputs": []
    },
    {
      "cell_type": "code",
      "source": [
        "Longest_paths_matrix"
      ],
      "metadata": {
        "id": "hBOhd6lsbJU3"
      },
      "execution_count": null,
      "outputs": []
    },
    {
      "cell_type": "code",
      "source": [
        "MahattanTourist(n, m, Down_matrix, Right_matrix)"
      ],
      "metadata": {
        "colab": {
          "base_uri": "https://localhost:8080/"
        },
        "id": "_a8cZrjIahjO",
        "outputId": "058ac88c-3332-47f5-981a-b15c24eff8ae"
      },
      "execution_count": 91,
      "outputs": [
        {
          "output_type": "execute_result",
          "data": {
            "text/plain": [
              "51"
            ]
          },
          "metadata": {},
          "execution_count": 91
        }
      ]
    }
  ]
}