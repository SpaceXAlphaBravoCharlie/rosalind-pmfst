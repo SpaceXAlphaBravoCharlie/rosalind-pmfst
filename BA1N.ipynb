{
  "nbformat": 4,
  "nbformat_minor": 0,
  "metadata": {
    "colab": {
      "name": "BA1N.ipynb",
      "provenance": [],
      "collapsed_sections": []
    },
    "kernelspec": {
      "name": "python3",
      "display_name": "Python 3"
    },
    "language_info": {
      "name": "python"
    }
  },
  "cells": [
    {
      "cell_type": "markdown",
      "source": [
        "Primjer: ACG, 1\n",
        "\n",
        "CCG --> susjed od ACG, HammingDistance(ACG, CCG) = 1\n",
        "\n",
        "ACG --> susjed od CCG, HammingDistance(CCG, ACG) = 1\n",
        "\n",
        "TCG --> susjed od CCG, HammingDistance(CCG, TCG) = 1\n",
        "\n",
        "HammingDistance(ACG, TCG) = 1 --> nije 2\n",
        "\n",
        "GCG --> susjed od CCG, HammingDistance(CCG, GCG) = 1\n",
        "\n",
        "HammingDistance(ACG, GCG) = 1 --> nije 2\n",
        "\n",
        "ATG --> susjed od ACG, HammingDistance(ACG, ATG) = 1\n",
        "\n",
        "CTG --> susjed od CCG, HammingDistance(CCG, ATG) = 1\n",
        "\n",
        "HammingDistance(ACG, CTG) = 2 --> jest 2\n",
        "\n",
        "Dakle, za susjeda od susjeda ne vrijedi uvijek HammingDistance > 1"
      ],
      "metadata": {
        "id": "7u7Z2-ob7Xld"
      }
    },
    {
      "cell_type": "code",
      "source": [
        "def ChangeNucletoide(nucleotide):\n",
        "  if nucleotide == 'A':\n",
        "    return ['C', 'T', 'G']\n",
        "  elif nucleotide == 'C':\n",
        "    return ['A', 'T', 'G']\n",
        "  elif nucleotide == 'G':\n",
        "    return ['A', 'C', 'T']\n",
        "  else:\n",
        "    return ['A', 'C', 'G']"
      ],
      "metadata": {
        "id": "3kulbHUBXTB2"
      },
      "execution_count": 130,
      "outputs": []
    },
    {
      "cell_type": "code",
      "source": [
        "def ImmediateNeigbors(pattern):\n",
        "  immediate_neighbors = []\n",
        "  for i in range(len(pattern)):\n",
        "    for new_value in ChangeNucletoide(pattern[i]):\n",
        "      pattern_copy = pattern.copy()\n",
        "      pattern_copy[i] = new_value\n",
        "      immediate_neighbors.append(pattern_copy)\n",
        "  return immediate_neighbors"
      ],
      "metadata": {
        "id": "0HvguF_Cwykw"
      },
      "execution_count": 131,
      "outputs": []
    },
    {
      "cell_type": "code",
      "source": [
        "def ListToString(neighbors):\n",
        "  for i in range(len(neighbors)):\n",
        "    neighbors[i] = ''.join(neighbors[i])\n",
        "  return neighbors"
      ],
      "metadata": {
        "id": "7karYV4FxYTe"
      },
      "execution_count": 148,
      "outputs": []
    },
    {
      "cell_type": "code",
      "source": [
        "def StringToList(neighbors):\n",
        "  for i in range(len(neighbors)):\n",
        "    neighbors[i] = list(neighbors[i])\n",
        "  return neighbors"
      ],
      "metadata": {
        "id": "J9jfphAd0prz"
      },
      "execution_count": 149,
      "outputs": []
    },
    {
      "cell_type": "code",
      "source": [
        "def PrintResult(neighbors):\n",
        "  result_string = ''\n",
        "  for i in range(len(neighbors)):\n",
        "    result_string = result_string + ''.join(neighbors[i]) + '\\n'\n",
        "  print(result_string)"
      ],
      "metadata": {
        "id": "KZun1IlVyNko"
      },
      "execution_count": 175,
      "outputs": []
    },
    {
      "cell_type": "code",
      "source": [
        "def RemoveDuplicates(neighbors):\n",
        "  neighbors = ListToString(neighbors)\n",
        "  neighbors = set(neighbors)\n",
        "  neighbors = list(neighbors)\n",
        "  neighbors = StringToList(neighbors)\n",
        "  return neighbors"
      ],
      "metadata": {
        "id": "IvFw-2BG1M6F"
      },
      "execution_count": 155,
      "outputs": []
    },
    {
      "cell_type": "code",
      "source": [
        "def DNeighborhoodOfString(dna_string, d):\n",
        "  neighbors = [list(dna_string)]\n",
        "  for i in range(d):\n",
        "    new_neighbors_list = []\n",
        "    for neighbor in neighbors:\n",
        "      new_neighbors_list = (ImmediateNeigbors(neighbor))\n",
        "    neighbors.extend(new_neighbors_list)\n",
        "    neighbors = RemoveDuplicates(neighbors)\n",
        "  return neighbors\n",
        "  #PrintResult(neighbors)"
      ],
      "metadata": {
        "id": "BCosw4RvszfB"
      },
      "execution_count": 185,
      "outputs": []
    },
    {
      "cell_type": "code",
      "source": [
        "dna_string = 'ACG'"
      ],
      "metadata": {
        "id": "8go9A2rQtjZG"
      },
      "execution_count": 138,
      "outputs": []
    },
    {
      "cell_type": "code",
      "source": [
        "d = 1"
      ],
      "metadata": {
        "id": "iwGQXaa4tm0D"
      },
      "execution_count": 139,
      "outputs": []
    },
    {
      "cell_type": "code",
      "source": [
        "DNeighborhoodOfString(dna_string, d)"
      ],
      "metadata": {
        "id": "BhHRzpg2RM57"
      },
      "execution_count": null,
      "outputs": []
    },
    {
      "cell_type": "code",
      "source": [
        "with open('/content/rosalind_ba1n.txt') as task_file:\n",
        "  dna_string = [line.rstrip() for line in task_file]\n",
        "dna_string = dna_string[0]"
      ],
      "metadata": {
        "id": "YmPmiFW68BKL"
      },
      "execution_count": 181,
      "outputs": []
    },
    {
      "cell_type": "code",
      "source": [
        "d = 2"
      ],
      "metadata": {
        "id": "V0ceEgxq8Sh6"
      },
      "execution_count": 182,
      "outputs": []
    },
    {
      "cell_type": "code",
      "source": [
        "f = open(\"task_result.txt\", \"w\")\n",
        "for solution in DNeighborhoodOfString(dna_string,d):\n",
        "  f.write(''.join(solution) + '\\n')\n",
        "f.close()"
      ],
      "metadata": {
        "id": "tVv076rh8TIU"
      },
      "execution_count": 186,
      "outputs": []
    }
  ]
}