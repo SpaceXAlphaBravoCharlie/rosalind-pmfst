{
  "nbformat": 4,
  "nbformat_minor": 0,
  "metadata": {
    "colab": {
      "name": "BA1N.ipynb",
      "provenance": []
    },
    "kernelspec": {
      "name": "python3",
      "display_name": "Python 3"
    },
    "language_info": {
      "name": "python"
    }
  },
  "cells": [
    {
      "cell_type": "markdown",
      "source": [
        "# Vlastita implementacija --> bez pseudokoda iz knjige"
      ],
      "metadata": {
        "id": "_5zM3HHOFYID"
      }
    },
    {
      "cell_type": "markdown",
      "source": [
        "Primjer: ACG, 1\n",
        "\n",
        "CCG --> susjed od ACG, HammingDistance(ACG, CCG) = 1\n",
        "\n",
        "ACG --> susjed od CCG, HammingDistance(CCG, ACG) = 1\n",
        "\n",
        "TCG --> susjed od CCG, HammingDistance(CCG, TCG) = 1\n",
        "\n",
        "HammingDistance(ACG, TCG) = 1 --> nije 2\n",
        "\n",
        "GCG --> susjed od CCG, HammingDistance(CCG, GCG) = 1\n",
        "\n",
        "HammingDistance(ACG, GCG) = 1 --> nije 2\n",
        "\n",
        "ATG --> susjed od ACG, HammingDistance(ACG, ATG) = 1\n",
        "\n",
        "CTG --> susjed od ACG, HammingDistance(ACG, ATG) = 1\n",
        "\n",
        "HammingDistance(ACG, CTG) = 2 --> jest 2\n"
      ],
      "metadata": {
        "id": "tJUBEiq2tSTc"
      }
    },
    {
      "cell_type": "markdown",
      "source": [
        "prvi korak --> pronađemo sve kmere za koje vrijedi da je HammingDistance(pattern, kmer) = 1\n",
        "\n",
        "drugi korak --> pronađemo sve kmere za koje vrijedi da je HammingDistance(pattern, kmer) = 2\n",
        "\n",
        "...\n",
        "\n",
        "d.-ti korak --> pronađemo sve kmere za koje vrijedi da je HammingDistance(pattern, kmer) = d\n",
        "\n",
        "Ako je HammingDistance(pattern, kmer) = 1, onda se pattern i kmer razlikuju u 1 nukleotidu\n",
        "\n",
        "Ako je HammingDistance(pattern, kmer) = 2, onda se pattern i kmer razlikuju u 2 nukletoida\n",
        "\n",
        "Ako je HammingDistance(pattern, kmer) = d, onda se pattern i kmer razlikuju u d nukleotida\n",
        "\n",
        "Pronađemo sve kmere za koje vrijedi HammingDistance(pattern, kmer) = 1, dobijemo kmer koji koji ima len(kmer) - 1 poklapanja i 1 mismatch sa patternom, dakle ima len(kmer) istih nukleotida na istim pozicijama i 1 nukleotid različit na 1 poziciji od patterna --> neki pattern i kmer se razlikuju u 2 nukleotida --> pronađemo kmer za koji vrijedi HammingDistance(pattern, kmer) = 1, kmer ima len(kmer) - 1 istih nukleotida na istim pozicijama i 1 nukleotid različit na 1 poziciji --> uzmemo taj kmer i promijenimo mu jedan nukleotid na pozicijama na kojima se poklapao sa patternom --> dobijemo kmer koji ima len(kmer) - 2 istih nukleotida na istim pozicijama i 2 različita nukleotida na 2 pozicije od patterna\n",
        "\n",
        "Zaključak --> kmere koji se razlikuju od patterna u d nukletoida dobijemo preko kmera koji se razlikuju od patterna preko (d-1)-nukleotida\n"
      ],
      "metadata": {
        "id": "b4H1_ZhTtcrg"
      }
    },
    {
      "cell_type": "code",
      "source": [
        "def ChangeNucletoide(nucleotide):\n",
        "  if nucleotide == 'A':\n",
        "    return ['C', 'T', 'G']\n",
        "  elif nucleotide == 'C':\n",
        "    return ['A', 'T', 'G']\n",
        "  elif nucleotide == 'G':\n",
        "    return ['A', 'C', 'T']\n",
        "  else:\n",
        "    return ['A', 'C', 'G']"
      ],
      "metadata": {
        "id": "cLYYYUKitcNH"
      },
      "execution_count": 1,
      "outputs": []
    },
    {
      "cell_type": "code",
      "source": [
        "def DNeighborhoodOfString(dna_string, d):\n",
        "  neighbors = list()\n",
        "  neighbors.append(list(dna_string))\n",
        "  for i in range(d):\n",
        "    if i == 0:\n",
        "      for neighbor in neighbors:\n",
        "        counter = 0\n",
        "        neighbor_copy = neighbor.copy()\n",
        "        for nucleotide in enumerate(neighbor):\n",
        "          for replacement_nucleotide in ChangeNucletoide(nucleotide[1]):\n",
        "            neighbor_copy = neighbor.copy()\n",
        "            neighbor_copy[nucleotide[0]] = replacement_nucleotide\n",
        "            neighbors.append(list(neighbor_copy))\n",
        "            counter = counter + 1\n",
        "        neighbors.append(neighbors[0])\n",
        "        neighbors.remove(neighbors[0])\n",
        "        break\n",
        "    else:\n",
        "      for neighbor in neighbors[len(neighbors) - counter:len(neighbors)]:\n",
        "          counter = 0\n",
        "          neighbor_copy = neighbor.copy()\n",
        "          for nucleotide in enumerate(neighbor):\n",
        "            for replacement_nucleotide in ChangeNucletoide(nucleotide[1]):\n",
        "              neighbor_copy = neighbor.copy()\n",
        "              neighbor_copy[nucleotide[0]] = replacement_nucleotide\n",
        "              neighbors.append(list(neighbor_copy))\n",
        "              counter = counter + 1\n",
        "    return neighbors"
      ],
      "metadata": {
        "id": "m_dSnauqGFi9"
      },
      "execution_count": 150,
      "outputs": []
    },
    {
      "cell_type": "code",
      "source": [
        "dna_string = 'ACG'"
      ],
      "metadata": {
        "id": "8go9A2rQtjZG"
      },
      "execution_count": 163,
      "outputs": []
    },
    {
      "cell_type": "code",
      "source": [
        "d = 1"
      ],
      "metadata": {
        "id": "iwGQXaa4tm0D"
      },
      "execution_count": 164,
      "outputs": []
    },
    {
      "cell_type": "code",
      "source": [
        "for neighbor in DNeighborhoodOfString(dna_string, d):\n",
        "  print(''.join(nucleotide for nucleotide in neighbor))"
      ],
      "metadata": {
        "colab": {
          "base_uri": "https://localhost:8080/"
        },
        "id": "bzbRJo3-toJo",
        "outputId": "5e51306b-f6b4-4566-d4be-27f69a18402d"
      },
      "execution_count": 165,
      "outputs": [
        {
          "output_type": "stream",
          "name": "stdout",
          "text": [
            "CCG\n",
            "TCG\n",
            "GCG\n",
            "AAG\n",
            "ATG\n",
            "AGG\n",
            "ACA\n",
            "ACC\n",
            "ACT\n",
            "ACG\n"
          ]
        }
      ]
    },
    {
      "cell_type": "code",
      "source": [
        "dna_string = 'TCAATCTTTTC'"
      ],
      "metadata": {
        "id": "q8W-VUKFr9a5"
      },
      "execution_count": 160,
      "outputs": []
    },
    {
      "cell_type": "code",
      "source": [
        "d = 2"
      ],
      "metadata": {
        "id": "JYa2U90er_JB"
      },
      "execution_count": 161,
      "outputs": []
    },
    {
      "cell_type": "code",
      "source": [
        "for neighbor in DNeighborhoodOfString(dna_string, d):\n",
        "  print(''.join(nucleotide for nucleotide in neighbor))"
      ],
      "metadata": {
        "colab": {
          "base_uri": "https://localhost:8080/"
        },
        "id": "mv6N8y0NsiBR",
        "outputId": "bb42c65e-8c60-4be5-e84f-781eb1ee14fc"
      },
      "execution_count": 162,
      "outputs": [
        {
          "output_type": "stream",
          "name": "stdout",
          "text": [
            "ACAATCTTTTC\n",
            "CCAATCTTTTC\n",
            "GCAATCTTTTC\n",
            "TAAATCTTTTC\n",
            "TTAATCTTTTC\n",
            "TGAATCTTTTC\n",
            "TCCATCTTTTC\n",
            "TCTATCTTTTC\n",
            "TCGATCTTTTC\n",
            "TCACTCTTTTC\n",
            "TCATTCTTTTC\n",
            "TCAGTCTTTTC\n",
            "TCAAACTTTTC\n",
            "TCAACCTTTTC\n",
            "TCAAGCTTTTC\n",
            "TCAATATTTTC\n",
            "TCAATTTTTTC\n",
            "TCAATGTTTTC\n",
            "TCAATCATTTC\n",
            "TCAATCCTTTC\n",
            "TCAATCGTTTC\n",
            "TCAATCTATTC\n",
            "TCAATCTCTTC\n",
            "TCAATCTGTTC\n",
            "TCAATCTTATC\n",
            "TCAATCTTCTC\n",
            "TCAATCTTGTC\n",
            "TCAATCTTTAC\n",
            "TCAATCTTTCC\n",
            "TCAATCTTTGC\n",
            "TCAATCTTTTA\n",
            "TCAATCTTTTT\n",
            "TCAATCTTTTG\n",
            "TCAATCTTTTC\n"
          ]
        }
      ]
    }
  ]
}