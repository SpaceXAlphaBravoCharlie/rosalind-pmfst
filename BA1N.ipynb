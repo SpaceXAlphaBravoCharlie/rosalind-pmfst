{
  "nbformat": 4,
  "nbformat_minor": 0,
  "metadata": {
    "colab": {
      "name": "BA1N.ipynb",
      "provenance": []
    },
    "kernelspec": {
      "name": "python3",
      "display_name": "Python 3"
    },
    "language_info": {
      "name": "python"
    }
  },
  "cells": [
    {
      "cell_type": "markdown",
      "source": [
        "Primjer: ACG, 1\n",
        "\n",
        "CCG --> susjed od ACG, HammingDistance(ACG, CCG) = 1\n",
        "\n",
        "ACG --> susjed od CCG, HammingDistance(CCG, ACG) = 1\n",
        "\n",
        "TCG --> susjed od CCG, HammingDistance(CCG, TCG) = 1\n",
        "\n",
        "HammingDistance(ACG, TCG) = 1 --> nije 2\n",
        "\n",
        "GCG --> susjed od CCG, HammingDistance(CCG, GCG) = 1\n",
        "\n",
        "HammingDistance(ACG, GCG) = 1 --> nije 2\n",
        "\n",
        "ATG --> susjed od ACG, HammingDistance(ACG, ATG) = 1\n",
        "\n",
        "CTG --> susjed od ACG, HammingDistance(ACG, ATG) = 1\n",
        "\n",
        "HammingDistance(ACG, CTG) = 2 --> jest 2\n",
        "\n"
      ],
      "metadata": {
        "id": "HadXnfvRDof5"
      }
    },
    {
      "cell_type": "markdown",
      "source": [
        "prvi korak --> pronađemo sve kmere za koje vrijedi da je HammingDistance(pattern, kmer) = 1\n",
        "\n",
        "drugi korak --> pronađemo sve kmere za koje vrijedi da je HammingDistance(pattern, kmer) = 2\n",
        "\n",
        "...\n",
        "\n",
        "d.-ti korak --> pronađemo sve kmere za koje vrijedi da je HammingDistance(pattern, kmer) = d\n",
        "\n",
        "Ako je HammingDistance(pattern, kmer) = 1, onda se pattern i kmer razlikuju u 1 nukleotidu\n",
        "\n",
        "Ako je HammingDistance(pattern, kmer) = 2, onda se pattern i kmer razlikuju u 2 nukletoida\n",
        "\n",
        "Ako je HammingDistance(pattern, kmer) = d, onda se pattern i kmer razlikuju u d nukleotida\n",
        "\n",
        "Pronađemo sve kmere za koje vrijedi HammingDistance(pattern, kmer) = 1, dobijemo kmer koji koji ima len(kmer) - 1 poklapanja i 1 mismatch sa patternom, dakle ima len(kmer) istih nukleotida na istim pozicijama i 1 nukleotid različit na 1 poziciji od patterna --> neki pattern i kmer se razlikuju u 2 nukleotida --> pronađemo kmer za koji vrijedi HammingDistance(pattern, kmer) = 1, kmer ima len(kmer) - 1 istih nukleotida na istim pozicijama i 1 nukleotid različit na 1 poziciji --> uzmemo taj kmer i promijenimo mu jedan nukleotid na pozicijama na kojima se poklapao sa patternom --> dobijemo kmer koji ima len(kmer) - 2 istih nukleotida na istim pozicijama i 2 različita nukleotida na 2 pozicije od patterna\n",
        "\n",
        "Zaključak --> kmere koji se razlikuju od patterna u d nukletoida dobijemo preko kmera koji se razlikuju od patterna preko (d-1)-nukleotida\n"
      ],
      "metadata": {
        "id": "_5zM3HHOFYID"
      }
    },
    {
      "cell_type": "code",
      "source": [
        "def ChangeNucletoide(nucleotide):\n",
        "  if nucleotide == 'A':\n",
        "    return ['C', 'T', 'G']\n",
        "  elif nucleotide == 'C':\n",
        "    return ['A', 'T', 'G']\n",
        "  elif nucleotide == 'G':\n",
        "    return ['A', 'C', 'T']\n",
        "  else:\n",
        "    return ['A', 'C', 'G']"
      ],
      "metadata": {
        "id": "cLYYYUKitcNH"
      },
      "execution_count": 7,
      "outputs": []
    },
    {
      "cell_type": "code",
      "source": [
        "def DNeighborhoodOfString(dna_string, d):\n",
        "  neighbors = list()\n",
        "  neighbors.append(list(dna_string))\n",
        "  for i in range(d):\n",
        "    if i == 0:\n",
        "      for neighbor in neighbors:\n",
        "        counter = 0\n",
        "        neighbor_copy = neighbor.copy()\n",
        "        for nucleotide in enumerate(neighbor):\n",
        "          for replacement_nucleotide in ChangeNucletoide(nucleotide[1]):\n",
        "            neighbor_copy = neighbor.copy()\n",
        "            neighbor_copy[nucleotide[0]] = replacement_nucleotide\n",
        "            neighbors.append(list(neighbor_copy))\n",
        "            counter = counter + 1\n",
        "        neighbors.append(neighbors[0])\n",
        "        neighbors.remove(neighbors[0])\n",
        "        break\n",
        "    else:\n",
        "      for neighbor in neighbors[len(neighbors) - counter:len(neighbors)]:\n",
        "          counter = 0\n",
        "          neighbor_copy = neighbor.copy()\n",
        "          for nucleotide in enumerate(neighbor):\n",
        "            for replacement_nucleotide in ChangeNucletoide(nucleotide[1]):\n",
        "              neighbor_copy = neighbor.copy()\n",
        "              neighbor_copy[nucleotide[0]] = replacement_nucleotide\n",
        "              neighbors.append(list(neighbor_copy))\n",
        "              counter = counter + 1\n",
        "    return neighbors"
      ],
      "metadata": {
        "id": "82aWs67szwXm"
      },
      "execution_count": 17,
      "outputs": []
    },
    {
      "cell_type": "code",
      "source": [
        "dna_string = 'ACG'"
      ],
      "metadata": {
        "id": "8go9A2rQtjZG"
      },
      "execution_count": 18,
      "outputs": []
    },
    {
      "cell_type": "code",
      "source": [
        "d = 1"
      ],
      "metadata": {
        "id": "iwGQXaa4tm0D"
      },
      "execution_count": 19,
      "outputs": []
    },
    {
      "cell_type": "code",
      "source": [
        "for neighbor in DNeighborhoodOfString(dna_string, d):\n",
        "  print(''.join(neighbor))"
      ],
      "metadata": {
        "colab": {
          "base_uri": "https://localhost:8080/"
        },
        "id": "bzbRJo3-toJo",
        "outputId": "156c8e6c-b5c6-43ce-c10d-8d4923598cd9"
      },
      "execution_count": 21,
      "outputs": [
        {
          "output_type": "stream",
          "name": "stdout",
          "text": [
            "CCG\n",
            "TCG\n",
            "GCG\n",
            "AAG\n",
            "ATG\n",
            "AGG\n",
            "ACA\n",
            "ACC\n",
            "ACT\n",
            "ACG\n"
          ]
        }
      ]
    },
    {
      "cell_type": "code",
      "source": [
        "dna_string = 'TGATCCAA'"
      ],
      "metadata": {
        "id": "GOscN1Z5ysXS"
      },
      "execution_count": 24,
      "outputs": []
    },
    {
      "cell_type": "code",
      "source": [
        "d = 2"
      ],
      "metadata": {
        "id": "_94lh6FXzBjL"
      },
      "execution_count": 25,
      "outputs": []
    },
    {
      "cell_type": "code",
      "source": [
        "for neighbor in DNeighborhoodOfString(dna_string, d):\n",
        "  print(''.join(neighbor))"
      ],
      "metadata": {
        "colab": {
          "base_uri": "https://localhost:8080/"
        },
        "id": "qLPec0uQzJPE",
        "outputId": "b501d2e4-6c68-4262-cabb-ea346f325b14"
      },
      "execution_count": 26,
      "outputs": [
        {
          "output_type": "stream",
          "name": "stdout",
          "text": [
            "AGATCCAA\n",
            "CGATCCAA\n",
            "GGATCCAA\n",
            "TAATCCAA\n",
            "TCATCCAA\n",
            "TTATCCAA\n",
            "TGCTCCAA\n",
            "TGTTCCAA\n",
            "TGGTCCAA\n",
            "TGAACCAA\n",
            "TGACCCAA\n",
            "TGAGCCAA\n",
            "TGATACAA\n",
            "TGATTCAA\n",
            "TGATGCAA\n",
            "TGATCAAA\n",
            "TGATCTAA\n",
            "TGATCGAA\n",
            "TGATCCCA\n",
            "TGATCCTA\n",
            "TGATCCGA\n",
            "TGATCCAC\n",
            "TGATCCAT\n",
            "TGATCCAG\n",
            "TGATCCAA\n"
          ]
        }
      ]
    },
    {
      "cell_type": "code",
      "source": [
        "dna_string = 'CGGCCATAGCG'"
      ],
      "metadata": {
        "id": "cLa54uDLzVjq"
      },
      "execution_count": 27,
      "outputs": []
    },
    {
      "cell_type": "code",
      "source": [
        "d = 2"
      ],
      "metadata": {
        "id": "FN9RP1BL0a0h"
      },
      "execution_count": 28,
      "outputs": []
    },
    {
      "cell_type": "code",
      "source": [
        "for neighbor in DNeighborhoodOfString(dna_string, d):\n",
        "  print(''.join(neighbor))"
      ],
      "metadata": {
        "colab": {
          "base_uri": "https://localhost:8080/"
        },
        "id": "M8AskDY10bl9",
        "outputId": "4df97915-d898-431a-dab3-3e30cf3dc9ad"
      },
      "execution_count": 29,
      "outputs": [
        {
          "output_type": "stream",
          "name": "stdout",
          "text": [
            "AGGCCATAGCG\n",
            "TGGCCATAGCG\n",
            "GGGCCATAGCG\n",
            "CAGCCATAGCG\n",
            "CCGCCATAGCG\n",
            "CTGCCATAGCG\n",
            "CGACCATAGCG\n",
            "CGCCCATAGCG\n",
            "CGTCCATAGCG\n",
            "CGGACATAGCG\n",
            "CGGTCATAGCG\n",
            "CGGGCATAGCG\n",
            "CGGCAATAGCG\n",
            "CGGCTATAGCG\n",
            "CGGCGATAGCG\n",
            "CGGCCCTAGCG\n",
            "CGGCCTTAGCG\n",
            "CGGCCGTAGCG\n",
            "CGGCCAAAGCG\n",
            "CGGCCACAGCG\n",
            "CGGCCAGAGCG\n",
            "CGGCCATCGCG\n",
            "CGGCCATTGCG\n",
            "CGGCCATGGCG\n",
            "CGGCCATAACG\n",
            "CGGCCATACCG\n",
            "CGGCCATATCG\n",
            "CGGCCATAGAG\n",
            "CGGCCATAGTG\n",
            "CGGCCATAGGG\n",
            "CGGCCATAGCA\n",
            "CGGCCATAGCC\n",
            "CGGCCATAGCT\n",
            "CGGCCATAGCG\n"
          ]
        }
      ]
    },
    {
      "cell_type": "code",
      "source": [
        "dna_string ='GGAATCCAACA'"
      ],
      "metadata": {
        "id": "BjL-3uem00GL"
      },
      "execution_count": 30,
      "outputs": []
    },
    {
      "cell_type": "code",
      "source": [
        "d = 2"
      ],
      "metadata": {
        "id": "UvYZXj8K02YI"
      },
      "execution_count": 31,
      "outputs": []
    },
    {
      "cell_type": "code",
      "source": [
        "for neighbor in DNeighborhoodOfString(dna_string, d):\n",
        "  print(''.join(neighbor))"
      ],
      "metadata": {
        "colab": {
          "base_uri": "https://localhost:8080/"
        },
        "id": "xcgz8UbU027-",
        "outputId": "f5dc403f-6af6-464f-f0d5-8a959da0cc6c"
      },
      "execution_count": 32,
      "outputs": [
        {
          "output_type": "stream",
          "name": "stdout",
          "text": [
            "AGAATCCAACA\n",
            "CGAATCCAACA\n",
            "TGAATCCAACA\n",
            "GAAATCCAACA\n",
            "GCAATCCAACA\n",
            "GTAATCCAACA\n",
            "GGCATCCAACA\n",
            "GGTATCCAACA\n",
            "GGGATCCAACA\n",
            "GGACTCCAACA\n",
            "GGATTCCAACA\n",
            "GGAGTCCAACA\n",
            "GGAAACCAACA\n",
            "GGAACCCAACA\n",
            "GGAAGCCAACA\n",
            "GGAATACAACA\n",
            "GGAATTCAACA\n",
            "GGAATGCAACA\n",
            "GGAATCAAACA\n",
            "GGAATCTAACA\n",
            "GGAATCGAACA\n",
            "GGAATCCCACA\n",
            "GGAATCCTACA\n",
            "GGAATCCGACA\n",
            "GGAATCCACCA\n",
            "GGAATCCATCA\n",
            "GGAATCCAGCA\n",
            "GGAATCCAAAA\n",
            "GGAATCCAATA\n",
            "GGAATCCAAGA\n",
            "GGAATCCAACC\n",
            "GGAATCCAACT\n",
            "GGAATCCAACG\n",
            "GGAATCCAACA\n"
          ]
        }
      ]
    },
    {
      "cell_type": "code",
      "source": [
        "dna_string = 'CAGACAAC'"
      ],
      "metadata": {
        "id": "KkGlRwvw1Ixg"
      },
      "execution_count": 33,
      "outputs": []
    },
    {
      "cell_type": "code",
      "source": [
        "d = 3"
      ],
      "metadata": {
        "id": "bIP3m8OY1J2b"
      },
      "execution_count": 34,
      "outputs": []
    },
    {
      "cell_type": "code",
      "source": [
        "for neighbor in DNeighborhoodOfString(dna_string, d):\n",
        "  print(''.join(neighbor))"
      ],
      "metadata": {
        "colab": {
          "base_uri": "https://localhost:8080/"
        },
        "id": "nKxv2yOE1cG5",
        "outputId": "16f42ccc-4810-4a33-9276-926e63ca37c6"
      },
      "execution_count": 35,
      "outputs": [
        {
          "output_type": "stream",
          "name": "stdout",
          "text": [
            "AAGACAAC\n",
            "TAGACAAC\n",
            "GAGACAAC\n",
            "CCGACAAC\n",
            "CTGACAAC\n",
            "CGGACAAC\n",
            "CAAACAAC\n",
            "CACACAAC\n",
            "CATACAAC\n",
            "CAGCCAAC\n",
            "CAGTCAAC\n",
            "CAGGCAAC\n",
            "CAGAAAAC\n",
            "CAGATAAC\n",
            "CAGAGAAC\n",
            "CAGACCAC\n",
            "CAGACTAC\n",
            "CAGACGAC\n",
            "CAGACACC\n",
            "CAGACATC\n",
            "CAGACAGC\n",
            "CAGACAAA\n",
            "CAGACAAT\n",
            "CAGACAAG\n",
            "CAGACAAC\n"
          ]
        }
      ]
    },
    {
      "cell_type": "code",
      "source": [
        "dna_string = 'GTGCAGCC'"
      ],
      "metadata": {
        "id": "2xKWUQAO1yso"
      },
      "execution_count": 36,
      "outputs": []
    },
    {
      "cell_type": "code",
      "source": [
        "d = 2"
      ],
      "metadata": {
        "id": "sSJzgJtH10nr"
      },
      "execution_count": 37,
      "outputs": []
    },
    {
      "cell_type": "code",
      "source": [
        "for neighbor in DNeighborhoodOfString(dna_string, d):\n",
        "  print(''.join(neighbor))"
      ],
      "metadata": {
        "colab": {
          "base_uri": "https://localhost:8080/"
        },
        "id": "GOgeA-J911wd",
        "outputId": "d621c0db-d0ba-4284-bb3d-19914d93ecee"
      },
      "execution_count": 38,
      "outputs": [
        {
          "output_type": "stream",
          "name": "stdout",
          "text": [
            "ATGCAGCC\n",
            "CTGCAGCC\n",
            "TTGCAGCC\n",
            "GAGCAGCC\n",
            "GCGCAGCC\n",
            "GGGCAGCC\n",
            "GTACAGCC\n",
            "GTCCAGCC\n",
            "GTTCAGCC\n",
            "GTGAAGCC\n",
            "GTGTAGCC\n",
            "GTGGAGCC\n",
            "GTGCCGCC\n",
            "GTGCTGCC\n",
            "GTGCGGCC\n",
            "GTGCAACC\n",
            "GTGCACCC\n",
            "GTGCATCC\n",
            "GTGCAGAC\n",
            "GTGCAGTC\n",
            "GTGCAGGC\n",
            "GTGCAGCA\n",
            "GTGCAGCT\n",
            "GTGCAGCG\n",
            "GTGCAGCC\n"
          ]
        }
      ]
    }
  ]
}