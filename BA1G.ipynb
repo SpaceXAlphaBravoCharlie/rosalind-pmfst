{
  "nbformat": 4,
  "nbformat_minor": 0,
  "metadata": {
    "colab": {
      "name": "BA1G.ipynb",
      "provenance": []
    },
    "kernelspec": {
      "name": "python3",
      "display_name": "Python 3"
    },
    "language_info": {
      "name": "python"
    }
  },
  "cells": [
    {
      "cell_type": "code",
      "execution_count": 54,
      "metadata": {
        "id": "abjPZ50TtPxx"
      },
      "outputs": [],
      "source": [
        "import numpy as np"
      ]
    },
    {
      "cell_type": "code",
      "source": [
        "def HammingDistance(first_string, second_string):\n",
        "  first_string = np.array(list(first_string))\n",
        "  second_string = np.array(list(second_string))\n",
        "  return sum(first_string[0:min(len(first_string),len(second_string))] != second_string[0:min(len(first_string),len(second_string))]) + abs(len(first_string) - len(second_string))"
      ],
      "metadata": {
        "id": "tD5UhPlt0kDD"
      },
      "execution_count": 69,
      "outputs": []
    },
    {
      "cell_type": "code",
      "source": [
        "first_string = 'GGGCCGTTGGT'"
      ],
      "metadata": {
        "id": "NPH9i-g8xHlv"
      },
      "execution_count": 73,
      "outputs": []
    },
    {
      "cell_type": "code",
      "source": [
        "second_string = 'GGACCGTTGAC'"
      ],
      "metadata": {
        "id": "4Oms0SjyxKPN"
      },
      "execution_count": 74,
      "outputs": []
    },
    {
      "cell_type": "code",
      "source": [
        "HammingDistance(first_string, second_string)"
      ],
      "metadata": {
        "colab": {
          "base_uri": "https://localhost:8080/"
        },
        "id": "uBD56bLHzrRy",
        "outputId": "ffa741cf-91c9-498e-98aa-c3405386b31a"
      },
      "execution_count": 75,
      "outputs": [
        {
          "output_type": "execute_result",
          "data": {
            "text/plain": [
              "3"
            ]
          },
          "metadata": {},
          "execution_count": 75
        }
      ]
    },
    {
      "cell_type": "code",
      "source": [
        "with open('/content/rosalind_ba1g.txt') as task_file:\n",
        "  first_string = [line.rstrip() for line in task_file]\n",
        "first_string = first_string[0]"
      ],
      "metadata": {
        "id": "jYNBCxpQ1E98"
      },
      "execution_count": 77,
      "outputs": []
    },
    {
      "cell_type": "code",
      "source": [
        "with open('/content/rosalind_ba1g.txt') as task_file:\n",
        "  second_string = [line.rstrip() for line in task_file]\n",
        "second_string = second_string[0]"
      ],
      "metadata": {
        "id": "tc0MWvdq1IlE"
      },
      "execution_count": 79,
      "outputs": []
    },
    {
      "cell_type": "code",
      "source": [
        "HammingDistance(first_string, second_string)"
      ],
      "metadata": {
        "colab": {
          "base_uri": "https://localhost:8080/"
        },
        "id": "MeDJR3et1P9j",
        "outputId": "6be8f44f-b183-4f12-ac51-c137a940dcec"
      },
      "execution_count": 81,
      "outputs": [
        {
          "output_type": "execute_result",
          "data": {
            "text/plain": [
              "889"
            ]
          },
          "metadata": {},
          "execution_count": 81
        }
      ]
    }
  ]
}