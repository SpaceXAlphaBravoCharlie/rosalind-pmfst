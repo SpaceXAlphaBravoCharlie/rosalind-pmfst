{
  "nbformat": 4,
  "nbformat_minor": 0,
  "metadata": {
    "colab": {
      "name": "BA1B.ipynb",
      "provenance": []
    },
    "kernelspec": {
      "name": "python3",
      "display_name": "Python 3"
    },
    "language_info": {
      "name": "python"
    }
  },
  "cells": [
    {
      "cell_type": "code",
      "source": [
        "from collections import Counter"
      ],
      "metadata": {
        "id": "AMBnMhmyUxtL"
      },
      "execution_count": null,
      "outputs": []
    },
    {
      "cell_type": "code",
      "source": [
        "def FindAllKmers(dna_string, pattern):\n",
        "  kmers_list = []\n",
        "  for kmer_end_index in range(len(pattern) - 1, len(dna_string)):\n",
        "    kmers_list.append(dna_string[kmer_end_index + 1 - k:kmer_end_index + 1])\n",
        "  return kmers_list"
      ],
      "metadata": {
        "id": "-El1d1lETeM8"
      },
      "execution_count": null,
      "outputs": []
    },
    {
      "cell_type": "code",
      "source": [
        "def FrequentWords(dna_string, k):\n",
        "   kmers_list = []\n",
        "   for kmer_end_index in range(k - 1, len(dna_string)):\n",
        "     kmers_list.append(dna_string[kmer_end_index + 1 - k:kmer_end_index + 1])\n",
        "   return [element[0] for element in Counter(kmers_list).most_common() if element[1] == Counter(kmers_list).most_common(1)[0][1]]"
      ],
      "metadata": {
        "id": "o5pW26DlThhc"
      },
      "execution_count": null,
      "outputs": []
    },
    {
      "cell_type": "code",
      "source": [
        "FrequentWords('ACGTTGCATGTCGCATGATGCATGAGAGCT', 4)"
      ],
      "metadata": {
        "colab": {
          "base_uri": "https://localhost:8080/"
        },
        "id": "mHk2jq5DUeKI",
        "outputId": "63a8b5ab-db33-45cf-e2a5-41de4f06cc9d"
      },
      "execution_count": null,
      "outputs": [
        {
          "output_type": "execute_result",
          "data": {
            "text/plain": [
              "['GCAT', 'CATG']"
            ]
          },
          "metadata": {},
          "execution_count": 13
        }
      ]
    },
    {
      "cell_type": "code",
      "source": [
        "dna_string = 'CCGGCACTGGGGGATCACCGGCACTCCGGCACTGAGCAAAAACATGCCCTCGGGGGATCACCGGCACTATGCCCTCGAGCAAAAACGGGGGATCAACAGCTGGACCGGCACTACAGCTGGAGAGCAAAAACGGGGGATCAGGGGGATCAGAGCAAAAACCCGGCACTGGGGGATCAATGCCCTCGGGGGATCAGAGCAAAAACATGCCCTCCCGGCACTGGGGGATCAATGCCCTCATGCCCTCGAGCAAAAACCCGGCACTGGGGGATCAACAGCTGGAATGCCCTCGAGCAAAAACCCGGCACTATGCCCTCATGCCCTCACAGCTGGAGAGCAAAAACCCGGCACTCCGGCACTATGCCCTCCCGGCACTACAGCTGGAATGCCCTCACAGCTGGAGGGGGATCACCGGCACTGGGGGATCAATGCCCTCCCGGCACTGGGGGATCACCGGCACTGAGCAAAAACATGCCCTCCCGGCACTGGGGGATCAGAGCAAAAACATGCCCTCACAGCTGGAGGGGGATCAATGCCCTCCCGGCACTATGCCCTCGGGGGATCACCGGCACTACAGCTGGAACAGCTGGAATGCCCTCCCGGCACTACAGCTGGAACAGCTGGAACAGCTGGAGGGGGATCACCGGCACTGAGCAAAAACGAGCAAAAACATGCCCTCACAGCTGGAGAGCAAAAACGAGCAAAAACATGCCCTCGGGGGATCAACAGCTGGAGAGCAAAAACATGCCCTCACAGCTGGAGAGCAAAAACGAGCAAAAACGGGGGATCAACAGCTGGAGGGGGATCAATGCCCTCGGGGGATCAGGGGGATCACCGGCACTATGCCCTCGGGGGATCAGAGCAAAAACCCGGCACTGAGCAAAAACGAGCAAAAACATGCCCTCGAGCAAAAAC'"
      ],
      "metadata": {
        "id": "5gixsktpVkey"
      },
      "execution_count": null,
      "outputs": []
    },
    {
      "cell_type": "code",
      "source": [
        "k = 11"
      ],
      "metadata": {
        "id": "8Yzdw_tKVm2T"
      },
      "execution_count": null,
      "outputs": []
    },
    {
      "cell_type": "code",
      "source": [
        "FrequentWords(dna_string, k)"
      ],
      "metadata": {
        "colab": {
          "base_uri": "https://localhost:8080/"
        },
        "id": "eLULp8d9VsHe",
        "outputId": "319bf982-87e1-490b-b74d-fc072b56ab7c"
      },
      "execution_count": null,
      "outputs": [
        {
          "output_type": "execute_result",
          "data": {
            "text/plain": [
              "['AGAGCAAAAAC']"
            ]
          },
          "metadata": {},
          "execution_count": 16
        }
      ]
    }
  ]
}