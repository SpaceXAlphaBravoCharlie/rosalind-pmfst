{
  "nbformat": 4,
  "nbformat_minor": 0,
  "metadata": {
    "colab": {
      "name": "BA5D.ipynb",
      "provenance": []
    },
    "kernelspec": {
      "name": "python3",
      "display_name": "Python 3"
    },
    "language_info": {
      "name": "python"
    }
  },
  "cells": [
    {
      "cell_type": "markdown",
      "source": [
        "The backtracking method can be generalized to construct a longest path in any DAG.\n",
        "Whenever we compute sb as\n",
        "\n",
        "sb = max all predecessors a of node b {sa + weight of edge from a to b},\n",
        "\n",
        "we simply need to store a predecessor of b that was used in the computation of sb so that\n",
        "we can backtrack later on."
      ],
      "metadata": {
        "id": "_wtS3uYxU65K"
      }
    },
    {
      "cell_type": "markdown",
      "source": [
        "It can be proven that any DAG has a topological ordering, and that this topological ordering can be constructed in time proportional to the number of edges in the graph. Once we have a topological ordering, we can compute the length of the longest path from source to sink by visiting the nodes of the DAG in the order dictated by the topological ordering, which is achieved by the following algorithm. For simplicity, we assume that the source node is the only node with indegree 0 in Graph. --> pretpostavka, može biti više čvorova sa indegree 0 --> graf nije čvrsto povezan ako ih ima više --> za source node uzmemo zadani source node \n",
        "\n",
        "LONGESTPATH(Graph, source, sink)\n",
        "\n",
        "for each node b in Graph\n",
        "\n",
        "sb = minus infinity\n",
        "\n",
        "ssource 0\n",
        "\n",
        "topologically order Graph\n",
        "\n",
        "for each node b in Graph (following the topological order)\n",
        "\n",
        "sb maxall predecessors a of node b {sa + weight of edge from a to b}\n",
        "\n",
        "return ssink\n"
      ],
      "metadata": {
        "id": "u40fXeFVVHY3"
      }
    },
    {
      "cell_type": "code",
      "source": [
        "def FormatGraph(graph):\n",
        "  edges_dict = {}\n",
        "  for i in range(len(graph)):\n",
        "    graph[i] = graph[i].split('->')\n",
        "    graph[i][1] =  graph[i][1].split(':')\n",
        "    edges_dict.setdefault((int(graph[i][0]),int(graph[i][1][0])),[])\n",
        "    edges_dict[(int(graph[i][0]),int(graph[i][1][0]))].append(int(graph[i][1][1]))\n",
        "    graph[i] = [int(graph[i][0])] + [int(graph[i][1][0])]\n",
        "  return [graph,edges_dict]"
      ],
      "metadata": {
        "id": "SNjwNdbFPXPQ"
      },
      "execution_count": 20,
      "outputs": []
    },
    {
      "cell_type": "code",
      "source": [
        "def GraphNodes(formatted_graph):\n",
        "  graph_nodes = set()\n",
        "  for nodes in formatted_graph:\n",
        "    graph_nodes.update(nodes)\n",
        "  return list(graph_nodes)"
      ],
      "metadata": {
        "id": "GmawzuRBf9np"
      },
      "execution_count": 21,
      "outputs": []
    },
    {
      "cell_type": "code",
      "source": [
        "def GraphDict(formatted_graph):\n",
        "  graph_dict = {}\n",
        "  graph_nodes = GraphNodes(formatted_graph)\n",
        "  for graph_node in graph_nodes:\n",
        "    graph_dict.setdefault(graph_node,[])\n",
        "  for i in range(len(formatted_graph)):\n",
        "    adjacent_nodes = formatted_graph[i][1:len(formatted_graph[i])]\n",
        "    for adjacent_node in adjacent_nodes:\n",
        "      graph_dict[formatted_graph[i][0]].append(adjacent_node)\n",
        "  return graph_dict"
      ],
      "metadata": {
        "id": "aWP1iApdYYhA"
      },
      "execution_count": 22,
      "outputs": []
    },
    {
      "cell_type": "code",
      "source": [
        "def NodeInDegree(graph_dict,node):\n",
        "  node_in_degree = 0\n",
        "  for adjacent_nodes in graph_dict.values():\n",
        "    node_in_degree = node_in_degree + adjacent_nodes.count(node)\n",
        "  return node_in_degree"
      ],
      "metadata": {
        "id": "wiiG85EKfrRj"
      },
      "execution_count": 23,
      "outputs": []
    },
    {
      "cell_type": "code",
      "source": [
        "def NonVisitedEdgesNumber(graph_dict):\n",
        "  non_visited_edges_number = 0\n",
        "  for adjacent_nodes in graph_dict.values():\n",
        "    non_visited_edges_number = non_visited_edges_number + len(adjacent_nodes)\n",
        "  return non_visited_edges_number"
      ],
      "metadata": {
        "id": "r7fIM5mwfr-x"
      },
      "execution_count": 24,
      "outputs": []
    },
    {
      "cell_type": "code",
      "source": [
        "def TopologicalOrdering(graph_dict):\n",
        "  topological_ordering = list()\n",
        "  candidates = [node for node in graph_dict.keys() if NodeInDegree(graph_dict,node) == 0]\n",
        "  while len(candidates) > 0:\n",
        "    a = candidates[0]\n",
        "    topological_ordering.append(a)\n",
        "    candidates.pop(0)\n",
        "    adjacent_nodes = graph_dict[a].copy()\n",
        "    graph_dict[a] = [] #remove all outgoing edges\n",
        "    candidates.extend([adjacent_node for adjacent_node in adjacent_nodes if NodeInDegree(graph_dict,adjacent_node) == 0])\n",
        "  if NonVisitedEdgesNumber(graph_dict) > 0: #if graph has edges that have not been removed\n",
        "    return \"the input graph is not a DAG\"\n",
        "  else:\n",
        "    return topological_ordering"
      ],
      "metadata": {
        "id": "_MvA9CsufuCQ"
      },
      "execution_count": 25,
      "outputs": []
    },
    {
      "cell_type": "code",
      "source": [
        "import numpy as np"
      ],
      "metadata": {
        "id": "pkaEv0Gyg5U9"
      },
      "execution_count": 26,
      "outputs": []
    },
    {
      "cell_type": "code",
      "source": [
        "def FindPredcessors(graph_dict,node):\n",
        "  predcessors = []\n",
        "  for key in graph_dict.keys():\n",
        "    if graph_dict[key].count(node) > 0:\n",
        "      predcessors.append(key)\n",
        "  return predcessors"
      ],
      "metadata": {
        "id": "s1iJzf9yroUr"
      },
      "execution_count": 27,
      "outputs": []
    },
    {
      "cell_type": "markdown",
      "source": [
        "The following algorithm for constructing a topological ordering is based on the observation that every DAG has at least one node with no incoming edges (zato što je directed **acylic** graph, prvi čvor u topološkom redoslijedu nema ulaznih čvorova pa je on izvorni čvor, njega moramo prvoga posjetiti jer je on predcessor nekim čvorovima). We will label\n",
        "one of these nodes as v1 and then remove this node from the graph along with all its outgoing edges. The resulting graph is also a DAG, which in turn must have a node with no incoming edges; we label this node v2, and again remove it from the graph along with its outgoing edges. The resulting algorithm proceeds until all nodes have been removed, producing a topological order v1, ... , vn"
      ],
      "metadata": {
        "id": "6gB3FLp2ScnI"
      }
    },
    {
      "cell_type": "code",
      "source": [
        "def DirectedAcylicGraphLongestPath(source_node,sink_node,graph):\n",
        "  formatted_graph,edges_dict = FormatGraph(graph)\n",
        "  graph_dict = GraphDict(formatted_graph)\n",
        "  topological_ordering = TopologicalOrdering(graph_dict.copy())\n",
        "  s = {}\n",
        "  backtrack = {}\n",
        "  if topological_ordering.index(source_node) > 0:\n",
        "    for node in topological_ordering[0:topological_ordering.index(source_node)+1]:\n",
        "      s.update({node:0}) #key-->node, value-->length of longest path to node\n",
        "      backtrack.update({node:str()})\n",
        "  else:\n",
        "    #if source node is not the first node in topological ordering then we set topological ordering to start from the source node --> all previous nodes have s = 0 as they cannot be reached from any other nodes\n",
        "    #last node of topological ordering does not need to be sink node as there can be multiple nodes with no out edges\n",
        "    topological_ordering = topological_ordering[topological_ordering.index(source_node):topological_ordering.index(sink_node)+1] \n",
        "    for node in topological_ordering:\n",
        "      s.update({node:np.NINF}) #key-->node, value-->length of longest path to node\n",
        "      backtrack.update({node:str()})\n",
        "  s[source_node] = 0\n",
        "  for i in range(1,len(topological_ordering)): #we don't need to visit the first node as it has no incoming edges and s[first_node] = 0, last node is the sink node\n",
        "      terms= []\n",
        "      predcessors = FindPredcessors(graph_dict,topological_ordering[i])\n",
        "      if len(predcessors) > 0:\n",
        "        for predcessor in predcessors:\n",
        "            for edge_weight in edges_dict[(predcessor,topological_ordering[i])]: #predcessor --> node that has outgoing edges to the topological_ordering[i]\n",
        "                terms.append(s[predcessor] + edge_weight)\n",
        "        s[topological_ordering[i]] = max(terms) #based on recurrence relation, ties are broken arbitrarily\n",
        "        for predcessor in predcessors:\n",
        "            for edge_weight in edges_dict[(predcessor,topological_ordering[i])]: #predcessor can have multiple outgoing nodes to topological_ordering[i]\n",
        "              if s[topological_ordering[i]] == s[predcessor] + edge_weight:\n",
        "                backtrack[topological_ordering[i]] = str(predcessor)\n",
        "      else:\n",
        "        s[topological_ordering[i]] = 0\n",
        "  return edges_dict,backtrack"
      ],
      "metadata": {
        "id": "8mYag0SSdZld"
      },
      "execution_count": 336,
      "outputs": []
    },
    {
      "cell_type": "code",
      "source": [
        "def OutputLongestPath(edges_dict,backtrack,source_node,sink_node):\n",
        "  longest_path_length = 0\n",
        "  current_node = sink_node\n",
        "  longest_path = [current_node]\n",
        "  while backtrack[current_node] != '': #while we don't reach source node --> backtrack[source_node] = ''\n",
        "    longest_path_length = longest_path_length + edges_dict[(int(backtrack[current_node]),current_node)][0]\n",
        "    current_node = int(backtrack[current_node])\n",
        "    longest_path.append(current_node)\n",
        "  return longest_path_length,longest_path[::-1]"
      ],
      "metadata": {
        "id": "F8jTtyDoww-Q"
      },
      "execution_count": 305,
      "outputs": []
    },
    {
      "cell_type": "code",
      "source": [
        "def PrintResultToFile(longest_path_length,longest_path):\n",
        "  f = open(\"task_result.txt\",\"w\")\n",
        "  f.write(str(longest_path_length) + '\\n')\n",
        "  string_to_print = ''\n",
        "  for node in longest_path:\n",
        "    string_to_print = string_to_print + str(node) + '->'\n",
        "  f.write(string_to_print[0:len(string_to_print)-2])\n",
        "  f.close()"
      ],
      "metadata": {
        "id": "XudSj4Y4zScK"
      },
      "execution_count": 306,
      "outputs": []
    },
    {
      "cell_type": "code",
      "source": [
        "source_node = 0"
      ],
      "metadata": {
        "id": "h22jumCSYCUd"
      },
      "execution_count": 307,
      "outputs": []
    },
    {
      "cell_type": "code",
      "source": [
        "sink_node = 4"
      ],
      "metadata": {
        "id": "0Gfo48EzYH14"
      },
      "execution_count": 308,
      "outputs": []
    },
    {
      "cell_type": "code",
      "source": [
        "graph = [\n",
        "'0->1:7',\n",
        "'0->2:4',\n",
        "'2->3:2',\n",
        "'1->4:1',\n",
        "'3->4:3']"
      ],
      "metadata": {
        "id": "rxNslFDAYR3D"
      },
      "execution_count": 309,
      "outputs": []
    },
    {
      "cell_type": "code",
      "source": [
        "edges_dict,backtrack = DirectedAcylicGraphLongestPath(source_node,sink_node,graph)"
      ],
      "metadata": {
        "id": "RL17X1y1d9zj"
      },
      "execution_count": 310,
      "outputs": []
    },
    {
      "cell_type": "code",
      "source": [
        "longest_path_length,longest_path = OutputLongestPath(edges_dict,backtrack,source_node,sink_node)"
      ],
      "metadata": {
        "id": "L_SbF4FgxoIv"
      },
      "execution_count": 311,
      "outputs": []
    },
    {
      "cell_type": "code",
      "source": [
        "PrintResultToFile(longest_path_length,longest_path)"
      ],
      "metadata": {
        "id": "1bCStAiCz0Do"
      },
      "execution_count": 312,
      "outputs": []
    },
    {
      "cell_type": "code",
      "source": [
        "with open('/content/rosalind_ba5d.txt') as task_file:\n",
        "  task_arguments = [line.rstrip() for line in task_file]"
      ],
      "metadata": {
        "id": "dmGZOsKh0EFU"
      },
      "execution_count": 337,
      "outputs": []
    },
    {
      "cell_type": "code",
      "source": [
        "source_node = int(task_arguments[0])"
      ],
      "metadata": {
        "id": "J0lMUSpu0rDz"
      },
      "execution_count": 338,
      "outputs": []
    },
    {
      "cell_type": "code",
      "source": [
        "sink_node = int(task_arguments[1])"
      ],
      "metadata": {
        "id": "l-IxaVAF0tbq"
      },
      "execution_count": 339,
      "outputs": []
    },
    {
      "cell_type": "code",
      "source": [
        "graph = task_arguments[2:len(task_arguments)]"
      ],
      "metadata": {
        "id": "O71hur770PSL"
      },
      "execution_count": 340,
      "outputs": []
    },
    {
      "cell_type": "code",
      "source": [
        "edges_dict,backtrack = DirectedAcylicGraphLongestPath(source_node,sink_node,graph)"
      ],
      "metadata": {
        "id": "VVj0780b0Soe"
      },
      "execution_count": 341,
      "outputs": []
    },
    {
      "cell_type": "code",
      "source": [
        "longest_path_length,longest_path = OutputLongestPath(edges_dict,backtrack,source_node,sink_node)"
      ],
      "metadata": {
        "id": "iQNnkDhu0UGL"
      },
      "execution_count": 342,
      "outputs": []
    },
    {
      "cell_type": "code",
      "source": [
        "PrintResultToFile(longest_path_length,longest_path)"
      ],
      "metadata": {
        "id": "YKlzWnNj0WMd"
      },
      "execution_count": 343,
      "outputs": []
    }
  ]
}