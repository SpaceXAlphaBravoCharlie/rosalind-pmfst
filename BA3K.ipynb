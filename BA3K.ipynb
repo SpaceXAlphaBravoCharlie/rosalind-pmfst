{
  "nbformat": 4,
  "nbformat_minor": 0,
  "metadata": {
    "colab": {
      "name": "BA3K.ipynb",
      "provenance": []
    },
    "kernelspec": {
      "name": "python3",
      "display_name": "Python 3"
    },
    "language_info": {
      "name": "python"
    }
  },
  "cells": [
    {
      "cell_type": "markdown",
      "source": [
        "MaximalNonBranchingPaths(Graph)\n",
        "\n",
        "        Paths ← empty list\n",
        "\n",
        "        for each node v in Graph\n",
        "\n",
        "            if v is not a 1-in-1-out node\n",
        "\n",
        "                if out(v) > 0\n",
        "\n",
        "                    for each outgoing edge (v, w) from v\n",
        "\n",
        "                        NonBranchingPath ← the path consisting of the single edge (v, w)\n",
        "\n",
        "                        while w is a 1-in-1-out node\n",
        "\n",
        "                            extend NonBranchingPath by the outgoing edge (w, u) from w \n",
        "\n",
        "                            w ← u\n",
        "\n",
        "                        add NonBranchingPath to the set Paths\n",
        "\n",
        "        for each isolated cycle Cycle in Graph\n",
        "\n",
        "            add Cycle to Paths\n",
        "            \n",
        "        return Paths"
      ],
      "metadata": {
        "id": "TCkcYPr12w9S"
      }
    },
    {
      "cell_type": "code",
      "source": [
        "def NodeInDegree(graph_dict,node):\n",
        "  node_in_degree = 0\n",
        "  for adjacent_nodes in graph_dict.values():\n",
        "    node_in_degree = node_in_degree + adjacent_nodes.count(node)\n",
        "  return node_in_degree"
      ],
      "metadata": {
        "id": "n0A2SYRT3ems"
      },
      "execution_count": 1,
      "outputs": []
    },
    {
      "cell_type": "code",
      "source": [
        "def NodeOutDegree(graph_dict,node):\n",
        "  if node in graph_dict.keys():\n",
        "    return len(graph_dict[node])\n",
        "  else:\n",
        "    return 0"
      ],
      "metadata": {
        "id": "jg9gnsz34L-D"
      },
      "execution_count": 2,
      "outputs": []
    },
    {
      "cell_type": "markdown",
      "source": [
        "A node v in a directed graph Graph is called a 1-in-1-out node if its indegree and outdegree are both equal to 1, i.e., in(v) = out(v) = 1.  We can rephrase the definition of a \"maximal non-branching path\" from the main text as a path whose internal nodes are 1-in-1-out nodes and whose initial and final nodes are not 1-in-1-out nodes.  Also, note that the definition from the main text does not handle the special case when Graph has a connected component that is an isolated cycle, in which all nodes are 1-in-1-out nodes."
      ],
      "metadata": {
        "id": "gYfms9Rp8sfz"
      }
    },
    {
      "cell_type": "code",
      "source": [
        "def OneInOneOutNode(graph_dict,node):\n",
        "  if NodeInDegree(graph_dict,node) == 1 and NodeOutDegree(graph_dict,node) == 1:\n",
        "    return True\n",
        "  else:\n",
        "    return False"
      ],
      "metadata": {
        "id": "5idmFBx0rgSm"
      },
      "execution_count": 56,
      "outputs": []
    },
    {
      "cell_type": "code",
      "source": [
        "def NonBranchingPaths(graph_dict,de_bruijn_graph_nodes):\n",
        "  paths = []\n",
        "  for node in de_bruijn_graph_nodes:\n",
        "    if not OneInOneOutNode(graph_dict,node): #not 1-in-1-out node\n",
        "      if NodeOutDegree(graph_dict,node) > 0:\n",
        "        for adjacent_node in graph_dict[node]:\n",
        "          non_branching_path = [node,adjacent_node]\n",
        "          while NodeInDegree(graph_dict,adjacent_node) == 1 and NodeOutDegree(graph_dict,adjacent_node) == 1: #1-in-1-out node\n",
        "            non_branching_path.append(graph_dict[adjacent_node][0])\n",
        "            adjacent_node = graph_dict[adjacent_node][0]\n",
        "          paths.append(non_branching_path)\n",
        "  for node in de_bruijn_graph_nodes:\n",
        "      #definition from the main text does not handle the special case when Graph has a connected component that is an isolated cycle, in which all nodes are 1-in-1-out nodes.\n",
        "      if OneInOneOutNode(graph_dict,node): #1-in-1-out node\n",
        "        for adjacent_node in graph_dict[node]:\n",
        "          non_branching_path = [node,adjacent_node]\n",
        "          while NodeInDegree(graph_dict,adjacent_node) == 1 and NodeOutDegree(graph_dict,adjacent_node) == 1 and adjacent_node != node:\n",
        "            non_branching_path.append(graph_dict[adjacent_node][0])\n",
        "            adjacent_node = graph_dict[adjacent_node][0]\n",
        "          paths.append(non_branching_path)\n",
        "  return paths"
      ],
      "metadata": {
        "id": "QNVXmQO53NvC"
      },
      "execution_count": 57,
      "outputs": []
    },
    {
      "cell_type": "code",
      "source": [
        "def FindAllKmers(non_branching_path,k):\n",
        "  kmers_list = []\n",
        "  i = 0\n",
        "  while i + k - 1 <= len(non_branching_path) - 1:\n",
        "    kmers_list.append(non_branching_path[i:i+k])\n",
        "    i = i + 1\n",
        "  return kmers_list"
      ],
      "metadata": {
        "id": "89fU5pR9-oYz"
      },
      "execution_count": 58,
      "outputs": []
    },
    {
      "cell_type": "markdown",
      "source": [
        "A maximal non-branching path is a non-branching path that cannot be extended into a longer non-branching path --> if we have a list of non-branching paths and if we sort the list by increasing non-branching paths length, certain non-branching path can only be contained in non-branching paths with higher length"
      ],
      "metadata": {
        "id": "fnwEbtmNixrx"
      }
    },
    {
      "cell_type": "code",
      "source": [
        "from numpy import delete"
      ],
      "metadata": {
        "id": "vDk3HYZ0l3IE"
      },
      "execution_count": 59,
      "outputs": []
    },
    {
      "cell_type": "code",
      "source": [
        "def MaximalNonBranchingPaths(paths):\n",
        "  indices_to_delete = []\n",
        "  for i in range(len(paths)):\n",
        "    for j in range(len(paths)):\n",
        "      if len(paths[i]) < len(paths[j]):\n",
        "        if i != j and paths[i] in FindAllKmers(paths[j],len(paths[i])):\n",
        "          indices_to_delete.append(i)\n",
        "          break\n",
        "      elif len(paths[i]) == len(paths[j]): #detect cycles\n",
        "        if i != j and paths[i] != paths[j] and set(paths[i]) == set(paths[j]) and j not in indices_to_delete:\n",
        "          indices_to_delete.append(i)\n",
        "          break\n",
        "  paths = list(delete(paths,indices_to_delete))\n",
        "  return paths"
      ],
      "metadata": {
        "id": "XKOkeRGbiYK0"
      },
      "execution_count": 104,
      "outputs": []
    },
    {
      "cell_type": "code",
      "source": [
        "def PrintResult(de_bruijn_graph_nodes,paths):\n",
        "  for path in paths:\n",
        "    string_to_print = str(de_bruijn_graph_nodes[path[0]])\n",
        "    for i in range(1,len(path)):\n",
        "      string_to_print = string_to_print + de_bruijn_graph_nodes[path[i]][len(de_bruijn_graph_nodes[path[i]])-1]\n",
        "    print(string_to_print)"
      ],
      "metadata": {
        "id": "b_vGpVHhFIFU"
      },
      "execution_count": 124,
      "outputs": []
    },
    {
      "cell_type": "code",
      "source": [
        "def PrintResultToFile(de_bruijn_graph_nodes,paths):\n",
        "  f = open(\"task_result.txt\",\"w\")\n",
        "  for path in paths:\n",
        "    string_to_print = str(de_bruijn_graph_nodes[path[0]])\n",
        "    for i in range(1,len(path)):\n",
        "      string_to_print = string_to_print + de_bruijn_graph_nodes[path[i]][len(de_bruijn_graph_nodes[path[i]])-1]\n",
        "    f.write(string_to_print + ' ')\n",
        "  f.close()"
      ],
      "metadata": {
        "id": "sX3qNQHvFxlV"
      },
      "execution_count": 128,
      "outputs": []
    },
    {
      "cell_type": "code",
      "source": [
        "def PatternPrefix(pattern):\n",
        "  return pattern[0:len(pattern)-1]"
      ],
      "metadata": {
        "id": "mJzJH8ZQO64k"
      },
      "execution_count": 107,
      "outputs": []
    },
    {
      "cell_type": "code",
      "source": [
        "def PatternSuffix(pattern):\n",
        "  return pattern[1:len(pattern)]"
      ],
      "metadata": {
        "id": "vSQDMmnzPE57"
      },
      "execution_count": 108,
      "outputs": []
    },
    {
      "cell_type": "code",
      "source": [
        "def DeBruijnGraphDict(patterns):\n",
        "  de_bruijn_graph_dict = {}\n",
        "  for pattern in patterns:\n",
        "    de_bruijn_graph_dict.setdefault(PatternPrefix(pattern),[])\n",
        "    de_bruijn_graph_dict[PatternPrefix(pattern)].append(PatternSuffix(pattern))\n",
        "  return de_bruijn_graph_dict"
      ],
      "metadata": {
        "id": "J66ecqEscAVy"
      },
      "execution_count": 109,
      "outputs": []
    },
    {
      "cell_type": "code",
      "source": [
        "def DeBruijnGraphNodes(de_bruijn_graph_dict):\n",
        "  de_bruijn_graph_nodes = set()\n",
        "  for key,adjacent_nodes in de_bruijn_graph_dict.items():\n",
        "    de_bruijn_graph_nodes.update([key] + adjacent_nodes)\n",
        "  return list(de_bruijn_graph_nodes) #mapping from node to number defined by mapping from index to node at index"
      ],
      "metadata": {
        "id": "iKUecBd-Oqlu"
      },
      "execution_count": 110,
      "outputs": []
    },
    {
      "cell_type": "code",
      "source": [
        "def GraphDict(de_bruijn_graph_dict,de_bruijn_graph_nodes):\n",
        "  graph_dict = {}\n",
        "  for key,adjacent_nodes in de_bruijn_graph_dict.items():\n",
        "    graph_dict.setdefault(de_bruijn_graph_nodes.index(key),[])\n",
        "    for node in adjacent_nodes:\n",
        "      graph_dict[de_bruijn_graph_nodes.index(key)].append(de_bruijn_graph_nodes.index(node))\n",
        "  return graph_dict"
      ],
      "metadata": {
        "id": "6fwtppdxcCuS"
      },
      "execution_count": 111,
      "outputs": []
    },
    {
      "cell_type": "markdown",
      "source": [
        "Contig Generation Problem\n",
        "\n",
        "Generate the contigs from a collection of reads (with imperfect coverage).\n",
        "\n",
        "Given: A collection of k-mers Patterns.\n",
        "\n",
        "Return: All contigs in DeBruijn(Patterns). (You may return the strings in any order.)"
      ],
      "metadata": {
        "id": "Bi5iOG8iOhvE"
      }
    },
    {
      "cell_type": "code",
      "source": [
        "def ContigGeneration(patterns):\n",
        "  de_bruijn_graph_dict = DeBruijnGraphDict(patterns)\n",
        "  de_bruijn_graph_nodes_patterns = DeBruijnGraphNodes(de_bruijn_graph_dict)\n",
        "  graph_dict = GraphDict(de_bruijn_graph_dict,de_bruijn_graph_nodes_patterns)\n",
        "  de_bruijn_graph_nodes_numbers = DeBruijnGraphNodes(graph_dict)\n",
        "  non_branching_paths = NonBranchingPaths(graph_dict,de_bruijn_graph_nodes_numbers)\n",
        "  maximal_non_branching_paths = MaximalNonBranchingPaths(non_branching_paths)\n",
        "  #PrintResult(de_bruijn_graph_nodes_patterns,maximal_non_branching_paths)\n",
        "  PrintResultToFile(de_bruijn_graph_nodes_patterns,maximal_non_branching_paths)"
      ],
      "metadata": {
        "id": "t0V_FbOEQbJa"
      },
      "execution_count": 134,
      "outputs": []
    },
    {
      "cell_type": "code",
      "source": [
        "patterns = [\n",
        "'ATG',\n",
        "'ATG',\n",
        "'TGT',\n",
        "'TGG',\n",
        "'CAT',\n",
        "'GGA',\n",
        "'GAT',\n",
        "'AGA']"
      ],
      "metadata": {
        "id": "veEALtODOQ1F"
      },
      "execution_count": 135,
      "outputs": []
    },
    {
      "cell_type": "code",
      "source": [
        "ContigGeneration(patterns)"
      ],
      "metadata": {
        "colab": {
          "base_uri": "https://localhost:8080/"
        },
        "id": "J3WN4Q7TRBtv",
        "outputId": "0669afd2-b5b2-4d64-f482-7fd2816ac0bb"
      },
      "execution_count": 136,
      "outputs": [
        {
          "output_type": "stream",
          "name": "stdout",
          "text": [
            "ATG\n",
            "ATG\n",
            "CAT\n",
            "TGT\n",
            "TGGA\n",
            "AGA\n",
            "GAT\n"
          ]
        },
        {
          "output_type": "stream",
          "name": "stderr",
          "text": [
            "/usr/local/lib/python3.7/dist-packages/numpy/lib/function_base.py:4454: VisibleDeprecationWarning: Creating an ndarray from ragged nested sequences (which is a list-or-tuple of lists-or-tuples-or ndarrays with different lengths or shapes) is deprecated. If you meant to do this, you must specify 'dtype=object' when creating the ndarray.\n",
            "  arr = asarray(arr)\n"
          ]
        }
      ]
    },
    {
      "cell_type": "code",
      "source": [
        "with open('/content/rosalind_ba3k.txt') as task_file:\n",
        "  patterns = [line.rstrip() for line in task_file]"
      ],
      "metadata": {
        "id": "V_WA7fYDwd3f"
      },
      "execution_count": 130,
      "outputs": []
    },
    {
      "cell_type": "code",
      "source": [
        "ContigGeneration(patterns)"
      ],
      "metadata": {
        "id": "knRsfMDtwgm4"
      },
      "execution_count": null,
      "outputs": []
    }
  ]
}