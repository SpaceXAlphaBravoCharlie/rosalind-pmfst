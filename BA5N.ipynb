{
  "cells": [
    {
      "cell_type": "markdown",
      "metadata": {
        "id": "2nqMXOmHlATM"
      },
      "source": [
        "The following algorithm for constructing a topological ordering is based on the observation that every DAG has at least one node with no incoming edges. We will label one of these nodes as v1 and then remove this node from the graph along with all its outgoing edges. The resulting graph is also a DAG, which in turn must have a node with no incoming edges; we label this node v2, and again remove it from the graph along with its outgoing edges. The resulting algorithm proceeds until all nodes have been removed, producing a topological order v1, . ., vn. This algorithm runs in time proportional to the number of edges in the input DAG."
      ]
    },
    {
      "cell_type": "markdown",
      "metadata": {
        "id": "vvmUAsJJlhdl"
      },
      "source": [
        "To find a longest path in an arbitrary DAG, we first need to order the nodes of the DAG so that every node falls after all its predecessors. Formally, an ordering of nodes (a1, ..., ak) in a DAG is called a topological ordering if every edge (ai,aj) of the DAG connects a node with a smaller index to a node with a larger index, i.e., i < j.\n",
        "\n",
        "The hitch to using dynamic programming in order to find the length of a longest path in a DAG is that we must decide on the order in which to visit nodes when computing the values sb according to the recurrence:\n",
        "sb =       max  all predecessors a of node b                     {sa + weight of edge from a to b}.\n",
        "\n",
        "This ordering of nodes is important, since by the time we reach node b, the values sa for all its predecessors must have already been computed. We have managed to hide this issue for rectangular grids because the order in which we have computed the si,j ensured that we would never consider a node before visiting all of its predecessors."
      ]
    },
    {
      "cell_type": "code",
      "source": [
        "def NodeInDegree(graph_dict,node):\n",
        "  node_in_degree = 0\n",
        "  for adjacent_nodes in graph_dict.values():\n",
        "    node_in_degree = node_in_degree + adjacent_nodes.count(node)\n",
        "  return node_in_degree"
      ],
      "metadata": {
        "id": "Zcz6yz055g6E"
      },
      "execution_count": 194,
      "outputs": []
    },
    {
      "cell_type": "code",
      "source": [
        "def NonVisitedEdgesNumber(graph_dict):\n",
        "  non_visited_edges_number = 0\n",
        "  for adjacent_nodes in graph_dict.values():\n",
        "    non_visited_edges_number = non_visited_edges_number + len(adjacent_nodes)\n",
        "  return non_visited_edges_number"
      ],
      "metadata": {
        "id": "bCZC3P7c62j3"
      },
      "execution_count": 195,
      "outputs": []
    },
    {
      "cell_type": "code",
      "execution_count": 196,
      "metadata": {
        "id": "UuVkkVoPmcKg"
      },
      "outputs": [],
      "source": [
        "def TopologicalOrdering(graph_dict):\n",
        "  topological_ordering = list()\n",
        "  candidates = [node for node in graph_dict.keys() if NodeInDegree(graph_dict,node) == 0]\n",
        "  while len(candidates) > 0:\n",
        "    a = candidates[0]\n",
        "    topological_ordering.append(a)\n",
        "    candidates.pop(0)\n",
        "    adjacent_nodes = graph_dict[a].copy()\n",
        "    graph_dict[a] = [] #remove all outgoing edges\n",
        "    candidates.extend([adjacent_node for adjacent_node in adjacent_nodes if NodeInDegree(graph_dict,adjacent_node) == 0])\n",
        "  if NonVisitedEdgesNumber(graph_dict) > 0: #if graph has edges that have not been removed\n",
        "    return \"the input graph is not a DAG\"\n",
        "  else:\n",
        "    return topological_ordering"
      ]
    },
    {
      "cell_type": "code",
      "source": [
        "def PrintResult(topological_ordering):\n",
        "  if len(topological_ordering) == 0:\n",
        "    print(\"the input graph is not a DAG\")\n",
        "  else:\n",
        "    string_to_print = ''\n",
        "    for node in topological_ordering:\n",
        "      string_to_print = string_to_print + str(node) + ', '\n",
        "    print(string_to_print[0:len(string_to_print)-2])"
      ],
      "metadata": {
        "id": "oNEXM2Tu7LqO"
      },
      "execution_count": 197,
      "outputs": []
    },
    {
      "cell_type": "code",
      "source": [
        "def PrintResultToFile(topological_ordering):\n",
        "  f = open(\"task_result.txt\",\"w\")\n",
        "  if len(topological_ordering) == 0:\n",
        "    f.write(\"the input graph is not a DAG\")\n",
        "  else:\n",
        "    string_to_print = ''\n",
        "    for node in topological_ordering:\n",
        "      string_to_print = string_to_print + str(node) + ', '\n",
        "    f.write(string_to_print[0:len(string_to_print)-2])\n",
        "  f.close()"
      ],
      "metadata": {
        "id": "1b2inK3o77lT"
      },
      "execution_count": 198,
      "outputs": []
    },
    {
      "cell_type": "code",
      "execution_count": 222,
      "metadata": {
        "id": "5khM64uHtWJG"
      },
      "outputs": [],
      "source": [
        "def FormatGraph(graph):\n",
        "  for i in range(len(graph)):\n",
        "    graph[i] = graph[i].split(' -> ')\n",
        "    graph[i] = [graph[i][0]] + graph[i][1].split(',')\n",
        "    graph[i] = [int(node) for node in graph[i]]\n",
        "  return graph"
      ]
    },
    {
      "cell_type": "code",
      "execution_count": 223,
      "metadata": {
        "id": "dpdIcbgesR0_"
      },
      "outputs": [],
      "source": [
        "def GraphNodes(formatted_graph):\n",
        "  graph_nodes = set()\n",
        "  for nodes in formatted_graph:\n",
        "    graph_nodes.update(nodes)\n",
        "  return list(graph_nodes)"
      ]
    },
    {
      "cell_type": "code",
      "execution_count": 224,
      "metadata": {
        "id": "Pzxn4Ys5miuP"
      },
      "outputs": [],
      "source": [
        "def GraphDict(graph):\n",
        "  graph_dict = {}\n",
        "  formatted_graph = FormatGraph(graph)\n",
        "  graph_nodes = GraphNodes(formatted_graph)\n",
        "  for graph_node in graph_nodes:\n",
        "     graph_dict.setdefault(graph_node,[])\n",
        "  for i in range(len(formatted_graph)):\n",
        "     graph_dict[formatted_graph[i][0]].extend(formatted_graph[i][1:len(formatted_graph[i])])\n",
        "  return graph_dict"
      ]
    },
    {
      "cell_type": "code",
      "execution_count": 225,
      "metadata": {
        "id": "GzKINJdJmcWe"
      },
      "outputs": [],
      "source": [
        "graph = [\n",
        "'1 -> 2',\n",
        "'2 -> 3',\n",
        "'4 -> 2',\n",
        "'5 -> 3']"
      ]
    },
    {
      "cell_type": "code",
      "execution_count": 226,
      "metadata": {
        "colab": {
          "base_uri": "https://localhost:8080/"
        },
        "id": "1vK9YauAnama",
        "outputId": "58d6b5a5-5eb3-45da-bc77-f4f4fbab2425"
      },
      "outputs": [
        {
          "output_type": "stream",
          "name": "stdout",
          "text": [
            "1, 4, 5, 2, 3\n"
          ]
        }
      ],
      "source": [
        "PrintResult(TopologicalOrdering(GraphDict(graph)))"
      ]
    },
    {
      "cell_type": "code",
      "source": [
        "with open('/content/rosalind_ba5n.txt') as task_file:\n",
        "  graph = [line.rstrip() for line in task_file]"
      ],
      "metadata": {
        "id": "GkfaN8Lo8FUY"
      },
      "execution_count": 230,
      "outputs": []
    },
    {
      "cell_type": "code",
      "source": [
        "PrintResultToFile(TopologicalOrdering(GraphDict(graph)))"
      ],
      "metadata": {
        "id": "a7TsSKe98eaP"
      },
      "execution_count": 232,
      "outputs": []
    }
  ],
  "metadata": {
    "colab": {
      "name": "BA5N.ipynb",
      "provenance": []
    },
    "kernelspec": {
      "display_name": "Python 3",
      "name": "python3"
    },
    "language_info": {
      "name": "python"
    }
  },
  "nbformat": 4,
  "nbformat_minor": 0
}