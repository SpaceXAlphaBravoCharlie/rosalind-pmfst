{
  "nbformat": 4,
  "nbformat_minor": 0,
  "metadata": {
    "colab": {
      "name": "BA1D.ipynb",
      "provenance": []
    },
    "kernelspec": {
      "name": "python3",
      "display_name": "Python 3"
    },
    "language_info": {
      "name": "python"
    }
  },
  "cells": [
    {
      "cell_type": "code",
      "source": [
        "def FindAllKmers(genome,k):\n",
        "  kmers_list = []\n",
        "  i = 0\n",
        "  while i + k - 1 <= len(genome) - 1: #i + k - 1 is the last index of kmer\n",
        "    kmers_list.append(genome[i:i+k])\n",
        "    i = i + 1\n",
        "  return kmers_list"
      ],
      "metadata": {
        "id": "Nz0gwM5s4Auo"
      },
      "execution_count": 4,
      "outputs": []
    },
    {
      "cell_type": "code",
      "source": [
        "def PatternMatching(pattern,genome):\n",
        "  pattern_all_occurences = []\n",
        "  for kmer in enumerate(FindAllKmers(genome,len(pattern))):\n",
        "    if kmer[1] == pattern:\n",
        "      pattern_all_occurences.append(kmer[0])\n",
        "  return pattern_all_occurences"
      ],
      "metadata": {
        "id": "ltlEnVE639Pn"
      },
      "execution_count": 2,
      "outputs": []
    },
    {
      "cell_type": "code",
      "source": [
        "genome = 'GATATATGCATATACTT'"
      ],
      "metadata": {
        "id": "hUOQ7REk5H93"
      },
      "execution_count": 5,
      "outputs": []
    },
    {
      "cell_type": "code",
      "source": [
        "pattern = 'ATAT'"
      ],
      "metadata": {
        "id": "_G-NlbTl5Ob4"
      },
      "execution_count": 6,
      "outputs": []
    },
    {
      "cell_type": "code",
      "source": [
        "for solution in PatternMatching(pattern,genome):\n",
        "  print(solution)"
      ],
      "metadata": {
        "colab": {
          "base_uri": "https://localhost:8080/"
        },
        "id": "CfOhLHmE5QnB",
        "outputId": "4b77fcc8-c1f3-4a53-9eb6-39e8b3207851"
      },
      "execution_count": 8,
      "outputs": [
        {
          "output_type": "stream",
          "name": "stdout",
          "text": [
            "1\n",
            "3\n",
            "9\n"
          ]
        }
      ]
    },
    {
      "cell_type": "code",
      "source": [
        "with open('/content/rosalind_ba1d.txt') as task_file:\n",
        "  genome = [line.rstrip() for line in task_file]\n",
        "genome = genome[0]"
      ],
      "metadata": {
        "id": "4-7w_Jnp5aVz"
      },
      "execution_count": 11,
      "outputs": []
    },
    {
      "cell_type": "code",
      "source": [
        "pattern = 'GCTGTCGGC'"
      ],
      "metadata": {
        "id": "2aXMMejh5jrW"
      },
      "execution_count": 9,
      "outputs": []
    },
    {
      "cell_type": "code",
      "source": [
        "f = open(\"task_result\", \"w\")\n",
        "for solution in PatternMatching(pattern,genome):\n",
        "  f.write(str(solution) + '\\n')\n",
        "f.close()"
      ],
      "metadata": {
        "id": "rUB7kQ6m5n6P"
      },
      "execution_count": 13,
      "outputs": []
    }
  ]
}