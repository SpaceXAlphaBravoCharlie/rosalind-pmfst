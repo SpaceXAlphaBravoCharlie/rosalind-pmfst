{
  "nbformat": 4,
  "nbformat_minor": 0,
  "metadata": {
    "colab": {
      "name": "BA1M.ipynb",
      "provenance": []
    },
    "kernelspec": {
      "name": "python3",
      "display_name": "Python 3"
    },
    "language_info": {
      "name": "python"
    }
  },
  "cells": [
    {
      "cell_type": "markdown",
      "source": [
        "# Vlastita implementacija --> bez pseudokoda iz knjige"
      ],
      "metadata": {
        "id": "LgP_W-ru5Gdp"
      }
    },
    {
      "cell_type": "markdown",
      "source": [
        "Ako pattern zavrsava sa A, prije patterna se moze nalaziti samo cijeli broj drugih patterna, tj. samo cijeli broj patterna koji se abecedno nalaze ispred zadanog patterna. Dakle, prvo odredimo koliko se patterna prije zadanog patterna nalazi u retku koji odgovara ponavljanju (k-1)-mera patterna (možemo zamisliti matricu sa 4^(k-1) redaka i 4 stupca, svaki redak odgovara jednom od mogućih (k-1)-merova, 4 stupca odgovaraju svim mogućim ponavljanjima tog (k-1)-mera). Nakon toga određujemo koliko redaka se nalazi prije zadanog retka. Navedeno određujemo na sljedeći način: uzmemo zadnji nukleotid od trenutnog (k-1)-mera, pozovemo funkciju LetterToNumber koja nam vrati koliko nukleotida se nalazi prije zdnjeg nukleotida, pomnožimo taj broj sa 4 jer je se svaki (k-1)-mer ponavlja 4 puta (odredimo koliko (k-1)-merova se nalazi prije trenutnog (k-1)-mera s obzirom na nukleotid na poziciji k-2), nastavljamo tako da gledamo koliko se k-merova nalazi prije (k-2)-mera s obzirom na nukleotid na poziciji k-3 (LetterToNumber(zadnji nukleotid) pomnožimo sa 16 (npr. ako je početni pattern AACGT, odredili smo koliko se patterna nalazi prije AACG, sada gledamo koliko se patterna nalazi prije AAC --> samo AAA, budući da gledamo 5-mere, imamo A A A _ _, na praznim pozicijama mogu biti 4 nukleotida, dakle sa početnim AAA imamo 16 varijacija 5. reda)), navedeno ponavljamo sve dok len(pattern) ne bude 0"
      ],
      "metadata": {
        "id": "nQh_TYnV5PSB"
      }
    },
    {
      "cell_type": "markdown",
      "source": [
        "k --> broj nukleotida u k-meru\n",
        "\n",
        "Zamislimo 4^(k-1) * 4 matricu, gdje redak odgovara svim mogućim patternima kojima je prefiks (k-1)-mer koji odogovara određenom retku matrice ((k-1)-merovi su leksikografski poredani, odnosno abecedno su poredani)\n",
        "\n",
        "Broj prvo podijelimo sa 4 --> dobijemo nalazi li se pattern u prvom stupcu određenog retka ili u ostalim stupcima --> ako je ostatak dijeljenja sa 4 nula onda se nalazi u prvom stupcu, ako nije onda se nalazi u jednom od ostalih stupaca\n",
        "\n",
        "Npr. pattern = 'AACGT'\n",
        "\n",
        "AACGA AACGC AACGT AACGG\n",
        "\n",
        "AACG --> s obzirom na zadnji nukleotid, patterni koji se prije nalaze su AACA AACC, budući da gledamo 5-mere, onda svaki od njih se pojavljuje 4 puta, odnosno imamo 2*4 patterna prije\n",
        "\n",
        "AAC --> s obzirom na zadnji nukleotid, patterni koji se prije nalaze su AAA, budući da gledamo 5-mere, onda svaki od njih se pojavljuje 16 puta, dakle imamo 1*16 patterna prije\n",
        "\n",
        "AA --> s obzirom na zadnji nukleotid, nema patterna koji se pojavljuju prije patterna AA\n",
        "\n",
        "A --> s obzirom na zadnji nukleotid, nema patterna koji se pojavljuju prije patterna A\n",
        "\n",
        "prazan pattern --> stajemo sa provjerom\n",
        "\n",
        "pattern = pattern[0:len(patern) - 1]\n",
        "\n",
        "Broj podijelimo sa 4 ponovno --> ostatak dijeljenja nam govori koliko nukleotida se nalazi prije zadnjeg nukletoida\n",
        "\n",
        "pattern = pattern[0:len(pattern) - 1]\n",
        "\n",
        "Broj podijelimo sa 16 --> ostatak dijeljenja nam govori koliko nukletoida se nalazi prije zadnjeg nukleotida\n",
        "\n",
        "pattern = pattern[0:len(pattern) - 1]\n",
        "\n",
        "Broj podijelimo sa 64 --> ostatak dijeljenja nam govori koliko nukletoida se nalazi prije zadnjeg nukleotida\n",
        "\n",
        "Navedeno ponavljamo sve dok je ostatak dijeljenja > 0 --> ako je 0 onda ne postoje nukleotidi koji se nalaze prije zadnjeg nukleotida"
      ],
      "metadata": {
        "id": "rerUirQxA3BQ"
      }
    },
    {
      "cell_type": "markdown",
      "source": [
        "Gledamo k-mere\n",
        "\n",
        "Svaki (k-1)-mer se ponavlja 4 puta\n",
        "\n",
        "Matrica: 4^(k-1) * 4\n",
        "\n",
        "Primjer: index = 45, k = 4\n",
        "\n",
        "index = 11 * 4 + 1"
      ],
      "metadata": {
        "id": "9aHyBhAUZ_62"
      }
    },
    {
      "cell_type": "markdown",
      "source": [
        "Svaki (k-1)-mer se ponavlja 4 puta"
      ],
      "metadata": {
        "id": "KBULpO_imqUY"
      }
    },
    {
      "cell_type": "markdown",
      "source": [
        "Primjer matrice:\n",
        "\n",
        "AAA AAC AAG AAT\n",
        "\n",
        "ACA ACC ACG ACT\n",
        "\n",
        "AGA AGC AGG AGT\n",
        "\n",
        "ATA ATC ATG ATT\n",
        "\n",
        "Indeksi svakog k-mera --> definiraju koliko se k-mera nalazi prije k-mera na istoj poziciji u gornjoj matrici\n",
        "\n",
        "0 1 2 3\n",
        "\n",
        "4 5 6 7\n",
        "\n",
        "8 9 10 11\n",
        "\n",
        "12 13 14 15\n",
        "\n",
        "Primjer: AGT --> 11\n",
        "\n",
        "11 = 2 * 4 + 3 --> indeks 8 plus 3 indeksa od indeksa 8\n",
        "\n",
        "Maknemo zadnji nukleotid iz svakog elementa matrice --> \n",
        "\n",
        "AA AA AA AA\n",
        "\n",
        "AC AC AC AC\n",
        "\n",
        "AG AG AG AG\n",
        "\n",
        "AT AT AT AT"
      ],
      "metadata": {
        "id": "pUtOA3rBnb0x"
      }
    },
    {
      "cell_type": "markdown",
      "source": [
        "Primjer: AGT 11\n",
        "\n",
        "Prije AG imamo AA i AC --> treba provjeriti zauzimaju li neki patterni indekse prije AA i AC"
      ],
      "metadata": {
        "id": "TYY66ygX8J2w"
      }
    },
    {
      "cell_type": "code",
      "source": [
        "from math import pow"
      ],
      "metadata": {
        "id": "bmW4j_FOIqQ0"
      },
      "execution_count": 3,
      "outputs": []
    },
    {
      "cell_type": "markdown",
      "source": [
        "Svaki od pribrojnika u indexu (4, 16, 64, ...) se može pojaviti 0, 1, 2 ili 3 puta (prije određenog nukleotida može biti maks 3 nukleotida) --> pogledati NumberToPattern i LetterToNumber --> zbog toga možemo koristiti NumberToLetter kada koristimo dividere 4, 16, 64, ..."
      ],
      "metadata": {
        "id": "IAdLrETuEWLW"
      }
    },
    {
      "cell_type": "code",
      "source": [
        "def NumberToPattern(index, k):\n",
        "  pattern = str()\n",
        "  i = 1\n",
        "  while i < k + 1:\n",
        "    number_of_nucleotides_before_last = (index/pow(4,i) - int(index/pow(4,i))) * (pow(4,i) / pow(4,i-1))\n",
        "    pattern = pattern + NumberToLetter(int(number_of_nucleotides_before_last))\n",
        "    index = index - number_of_nucleotides_before_last\n",
        "    i = i + 1\n",
        "  return pattern[::-1]"
      ],
      "metadata": {
        "id": "QY1pFMT65HTz"
      },
      "execution_count": 194,
      "outputs": []
    },
    {
      "cell_type": "code",
      "source": [
        "def PatternToNumber(pattern):\n",
        "  number = LetterToNumber(pattern[-1])\n",
        "  pattern = pattern[0:len(pattern) - 1]\n",
        "  i = 1\n",
        "  while len(pattern) > 0:\n",
        "    number = number + LetterToNumber(pattern[-1]) * pow(4,i)\n",
        "    pattern = pattern[0:len(pattern) - 1]\n",
        "    i = i + 1\n",
        "  return int(number)"
      ],
      "metadata": {
        "id": "OXOh4ObZBTVc"
      },
      "execution_count": 176,
      "outputs": []
    },
    {
      "cell_type": "code",
      "source": [
        "def LetterToNumber(letter):\n",
        "  if letter == 'A':\n",
        "    return 0\n",
        "  elif letter == 'C':\n",
        "    return 1\n",
        "  elif letter == 'G':\n",
        "    return 2\n",
        "  else:\n",
        "    return 3"
      ],
      "metadata": {
        "id": "yvE-2CD8BUd4"
      },
      "execution_count": 177,
      "outputs": []
    },
    {
      "cell_type": "code",
      "source": [
        "def NumberToLetter(number):\n",
        "  if number == 0:\n",
        "    return 'A'\n",
        "  elif number == 1:\n",
        "    return 'C'\n",
        "  elif number == 2:\n",
        "    return 'G'\n",
        "  else:\n",
        "    return 'T'"
      ],
      "metadata": {
        "id": "jFvmb2nMDUCR"
      },
      "execution_count": 178,
      "outputs": []
    },
    {
      "cell_type": "code",
      "source": [
        "def Quotient(index, divider):\n",
        "  return index // divider"
      ],
      "metadata": {
        "id": "KUgYWrsIdrI5"
      },
      "execution_count": 179,
      "outputs": []
    },
    {
      "cell_type": "code",
      "source": [
        "def Remainder(index, divider):\n",
        "  return index % divider"
      ],
      "metadata": {
        "id": "6jhTlzGAdtXz"
      },
      "execution_count": 180,
      "outputs": []
    },
    {
      "cell_type": "code",
      "source": [
        "index = 45"
      ],
      "metadata": {
        "id": "PFEIfEitJxHz"
      },
      "execution_count": 191,
      "outputs": []
    },
    {
      "cell_type": "code",
      "source": [
        "k = 4"
      ],
      "metadata": {
        "id": "tBj_YGB1Jzgh"
      },
      "execution_count": 192,
      "outputs": []
    },
    {
      "cell_type": "code",
      "source": [
        "NumberToPattern(index, k)"
      ],
      "metadata": {
        "colab": {
          "base_uri": "https://localhost:8080/",
          "height": 35
        },
        "id": "ClCCkhAoKt-A",
        "outputId": "080f630c-4c92-4574-cd78-653dc9281d4c"
      },
      "execution_count": 195,
      "outputs": [
        {
          "output_type": "execute_result",
          "data": {
            "text/plain": [
              "'AGTC'"
            ],
            "application/vnd.google.colaboratory.intrinsic+json": {
              "type": "string"
            }
          },
          "metadata": {},
          "execution_count": 195
        }
      ]
    },
    {
      "cell_type": "code",
      "source": [
        "k = 4"
      ],
      "metadata": {
        "id": "1oDLQSBgPgDr"
      },
      "execution_count": 154,
      "outputs": []
    },
    {
      "cell_type": "code",
      "source": [
        "pattern = 'AACGT'"
      ],
      "metadata": {
        "id": "58wSMnz2Y8ia"
      },
      "execution_count": 155,
      "outputs": []
    },
    {
      "cell_type": "code",
      "source": [
        "PatternToNumber(pattern)"
      ],
      "metadata": {
        "colab": {
          "base_uri": "https://localhost:8080/"
        },
        "id": "6gWif-tjY4pL",
        "outputId": "c04b485c-bbb2-4b56-ce8d-12c00687585a"
      },
      "execution_count": 156,
      "outputs": [
        {
          "output_type": "execute_result",
          "data": {
            "text/plain": [
              "27"
            ]
          },
          "metadata": {},
          "execution_count": 156
        }
      ]
    },
    {
      "cell_type": "markdown",
      "source": [
        "27 = 3 + 2 * 4 + 1 * 16"
      ],
      "metadata": {
        "id": "N_BvM2lKZf-L"
      }
    },
    {
      "cell_type": "markdown",
      "source": [
        "index = a + b + c + d + ...\n",
        "\n",
        "a ϵ {0, 1, 2, 3}\n",
        "\n",
        "b ϵ {0 * 4, 1 * 4, 2 * 4, 3 * 4}\n",
        "\n",
        "c ϵ {0 * 16, 1 * 16, 2 * 16, 3 * 16}\n",
        "\n",
        "d ϵ {0 * 64, 1 * 64, 2 * 64, 3 * 64}"
      ],
      "metadata": {
        "id": "mLw2pM8e1mZb"
      }
    },
    {
      "cell_type": "code",
      "source": [
        "int(1.16)"
      ],
      "metadata": {
        "colab": {
          "base_uri": "https://localhost:8080/"
        },
        "id": "-jpk2E6G3msh",
        "outputId": "b0219ab8-3996-4d26-c1da-a0b8a7f46fec"
      },
      "execution_count": 3,
      "outputs": [
        {
          "output_type": "execute_result",
          "data": {
            "text/plain": [
              "1"
            ]
          },
          "metadata": {},
          "execution_count": 3
        }
      ]
    },
    {
      "cell_type": "markdown",
      "source": [
        "27 = 3 + 2 * 4 + 1 * 16\n",
        "\n",
        "27 - 3 = 2 * 4 + 1 * 16 / 16\n",
        "\n",
        "(27 - 3)/16 = (2 * 4)/16 + (1 * 16)/16\n",
        "\n",
        "prvi pribrojnik uvijek manji od 1 jer je maksimalni nazivnik 12 (3 * 4), drugi pribrojnik cijeli broj veći od nule\n",
        "\n",
        "Da je bio treći pribrojnik također bi dobili cijeli broj jer je 64 djeljiv sa 16, da je bio četvrti pribrojnik također bi dobili cijeli broj jer je 128 djeljiv sa 16 itd ...\n",
        "\n",
        "Dakle uzmemo, int((2 * 4)/16 + (1 * 16)/16) --> dobijemo cijeli broj --> (27 - 3)/16 - dobiveni cijeli broj = broj manji od 1, dio koji odgovara (2 * 4)/16 --> dakle, (2 * 4)/16 = dobiveni broj manji od 1 --> 2 = dobiveni broj manji od 1 * 16/4 --> rezultat je broj koji nam govori koliko nukleotida se nalazi prije zadnjeg nukleotida\n",
        "\n",
        "(27 - 3)/16 - (2 * 4)/16 = (1 * 16)/16 --> prije svake sljedeće iteracije moramo oduzeti tako da nam samo jedan pribrojnik bude manji od 1"
      ],
      "metadata": {
        "id": "DXfodScN3rmO"
      }
    },
    {
      "cell_type": "code",
      "source": [
        "k = 9"
      ],
      "metadata": {
        "id": "xFedGhrIZwhH"
      },
      "execution_count": 197,
      "outputs": []
    },
    {
      "cell_type": "code",
      "source": [
        "index = 5333"
      ],
      "metadata": {
        "id": "SkHbbGuLZzNA"
      },
      "execution_count": 198,
      "outputs": []
    },
    {
      "cell_type": "code",
      "source": [
        "NumberToPattern(index, k)"
      ],
      "metadata": {
        "colab": {
          "base_uri": "https://localhost:8080/",
          "height": 35
        },
        "id": "L54awneaZ0Lq",
        "outputId": "1eebadef-21c3-471e-b6b3-dd3dd9491f44"
      },
      "execution_count": 199,
      "outputs": [
        {
          "output_type": "execute_result",
          "data": {
            "text/plain": [
              "'AACCATCCC'"
            ],
            "application/vnd.google.colaboratory.intrinsic+json": {
              "type": "string"
            }
          },
          "metadata": {},
          "execution_count": 199
        }
      ]
    }
  ]
}