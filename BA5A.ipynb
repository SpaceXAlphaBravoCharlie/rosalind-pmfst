{
  "cells": [
    {
      "cell_type": "markdown",
      "metadata": {
        "id": "s6hPIsoSt12S"
      },
      "source": [
        "To avoid the many recursive calls needed to compute MINNUMCOINS(money), we\n",
        "will use a dynamic programming strategy. Wouldn’t it be nice to know all the values of MINNUMCOINS(money - coin i) by the time we compute MINNUMCOINS(money)?\n",
        "Instead of making time-consuming calls to RECURSIVECHANGE(money - coin i, COINS), we could simply look up the values of MINNUMCOINS(money - coin i) in an array and thus compute MINNUMCOINS(money) using just |COINS| comparisons. The key to dynamic programming is to take a step that may seem counterintuitive. Instead of computing MINNUMCOINS(m) for every value of m from 76 downward toward m = 1 via recursive calls, we will invert our thinking and compute MINNUMCOINS(m) from m = 1 upward toward 76, storing all these values in an array so that we only need to compute MINNUMCOINS(m) once for each value of m.\n",
        "\n",
        "MINNUMCOINS(m) is still computed via the same recurrence relation:\n",
        "\n",
        "MINNUMCOINS(m) = min {\n",
        "\n",
        "MINNUMCOINS(m - 5) + 1\n",
        "\n",
        "MINNUMCOINS(m - 4) + 1\n",
        "\n",
        "MINNUMCOINS(m - 1) + 1\n",
        "\n",
        "}\n",
        "\n",
        "Instead of computing MINNUMCOINS(m) for every value of m from 76 downward toward m = 1 via recursive calls, we will invert our thinking and compute MINNUMCOINS(m) from m = 1 upward toward 76, storing all these values in an array so that we only need to compute MINNUMCOINS(m) once for each value of m. --> za svaki m = 1,...,money, samo jednom izračunamo vrijednost MinNumCoins(m), za svaki m, MinNumCoins(m) se reačuna preko vrijednosti MinNumCoins za m-ove manje od m --> zbog navedenog računamo MinNumCoins(m) za m = 1 prema 76 --> dakle, kada računamo MinNumCoins(m), MinNumCoins(mn-coin 1), ..., MinNumCoins(m - coin d) su već izračunati pa moramo pogledati njihove vrijednosti u lookup tablici"
      ]
    },
    {
      "cell_type": "code",
      "source": [
        "import numpy as np"
      ],
      "metadata": {
        "id": "Up67zyoVxsXz"
      },
      "execution_count": null,
      "outputs": []
    },
    {
      "cell_type": "code",
      "execution_count": null,
      "metadata": {
        "id": "ALkP_Q9P5Y2N"
      },
      "outputs": [],
      "source": [
        "def DPChange(money,coins):\n",
        "  min_num_coins = np.full(money+1,fill_value=np.inf) #lookup table --> holds MinNumCoins(m) for m = 1,...,money\n",
        "  min_num_coins[0] = 0\n",
        "  for m in range(1,money+1): #upper bound not included --> last m = money\n",
        "    for i in range(len(coins)):\n",
        "      if m >= coins[i]:\n",
        "        if min_num_coins[m-coins[i]] + 1 < min_num_coins[m]:\n",
        "          min_num_coins[m] = min_num_coins[m-coins[i]] + 1\n",
        "  return int(min_num_coins[money])"
      ]
    },
    {
      "cell_type": "code",
      "execution_count": null,
      "metadata": {
        "id": "ppJ-WwWK5jnZ"
      },
      "outputs": [],
      "source": [
        "money = 40"
      ]
    },
    {
      "cell_type": "code",
      "execution_count": null,
      "metadata": {
        "id": "nCktndAt5nDq"
      },
      "outputs": [],
      "source": [
        "coins = [1,5,10,20,25,50]"
      ]
    },
    {
      "cell_type": "code",
      "execution_count": null,
      "metadata": {
        "colab": {
          "base_uri": "https://localhost:8080/"
        },
        "id": "9AXPxhWo92AZ",
        "outputId": "84d4357d-49d5-4449-904b-3b6290dd2be4"
      },
      "outputs": [
        {
          "output_type": "execute_result",
          "data": {
            "text/plain": [
              "2"
            ]
          },
          "metadata": {},
          "execution_count": 10
        }
      ],
      "source": [
        "DPChange(money,coins)"
      ]
    },
    {
      "cell_type": "code",
      "execution_count": null,
      "metadata": {
        "id": "IT_SgIUjwHpP"
      },
      "outputs": [],
      "source": [
        "with open('/content/rosalind_ba5a.txt') as task_file:\n",
        "  task_arguments = [line.rstrip() for line in task_file]"
      ]
    },
    {
      "cell_type": "code",
      "execution_count": null,
      "metadata": {
        "id": "o4-KRDNawITN"
      },
      "outputs": [],
      "source": [
        "money = int(task_arguments[0])"
      ]
    },
    {
      "cell_type": "code",
      "execution_count": null,
      "metadata": {
        "id": "_kccmQlPwz6K"
      },
      "outputs": [],
      "source": [
        "coins = task_arguments[1]"
      ]
    },
    {
      "cell_type": "code",
      "execution_count": null,
      "metadata": {
        "id": "hJRyoxiXwKHa"
      },
      "outputs": [],
      "source": [
        "coins = task_arguments[1]\n",
        "coins = coins.split(',')\n",
        "for i in range(len(coins)):\n",
        " coins[i] = (int(coins[i]))"
      ]
    },
    {
      "cell_type": "code",
      "execution_count": null,
      "metadata": {
        "id": "VfG2jqeZBXR3"
      },
      "outputs": [],
      "source": [
        "f = open(\"task_result.txt\",\"w\")\n",
        "f.write(str(DPChange(money,coins)))\n",
        "f.close()"
      ]
    }
  ],
  "metadata": {
    "colab": {
      "name": "BA5A.ipynb",
      "provenance": []
    },
    "kernelspec": {
      "display_name": "Python 3",
      "name": "python3"
    },
    "language_info": {
      "name": "python"
    }
  },
  "nbformat": 4,
  "nbformat_minor": 0
}