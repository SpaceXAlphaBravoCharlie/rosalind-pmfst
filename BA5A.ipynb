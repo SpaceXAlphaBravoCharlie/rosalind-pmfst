{
  "nbformat": 4,
  "nbformat_minor": 0,
  "metadata": {
    "colab": {
      "name": "BA5A.ipynb",
      "provenance": []
    },
    "kernelspec": {
      "name": "python3",
      "display_name": "Python 3"
    },
    "language_info": {
      "name": "python"
    }
  },
  "cells": [
    {
      "cell_type": "code",
      "execution_count": null,
      "metadata": {
        "id": "-u6IqQIJr-IW"
      },
      "outputs": [],
      "source": [
        "import numpy as np"
      ]
    },
    {
      "cell_type": "code",
      "source": [
        "def DPChange(Money, Coins):\n",
        "  MinNumCoins = np.full(Money+1,fill_value=np.inf)\n",
        "  MinNumCoins[0] = 0\n",
        "  for m in range(1,Money+1):\n",
        "    for i in range(len(Coins)):\n",
        "      if m >= Coins[i]:\n",
        "        if MinNumCoins[m - Coins[i]] + 1 < MinNumCoins[m]:\n",
        "          MinNumCoins[m] = MinNumCoins[m - Coins[i]] + 1\n",
        "  return int(MinNumCoins[Money])"
      ],
      "metadata": {
        "id": "ALkP_Q9P5Y2N"
      },
      "execution_count": null,
      "outputs": []
    },
    {
      "cell_type": "code",
      "source": [
        "Money = 40"
      ],
      "metadata": {
        "id": "ppJ-WwWK5jnZ"
      },
      "execution_count": null,
      "outputs": []
    },
    {
      "cell_type": "code",
      "source": [
        "Coins = [1,5,10,20,25,50]"
      ],
      "metadata": {
        "id": "nCktndAt5nDq"
      },
      "execution_count": null,
      "outputs": []
    },
    {
      "cell_type": "code",
      "source": [
        "DPChange(Money, Coins)"
      ],
      "metadata": {
        "colab": {
          "base_uri": "https://localhost:8080/"
        },
        "id": "9AXPxhWo92AZ",
        "outputId": "728a6f63-d35b-4414-ada7-f1a087e953df"
      },
      "execution_count": null,
      "outputs": [
        {
          "output_type": "execute_result",
          "data": {
            "text/plain": [
              "2"
            ]
          },
          "metadata": {},
          "execution_count": 103
        }
      ]
    },
    {
      "cell_type": "code",
      "source": [
        "Money = 16076"
      ],
      "metadata": {
        "id": "AT0dPCtFBRHk"
      },
      "execution_count": null,
      "outputs": []
    },
    {
      "cell_type": "code",
      "source": [
        "Coins = [1,3,5,20]"
      ],
      "metadata": {
        "id": "lEjSRgInBSss"
      },
      "execution_count": null,
      "outputs": []
    },
    {
      "cell_type": "code",
      "source": [
        "DPChange(Money, Coins)"
      ],
      "metadata": {
        "colab": {
          "base_uri": "https://localhost:8080/"
        },
        "id": "VfG2jqeZBXR3",
        "outputId": "addbb2db-0597-470e-8da1-f5bd06171410"
      },
      "execution_count": null,
      "outputs": [
        {
          "output_type": "execute_result",
          "data": {
            "text/plain": [
              "807"
            ]
          },
          "metadata": {},
          "execution_count": 106
        }
      ]
    }
  ]
}