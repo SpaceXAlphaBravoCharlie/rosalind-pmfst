{
  "nbformat": 4,
  "nbformat_minor": 0,
  "metadata": {
    "colab": {
      "name": "BA6I.ipynb",
      "provenance": []
    },
    "kernelspec": {
      "name": "python3",
      "display_name": "Python 3"
    },
    "language_info": {
      "name": "python"
    }
  },
  "cells": [
    {
      "cell_type": "code",
      "source": [
        "def IntegerPairToSyntenyBlock(integer_pair):\n",
        "  if integer_pair[0] < integer_pair[1]:\n",
        "    return '+' + str(int(integer_pair[1]/2))\n",
        "  else:\n",
        "    return '-' + str(int((integer_pair[0]/2)))"
      ],
      "metadata": {
        "id": "Htxf1mdjANx8"
      },
      "execution_count": 94,
      "outputs": []
    },
    {
      "cell_type": "code",
      "source": [
        "def FormatForPrinting(chromosome):\n",
        "  string_to_print = '('\n",
        "  for number in enumerate(chromosome):\n",
        "    if number[0] < len(chromosome) - 1:\n",
        "      string_to_print = string_to_print + str(number[1]) + ' '\n",
        "    else:\n",
        "      string_to_print = string_to_print + str(number[1]) + ')'\n",
        "  return string_to_print"
      ],
      "metadata": {
        "id": "lbBa6QvtrdxX"
      },
      "execution_count": 95,
      "outputs": []
    },
    {
      "cell_type": "code",
      "source": [
        "def CycleToChromosome(cycle):\n",
        "  chromosome = []\n",
        "  for i in range(len(cycle)):\n",
        "    chromosome.append([])\n",
        "  for subcycle in enumerate(cycle):\n",
        "    i = 0\n",
        "    while i + 1 <= len(subcycle[1]) - 1:\n",
        "      chromosome[subcycle[0]].append(IntegerPairToSyntenyBlock((subcycle[1])[i:i+2]))\n",
        "      i = i + 2\n",
        "  string_to_print = ''\n",
        "  for chromosome_part in chromosome:\n",
        "    string_to_print = string_to_print + FormatForPrinting(chromosome_part)\n",
        "  print(string_to_print)\n",
        "  return chromosome"
      ],
      "metadata": {
        "id": "h8CWBydPnikZ"
      },
      "execution_count": 96,
      "outputs": []
    },
    {
      "cell_type": "code",
      "source": [
        "def GraphToGenome(graph):\n",
        "  cycle = [[]]\n",
        "  i = 0\n",
        "  for colored_edge in graph:\n",
        "    if len(cycle[i]) == 0:\n",
        "      if colored_edge[0] % 2 == 0:\n",
        "        cycle[i].append(colored_edge[0] - 1)\n",
        "      else:\n",
        "        cycle[i].append(colored_edge[0] + 1)\n",
        "      cycle[i].append(colored_edge[0])\n",
        "      cycle[i].append(colored_edge[1])\n",
        "    else:\n",
        "      if colored_edge[1] == cycle[i][0]:\n",
        "        cycle[i].append(colored_edge[0])\n",
        "        cycle.append([])\n",
        "        i = i + 1\n",
        "      else:\n",
        "        cycle[i].append(colored_edge[0])\n",
        "        cycle[i].append(colored_edge[1])\n",
        "  cycle.pop(len(cycle) - 1)\n",
        "  return CycleToChromosome(cycle)"
      ],
      "metadata": {
        "id": "iVrH-992AMf_"
      },
      "execution_count": 90,
      "outputs": []
    },
    {
      "cell_type": "code",
      "source": [
        "graph = [(2, 4), (3, 6), (5, 1), (7, 9), (10, 12), (11, 8)]"
      ],
      "metadata": {
        "id": "1jrFV2BlAO19"
      },
      "execution_count": 91,
      "outputs": []
    },
    {
      "cell_type": "code",
      "source": [
        "graph"
      ],
      "metadata": {
        "colab": {
          "base_uri": "https://localhost:8080/"
        },
        "id": "z_2VQMJLAh8o",
        "outputId": "7d1d7d2e-1b82-4ecc-f212-e5b5943cbb32"
      },
      "execution_count": 92,
      "outputs": [
        {
          "output_type": "execute_result",
          "data": {
            "text/plain": [
              "[(2, 4), (3, 6), (5, 1), (7, 9), (10, 12), (11, 8)]"
            ]
          },
          "metadata": {},
          "execution_count": 92
        }
      ]
    },
    {
      "cell_type": "code",
      "source": [
        "GraphToGenome(graph)"
      ],
      "metadata": {
        "colab": {
          "base_uri": "https://localhost:8080/"
        },
        "id": "0riH29qgmqV6",
        "outputId": "a428073c-4f20-4607-ae7d-263d783a9ffa"
      },
      "execution_count": 93,
      "outputs": [
        {
          "output_type": "stream",
          "name": "stdout",
          "text": [
            "(+1 -2 -3)(-4 +5 -6)\n"
          ]
        },
        {
          "output_type": "execute_result",
          "data": {
            "text/plain": [
              "[['+1', '-2', '-3'], ['-4', '+5', '-6']]"
            ]
          },
          "metadata": {},
          "execution_count": 93
        }
      ]
    },
    {
      "cell_type": "code",
      "source": [
        "with open('/content/rosalind_ba6i.txt') as task_file:\n",
        "  graph = [line.rstrip() for line in task_file]"
      ],
      "metadata": {
        "id": "r_DzyDz4sXxn"
      },
      "execution_count": 140,
      "outputs": []
    },
    {
      "cell_type": "code",
      "source": [
        "graph = graph[0]"
      ],
      "metadata": {
        "id": "bJg6WKJqxXfU"
      },
      "execution_count": 141,
      "outputs": []
    },
    {
      "cell_type": "code",
      "source": [
        "graph_tuples = []\n",
        "for colored_edge in graph.split(', ('):\n",
        "  colored_edge = colored_edge.replace('(', '')\n",
        "  colored_edge = colored_edge.replace(')', '')\n",
        "  colored_edge = colored_edge.replace(',', '')\n",
        "  graph_tuples.append((int(colored_edge.split(' ')[0]), int(colored_edge.split(' ')[1])))"
      ],
      "metadata": {
        "id": "pfSdnHzKwEbx"
      },
      "execution_count": 142,
      "outputs": []
    },
    {
      "cell_type": "code",
      "source": [
        "graph_tuples"
      ],
      "metadata": {
        "id": "VsDQQDN0w8Eo"
      },
      "execution_count": null,
      "outputs": []
    },
    {
      "cell_type": "code",
      "source": [
        "GraphToGenome(graph_tuples)"
      ],
      "metadata": {
        "id": "88LHtLbHxdAv"
      },
      "execution_count": null,
      "outputs": []
    }
  ]
}