{
  "nbformat": 4,
  "nbformat_minor": 0,
  "metadata": {
    "colab": {
      "name": "BA6I.ipynb",
      "provenance": []
    },
    "kernelspec": {
      "name": "python3",
      "display_name": "Python 3"
    },
    "language_info": {
      "name": "python"
    }
  },
  "cells": [
    {
      "cell_type": "markdown",
      "source": [
        "xt = 2x - 1\n",
        "\n",
        "xh = 2x"
      ],
      "metadata": {
        "id": "RFhE7pcoYDSO"
      }
    },
    {
      "cell_type": "code",
      "source": [
        "def IntegerPairToSyntenyBlock(integer_pair):\n",
        "  if integer_pair[0] < integer_pair[1]: #xt then xh\n",
        "    return '+' + str(int(integer_pair[1]/2)) #xh = 2x --> xh/2 = x\n",
        "  else: #xh then xt\n",
        "    return '-' + str(int((integer_pair[0]/2)))"
      ],
      "metadata": {
        "id": "OwhOJwFZYBvS"
      },
      "execution_count": 13,
      "outputs": []
    },
    {
      "cell_type": "code",
      "source": [
        "def FormatForPrinting(chromosome):\n",
        "  string_to_print = '('\n",
        "  for number in enumerate(chromosome):\n",
        "    if number[0] < len(chromosome) - 1:\n",
        "      string_to_print = string_to_print + str(number[1]) + ' '\n",
        "    else:\n",
        "      string_to_print = string_to_print + str(number[1]) + ')'\n",
        "  return string_to_print"
      ],
      "metadata": {
        "id": "lbBa6QvtrdxX"
      },
      "execution_count": 14,
      "outputs": []
    },
    {
      "cell_type": "code",
      "source": [
        "def FormatForPrinting(chromosome):\n",
        "  string_to_print = '('\n",
        "  for number in chromosome:\n",
        "    string_to_print = string_to_print + str(number) + ' '\n",
        "  return string_to_print[0:len(string_to_print)-1] + ')'"
      ],
      "metadata": {
        "id": "W_a5dQrZY7kl"
      },
      "execution_count": 16,
      "outputs": []
    },
    {
      "cell_type": "code",
      "source": [
        "def CycleToChromosome(cycle):\n",
        "  f = open(\"task_result.txt\",\"w\")\n",
        "  chromosome = []\n",
        "  for i in range(len(cycle)):\n",
        "    chromosome.append([]) #[] for every chromosome in cycle\n",
        "  for subcycle in enumerate(cycle):\n",
        "    i = 0\n",
        "    while i + 1 <= len(subcycle[1]) - 1: #last index of last 2-mer is last element in chromosome\n",
        "      chromosome[subcycle[0]].append(IntegerPairToSyntenyBlock((subcycle[1])[i:i+2]))\n",
        "      i = i + 2\n",
        "  string_to_print = ''\n",
        "  for chromosome_part in chromosome:\n",
        "    string_to_print = string_to_print + FormatForPrinting(chromosome_part)\n",
        "  #print(string_to_print)\n",
        "  f.write(string_to_print)\n",
        "  f.close()\n",
        "  return chromosome"
      ],
      "metadata": {
        "id": "h8CWBydPnikZ"
      },
      "execution_count": 21,
      "outputs": []
    },
    {
      "cell_type": "markdown",
      "source": [
        "we will assume that an n-element array (a1, ... , an) has an invisible (n + 1)-\n",
        "th element that is equal to its first element, i.e., an+1 = a1.\n",
        "\n",
        "P = (p1 p2 ... pn) --> pn je povezan sa p1"
      ],
      "metadata": {
        "id": "yNqSFVBSSudq"
      }
    },
    {
      "cell_type": "markdown",
      "source": [
        "\n",
        "\n",
        "crvena veza --> može povezivati h jedne crne veze i t druge crvene veze, t jedne crne veze sa t druge crne veze, h jedne crne veze sa t druge crne veze, h jedne crne veze sa h druge crne veze"
      ],
      "metadata": {
        "id": "aV6aCvPyTm5E"
      }
    },
    {
      "cell_type": "code",
      "source": [
        "def GraphToGenome(graph):\n",
        "  cycle = [[]]\n",
        "  i = 0\n",
        "  for colored_edge in graph:\n",
        "    if len(cycle[i]) == 0: #colored_edge is the first given edge\n",
        "      if colored_edge[0] % 2 == 0: #xh = 2x --> xh/2 = x\n",
        "        cycle[i].append(colored_edge[0] - 1) #colored_edge[0] is the second node of black edge --> if colored_edge[0] = xh then first node of black edge is colored_edge[0] - 1\n",
        "      else: #xt = 2x-1 --> xt/2 = x - 1/2 \n",
        "        cycle[i].append(colored_edge[0] + 1) #colored_edge[0] is the second node of black edge representing synteny block --> if colored_edge[0] = xt then first node of black is colored_edge[0] + 1\n",
        "      cycle[i].append(colored_edge[0]) #append second node of black edge\n",
        "      cycle[i].append(colored_edge[1]) #append first node of next synteny block\n",
        "    else: #colored_edge is not the first given edge\n",
        "      if colored_edge[1] == cycle[i][0]: #first node of next synteny block is the first node of first black edge of the cycle we are building --> chromosome\n",
        "        cycle[i].append(colored_edge[0]) #colored_edge[0] --> first node of current synteny block is already appended\n",
        "        cycle.append([]) #start new chromosome\n",
        "        i = i + 1 #append to new chromosome\n",
        "      else: #first node of next synteny block is not the first node of first black edge of the cycle we are building\n",
        "        cycle[i].append(colored_edge[0]) #colored_edge[0] is the second node of current synteny block --> first node is already appended\n",
        "        cycle[i].append(colored_edge[1]) #append first node of next synteny block\n",
        "  cycle.pop(len(cycle) - 1) #pop empty list\n",
        "  return CycleToChromosome(cycle)"
      ],
      "metadata": {
        "id": "iVrH-992AMf_"
      },
      "execution_count": 18,
      "outputs": []
    },
    {
      "cell_type": "code",
      "source": [
        "graph = [(2, 4), (3, 6), (5, 1), (7, 9), (10, 12), (11, 8)]"
      ],
      "metadata": {
        "id": "1jrFV2BlAO19"
      },
      "execution_count": 19,
      "outputs": []
    },
    {
      "cell_type": "code",
      "source": [
        "GraphToGenome(graph)"
      ],
      "metadata": {
        "colab": {
          "base_uri": "https://localhost:8080/"
        },
        "id": "0riH29qgmqV6",
        "outputId": "ea2875fb-b54a-47e9-a557-1bba937d9aac"
      },
      "execution_count": 20,
      "outputs": [
        {
          "output_type": "stream",
          "name": "stdout",
          "text": [
            "(+1 -2 -3)(-4 +5 -6)\n"
          ]
        },
        {
          "output_type": "execute_result",
          "data": {
            "text/plain": [
              "[['+1', '-2', '-3'], ['-4', '+5', '-6']]"
            ]
          },
          "metadata": {},
          "execution_count": 20
        }
      ]
    },
    {
      "cell_type": "code",
      "source": [
        "graph = [(2, 4), (3, 1), (7, 5), (6, 8)]"
      ],
      "metadata": {
        "id": "CAKMRwmUSfyo"
      },
      "execution_count": 8,
      "outputs": []
    },
    {
      "cell_type": "code",
      "source": [
        "graph"
      ],
      "metadata": {
        "id": "BQhNVaGWSm_C",
        "outputId": "db11a283-1cf0-4436-eff0-889769f1f9f4",
        "colab": {
          "base_uri": "https://localhost:8080/"
        }
      },
      "execution_count": 9,
      "outputs": [
        {
          "output_type": "execute_result",
          "data": {
            "text/plain": [
              "[(2, 4), (3, 1), (7, 5), (6, 8)]"
            ]
          },
          "metadata": {},
          "execution_count": 9
        }
      ]
    },
    {
      "cell_type": "code",
      "source": [
        "GraphToGenome(graph)"
      ],
      "metadata": {
        "colab": {
          "base_uri": "https://localhost:8080/"
        },
        "id": "rbRRW1l2ShTJ",
        "outputId": "93bcd648-c711-4c8e-e99b-c2958e381caf"
      },
      "execution_count": 10,
      "outputs": [
        {
          "output_type": "stream",
          "name": "stdout",
          "text": [
            "(+1 -2)(-4 +3)\n"
          ]
        },
        {
          "output_type": "execute_result",
          "data": {
            "text/plain": [
              "[['+1', '-2'], ['-4', '+3']]"
            ]
          },
          "metadata": {},
          "execution_count": 10
        }
      ]
    },
    {
      "cell_type": "code",
      "source": [
        "with open('/content/rosalind_ba6i.txt') as task_file:\n",
        "  graph = [line.rstrip() for line in task_file][0]"
      ],
      "metadata": {
        "id": "r_DzyDz4sXxn"
      },
      "execution_count": 22,
      "outputs": []
    },
    {
      "cell_type": "code",
      "source": [
        "graph_tuples = []\n",
        "for colored_edge in graph.split(', ('):\n",
        "  colored_edge = colored_edge.replace('(', '')\n",
        "  colored_edge = colored_edge.replace(')', '')\n",
        "  colored_edge = colored_edge.replace(',', '')\n",
        "  graph_tuples.append((int(colored_edge.split(' ')[0]), int(colored_edge.split(' ')[1])))"
      ],
      "metadata": {
        "id": "pfSdnHzKwEbx"
      },
      "execution_count": 23,
      "outputs": []
    },
    {
      "cell_type": "code",
      "source": [
        "GraphToGenome(graph_tuples)"
      ],
      "metadata": {
        "id": "88LHtLbHxdAv"
      },
      "execution_count": null,
      "outputs": []
    }
  ]
}