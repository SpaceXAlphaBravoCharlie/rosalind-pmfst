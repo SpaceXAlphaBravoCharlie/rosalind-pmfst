{
  "nbformat": 4,
  "nbformat_minor": 0,
  "metadata": {
    "colab": {
      "name": "BA4A.ipynb",
      "provenance": [],
      "collapsed_sections": []
    },
    "kernelspec": {
      "name": "python3",
      "display_name": "Python 3"
    },
    "language_info": {
      "name": "python"
    }
  },
  "cells": [
    {
      "cell_type": "code",
      "source": [
        "import pandas as pd"
      ],
      "metadata": {
        "id": "bJnTFwjwAP7E"
      },
      "execution_count": null,
      "outputs": []
    },
    {
      "cell_type": "code",
      "source": [
        "test_df = pd.read_csv('/content/task.txt', header=None, delimiter=' ')"
      ],
      "metadata": {
        "id": "ZHyEqX0BAy9X"
      },
      "execution_count": null,
      "outputs": []
    },
    {
      "cell_type": "code",
      "source": [
        "test_df"
      ],
      "metadata": {
        "colab": {
          "base_uri": "https://localhost:8080/",
          "height": 551
        },
        "id": "xrS4QhIwBMI_",
        "outputId": "05ce7ffd-3053-40f2-8201-ce18fc5e9938"
      },
      "execution_count": null,
      "outputs": [
        {
          "output_type": "execute_result",
          "data": {
            "text/plain": [
              "    0    1  2   3    4  5   6    7  8   9    10 11  12\n",
              "0    0  AAA  K  16  CAA  Q  32  GAA  E  48  UAA  * NaN\n",
              "1    1  AAC  N  17  CAC  H  33  GAC  D  49  UAC  Y NaN\n",
              "2    2  AAG  K  18  CAG  Q  34  GAG  E  50  UAG  * NaN\n",
              "3    3  AAU  N  19  CAU  H  35  GAU  D  51  UAU  Y NaN\n",
              "4    4  ACA  T  20  CCA  P  36  GCA  A  52  UCA  S NaN\n",
              "5    5  ACC  T  21  CCC  P  37  GCC  A  53  UCC  S NaN\n",
              "6    6  ACG  T  22  CCG  P  38  GCG  A  54  UCG  S NaN\n",
              "7    7  ACU  T  23  CCU  P  39  GCU  A  55  UCU  S NaN\n",
              "8    8  AGA  R  24  CGA  R  40  GGA  G  56  UGA  * NaN\n",
              "9    9  AGC  S  25  CGC  R  41  GGC  G  57  UGC  C NaN\n",
              "10  10  AGG  R  26  CGG  R  42  GGG  G  58  UGG  W NaN\n",
              "11  11  AGU  S  27  CGU  R  43  GGU  G  59  UGU  C NaN\n",
              "12  12  AUA  I  28  CUA  L  44  GUA  V  60  UUA  L NaN\n",
              "13  13  AUC  I  29  CUC  L  45  GUC  V  61  UUC  F NaN\n",
              "14  14  AUG  M  30  CUG  L  46  GUG  V  62  UUG  L NaN\n",
              "15  15  AUU  I  31  CUU  L  47  GUU  V  63  UUU  F NaN"
            ],
            "text/html": [
              "\n",
              "  <div id=\"df-a3c12551-b372-410a-a43e-1eca01ce090f\">\n",
              "    <div class=\"colab-df-container\">\n",
              "      <div>\n",
              "<style scoped>\n",
              "    .dataframe tbody tr th:only-of-type {\n",
              "        vertical-align: middle;\n",
              "    }\n",
              "\n",
              "    .dataframe tbody tr th {\n",
              "        vertical-align: top;\n",
              "    }\n",
              "\n",
              "    .dataframe thead th {\n",
              "        text-align: right;\n",
              "    }\n",
              "</style>\n",
              "<table border=\"1\" class=\"dataframe\">\n",
              "  <thead>\n",
              "    <tr style=\"text-align: right;\">\n",
              "      <th></th>\n",
              "      <th>0</th>\n",
              "      <th>1</th>\n",
              "      <th>2</th>\n",
              "      <th>3</th>\n",
              "      <th>4</th>\n",
              "      <th>5</th>\n",
              "      <th>6</th>\n",
              "      <th>7</th>\n",
              "      <th>8</th>\n",
              "      <th>9</th>\n",
              "      <th>10</th>\n",
              "      <th>11</th>\n",
              "      <th>12</th>\n",
              "    </tr>\n",
              "  </thead>\n",
              "  <tbody>\n",
              "    <tr>\n",
              "      <th>0</th>\n",
              "      <td>0</td>\n",
              "      <td>AAA</td>\n",
              "      <td>K</td>\n",
              "      <td>16</td>\n",
              "      <td>CAA</td>\n",
              "      <td>Q</td>\n",
              "      <td>32</td>\n",
              "      <td>GAA</td>\n",
              "      <td>E</td>\n",
              "      <td>48</td>\n",
              "      <td>UAA</td>\n",
              "      <td>*</td>\n",
              "      <td>NaN</td>\n",
              "    </tr>\n",
              "    <tr>\n",
              "      <th>1</th>\n",
              "      <td>1</td>\n",
              "      <td>AAC</td>\n",
              "      <td>N</td>\n",
              "      <td>17</td>\n",
              "      <td>CAC</td>\n",
              "      <td>H</td>\n",
              "      <td>33</td>\n",
              "      <td>GAC</td>\n",
              "      <td>D</td>\n",
              "      <td>49</td>\n",
              "      <td>UAC</td>\n",
              "      <td>Y</td>\n",
              "      <td>NaN</td>\n",
              "    </tr>\n",
              "    <tr>\n",
              "      <th>2</th>\n",
              "      <td>2</td>\n",
              "      <td>AAG</td>\n",
              "      <td>K</td>\n",
              "      <td>18</td>\n",
              "      <td>CAG</td>\n",
              "      <td>Q</td>\n",
              "      <td>34</td>\n",
              "      <td>GAG</td>\n",
              "      <td>E</td>\n",
              "      <td>50</td>\n",
              "      <td>UAG</td>\n",
              "      <td>*</td>\n",
              "      <td>NaN</td>\n",
              "    </tr>\n",
              "    <tr>\n",
              "      <th>3</th>\n",
              "      <td>3</td>\n",
              "      <td>AAU</td>\n",
              "      <td>N</td>\n",
              "      <td>19</td>\n",
              "      <td>CAU</td>\n",
              "      <td>H</td>\n",
              "      <td>35</td>\n",
              "      <td>GAU</td>\n",
              "      <td>D</td>\n",
              "      <td>51</td>\n",
              "      <td>UAU</td>\n",
              "      <td>Y</td>\n",
              "      <td>NaN</td>\n",
              "    </tr>\n",
              "    <tr>\n",
              "      <th>4</th>\n",
              "      <td>4</td>\n",
              "      <td>ACA</td>\n",
              "      <td>T</td>\n",
              "      <td>20</td>\n",
              "      <td>CCA</td>\n",
              "      <td>P</td>\n",
              "      <td>36</td>\n",
              "      <td>GCA</td>\n",
              "      <td>A</td>\n",
              "      <td>52</td>\n",
              "      <td>UCA</td>\n",
              "      <td>S</td>\n",
              "      <td>NaN</td>\n",
              "    </tr>\n",
              "    <tr>\n",
              "      <th>5</th>\n",
              "      <td>5</td>\n",
              "      <td>ACC</td>\n",
              "      <td>T</td>\n",
              "      <td>21</td>\n",
              "      <td>CCC</td>\n",
              "      <td>P</td>\n",
              "      <td>37</td>\n",
              "      <td>GCC</td>\n",
              "      <td>A</td>\n",
              "      <td>53</td>\n",
              "      <td>UCC</td>\n",
              "      <td>S</td>\n",
              "      <td>NaN</td>\n",
              "    </tr>\n",
              "    <tr>\n",
              "      <th>6</th>\n",
              "      <td>6</td>\n",
              "      <td>ACG</td>\n",
              "      <td>T</td>\n",
              "      <td>22</td>\n",
              "      <td>CCG</td>\n",
              "      <td>P</td>\n",
              "      <td>38</td>\n",
              "      <td>GCG</td>\n",
              "      <td>A</td>\n",
              "      <td>54</td>\n",
              "      <td>UCG</td>\n",
              "      <td>S</td>\n",
              "      <td>NaN</td>\n",
              "    </tr>\n",
              "    <tr>\n",
              "      <th>7</th>\n",
              "      <td>7</td>\n",
              "      <td>ACU</td>\n",
              "      <td>T</td>\n",
              "      <td>23</td>\n",
              "      <td>CCU</td>\n",
              "      <td>P</td>\n",
              "      <td>39</td>\n",
              "      <td>GCU</td>\n",
              "      <td>A</td>\n",
              "      <td>55</td>\n",
              "      <td>UCU</td>\n",
              "      <td>S</td>\n",
              "      <td>NaN</td>\n",
              "    </tr>\n",
              "    <tr>\n",
              "      <th>8</th>\n",
              "      <td>8</td>\n",
              "      <td>AGA</td>\n",
              "      <td>R</td>\n",
              "      <td>24</td>\n",
              "      <td>CGA</td>\n",
              "      <td>R</td>\n",
              "      <td>40</td>\n",
              "      <td>GGA</td>\n",
              "      <td>G</td>\n",
              "      <td>56</td>\n",
              "      <td>UGA</td>\n",
              "      <td>*</td>\n",
              "      <td>NaN</td>\n",
              "    </tr>\n",
              "    <tr>\n",
              "      <th>9</th>\n",
              "      <td>9</td>\n",
              "      <td>AGC</td>\n",
              "      <td>S</td>\n",
              "      <td>25</td>\n",
              "      <td>CGC</td>\n",
              "      <td>R</td>\n",
              "      <td>41</td>\n",
              "      <td>GGC</td>\n",
              "      <td>G</td>\n",
              "      <td>57</td>\n",
              "      <td>UGC</td>\n",
              "      <td>C</td>\n",
              "      <td>NaN</td>\n",
              "    </tr>\n",
              "    <tr>\n",
              "      <th>10</th>\n",
              "      <td>10</td>\n",
              "      <td>AGG</td>\n",
              "      <td>R</td>\n",
              "      <td>26</td>\n",
              "      <td>CGG</td>\n",
              "      <td>R</td>\n",
              "      <td>42</td>\n",
              "      <td>GGG</td>\n",
              "      <td>G</td>\n",
              "      <td>58</td>\n",
              "      <td>UGG</td>\n",
              "      <td>W</td>\n",
              "      <td>NaN</td>\n",
              "    </tr>\n",
              "    <tr>\n",
              "      <th>11</th>\n",
              "      <td>11</td>\n",
              "      <td>AGU</td>\n",
              "      <td>S</td>\n",
              "      <td>27</td>\n",
              "      <td>CGU</td>\n",
              "      <td>R</td>\n",
              "      <td>43</td>\n",
              "      <td>GGU</td>\n",
              "      <td>G</td>\n",
              "      <td>59</td>\n",
              "      <td>UGU</td>\n",
              "      <td>C</td>\n",
              "      <td>NaN</td>\n",
              "    </tr>\n",
              "    <tr>\n",
              "      <th>12</th>\n",
              "      <td>12</td>\n",
              "      <td>AUA</td>\n",
              "      <td>I</td>\n",
              "      <td>28</td>\n",
              "      <td>CUA</td>\n",
              "      <td>L</td>\n",
              "      <td>44</td>\n",
              "      <td>GUA</td>\n",
              "      <td>V</td>\n",
              "      <td>60</td>\n",
              "      <td>UUA</td>\n",
              "      <td>L</td>\n",
              "      <td>NaN</td>\n",
              "    </tr>\n",
              "    <tr>\n",
              "      <th>13</th>\n",
              "      <td>13</td>\n",
              "      <td>AUC</td>\n",
              "      <td>I</td>\n",
              "      <td>29</td>\n",
              "      <td>CUC</td>\n",
              "      <td>L</td>\n",
              "      <td>45</td>\n",
              "      <td>GUC</td>\n",
              "      <td>V</td>\n",
              "      <td>61</td>\n",
              "      <td>UUC</td>\n",
              "      <td>F</td>\n",
              "      <td>NaN</td>\n",
              "    </tr>\n",
              "    <tr>\n",
              "      <th>14</th>\n",
              "      <td>14</td>\n",
              "      <td>AUG</td>\n",
              "      <td>M</td>\n",
              "      <td>30</td>\n",
              "      <td>CUG</td>\n",
              "      <td>L</td>\n",
              "      <td>46</td>\n",
              "      <td>GUG</td>\n",
              "      <td>V</td>\n",
              "      <td>62</td>\n",
              "      <td>UUG</td>\n",
              "      <td>L</td>\n",
              "      <td>NaN</td>\n",
              "    </tr>\n",
              "    <tr>\n",
              "      <th>15</th>\n",
              "      <td>15</td>\n",
              "      <td>AUU</td>\n",
              "      <td>I</td>\n",
              "      <td>31</td>\n",
              "      <td>CUU</td>\n",
              "      <td>L</td>\n",
              "      <td>47</td>\n",
              "      <td>GUU</td>\n",
              "      <td>V</td>\n",
              "      <td>63</td>\n",
              "      <td>UUU</td>\n",
              "      <td>F</td>\n",
              "      <td>NaN</td>\n",
              "    </tr>\n",
              "  </tbody>\n",
              "</table>\n",
              "</div>\n",
              "      <button class=\"colab-df-convert\" onclick=\"convertToInteractive('df-a3c12551-b372-410a-a43e-1eca01ce090f')\"\n",
              "              title=\"Convert this dataframe to an interactive table.\"\n",
              "              style=\"display:none;\">\n",
              "        \n",
              "  <svg xmlns=\"http://www.w3.org/2000/svg\" height=\"24px\"viewBox=\"0 0 24 24\"\n",
              "       width=\"24px\">\n",
              "    <path d=\"M0 0h24v24H0V0z\" fill=\"none\"/>\n",
              "    <path d=\"M18.56 5.44l.94 2.06.94-2.06 2.06-.94-2.06-.94-.94-2.06-.94 2.06-2.06.94zm-11 1L8.5 8.5l.94-2.06 2.06-.94-2.06-.94L8.5 2.5l-.94 2.06-2.06.94zm10 10l.94 2.06.94-2.06 2.06-.94-2.06-.94-.94-2.06-.94 2.06-2.06.94z\"/><path d=\"M17.41 7.96l-1.37-1.37c-.4-.4-.92-.59-1.43-.59-.52 0-1.04.2-1.43.59L10.3 9.45l-7.72 7.72c-.78.78-.78 2.05 0 2.83L4 21.41c.39.39.9.59 1.41.59.51 0 1.02-.2 1.41-.59l7.78-7.78 2.81-2.81c.8-.78.8-2.07 0-2.86zM5.41 20L4 18.59l7.72-7.72 1.47 1.35L5.41 20z\"/>\n",
              "  </svg>\n",
              "      </button>\n",
              "      \n",
              "  <style>\n",
              "    .colab-df-container {\n",
              "      display:flex;\n",
              "      flex-wrap:wrap;\n",
              "      gap: 12px;\n",
              "    }\n",
              "\n",
              "    .colab-df-convert {\n",
              "      background-color: #E8F0FE;\n",
              "      border: none;\n",
              "      border-radius: 50%;\n",
              "      cursor: pointer;\n",
              "      display: none;\n",
              "      fill: #1967D2;\n",
              "      height: 32px;\n",
              "      padding: 0 0 0 0;\n",
              "      width: 32px;\n",
              "    }\n",
              "\n",
              "    .colab-df-convert:hover {\n",
              "      background-color: #E2EBFA;\n",
              "      box-shadow: 0px 1px 2px rgba(60, 64, 67, 0.3), 0px 1px 3px 1px rgba(60, 64, 67, 0.15);\n",
              "      fill: #174EA6;\n",
              "    }\n",
              "\n",
              "    [theme=dark] .colab-df-convert {\n",
              "      background-color: #3B4455;\n",
              "      fill: #D2E3FC;\n",
              "    }\n",
              "\n",
              "    [theme=dark] .colab-df-convert:hover {\n",
              "      background-color: #434B5C;\n",
              "      box-shadow: 0px 1px 3px 1px rgba(0, 0, 0, 0.15);\n",
              "      filter: drop-shadow(0px 1px 2px rgba(0, 0, 0, 0.3));\n",
              "      fill: #FFFFFF;\n",
              "    }\n",
              "  </style>\n",
              "\n",
              "      <script>\n",
              "        const buttonEl =\n",
              "          document.querySelector('#df-a3c12551-b372-410a-a43e-1eca01ce090f button.colab-df-convert');\n",
              "        buttonEl.style.display =\n",
              "          google.colab.kernel.accessAllowed ? 'block' : 'none';\n",
              "\n",
              "        async function convertToInteractive(key) {\n",
              "          const element = document.querySelector('#df-a3c12551-b372-410a-a43e-1eca01ce090f');\n",
              "          const dataTable =\n",
              "            await google.colab.kernel.invokeFunction('convertToInteractive',\n",
              "                                                     [key], {});\n",
              "          if (!dataTable) return;\n",
              "\n",
              "          const docLinkHtml = 'Like what you see? Visit the ' +\n",
              "            '<a target=\"_blank\" href=https://colab.research.google.com/notebooks/data_table.ipynb>data table notebook</a>'\n",
              "            + ' to learn more about interactive tables.';\n",
              "          element.innerHTML = '';\n",
              "          dataTable['output_type'] = 'display_data';\n",
              "          await google.colab.output.renderOutput(dataTable, element);\n",
              "          const docLink = document.createElement('div');\n",
              "          docLink.innerHTML = docLinkHtml;\n",
              "          element.appendChild(docLink);\n",
              "        }\n",
              "      </script>\n",
              "    </div>\n",
              "  </div>\n",
              "  "
            ]
          },
          "metadata": {},
          "execution_count": 3
        }
      ]
    },
    {
      "cell_type": "code",
      "source": [
        "codones = []\n",
        "for i in range(1,11,3):\n",
        "  codones.extend(test_df.iloc[:,i].values)"
      ],
      "metadata": {
        "id": "THu6tBNBBmC5"
      },
      "execution_count": null,
      "outputs": []
    },
    {
      "cell_type": "code",
      "source": [
        "codones"
      ],
      "metadata": {
        "id": "v8AO-61mk1Ui"
      },
      "execution_count": null,
      "outputs": []
    },
    {
      "cell_type": "code",
      "source": [
        "aminoacids = []\n",
        "for i in range(2,12,3):\n",
        "  aminoacids.extend(test_df.iloc[:,i].values)"
      ],
      "metadata": {
        "id": "nIOB2ZhRk6RQ"
      },
      "execution_count": null,
      "outputs": []
    },
    {
      "cell_type": "code",
      "source": [
        "aminoacids"
      ],
      "metadata": {
        "id": "fl-g5d_mlKeh"
      },
      "execution_count": null,
      "outputs": []
    },
    {
      "cell_type": "code",
      "source": [
        "codones_aminoacids_dict = {}\n",
        "for i in range(len(codones)):\n",
        "  codones_aminoacids_dict.update({codones[i]:aminoacids[i]})"
      ],
      "metadata": {
        "id": "Fz7Yl366lMmC"
      },
      "execution_count": null,
      "outputs": []
    },
    {
      "cell_type": "code",
      "source": [
        "codones_aminoacids_dict"
      ],
      "metadata": {
        "id": "B7yekzzalaim"
      },
      "execution_count": null,
      "outputs": []
    },
    {
      "cell_type": "code",
      "source": [
        "def ProteinTranslation(pattern):\n",
        "  peptide = str()\n",
        "  i = 0\n",
        "  pattern = DnaToRna(pattern)\n",
        "  while i <= len(pattern) - 1 - 2:\n",
        "    if CodoneToAminoAcid(pattern[i:i+3]) == '*':\n",
        "      peptide = peptide + ''\n",
        "    else:\n",
        "      peptide = peptide + CodoneToAminoAcid(pattern[i:i+3])\n",
        "    i = i + 3\n",
        "  return peptide"
      ],
      "metadata": {
        "id": "QvCRIQeJliB5"
      },
      "execution_count": 1,
      "outputs": []
    },
    {
      "cell_type": "code",
      "source": [
        "def CodoneToAminoAcid(pattern):\n",
        "  return codones_aminoacids_dict[pattern]"
      ],
      "metadata": {
        "id": "pMi5eyE3llXF"
      },
      "execution_count": null,
      "outputs": []
    },
    {
      "cell_type": "code",
      "source": [
        "rna_pattern = 'AUGGCCAUGGCGCCCAGAACUGAGAUCAAUAGUACCCGUAUUAACGGGUGA'"
      ],
      "metadata": {
        "id": "msH_WwpTlo9c"
      },
      "execution_count": null,
      "outputs": []
    },
    {
      "cell_type": "code",
      "source": [
        "ProteinTranslation(rna_pattern)"
      ],
      "metadata": {
        "colab": {
          "base_uri": "https://localhost:8080/",
          "height": 35
        },
        "id": "8oduO3nOlrRM",
        "outputId": "cf39b68d-3d11-40e0-a54f-7f5b4d6dc2b1"
      },
      "execution_count": null,
      "outputs": [
        {
          "output_type": "execute_result",
          "data": {
            "text/plain": [
              "'MAMAPRTEINSTRING'"
            ],
            "application/vnd.google.colaboratory.intrinsic+json": {
              "type": "string"
            }
          },
          "metadata": {},
          "execution_count": 13
        }
      ]
    },
    {
      "cell_type": "code",
      "source": [
        "rna_pattern = 'AUGGUUGCGGCGGUACUAAGGGAGUGGAUGCGAGGUACGCCCAAUGACGUCGGCAGAUCCGCCGGGGCUAUUGCCCAAAACGGCCCCAAACGGGCACAUUCUCGAGCCAACGUUGGCGCUCUAUCUUGGAACGUAUUGGCGAACCACAAAAGCACUCCCAUAAGACGUUGUUAUUCACUUCUUUUUGGAGCUUUACAAGCCUCUCCAGCUUCUACGUCUACUCGAAGAAACCUACUAACGAGCAUAUGUCGAGUGUGUUCCAAGAUCGUUCUACAGAGCUACUUCAUUAGACCCUCCCAGUGUGCUGUGAUGGGGGCAUGGUGUGGUACCCUAGUGCGUAUCCCACGCAUACCAGAAAUGGCAGCAGGUCAAUUCCGCAAGAGGUAUUCCAGCGUAAGGUCGUCGGUAAAGCUGAAAAUGGCAGCUGUUCCAGCCGUACUGUCCGACGAGGCUGUGGAGGUGGUUUCAUCGCAUCUAGUGCGUCGCGGCCGUCGGGUCGUAGAGAUAACCUUCGCACGACCCGCAAUCGAACGUUCAAUGCAGCCCCUCGCGGGUUACGUCCGUCCAACAACCGUGAGCGAGAGUGUAGUGGGGGCUCCCCUUUGGAUGGCCACCAAACCAUAUCACCCCCGUAUACACCUAGCGAUUAGAAAGACGACCAUUCUGUGUCGCCGAUAUGUGUUCGAUCUUUCUAGGUUAGUAGGAGGCCCGGUAAAUGCCUUCCAGAGACAUAUGACGAGUCCCAGGAUCCGUCAUCUUAGUCUUCAAGUGCCAAGGCCCGUUCAACGACAUUCAAGAGAAUAUAGUACCAUAUCGUGGGCGAUUCUUCGUGGUUUUGAUCCAAUAUUCGCCUGGAACCCGGACGUGGGAUUUAUCGCAAACGUUUGGUAUCAUAGUGGCAGGAGGAAACGCUUUAGAAGAGACAUAGCUCACCCAGGCCUACGAACUAGAUGCCCAAUUCGUCAAUCGGUCCGUAAAAUGAUCAGGUACCCUUGCCUCCUCCCCGGACCAUCAUUGCAAGCACGCGCCAUAUUUAUCGCCCAAGCUGUCGACCGGGCCUUCCGUGUACACCACGUUUUAGGAUCUGUACAGUGUGACAACCUCGACCGAUGCCUUGAUCUUUUUCCUAUGAGUCGCGUUGCGGGUCCAGCUCUGUAUGUACUGCUGUGUCUCAAACAACUGCGAGCGCGACUCUCAAUACUGGGGGAUGUAGCCAGGGUAAAACCCGUUGACUAUCAGUCUAGUGCCCAUAACGUGUUACCACGAAUCGCAAAGCGCUCUUGCUGGGACAGUAAACUAACAAUCCGGGGCUUUGUGUUUUGCUUGAAACCUGAUUGUUCGAGAACCUCAGUACCGGCUCCUGGCGGCUUCGUCGUCUUACCAAUUUACACAUUUUGGAUACCAGAGGUAUUCCUAUUUGUGCUAGCCCUUCCCCGAGUGCGCGUAGACCGAUUGGAGUCCAUCAAAAAACUACCGAAUCAGGCCAGAUGGACAGGAGAAAAGCAGCCGGUUGAAUUUUCCUCAGACCCAUGCAUGCUUAGUAUAAUAUUGUCCAUACCAGACAAUACUUCAUUAGCAGCCUUUGCACACUAUUUUCUCCCCAACCGCCUUGCCAGGGAAUACGUUGGAUGCCGAAGUCAAAGGGAUGGCUUAAUGGCACAGGUACAAUACGGUGCUGACUGCGGCACUCCGGGAGCACAAGCGAUGUAUAUCAGUAGCAGCAGCGCGCUUGGACAAGACCUAAGCCACAGCCACUUCCUAAGACUUGAAAUGAACAUUCUGGGUGGUCUACCCAGGAACGACAGUCGGAGAAUGAUCCUAAGAACCUAUCAAGGCAUCUAUCAUCACGCCGCGACAAAUCCACUACCGGACCCAACAGUGUGCGACAGGGCUGUCGUUAACGACCGCAUGGUAGCUAGUUACCAGGCAAUGUUACCCGUCUCCUCACACAGGUGGCUGUUGAGUGCCAAAGCGAUCGGGGAUACGGAACAUGUUUCGCUAUUGCCAAUAAUUGGUCAAGUCCCUCCGAGUACUAAACCGACUGUUCUCGUUCCCUCACAGGUUAGAGAUUUGAGAUCCACCCCCUCAUCGAAGAGUAUCCGGUCGGAUUCGACAGUGAGUUGGGGAAACAACAAAAGCGCUCGGUAUAUAUUCACCGCCACCCACAGCCGUCACGAAAUUGCGCCGGGCUUGAGCCGCUUGGCUCCGGACAAAAGAUUGAACCACUGCGUACAGCCGAUUUAUCAACGCCUCGAAGGCCUGUUGCUGACGGUCCGGUCGCGGAAUGAAAACUUUCGAGAAUCGCGCAUCUGGUUACCGCUUUGUCGACGAAUUUAUAUAAAAGAGGAGGUUAGCAGAUCGCGCGGGGCAGGCCGGUAUACACAUCUCACCGUUGCCAAACCUGGGAGAAUAUCCGCUGCGUGGGUUUCUUCCGGAAGGGUGUACACGAAUGUACACUUCAGCAGCGUUUCAUGUCUGGGAGAAGUCGUCCAGCGCGCGAAGUCCCAAUCCCAGCCGCGCCGGUCGAUGGAUUUGGGUCUAUCCCGCGCGACCGUAUCCGGGGGUACUGCCAACUAUCGUCGCCUUUGUUCACCAUUUACAAGCAUGGUAUCGAGUACAUGUCUAUUAGACUCUAACUCACAGAUACUGAGAGGGGUGGCUGAAUGCUCUGGGAAGACCUGUACAGGCAAUCCAAACCAGAAUGUUCCGCAACUUGUCAACGGAGGGCAAUCGAAGCCGACCUUGCCGAGGCAUCGCAAAUGUGAAGCCCCGAACUCAAUAGAAGAAAGGUCGAAUAAGCCAAACCAGUGUAUCAUAAGAUUCCUCCAAUACACUUGUCGAAGCUCUGCCAACUUGAUAUCUACGAUCUCCCAUCGCAGUUUGGUUCAGUCGGCCCGUAGAGGUGGUGUGCCUCACGCAAGCAUCGGUCGUAAUCGACACUGCACCUCGGUACGGAUCAUUGCUUGGUCACCAGUGUACACCAAGAGCACGAGAUCUUCGACGCAACAUAUAGAACGCGUCAAGAUUUAUUGCUUAUCUAGAUUAACGACAUUAAAAAUAUCGGUGACACUGAUUCCGUUAAUGGUAAUCACGGCCGGUUCUGUAAUGGACCACCACCACCUCGCGCAACCAGUCUGCUUGCACUACACCCGAGGGACGGUAGCGCGAUCGACUUGCCACCGGCGGCGACUUACGUGGUUUUAUUGGAAAGCGUACUACUCCACUCACGUACCAGGUGAUUGUGCUAUAGCUUUGCCGGUGGCGAUCUUUUGUACUCCACCUAGCGUAUGUAAAAAACGUCUGGGACAACUAGCAUGCGAUCUCCCUGUUCCCCCUGGGGGGACUCAUAGAGUAGGCGGUUCGCGAGUCGGAUUCAAAUCAUCCUACCCCUUGGGUAGUCUAGUUCCGACGUCGAGCGGUCUUGGAAUCGUAGAAACCGUGCUUAAGUUCAUAGUUCCCUAUAUAAUUGGCAUCACACGCAACGCGUGUAACUCCGAAAAUGUAGAGUGCCAGCAGUAUGGACAGCGUAAACUCUAUGGAACGAUACAGAGUUUUGAUACGGUCUACCGCGCUGCAGCGUCACUAAUCAACGAUGCAUAUAAUAGAAAUGGCCGUAAUCAUAACAGUCUUCCAGAUGACAAGAUACUAUUCUCCGGCGCGCGUGUGGAAGCUUAUUUCAACGUCACUGUUGGCGUUACAAAUGUCAGGAUCGCGCGCGACGCAGGUUCAGUAGAGUUAGCCCUUGGUUAUCAACCCGUAUCAUACGUGAAAAGGUGCGGCGAAGACGCGCCAAAGUUGGCCAUAAUCAGUCUGCAAAGCUGGUUAAGAUCGGAUGAGCAAAAAAGGAUGCUCCCGGCACGUGGCCCCAAAUUGCAUCCCCUUCCUCGACAAAUUGAGAGAUCUGUGCCACCAGUCAGAGGCGGCCACGUCAAGCCAGGAGUAGAACUCACCCGGCCGUUCGGAAUGCAGACACGCCGGAUAUUCGUGUUGAGGGACCAUACGGAAAAGGAACGCGGCAUGCUGCCCAGUUACGCACUCCACAUAGCCGUUAUAAGAUUUUUCCCGGAUGCACUAGAUUUCGACGGCAUGCAGCAGCGUAUCGCAAGAAUGCCCGGCGAGCCCCUGGAUUAUUCCUGCACAGUACUUGUUUUCCAGGACUUAAUCCUAUCUUGUGCAUGGCCAGCCAAUUGUGGGCGACGCGUCGCGAUAAACACCCACUUUAUUCCCGACAGCGUUGCAUACGGGAAGGGAAUCGUGCCCAACUCCGGCCUAAUCCUAUCGACCACGUUUCUGACGGAGAGUUCGAGCAGUAGGGACGCCCCGGUCGCCUACAAUGUAUUAGUGAAAGGUCGAUUACCAUCCACAGAUAGUAUUGAUGCGAGCGGGAUUAAACAUGGCGAGCCCGUACAUCUCCGGGGUUGGGCCUUUGGACUUCUCCAGAUUCGUGUUUUGCGCCAGCUGGUAAAUCCGCACUACAAAUCGCCACGUCAAGCCACCGCUAUCCAUCGUCAUACUUUCGCCAUUCCGACGAUGUCUCGUGGGUUUUUGGCUAAUGAUAGCUACCCAUCUGGGUCGCCAGUUGGGGAUCGGUACAGCCCCGACCGACAUUCGAAAGAACGAGCGAUCUCUGAAUGCCGGAUGAUGACUGGCUCGCGGCAUACUCGAAACGUUUCACUGUGCCCGAUCGUACGGCGCAUUACGAGGAAGACUGAUCCUUCUCUUUGCGCCGCACAGGUCCGCUGCCCGAGCAUACCUGUAGUAUGUCCCCCGAAUCCUAACCCCUCACACGAGCUAAAGCGUCCUGUCAUAUGUCGCGCUGUGGCUUUGACCCCCCAGCCCUCUCCUCUCGAACACAGACUUAGCUUGAAGGACAGUGAAACACUACUACGUCGACUCGCACGAUCUAACUCUCCCGCCACCCGUCCCUGGGGGGCCAUAAGACCAAUCUAUAUUCCACAUGGAUGUACCUAUGUAAGUCCCCAACGCCUCGGGGGCUUUCAAACAGGGACGCGACGCAAGGGCCCCAUUCAUAUUGUACGUUUAUUACCCCGUGCAAAUAAUAAGAACUUGCGUAGAUACUCUAUGACUGCCCUUUGGAAAAGACACCGGAUGUGUCACGACAGAGAUGCUAAGCGUGGUCGGACCGACGUCGCUGAAUCAACCCAUACUGUUUCCCAUGCCAUGAUGGUAGCAAGAACAGGCGAUGCUAGGCUAGAUUCAGGAACCCAGAACCAAAUGCCACAUAAACAAGCUUCUAUUAUGCUGGGAGGUGGACUAAUAGGGGAAGUGCCCGUCUUAUCGGCAAGUGGAGACGGAUUGUCCACAGCAUACCCGUCACAGCAUACUUCCGUUGCAUAUGAGCCCUACUAUAUAUCCUGUGACUAUGGUUCUAAGCGAUACACACAAAGAGGUGAAUUCGUUCGAAAUUGUAUUGCGAACUUGGUGACACAUGCGCUAGGUGAUAACGGGGUAGCAACCAACCUAGUUUCCCAUCACCUCGAAAGACAGUGCCUCUUUGUGCAAAAAGGUCAGCUAGUGGCCUCCGUGCGCUCGCGGCACCUAGUCCGAGACGCUCCACCAUCACACCGGCAUUUGAGGCGUAGAAGUCUCUCACCGCCAUAUUGGGUGUACGUGUUCGAGUUUGCGGAUCCAAUAGUACCUGGGGAAAUGUAUCGAGUGAAGGAUUCGCGAGUUAGUAUGCAGCAAAGAGGUAGAGUGGAACCGCUACCACCGUUGCGAAGUCCCCAUUACGGGUACCGUACGUCAAAUAUCUGUGGACAGAGAUUCCUAAUGUCUUUUAAUCCACCAAAACCAUUAUACCCCGGGAGUAAUGACGCCGCAGACUGCACUCCCAAACCAGCGGGAUUGGGCCACCCCACCUAUUCUGAUGGGGAACUUAUAGUGGGAGUCCGCGGGUCGGGGUCAGGUAGGUACCGUACCGCUAUAUUUCUACUGUCCAGGAAUCAUUGGGCGUUCAUCGGUGGCCGCGAUAAUCAUUAUCCCUCGGUGCCCACAAAUCCCCGUGGGCGCCACGCUCCUGCUAAAAAAAUGUCUGAAUCGCUCAGGACUAAACUGUUGCACAGAAGUGUUGCGAGCCUUCUCCCGAUUAAAGGACUUGCCUUGCGUCUCAUUGCUUUUCAUUUACAUUCCCCCGCGCAACAGAGGGUGCGUUGUUUCACGGCAUUCGGGUCAUCGGAGAACUUCAGAUCAACACACGUACUGAGGAUAGUUGCCCGUGCCCCAAGACGAACCUGCGUACUCUCAGCAGCGGGUCUCCAAUACGGUACGCUACUUACUGCAUUGGCUGAUUUACGCGGUUCUUAUACAUCAAUGUGCGGCUUUCCGCGGCACGCACUCGGGGCGUCCCACUGGAAUAGUGAGUCUUACGUCCUCAUUUCUCAAGAUUGCAUGCCAAGCCCUGGCCUGCAGACACCGAAGUGCAUACGCGUCGUGCGCGUGACAUUCUUCCUCACGCUGGGCAAUUUUUAUGAGUUGGGCAUUUCAGUGUUAGGACCCCAUAACUGCGCUCCCUCCACUCCCCUUCUAUAUUUAAGGAAGAAUUUGGCGAACCUUAAUAGUUCUUUCGUUGAGCGGAAGAGCCCUGAAGAUAUACAGGCAUGGCCUGUGGCCGGGUCCCGGAGCGGACCUCCGGUCAGGAGCGACCUAGACUCGGGGCAGCCUCGACCUUCCGAGGCAACGCUGCCUCAUAACCUCCUAGGGGCGCUGUGUUUUGGAACCCGCUUUAUACACCACCGCGCAAGAUUGGCCGCGGGUAGGUUCGUAGGGAUGGACUGGGAACGACAUCGCCAAGCACGGUCCGAAACCGGCAGCUGUCGAUAUGAGGUCCCUGAAAAACUAAAAGCUGACGCUUUCGCAGGCGUCUUGGCUAAUCGACUGCUCCGAGCGGCCGGUGUUCCCGGUGUAAUCCAACAUUCGUACCGGUCGUUUCAAAGUUCGGAACUUGCUUAUCGAAACGUUCGCUACUUGGUCUACAUUGAGCGGCCCUCUAUAGUCGAAAUGCUAACAAUCUCCUGUGAUUUGCUGGGGCUCUCAUUUUCGCGAUCUGGAAGGUGCGGAUUGGCACGGGCAACAGUAAUUGGAGGGUACCAGUGGUCGUGGGAUGAGCUAUAUUGUGCACGGGCGGCGAUGUUGGAGAAGGCCCGACCGGUACCUAUCUGCCUACUGCCCCCGGUCUUUCUACGUGACUUACCUGGACAACAGCCUAGGGGUUUCCUAUUUAGCGAGCUGUGUGUCGCACCCCAUUAUUACCCAUGUGGAUUACCUUCGCGGCUGUCUCAUGUCUCCCUUUGUAAAUAUAACCCAGUUGUUGGGGCGGUGCAACACAAAAGUCGACAUGGAUCCCCCACACCAACAGUUCAUGGAUGUGAUCUCGAUAACGGUAGACCCGAGCAUACCAGUUCCAAGGAAGCGAGUCGAGGCGAAUUGCACGGACAGAUAUCCUCCGUGGGACUACUAGUCGUCCCUCACGCCCACGCUGCGAGAAUCCUACUUGAGGGGGCACCUGGAGACGCACUCAACCGAAGGCCCCGAGGUUGGAUAUCUUCACCGUCCGGCCUUAGAUCGGGAGAAGACAACCGGGUAGUUAAACUCCGACCAGCAACGAUCGUACAUCGCAUUAAAGGACUUCUUGCGUACUUAGCAAACGGACAAUGUCAAAUAUCUCGGAAGCUCUCUGCUCUUUGUCGCCGUUCAAAGGUCCUUCUGAAUGUCGACGACUCCGACGGCCAAUCAAGGUGCUUUUUACCCUCAAGGUUCACUUUGACGCACGUCCUGAGUGCCUUAGCAGCGGUUCGGAAGGAUGACCUAAUCUCCGUUGUCCUACAUGGGCGGUCUAAAAUCCAUGUUGGUAUACCUGCCCCCGUCAUCCAUCAAUUUGUGCAACACGGCCUCACUUUACAUUGUAUUCUCUGCUUUCGAAUAGACAUGCGGGAGUGGAUAGGAUCAGGGUGGAACACUACCGGACUUCGAAUUUUUUGGGUCGGGCGUGCGAAUCGCGCCGGACGCUUGCAAAUAUCCUUCUAUAUUUGGUAG'"
      ],
      "metadata": {
        "id": "gGaDfv4fmuHz"
      },
      "execution_count": null,
      "outputs": []
    },
    {
      "cell_type": "code",
      "source": [
        "rna_pattern"
      ],
      "metadata": {
        "id": "Eq--MRVUlrMu",
        "colab": {
          "base_uri": "https://localhost:8080/",
          "height": 157
        },
        "outputId": "4fc1dfdf-aca0-4092-f925-bbf75c3e5666"
      },
      "execution_count": null,
      "outputs": [
        {
          "output_type": "execute_result",
          "data": {
            "text/plain": [
              "'AUGGUUGCGGCGGUACUAAGGGAGUGGAUGCGAGGUACGCCCAAUGACGUCGGCAGAUCCGCCGGGGCUAUUGCCCAAAACGGCCCCAAACGGGCACAUUCUCGAGCCAACGUUGGCGCUCUAUCUUGGAACGUAUUGGCGAACCACAAAAGCACUCCCAUAAGACGUUGUUAUUCACUUCUUUUUGGAGCUUUACAAGCCUCUCCAGCUUCUACGUCUACUCGAAGAAACCUACUAACGAGCAUAUGUCGAGUGUGUUCCAAGAUCGUUCUACAGAGCUACUUCAUUAGACCCUCCCAGUGUGCUGUGAUGGGGGCAUGGUGUGGUACCCUAGUGCGUAUCCCACGCAUACCAGAAAUGGCAGCAGGUCAAUUCCGCAAGAGGUAUUCCAGCGUAAGGUCGUCGGUAAAGCUGAAAAUGGCAGCUGUUCCAGCCGUACUGUCCGACGAGGCUGUGGAGGUGGUUUCAUCGCAUCUAGUGCGUCGCGGCCGUCGGGUCGUAGAGAUAACCUUCGCACGACCCGCAAUCGAACGUUCAAUGCAGCCCCUCGCGGGUUACGUCCGUCCAACAACCGUGAGCGAGAGUGUAGUGGGGGCUCCCCUUUGGAUGGCCACCAAACCAUAUCACCCCCGUAUACACCUAGCGAUUAGAAAGACGACCAUUCUGUGUCGCCGAUAUGUGUUCGAUCUUUCUAGGUUAGUAGGAGGCCCGGUAAAUGCCUUCCAGAGACAUAUGACGAGUCCCAGGAUCCGUCAUCUUAGUCUUCAAGUGCCAAGGCCCGUUCAACGACAUUCAAGAGAAUAUAGUACCAUAUCGUGGGCGAUUCUUCGUGGUUUUGAUCCAAUAUUCGCCUGGAACCCGGACGUGGGAUUUAUCGCAAACGUUUGGUAUCAUAGUGGCAGGAGGAAACGCUUUAGAAGAGACAUAGCUCACCCAGGCCUACGAACUAGAUGCCCAAUUCGUCAAUCGGUCCGUAAAAUGAUCAGGUACCCUUGCCUCCUCCCCGGACCAUCAUUGCAAGCACGCGCCAUAUUUAUCGCCCAAGCUGUCGACCGGGCCUUCCGUGUACACCACGUUUUAGGAUCUGUACAGUGUGACAACCUCGACCGAUGCCUUGAUCUUUUUCCUAUGAGUCGCGUUGCGGGUCCAGCUCUGUAUGUACUGCUGUGUCUCAAACAACUGCGAGCGCGACUCUCAAUACUGGGGGAUGUAGCCAGGGUAAAACCCGUUGACUAUCAGUCUAGUGCCCAUAACGUGUUACCACGAAUCGCAAAGCGCUCUUGCUGGGACAGUAAACUAACAAUCCGGGGCUUUGUGUUUUGCUUGAAACCUGAUUGUUCGAGAACCUCAGUACCGGCUCCUGGCGGCUUCGUCGUCUUACCAAUUUACACAUUUUGGAUACCAGAGGUAUUCCUAUUUGUGCUAGCCCUUCCCCGAGUGCGCGUAGACCGAUUGGAGUCCAUCAAAAAACUACCGAAUCAGGCCAGAUGGACAGGAGAAAAGCAGCCGGUUGAAUUUUCCUCAGACCCAUGCAUGCUUAGUAUAAUAUUGUCCAUACCAGACAAUACUUCAUUAGCAGCCUUUGCACACUAUUUUCUCCCCAACCGCCUUGCCAGGGAAUACGUUGGAUGCCGAAGUCAAAGGGAUGGCUUAAUGGCACAGGUACAAUACGGUGCUGACUGCGGCACUCCGGGAGCACAAGCGAUGUAUAUCAGUAGCAGCAGCGCGCUUGGACAAGACCUAAGCCACAGCCACUUCCUAAGACUUGAAAUGAACAUUCUGGGUGGUCUACCCAGGAACGACAGUCGGAGAAUGAUCCUAAGAACCUAUCAAGGCAUCUAUCAUCACGCCGCGACAAAUCCACUACCGGACCCAACAGUGUGCGACAGGGCUGUCGUUAACGACCGCAUGGUAGCUAGUUACCAGGCAAUGUUACCCGUCUCCUCACACAGGUGGCUGUUGAGUGCCAAAGCGAUCGGGGAUACGGAACAUGUUUCGCUAUUGCCAAUAAUUGGUCAAGUCCCUCCGAGUACUAAACCGACUGUUCUCGUUCCCUCACAGGUUAGAGAUUUGAGAUCCACCCCCUCAUCGAAGAGUAUCCGGUCGGAUUCGACAGUGAGUUGGGGAAACAACAAAAGCGCUCGGUAUAUAUUCACCGCCACCCACAGCCGUCACGAAAUUGCGCCGGGCUUGAGCCGCUUGGCUCCGGACAAAAGAUUGAACCACUGCGUACAGCCGAUUUAUCAACGCCUCGAAGGCCUGUUGCUGACGGUCCGGUCGCGGAAUGAAAACUUUCGAGAAUCGCGCAUCUGGUUACCGCUUUGUCGACGAAUUUAUAUAAAAGAGGAGGUUAGCAGAUCGCGCGGGGCAGGCCGGUAUACACAUCUCACCGUUGCCAAACCUGGGAGAAUAUCCGCUGCGUGGGUUUCUUCCGGAAGGGUGUACACGAAUGUACACUUCAGCAGCGUUUCAUGUCUGGGAGAAGUCGUCCAGCGCGCGAAGUCCCAAUCCCAGCCGCGCCGGUCGAUGGAUUUGGGUCUAUCCCGCGCGACCGUAUCCGGGGGUACUGCCAACUAUCGUCGCCUUUGUUCACCAUUUACAAGCAUGGUAUCGAGUACAUGUCUAUUAGACUCUAACUCACAGAUACUGAGAGGGGUGGCUGAAUGCUCUGGGAAGACCUGUACAGGCAAUCCAAACCAGAAUGUUCCGCAACUUGUCAACGGAGGGCAAUCGAAGCCGACCUUGCCGAGGCAUCGCAAAUGUGAAGCCCCGAACUCAAUAGAAGAAAGGUCGAAUAAGCCAAACCAGUGUAUCAUAAGAUUCCUCCAAUACACUUGUCGAAGCUCUGCCAACUUGAUAUCUACGAUCUCCCAUCGCAGUUUGGUUCAGUCGGCCCGUAGAGGUGGUGUGCCUCACGCAAGCAUCGGUCGUAAUCGACACUGCACCUCGGUACGGAUCAUUGCUUGGUCACCAGUGUACACCAAGAGCACGAGAUCUUCGACGCAACAUAUAGAACGCGUCAAGAUUUAUUGCUUAUCUAGAUUAACGACAUUAAAAAUAUCGGUGACACUGAUUCCGUUAAUGGUAAUCACGGCCGGUUCUGUAAUGGACCACCACCACCUCGCGCAACCAGUCUGCUUGCACUACACCCGAGGGACGGUAGCGCGAUCGACUUGCCACCGGCGGCGACUUACGUGGUUUUAUUGGAAAGCGUACUACUCCACUCACGUACCAGGUGAUUGUGCUAUAGCUUUGCCGGUGGCGAUCUUUUGUACUCCACCUAGCGUAUGUAAAAAACGUCUGGGACAACUAGCAUGCGAUCUCCCUGUUCCCCCUGGGGGGACUCAUAGAGUAGGCGGUUCGCGAGUCGGAUUCAAAUCAUCCUACCCCUUGGGUAGUCUAGUUCCGACGUCGAGCGGUCUUGGAAUCGUAGAAACCGUGCUUAAGUUCAUAGUUCCCUAUAUAAUUGGCAUCACACGCAACGCGUGUAACUCCGAAAAUGUAGAGUGCCAGCAGUAUGGACAGCGUAAACUCUAUGGAACGAUACAGAGUUUUGAUACGGUCUACCGCGCUGCAGCGUCACUAAUCAACGAUGCAUAUAAUAGAAAUGGCCGUAAUCAUAACAGUCUUCCAGAUGACAAGAUACUAUUCUCCGGCGCGCGUGUGGAAGCUUAUUUCAACGUCACUGUUGGCGUUACAAAUGUCAGGAUCGCGCGCGACGCAGGUUCAGUAGAGUUAGCCCUUGGUUAUCAACCCGUAUCAUACGUGAAAAGGUGCGGCGAAGACGCGCCAAAGUUGGCCAUAAUCAGUCUGCAAAGCUGGUUAAGAUCGGAUGAGCAAAAAAGGAUGCUCCCGGCACGUGGCCCCAAAUUGCAUCCCCUUCCUCGACAAAUUGAGAGAUCUGUGCCACCAGUCAGAGGCGGCCACGUCAAGCCAGGAGUAGAACUCACCCGGCCGUUCGGAAUGCAGACACGCCGGAUAUUCGUGUUGAGGGACCAUACGGAAAAGGAACGCGGCAUGCUGCCCAGUUACGCACUCCACAUAGCCGUUAUAAGAUUUUUCCCGGAUGCACUAGAUUUCGACGGCAUGCAGCAGCGUAUCGCAAGAAUGCCCGGCGAGCCCCUGGAUUAUUCCUGCACAGUACUUGUUUUCCAGGACUUAAUCCUAUCUUGUGCAUGGCCAGCCAAUUGUGGGCGACGCGUCGCGAUAAACACCCACUUUAUUCCCGACAGCGUUGCAUACGGGAAGGGAAUCGUGCCCAACUCCGGCCUAAUCCUAUCGACCACGUUUCUGACGGAGAGUUCGAGCAGUAGGGACGCCCCGGUCGCCUACAAUGUAUUAGUGAAAGGUCGAUUACCAUCCACAGAUAGUAUUGAUGCGAGCGGGAUUAAACAUGGCGAGCCCGUACAUCUCCGGGGUUGGGCCUUUGGACUUCUCCAGAUUCGUGUUUUGCGCCAGCUGGUAAAUCCGCACUACAAAUCGCCACGUCAAGCCACCGCUAUCCAUCGUCAUACUUUCGCCAUUCCGACGAUGUCUCGUGGGUUUUUGGCUAAUGAUAGCUACCCAUCUGGGUCGCCAGUUGGGGAUCGGUACAGCCCCGACCGACAUUCGAAAGAACGAGCGAUCUCUGAAUGCCGGAUGAUGACUGGCUCGCGGCAUACUCGAAACGUUUCACUGUGCCCGAUCGUACGGCGCAUUACGAGGAAGACUGAUCCUUCUCUUUGCGCCGCACAGGUCCGCUGCCCGAGCAUACCUGUAGUAUGUCCCCCGAAUCCUAACCCCUCACACGAGCUAAAGCGUCCUGUCAUAUGUCGCGCUGUGGCUUUGACCCCCCAGCCCUCUCCUCUCGAACACAGACUUAGCUUGAAGGACAGUGAAACACUACUACGUCGACUCGCACGAUCUAACUCUCCCGCCACCCGUCCCUGGGGGGCCAUAAGACCAAUCUAUAUUCCACAUGGAUGUACCUAUGUAAGUCCCCAACGCCUCGGGGGCUUUCAAACAGGGACGCGACGCAAGGGCCCCAUUCAUAUUGUACGUUUAUUACCCCGUGCAAAUAAUAAGAACUUGCGUAGAUACUCUAUGACUGCCCUUUGGAAAAGACACCGGAUGUGUCACGACAGAGAUGCUAAGCGUGGUCGGACCGACGUCGCUGAAUCAACCCAUACUGUUUCCCAUGCCAUGAUGGUAGCAAGAACAGGCGAUGCUAGGCUAGAUUCAGGAACCCAGAACCAAAUGCCACAUAAACAAGCUUCUAUUAUGCUGGGAGGUGGACUAAUAGGGGAAGUGCCCGUCUUAUCGGCAAGUGGAGACGGAUUGUCCACAGCAUACCCGUCACAGCAUACUUCCGUUGCAUAUGAGCCCUACUAUAUAUCCUGUGACUAUGGUUCUAAGCGAUACACACAAAGAGGUGAAUUCGUUCGAAAUUGUAUUGCGAACUUGGUGACACAUGCGCUAGGUGAUAACGGGGUAGCAACCAACCUAGUUUCCCAUCACCUCGAAAGACAGUGCCUCUUUGUGCAAAAAGGUCAGCUAGUGGCCUCCGUGCGCUCGCGGCACCUAGUCCGAGACGCUCCACCAUCACACCGGCAUUUGAGGCGUAGAAGUCUCUCACCGCCAUAUUGGGUGUACGUGUUCGAGUUUGCGGAUCCAAUAGUACCUGGGGAAAUGUAUCGAGUGAAGGAUUCGCGAGUUAGUAUGCAGCAAAGAGGUAGAGUGGAACCGCUACCACCGUUGCGAAGUCCCCAUUACGGGUACCGUACGUCAAAUAUCUGUGGACAGAGAUUCCUAAUGUCUUUUAAUCCACCAAAACCAUUAUACCCCGGGAGUAAUGACGCCGCAGACUGCACUCCCAAACCAGCGGGAUUGGGCCACCCCACCUAUUCUGAUGGGGAACUUAUAGUGGGAGUCCGCGGGUCGGGGUCAGGUAGGUACCGUACCGCUAUAUUUCUACUGUCCAGGAAUCAUUGGGCGUUCAUCGGUGGCCGCGAUAAUCAUUAUCCCUCGGUGCCCACAAAUCCCCGUGGGCGCCACGCUCCUGCUAAAAAAAUGUCUGAAUCGCUCAGGACUAAACUGUUGCACAGAAGUGUUGCGAGCCUUCUCCCGAUUAAAGGACUUGCCUUGCGUCUCAUUGCUUUUCAUUUACAUUCCCCCGCGCAACAGAGGGUGCGUUGUUUCACGGCAUUCGGGUCAUCGGAGAACUUCAGAUCAACACACGUACUGAGGAUAGUUGCCCGUGCCCCAAGACGAACCUGCGUACUCUCAGCAGCGGGUCUCCAAUACGGUACGCUACUUACUGCAUUGGCUGAUUUACGCGGUUCUUAUACAUCAAUGUGCGGCUUUCCGCGGCACGCACUCGGGGCGUCCCACUGGAAUAGUGAGUCUUACGUCCUCAUUUCUCAAGAUUGCAUGCCAAGCCCUGGCCUGCAGACACCGAAGUGCAUACGCGUCGUGCGCGUGACAUUCUUCCUCACGCUGGGCAAUUUUUAUGAGUUGGGCAUUUCAGUGUUAGGACCCCAUAACUGCGCUCCCUCCACUCCCCUUCUAUAUUUAAGGAAGAAUUUGGCGAACCUUAAUAGUUCUUUCGUUGAGCGGAAGAGCCCUGAAGAUAUACAGGCAUGGCCUGUGGCCGGGUCCCGGAGCGGACCUCCGGUCAGGAGCGACCUAGACUCGGGGCAGCCUCGACCUUCCGAGGCAACGCUGCCUCAUAACCUCCUAGGGGCGCUGUGUUUUGGAACCCGCUUUAUACACCACCGCGCAAGAUUGGCCGCGGGUAGGUUCGUAGGGAUGGACUGGGAACGACAUCGCCAAGCACGGUCCGAAACCGGCAGCUGUCGAUAUGAGGUCCCUGAAAAACUAAAAGCUGACGCUUUCGCAGGCGUCUUGGCUAAUCGACUGCUCCGAGCGGCCGGUGUUCCCGGUGUAAUCCAACAUUCGUACCGGUCGUUUCAAAGUUCGGAACUUGCUUAUCGAAACGUUCGCUACUUGGUCUACAUUGAGCGGCCCUCUAUAGUCGAAAUGCUAACAAUCUCCUGUGAUUUGCUGGGGCUCUCAUUUUCGCGAUCUGGAAGGUGCGGAUUGGCACGGGCAACAGUAAUUGGAGGGUACCAGUGGUCGUGGGAUGAGCUAUAUUGUGCACGGGCGGCGAUGUUGGAGAAGGCCCGACCGGUACCUAUCUGCCUACUGCCCCCGGUCUUUCUACGUGACUUACCUGGACAACAGCCUAGGGGUUUCCUAUUUAGCGAGCUGUGUGUCGCACCCCAUUAUUACCCAUGUGGAUUACCUUCGCGGCUGUCUCAUGUCUCCCUUUGUAAAUAUAACCCAGUUGUUGGGGCGGUGCAACACAAAAGUCGACAUGGAUCCCCCACACCAACAGUUCAUGGAUGUGAUCUCGAUAACGGUAGACCCGAGCAUACCAGUUCCAAGGAAGCGAGUCGAGGCGAAUUGCACGGACAGAUAUCCUCCGUGGGACUACUAGUCGUCCCUCACGCCCACGCUGCGAGAAUCCUACUUGAGGGGGCACCUGGAGACGCACUCAACCGAAGGCCCCGAGGUUGGAUAUCUUCACCGUCCGGCCUUAGAUCGGGAGAAGACAACCGGGUAGUUAAACUCCGACCAGCAACGAUCGUACAUCGCAUUAAAGGACUUCUUGCGUACUUAGCAAACGGACAAUGUCAAAUAUCUCGGAAGCUCUCUGCUCUUUGUCGCCGUUCAAAGGUCCUUCUGAAUGUCGACGACUCCGACGGCCAAUCAAGGUGCUUUUUACCCUCAAGGUUCACUUUGACGCACGUCCUGAGUGCCUUAGCAGCGGUUCGGAAGGAUGACCUAAUCUCCGUUGUCCUACAUGGGCGGUCUAAAAUCCAUGUUGGUAUACCUGCCCCCGUCAUCCAUCAAUUUGUGCAACACGGCCUCACUUUACAUUGUAUUCUCUGCUUUCGAAUAGACAUGCGGGAGUGGAUAGGAUCAGGGUGGAACACUACCGGACUUCGAAUUUUUUGGGUCGGGCGUGCGAAUCGCGCCGGACGCUUGCAAAUAUCCUUCUAUAUUUGGUAG'"
            ],
            "application/vnd.google.colaboratory.intrinsic+json": {
              "type": "string"
            }
          },
          "metadata": {},
          "execution_count": 15
        }
      ]
    },
    {
      "cell_type": "code",
      "source": [
        "print(ProteinTranslation(rna_pattern))"
      ],
      "metadata": {
        "id": "PyggcynIlvHh",
        "colab": {
          "base_uri": "https://localhost:8080/"
        },
        "outputId": "eb4bae3a-0d14-4e45-a621-8e361089d613"
      },
      "execution_count": null,
      "outputs": [
        {
          "output_type": "stream",
          "name": "stdout",
          "text": [
            "MVAAVLREWMRGTPNDVGRSAGAIAQNGPKRAHSRANVGALSWNVLANHKSTPIRRCYSLLFGALQASPASTSTRRNLLTSICRVCSKIVLQSYFIRPSQCAVMGAWCGTLVRIPRIPEMAAGQFRKRYSSVRSSVKLKMAAVPAVLSDEAVEVVSSHLVRRGRRVVEITFARPAIERSMQPLAGYVRPTTVSESVVGAPLWMATKPYHPRIHLAIRKTTILCRRYVFDLSRLVGGPVNAFQRHMTSPRIRHLSLQVPRPVQRHSREYSTISWAILRGFDPIFAWNPDVGFIANVWYHSGRRKRFRRDIAHPGLRTRCPIRQSVRKMIRYPCLLPGPSLQARAIFIAQAVDRAFRVHHVLGSVQCDNLDRCLDLFPMSRVAGPALYVLLCLKQLRARLSILGDVARVKPVDYQSSAHNVLPRIAKRSCWDSKLTIRGFVFCLKPDCSRTSVPAPGGFVVLPIYTFWIPEVFLFVLALPRVRVDRLESIKKLPNQARWTGEKQPVEFSSDPCMLSIILSIPDNTSLAAFAHYFLPNRLAREYVGCRSQRDGLMAQVQYGADCGTPGAQAMYISSSSALGQDLSHSHFLRLEMNILGGLPRNDSRRMILRTYQGIYHHAATNPLPDPTVCDRAVVNDRMVASYQAMLPVSSHRWLLSAKAIGDTEHVSLLPIIGQVPPSTKPTVLVPSQVRDLRSTPSSKSIRSDSTVSWGNNKSARYIFTATHSRHEIAPGLSRLAPDKRLNHCVQPIYQRLEGLLLTVRSRNENFRESRIWLPLCRRIYIKEEVSRSRGAGRYTHLTVAKPGRISAAWVSSGRVYTNVHFSSVSCLGEVVQRAKSQSQPRRSMDLGLSRATVSGGTANYRRLCSPFTSMVSSTCLLDSNSQILRGVAECSGKTCTGNPNQNVPQLVNGGQSKPTLPRHRKCEAPNSIEERSNKPNQCIIRFLQYTCRSSANLISTISHRSLVQSARRGGVPHASIGRNRHCTSVRIIAWSPVYTKSTRSSTQHIERVKIYCLSRLTTLKISVTLIPLMVITAGSVMDHHHLAQPVCLHYTRGTVARSTCHRRRLTWFYWKAYYSTHVPGDCAIALPVAIFCTPPSVCKKRLGQLACDLPVPPGGTHRVGGSRVGFKSSYPLGSLVPTSSGLGIVETVLKFIVPYIIGITRNACNSENVECQQYGQRKLYGTIQSFDTVYRAAASLINDAYNRNGRNHNSLPDDKILFSGARVEAYFNVTVGVTNVRIARDAGSVELALGYQPVSYVKRCGEDAPKLAIISLQSWLRSDEQKRMLPARGPKLHPLPRQIERSVPPVRGGHVKPGVELTRPFGMQTRRIFVLRDHTEKERGMLPSYALHIAVIRFFPDALDFDGMQQRIARMPGEPLDYSCTVLVFQDLILSCAWPANCGRRVAINTHFIPDSVAYGKGIVPNSGLILSTTFLTESSSSRDAPVAYNVLVKGRLPSTDSIDASGIKHGEPVHLRGWAFGLLQIRVLRQLVNPHYKSPRQATAIHRHTFAIPTMSRGFLANDSYPSGSPVGDRYSPDRHSKERAISECRMMTGSRHTRNVSLCPIVRRITRKTDPSLCAAQVRCPSIPVVCPPNPNPSHELKRPVICRAVALTPQPSPLEHRLSLKDSETLLRRLARSNSPATRPWGAIRPIYIPHGCTYVSPQRLGGFQTGTRRKGPIHIVRLLPRANNKNLRRYSMTALWKRHRMCHDRDAKRGRTDVAESTHTVSHAMMVARTGDARLDSGTQNQMPHKQASIMLGGGLIGEVPVLSASGDGLSTAYPSQHTSVAYEPYYISCDYGSKRYTQRGEFVRNCIANLVTHALGDNGVATNLVSHHLERQCLFVQKGQLVASVRSRHLVRDAPPSHRHLRRRSLSPPYWVYVFEFADPIVPGEMYRVKDSRVSMQQRGRVEPLPPLRSPHYGYRTSNICGQRFLMSFNPPKPLYPGSNDAADCTPKPAGLGHPTYSDGELIVGVRGSGSGRYRTAIFLLSRNHWAFIGGRDNHYPSVPTNPRGRHAPAKKMSESLRTKLLHRSVASLLPIKGLALRLIAFHLHSPAQQRVRCFTAFGSSENFRSTHVLRIVARAPRRTCVLSAAGLQYGTLLTALADLRGSYTSMCGFPRHALGASHWNSESYVLISQDCMPSPGLQTPKCIRVVRVTFFLTLGNFYELGISVLGPHNCAPSTPLLYLRKNLANLNSSFVERKSPEDIQAWPVAGSRSGPPVRSDLDSGQPRPSEATLPHNLLGALCFGTRFIHHRARLAAGRFVGMDWERHRQARSETGSCRYEVPEKLKADAFAGVLANRLLRAAGVPGVIQHSYRSFQSSELAYRNVRYLVYIERPSIVEMLTISCDLLGLSFSRSGRCGLARATVIGGYQWSWDELYCARAAMLEKARPVPICLLPPVFLRDLPGQQPRGFLFSELCVAPHYYPCGLPSRLSHVSLCKYNPVVGAVQHKSRHGSPTPTVHGCDLDNGRPEHTSSKEASRGELHGQISSVGLLVVPHAHAARILLEGAPGDALNRRPRGWISSPSGLRSGEDNRVVKLRPATIVHRIKGLLAYLANGQCQISRKLSALCRRSKVLLNVDDSDGQSRCFLPSRFTLTHVLSALAAVRKDDLISVVLHGRSKIHVGIPAPVIHQFVQHGLTLHCILCFRIDMREWIGSGWNTTGLRIFWVGRANRAGRLQISFYIW\n"
          ]
        }
      ]
    }
  ]
}