{
  "nbformat": 4,
  "nbformat_minor": 0,
  "metadata": {
    "colab": {
      "name": "BA4A.ipynb",
      "provenance": [],
      "collapsed_sections": []
    },
    "kernelspec": {
      "name": "python3",
      "display_name": "Python 3"
    },
    "language_info": {
      "name": "python"
    }
  },
  "cells": [
    {
      "cell_type": "code",
      "source": [
        "import pandas as pd"
      ],
      "metadata": {
        "id": "bJnTFwjwAP7E"
      },
      "execution_count": 1,
      "outputs": []
    },
    {
      "cell_type": "code",
      "source": [
        "test_df = pd.read_csv('/content/aminoacids.txt', header=None, delimiter=' ')"
      ],
      "metadata": {
        "id": "ZHyEqX0BAy9X"
      },
      "execution_count": 3,
      "outputs": []
    },
    {
      "cell_type": "code",
      "source": [
        "codones = []\n",
        "for i in range(0,7,2):\n",
        "  codones.extend(test_df.iloc[:,i].values)"
      ],
      "metadata": {
        "id": "THu6tBNBBmC5"
      },
      "execution_count": 13,
      "outputs": []
    },
    {
      "cell_type": "code",
      "source": [
        "aminoacids = []\n",
        "for i in range(1,8,2):\n",
        "  aminoacids.extend(test_df.iloc[:,i].values)"
      ],
      "metadata": {
        "id": "nIOB2ZhRk6RQ"
      },
      "execution_count": 20,
      "outputs": []
    },
    {
      "cell_type": "code",
      "source": [
        "codones_aminoacids_dict = {}\n",
        "for i in range(len(codones)):\n",
        "  codones_aminoacids_dict.update({codones[i]:aminoacids[i]})"
      ],
      "metadata": {
        "id": "Fz7Yl366lMmC"
      },
      "execution_count": 22,
      "outputs": []
    },
    {
      "cell_type": "code",
      "source": [
        "def CodoneToAminoacid(codone,codones_aminoacids_dict):\n",
        "  return codones_aminoacids_dict[codone]"
      ],
      "metadata": {
        "id": "AAgat5mUmqDg"
      },
      "execution_count": 26,
      "outputs": []
    },
    {
      "cell_type": "code",
      "source": [
        "def ProteinTranslation(pattern):\n",
        "  protein = str()\n",
        "  i = 0\n",
        "  while i + 2 <= len(pattern) - 1:\n",
        "    if CodoneToAminoacid(pattern[i:i+3],codones_aminoacids_dict) != '*':\n",
        "      protein = protein + CodoneToAminoacid(pattern[i:i+3],codones_aminoacids_dict)\n",
        "    i = i + 3\n",
        "  return protein"
      ],
      "metadata": {
        "id": "tfM21l39l7zv"
      },
      "execution_count": 31,
      "outputs": []
    },
    {
      "cell_type": "code",
      "source": [
        "pattern = 'AUGGCCAUGGCGCCCAGAACUGAGAUCAAUAGUACCCGUAUUAACGGGUGA'"
      ],
      "metadata": {
        "id": "msH_WwpTlo9c"
      },
      "execution_count": 32,
      "outputs": []
    },
    {
      "cell_type": "code",
      "source": [
        "ProteinTranslation(pattern)"
      ],
      "metadata": {
        "colab": {
          "base_uri": "https://localhost:8080/",
          "height": 36
        },
        "id": "8oduO3nOlrRM",
        "outputId": "a5a056ac-658f-4580-f6ed-63b4715c8659"
      },
      "execution_count": 33,
      "outputs": [
        {
          "output_type": "execute_result",
          "data": {
            "text/plain": [
              "'MAMAPRTEINSTRING'"
            ],
            "application/vnd.google.colaboratory.intrinsic+json": {
              "type": "string"
            }
          },
          "metadata": {},
          "execution_count": 33
        }
      ]
    },
    {
      "cell_type": "code",
      "source": [
        "with open('/content/rosalind_ba4a.txt') as task_file:\n",
        "  pattern = [line.rstrip() for line in task_file][0]"
      ],
      "metadata": {
        "id": "rKgrQGian8kb"
      },
      "execution_count": 36,
      "outputs": []
    },
    {
      "cell_type": "code",
      "source": [
        "f = open(\"task_result.txt\",\"w\")\n",
        "f.write(ProteinTranslation(pattern))\n",
        "f.close()"
      ],
      "metadata": {
        "id": "zvIAXAqRn_tc"
      },
      "execution_count": 38,
      "outputs": []
    }
  ]
}