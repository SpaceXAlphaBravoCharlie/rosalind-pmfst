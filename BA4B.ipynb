{
  "nbformat": 4,
  "nbformat_minor": 0,
  "metadata": {
    "colab": {
      "name": "BA4B.ipynb",
      "provenance": [],
      "collapsed_sections": []
    },
    "kernelspec": {
      "name": "python3",
      "display_name": "Python 3"
    },
    "language_info": {
      "name": "python"
    }
  },
  "cells": [
    {
      "cell_type": "code",
      "source": [
        "codones_aminoacids_dict = {'AAA': 'K',\n",
        " 'AAC': 'N',\n",
        " 'AAG': 'K',\n",
        " 'AAU': 'N',\n",
        " 'ACA': 'T',\n",
        " 'ACC': 'T',\n",
        " 'ACG': 'T',\n",
        " 'ACU': 'T',\n",
        " 'AGA': 'R',\n",
        " 'AGC': 'S',\n",
        " 'AGG': 'R',\n",
        " 'AGU': 'S',\n",
        " 'AUA': 'I',\n",
        " 'AUC': 'I',\n",
        " 'AUG': 'M',\n",
        " 'AUU': 'I',\n",
        " 'CAA': 'Q',\n",
        " 'CAC': 'H',\n",
        " 'CAG': 'Q',\n",
        " 'CAU': 'H',\n",
        " 'CCA': 'P',\n",
        " 'CCC': 'P',\n",
        " 'CCG': 'P',\n",
        " 'CCU': 'P',\n",
        " 'CGA': 'R',\n",
        " 'CGC': 'R',\n",
        " 'CGG': 'R',\n",
        " 'CGU': 'R',\n",
        " 'CUA': 'L',\n",
        " 'CUC': 'L',\n",
        " 'CUG': 'L',\n",
        " 'CUU': 'L',\n",
        " 'GAA': 'E',\n",
        " 'GAC': 'D',\n",
        " 'GAG': 'E',\n",
        " 'GAU': 'D',\n",
        " 'GCA': 'A',\n",
        " 'GCC': 'A',\n",
        " 'GCG': 'A',\n",
        " 'GCU': 'A',\n",
        " 'GGA': 'G',\n",
        " 'GGC': 'G',\n",
        " 'GGG': 'G',\n",
        " 'GGU': 'G',\n",
        " 'GUA': 'V',\n",
        " 'GUC': 'V',\n",
        " 'GUG': 'V',\n",
        " 'GUU': 'V',\n",
        " 'UAA': '*',\n",
        " 'UAC': 'Y',\n",
        " 'UAG': '*',\n",
        " 'UAU': 'Y',\n",
        " 'UCA': 'S',\n",
        " 'UCC': 'S',\n",
        " 'UCG': 'S',\n",
        " 'UCU': 'S',\n",
        " 'UGA': '*',\n",
        " 'UGC': 'C',\n",
        " 'UGG': 'W',\n",
        " 'UGU': 'C',\n",
        " 'UUA': 'L',\n",
        " 'UUC': 'F',\n",
        " 'UUG': 'L',\n",
        " 'UUU': 'F'}"
      ],
      "metadata": {
        "id": "9UVSlc2x8noy"
      },
      "execution_count": 173,
      "outputs": []
    },
    {
      "cell_type": "code",
      "source": [
        "def DnaToRna(pattern):\n",
        "  return pattern.replace('T', 'U')"
      ],
      "metadata": {
        "id": "Q6eLZWn-kYmq"
      },
      "execution_count": 174,
      "outputs": []
    },
    {
      "cell_type": "code",
      "source": [
        "def ReverseComplement(pattern):\n",
        "  reverse_complement = str()\n",
        "  for nucleotide in pattern:\n",
        "    reverse_complement = reverse_complement + ComplementaryBase(nucleotide)\n",
        "  return reverse_complement[::-1] #5' to 3' order of reading of reverse complement (instead of 3' to 5')"
      ],
      "metadata": {
        "id": "Z8QCLgEJFQKn"
      },
      "execution_count": 175,
      "outputs": []
    },
    {
      "cell_type": "code",
      "source": [
        "def ComplementaryBase(base):\n",
        "  if base == 'A':\n",
        "    return 'T'\n",
        "  elif base == 'C':\n",
        "    return 'G'\n",
        "  elif base == 'G':\n",
        "    return 'C'\n",
        "  else:\n",
        "    return 'A'"
      ],
      "metadata": {
        "id": "Jm2Qw-JTJxuJ"
      },
      "execution_count": 176,
      "outputs": []
    },
    {
      "cell_type": "code",
      "source": [
        "def NonOverlappingAminoacidsSequencesEncodingDnaCodones(dna_string, peptide):\n",
        "  non_overlapping_codones_sequences = []\n",
        "  i = 0\n",
        "  while i + (len(peptide)*3-1) <= len(dna_string):\n",
        "    non_overlapping_codones_sequences.append(dna_string[i:i+len(peptide)*3])\n",
        "    i = i + 3\n",
        "  return non_overlapping_codones_sequences"
      ],
      "metadata": {
        "id": "3OD0FPnfP3j7"
      },
      "execution_count": 177,
      "outputs": []
    },
    {
      "cell_type": "markdown",
      "source": [
        "There are three different ways to divide a DNA string into codons for translation, one starting at each of the first three starting positions of the string. These different ways of dividing a DNA string into codons are called reading frames. Since DNA is double-stranded, a genome has six reading frames (three on each strand)\n",
        "\n",
        "Original strand reading frames:\n",
        "\n",
        "\n",
        "1.   Whole strand\n",
        "2.   Whole strand without 1. nucleotide\n",
        "3.   Whole strand without first 2 nucleotides\n",
        "\n",
        "Reverse complement strand reading frames:\n",
        "\n",
        "1.   Whole strand\n",
        "2.   Whole strand without 1. nucleotide\n",
        "3.   Whole strand without first 2 nucleotides\n",
        "\n",
        "\n",
        "\n"
      ],
      "metadata": {
        "id": "EFH2_0e2VzxP"
      }
    },
    {
      "cell_type": "code",
      "source": [
        "def CodonesSequenceEncodingPeptide(dna_codones_sequence):\n",
        "  peptide = ''\n",
        "  i = 0\n",
        "  while i <= len(dna_codones_sequence) - 1 - 2:\n",
        "    peptide = peptide + codones_aminoacids_dict[DnaToRna(dna_codones_sequence[i:i+3])]\n",
        "    i = i + 3\n",
        "  return peptide"
      ],
      "metadata": {
        "id": "cGbk3U9IbVhb"
      },
      "execution_count": 178,
      "outputs": []
    },
    {
      "cell_type": "markdown",
      "source": [
        "We say that a DNA string Pattern encodes an amino acid string Peptide if the RNA string transcribed from either Pattern or its reverse complement Pattern translates into Peptide."
      ],
      "metadata": {
        "id": "ND5YquGMReTt"
      }
    },
    {
      "cell_type": "markdown",
      "source": [
        "For example, the DNA string GAAACT is transcribed into GAAACU and translated into ET. The reverse complement of this DNA string, AGTTTC, is transcribed into\n",
        "AGUUUC and translated into SF. Thus, GAAACT encodes both ET and SF."
      ],
      "metadata": {
        "id": "B-uQW07TRz2u"
      }
    },
    {
      "cell_type": "code",
      "source": [
        "def PeptideEncoding(dna_string, peptide):\n",
        "  peptide_encoding_genes = set()\n",
        "  for i in range(3): #3 reading frames per strand\n",
        "    for non_overlapping_dna_codones_sequence in NonOverlappingAminoacidsSequencesEncodingDnaCodones(dna_string[i:len(dna_string)], peptide):\n",
        "      non_overlapping_dna_codones_sequence_encoding_peptides = []\n",
        "      non_overlapping_dna_codones_sequence_encoding_peptides.append(CodonesSequenceEncodingPeptide(non_overlapping_dna_codones_sequence))\n",
        "      non_overlapping_dna_codones_sequence_encoding_peptides.append(CodonesSequenceEncodingPeptide(ReverseComplement(non_overlapping_dna_codones_sequence)))\n",
        "      if peptide in non_overlapping_dna_codones_sequence_encoding_peptides:\n",
        "        peptide_encoding_genes.append(non_overlapping_dna_codones_sequence)\n",
        "  return peptide_encoding_genes"
      ],
      "metadata": {
        "id": "9ijS-MjUU0cM"
      },
      "execution_count": 254,
      "outputs": []
    },
    {
      "cell_type": "markdown",
      "source": [
        "Find substrings of a genome encoding a given amino acid sequence.\n",
        "\n",
        "Given: A DNA string Text and an amino acid string Peptide.\n",
        "\n",
        "**Return: All substrings of Text encoding Peptide (if any such substrings exist).**"
      ],
      "metadata": {
        "id": "3n2_sVbKb6nB"
      }
    },
    {
      "cell_type": "code",
      "source": [
        "def FindAllKmers(dna_string, peptide):\n",
        "  kmers_list = []\n",
        "  i = 0\n",
        "  while i + len(peptide)*3 - 1 <= len(dna_string) - 1:\n",
        "    kmers_list.append(dna_string[i: i + len(peptide)*3])\n",
        "    i = i + 1\n",
        "  return kmers_list"
      ],
      "metadata": {
        "id": "W1WWOR-ycHL0"
      },
      "execution_count": 268,
      "outputs": []
    },
    {
      "cell_type": "code",
      "source": [
        "def RunPeptideEncoding(dna_string, peptide):\n",
        "  substrings_encoding_peptides = []\n",
        "  genes_encoding_peptide = set().union(PeptideEncoding(dna_string, peptide),PeptideEncoding(ReverseComplement(dna_string), peptide))\n",
        "  for substring in FindAllKmers(dna_string,peptide):\n",
        "    if substring in genes_encoding_peptide:\n",
        "      substrings_encoding_peptides.append(substring)\n",
        "  return substrings_encoding_peptides"
      ],
      "metadata": {
        "id": "INh1lXpEbgLC"
      },
      "execution_count": 269,
      "outputs": []
    },
    {
      "cell_type": "code",
      "source": [
        "dna_string = 'ATGGCCATGGCCCCCAGAACTGAGATCAATAGTACCCGTATTAACGGGTGA'"
      ],
      "metadata": {
        "id": "qSClwPsGMHHE"
      },
      "execution_count": 270,
      "outputs": []
    },
    {
      "cell_type": "code",
      "source": [
        "peptide = 'MA'"
      ],
      "metadata": {
        "id": "aHozOWtk8bJH"
      },
      "execution_count": 271,
      "outputs": []
    },
    {
      "cell_type": "code",
      "source": [
        "RunPeptideEncoding(dna_string, peptide)"
      ],
      "metadata": {
        "colab": {
          "base_uri": "https://localhost:8080/"
        },
        "id": "wn3K_Ex2ZGbq",
        "outputId": "60b99148-1dd7-487a-92fa-77b01c9d5b10"
      },
      "execution_count": 272,
      "outputs": [
        {
          "output_type": "execute_result",
          "data": {
            "text/plain": [
              "['ATGGCC', 'GGCCAT', 'ATGGCC']"
            ]
          },
          "metadata": {},
          "execution_count": 272
        }
      ]
    },
    {
      "cell_type": "code",
      "source": [
        "with open('/content/rosalind_ba4b.txt') as task_file:\n",
        "  dna_string = [line.rstrip() for line in task_file]"
      ],
      "metadata": {
        "id": "DQ4CN8GKXAYR"
      },
      "execution_count": 274,
      "outputs": []
    },
    {
      "cell_type": "code",
      "source": [
        "dna_string = dna_string[0]"
      ],
      "metadata": {
        "id": "hq__J4mDXaco"
      },
      "execution_count": 275,
      "outputs": []
    },
    {
      "cell_type": "code",
      "source": [
        "peptide = 'TTMTYDAC'"
      ],
      "metadata": {
        "id": "e4vgkwrBdbWU"
      },
      "execution_count": 273,
      "outputs": []
    },
    {
      "cell_type": "code",
      "source": [
        "for solution in RunPeptideEncoding(dna_string, peptide):\n",
        "  print(solution)"
      ],
      "metadata": {
        "id": "PsY7EflZdazd"
      },
      "execution_count": null,
      "outputs": []
    }
  ]
}