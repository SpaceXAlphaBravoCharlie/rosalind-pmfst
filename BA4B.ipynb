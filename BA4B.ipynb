{
  "nbformat": 4,
  "nbformat_minor": 0,
  "metadata": {
    "colab": {
      "name": "BA4B.ipynb",
      "provenance": [],
      "collapsed_sections": []
    },
    "kernelspec": {
      "name": "python3",
      "display_name": "Python 3"
    },
    "language_info": {
      "name": "python"
    }
  },
  "cells": [
    {
      "cell_type": "code",
      "source": [
        "codones_aminoacids_dict = {'AAA': 'K',\n",
        " 'AAC': 'N',\n",
        " 'AAG': 'K',\n",
        " 'AAU': 'N',\n",
        " 'ACA': 'T',\n",
        " 'ACC': 'T',\n",
        " 'ACG': 'T',\n",
        " 'ACU': 'T',\n",
        " 'AGA': 'R',\n",
        " 'AGC': 'S',\n",
        " 'AGG': 'R',\n",
        " 'AGU': 'S',\n",
        " 'AUA': 'I',\n",
        " 'AUC': 'I',\n",
        " 'AUG': 'M',\n",
        " 'AUU': 'I',\n",
        " 'CAA': 'Q',\n",
        " 'CAC': 'H',\n",
        " 'CAG': 'Q',\n",
        " 'CAU': 'H',\n",
        " 'CCA': 'P',\n",
        " 'CCC': 'P',\n",
        " 'CCG': 'P',\n",
        " 'CCU': 'P',\n",
        " 'CGA': 'R',\n",
        " 'CGC': 'R',\n",
        " 'CGG': 'R',\n",
        " 'CGU': 'R',\n",
        " 'CUA': 'L',\n",
        " 'CUC': 'L',\n",
        " 'CUG': 'L',\n",
        " 'CUU': 'L',\n",
        " 'GAA': 'E',\n",
        " 'GAC': 'D',\n",
        " 'GAG': 'E',\n",
        " 'GAU': 'D',\n",
        " 'GCA': 'A',\n",
        " 'GCC': 'A',\n",
        " 'GCG': 'A',\n",
        " 'GCU': 'A',\n",
        " 'GGA': 'G',\n",
        " 'GGC': 'G',\n",
        " 'GGG': 'G',\n",
        " 'GGU': 'G',\n",
        " 'GUA': 'V',\n",
        " 'GUC': 'V',\n",
        " 'GUG': 'V',\n",
        " 'GUU': 'V',\n",
        " 'UAA': '*',\n",
        " 'UAC': 'Y',\n",
        " 'UAG': '*',\n",
        " 'UAU': 'Y',\n",
        " 'UCA': 'S',\n",
        " 'UCC': 'S',\n",
        " 'UCG': 'S',\n",
        " 'UCU': 'S',\n",
        " 'UGA': '*',\n",
        " 'UGC': 'C',\n",
        " 'UGG': 'W',\n",
        " 'UGU': 'C',\n",
        " 'UUA': 'L',\n",
        " 'UUC': 'F',\n",
        " 'UUG': 'L',\n",
        " 'UUU': 'F'}"
      ],
      "metadata": {
        "id": "9UVSlc2x8noy"
      },
      "execution_count": 1,
      "outputs": []
    },
    {
      "cell_type": "code",
      "source": [
        "[k for k,v in codones_aminoacids_dict.items() if v == '*']"
      ],
      "metadata": {
        "colab": {
          "base_uri": "https://localhost:8080/"
        },
        "id": "XIaWXESx0jXF",
        "outputId": "a524dd9e-2c6e-4c1f-c0a9-c5963ba236a9"
      },
      "execution_count": 2,
      "outputs": [
        {
          "output_type": "execute_result",
          "data": {
            "text/plain": [
              "['UAA', 'UAG', 'UGA']"
            ]
          },
          "metadata": {},
          "execution_count": 2
        }
      ]
    },
    {
      "cell_type": "code",
      "source": [
        "def CodoneToAminoAcid(pattern):\n",
        "  return codones_aminoacids_dict[pattern]"
      ],
      "metadata": {
        "id": "qkLmDgAzkW0M"
      },
      "execution_count": 3,
      "outputs": []
    },
    {
      "cell_type": "code",
      "source": [
        "def DnaToRna(pattern):\n",
        "  return pattern.replace('T', 'U')"
      ],
      "metadata": {
        "id": "Q6eLZWn-kYmq"
      },
      "execution_count": 4,
      "outputs": []
    },
    {
      "cell_type": "code",
      "source": [
        "def ProteinTranslation(pattern):\n",
        "  peptide = str()\n",
        "  i = 0\n",
        "  pattern = DnaToRna(pattern)\n",
        "  while i <= len(pattern) - 1 - 2:\n",
        "    if CodoneToAminoAcid(pattern[i:i+3]) == '*':\n",
        "      peptide = peptide + ''\n",
        "    else:\n",
        "      peptide = peptide + CodoneToAminoAcid(pattern[i:i+3])\n",
        "    i = i + 3\n",
        "  return peptide"
      ],
      "metadata": {
        "id": "kTYlZiLskSM3"
      },
      "execution_count": 64,
      "outputs": []
    },
    {
      "cell_type": "code",
      "source": [
        "def ReverseComplement(pattern):\n",
        "  reverse_complement = str()\n",
        "  for nucleotide in pattern:\n",
        "    reverse_complement = reverse_complement + ComplementaryBase(nucleotide)\n",
        "  return reverse_complement[::-1]"
      ],
      "metadata": {
        "id": "Z8QCLgEJFQKn"
      },
      "execution_count": 6,
      "outputs": []
    },
    {
      "cell_type": "code",
      "source": [
        "def ComplementaryBase(base):\n",
        "  if base == 'A':\n",
        "    return 'T'\n",
        "  elif base == 'C':\n",
        "    return 'G'\n",
        "  elif base == 'G':\n",
        "    return 'C'\n",
        "  else:\n",
        "    return 'A'"
      ],
      "metadata": {
        "id": "Jm2Qw-JTJxuJ"
      },
      "execution_count": 7,
      "outputs": []
    },
    {
      "cell_type": "code",
      "source": [
        "def NonOverlappingAminoacidsPairs(protein, peptide_len):\n",
        "  non_overlapping_aminoacids_pairs = []\n",
        "  i = 0\n",
        "  while i <= len(protein) - 1 - 1:\n",
        "    non_overlapping_aminoacids_pairs.append(protein[i:i+2])\n",
        "    i = i + peptide_len\n",
        "  return non_overlapping_aminoacids_pairs"
      ],
      "metadata": {
        "id": "6CG3sfamOw0j"
      },
      "execution_count": 82,
      "outputs": []
    },
    {
      "cell_type": "code",
      "source": [
        "def NonOverlappingAminoacidsPairsEncodingCodones(text, peptide_len):\n",
        "  non_overlapping_aminoacids_pairs_encoding_codones = []\n",
        "  i = 0\n",
        "  while i <= len(text) - 1 - (peptide_len*3 - 1):\n",
        "    non_overlapping_aminoacids_pairs_encoding_codones.append(text[i:i+peptide_len * 3])\n",
        "    i = i + peptide_len * 3\n",
        "  return non_overlapping_aminoacids_pairs_encoding_codones"
      ],
      "metadata": {
        "id": "3OD0FPnfP3j7"
      },
      "execution_count": 77,
      "outputs": []
    },
    {
      "cell_type": "code",
      "source": [
        "def DeleteStopCodons(text):\n",
        "  indices_to_delete = []\n",
        "  codons = NonOverlappingAminoacidsPairsEncodingCodones(text, 1) #1 --> returns non-overlapping codons\n",
        "  for i in range(len(codons)):\n",
        "    if codons[i] in ['TAA', 'TAG', 'TGA']:\n",
        "      codons[i] = ''\n",
        "  if len(text) % 3 != 0:\n",
        "    codons.append(text[len(text) - len(text) % 3:len(text)])\n",
        "  return ''.join(codons)"
      ],
      "metadata": {
        "id": "YJ6k1_7Ti8nf"
      },
      "execution_count": 89,
      "outputs": []
    },
    {
      "cell_type": "markdown",
      "source": [
        "Original strand reading frames:\n",
        "\n",
        "\n",
        "1.   Whole strand\n",
        "2.   Whole strand without 1. nucleotide\n",
        "3.   Whole strand without first 2 nucleotides\n",
        "\n",
        "Reverse strand reading frames:\n",
        "\n",
        "1.   Whole strand\n",
        "2.   Whole strand without last nucleotide\n",
        "3.   Whole strand without last two nucleotides\n",
        "\n",
        "\n",
        "\n"
      ],
      "metadata": {
        "id": "EFH2_0e2VzxP"
      }
    },
    {
      "cell_type": "code",
      "source": [
        "def PeptideEncoding(dna_text, peptide):\n",
        "  peptide_encoding_genes = set()\n",
        "  for i in range(3): #3 reading frames per strand\n",
        "    dna_text = DeleteStopCodons(text[i:len(dna_text)])\n",
        "    protein = ProteinTranslation(dna_text)\n",
        "    non_overlapping_aminoacids_pairs_encoding_codones = NonOverlappingAminoacidsPairsEncodingCodones(dna_text, len(peptide))\n",
        "    for aminoacids_pairs in enumerate(NonOverlappingAminoacidsPairs(protein, len(peptide))):\n",
        "      if aminoacids_pairs[1] == 'MA' or ProteinTranslation(ReverseComplement(non_overlapping_aminoacids_pairs_encoding_codones[aminoacids_pairs[0]])) == 'MA':\n",
        "        peptide_encoding_genes.add(non_overlapping_aminoacids_pairs_encoding_codones[aminoacids_pairs[0]])\n",
        "  return peptide_encoding_genes"
      ],
      "metadata": {
        "id": "cGbk3U9IbVhb"
      },
      "execution_count": 285,
      "outputs": []
    },
    {
      "cell_type": "code",
      "source": [
        "def RunPeptideEncoding(text, peptide):\n",
        "  return list(PeptideEncoding(text, peptide)) + list(PeptideEncoding(ReverseComplement(text), peptide))"
      ],
      "metadata": {
        "id": "ptXTlRAzeJsr"
      },
      "execution_count": 286,
      "outputs": []
    },
    {
      "cell_type": "code",
      "source": [
        "text = 'ATGGCCATGGCCCCCAGAACTGAGATCAATAGTACCCGTATTAACGGGTGA'"
      ],
      "metadata": {
        "id": "qSClwPsGMHHE"
      },
      "execution_count": 280,
      "outputs": []
    },
    {
      "cell_type": "code",
      "source": [
        "peptide = 'MA'"
      ],
      "metadata": {
        "id": "aHozOWtk8bJH"
      },
      "execution_count": 281,
      "outputs": []
    },
    {
      "cell_type": "code",
      "source": [
        "RunPeptideEncoding(text, peptide)"
      ],
      "metadata": {
        "colab": {
          "base_uri": "https://localhost:8080/"
        },
        "id": "UbITnm-qn3Wz",
        "outputId": "70a32081-c430-4d92-9f46-245b2cdb78cf"
      },
      "execution_count": 287,
      "outputs": [
        {
          "output_type": "execute_result",
          "data": {
            "text/plain": [
              "['ATGGCC', 'GGCCAT', 'ATGGCC', 'GGCCAT']"
            ]
          },
          "metadata": {},
          "execution_count": 287
        }
      ]
    },
    {
      "cell_type": "code",
      "source": [
        "text = 'ATTTGCTGTAGCCATGTCTCACAAAGTTGACTCCTTATACGGATCCTTGTTTGACGAAATTAACGCCATGTTAAACTCTTGGACCTAGTGTGCAGGGGGGTACACCATACAGGAGGCCTTGACATGGGAGCGAGGCGGGCTTAAATTAGGATGTTATCTAAGGGTAAGTCGTTATTCAGGTGCCGACTCATGACATCACAGCACATGGGATATAAAGCTAACATTTTATATCTTATTCTGTCGCGGATCGTATTTACTTGCAAAATAAGTACCTAGTCTGATATCTTGAAAACCCGCCTTTGGAGTTCTTAGTGATGGAGGAATCCACCCAATCACTGCCCCAAAATTGCGTCTCAGAAGCAAGGAGAGACAGCGCGACATACTAAAGCCCTTTGACTACAGTATCTACAGACCTGAATCAGCCGGAAAGGCGTGGTGTGAAGGAAAACCCACACCAATGATTCAGTGAGGGTAAACCAATCTTTGGAATCGTACGAAACCAGCTGTTTTTCTTCGGAGGCATTTCACACTCACTGGTAGATCAGTTTAGGGGCATGTTACAGTTAGGAGGCGAAAAGAGCGCCTTCGATCGATAGCCGATCCGACCATGTAGACCCACAATCCAATAGAGGGGACACTGTCCAAAATTTGTGCAGAGCCGTCCTTGTCTAACAAAATTAACTCCGTGCCTGACGAAACTTACCCCCCTGGGGGTGGTTAGGCCTTTCATACGATTATGCTTGAAAGTAGACTCACATGTAGAGAACTACCAGAGCAATCCGGGGTGCTAGGCTATTGTTACACTTATGCCCAGACGTGACTCCTTGGTCCAAATGTTCCAAGCTCATATTGTGGTCAGGTCTCGCCGTGAGGAGCTCAGGATCCACGAAATTTATGATAGCAGGGATCTTTATGGATCCCCCATGCAATAAGGCAATATATATCCCAAGTGTCACCACCATACATCACCTAGATTGTCGACGATCGTCGAAGGTCTGTCGCGCGCGTCGACTAATCCATCGTGTGCCGAAAATGCCTTGCTCTTTAAAACGAAGTCACGCTTTCAAACCACCATTGCTGAGGTCTAAGCGTACCCCCCTATCGGAGTGGACGGATCACCTGTGTGAAAGTAGTTACCTTCTCGCTAAAGCGATTTCCGCAGAAAAGTCCAAACACCTAAGGAAGATTTGCTGGCGCCCCCACTGATCCCAGGACGGGTGGGAGGTGGCCAAATGCTATGGATCCTACCTGAACGGGAGGGAATATACTACCAGTTATTATGAGAAAACGGAGTCTGGGATCGTTGTCAGCGGCAGAGTAATGTCCGCTCAGATCGCCTGCTTGATTGTGCTGGCCACTCTGCGCTGAGTCAAACGTCTTCCCGGGGAGCGTCTGTGAAAATTAAAGATTCCGGTCCCTAACAGTAAACAGAGACCGGCATTCTGTTGTCGCCCAGACTGCGATGACAGCGGAGAGATAGTCGTTCTTTGTGAAAGGCTAGTGAGAATTTATCTATGTCTGACCAAGTGTGTCCACTGATCCCATATGCTGAGCGTAGGAGATGCGGAGATCGGTGGTTCGAATGGGTCCCATGAATGTGCCTTATATCTTAGGTATGCGAACCCGTCGGACGTATCAACCTATGCCGCTTTAGCTGAGGGGTGTTGCAGCATTATGGGTATTAAATTTGATCGGAGACTAAAAAATTAGTCAGTCATAGTAAGGATAAGCCGCGTGCTGCTCGCTATTTCATGAATTTCGAGATAATTGGTGTGTCCCCACGGATTTTGAGGTTCATGTGCTGATCTCCAAGATACCATCCACCGCGGGTCGCTAGTGTTATCAAGGTGAAACCCCGTCGGCGAAAACTCAGCGCCTATGTATGAACTGTTTCTACCGACCTCCGAAAGTGCCATTTTCACGCCGAGGTACGATGTGGGAGCGGATCTATGAGGGCCTATTCTCAGAGGGCGCTTATCGTTTCTTACAAGTGGTCTACCGACAGTCTCCCAGTCTAACCCATACAGCAGGTCCGGTACACAGCGTAAAGCGGACCTGGGCCTCAACGTAGACTTACTTTGATTTGAGGGCATACCGGCTAATGCAAAACTCCATACGGGGACCGTTGACGGCAATGTGTAGTCGAAAGGTAGGATCAATGGTAGCAAGACGCTTGAATCTATCTGAAAGTCGGATTATCTTACTTGAGCCCAATGAACGAACTGGGATGAATAAACATGTGACGCAAAGCTCTTGGACTTCAAATGCCGGAAGAGAACCAGGGGACGCGGCCACGTTCACGTGAGCCCCTAGATCTCTACCACCATATATGATAGTTGGCTGAAAATGTGATGGATATGAATGTTCCATATAAGGTGTCTACCTCTGGGTGTGAGCTTGGTGAGACATGGGGTAAAAAGATTTCGAAGCTGTCTCACGCTGATGCCATCATAGAGCTGACACAGTGCCACGGCCAGCCCTTGTTTAACTAAGCTTACTCCATAAGTTGTGAGTGGCAAACCTTGGTAGAGGGTCTGGTACGCATCGGTTCTTACGGGGTTAGAGATCACTGTGTAGTAGAATTTGATAGTAATGAGTATTGGCGGAGATTGTTACAACACGAGGGGAACTCCAGCCTGGAATATGTTCTTCAATATAATACTCCTGGACGTCTATTGCTCCTCCATTAGTCTAATGTCTTGGGTCGAAACTGCCCCTCTTGGTCAGTCACGACACATACGGAGGGAGCGTACCTATTGACTATCCAAGACCCTATTCAAGCCCGGGTCCCGCGTACTGCCAACGGGATATTAGCAGGGGCTCTGTGTGGGTTGCAGCCGGTCGCGGGTCTACCCACAACTAACAATTATTTAAGTGTGATTCCCTGCCCGCTTGTTGCACACTACTCATGGAATTTCAGCAGAACATCAGAGAGCTGGACGTGCCCGTTTTCGATTGCCACCCCGGACCTGATCCCCGGTGTCAACTTCGTTAAACAGGGACCATGTGTCAGGGTAGACAAACTCATCGCTTTAAAAAAGGCTGCACAGCAGTTTTACCTCCATGCTTAACTAAGCTCACTCCGCCCTGCGCCTTCTGCCCTGCATCTCATTACCTTTCATGAGGTTGTCTAGGCTATTACCTGAATGGAGGGGAGGAACCTAAACTAACTCTCTTACACACCGGATGGGCTCACCGACATCGGATCAGATGAGCGACGCGTACGTACAATGACCTTGAGTCCGTGGTACTTAGGTGCGACCCCCATCCACAGATTCTGCATCGTTGATAGCGAAATAATCCCATCTTGAACGCCTTATTGACCTCTACGCCCCGACCATGGCAGCTTAGAGGCATTTGAGCCTGAGACGCGTAGTCATATCTCAGGGAGCAGTTACGTCTGCAGCCTCCCGAATCTTTTCTTAAATTGTGTCGATTTCGCATACGCCTGAGTAATCCGTCATTTGCTCGGCAGGGCGTCAACGTATTAATGGGAACTGGTGTTGAGCCAAGACGGCGGAGAAACCTGGGTGCCTTCTTGGTCATGATGCTAGTTTTCTTGAGTCTTCAATGTGTATGCGTGGGATGGTAAAAGGGCAGTTGCCTCCGAAAATAAACCAAGCTAGTCTGATTTAGTGTATCCCTAAAATCGAGCTATGCCAATGGAGTTGCAATAATGCCATCCTAATGGCAGCACTCACTGGCTGGACATACACAAATGCAGCGGGCACATCATAAAGTCCGGGGTTTGAGTCTCGTGAATAATACCGGTTTGCAAGCAATGGCCTACAAACCAGGACGGTTCAACACCGCTTGCACTCTATCTCTGTCTTCTATATAGAGCCCACACGTGCGACACGCTACCTGCCTAGAATTGTGCGCGGAGTACCTTTTTACGGCCGGCATGTAGATACAACTTGGGCATTACCTTCGCATGCAACCAGCCACGTGTAAAGTGCGATTGCGGGCTCCGGAACCATACCTCAAATAACCGGATCCTGCATGTTCGTGTGTCTACAAGTTTAAAGCTTGTTACAGCGCGGAGTAAGCTTCGTCAGGCAGGGCGGCTCATTAGGATCTAGACGAACGTGAAATGAGTCTTTCGACCCCTTGGATAGGCTATAATGATCAGGGGATAGGGCACGGACTGCTATTTCCAAGCAGTTGTAAGCAGGACTGCATGCTCTTGGCATGAGACATCTCACGCATACAGAATTAGTCATTTCGGGTCTGTTCGATTACGACTCCTATAACTGCTGCATCTCTAGCATTGCATTTAAGCAGTCAGAAGTAAAGCCGCGCTCCAACTTCGGCTCACGCAGGGCTAGAGTGGCTGCTGCGCGCTGGTGCACTATCACGAAATCCTGGAGTTCAGGTACATCGATTTGTCACCAAAGGCAAGTTCATAATACCGTTGAATGGCGGTTCCGATCTGTTCGGTAATGCGAGTATTCCCTAAGCAAAAAGGACTCCATTCAGTAGTATGTAGGCTTATTTATTGACTCACGACGGCAAGTGCACGGCTACTCGGGAGCCACGTGCTCGCGCTTTTGGTCCCTACTATGATATAAATAGGCAGTCTGGCTCATTGGTCTCCATACTATGGGCTAATTTTGCCTGATAGAGCGCGCGGGGGACGAGCACGGGCTAGAGGGGATATTCCATAGAGGAGAGCATTGAGGATCCTCAATAACCGCCCTAAAATATGTTACTAACCTCCCCGTTAATGTTAGTAAGTCCTGTTCGACCGCATGAATAACCCGCCCCTGCAGTACGCTCAAGGGGGTCGAACGAACTGTGGCGCCTTCTATCTAGACGTTTTAGTACCAAGAACTGAATATCCCCATATGAACTTGCGCTATATTTAAGGTTGGCGCAAGAAGCACTTTCGGCGCCTTGAATGGGTGGGTGAACCTAAGAGATAAAAACGACTATACTGCAAGGTCAGCGCTTCGTGATAGTTACAATTAGACTGGTAAGTGCTCTGCTGGAATAGTTACTCAATCCGGCCCGTGTTTAACGAAATTGACACCGAGATATTCTTGTATCACCGCTAAATCGGAGACCAACTAGATGAACGTCGGGTTCAAAAGGCGGCTAACGTAAGCTGAAGACCCCGACACCGAGTTGGGCCTACATAATTATGGCGGCGAGACAAGTTAATCAAGGCTCAAACAGCGAGCTGCTCCTCGGGAACCAGACTTGTAGGTAGGGTGACAACTTGTTGGGCGTTAGTTTTGTCAGACAGGGGCGCGAGAGCTACGCGAGATTCCTATGGCTGAAAATGTCAGAGACGAGTTCTCATAACGTATAGAGGTTGATGGAATCAGTATCGACATGTATGTGGCAGGCACAACCGGCAACGAAATTCGAACACGACCTGATTTGACGGAAGGACGCTATTAACGCTGGAAGACTGATTTTTGTTGAACCCCACTCGAGACTAGTTTTCCTTTTCTGCCACCTCACGGAGCCCTAAGTTAACCACCCGATAGGTAAGGCCTGTTATGTTGTTCTCTGCTCTTGGTGCAGCTGTGATACTCCGAAATAGCGGCAGTTGAGCTTCGTACCACTTAAAGATAGGCGTATTGGACTTCGACGGAGTTAATTTCGTTAAGCATGGCCAAAGTCGTATATAAATTAATTTACCCACATCCTCGGGTAACTAGATCAACCATACTAACAGACAGTTTGTTTGCCATGCCTTACAAAGCTTACTCCCCCGGCCGACATCCTATGCTAACGCATGCATTACCATGGGGGTAAGCTTGGTAAGGCACGGATCTTACGGCTTAGCTGACTACAGTGGGTCGTCTTCGCCGTTGTAGCCAAAGCCTGTATCAGCCCGACATGGCCGCAAACGTTCTCGATATTCTAAGCAGCATATTTATCGATCTGAGCTCTCATGGCTATATCTCTCATGGGTATCTTGGGACCTAGAAATCCTCACATCGAGCTTACCATAATGGTCCCATGAACCACTGGTTCGATCTTGCCTAGCATTTGCGACATCTGATCCGATAGCAATGTTGCTTAGCAACGCTACGAATTTGCTGTGGTGGTATTGAAACAGCGGGAGTCACTTGCGTTCGGCGGTCTCAGATCACCCGACCTGAATGCTGACAGCGTTCCGTAATACAGCACCGCGTCTATTAGGTGCTACCTTTCCGTACCGCGTAACGTATGACAAGTGTAGAAACGACATTCACAATCTGGCCCGGATCCTAATCGTTACCGATTTTGTAACAATACGACTGATCTGAAAACTCCTTATAGGTGGAAGGGGAACCGGCCATATTCTTATGAGCGGTTATACGCCATTGCAGTCTAATACTCCGACCTGAAACTAACACACGTCTTCTTTTACCGTGTGTAGGCAGAGAATCCAGATCCTCGTACCTTTTGATCTACGATGCCCTTGTCTTACCAAACTAACTCCCAAATCCATTTCTGAAAAAGAGGGATAGCCGAGGTCTGATTACACGATCCCTTAGGAAATGACGAGCGAAAATCACGTAGTTTGGACTGAATGTACACTACGCCTATTTACTGCTTGGTGCCGTAACTCTGATATATAGCTGAAACCATCGGATGAGAGCGTCATTGAGGAGCGCCGCCAAAGGCTATTTGCTTAATTCTCCATTCACCTCACGACGCACTGACCACCAAGCGCTCTGACACCGGTGAAAAGCCTGTTGTAAGAACAATGGGCGTCAATTTAGTGAGACACGGCTGCCGCAGAGCAGCTTGGTTTAACGTTAACCTCTCGAGGGGCCCTCTTAGCTACCACTATAATAGTCGTCGCGCGGGGGCACTGCCCCGGGTCTTGAAACTATGCAACCATCGTCTCCGTAGCCGATTGGGCACTAACATCCCCAAGATTGTGTTTACCACAAACAGCGCACTCTGGAGCTCGAGACACCTCTGAGCAGCGGTGTAAATAGGTATACCTAATTACAGGCTGAAATAGCCCAACATGACGTCTCTTCGGGCAAGTGTACGTTTCAGCTAGTACTGCTAATGGGTATGTATTCATGCAAAGGACGTTGCGTTCAAGGAACATTTGAGGCTTGGGCGGGGTCGTGCGTGTTGAATGTGAGAGTTAATCACAAATCGTGCAGAGCCGCCTCACGGTGTACCAACGCATGATATTAACCCTCTGGAAGTCGTTTAGGCAATAGACTACGACTGAATGTCCACGGAAATGCTGTTATAATAATGTGAGCGCTCTGTCATCCGGGAAATGGAGAATAACCAGTGCCTAATAAGTTTTTAGCTGTGCAGGGCGCGTGTATCGCTCTACTAAGCACGCCGTGTGTGCCGTCAACCCTCGAGCGTACCGCAACAAAAATGAGATCGCTCCTCACCGGGGCCCTGTCGTAGCAAGAAATTTCCGAAAAGCGGCGTAGCGTGCACCGGTATCCGCTGGGCTTGACTGTTTCCGCTTCATGCAGAGCCGGTGGGCTGATCCTACGCAAAATATGTAGTCGGTTTTACTCGGCGCACCTTCGCTATAAGGTAACGGAAAACACGTGTACCTGAGAGGTTACCTCATCTCAGTCATCTAGCCTCCGGTGCAACTTGTATCTAAATAGGTACTACCGGATGCTCACAGCCAGCCTGGTCGACAGATGATGAATAACTTTTTACTGAGCCACCGTCCAACTTGGGCGTGAGCTTCGTATAGCGCTTTGCGGGGTGAGCTTCGTTAGGCAAGGACGCGCTCCTATAGTCGAGTAATATAGCACAAGAGTTCAGCGTTTAGTAAGAGAATAGGCCGCGCTTGCCTGAATCGCTTCGTAGCGGAGCGATCCGGAGGGTTTCTCGAGTAGCAAATACGGGTCATAGCTTCTGGCGCAATCTCTGGTTCGTAAGACTGACCCAGTTTCGTCTCTCATAAAACGATACAATATAGCATACACTCATTCAGGTGGCTACTCTGTGTCGTTAGAACTATTAACCTAGCTTCGCCTGTAGATACGGAAGCCTTGATGGCCCTCTAAGCATGCAGCATCTCGAAGAAGAAGCGTCAATCGAACCAGCACATAGGACGGAACTATCGGGAGGCGACCCGCCTGCCCTTTGTTCCCAATAAGCATAACCGTGCCTTACGAAGCTAACCCCCGAAGTCGGTGGACGTAACGACAAGGCGTCTGGATTAGATCATCCAACAAAGCGTCGAGCCCGGTCTGGTCTGGCCTAACCATGTATCAAGCAATTTACTTTCGACTCACGATGCGACTACCAGGAAACAGTCCTACGTTATGGCCCGCACTTAATCATGCGTAGCGGAAAGATCAGACTGCCGCTATCGCCCCGTGGTTAGCAATCTGCGCACATGCGCGTGTCATAGAGGCCCTGCCTAACCAAGCTGACGCCACGACTCGGCAAGGGTGTCAACCCAAAGTCGCACTTTTGGCAGCCTGCCTCATGCAATCCCATGTTTGACAAAGCTAACTCCCAGTATTCATATGTGAGGCCTCATAGTTGAACTCTCTTCCTTCAGCGTTGCGTGGGCCGTCCCCTACGCTGAAATACGGAATGTACAGAACTAGGAGCACCGGACGCAAAATAGTTGGCCTCTCCAAGTCGTGCCTCCCGCGCACACAAAAAGTCATTCCA'"
      ],
      "metadata": {
        "id": "Jqf8bgershf3"
      },
      "execution_count": 277,
      "outputs": []
    },
    {
      "cell_type": "code",
      "source": [
        "peptide = 'PCLTKLTP'"
      ],
      "metadata": {
        "id": "BTfCsihIsmtb"
      },
      "execution_count": 278,
      "outputs": []
    },
    {
      "cell_type": "code",
      "source": [
        "RunPeptideEncoding(text, peptide)"
      ],
      "metadata": {
        "id": "aSGwY9Xfsoec"
      },
      "execution_count": null,
      "outputs": []
    }
  ]
}