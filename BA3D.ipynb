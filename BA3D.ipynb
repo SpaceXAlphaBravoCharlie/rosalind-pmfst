{
  "nbformat": 4,
  "nbformat_minor": 0,
  "metadata": {
    "colab": {
      "name": "BA3D.ipynb",
      "provenance": [],
      "collapsed_sections": []
    },
    "kernelspec": {
      "name": "python3",
      "display_name": "Python 3"
    },
    "language_info": {
      "name": "python"
    }
  },
  "cells": [
    {
      "cell_type": "code",
      "source": [
        "def PrintResults(adjacency_dict):\n",
        "  for key,values in sorted(adjacency_dict.items(), key=lambda x:x[0]):\n",
        "    str_to_print = key + ' -> '\n",
        "    for value in enumerate(sorted(values)):\n",
        "      str_to_print = str_to_print + value[1][0:k-1]\n",
        "      if len(values) > 1 and value[0] != (len(values) - 1):\n",
        "          str_to_print = str_to_print + ','\n",
        "    print(str_to_print)"
      ],
      "metadata": {
        "id": "tr3m0wp_b4Dc"
      },
      "execution_count": 9,
      "outputs": []
    },
    {
      "cell_type": "code",
      "source": [
        "def PrintResultsToFile(adjacency_dict):\n",
        "  f = open(\"task_result.txt\", \"w\")\n",
        "  for key,values in sorted(adjacency_dict.items(), key=lambda x:x[0]):\n",
        "    str_to_print = key + ' -> '\n",
        "    for value in enumerate(sorted(values)):\n",
        "      str_to_print = str_to_print + value[1][0:k-1]\n",
        "      if len(values) > 1 and value[0] != (len(values) - 1):\n",
        "          str_to_print = str_to_print + ','\n",
        "    f.write(str_to_print + '\\n')\n",
        "  f.close()"
      ],
      "metadata": {
        "id": "LPJGM0A90hPX"
      },
      "execution_count": 23,
      "outputs": []
    },
    {
      "cell_type": "code",
      "source": [
        "def FindAllKmers(dna_string,k):\n",
        "  kmers_list = []\n",
        "  i = 0\n",
        "  while i + k - 1 <= len(dna_string) - 1:\n",
        "    kmers_list.append(dna_string[i:i+k])\n",
        "    i = i + 1\n",
        "  return kmers_list"
      ],
      "metadata": {
        "id": "mVbDXE6yzQDL"
      },
      "execution_count": 10,
      "outputs": []
    },
    {
      "cell_type": "code",
      "source": [
        "def DeBruijnGraphK(text,k):\n",
        "  adjacency_dict = {}\n",
        "  for kmer in FindAllKmers(text,k):\n",
        "    adjacency_dict.setdefault(kmer[0:len(kmer)-1],list())\n",
        "    adjacency_dict[kmer[0:len(kmer)-1]].append(kmer[1:len(kmer)])\n",
        "  return adjacency_dict"
      ],
      "metadata": {
        "id": "DiuZPXJmx1N3"
      },
      "execution_count": 13,
      "outputs": []
    },
    {
      "cell_type": "code",
      "source": [
        "text = 'AAGATTCTCTAC'"
      ],
      "metadata": {
        "id": "U77DYESzoPh7"
      },
      "execution_count": 2,
      "outputs": []
    },
    {
      "cell_type": "code",
      "source": [
        "k = 4"
      ],
      "metadata": {
        "id": "wSKz6tlsrV7W"
      },
      "execution_count": 3,
      "outputs": []
    },
    {
      "cell_type": "markdown",
      "source": [
        "Budući da kao rezultat ispisujemo čvorove, u ispisu mora biti onoliko čvorova koliko je kmera u stringu text, npr. ako je čvor AT 3 puta povezan sa čvorom TG, onda ispis za čvor AT treba biti\n",
        "\n",
        "AT --> TG, TG, TG\n",
        "\n",
        "U suprotnom ne možemo nikako zaključiti da je čvor AT 3 puta povezan sa čvorom TG"
      ],
      "metadata": {
        "id": "lE5h0EMxfD74"
      }
    },
    {
      "cell_type": "code",
      "source": [
        "PrintResults(DeBruijnGraphK(text,k))"
      ],
      "metadata": {
        "colab": {
          "base_uri": "https://localhost:8080/"
        },
        "id": "_pojVdh-cRSS",
        "outputId": "c8712bed-ef3f-4fea-f387-6e80a0c580b9"
      },
      "execution_count": 14,
      "outputs": [
        {
          "output_type": "stream",
          "name": "stdout",
          "text": [
            "AAG -> AGA\n",
            "AGA -> GAT\n",
            "ATT -> TTC\n",
            "CTA -> TAC\n",
            "CTC -> TCT\n",
            "GAT -> ATT\n",
            "TCT -> CTA,CTC\n",
            "TTC -> TCT\n"
          ]
        }
      ]
    },
    {
      "cell_type": "code",
      "source": [
        "with open('/content/rosalind_ba3d.txt') as task_file:\n",
        "  task_arguments = [line.rstrip() for line in task_file]"
      ],
      "metadata": {
        "id": "N3ugucROekEO"
      },
      "execution_count": 16,
      "outputs": []
    },
    {
      "cell_type": "code",
      "source": [
        "k = int(task_arguments[0])"
      ],
      "metadata": {
        "id": "U8pYew2a0LsK"
      },
      "execution_count": 18,
      "outputs": []
    },
    {
      "cell_type": "code",
      "source": [
        "text = task_arguments[1]"
      ],
      "metadata": {
        "id": "-pXKBK5u0Odr"
      },
      "execution_count": 19,
      "outputs": []
    },
    {
      "cell_type": "code",
      "source": [
        "PrintResultsToFile(DeBruijnGraphK(text,k))"
      ],
      "metadata": {
        "id": "553WAS8SdR4U"
      },
      "execution_count": 24,
      "outputs": []
    }
  ]
}