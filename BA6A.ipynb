{
  "nbformat": 4,
  "nbformat_minor": 0,
  "metadata": {
    "colab": {
      "name": "BA6A.ipynb",
      "provenance": []
    },
    "kernelspec": {
      "name": "python3",
      "display_name": "Python 3"
    },
    "language_info": {
      "name": "python"
    }
  },
  "cells": [
    {
      "cell_type": "code",
      "source": [
        "import numpy as np"
      ],
      "metadata": {
        "id": "pozjRe-4KD6-"
      },
      "execution_count": 6,
      "outputs": []
    },
    {
      "cell_type": "markdown",
      "source": [
        "We say that element k in permutation P = (p1 ... pn) is sorted if pk = +k and unsorted otherwise. We call P k-sorted if its first k - 1 elements are sorted, but if element k is unsorted. For every (k - 1)-sorted permutation P, there exists a single reversal, called the k-sorting reversal, that fixes the first k - 1 elements of P and moves element k to the k-th position. In the case when k is already in the k-th position of P, the k-sorting reversal merely\n",
        "flips k around."
      ],
      "metadata": {
        "id": "s0Nz0rFtqOaq"
      }
    },
    {
      "cell_type": "code",
      "source": [
        "def GreedySorting(permutation): #permutation --> P = (p1 p2 ... pn)\n",
        "  for k in range(len(permutation)):\n",
        "    if permutation[k] != k + 1: #if pk != +k --> permutation numbers goe from 1 to len(permutation) + 1 \n",
        "      k_th_el_index = list(map(abs,permutation[k:len(permutation)])).index(k + 1) + k #we are searching for +k or -k\n",
        "      permutation[k:k_th_el_index + 1] = list(np.negative((permutation[k:k_th_el_index + 1])[::-1]))\n",
        "      PrintIntermediateResult(permutation)\n",
        "      if permutation[k] == -(k + 1): #if pk = -k\n",
        "        permutation[k] = k + 1\n",
        "        PrintIntermediateResult(permutation)"
      ],
      "metadata": {
        "id": "k9tBFz_UKGui"
      },
      "execution_count": 15,
      "outputs": []
    },
    {
      "cell_type": "code",
      "source": [
        "def PrintIntermediateResult(permutation):\n",
        "  f = open(\"task_result.txt\",\"a\")\n",
        "  intermediate_result_string = '('\n",
        "  for num in enumerate(permutation):\n",
        "    if num[0] < len(permutation) - 1:\n",
        "      if abs(num[1]) == num[1]:\n",
        "        intermediate_result_string = intermediate_result_string + '+' + str(num[1]) + ' '\n",
        "      else:\n",
        "        intermediate_result_string = intermediate_result_string + str(num[1]) + ' '\n",
        "    else:\n",
        "      if abs(num[1]) == num[1]:\n",
        "        intermediate_result_string = intermediate_result_string + '+' + str(num[1])\n",
        "      else:\n",
        "        intermediate_result_string = intermediate_result_string + str(num[1])\n",
        "  intermediate_result_string = intermediate_result_string + ')'\n",
        "  #print(intermediate_result_string)\n",
        "  f.write(intermediate_result_string + '\\n')\n",
        "  f.close()"
      ],
      "metadata": {
        "id": "3MBzT6nzMcqH"
      },
      "execution_count": 47,
      "outputs": []
    },
    {
      "cell_type": "code",
      "source": [
        "permutation = [-3, +4, +1, +5, -2]"
      ],
      "metadata": {
        "id": "PIy3TypTOzcV"
      },
      "execution_count": 24,
      "outputs": []
    },
    {
      "cell_type": "code",
      "source": [
        "GreedySorting(permutation)"
      ],
      "metadata": {
        "colab": {
          "base_uri": "https://localhost:8080/"
        },
        "id": "MmwnBN0APE0D",
        "outputId": "61998247-7487-4cbd-a6f4-a732662a6f60"
      },
      "execution_count": 23,
      "outputs": [
        {
          "output_type": "stream",
          "name": "stdout",
          "text": [
            "(-1 -4 +3 +5 -2)\n",
            "(+1 -4 +3 +5 -2)\n",
            "(+1 +2 -5 -3 +4)\n",
            "(+1 +2 +3 +5 +4)\n",
            "(+1 +2 +3 -4 -5)\n",
            "(+1 +2 +3 +4 -5)\n",
            "(+1 +2 +3 +4 +5)\n"
          ]
        }
      ]
    },
    {
      "cell_type": "code",
      "source": [
        "with open('/content/rosalind_ba6a.txt') as task_file:\n",
        "  permutation = [line.rstrip() for line in task_file][0]\n",
        "permutation = permutation.replace('(',\"\")\n",
        "permutation = permutation.replace(')',\"\")\n",
        "permutation = permutation.split(' ')\n",
        "for i in range(len(permutation)):\n",
        "   permutation[i] = int(permutation[i])"
      ],
      "metadata": {
        "id": "tmewo1SjtKHD"
      },
      "execution_count": 50,
      "outputs": []
    },
    {
      "cell_type": "code",
      "source": [
        "GreedySorting(permutation)"
      ],
      "metadata": {
        "id": "j6oYuyB9SVxz"
      },
      "execution_count": 52,
      "outputs": []
    }
  ]
}