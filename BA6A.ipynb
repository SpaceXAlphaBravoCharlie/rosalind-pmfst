{
  "nbformat": 4,
  "nbformat_minor": 0,
  "metadata": {
    "colab": {
      "name": "BA6A.ipynb",
      "provenance": []
    },
    "kernelspec": {
      "name": "python3",
      "display_name": "Python 3"
    },
    "language_info": {
      "name": "python"
    }
  },
  "cells": [
    {
      "cell_type": "code",
      "source": [
        "import numpy as np"
      ],
      "metadata": {
        "id": "pozjRe-4KD6-"
      },
      "execution_count": 46,
      "outputs": []
    },
    {
      "cell_type": "code",
      "source": [
        "def GreedySorting(permutation):\n",
        "  #approxReversalDistance = 0\n",
        "  for k in range(len(permutation)):\n",
        "    if permutation[k] != k + 1:\n",
        "      k_th_el_index = list(map(abs,permutation[k:len(permutation)])).index(k + 1) + k\n",
        "      permutation[k:k_th_el_index + 1] = list(np.negative((permutation[k:k_th_el_index + 1])[::-1]))\n",
        "      PrintIntermediateResult(permutation)\n",
        "      #approxReversalDistance = approxReversalDistance + 1\n",
        "      if permutation[k] == -(k + 1):\n",
        "        permutation[k] = k + 1\n",
        "        PrintIntermediateResult(permutation)\n",
        "        #approxReversalDistance = approxReversalDistance + 1\n",
        "  #return approxReversalDistance"
      ],
      "metadata": {
        "id": "k9tBFz_UKGui"
      },
      "execution_count": 67,
      "outputs": []
    },
    {
      "cell_type": "code",
      "source": [
        "def PrintIntermediateResult(permutation):\n",
        "  intermediate_result_string = '('\n",
        "  for num in enumerate(permutation):\n",
        "    if num[0] < len(permutation) - 1:\n",
        "      if abs(num[1]) == num[1]:\n",
        "        intermediate_result_string = intermediate_result_string + '+' + str(num[1]) + ' '\n",
        "      else:\n",
        "        intermediate_result_string = intermediate_result_string + str(num[1]) + ' '\n",
        "    else:\n",
        "      if abs(num[1]) == num[1]:\n",
        "        intermediate_result_string = intermediate_result_string + '+' + str(num[1])\n",
        "      else:\n",
        "        intermediate_result_string = intermediate_result_string + str(num[1])\n",
        "  intermediate_result_string = intermediate_result_string + ')'\n",
        "  print(intermediate_result_string)"
      ],
      "metadata": {
        "id": "3MBzT6nzMcqH"
      },
      "execution_count": 68,
      "outputs": []
    },
    {
      "cell_type": "code",
      "source": [
        "permutation = [-3, +4, +1, +5, -2]"
      ],
      "metadata": {
        "id": "PIy3TypTOzcV"
      },
      "execution_count": 69,
      "outputs": []
    },
    {
      "cell_type": "code",
      "source": [
        "permutation"
      ],
      "metadata": {
        "colab": {
          "base_uri": "https://localhost:8080/"
        },
        "id": "Jf9QskIrPCiq",
        "outputId": "77085494-5415-472b-e672-8df79b72c771"
      },
      "execution_count": 70,
      "outputs": [
        {
          "output_type": "execute_result",
          "data": {
            "text/plain": [
              "[-3, 4, 1, 5, -2]"
            ]
          },
          "metadata": {},
          "execution_count": 70
        }
      ]
    },
    {
      "cell_type": "code",
      "source": [
        "GreedySorting(permutation)"
      ],
      "metadata": {
        "colab": {
          "base_uri": "https://localhost:8080/"
        },
        "id": "MmwnBN0APE0D",
        "outputId": "77cadcb5-1211-4052-88d1-840beccd007b"
      },
      "execution_count": 71,
      "outputs": [
        {
          "output_type": "stream",
          "name": "stdout",
          "text": [
            "(-1 -4 +3 +5 -2)\n",
            "(+1 -4 +3 +5 -2)\n",
            "(+1 +2 -5 -3 +4)\n",
            "(+1 +2 +3 +5 +4)\n",
            "(+1 +2 +3 -4 -5)\n",
            "(+1 +2 +3 +4 -5)\n",
            "(+1 +2 +3 +4 +5)\n"
          ]
        }
      ]
    },
    {
      "cell_type": "code",
      "source": [
        "permutation = list()"
      ],
      "metadata": {
        "id": "vQXLqV4vRFhL"
      },
      "execution_count": 110,
      "outputs": []
    },
    {
      "cell_type": "code",
      "source": [
        "task_str = '+10 +122 +128 +12 +61 -30 +134 -87 -91 +78 -68 -15 +48 -94 -39 +18 +5 +53 +116 +27 +62 +121 -69 -92 +25 +82 -120 -103 +6 -73 -45 -13 +75 +65 +40 +127 +105 +41 +125 -51 -33 +84 +22 -106 +126 +11 +38 -93 +16 +63 +42 -138 -55 +29 +28 +52 -135 +85 +104 -95 -32 -109 +50 -72 +20 +24 +80 -56 -59 -64 +70 +9 -21 +83 +7 -111 +131 -17 -3 +90 -74 -26 +58 -67 -96 +43 -123 -54 -34 -37 -137 -98 +35 -86 -113 +31 +101 +102 -47 +14 -44 +132 +119 -49 +23 -8 -129 +71 -76 +57 +110 +117 -81 -19 -107 -136 -100 +2 +77 -112 +133 +4 -89 -124 -118 -36 +1 -114 -115 -46 -60 +130 +79 +97 -66 -99 +108 +88'"
      ],
      "metadata": {
        "id": "NRAbj1yPR953"
      },
      "execution_count": 111,
      "outputs": []
    },
    {
      "cell_type": "code",
      "source": [
        "for num in task_str.split(' '):\n",
        "  permutation.append(int(num))"
      ],
      "metadata": {
        "id": "1LRavfDYUlPQ"
      },
      "execution_count": 112,
      "outputs": []
    },
    {
      "cell_type": "code",
      "source": [
        "permutation"
      ],
      "metadata": {
        "id": "DteuozbXSUGv"
      },
      "execution_count": null,
      "outputs": []
    },
    {
      "cell_type": "code",
      "source": [
        "GreedySorting(permutation)"
      ],
      "metadata": {
        "id": "j6oYuyB9SVxz"
      },
      "execution_count": null,
      "outputs": []
    }
  ]
}