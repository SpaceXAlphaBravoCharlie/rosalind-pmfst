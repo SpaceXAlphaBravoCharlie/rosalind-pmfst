{
  "nbformat": 4,
  "nbformat_minor": 0,
  "metadata": {
    "colab": {
      "name": "BA3E.ipynb",
      "provenance": []
    },
    "kernelspec": {
      "name": "python3",
      "display_name": "Python 3"
    },
    "language_info": {
      "name": "python"
    }
  },
  "cells": [
    {
      "cell_type": "code",
      "source": [
        "def PrintResults(adjacency_dict):\n",
        "  for key,values in sorted(adjacency_dict.items(), key=lambda x:x[0]):\n",
        "    str_to_print = key + ' -> '\n",
        "    for value in enumerate(sorted(values)):\n",
        "      str_to_print = str_to_print + value[1][0:k-1]\n",
        "      if len(values) > 1 and value[0] != (len(values) - 1):\n",
        "          str_to_print = str_to_print + ','\n",
        "    print(str_to_print)"
      ],
      "metadata": {
        "id": "tr3m0wp_b4Dc"
      },
      "execution_count": 26,
      "outputs": []
    },
    {
      "cell_type": "code",
      "source": [
        "def FindAllKmers(dna_string, k):\n",
        "  kmers_list = []\n",
        "  i = 0\n",
        "  while i + (k - 1) <= len(dna_string) - 1:\n",
        "    kmers_list.append(dna_string[i:i+k])\n",
        "    i = i + 1\n",
        "  return kmers_list"
      ],
      "metadata": {
        "id": "mVbDXE6yzQDL"
      },
      "execution_count": 27,
      "outputs": []
    },
    {
      "cell_type": "code",
      "source": [
        "def DeBruijnGraphK(text, k):\n",
        "  adjacency_dict = {}\n",
        "  kmers_list = FindAllKmers(text, k)\n",
        "  for kmer in kmers_list:\n",
        "    adjacency_dict.setdefault(kmer[0:len(kmer)-1], list())\n",
        "    adjacency_dict[kmer[0:len(kmer) - 1]].append(kmer[1:len(kmer)])\n",
        "  return adjacency_dict"
      ],
      "metadata": {
        "id": "gd2IkV565iYm"
      },
      "execution_count": 41,
      "outputs": []
    },
    {
      "cell_type": "code",
      "source": [
        "text = 'AAGATTCTCTAC'"
      ],
      "metadata": {
        "id": "U77DYESzoPh7"
      },
      "execution_count": 45,
      "outputs": []
    },
    {
      "cell_type": "code",
      "source": [
        "k = 4"
      ],
      "metadata": {
        "id": "wSKz6tlsrV7W"
      },
      "execution_count": 46,
      "outputs": []
    },
    {
      "cell_type": "markdown",
      "source": [
        "Budući da kao rezultat ispisujemo čvorove, u ispisu mora biti onoliko čvorova koliko je kmera u stringu text, npr. ako je čvor AT 3 puta povezan sa čvorovm TG, onda ispis za čvor AT treba biti\n",
        "\n",
        "AT --> TG, TG, TG\n",
        "\n",
        "U suprotnom ne možemo nikako zaključiti da je čvor AT 3 puta povezan sa čvorom TG"
      ],
      "metadata": {
        "id": "lE5h0EMxfD74"
      }
    },
    {
      "cell_type": "code",
      "source": [
        "PrintResults(DeBruijnGraphK(text, k))"
      ],
      "metadata": {
        "colab": {
          "base_uri": "https://localhost:8080/"
        },
        "id": "_pojVdh-cRSS",
        "outputId": "98d4cbc4-af36-4c00-d2b5-1d7e95d709a8"
      },
      "execution_count": 47,
      "outputs": [
        {
          "output_type": "stream",
          "name": "stdout",
          "text": [
            "AAG -> AGA\n",
            "AGA -> GAT\n",
            "ATT -> TTC\n",
            "CTA -> TAC\n",
            "CTC -> TCT\n",
            "GAT -> ATT\n",
            "TCT -> CTA,CTC\n",
            "TTC -> TCT\n"
          ]
        }
      ]
    },
    {
      "cell_type": "code",
      "source": [
        "k = 12"
      ],
      "metadata": {
        "id": "FMjcgCZfdH_u"
      },
      "execution_count": 48,
      "outputs": []
    },
    {
      "cell_type": "code",
      "source": [
        "text = 'CCTAAGTACCTCAATTATCCGTGGTACTCAGTACACAGTTGGTAACATCGGTGAATGACCTATTCGGAAACGCTGCCCAATATTTCGTTCGCGGATCGAGGACAGGTCCGAAAGAAGACATTCAGCGTCGAGGTTATGCCTCAATAGGTTCCCAATCGTAGCCACTATTGATATTATCGGTCCACCAATTCATATCGCCGGAACCTCTGACACCGTTATGCGCGATGGATCAGACAGTTACCTTATTAGCATGACACTCGAGACGAGACATCTAGATCGTCCAGTGGGCCGGTCTTCGAAAGGGTGGACACACTGCGTCTCCGTGTAAAAACAGGGTCAAAGGGACTTCCTGACCAGAGATATGCGTAGACGGCACGCACCCAAGCTGACGTGCGATAGGACATCGCATAGGGCTCAATTTAACAAGCTTTCTGCATGATAGGAACAGCCTCACGCCCGTATTGGTGTACTCACTGCGTAGAAGTATGTCCGGACACTAGGCGGCAGTTCGAGCTGCAGGCGTAGACGGAGTGTGGCCGATGTAACTCTTGTTCCCTGCATTCGGAAGTGAATATAAGCCACAGCACCTAATAGTAGAAGGAGATCTTATTATTCCTTCAGTGGACCTGCCGCCGACTTAGTAAGGTAAGGGTGTGACATGTCAATAACGCAAGTTAGGAGTACAGGACGTTCCAGGATACGGAAATTCTTCACGTTTGGATTGTCGACGGTGCTGCACCTACAGTTATTACTGAGCGATCTTGGGGAATGTTGTGGGGCATGACGCGTCCCGCTAATTATTAAGACTACAAAGTGATTCTGCGGTGATGCGCAGCCGTACATCTTGTGAAGATGCGTCGCGTACACCTCGACTCCCGGGTACAATGAAATCGTGCGGTAGCTTTATTGTAAACTTTGGGTCAACCCTTTCTAACCCTGTTTCAAAGCATGACACTTTCTTAATGTGCGATTGTGAGTATTGTGACTGCGCGTCGGGCTACAATGTCTCAGAAAACCCACATAGATGACTCCAACTGCGGTCGCTGTTTTTAAAGAACAGTCGTTTGGCTGGGCGCCCGCTTTGTGAATCTAGTACGGAGGGTAAGGGAGACTAAGAGTACCTCGGCCCCACGCTAATCGCATATTAGCGGTTACTATGTGCTCTGATCACGTCTAGGGTGTCGAGGCAGGGGCTTCACGGTTCTGGCCGTCTTGTTTCTATCATAAAACATTCGTGGTTGTAGAGATCTGTGCGCGTGGCTGTAGCTCGAACGCCCAACATGGCCACACGCTTTATGATAGAGATGGAATAGAAACTGCCCGGTTGCAATCTGCTAACCTTAGCCAAATCGGAGCCGTACGTCCCAAAGAACAACGGATAGAAAAAGGTAGCGAGAGTCTAGCCTATAGCCATGGTCTAAGAGGGTCACCCCTACGGTCCTGCGTCAAAATACATGCCCCAACCTGTAAATATACGACTTCCATCCCTTGCTCTAGACTGCCATGTCGGTGGCTGGCGCACTAAGTGGGAGATTGATCTGACTCTGTGGAAATACACTAAAATTAGGAAGGAGACTAACAGGGGACTCGATCAATACAAAAACCACAACACCGGTAGCAAACGCTCATGCCGGTGTAACTCCTAACCTCTATCGTGATATCTGAAGACTACTCGCGGAACGCGAATCCTGAAGTCTATTGTTTGGGTTGAATGAATTCGTCTGAAGGAGCTCTTCCCAGTATGGAGTATGAGGGACCATAAATTTTGCCGTTGAGCTTTGCATTTCCATCCAGGCCGGTAGAATCGTGTCTTTGTCGGCTTTAATCTTAGCCTCGGCTTCCACATAGGATGAGGATGAACCCGACCACTCCGCTCCGGAATCACGCACGACTCTGTCGCAAGACTCAACGATGGCACGCCGGTGGCACACACCTTACGCCTTTCTTGGTGGTCTTGAACCTAAAATGGCCAGAACGAAACTGTACATTGCTCGAGGTAA'"
      ],
      "metadata": {
        "id": "N3ugucROekEO"
      },
      "execution_count": 49,
      "outputs": []
    },
    {
      "cell_type": "code",
      "source": [
        "PrintResults(DeBruijnGraphK(text, k))"
      ],
      "metadata": {
        "id": "553WAS8SdR4U"
      },
      "execution_count": null,
      "outputs": []
    }
  ]
}