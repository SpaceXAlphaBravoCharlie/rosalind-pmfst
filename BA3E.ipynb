{
  "nbformat": 4,
  "nbformat_minor": 0,
  "metadata": {
    "colab": {
      "name": "BA3E.ipynb",
      "provenance": [],
      "collapsed_sections": []
    },
    "kernelspec": {
      "name": "python3",
      "display_name": "Python 3"
    },
    "language_info": {
      "name": "python"
    }
  },
  "cells": [
    {
      "cell_type": "code",
      "source": [
        "def PrintResults(adjacency_dict):\n",
        "  for key,values in sorted(adjacency_dict.items(), key=lambda x:x[0]):\n",
        "    str_to_print = key + ' -> '\n",
        "    for value in enumerate(sorted(values)):\n",
        "      str_to_print = str_to_print + value[1][0:k-1]\n",
        "      if len(values) > 1 and value[0] != (len(values) - 1):\n",
        "          str_to_print = str_to_print + ','\n",
        "    print(str_to_print)"
      ],
      "metadata": {
        "id": "mVbDXE6yzQDL"
      },
      "execution_count": 1,
      "outputs": []
    },
    {
      "cell_type": "code",
      "source": [
        "def FindAllKmers(dna_string, k):\n",
        "  kmers_list = []\n",
        "  i = 0\n",
        "  while i + (k - 1) <= len(dna_string) - 1:\n",
        "    kmers_list.append(dna_string[i:i+k])\n",
        "    i = i + 1\n",
        "  return kmers_list"
      ],
      "metadata": {
        "id": "4w6e4xDpqavC"
      },
      "execution_count": 2,
      "outputs": []
    },
    {
      "cell_type": "code",
      "source": [
        "def DeBruijnGraphK(patterns, k):\n",
        "  adjacency_dict = {}\n",
        "  for kmer in patterns:\n",
        "    adjacency_dict.setdefault(kmer[0:len(kmer)-1], list())\n",
        "    adjacency_dict[kmer[0:len(kmer) - 1]].append(kmer[1:len(kmer)])\n",
        "  return adjacency_dict"
      ],
      "metadata": {
        "id": "QlvvGFLEqdYb"
      },
      "execution_count": 3,
      "outputs": []
    },
    {
      "cell_type": "code",
      "source": [
        "patterns = ['GAGG', 'CAGG', 'GGGG', 'GGGA', 'CAGG', 'AGGG', 'GGAG']"
      ],
      "metadata": {
        "id": "U77DYESzoPh7"
      },
      "execution_count": 4,
      "outputs": []
    },
    {
      "cell_type": "code",
      "source": [
        "k = 4"
      ],
      "metadata": {
        "id": "wSKz6tlsrV7W"
      },
      "execution_count": 5,
      "outputs": []
    },
    {
      "cell_type": "markdown",
      "source": [
        "Budući da kao rezultat ispisujemo čvorove, u ispisu mora biti onoliko čvorova koliko je kmera u stringu text, npr. ako je čvor AT 3 puta povezan sa čvorom TG, onda ispis za čvor AT treba biti\n",
        "\n",
        "AT --> TG, TG, TG\n",
        "\n",
        "U suprotnom ne možemo nikako zaključiti da je čvor AT 3 puta povezan sa čvorom TG"
      ],
      "metadata": {
        "id": "YiUxhItLrMBy"
      }
    },
    {
      "cell_type": "code",
      "source": [
        "PrintResults(DeBruijnGraphK(patterns, k))"
      ],
      "metadata": {
        "id": "EkqwmVkIzzGM",
        "colab": {
          "base_uri": "https://localhost:8080/"
        },
        "outputId": "36f92c8b-5cf9-44f9-876b-579dceb98ce6"
      },
      "execution_count": 7,
      "outputs": [
        {
          "output_type": "stream",
          "name": "stdout",
          "text": [
            "AGG -> GGG\n",
            "CAG -> AGG,AGG\n",
            "GAG -> AGG\n",
            "GGA -> GAG\n",
            "GGG -> GGA,GGG\n"
          ]
        }
      ]
    },
    {
      "cell_type": "markdown",
      "source": [
        "CAG -> AGG,AGG\n",
        "\n",
        "Iz ovoga ispisa možemo zaključiti da se kmer CAGG pojavljuje 2 puta, da je ispis bio sljedeći:\n",
        "\n",
        "CAG --> AGG\n",
        "\n",
        "Ne možemo zaključiti pojavljuje li se kmer CAGG jednom ili više puta, tj. nije jednoznačno definirano pojavljuje li se jednom ili više puta"
      ],
      "metadata": {
        "id": "L4Z5AnGPrVdp"
      }
    },
    {
      "cell_type": "code",
      "source": [
        "with open('/content/rosalind_ba3e.txt') as task_file:\n",
        "  patterns = [line.rstrip() for line in task_file]"
      ],
      "metadata": {
        "id": "OrZFZZMsruD9"
      },
      "execution_count": 8,
      "outputs": []
    },
    {
      "cell_type": "code",
      "source": [
        "patterns"
      ],
      "metadata": {
        "id": "_dGJpjx3r_Ig"
      },
      "execution_count": null,
      "outputs": []
    },
    {
      "cell_type": "code",
      "source": [
        "k = len(patterns[0])"
      ],
      "metadata": {
        "id": "iuSbWa4ksCuq"
      },
      "execution_count": 10,
      "outputs": []
    },
    {
      "cell_type": "code",
      "source": [
        "PrintResults(DeBruijnGraphK(patterns, k))"
      ],
      "metadata": {
        "id": "vsVGcwqxsF3d"
      },
      "execution_count": null,
      "outputs": []
    }
  ]
}