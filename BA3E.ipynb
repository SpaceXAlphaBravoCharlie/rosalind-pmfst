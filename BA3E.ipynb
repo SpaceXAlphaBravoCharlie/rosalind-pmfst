{
  "nbformat": 4,
  "nbformat_minor": 0,
  "metadata": {
    "colab": {
      "name": "BA3E.ipynb",
      "provenance": [],
      "collapsed_sections": []
    },
    "kernelspec": {
      "name": "python3",
      "display_name": "Python 3"
    },
    "language_info": {
      "name": "python"
    }
  },
  "cells": [
    {
      "cell_type": "code",
      "source": [
        "def PrintResults(adjacency_dict):\n",
        "  for key,values in sorted(adjacency_dict.items(), key=lambda x:x[0]):\n",
        "    string_to_print = key + ' -> '\n",
        "    for value in sorted(values):\n",
        "      string_to_print = string_to_print + str(value) + ','\n",
        "    string_to_print = string_to_print[0:len(string_to_print)-1]\n",
        "    print(string_to_print)"
      ],
      "metadata": {
        "id": "3q4hWBZURDX7"
      },
      "execution_count": 14,
      "outputs": []
    },
    {
      "cell_type": "code",
      "source": [
        "def PrintResultsToFile(adjacency_dict):\n",
        "  f = open(\"task_result.txt\", \"w\")\n",
        "  for key,values in sorted(adjacency_dict.items(), key=lambda x:x[0]):\n",
        "    string_to_print = key + ' -> '\n",
        "    for value in sorted(values):\n",
        "      string_to_print = string_to_print + str(value) + ','\n",
        "    string_to_print = string_to_print[0:len(string_to_print)-1]\n",
        "    f.write(string_to_print + '\\n')\n",
        "  f.close()"
      ],
      "metadata": {
        "id": "NyMf6xUDR-qN"
      },
      "execution_count": 17,
      "outputs": []
    },
    {
      "cell_type": "code",
      "source": [
        "def FindAllKmers(dna_string,k):\n",
        "  kmers_list = []\n",
        "  i = 0\n",
        "  while i + k - 1 <= len(dna_string) - 1:\n",
        "    kmers_list.append(dna_string[i:i+k])\n",
        "    i = i + 1\n",
        "  return kmers_list"
      ],
      "metadata": {
        "id": "JSq3IG37NjrS"
      },
      "execution_count": 4,
      "outputs": []
    },
    {
      "cell_type": "code",
      "source": [
        "def Prefix(pattern):\n",
        "  return pattern[0:len(pattern)-1]"
      ],
      "metadata": {
        "id": "J-TEZeuROPfk"
      },
      "execution_count": 5,
      "outputs": []
    },
    {
      "cell_type": "code",
      "source": [
        "def Suffix(pattern):\n",
        "  return pattern[1:len(pattern)]"
      ],
      "metadata": {
        "id": "9N7Yj9i3OYGw"
      },
      "execution_count": 6,
      "outputs": []
    },
    {
      "cell_type": "code",
      "source": [
        "def DeBruijnGraphK(patterns):\n",
        "  adjacency_dict = {}\n",
        "  for pattern in patterns:\n",
        "    adjacency_dict.setdefault(Prefix(pattern),[])\n",
        "    adjacency_dict[Prefix(pattern)].append(Suffix(pattern))\n",
        "  return adjacency_dict"
      ],
      "metadata": {
        "id": "EEuQcS2uQZ9Q"
      },
      "execution_count": 12,
      "outputs": []
    },
    {
      "cell_type": "code",
      "source": [
        "patterns = ['GAGG', 'CAGG', 'GGGG', 'GGGA', 'CAGG', 'AGGG', 'GGAG']"
      ],
      "metadata": {
        "id": "U77DYESzoPh7"
      },
      "execution_count": 8,
      "outputs": []
    },
    {
      "cell_type": "code",
      "source": [
        "k = 4"
      ],
      "metadata": {
        "id": "wSKz6tlsrV7W"
      },
      "execution_count": 9,
      "outputs": []
    },
    {
      "cell_type": "markdown",
      "source": [
        "Budući da kao rezultat ispisujemo čvorove, u ispisu mora biti onoliko čvorova koliko je kmera u stringu text, npr. ako je čvor AT 3 puta povezan sa čvorom TG, onda ispis za čvor AT treba biti\n",
        "\n",
        "AT --> TG, TG, TG\n",
        "\n",
        "U suprotnom ne možemo nikako zaključiti da je čvor AT 3 puta povezan sa čvorom TG"
      ],
      "metadata": {
        "id": "YiUxhItLrMBy"
      }
    },
    {
      "cell_type": "code",
      "source": [
        "PrintResults(DeBruijnGraphK(patterns))"
      ],
      "metadata": {
        "id": "EkqwmVkIzzGM",
        "colab": {
          "base_uri": "https://localhost:8080/"
        },
        "outputId": "19379cbf-31ea-4469-e6b0-c4af19f67111"
      },
      "execution_count": 16,
      "outputs": [
        {
          "output_type": "stream",
          "name": "stdout",
          "text": [
            "AGG -> GGG\n",
            "CAG -> AGG,AGG\n",
            "GAG -> AGG\n",
            "GGA -> GAG\n",
            "GGG -> GGA,GGG\n"
          ]
        }
      ]
    },
    {
      "cell_type": "markdown",
      "source": [
        "CAG -> AGG,AGG\n",
        "\n",
        "Iz ovoga ispisa možemo zaključiti da se kmer CAGG pojavljuje 2 puta, da je ispis bio sljedeći:\n",
        "\n",
        "CAG --> AGG\n",
        "\n",
        "Ne možemo zaključiti pojavljuje li se kmer CAGG jednom ili više puta, tj. nije jednoznačno definirano pojavljuje li se jednom ili više puta"
      ],
      "metadata": {
        "id": "L4Z5AnGPrVdp"
      }
    },
    {
      "cell_type": "code",
      "source": [
        "with open('/content/rosalind_ba3e.txt') as task_file:\n",
        "  patterns = [line.rstrip() for line in task_file]"
      ],
      "metadata": {
        "id": "OrZFZZMsruD9"
      },
      "execution_count": 18,
      "outputs": []
    },
    {
      "cell_type": "code",
      "source": [
        "PrintResultsToFile(DeBruijnGraphK(patterns))"
      ],
      "metadata": {
        "id": "vsVGcwqxsF3d"
      },
      "execution_count": 20,
      "outputs": []
    }
  ]
}