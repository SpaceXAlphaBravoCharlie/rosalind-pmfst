{
  "nbformat": 4,
  "nbformat_minor": 0,
  "metadata": {
    "colab": {
      "name": "BA4J.ipynb",
      "provenance": []
    },
    "kernelspec": {
      "name": "python3",
      "display_name": "Python 3"
    },
    "language_info": {
      "name": "python"
    }
  },
  "cells": [
    {
      "cell_type": "markdown",
      "source": [
        "Given an amino acid string Peptide, we will begin by assuming that it represents a linear\n",
        "peptide"
      ],
      "metadata": {
        "id": "pxJ-KoUibOi0"
      }
    },
    {
      "cell_type": "markdown",
      "source": [
        "Our approach to generating its theoretical spectrum is based on the assumption\n",
        "that the mass of any subpeptide is equal to the difference between the masses of\n",
        "two prefixes of Peptide"
      ],
      "metadata": {
        "id": "D9jXA6mMbpKY"
      }
    },
    {
      "cell_type": "markdown",
      "source": [
        "We can compute an array PREFIXMASS storing the masses of\n",
        "each prefix of Peptide in increasing order, e.g., for Peptide = NQEL, PREFIXMASS =\n",
        "(0, 114, 242, 371, 484)"
      ],
      "metadata": {
        "id": "pna0UYBZbvYe"
      }
    },
    {
      "cell_type": "code",
      "source": [
        "aminoacids_integer_masses_dict = {'A':71.03711,\n",
        "'R':156.10111,\n",
        "'N':114.04293,\n",
        "'D':115.02694,\n",
        "'C':103.00919,\n",
        "'E':129.04259,\n",
        "'Q':128.05858,\n",
        "'G':57.02146,\n",
        "'H':137.05891,\n",
        "'I':113.08406,\n",
        "'L':113.08406,\n",
        "'K':128.09496,\n",
        "'M':131.04049,\n",
        "'F':147.06841,\n",
        "'P':97.05276,\n",
        "'S':87.03203,\n",
        "'T':101.04768,\n",
        "'W':186.07931,\n",
        "'Y':163.06333,\n",
        "'V':99.06841}"
      ],
      "metadata": {
        "id": "6LM3L5lZeTSM"
      },
      "execution_count": 1,
      "outputs": []
    },
    {
      "cell_type": "code",
      "source": [
        "for key in aminoacids_integer_masses_dict:\n",
        "  aminoacids_integer_masses_dict[key] = int(aminoacids_integer_masses_dict[key])"
      ],
      "metadata": {
        "id": "KiJLtCfReVly"
      },
      "execution_count": 2,
      "outputs": []
    },
    {
      "cell_type": "code",
      "source": [
        "def ReturnPeptidePrefixes(peptide):\n",
        "  peptide_prefixes = []\n",
        "  i = 1\n",
        "  while i <= len(peptide):\n",
        "    peptide_prefixes.append(peptide[0:i])\n",
        "    i = i + 1\n",
        "  return peptide_prefixes"
      ],
      "metadata": {
        "id": "_smFtMughjxs"
      },
      "execution_count": 3,
      "outputs": []
    },
    {
      "cell_type": "code",
      "source": [
        "def ReturnPeptideIntegerMass(peptide):\n",
        "  peptide_mass = 0\n",
        "  for aminoacid in peptide:\n",
        "    peptide_mass = peptide_mass + aminoacids_integer_masses_dict[aminoacid]\n",
        "  return peptide_mass"
      ],
      "metadata": {
        "id": "YRonMBNjiImP"
      },
      "execution_count": 4,
      "outputs": []
    },
    {
      "cell_type": "markdown",
      "source": [
        "0123\n",
        "\n",
        "NQEL\n",
        "\n",
        "Svaki od indeksa je indeks završne aminokiseline i-tog prefiksa. Npr. 0 je indeks završne aminokiseline 0. prefiksa, 1 je indeks završne aminokiseline 1. prefiksa, 2 je indeks završne aminokiseline 2. prefiksa, 3 je indeks završne aminokiseline 3. prefiksa. \n",
        "\n",
        "Mass(N) = Mass(N) - Mass( )\n",
        "\n",
        "Mass(Q) = Mass(NQ) - Mass(N)\n",
        "\n",
        "Mass(E) = Mass(NQE) - Mass(NQ)\n",
        "\n",
        "Mass(L) = Mass(NQEL) - Mass(NQE)\n",
        "\n",
        "Dakle, masa i-te aminokiseline je jednaka masa i-tog prefiksa - masa (i-1)-tog prefiksa jer se i-ti prefiks i (i-1)-ti prefiks razlikuju u upravo toj aminokiselini.\n",
        "\n",
        "12\n",
        "\n",
        "QE\n",
        "\n",
        "Indeks početne aminokiseline subpeptida QE je jednak završnom indeksu 1. prefiksa, završni indeks subpeptida je jednak završnom indeksu 2. prefiksa. \n",
        "\n",
        "Mass(QE) = Mass(NQE) - Mass(N), tj. masa subpeptida čiji je završni indeks završni indeks 2. prefiksa je jednaka razlici masa 2. prefiksa i 0- prefiksa --> masa subpeptida čiji je završni indeks 2 je jednak razlici masa prefiksa čiji je završni indeks 2 i prefiksa čiji je završni indeks za 1 manji od početnog indeksa subpeptida\n",
        "\n",
        "012345\n",
        "\n",
        "NQELEL\n",
        "\n",
        "234\n",
        "\n",
        "ELE\n",
        "\n",
        "Mass(ELE) = Mass(NQELE) - Mass(NQ), tj. masa subpeptida čiji je završni indeks 4 je jednaka razlici masa 4. prefiksa i 1. prefiksa, tj. prefiksa čiji je završni indeks za 1 manji od početnog indeksa subpeptida"
      ],
      "metadata": {
        "id": "jVrNNfPtjSnM"
      }
    },
    {
      "cell_type": "code",
      "source": [
        "def FindAllKmers(peptide,k):\n",
        "  kmers_list = []\n",
        "  i = 0\n",
        "  while i + k - 1 <= len(peptide)-1:\n",
        "    kmers_list.append(peptide[i:i+k])\n",
        "    i = i + 1\n",
        "  return kmers_list"
      ],
      "metadata": {
        "id": "yMrQd7OQEDqB"
      },
      "execution_count": 6,
      "outputs": []
    },
    {
      "cell_type": "code",
      "source": [
        "def GenerateAllSubpeptides(peptide):\n",
        "  subpeptides = []\n",
        "  for subpeptide_length in range(1,len(peptide)):\n",
        "    subpeptides.extend([[' '] + FindAllKmers(peptide,subpeptide_length)])\n",
        "  subpeptides.append([' '] + [peptide])\n",
        "  return subpeptides"
      ],
      "metadata": {
        "id": "VQr6189hEEDy"
      },
      "execution_count": 7,
      "outputs": []
    },
    {
      "cell_type": "code",
      "source": [
        "def LinearSpectrum(peptide):\n",
        "  peptide_prefixes_masses = [0] #mass of empty peptide\n",
        "  theoretical_linear_spectrum = [0]\n",
        "  for peptide_prefix in ReturnPeptidePrefixes(peptide):\n",
        "    peptide_prefixes_masses.append(ReturnPeptideIntegerMass(peptide_prefix))\n",
        "  subpeptides = GenerateAllSubpeptides(peptide)\n",
        "  for subpeptide_group in enumerate(subpeptides):\n",
        "    for i in range(1,len(subpeptide_group[1])):\n",
        "      theoretical_linear_spectrum.append(peptide_prefixes_masses[i+(subpeptide_group[0]+1)-1]-peptide_prefixes_masses[i-1]) #k = (subpeptide_group[0] + 1)\n",
        "  return sorted(theoretical_linear_spectrum)"
      ],
      "metadata": {
        "id": "EbSwCkhKFvWf"
      },
      "execution_count": 10,
      "outputs": []
    },
    {
      "cell_type": "code",
      "source": [
        "peptide = 'NQEL'"
      ],
      "metadata": {
        "id": "pWMz2KR6BKjd"
      },
      "execution_count": 11,
      "outputs": []
    },
    {
      "cell_type": "code",
      "source": [
        "LinearSpectrum(peptide)"
      ],
      "metadata": {
        "colab": {
          "base_uri": "https://localhost:8080/"
        },
        "id": "jlqPNbj3BMvh",
        "outputId": "0d2b539b-fa1c-4d29-d491-293c3f9e1849"
      },
      "execution_count": 12,
      "outputs": [
        {
          "output_type": "execute_result",
          "data": {
            "text/plain": [
              "[0, 113, 114, 128, 129, 242, 242, 257, 370, 371, 484]"
            ]
          },
          "metadata": {},
          "execution_count": 12
        }
      ]
    },
    {
      "cell_type": "code",
      "source": [
        "peptide = 'HYWMCAMWMCAESFHIMPCHLEQVPWFICHHICHW'"
      ],
      "metadata": {
        "id": "At7MIdpfK0fi"
      },
      "execution_count": null,
      "outputs": []
    },
    {
      "cell_type": "code",
      "source": [
        "for solution in LinearSpectrum(peptide):\n",
        "  print(solution)"
      ],
      "metadata": {
        "id": "nkkIkjYaK8Js"
      },
      "execution_count": null,
      "outputs": []
    }
  ]
}