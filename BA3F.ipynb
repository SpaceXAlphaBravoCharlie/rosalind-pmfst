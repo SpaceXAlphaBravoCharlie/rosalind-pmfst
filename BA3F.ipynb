{
  "nbformat": 4,
  "nbformat_minor": 0,
  "metadata": {
    "colab": {
      "name": "BA3F.ipynb",
      "provenance": []
    },
    "kernelspec": {
      "name": "python3",
      "display_name": "Python 3"
    },
    "language_info": {
      "name": "python"
    }
  },
  "cells": [
    {
      "cell_type": "markdown",
      "source": [
        "EULERIANCYCLE(Graph)\n",
        "\n",
        "        form a cycle Cycle by randomly walking in Graph (don't visit the same edge twice!)\n",
        "\n",
        "        while there are unexplored edges in Graph\n",
        "\n",
        "            select a node newStart in Cycle with still unexplored edges\n",
        "\n",
        "            form Cycle’ by traversing Cycle (starting at newStart) and then randomly walking\n",
        "\n",
        "            Cycle ← Cycle’\n",
        "            \n",
        "        return Cycle"
      ],
      "metadata": {
        "id": "-C4Hkb9d_Rtt"
      }
    },
    {
      "cell_type": "markdown",
      "source": [
        "Given: An Eulerian directed graph, in the form of an adjacency list.\n",
        "\n",
        "Return: An Eulerian cycle in this graph."
      ],
      "metadata": {
        "id": "zGF59rp0-o-u"
      }
    },
    {
      "cell_type": "markdown",
      "source": [
        "Euler’s Theorem: Every balanced, strongly connected directed graph is Eulerian."
      ],
      "metadata": {
        "id": "ofcpacT3pPGo"
      }
    },
    {
      "cell_type": "code",
      "source": [
        "def FormatGraph(graph):\n",
        "  graph_dict = {}\n",
        "  for i in range(len(graph)):\n",
        "    key_adjacent_nodes = graph[i].split(' -> ')\n",
        "    graph_dict.setdefault(int(key_adjacent_nodes[0]),[])\n",
        "    for adjacent_node in key_adjacent_nodes[1].split(','):\n",
        "      graph_dict[int(key_adjacent_nodes[0])].append(int(adjacent_node))\n",
        "  return graph_dict"
      ],
      "metadata": {
        "id": "NqWZDLYer3Jj"
      },
      "execution_count": 2,
      "outputs": []
    },
    {
      "cell_type": "code",
      "source": [
        "def VisitedEdges(graph_dict):\n",
        "  visited_edges_dict = {}\n",
        "  for key,adjacent_nodes in graph_dict.items():\n",
        "    for node in adjacent_nodes:\n",
        "      visited_edges_dict.setdefault((key,node),[])\n",
        "      visited_edges_dict[(key,node)].append(0)\n",
        "  return visited_edges_dict"
      ],
      "metadata": {
        "id": "pXdQq5ylxc-N"
      },
      "execution_count": 3,
      "outputs": []
    },
    {
      "cell_type": "code",
      "source": [
        "def NodeInDegree(graph_dict,node):\n",
        "  node_in_degree = 0\n",
        "  for values_list in graph_dict.values():\n",
        "    if node in values_list:\n",
        "      node_in_degree = node_in_degree + 1\n",
        "  return node_in_degree"
      ],
      "metadata": {
        "id": "2SozKcQyp-To"
      },
      "execution_count": 4,
      "outputs": []
    },
    {
      "cell_type": "code",
      "source": [
        "def NodeOutDegree(graph_dict,node):\n",
        "  if node in graph_dict.keys():\n",
        "    return len(graph_dict[node])\n",
        "  else: #node has no adjacent nodes\n",
        "    return 0"
      ],
      "metadata": {
        "id": "VytzrgxIrHLX"
      },
      "execution_count": 5,
      "outputs": []
    },
    {
      "cell_type": "markdown",
      "source": [
        "It may not be obvious, but a good implementation of EULERIANCYCLE will work in\n",
        "linear time. To achieve this runtime speedup, you would need to use an efficient data\n",
        "structure in order to maintain the current cycle that Leo is building as well the list of\n",
        "unused edges incident to each node and the list of nodes on the current cycle that have\n",
        "unused edges."
      ],
      "metadata": {
        "id": "4on3nYJ4XMPX"
      }
    },
    {
      "cell_type": "markdown",
      "source": [
        "Lookups in lists are O(n), lookups in dictionaries are amortized O(1), with regard to the number of items in the data structure. In Python, the average time complexity of a dictionary key lookup is O(1), since they are implemented as hash tables. The time complexity of lookup in a list is O(n) on average."
      ],
      "metadata": {
        "id": "wzQjlz3axJmd"
      }
    },
    {
      "cell_type": "code",
      "source": [
        "from random import randint,randrange"
      ],
      "metadata": {
        "id": "IzvG969_giyd"
      },
      "execution_count": 6,
      "outputs": []
    },
    {
      "cell_type": "code",
      "source": [
        "def VisitedEdgesDictSum(visited_edges_dict):\n",
        "  visited_edges_dict_sum = 0\n",
        "  for values_list in visited_edges_dict.values():\n",
        "    visited_edges_dict_sum = visited_edges_dict_sum + sum(values_list)\n",
        "  return visited_edges_dict_sum"
      ],
      "metadata": {
        "id": "QI09-g7PyxyT"
      },
      "execution_count": 7,
      "outputs": []
    },
    {
      "cell_type": "code",
      "source": [
        "def VisitedEdgesDictValueCount(visited_edges_dict):\n",
        "  visited_edges_dict_value_count = 0\n",
        "  for values_list in visited_edges_dict.values():\n",
        "    visited_edges_dict_value_count = visited_edges_dict_value_count + len(values_list)\n",
        "  return visited_edges_dict_value_count"
      ],
      "metadata": {
        "id": "UDUWTEcDyygv"
      },
      "execution_count": 8,
      "outputs": []
    },
    {
      "cell_type": "code",
      "source": [
        "def EulerianCycle(graph_dict):\n",
        "  visited_edges_dict = VisitedEdges(graph_dict)\n",
        "  starting_node = randint(min(graph_dict.keys()),max(graph_dict.keys())) #lower and upper bound included\n",
        "  cycle = [starting_node]\n",
        "  visited_edges_dict_value_count = VisitedEdgesDictValueCount(visited_edges_dict)\n",
        "  while VisitedEdgesDictSum(visited_edges_dict) < visited_edges_dict_value_count: #repeat until Eulerian cycle is found --> input is an Eulerian directed graph --> Eulerian cycle can always be found\n",
        "    #while loop entered --> sum(visited_edges_dict.values()) < len(visited_edges_dict) --> cycle smaller than Eulerian cycle is being formed\n",
        "    possible_adjacent_nodes = [key[1] for key in visited_edges_dict.keys() if key[0] == cycle[len(cycle)-1] and visited_edges_dict[key].count(0) > 0]\n",
        "    if len(possible_adjacent_nodes) == 0 and VisitedEdgesDictSum(visited_edges_dict) < visited_edges_dict_value_count: #cycle smaller than Eulerian cycle completed as we got stuck at starting node --> all edges are not visited\n",
        "      #possible_starting_nodes_list = [node for node in cycle if NodeOutDegree(graph_dict,node) >= NodeOutDegree(graph_dict,cycle[0])] #no, this way we are choosing node regardless of the number of times it appeared in cycle\n",
        "      #possible_starting_nodes_list = [visited_edge[0] for node in cycle for visited_edge in visited_edges_dict.keys() if visited_edge[0] == node and visited_edges_dict[visited_edge] == 1] --> this caused efficiency problems\n",
        "      possible_starting_nodes_list = [node for node in cycle if NodeOutDegree(graph_dict,node) > cycle.count(node)] #if NodeOutDegree(node) > number of times node occurs in cycle then there are unused outgoing edges (and unused ingoing edges because of unused outgoing edges, unused outgoing edges must be visited by unused incoming edges), every occurence means that one outgoing edge is used\n",
        "      if len(possible_starting_nodes_list) == 0:\n",
        "        for key in visited_edges_dict.keys():\n",
        "          if sum(visited_edges_dict[key]) == 0:\n",
        "            print(key)\n",
        "      if len(possible_starting_nodes_list) == 1:\n",
        "        starting_node = possible_starting_nodes_list[0] #choose only available starting node\n",
        "      else:\n",
        "        starting_node = possible_starting_nodes_list[randrange(0,len(possible_starting_nodes_list))] #randomly choose new starting node among nodes with higher NodeOutDegree than previous starting node\n",
        "      cycle = cycle[cycle.index(starting_node):len(cycle)] + cycle[1:cycle.index(starting_node)+1] #construct new_cycle using previous cycle\n",
        "    else: #len(possible_adjacent_nodes) > 1 and sum(visited_edges_dict.values()) < len(visited_edges_dict) --> cycle is not finished yet\n",
        "      if len(possible_adjacent_nodes) == 1:\n",
        "        next_node = possible_adjacent_nodes[0]\n",
        "        #visited_edges_dict[(cycle[len(cycle)-1], next_node)] = 1\n",
        "        visited_edges_dict_value_list = visited_edges_dict[(cycle[len(cycle)-1], next_node)]\n",
        "        visited_edges_dict_value_list[visited_edges_dict_value_list.index(0)] = 1 #always update the first zero\n",
        "        cycle.append(next_node)\n",
        "      else:\n",
        "        next_node = possible_adjacent_nodes[randint(0,len(possible_adjacent_nodes)-1)] #lower and upper bound included\n",
        "        visited_edges_dict_value_list = visited_edges_dict[(cycle[len(cycle)-1], next_node)]\n",
        "        visited_edges_dict_value_list[visited_edges_dict_value_list.index(0)] = 1 #always update the first zero\n",
        "        cycle.append(next_node)\n",
        "  return cycle"
      ],
      "metadata": {
        "id": "i3PgZ9VtzfKX"
      },
      "execution_count": 9,
      "outputs": []
    },
    {
      "cell_type": "code",
      "source": [
        "def PrintResult(eulerian_cycle):\n",
        "  string_to_print = ''\n",
        "  for node in eulerian_cycle:\n",
        "    string_to_print = string_to_print + str(node) + '->'\n",
        "  print(string_to_print[0:len(string_to_print)-2])"
      ],
      "metadata": {
        "id": "DUCbpxnDgeA_"
      },
      "execution_count": 10,
      "outputs": []
    },
    {
      "cell_type": "code",
      "source": [
        "def PrintResultToFile(eulerian_cycle):\n",
        "  f = open(\"task_result.txt\",\"w\")\n",
        "  string_to_print = ''\n",
        "  for node in eulerian_cycle:\n",
        "    string_to_print = string_to_print + str(node) + '->'\n",
        "  f.write(string_to_print[0:len(string_to_print)-2])\n",
        "  f.close()"
      ],
      "metadata": {
        "id": "XoOtWbfADW4z"
      },
      "execution_count": 11,
      "outputs": []
    },
    {
      "cell_type": "code",
      "source": [
        "graph = [\n",
        "'0 -> 3',\n",
        "'1 -> 0',\n",
        "'2 -> 1,6',\n",
        "'3 -> 2',\n",
        "'4 -> 2',\n",
        "'5 -> 4',\n",
        "'6 -> 5,8',\n",
        "'7 -> 9',\n",
        "'8 -> 7',\n",
        "'9 -> 6'\n",
        "]"
      ],
      "metadata": {
        "id": "eNhGKhDcEfhU"
      },
      "execution_count": null,
      "outputs": []
    },
    {
      "cell_type": "code",
      "source": [
        "graph_dict = FormatGraph(graph)\n",
        "graph_dict"
      ],
      "metadata": {
        "id": "JqwBsKuTElG5",
        "outputId": "d4cd2f8f-c6c3-401e-aabb-c57f9754601a",
        "colab": {
          "base_uri": "https://localhost:8080/"
        }
      },
      "execution_count": null,
      "outputs": [
        {
          "output_type": "execute_result",
          "data": {
            "text/plain": [
              "{0: [3],\n",
              " 1: [0],\n",
              " 2: [1, 6],\n",
              " 3: [2],\n",
              " 4: [2],\n",
              " 5: [4],\n",
              " 6: [5, 8],\n",
              " 7: [9],\n",
              " 8: [7],\n",
              " 9: [6]}"
            ]
          },
          "metadata": {},
          "execution_count": 13
        }
      ]
    },
    {
      "cell_type": "code",
      "source": [
        "PrintResult(EulerianCycle(graph_dict))"
      ],
      "metadata": {
        "colab": {
          "base_uri": "https://localhost:8080/"
        },
        "id": "9baxMRQxEpBy",
        "outputId": "6dbed723-7b3d-4883-9a73-b8b0f6fe3349"
      },
      "execution_count": null,
      "outputs": [
        {
          "output_type": "stream",
          "name": "stdout",
          "text": [
            "6->8->7->9->6->5->4->2->1->0->3->2->6\n"
          ]
        }
      ]
    },
    {
      "cell_type": "code",
      "source": [
        "with open('/content/rosalind_ba3f.txt') as task_file:\n",
        "  graph = [line.rstrip() for line in task_file]"
      ],
      "metadata": {
        "id": "nPA7M604miZS"
      },
      "execution_count": 14,
      "outputs": []
    },
    {
      "cell_type": "code",
      "source": [
        "graph_dict = FormatGraph(graph)"
      ],
      "metadata": {
        "id": "lS0ezarmffap"
      },
      "execution_count": 15,
      "outputs": []
    },
    {
      "cell_type": "code",
      "source": [
        "PrintResultToFile(EulerianCycle(graph_dict))"
      ],
      "metadata": {
        "id": "DvO1OMuQnB2n"
      },
      "execution_count": 16,
      "outputs": []
    }
  ]
}