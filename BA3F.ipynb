{
  "nbformat": 4,
  "nbformat_minor": 0,
  "metadata": {
    "colab": {
      "name": "BA3F.ipynb",
      "provenance": []
    },
    "kernelspec": {
      "name": "python3",
      "display_name": "Python 3"
    },
    "language_info": {
      "name": "python"
    }
  },
  "cells": [
    {
      "cell_type": "markdown",
      "source": [
        "EULERIANCYCLE(Graph)\n",
        "\n",
        "        form a cycle Cycle by randomly walking in Graph (don't visit the same edge twice!)\n",
        "\n",
        "        while there are unexplored edges in Graph\n",
        "\n",
        "            select a node newStart in Cycle with still unexplored edges\n",
        "\n",
        "            form Cycle’ by traversing Cycle (starting at newStart) and then randomly walking\n",
        "\n",
        "            Cycle ← Cycle’\n",
        "            \n",
        "        return Cycle"
      ],
      "metadata": {
        "id": "-C4Hkb9d_Rtt"
      }
    },
    {
      "cell_type": "markdown",
      "source": [
        "Given: An Eulerian directed graph, in the form of an adjacency list.\n",
        "\n",
        "Return: An Eulerian cycle in this graph."
      ],
      "metadata": {
        "id": "zGF59rp0-o-u"
      }
    },
    {
      "cell_type": "code",
      "source": [
        "def FormatGraph(graph):\n",
        "  graph_dict = {}\n",
        "  for edge in graph:\n",
        "    edge = edge.split(' -> ')\n",
        "    graph_dict.setdefault(int(edge[0]),list())\n",
        "  for edge in graph:\n",
        "    edge = edge.split(' -> ')\n",
        "    for i in range(len(edge[1].split(','))):\n",
        "      graph_dict[int(edge[0])].append(int(edge[1].split(',')[i]))\n",
        "  return graph_dict"
      ],
      "metadata": {
        "id": "dyPHT0zNDOHm"
      },
      "execution_count": null,
      "outputs": []
    },
    {
      "cell_type": "code",
      "source": [
        "def VisitedEdges(graph_dict):\n",
        "  visited_edges_dict = {}\n",
        "  for key,values_list in graph_dict.items():\n",
        "    for value in values_list:\n",
        "      visited_edges_dict.setdefault((key,value), 0)\n",
        "  return visited_edges_dict"
      ],
      "metadata": {
        "id": "M1s5SH7TDv8E"
      },
      "execution_count": null,
      "outputs": []
    },
    {
      "cell_type": "code",
      "source": [
        "def NodeInDegree(graph_dict,node):\n",
        "  node_indegree = 0\n",
        "  for adjacent_nodes_list in graph_dict.values():\n",
        "    if node in adjacent_nodes_list:\n",
        "      node_indegree = node_indegree + 1\n",
        "  return node_indegree"
      ],
      "metadata": {
        "id": "2ERfEiyFDgzL"
      },
      "execution_count": null,
      "outputs": []
    },
    {
      "cell_type": "code",
      "source": [
        "def NodeOutDegree(graph_dict,node):\n",
        "  return len(graph_dict[node])"
      ],
      "metadata": {
        "id": "NWMyhiJPDibA"
      },
      "execution_count": null,
      "outputs": []
    },
    {
      "cell_type": "markdown",
      "source": [
        "It may not be obvious, but a good implementation of EULERIANCYCLE will work in\n",
        "linear time. To achieve this runtime speedup, you would need to use an efficient data\n",
        "structure in order to maintain the current cycle that Leo is building as well the list of\n",
        "unused edges incident to each node and the list of nodes on the current cycle that have\n",
        "unused edges."
      ],
      "metadata": {
        "id": "4on3nYJ4XMPX"
      }
    },
    {
      "cell_type": "code",
      "source": [
        "from random import randint, randrange"
      ],
      "metadata": {
        "id": "IzvG969_giyd"
      },
      "execution_count": null,
      "outputs": []
    },
    {
      "cell_type": "code",
      "source": [
        "def EulerianCycle(graph_dict):\n",
        "  visited_edges_dict = VisitedEdges(graph_dict)\n",
        "  starting_node = randint(min(graph_dict.keys()), max(graph_dict.keys()))\n",
        "  cycle = [starting_node]\n",
        "  while sum(visited_edges_dict.values()) < len(visited_edges_dict): #repeat until Eulerian cycle is found --> input is an Eulerian directed graph --> Eulerian cycle can always be found\n",
        "    #while loop entered --> sum(visited_edges_dict.values()) < len(visited_edges_dict) --> cycle smaller than Eulerian cycle is being formed\n",
        "    possible_adjacent_nodes = [key[1] for key in visited_edges_dict.keys() if key[0] == cycle[len(cycle)-1] and visited_edges_dict[key] == 0]\n",
        "    if len(possible_adjacent_nodes) == 0 and sum(visited_edges_dict.values()) < len(visited_edges_dict): #cycle smaller than Eulerian cycle completed as we got stuck at starting node --> all edges are not visited\n",
        "      #possible_starting_nodes_list = [node for node in cycle if NodeOutDegree(graph_dict,node) >= NodeOutDegree(graph_dict,cycle[0])] #no, thsi way we are choosing node regardless of the number of times it appeared in cycle\n",
        "      #possible_starting_nodes_list = [visited_edge[0] for node in cycle for visited_edge in visited_edges_dict.keys() if visited_edge[0] == node and visited_edges_dict[visited_edge] == 1] --> this caused efficiency problems\n",
        "      possible_starting_nodes_list = [node for node in cycle if NodeOutDegree(graph_dict,node) > cycle.count(node)] #if NodeOutDegree(node) > number of times node occurs in cycle then there are unused outgoing edges, every occurence measn that one outgoing edge is used \n",
        "      starting_node = possible_starting_nodes_list[randrange(0,len(possible_starting_nodes_list))] #randomly choose new starting node among nodes with higher NodeOutDegree than previous starting node\n",
        "      cycle = cycle[cycle.index(starting_node):len(cycle)] + cycle[1:cycle.index(starting_node)+1] #construct new_cycle using previous cycle\n",
        "    else: #len(possible_adjacent_nodes) > 1 and sum(visited_edges_dict.values()) < len(visited_edges_dict) --> cycle is not finished yet\n",
        "      if len(possible_adjacent_nodes) == 1:\n",
        "        next_node = possible_adjacent_nodes[0]\n",
        "        visited_edges_dict[(cycle[len(cycle)-1], next_node)] = 1\n",
        "        cycle.append(next_node)\n",
        "      else:\n",
        "        next_node = possible_adjacent_nodes[randint(0,len(possible_adjacent_nodes)-1)]\n",
        "        visited_edges_dict[(cycle[len(cycle)-1], next_node)] = 1\n",
        "        cycle.append(next_node)\n",
        "  return cycle"
      ],
      "metadata": {
        "id": "i3PgZ9VtzfKX"
      },
      "execution_count": null,
      "outputs": []
    },
    {
      "cell_type": "code",
      "source": [
        "def PrintResult(eulerian_cycle):\n",
        "  string_to_print = ''\n",
        "  for node in eulerian_cycle:\n",
        "    string_to_print = string_to_print + str(node) + '->'\n",
        "  print(string_to_print[0:len(string_to_print)-2])"
      ],
      "metadata": {
        "id": "DUCbpxnDgeA_"
      },
      "execution_count": null,
      "outputs": []
    },
    {
      "cell_type": "code",
      "source": [
        "graph = [\n",
        "'0 -> 3',\n",
        "'1 -> 0',\n",
        "'2 -> 1,6',\n",
        "'3 -> 2',\n",
        "'4 -> 2',\n",
        "'5 -> 4',\n",
        "'6 -> 5,8',\n",
        "'7 -> 9',\n",
        "'8 -> 7',\n",
        "'9 -> 6'\n",
        "]"
      ],
      "metadata": {
        "id": "eNhGKhDcEfhU"
      },
      "execution_count": null,
      "outputs": []
    },
    {
      "cell_type": "code",
      "source": [
        "graph_dict = FormatGraph(graph)\n",
        "graph_dict"
      ],
      "metadata": {
        "id": "JqwBsKuTElG5"
      },
      "execution_count": null,
      "outputs": []
    },
    {
      "cell_type": "code",
      "source": [
        "PrintResult(EulerianCycle(graph_dict))"
      ],
      "metadata": {
        "colab": {
          "base_uri": "https://localhost:8080/"
        },
        "id": "9baxMRQxEpBy",
        "outputId": "a99cdb79-6035-419f-a5e3-1dd86db43cc7"
      },
      "execution_count": null,
      "outputs": [
        {
          "output_type": "stream",
          "name": "stdout",
          "text": [
            "9->6->5->4->2->1->0->3->2->6->8->7->9\n"
          ]
        }
      ]
    },
    {
      "cell_type": "code",
      "source": [
        "graph = []\n",
        "with open('/content/rosalind_ba3f.txt') as task_file:\n",
        "  graph = [line.rstrip() for line in task_file]"
      ],
      "metadata": {
        "id": "nPA7M604miZS"
      },
      "execution_count": null,
      "outputs": []
    },
    {
      "cell_type": "code",
      "source": [
        "graph_dict = FormatGraph(graph)"
      ],
      "metadata": {
        "id": "lS0ezarmffap"
      },
      "execution_count": null,
      "outputs": []
    },
    {
      "cell_type": "code",
      "source": [
        "PrintResult(EulerianCycle(graph_dict))"
      ],
      "metadata": {
        "id": "DvO1OMuQnB2n"
      },
      "execution_count": null,
      "outputs": []
    }
  ]
}