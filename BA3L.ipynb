{
  "nbformat": 4,
  "nbformat_minor": 0,
  "metadata": {
    "colab": {
      "name": "BA3L.ipynb",
      "provenance": []
    },
    "kernelspec": {
      "name": "python3",
      "display_name": "Python 3"
    },
    "language_info": {
      "name": "python"
    }
  },
  "cells": [
    {
      "cell_type": "markdown",
      "source": [
        "Reconstruct a string from a sequence of (k,d)-mers corresponding to a path in a paired de Bruijn graph.\n",
        "\n",
        "Given: A sequence of (k, d)-mers (a1|b1), ... , (an|bn) such that Suffix(ai|bi) = Prefix(ai+1|bi+1) for all i from 1 to n-1.\n",
        "\n",
        "Return: A string Text where the i-th k-mer in Text is equal to Suffix(ai|bi) for all i from 1 to n, if such a string exists."
      ],
      "metadata": {
        "id": "IcJgqjaZyfar"
      }
    },
    {
      "cell_type": "code",
      "source": [
        "def PairedDeBruijnGraphNodesToPairedRead(first_node,second_node,k):\n",
        "  paired_read = []\n",
        "  paired_read.append(first_node[0:k-1] + second_node[k-2])\n",
        "  paired_read.append(first_node[k-1:len(first_node)] + second_node[len(second_node)-1])\n",
        "  return paired_read"
      ],
      "metadata": {
        "id": "UazXUImWzq-z"
      },
      "execution_count": null,
      "outputs": []
    },
    {
      "cell_type": "markdown",
      "source": [
        "num_of_read_pairs = |Text| - (2*k + d) + 1\n",
        "\n",
        "|Text| = num_of_read_pairs + (2*k + d) - 1"
      ],
      "metadata": {
        "id": "BYAM9QLWYefv"
      }
    },
    {
      "cell_type": "code",
      "source": [
        "def AssembleStringFromNodes(eulerian_path,k,d,num_of_read_pairs):\n",
        "  string_list = []\n",
        "  for i in range(num_of_read_pairs + 2*k + d - 1):\n",
        "    string_list.append(' ')\n",
        "  i = 0\n",
        "  while i + 1 <= len(eulerian_path) - 1: #i --> starting position of first kmer in read pair, starting position of second kmer is i + k + d\n",
        "    read_pair = PairedDeBruijnGraphNodesToPairedRead(eulerian_path[i],eulerian_path[i+1],k)\n",
        "    string_list[i:i+k] = list(read_pair[0])\n",
        "    string_list[(i+k+d):(i+k+d)+k] = list(read_pair[1])\n",
        "    i = i + 1\n",
        "  return ''.join(string_list)"
      ],
      "metadata": {
        "id": "5SO9-3yPbQ6I"
      },
      "execution_count": null,
      "outputs": []
    },
    {
      "cell_type": "code",
      "source": [
        "def AssembleStringFromNodes(eulerian_path,k,d,num_of_read_pairs):\n",
        "  string_list = []\n",
        "  for i in range(num_of_read_pairs + 2*k + d - 1):\n",
        "    string_list.append(' ')\n",
        "  for i in range(len(eulerian_path)): #i --> starting position of first kmer in read pair, starting position of second kmer is i + k + d\n",
        "    string_list[i:i+k] = list(eulerian_path[i][0])\n",
        "    string_list[(i+k+d):(i+k+d)+k] = list(eulerian_path[i][1])\n",
        "  return ''.join(string_list)"
      ],
      "metadata": {
        "id": "NcH-kmUYytLM"
      },
      "execution_count": 98,
      "outputs": []
    },
    {
      "cell_type": "code",
      "source": [
        "def PatternPrefix(pattern):\n",
        "  return pattern[0:len(pattern)-1]"
      ],
      "metadata": {
        "id": "zl2C-UlfZ_-p"
      },
      "execution_count": 75,
      "outputs": []
    },
    {
      "cell_type": "code",
      "source": [
        "def PatternSuffix(pattern):\n",
        "  return pattern[1:len(pattern)]"
      ],
      "metadata": {
        "id": "E5vnbxITaCdX"
      },
      "execution_count": 76,
      "outputs": []
    },
    {
      "cell_type": "code",
      "source": [
        "def ReadPairPrefix(read_pair):\n",
        "  return PatternPrefix(read_pair[0]) + PatternPrefix(read_pair[1])"
      ],
      "metadata": {
        "id": "jEaUO0HCaHkI"
      },
      "execution_count": 77,
      "outputs": []
    },
    {
      "cell_type": "code",
      "source": [
        "def ReadPairSuffix(read_pair):\n",
        "  return PatternSuffix(read_pair[0]) + PatternSuffix(read_pair[1])"
      ],
      "metadata": {
        "id": "c90SXFtRaJ_2"
      },
      "execution_count": 78,
      "outputs": []
    },
    {
      "cell_type": "code",
      "source": [
        "def FormatReadPairs(read_pairs):\n",
        "  for i in range(len(read_pairs)):\n",
        "    read_pairs[i] = read_pairs[i].split('|')\n",
        "  return read_pairs"
      ],
      "metadata": {
        "id": "JjpFSzL000MH"
      },
      "execution_count": 79,
      "outputs": []
    },
    {
      "cell_type": "code",
      "source": [
        "def GappedGenomePathString(read_pairs,k,d):\n",
        "  read_pairs = FormatReadPairs(read_pairs)\n",
        "  string = AssembleStringFromNodes(read_pairs,k,d,len(read_pairs))\n",
        "  return string"
      ],
      "metadata": {
        "id": "oBmc274N0Ie8"
      },
      "execution_count": 111,
      "outputs": []
    },
    {
      "cell_type": "code",
      "source": [
        "read_pairs = [ #sequence of (k,d)-mers corresponding to a path in a paired de Bruijn graph\n",
        "'GACC|GCGC',\n",
        "'ACCG|CGCC',\n",
        "'CCGA|GCCG',\n",
        "'CGAG|CCGG',\n",
        "'GAGC|CGGA']"
      ],
      "metadata": {
        "id": "afeTI4J6y08f"
      },
      "execution_count": 100,
      "outputs": []
    },
    {
      "cell_type": "code",
      "source": [
        "k = 4"
      ],
      "metadata": {
        "id": "7FkOkdLry9Uk"
      },
      "execution_count": 101,
      "outputs": []
    },
    {
      "cell_type": "code",
      "source": [
        "d = 2"
      ],
      "metadata": {
        "id": "NUCD6iyny-UL"
      },
      "execution_count": 102,
      "outputs": []
    },
    {
      "cell_type": "code",
      "source": [
        "GappedGenomePathString(read_pairs,k,d)"
      ],
      "metadata": {
        "id": "vUXxWIS00aD1",
        "colab": {
          "base_uri": "https://localhost:8080/"
        },
        "outputId": "4d0f6e2a-4d89-44cb-b8bf-4b435e5275df"
      },
      "execution_count": 103,
      "outputs": [
        {
          "output_type": "stream",
          "name": "stdout",
          "text": [
            "GACCGAGCGCCGGA\n"
          ]
        }
      ]
    },
    {
      "cell_type": "code",
      "source": [
        "with open('/content/rosalind_ba3l.txt') as task_file:\n",
        "  task_arguments = [line.rstrip() for line in task_file]"
      ],
      "metadata": {
        "id": "awTytVVmdfv5"
      },
      "execution_count": 112,
      "outputs": []
    },
    {
      "cell_type": "code",
      "source": [
        "k = int(task_arguments[0][0:2])"
      ],
      "metadata": {
        "id": "RQUHwvHgdl_X"
      },
      "execution_count": 113,
      "outputs": []
    },
    {
      "cell_type": "code",
      "source": [
        "d = int(task_arguments[0][3:len(task_arguments[0])])"
      ],
      "metadata": {
        "id": "XbgLrx4zdmRg"
      },
      "execution_count": 114,
      "outputs": []
    },
    {
      "cell_type": "code",
      "source": [
        "read_pairs = task_arguments[1:len(task_arguments)]"
      ],
      "metadata": {
        "id": "CAGpjOa8dnwm"
      },
      "execution_count": 115,
      "outputs": []
    },
    {
      "cell_type": "code",
      "source": [
        "f = open(\"task_result.txt\",\"w\")\n",
        "f.write(GappedGenomePathString(read_pairs,k,d))\n",
        "f.close()"
      ],
      "metadata": {
        "id": "JyYrcrVBdp1u"
      },
      "execution_count": 116,
      "outputs": []
    }
  ]
}