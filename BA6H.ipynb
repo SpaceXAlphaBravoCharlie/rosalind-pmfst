{
  "nbformat": 4,
  "nbformat_minor": 0,
  "metadata": {
    "colab": {
      "name": "BA6H.ipynb",
      "provenance": []
    },
    "kernelspec": {
      "name": "python3",
      "display_name": "Python 3"
    },
    "language_info": {
      "name": "python"
    }
  },
  "cells": [
    {
      "cell_type": "code",
      "execution_count": 1,
      "metadata": {
        "id": "gIMlbmZG0Q3W"
      },
      "outputs": [],
      "source": [
        "def SyntenyBlockToIntegerPair(synteny_block):\n",
        "  if synteny_block < 0:\n",
        "    return [2*abs(synteny_block), 2*abs(synteny_block) - 1]\n",
        "  else:\n",
        "    return [2*synteny_block - 1, 2*synteny_block]"
      ]
    },
    {
      "cell_type": "code",
      "source": [
        "def ChromosomeToCycle(chromosome):\n",
        "  cycle = []\n",
        "  for synteny_block in chromosome:\n",
        "    cycle.extend(SyntenyBlockToIntegerPair(synteny_block))\n",
        "  return cycle"
      ],
      "metadata": {
        "id": "Wlt_8cDy0u2k"
      },
      "execution_count": 2,
      "outputs": []
    },
    {
      "cell_type": "code",
      "source": [
        "def ColoredEdges(chromosome):\n",
        "  colored_edges = []\n",
        "  for chromosome_part in chromosome:\n",
        "    cycle = ChromosomeToCycle(chromosome_part)\n",
        "    for i in range(1,len(cycle)-2,2):\n",
        "      colored_edges.append((cycle[i], cycle[i+1]))\n",
        "    colored_edges.append((cycle[len(cycle) - 1], cycle[0]))\n",
        "  return colored_edges"
      ],
      "metadata": {
        "id": "TqzOTCAO0qvk"
      },
      "execution_count": 7,
      "outputs": []
    },
    {
      "cell_type": "code",
      "source": [
        "def ColoredEdges(chromosome):\n",
        "  colored_edges = []\n",
        "  for chromosome_part in chromosome:\n",
        "    cycle = ChromosomeToCycle(chromosome_part)\n",
        "    i = 1\n",
        "    while i + 1 <= len(cycle) - 1 - 1:\n",
        "      colored_edges.append((cycle[i], cycle[i+1]))\n",
        "      i = i + 2\n",
        "    colored_edges.append((cycle[len(cycle)-1], cycle[0]))\n",
        "  return colored_edges"
      ],
      "metadata": {
        "id": "gZgiFfwl8JEi"
      },
      "execution_count": 60,
      "outputs": []
    },
    {
      "cell_type": "code",
      "source": [
        "chromosome = [[+1, -2, -3,],[+4, +5, -6]]"
      ],
      "metadata": {
        "id": "Zqt4hlcK00Bs"
      },
      "execution_count": 61,
      "outputs": []
    },
    {
      "cell_type": "code",
      "source": [
        "chromosome"
      ],
      "metadata": {
        "colab": {
          "base_uri": "https://localhost:8080/"
        },
        "id": "GKG81S2V0995",
        "outputId": "4b9cbe04-1b17-4679-b5eb-c532e0bd040f"
      },
      "execution_count": 62,
      "outputs": [
        {
          "output_type": "execute_result",
          "data": {
            "text/plain": [
              "[[1, -2, -3], [4, 5, -6]]"
            ]
          },
          "metadata": {},
          "execution_count": 62
        }
      ]
    },
    {
      "cell_type": "code",
      "source": [
        "ColoredEdges(chromosome)"
      ],
      "metadata": {
        "colab": {
          "base_uri": "https://localhost:8080/"
        },
        "id": "oUP4E4sJ3TqJ",
        "outputId": "fe7cc7e8-03b5-412a-a187-674351fd6a49"
      },
      "execution_count": 63,
      "outputs": [
        {
          "output_type": "execute_result",
          "data": {
            "text/plain": [
              "[(2, 4), (3, 6), (5, 1), (8, 9), (10, 12), (11, 7)]"
            ]
          },
          "metadata": {},
          "execution_count": 63
        }
      ]
    },
    {
      "cell_type": "code",
      "source": [
        "with open('/content/rosalind_ba6h.txt') as task_file:\n",
        "  chromosome = [line.rstrip() for line in task_file]"
      ],
      "metadata": {
        "id": "0HpdayxX3hag"
      },
      "execution_count": 64,
      "outputs": []
    },
    {
      "cell_type": "code",
      "source": [
        "chromosome = chromosome[0]"
      ],
      "metadata": {
        "id": "coIVJNgI3i6E"
      },
      "execution_count": 65,
      "outputs": []
    },
    {
      "cell_type": "code",
      "source": [
        "chromosome = chromosome.split(')')"
      ],
      "metadata": {
        "id": "B0mZLLaV3qLo"
      },
      "execution_count": 66,
      "outputs": []
    },
    {
      "cell_type": "code",
      "source": [
        "chromosome"
      ],
      "metadata": {
        "colab": {
          "base_uri": "https://localhost:8080/"
        },
        "id": "FaHVhY634TSD",
        "outputId": "0c67632b-3c7c-4673-ef80-5d950debc6c1"
      },
      "execution_count": 67,
      "outputs": [
        {
          "output_type": "execute_result",
          "data": {
            "text/plain": [
              "['(-1 +2 +3 -4 +5 +6 +7 -8 +9 -10 -11 -12 +13 -14 -15 +16 +17 +18 +19 +20 -21 +22 -23',\n",
              " '(-24 -25 +26 +27 -28 -29 +30 -31 +32 -33 -34 +35 +36 +37 +38 +39 -40 +41 -42 +43 -44',\n",
              " '(+45 +46 -47 +48 +49 +50 -51 -52 +53 +54 +55 +56 -57 -58 +59 -60 -61 +62 +63 -64 -65 +66 +67 +68 +69 +70 +71 -72',\n",
              " '(+73 -74 +75 -76 -77 +78 -79 -80 +81 +82 +83 -84 -85 +86 +87 -88 +89 +90 -91 +92 -93 -94 -95 -96 +97 +98 -99 -100 +101 -102 -103',\n",
              " '(-104 -105 -106 -107 +108 -109 -110 +111 -112 -113 +114 +115 +116 +117 +118 +119 -120 +121 -122 +123 +124 +125 -126 -127 -128 +129',\n",
              " '(-130 -131 +132 -133 +134 -135 +136 -137 -138 +139 +140 -141 +142 +143 +144 -145 -146 +147 -148 -149 +150 +151 -152 +153 -154 -155 +156 -157 -158 +159',\n",
              " '(-160 -161 +162 -163 -164 -165 +166 +167 +168 -169 -170 +171 -172 +173 -174 +175 -176 -177 -178 -179 +180 -181 -182 +183 +184',\n",
              " '(-185 +186 -187 +188 +189 +190 +191 +192 +193 -194 -195 +196 -197 -198 +199 -200 +201 +202 -203 +204 +205 -206 +207 -208 -209 +210 -211 +212',\n",
              " '(-213 +214 +215 +216 +217 +218 +219 +220 +221 -222 +223 -224 +225 -226 -227 -228 +229 -230 -231 +232 -233 -234',\n",
              " '']"
            ]
          },
          "metadata": {},
          "execution_count": 67
        }
      ]
    },
    {
      "cell_type": "code",
      "source": [
        "chromosome.pop(len(chromosome) - 1)"
      ],
      "metadata": {
        "colab": {
          "base_uri": "https://localhost:8080/",
          "height": 36
        },
        "id": "eyXStdAf3yKn",
        "outputId": "4c8bd3ea-b92f-41bf-8700-e1e8de3d7de6"
      },
      "execution_count": 68,
      "outputs": [
        {
          "output_type": "execute_result",
          "data": {
            "text/plain": [
              "''"
            ],
            "application/vnd.google.colaboratory.intrinsic+json": {
              "type": "string"
            }
          },
          "metadata": {},
          "execution_count": 68
        }
      ]
    },
    {
      "cell_type": "code",
      "source": [
        "chromosome"
      ],
      "metadata": {
        "colab": {
          "base_uri": "https://localhost:8080/"
        },
        "id": "zmWuU1AD4VU3",
        "outputId": "c988e277-ac58-48a6-c900-55c83fc2a15d"
      },
      "execution_count": 69,
      "outputs": [
        {
          "output_type": "execute_result",
          "data": {
            "text/plain": [
              "['(-1 +2 +3 -4 +5 +6 +7 -8 +9 -10 -11 -12 +13 -14 -15 +16 +17 +18 +19 +20 -21 +22 -23',\n",
              " '(-24 -25 +26 +27 -28 -29 +30 -31 +32 -33 -34 +35 +36 +37 +38 +39 -40 +41 -42 +43 -44',\n",
              " '(+45 +46 -47 +48 +49 +50 -51 -52 +53 +54 +55 +56 -57 -58 +59 -60 -61 +62 +63 -64 -65 +66 +67 +68 +69 +70 +71 -72',\n",
              " '(+73 -74 +75 -76 -77 +78 -79 -80 +81 +82 +83 -84 -85 +86 +87 -88 +89 +90 -91 +92 -93 -94 -95 -96 +97 +98 -99 -100 +101 -102 -103',\n",
              " '(-104 -105 -106 -107 +108 -109 -110 +111 -112 -113 +114 +115 +116 +117 +118 +119 -120 +121 -122 +123 +124 +125 -126 -127 -128 +129',\n",
              " '(-130 -131 +132 -133 +134 -135 +136 -137 -138 +139 +140 -141 +142 +143 +144 -145 -146 +147 -148 -149 +150 +151 -152 +153 -154 -155 +156 -157 -158 +159',\n",
              " '(-160 -161 +162 -163 -164 -165 +166 +167 +168 -169 -170 +171 -172 +173 -174 +175 -176 -177 -178 -179 +180 -181 -182 +183 +184',\n",
              " '(-185 +186 -187 +188 +189 +190 +191 +192 +193 -194 -195 +196 -197 -198 +199 -200 +201 +202 -203 +204 +205 -206 +207 -208 -209 +210 -211 +212',\n",
              " '(-213 +214 +215 +216 +217 +218 +219 +220 +221 -222 +223 -224 +225 -226 -227 -228 +229 -230 -231 +232 -233 -234']"
            ]
          },
          "metadata": {},
          "execution_count": 69
        }
      ]
    },
    {
      "cell_type": "code",
      "source": [
        "for i in range(len(chromosome)):\n",
        "  chromosome[i] = chromosome[i].replace('(', '')"
      ],
      "metadata": {
        "id": "NnN8VG4232o3"
      },
      "execution_count": 70,
      "outputs": []
    },
    {
      "cell_type": "code",
      "source": [
        "chromosome"
      ],
      "metadata": {
        "colab": {
          "base_uri": "https://localhost:8080/"
        },
        "id": "gDRETaDO4XFZ",
        "outputId": "1752c414-5a65-4737-af15-fa44ed0196dc"
      },
      "execution_count": 71,
      "outputs": [
        {
          "output_type": "execute_result",
          "data": {
            "text/plain": [
              "['-1 +2 +3 -4 +5 +6 +7 -8 +9 -10 -11 -12 +13 -14 -15 +16 +17 +18 +19 +20 -21 +22 -23',\n",
              " '-24 -25 +26 +27 -28 -29 +30 -31 +32 -33 -34 +35 +36 +37 +38 +39 -40 +41 -42 +43 -44',\n",
              " '+45 +46 -47 +48 +49 +50 -51 -52 +53 +54 +55 +56 -57 -58 +59 -60 -61 +62 +63 -64 -65 +66 +67 +68 +69 +70 +71 -72',\n",
              " '+73 -74 +75 -76 -77 +78 -79 -80 +81 +82 +83 -84 -85 +86 +87 -88 +89 +90 -91 +92 -93 -94 -95 -96 +97 +98 -99 -100 +101 -102 -103',\n",
              " '-104 -105 -106 -107 +108 -109 -110 +111 -112 -113 +114 +115 +116 +117 +118 +119 -120 +121 -122 +123 +124 +125 -126 -127 -128 +129',\n",
              " '-130 -131 +132 -133 +134 -135 +136 -137 -138 +139 +140 -141 +142 +143 +144 -145 -146 +147 -148 -149 +150 +151 -152 +153 -154 -155 +156 -157 -158 +159',\n",
              " '-160 -161 +162 -163 -164 -165 +166 +167 +168 -169 -170 +171 -172 +173 -174 +175 -176 -177 -178 -179 +180 -181 -182 +183 +184',\n",
              " '-185 +186 -187 +188 +189 +190 +191 +192 +193 -194 -195 +196 -197 -198 +199 -200 +201 +202 -203 +204 +205 -206 +207 -208 -209 +210 -211 +212',\n",
              " '-213 +214 +215 +216 +217 +218 +219 +220 +221 -222 +223 -224 +225 -226 -227 -228 +229 -230 -231 +232 -233 -234']"
            ]
          },
          "metadata": {},
          "execution_count": 71
        }
      ]
    },
    {
      "cell_type": "code",
      "source": [
        "chromosome_list = []"
      ],
      "metadata": {
        "id": "mQ-pgO_q368Q"
      },
      "execution_count": 72,
      "outputs": []
    },
    {
      "cell_type": "code",
      "source": [
        "for string in chromosome:\n",
        "  chromosome_list.append(string.split(' '))"
      ],
      "metadata": {
        "id": "flVsJQh23_Pp"
      },
      "execution_count": 73,
      "outputs": []
    },
    {
      "cell_type": "code",
      "source": [
        "len(chromosome)"
      ],
      "metadata": {
        "colab": {
          "base_uri": "https://localhost:8080/"
        },
        "id": "uey4owzX4buF",
        "outputId": "df104b5e-6341-4ede-95dc-5a156ed8dc08"
      },
      "execution_count": 74,
      "outputs": [
        {
          "output_type": "execute_result",
          "data": {
            "text/plain": [
              "9"
            ]
          },
          "metadata": {},
          "execution_count": 74
        }
      ]
    },
    {
      "cell_type": "code",
      "source": [
        "len(chromosome_list)"
      ],
      "metadata": {
        "colab": {
          "base_uri": "https://localhost:8080/"
        },
        "id": "LCukcBlg4daS",
        "outputId": "496c33b6-c4ae-4e0c-b6c8-4650f8823cee"
      },
      "execution_count": 75,
      "outputs": [
        {
          "output_type": "execute_result",
          "data": {
            "text/plain": [
              "9"
            ]
          },
          "metadata": {},
          "execution_count": 75
        }
      ]
    },
    {
      "cell_type": "code",
      "source": [
        "chromosome_list_integers = []\n",
        "for sublist in chromosome_list:\n",
        "  integers_sublist = []\n",
        "  for number in sublist:\n",
        "    integers_sublist.append(int(number))\n",
        "  chromosome_list_integers.append(integers_sublist)"
      ],
      "metadata": {
        "id": "poZlrDFK4qCm"
      },
      "execution_count": 76,
      "outputs": []
    },
    {
      "cell_type": "code",
      "source": [
        "chromosome_list_integers"
      ],
      "metadata": {
        "id": "zYOiiK3E4-WE"
      },
      "execution_count": null,
      "outputs": []
    },
    {
      "cell_type": "code",
      "source": [
        "string_to_print = ''\n",
        "for el in ColoredEdges(chromosome_list_integers):\n",
        "  string_to_print = string_to_print + str(el) + ',' + ' '\n",
        "print(string_to_print)"
      ],
      "metadata": {
        "colab": {
          "base_uri": "https://localhost:8080/"
        },
        "id": "_kWBVj1w4FDh",
        "outputId": "d1e85526-61a0-40d3-e04f-828972226415"
      },
      "execution_count": 83,
      "outputs": [
        {
          "output_type": "stream",
          "name": "stdout",
          "text": [
            "(1, 3), (4, 5), (6, 8), (7, 9), (10, 11), (12, 13), (14, 16), (15, 17), (18, 20), (19, 22), (21, 24), (23, 25), (26, 28), (27, 30), (29, 31), (32, 33), (34, 35), (36, 37), (38, 39), (40, 42), (41, 43), (44, 46), (45, 2), (47, 50), (49, 51), (52, 53), (54, 56), (55, 58), (57, 59), (60, 62), (61, 63), (64, 66), (65, 68), (67, 69), (70, 71), (72, 73), (74, 75), (76, 77), (78, 80), (79, 81), (82, 84), (83, 85), (86, 88), (87, 48), (90, 91), (92, 94), (93, 95), (96, 97), (98, 99), (100, 102), (101, 104), (103, 105), (106, 107), (108, 109), (110, 111), (112, 114), (113, 116), (115, 117), (118, 120), (119, 122), (121, 123), (124, 125), (126, 128), (127, 130), (129, 131), (132, 133), (134, 135), (136, 137), (138, 139), (140, 141), (142, 144), (143, 89), (146, 148), (147, 149), (150, 152), (151, 154), (153, 155), (156, 158), (157, 160), (159, 161), (162, 163), (164, 165), (166, 168), (167, 170), (169, 171), (172, 173), (174, 176), (175, 177), (178, 179), (180, 182), (181, 183), (184, 186), (185, 188), (187, 190), (189, 192), (191, 193), (194, 195), (196, 198), (197, 200), (199, 201), (202, 204), (203, 206), (205, 145), (207, 210), (209, 212), (211, 214), (213, 215), (216, 218), (217, 220), (219, 221), (222, 224), (223, 226), (225, 227), (228, 229), (230, 231), (232, 233), (234, 235), (236, 237), (238, 240), (239, 241), (242, 244), (243, 245), (246, 247), (248, 249), (250, 252), (251, 254), (253, 256), (255, 257), (258, 208), (259, 262), (261, 263), (264, 266), (265, 267), (268, 270), (269, 271), (272, 274), (273, 276), (275, 277), (278, 279), (280, 282), (281, 283), (284, 285), (286, 287), (288, 290), (289, 292), (291, 293), (294, 296), (295, 298), (297, 299), (300, 301), (302, 304), (303, 305), (306, 308), (307, 310), (309, 311), (312, 314), (313, 316), (315, 317), (318, 260), (319, 322), (321, 323), (324, 326), (325, 328), (327, 330), (329, 331), (332, 333), (334, 335), (336, 338), (337, 340), (339, 341), (342, 344), (343, 345), (346, 348), (347, 349), (350, 352), (351, 354), (353, 356), (355, 358), (357, 359), (360, 362), (361, 364), (363, 365), (366, 367), (368, 320), (369, 371), (372, 374), (373, 375), (376, 377), (378, 379), (380, 381), (382, 383), (384, 385), (386, 388), (387, 390), (389, 391), (392, 394), (393, 396), (395, 397), (398, 400), (399, 401), (402, 403), (404, 406), (405, 407), (408, 409), (410, 412), (411, 413), (414, 416), (415, 418), (417, 419), (420, 422), (421, 423), (424, 370), (425, 427), (428, 429), (430, 431), (432, 433), (434, 435), (436, 437), (438, 439), (440, 441), (442, 444), (443, 445), (446, 448), (447, 449), (450, 452), (451, 454), (453, 456), (455, 457), (458, 460), (459, 462), (461, 463), (464, 466), (465, 468), (467, 426), \n"
          ]
        }
      ]
    }
  ]
}