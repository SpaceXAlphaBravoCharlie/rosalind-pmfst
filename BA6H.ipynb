{
  "nbformat": 4,
  "nbformat_minor": 0,
  "metadata": {
    "colab": {
      "name": "BA6H.ipynb",
      "provenance": []
    },
    "kernelspec": {
      "name": "python3",
      "display_name": "Python 3"
    },
    "language_info": {
      "name": "python"
    }
  },
  "cells": [
    {
      "cell_type": "code",
      "execution_count": 4,
      "metadata": {
        "id": "gIMlbmZG0Q3W"
      },
      "outputs": [],
      "source": [
        "def SyntenyBlockToIntegerPair(synteny_block):\n",
        "  if synteny_block < 0:\n",
        "    return [2*abs(synteny_block), 2*abs(synteny_block) - 1]\n",
        "  else:\n",
        "    return [2*synteny_block - 1, 2*synteny_block]"
      ]
    },
    {
      "cell_type": "code",
      "source": [
        "def ChromosomeToCycle(chromosome):\n",
        "  cycle = []\n",
        "  for synteny_block in chromosome:\n",
        "    cycle.extend(SyntenyBlockToIntegerPair(synteny_block))\n",
        "  return cycle"
      ],
      "metadata": {
        "id": "Wlt_8cDy0u2k"
      },
      "execution_count": 3,
      "outputs": []
    },
    {
      "cell_type": "code",
      "source": [
        "def ColoredEdges(chromosome):\n",
        "  colored_edges = []\n",
        "  for chromosome_part in chromosome:\n",
        "    cycle = ChromosomeToCycle(chromosome_part)\n",
        "    i = 1\n",
        "    while i + 1 <= len(cycle) - 2:\n",
        "      colored_edges.append((cycle[i],cycle[i+1]))\n",
        "      i = i + 2\n",
        "    colored_edges.append((cycle[len(cycle)-1], cycle[0])) #chromosome is cyclic\n",
        "  return colored_edges"
      ],
      "metadata": {
        "id": "gZgiFfwl8JEi"
      },
      "execution_count": 2,
      "outputs": []
    },
    {
      "cell_type": "code",
      "source": [
        "chromosome = [[+1, -2, -3,],[+4, +5, -6]]"
      ],
      "metadata": {
        "id": "Zqt4hlcK00Bs"
      },
      "execution_count": 1,
      "outputs": []
    },
    {
      "cell_type": "code",
      "source": [
        "ColoredEdges(chromosome)"
      ],
      "metadata": {
        "colab": {
          "base_uri": "https://localhost:8080/"
        },
        "id": "oUP4E4sJ3TqJ",
        "outputId": "aae966ea-f2ef-471b-d778-963fbf276772"
      },
      "execution_count": 5,
      "outputs": [
        {
          "output_type": "execute_result",
          "data": {
            "text/plain": [
              "[(2, 4), (3, 6), (5, 1), (8, 9), (10, 12), (11, 7)]"
            ]
          },
          "metadata": {},
          "execution_count": 5
        }
      ]
    },
    {
      "cell_type": "code",
      "source": [
        "with open('/content/rosalind_ba6h.txt') as task_file:\n",
        "  chromosome = [line.rstrip() for line in task_file][0]\n",
        "chromosome = chromosome.split(')')\n",
        "chromosome.pop(len(chromosome) - 1)\n",
        "for i in range(len(chromosome)):\n",
        "  chromosome[i] = chromosome[i].replace('(', '')\n",
        "  chromosome[i] = chromosome[i].split(' ')\n",
        "  for j in range(len(chromosome[i])):\n",
        "    chromosome[i][j] = int(chromosome[i][j])"
      ],
      "metadata": {
        "id": "0HpdayxX3hag"
      },
      "execution_count": 20,
      "outputs": []
    },
    {
      "cell_type": "code",
      "source": [
        "f = open(\"task_result.txt\",\"w\")\n",
        "string_to_print = ''\n",
        "for el in ColoredEdges(chromosome):\n",
        "  string_to_print = string_to_print + str(el) + ',' + ' '\n",
        "string_to_print = string_to_print[0:len(string_to_print)-2]\n",
        "f.write(string_to_print)\n",
        "f.close()"
      ],
      "metadata": {
        "id": "_kWBVj1w4FDh"
      },
      "execution_count": 19,
      "outputs": []
    }
  ]
}