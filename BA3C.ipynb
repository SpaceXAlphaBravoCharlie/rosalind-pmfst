{
  "nbformat": 4,
  "nbformat_minor": 0,
  "metadata": {
    "colab": {
      "name": "BA3C.ipynb",
      "provenance": []
    },
    "kernelspec": {
      "name": "python3",
      "display_name": "Python 3"
    },
    "language_info": {
      "name": "python"
    }
  },
  "cells": [
    {
      "cell_type": "code",
      "source": [
        "def Prefix(pattern):\n",
        "  return pattern[0:len(pattern)-1]"
      ],
      "metadata": {
        "id": "ASKMzWxhizFp"
      },
      "execution_count": 8,
      "outputs": []
    },
    {
      "cell_type": "code",
      "source": [
        "def Suffix(pattern):\n",
        "  return pattern[1:len(pattern)]"
      ],
      "metadata": {
        "id": "-20HWIvzi--P"
      },
      "execution_count": 9,
      "outputs": []
    },
    {
      "cell_type": "code",
      "source": [
        "def FindAdjacent(patterns):\n",
        "  adjacency_dict = {}\n",
        "  for pattern in patterns:\n",
        "    adjacency_dict.update({pattern:[]})\n",
        "    for pattern_dash in patterns:\n",
        "      if Suffix(pattern) == Prefix(pattern_dash):\n",
        "        adjacency_dict[pattern].append(pattern_dash)\n",
        "  return adjacency_dict"
      ],
      "metadata": {
        "id": "yY7OzhngiXmq"
      },
      "execution_count": 10,
      "outputs": []
    },
    {
      "cell_type": "code",
      "source": [
        "def OverlapGraph(patterns):\n",
        "  for key,values in sorted(FindAdjacent(patterns).items(), key=lambda x:x[0]):\n",
        "    for value in values:\n",
        "      print('{} -> {}'.format(key,value))"
      ],
      "metadata": {
        "id": "h2BdnYJSjUMN"
      },
      "execution_count": 11,
      "outputs": []
    },
    {
      "cell_type": "code",
      "source": [
        "def OverlapGraphPrintToFile(patterns):\n",
        "  f = open(\"task_result.txt\", \"w\")\n",
        "  for key,values in sorted(FindAdjacent(patterns).items(), key=lambda x:x[0]):\n",
        "    for value in values:\n",
        "      f.write('{} -> {}\\n'.format(key,value))\n",
        "  f.close()"
      ],
      "metadata": {
        "id": "Q8wqOvMTkv3C"
      },
      "execution_count": 21,
      "outputs": []
    },
    {
      "cell_type": "code",
      "source": [
        "patterns = ['ATGCG', 'GCATG', 'CATGC', 'AGGCA', 'GGCAT']"
      ],
      "metadata": {
        "id": "N_n_AbQsrm5T"
      },
      "execution_count": 22,
      "outputs": []
    },
    {
      "cell_type": "code",
      "source": [
        "OverlapGraph(patterns)"
      ],
      "metadata": {
        "colab": {
          "base_uri": "https://localhost:8080/"
        },
        "id": "ASz1Mu_JvAi5",
        "outputId": "ec5002f3-8843-47a7-a92b-9fca43360f11"
      },
      "execution_count": 23,
      "outputs": [
        {
          "output_type": "stream",
          "name": "stdout",
          "text": [
            "AGGCA -> GGCAT\n",
            "CATGC -> ATGCG\n",
            "GCATG -> CATGC\n",
            "GGCAT -> GCATG\n"
          ]
        }
      ]
    },
    {
      "cell_type": "code",
      "source": [
        "with open('/content/rosalind_ba3c.txt') as task_file:\n",
        "  patterns = [line.rstrip() for line in task_file]"
      ],
      "metadata": {
        "id": "Uei-CYc80Nlz"
      },
      "execution_count": 24,
      "outputs": []
    },
    {
      "cell_type": "code",
      "source": [
        "OverlapGraphPrintToFile(patterns)"
      ],
      "metadata": {
        "id": "wMQ2UCnl0mmK"
      },
      "execution_count": 25,
      "outputs": []
    }
  ]
}