{
  "nbformat": 4,
  "nbformat_minor": 0,
  "metadata": {
    "colab": {
      "name": "BA3C.ipynb",
      "provenance": []
    },
    "kernelspec": {
      "name": "python3",
      "display_name": "Python 3"
    },
    "language_info": {
      "name": "python"
    }
  },
  "cells": [
    {
      "cell_type": "code",
      "execution_count": 1,
      "metadata": {
        "id": "yKMLiW6CqtuN"
      },
      "outputs": [],
      "source": [
        "def OverlapGraph(patterns):\n",
        "  for key,values in sorted(FindAdjacent(patterns).items(), key=lambda x: x[0]):\n",
        "    for value in values:\n",
        "      print('{}'.format(key) + ' -> ' + '{}'.format(value))"
      ]
    },
    {
      "cell_type": "code",
      "source": [
        "def FindAdjacent(patterns):\n",
        "  adjacency_dict = {}\n",
        "  for i in range(len(patterns)):\n",
        "    adjacency_dict.setdefault(patterns[i], [])\n",
        "    for j in range(len(patterns)):\n",
        "      if patterns[i][1:len(patterns[i])] == patterns[j][0:(len(patterns[j]) - 1)]:\n",
        "          adjacency_dict[patterns[i]].append(patterns[j])\n",
        "  return adjacency_dict"
      ],
      "metadata": {
        "id": "OAd0vHvysWfW"
      },
      "execution_count": 2,
      "outputs": []
    },
    {
      "cell_type": "code",
      "source": [
        "patterns = ['ATGCG', 'GCATG', 'CATGC', 'AGGCA', 'GGCAT']"
      ],
      "metadata": {
        "id": "N_n_AbQsrm5T"
      },
      "execution_count": 3,
      "outputs": []
    },
    {
      "cell_type": "code",
      "source": [
        "OverlapGraph(patterns)"
      ],
      "metadata": {
        "colab": {
          "base_uri": "https://localhost:8080/"
        },
        "id": "ASz1Mu_JvAi5",
        "outputId": "36e9d7ac-d84e-4b9e-dfd6-6e756d578623"
      },
      "execution_count": 4,
      "outputs": [
        {
          "output_type": "stream",
          "name": "stdout",
          "text": [
            "AGGCA -> GGCAT\n",
            "CATGC -> ATGCG\n",
            "GCATG -> CATGC\n",
            "GGCAT -> GCATG\n"
          ]
        }
      ]
    },
    {
      "cell_type": "code",
      "source": [
        "patterns = []"
      ],
      "metadata": {
        "id": "__15hIvA0XdJ"
      },
      "execution_count": null,
      "outputs": []
    },
    {
      "cell_type": "code",
      "source": [
        "with open('/content/rosalind_ba3c.txt') as test_file:\n",
        " for line in test_file:\n",
        "    patterns.append(line[0:len(line) - 1])"
      ],
      "metadata": {
        "id": "Uei-CYc80Nlz"
      },
      "execution_count": null,
      "outputs": []
    },
    {
      "cell_type": "code",
      "source": [
        "patterns"
      ],
      "metadata": {
        "id": "D6GP7ega0hRi"
      },
      "execution_count": null,
      "outputs": []
    },
    {
      "cell_type": "code",
      "source": [
        "OverlapGraph(patterns)"
      ],
      "metadata": {
        "id": "wMQ2UCnl0mmK"
      },
      "execution_count": null,
      "outputs": []
    }
  ]
}