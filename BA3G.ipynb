{
  "nbformat": 4,
  "nbformat_minor": 0,
  "metadata": {
    "colab": {
      "name": "BA3G.ipynb",
      "provenance": []
    },
    "kernelspec": {
      "name": "python3",
      "display_name": "Python 3"
    },
    "language_info": {
      "name": "python"
    }
  },
  "cells": [
    {
      "cell_type": "markdown",
      "source": [
        "Given: A directed graph that contains an Eulerian path, where the graph is given in the form of an adjacency list."
      ],
      "metadata": {
        "id": "fQ8s6GpLkdeG"
      }
    },
    {
      "cell_type": "code",
      "source": [
        "def FormatGraph(graph):\n",
        "  graph_dict = {}\n",
        "  for edge in graph:\n",
        "    edge = edge.split(' -> ')\n",
        "    graph_dict.setdefault(int(edge[0]),list())\n",
        "  for edge in graph:\n",
        "    edge = edge.split(' -> ')\n",
        "    for i in range(len(edge[1].split(','))):\n",
        "      graph_dict[int(edge[0])].append(int(edge[1].split(',')[i]))\n",
        "  return graph_dict"
      ],
      "metadata": {
        "id": "X18WVBECkzqY"
      },
      "execution_count": 1,
      "outputs": []
    },
    {
      "cell_type": "code",
      "source": [
        "def VisitedEdges(graph_dict):\n",
        "  visited_edges_dict = {}\n",
        "  for key,values_list in graph_dict.items():\n",
        "    for value in values_list:\n",
        "      visited_edges_dict.setdefault((key,value), 0)\n",
        "  return visited_edges_dict"
      ],
      "metadata": {
        "id": "rWBYq7X2k1wG"
      },
      "execution_count": 2,
      "outputs": []
    },
    {
      "cell_type": "code",
      "source": [
        "def NodeInDegree(graph_dict,node):\n",
        "  node_indegree = 0\n",
        "  for adjacent_nodes_list in graph_dict.values():\n",
        "    if node in adjacent_nodes_list:\n",
        "      node_indegree = node_indegree + 1\n",
        "  return node_indegree"
      ],
      "metadata": {
        "id": "sRSVy1Q7k24J"
      },
      "execution_count": 3,
      "outputs": []
    },
    {
      "cell_type": "code",
      "source": [
        "def NodeOutDegree(graph_dict,node):\n",
        "  if node in graph_dict.keys():\n",
        "    return len(graph_dict[node])\n",
        "  else: #node has no adjacent nodes\n",
        "    return 0"
      ],
      "metadata": {
        "id": "pzjn_O69k4Uv"
      },
      "execution_count": 22,
      "outputs": []
    },
    {
      "cell_type": "code",
      "source": [
        "from random import randint, randrange"
      ],
      "metadata": {
        "id": "YnmIgv-3k64D"
      },
      "execution_count": 5,
      "outputs": []
    },
    {
      "cell_type": "code",
      "source": [
        "def EulerianCycle(graph_dict):\n",
        "  visited_edges_dict = VisitedEdges(graph_dict)\n",
        "  starting_node = randint(min(graph_dict.keys()), max(graph_dict.keys()))\n",
        "  cycle = [starting_node]\n",
        "  while sum(visited_edges_dict.values()) < len(visited_edges_dict): #repeat until Eulerian cycle is found --> input is an Eulerian directed graph --> Eulerian cycle can always be found\n",
        "    #while loop entered --> sum(visited_edges_dict.values()) < len(visited_edges_dict) --> cycle smaller than Eulerian cycle is being formed\n",
        "    possible_adjacent_nodes = [key[1] for key in visited_edges_dict.keys() if key[0] == cycle[len(cycle)-1] and visited_edges_dict[key] == 0]\n",
        "    if len(possible_adjacent_nodes) == 0 and sum(visited_edges_dict.values()) < len(visited_edges_dict): #cycle smaller than Eulerian cycle completed as we got stuck at starting node --> all edges are not visited\n",
        "      #possible_starting_nodes_list = [node for node in cycle if NodeOutDegree(graph_dict,node) >= NodeOutDegree(graph_dict,cycle[0])] #no, thsi way we are choosing node regardless of the number of times it appeared in cycle\n",
        "      #possible_starting_nodes_list = [visited_edge[0] for node in cycle for visited_edge in visited_edges_dict.keys() if visited_edge[0] == node and visited_edges_dict[visited_edge] == 1] --> this caused efficiency problems\n",
        "      possible_starting_nodes_list = [node for node in cycle if NodeOutDegree(graph_dict,node) > cycle.count(node)] #if NodeOutDegree(node) > number of times node occurs in cycle then there are unused outgoing edges, every occurence measn that one outgoing edge is used \n",
        "      starting_node = possible_starting_nodes_list[randrange(0,len(possible_starting_nodes_list))] #randomly choose new starting node among nodes with higher NodeOutDegree than previous starting node\n",
        "      cycle = cycle[cycle.index(starting_node):len(cycle)] + cycle[1:cycle.index(starting_node)+1] #construct new_cycle using previous cycle\n",
        "    else: #len(possible_adjacent_nodes) > 1 and sum(visited_edges_dict.values()) < len(visited_edges_dict) --> cycle is not finished yet\n",
        "      if len(possible_adjacent_nodes) == 1:\n",
        "        next_node = possible_adjacent_nodes[0]\n",
        "        visited_edges_dict[(cycle[len(cycle)-1], next_node)] = 1\n",
        "        cycle.append(next_node)\n",
        "      else:\n",
        "        next_node = possible_adjacent_nodes[randint(0,len(possible_adjacent_nodes)-1)]\n",
        "        visited_edges_dict[(cycle[len(cycle)-1], next_node)] = 1\n",
        "        cycle.append(next_node)\n",
        "  return cycle"
      ],
      "metadata": {
        "id": "LmZMesxhk7NG"
      },
      "execution_count": 6,
      "outputs": []
    },
    {
      "cell_type": "code",
      "source": [
        "def FindUnbalancedNodes(graph_dict):\n",
        "  unbalanced_nodes = []\n",
        "  for node in graph_dict.keys():\n",
        "    if NodeInDegree(graph_dict,node) != NodeOutDegree(graph_dict,node):\n",
        "      unbalanced_nodes.append(node)\n",
        "  for adjacent_nodes_list in graph_dict.values():\n",
        "    for adjacent_node in adjacent_nodes_list:\n",
        "      if adjacent_node not in graph_dict.keys():\n",
        "        unbalanced_nodes.append(adjacent_node)\n",
        "  return unbalanced_nodes"
      ],
      "metadata": {
        "id": "IFBkB70Boyth"
      },
      "execution_count": 7,
      "outputs": []
    },
    {
      "cell_type": "markdown",
      "source": [
        "U grafu sa Eulerovim putom imamo 2 nebalansirana čvora --> ne možemo imati samo jedan nebalansirani čvor jer njegovim balansiranjem (dodavanjem ulazne ili izlazne veze) neki drugi čvor ćemo učinit nebalansiranim. Dakle, ne možemo imati neparan broj nebalansiranih čvorova."
      ],
      "metadata": {
        "id": "U_Lc2W6_xSJl"
      }
    },
    {
      "cell_type": "markdown",
      "source": [
        "Thus, a nearly balanced graph has an Eulerian path if and only if\n",
        "adding an edge between its unbalanced nodes makes the graph balanced and strongly\n",
        "connected. --> dakle, nebalansirani graf ima Eulerov put ako i samo ako dodavanjem veze između njegovih nebalansiranih čvorova graf postane balansiran i čvrsto povezan."
      ],
      "metadata": {
        "id": "4yrb6LHnyDgQ"
      }
    },
    {
      "cell_type": "markdown",
      "source": [
        "A path that traverses each edge of a graph exactly once (but does not necessarily return to its starting node) is called an Eulerian path."
      ],
      "metadata": {
        "id": "8ym-HkA1y84n"
      }
    },
    {
      "cell_type": "code",
      "source": [
        "def UnbalancedNodesOrder(graph_dict,unbalanced_nodes):\n",
        "  ordered_unbalanced_nodes = [unbalanced_nodes[0]]\n",
        "  if NodeInDegree(graph_dict, unbalanced_nodes[1]) < NodeOutDegree(graph_dict, unbalanced_nodes[1]): #node lacks one incoming edge --> node is starting node in Eulerian path\n",
        "    ordered_unbalanced_nodes.insert(0, unbalanced_nodes[1])\n",
        "  else: #NodeInDegree(graph_dict, unbalanced_nodes[1]) > NodeOutDegree(graph_dict, unbalanced_nodes[1]) --> node lacks one outgoing edge --> node is ending node in Eulerian path\n",
        "    ordered_unbalanced_nodes.insert(1, unbalanced_nodes[1])\n",
        "  return ordered_unbalanced_nodes"
      ],
      "metadata": {
        "id": "CfA1hhgfq1nr"
      },
      "execution_count": 8,
      "outputs": []
    },
    {
      "cell_type": "code",
      "source": [
        "def BalanceUnbalancedNodes(graph_dict, ordered_unbalanced_nodes):\n",
        "  #ordered_unbalanced_nodes = [starting_node, ending_node]\n",
        "  graph_dict.update({ordered_unbalanced_nodes[1]:[ordered_unbalanced_nodes[0]]})\n",
        "  return graph_dict"
      ],
      "metadata": {
        "id": "8KxQGKxdz3DJ"
      },
      "execution_count": 9,
      "outputs": []
    },
    {
      "cell_type": "code",
      "source": [
        "import numpy as np"
      ],
      "metadata": {
        "id": "rGRhM_9c8xp3"
      },
      "execution_count": null,
      "outputs": []
    },
    {
      "cell_type": "markdown",
      "source": [
        "Postoji samo jedan Eulerov put u grafu."
      ],
      "metadata": {
        "id": "OZ7gm58-GfRn"
      }
    },
    {
      "cell_type": "code",
      "source": [
        "def FindEulerianPathInEulerianCycle(ordered_unbalanced_nodes,eulerian_cycle):\n",
        "  #ordered_unbalanced_nodes = [starting_node,ending_node]\n",
        "  eulerian_cycle = np.array(eulerian_cycle)\n",
        "  eulerian_path = []\n",
        "  eulerian_path_start_indices = list(np.where(eulerian_cycle == ordered_unbalanced_nodes[0])[0])\n",
        "  eulerian_path_end_indices = list(np.where(eulerian_cycle == ordered_unbalanced_nodes[1])[0])\n",
        "  eulerian_cycle = list(eulerian_cycle)\n",
        "  for start_index in eulerian_path_start_indices:\n",
        "    for end_index in eulerian_path_end_indices:\n",
        "      if end_index < start_index:\n",
        "        if (len(eulerian_cycle) - 1 - start_index + 1) + (end_index - 0 + 1) == len(eulerian_cycle):\n",
        "          return eulerian_cycle[start_index:len(eulerian_cycle)] + eulerian_cycle[1:end_index+1]\n",
        "      else:\n",
        "        if (end_index - start_index + 1) == len(eulerian_cycle):\n",
        "          return eulerian_cycle[start_index:end_index+1]"
      ],
      "metadata": {
        "id": "LlcDWuV5FBzn"
      },
      "execution_count": 268,
      "outputs": []
    },
    {
      "cell_type": "code",
      "source": [
        "def ReturnResult(eulerian_cycle):\n",
        "  string_to_print = ''\n",
        "  for node in eulerian_cycle:\n",
        "    string_to_print = string_to_print + str(node) + '->'\n",
        "  return string_to_print[0:len(string_to_print)-2]"
      ],
      "metadata": {
        "id": "r_41ITxRK_N0"
      },
      "execution_count": 291,
      "outputs": []
    },
    {
      "cell_type": "code",
      "source": [
        "def EulerianPath(graph_dict):\n",
        "  unbalanced_nodes = FindUnbalancedNodes(graph_dict)\n",
        "  unbalanced_nodes = UnbalancedNodesOrder(graph_dict,unbalanced_nodes)\n",
        "  graph_dict = BalanceUnbalancedNodes(graph_dict,unbalanced_nodes)\n",
        "  eulerian_cycle = EulerianCycle(graph_dict)\n",
        "  eulerian_path = FindEulerianPathInEulerianCycle(unbalanced_nodes,eulerian_cycle)\n",
        "  return eulerian_path"
      ],
      "metadata": {
        "id": "DjNIX7ELwfnc"
      },
      "execution_count": 292,
      "outputs": []
    },
    {
      "cell_type": "code",
      "source": [
        "graph = [\n",
        "'0 -> 2',\n",
        "'1 -> 3',\n",
        "'2 -> 1',\n",
        "'3 -> 0,4',\n",
        "'6 -> 3,7',\n",
        "'7 -> 8',\n",
        "'8 -> 9',\n",
        "'9 -> 6']"
      ],
      "metadata": {
        "id": "lcYCkLrnoLHx"
      },
      "execution_count": 293,
      "outputs": []
    },
    {
      "cell_type": "code",
      "source": [
        "graph"
      ],
      "metadata": {
        "colab": {
          "base_uri": "https://localhost:8080/"
        },
        "id": "m5ZyuhD0oVDe",
        "outputId": "0c843bdd-b431-4883-cdcb-39d78cb48492"
      },
      "execution_count": 294,
      "outputs": [
        {
          "output_type": "execute_result",
          "data": {
            "text/plain": [
              "['0 -> 2',\n",
              " '1 -> 3',\n",
              " '2 -> 1',\n",
              " '3 -> 0,4',\n",
              " '6 -> 3,7',\n",
              " '7 -> 8',\n",
              " '8 -> 9',\n",
              " '9 -> 6']"
            ]
          },
          "metadata": {},
          "execution_count": 294
        }
      ]
    },
    {
      "cell_type": "code",
      "source": [
        "graph_dict = FormatGraph(graph)"
      ],
      "metadata": {
        "id": "b07N7k3_oxLo"
      },
      "execution_count": 295,
      "outputs": []
    },
    {
      "cell_type": "code",
      "source": [
        "graph_dict"
      ],
      "metadata": {
        "colab": {
          "base_uri": "https://localhost:8080/"
        },
        "id": "DGY17RTR1cKD",
        "outputId": "bdfcf6d2-9d5b-4dfe-9546-b728ab803c4c"
      },
      "execution_count": 296,
      "outputs": [
        {
          "output_type": "execute_result",
          "data": {
            "text/plain": [
              "{0: [2], 1: [3], 2: [1], 3: [0, 4], 6: [3, 7], 7: [8], 8: [9], 9: [6]}"
            ]
          },
          "metadata": {},
          "execution_count": 296
        }
      ]
    },
    {
      "cell_type": "code",
      "source": [
        "print(ReturnResult(EulerianPath(graph_dict)))"
      ],
      "metadata": {
        "colab": {
          "base_uri": "https://localhost:8080/"
        },
        "id": "qUSAvj0ZzHJ1",
        "outputId": "7bb07815-98b7-41a0-d4db-377e339c33e1"
      },
      "execution_count": 297,
      "outputs": [
        {
          "output_type": "stream",
          "name": "stdout",
          "text": [
            "6->7->8->9->6->3->0->2->1->3->4\n"
          ]
        }
      ]
    },
    {
      "cell_type": "code",
      "source": [
        "graph = []\n",
        "with open('/content/rosalind_ba3g.txt') as task_file:\n",
        "  graph = [line.rstrip() for line in task_file]"
      ],
      "metadata": {
        "id": "vWmsR1cvJ4Tv"
      },
      "execution_count": 288,
      "outputs": []
    },
    {
      "cell_type": "code",
      "source": [
        "graph_dict = FormatGraph(graph)"
      ],
      "metadata": {
        "id": "73o3g2kiKNcU"
      },
      "execution_count": 289,
      "outputs": []
    },
    {
      "cell_type": "code",
      "source": [
        "f = open(\"task_result.txt\", \"w\")\n",
        "f.write(ReturnResult(EulerianPath(graph_dict)))\n",
        "f.close()"
      ],
      "metadata": {
        "id": "gUqbSLA1L64N"
      },
      "execution_count": null,
      "outputs": []
    }
  ]
}