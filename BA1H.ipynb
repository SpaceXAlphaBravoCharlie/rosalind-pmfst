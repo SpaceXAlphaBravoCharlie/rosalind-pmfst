{
  "nbformat": 4,
  "nbformat_minor": 0,
  "metadata": {
    "colab": {
      "name": "BA1H.ipynb",
      "provenance": []
    },
    "kernelspec": {
      "name": "python3",
      "display_name": "Python 3"
    },
    "language_info": {
      "name": "python"
    }
  },
  "cells": [
    {
      "cell_type": "code",
      "source": [
        "import numpy as np"
      ],
      "metadata": {
        "id": "R4lgLPUFxqAV"
      },
      "execution_count": 1,
      "outputs": []
    },
    {
      "cell_type": "code",
      "source": [
        "def HammingDistance(first_string, second_string):\n",
        "  first_string = np.array(list(first_string))\n",
        "  second_string = np.array(list(second_string))\n",
        "  return sum(first_string[0:min(len(first_string),len(second_string))] != second_string[0:min(len(first_string),len(second_string))]) + abs(len(first_string) - len(second_string))"
      ],
      "metadata": {
        "id": "dSjO-GDk3YhZ"
      },
      "execution_count": 6,
      "outputs": []
    },
    {
      "cell_type": "code",
      "source": [
        "def FindAllKmers(text,k):\n",
        "  kmers_list = []\n",
        "  i = 0\n",
        "  while i + k - 1 <= len(text) - 1:\n",
        "    kmers_list.append(text[i:i+k])\n",
        "    i = i + 1\n",
        "  return kmers_list"
      ],
      "metadata": {
        "id": "9PBfHL2h32Jy"
      },
      "execution_count": 7,
      "outputs": []
    },
    {
      "cell_type": "code",
      "source": [
        "def ApproximatePatternMatching(pattern, text, d):\n",
        "  occurence_list = []\n",
        "  kmers_list = FindAllKmers(text,len(pattern))\n",
        "  for i in range(len(kmers_list)):\n",
        "    if HammingDistance(pattern,kmers_list[i]) <= d:\n",
        "      occurence_list.append(i)\n",
        "  return occurence_list"
      ],
      "metadata": {
        "id": "1DLSeIhExxdD"
      },
      "execution_count": 9,
      "outputs": []
    },
    {
      "cell_type": "code",
      "source": [
        "pattern = 'ATTCTGGA'"
      ],
      "metadata": {
        "id": "xv0hBmVAxtRT"
      },
      "execution_count": 3,
      "outputs": []
    },
    {
      "cell_type": "code",
      "source": [
        "text = 'CGCCCGAATCCAGAACGCATTCCCATATTTCGGGACCACTGGCCTCCACGGTACGGACGTCAATCAAATGCCTAGCGGCTTGTGGTTTCTCCTACGCTCC'"
      ],
      "metadata": {
        "id": "JTZjsy7JxulD"
      },
      "execution_count": 4,
      "outputs": []
    },
    {
      "cell_type": "code",
      "source": [
        "d = 3"
      ],
      "metadata": {
        "id": "aOUKFilg3kqv"
      },
      "execution_count": 5,
      "outputs": []
    },
    {
      "cell_type": "code",
      "source": [
        "ApproximatePatternMatching(pattern, text, d)"
      ],
      "metadata": {
        "colab": {
          "base_uri": "https://localhost:8080/"
        },
        "id": "VP_jcfBJ5A5t",
        "outputId": "85aa5558-7bd4-41fc-a76d-e6d6f16f1b9b"
      },
      "execution_count": 10,
      "outputs": [
        {
          "output_type": "execute_result",
          "data": {
            "text/plain": [
              "[6, 7, 26, 27, 78]"
            ]
          },
          "metadata": {},
          "execution_count": 10
        }
      ]
    },
    {
      "cell_type": "code",
      "source": [
        "with open('/content/rosalind_ba1h.txt') as task_file:\n",
        "  task_arguments = [line.rstrip() for line in task_file]"
      ],
      "metadata": {
        "id": "hY843kAQ5EnB"
      },
      "execution_count": 12,
      "outputs": []
    },
    {
      "cell_type": "code",
      "source": [
        "pattern = task_arguments[0]"
      ],
      "metadata": {
        "id": "KArnmHIk5jw2"
      },
      "execution_count": 16,
      "outputs": []
    },
    {
      "cell_type": "code",
      "source": [
        "text = task_arguments[1]"
      ],
      "metadata": {
        "id": "b7rJlSLr5mlJ"
      },
      "execution_count": 17,
      "outputs": []
    },
    {
      "cell_type": "code",
      "source": [
        "d = 6"
      ],
      "metadata": {
        "id": "EpwhtDtJ5NfY"
      },
      "execution_count": 18,
      "outputs": []
    },
    {
      "cell_type": "code",
      "source": [
        "f = open(\"task_result.txt\", \"w\")\n",
        "for solution in ApproximatePatternMatching(pattern, text, d):\n",
        "  f.write(str(solution) + '\\n')\n",
        "f.close()"
      ],
      "metadata": {
        "id": "k9cXbdR35Tp-"
      },
      "execution_count": 19,
      "outputs": []
    }
  ]
}