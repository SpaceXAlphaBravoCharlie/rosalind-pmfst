{
  "nbformat": 4,
  "nbformat_minor": 0,
  "metadata": {
    "colab": {
      "name": "BA3A.ipynb",
      "provenance": []
    },
    "kernelspec": {
      "name": "python3",
      "display_name": "Python 3"
    },
    "language_info": {
      "name": "python"
    }
  },
  "cells": [
    {
      "cell_type": "code",
      "execution_count": 1,
      "metadata": {
        "id": "pJZOGpoEg33f"
      },
      "outputs": [],
      "source": [
        "def Composition(text, k):\n",
        "  kmers_list = []\n",
        "  for kmer_end_index in range(k - 1, len(text)):\n",
        "    kmers_list.append(text[kmer_end_index + 1 - k:kmer_end_index + 1])\n",
        "  return sorted(kmers_list)"
      ]
    },
    {
      "cell_type": "code",
      "source": [
        "text = 'CAATCCAAC'"
      ],
      "metadata": {
        "id": "6HOsNskhhNYc"
      },
      "execution_count": 2,
      "outputs": []
    },
    {
      "cell_type": "code",
      "source": [
        "k = 5"
      ],
      "metadata": {
        "id": "y_1i8mYKhQES"
      },
      "execution_count": 4,
      "outputs": []
    },
    {
      "cell_type": "code",
      "source": [
        "Composition(text, k)"
      ],
      "metadata": {
        "colab": {
          "base_uri": "https://localhost:8080/"
        },
        "id": "UKdieQ2LhI71",
        "outputId": "53ff8d7d-e3bb-4715-e99b-3682f0077945"
      },
      "execution_count": 5,
      "outputs": [
        {
          "output_type": "execute_result",
          "data": {
            "text/plain": [
              "['AATCC', 'ATCCA', 'CAATC', 'CCAAC', 'TCCAA']"
            ]
          },
          "metadata": {},
          "execution_count": 5
        }
      ]
    },
    {
      "cell_type": "code",
      "source": [
        "text = 'GCAGGAGGGTGCTGCCGGACCCCCTATGCCCCACTCTCACGCCGACGGCCTCCAAACGCTGACGCATCTGCCTCTACCTACAATTAATTATGTAACATGTCGCGATGGAAAGCCTGTATTTGAGTAGTGTTAGTGCTCTCGTGAATCAGGCTGCGGCTTATCCAAGGGCCCGTGTGCGAGTAACCAGTGCTCTCCTCCTTACGTTAGATGGGTTGTTCTAGGTAACTCAGCGTTGTTCCGCTGTTGTAGTTTCAAAATACTACCGACGATCGTCTGGAGTGGCAAGTTTATCTAGGTCTTGATGCCAAGCATCCCATCTGCTCTGGGAGCTCCAGGTCCGTATGCAGGTCTTTTACCCTGTGATCATCCGAGCAAGCCAATCCCCGATTAGAAAAGTGACAAGAGCTAAACCGGGTAGGATTTTTGGTATGCGGCTCGTTATGCCCCGGGAGAACAGGACAGCCATACGCCTCATATAGGGGCGAGAAGGCGGATTCTAAGCATTCCCCAAGTGGAACATAAACCAAAGCGACTTTGAGTTTTCAGGCATGAGCGTTTAGCTGAGCCGCTGACCCCGTGGTAGCGCTATAGCAGCTGACCACAAACGGGGTACAACAAGGGATGCTGTTTCGCTGATGAGTTGTAAAGGCTTGCCAAAACTTGATCCATAGGCTAAAAGAGCCCCGTTTTTGGGCCTTATGCTCGTGTCTACGGTGTTCACGTCCCAACAATTCTTATTAGTTTACTGAGCCACGAGAGTACGGCATACATTGTTCTGAAGTGATCGGGTTAGTCGGAACGGGGTGTGTCAGTGCGACAGGGTAGCGCTGGTAGCAGCAGACTCTGGCGGACTAAGATGAGCCGTATTGGTAGCATGCCGGTGGTTCCGCCTTTAATTTTGCCCCTAACAACCGAGGTACAAGTCAGTCTTGTCTTAAACGCACGTCGCGAGCGCCCGCATTGTCTGCAGACCCGGCTAGGTGGCAGAATTTTTCAAAGT'"
      ],
      "metadata": {
        "id": "HYEiNj33hbs8"
      },
      "execution_count": 7,
      "outputs": []
    },
    {
      "cell_type": "code",
      "source": [
        "k = 50"
      ],
      "metadata": {
        "id": "y2_GdhorhkLx"
      },
      "execution_count": 8,
      "outputs": []
    },
    {
      "cell_type": "code",
      "source": [
        "for answer in Composition(text, k):\n",
        "  print(answer)"
      ],
      "metadata": {
        "id": "97F3H_l1hlO-"
      },
      "execution_count": null,
      "outputs": []
    },
    {
      "cell_type": "code",
      "source": [
        "k = 50"
      ],
      "metadata": {
        "id": "IW0EkjR8Abhd"
      },
      "execution_count": 6,
      "outputs": []
    },
    {
      "cell_type": "code",
      "source": [
        "with open('/content/rosalind_ba3a.txt') as task_file:\n",
        "  text = [line.rstrip() for line in task_file]"
      ],
      "metadata": {
        "id": "4ty6taUjAiB5"
      },
      "execution_count": 18,
      "outputs": []
    },
    {
      "cell_type": "code",
      "source": [
        "text = ''.join(text)"
      ],
      "metadata": {
        "id": "UwZt7BnMAtbS"
      },
      "execution_count": 20,
      "outputs": []
    },
    {
      "cell_type": "code",
      "source": [
        "text"
      ],
      "metadata": {
        "colab": {
          "base_uri": "https://localhost:8080/",
          "height": 140
        },
        "id": "S5-9TTP_A8KZ",
        "outputId": "5e75ff81-1bf3-4f25-bb91-2b05b4efcd4d"
      },
      "execution_count": 21,
      "outputs": [
        {
          "output_type": "execute_result",
          "data": {
            "text/plain": [
              "'TCCGGTGATTCACCCAGCCAATTCAGGTCACGCCGCGGGGGCAGGTTCTTTCAACAGGTTAAGCGTTTGCTGAGCCGGCCTACGGCCAAGAGTATTTCCAGGTCACGTGTTCTCGAGCATCTCCCAGCGGTAGGGTTACTGATTCTTAGCCTCTTGCAAGGAGATTGCCCTTCCGGCTTTATTGTCTACGTGCCACCCGGGATGATAAGTAGTAGTCACCAACGAGCGCGCTCGGATCGACCAGAGTCCTACGGGCACGAGCCGGATCAGTGAAATTGTTCCACCGTCATTAATAAGTAAACCACGGCCAGTAATTCTTCCCCCATGACCGAGATGATCCGTGTTCGTGTACAAATGAACGTTCCAGCAACTAGGGGCGTTACCTGCGAGGACGGCTGATGATAGCTCTAGAATATGTTGAGTCTTTCAGTCTAATGCAATTACTAGAGCACTGAACACCGGCGCGTCAACTGTCTCCCATCTAGCTTGTGCCCCGAAGCCTCACGTGTAATTAACATACAGTAGCGCAGGACTAGGAAGGAAGTAGCACGACGTGGCTCTCAGATCAATATTCCCAACAACTAAAAGGGTGGACGACGGAGAATATAAATTGCGCGAACTCACCGACTCACCGCCCAAGCCATTCAAGGAGGAAATGCGTTCTCGTGGAGACAATAGGGTCTTCTCTAACAAGAATATAACTTGCGCGTCGCCGAAGCATGTGCGGGCATAGCTTAGAGTTTTAATCGTTGACACGCTTAATCCTAGGTTTCCACGTGCCAATCTCGAGGTAGGTTCCCAAATCATGAAGATCGACACGTAGGCGGTGTTCATTTATTCATAGTTAAGTGCAAAGAAAGGAGATTGGTGGGCGTGGTTACAGTCTACGCTAGTATGCTTTCCCTAGACACGCGCGGCCCGCGAACCTTTGGGCAATGCGAAATTCGGATCACCAGAGCTACGCTACTGGGGCAACGGAATTCCTCTTTCCGACGGGGAG'"
            ],
            "application/vnd.google.colaboratory.intrinsic+json": {
              "type": "string"
            }
          },
          "metadata": {},
          "execution_count": 21
        }
      ]
    },
    {
      "cell_type": "code",
      "source": [
        "for answer in Composition(text, k):\n",
        "  print(answer)"
      ],
      "metadata": {
        "id": "tqYF1mvwAue0"
      },
      "execution_count": null,
      "outputs": []
    }
  ]
}