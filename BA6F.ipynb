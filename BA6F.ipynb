{
  "nbformat": 4,
  "nbformat_minor": 0,
  "metadata": {
    "colab": {
      "name": "BA6F.ipynb",
      "provenance": []
    },
    "kernelspec": {
      "name": "python3",
      "display_name": "Python 3"
    },
    "language_info": {
      "name": "python"
    }
  },
  "cells": [
    {
      "cell_type": "markdown",
      "source": [
        "xh = 2x\n",
        "\n",
        "xt = 2x - 1"
      ],
      "metadata": {
        "id": "is_i7MVKomHV"
      }
    },
    {
      "cell_type": "code",
      "source": [
        "def SyntenyBlockToIntegerPair(synteny_block):\n",
        "  if synteny_block < 0:\n",
        "    return [2*abs(synteny_block), 2*abs(synteny_block) - 1]\n",
        "  else:\n",
        "    return [2*synteny_block - 1, 2*synteny_block]"
      ],
      "metadata": {
        "id": "36coLpFboiU-"
      },
      "execution_count": 9,
      "outputs": []
    },
    {
      "cell_type": "code",
      "source": [
        "def ChromosomeToCycle(chromosome):\n",
        "  cycle = []\n",
        "  for synteny_block in chromosome:\n",
        "    cycle.extend(SyntenyBlockToIntegerPair(synteny_block))\n",
        "  return cycle"
      ],
      "metadata": {
        "id": "T2bawN8Godzg"
      },
      "execution_count": 10,
      "outputs": []
    },
    {
      "cell_type": "code",
      "source": [
        "chromosome = [+1, -2, -3, +4]"
      ],
      "metadata": {
        "id": "eZG8jFJmmN-G"
      },
      "execution_count": 1,
      "outputs": []
    },
    {
      "cell_type": "code",
      "source": [
        "ChromosomeToCycle(chromosome)"
      ],
      "metadata": {
        "colab": {
          "base_uri": "https://localhost:8080/"
        },
        "id": "GVZt3j3Hop0z",
        "outputId": "56ba6acf-61d3-49d9-9d6b-5cd5cbc9a087"
      },
      "execution_count": 11,
      "outputs": [
        {
          "output_type": "execute_result",
          "data": {
            "text/plain": [
              "[1, 2, 4, 3, 6, 5, 7, 8]"
            ]
          },
          "metadata": {},
          "execution_count": 11
        }
      ]
    },
    {
      "cell_type": "code",
      "source": [
        "with open('/content/rosalind_ba6f.txt') as task_file:\n",
        "  chromosome = [line.rstrip() for line in task_file]"
      ],
      "metadata": {
        "id": "EUCH57DWo0J8"
      },
      "execution_count": 18,
      "outputs": []
    },
    {
      "cell_type": "code",
      "source": [
        "chromosome = chromosome[0]"
      ],
      "metadata": {
        "id": "gGcMk6IupVvZ"
      },
      "execution_count": 19,
      "outputs": []
    },
    {
      "cell_type": "code",
      "source": [
        "chromosome = chromosome.replace('(', '')"
      ],
      "metadata": {
        "id": "Bdv7gxUAo_vZ"
      },
      "execution_count": 22,
      "outputs": []
    },
    {
      "cell_type": "code",
      "source": [
        "chromosome = chromosome.replace(')', '')"
      ],
      "metadata": {
        "id": "COGmxV9npJPo"
      },
      "execution_count": 23,
      "outputs": []
    },
    {
      "cell_type": "code",
      "source": [
        "chromosome"
      ],
      "metadata": {
        "colab": {
          "base_uri": "https://localhost:8080/",
          "height": 53
        },
        "id": "EyBLMuEWpdYE",
        "outputId": "753dad63-a02c-49ab-a291-3b2d1d4efe62"
      },
      "execution_count": 24,
      "outputs": [
        {
          "output_type": "execute_result",
          "data": {
            "text/plain": [
              "'-1 -2 +3 +4 -5 -6 +7 -8 -9 -10 +11 -12 -13 +14 -15 +16 +17 +18 +19 +20 -21 +22 -23 +24 -25 -26 +27 +28 -29 +30 -31 -32 -33 +34 -35 -36 -37 +38 -39 +40 -41 +42 +43 +44 -45 -46 -47 -48 -49 -50 -51 -52 -53 +54 +55 -56 +57 -58 +59 +60 -61 -62 +63 +64 +65 -66 +67'"
            ],
            "application/vnd.google.colaboratory.intrinsic+json": {
              "type": "string"
            }
          },
          "metadata": {},
          "execution_count": 24
        }
      ]
    },
    {
      "cell_type": "code",
      "source": [
        "chromosome_list = [int(num) for num in chromosome.split(' ')]"
      ],
      "metadata": {
        "id": "e75PRitfpemW"
      },
      "execution_count": 26,
      "outputs": []
    },
    {
      "cell_type": "code",
      "source": [
        "chromosome_list"
      ],
      "metadata": {
        "id": "8VJ2CXaupoJ4"
      },
      "execution_count": null,
      "outputs": []
    },
    {
      "cell_type": "code",
      "source": [
        "string_to_print = '('\n",
        "for number in enumerate(ChromosomeToCycle(chromosome_list)):\n",
        "  if number[0] < len(ChromosomeToCycle(chromosome_list)) - 1:\n",
        "    string_to_print = string_to_print + str(number[1]) + ' '\n",
        "  else:\n",
        "    string_to_print = string_to_print + str(number[1]) + ')'\n",
        "print(string_to_print)"
      ],
      "metadata": {
        "colab": {
          "base_uri": "https://localhost:8080/"
        },
        "id": "SfF2-9B2ppcd",
        "outputId": "80414528-9ad9-47fe-8b58-7cdbc070d2d4"
      },
      "execution_count": 32,
      "outputs": [
        {
          "output_type": "stream",
          "name": "stdout",
          "text": [
            "(2 1 4 3 5 6 7 8 10 9 12 11 13 14 16 15 18 17 20 19 21 22 24 23 26 25 27 28 30 29 31 32 33 34 35 36 37 38 39 40 42 41 43 44 46 45 47 48 50 49 52 51 53 54 55 56 58 57 59 60 62 61 64 63 66 65 67 68 70 69 72 71 74 73 75 76 78 77 79 80 82 81 83 84 85 86 87 88 90 89 92 91 94 93 96 95 98 97 100 99 102 101 104 103 106 105 107 108 109 110 112 111 113 114 116 115 117 118 119 120 122 121 124 123 125 126 127 128 129 130 132 131 133 134)\n"
          ]
        }
      ]
    }
  ]
}