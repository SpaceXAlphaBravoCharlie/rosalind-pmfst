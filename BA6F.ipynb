{
  "nbformat": 4,
  "nbformat_minor": 0,
  "metadata": {
    "colab": {
      "name": "BA6F.ipynb",
      "provenance": []
    },
    "kernelspec": {
      "name": "python3",
      "display_name": "Python 3"
    },
    "language_info": {
      "name": "python"
    }
  },
  "cells": [
    {
      "cell_type": "markdown",
      "source": [
        "xt = 2x - 1\n",
        "\n",
        "xh = 2x"
      ],
      "metadata": {
        "id": "is_i7MVKomHV"
      }
    },
    {
      "cell_type": "code",
      "source": [
        "def SyntenyBlockToIntegerPair(synteny_block):\n",
        "  if synteny_block < 0:\n",
        "    return [2*abs(synteny_block), 2*abs(synteny_block) - 1]\n",
        "  else:\n",
        "    return [2*synteny_block - 1, 2*synteny_block]"
      ],
      "metadata": {
        "id": "36coLpFboiU-"
      },
      "execution_count": 3,
      "outputs": []
    },
    {
      "cell_type": "code",
      "source": [
        "def ChromosomeToCycle(chromosome):\n",
        "  cycle = []\n",
        "  for synteny_block in chromosome:\n",
        "    cycle.extend(SyntenyBlockToIntegerPair(synteny_block))\n",
        "  return cycle"
      ],
      "metadata": {
        "id": "T2bawN8Godzg"
      },
      "execution_count": 4,
      "outputs": []
    },
    {
      "cell_type": "code",
      "source": [
        "chromosome = [+1, -2, -3, +4]"
      ],
      "metadata": {
        "id": "eZG8jFJmmN-G"
      },
      "execution_count": 5,
      "outputs": []
    },
    {
      "cell_type": "code",
      "source": [
        "ChromosomeToCycle(chromosome)"
      ],
      "metadata": {
        "colab": {
          "base_uri": "https://localhost:8080/"
        },
        "id": "GVZt3j3Hop0z",
        "outputId": "1c98422a-bc26-4e9e-baf5-e1739b8d5e91"
      },
      "execution_count": 6,
      "outputs": [
        {
          "output_type": "execute_result",
          "data": {
            "text/plain": [
              "[1, 2, 4, 3, 6, 5, 7, 8]"
            ]
          },
          "metadata": {},
          "execution_count": 6
        }
      ]
    },
    {
      "cell_type": "code",
      "source": [
        "with open('/content/rosalind_ba6f.txt') as task_file:\n",
        "  chromosome = [line.rstrip() for line in task_file][0]\n",
        "chromosome = chromosome.replace('(', '')\n",
        "chromosome = chromosome.replace(')', '')\n",
        "chromosome = chromosome.split(' ')\n",
        "for i in range(len(chromosome)):\n",
        "  chromosome[i] = int(chromosome[i])"
      ],
      "metadata": {
        "id": "EUCH57DWo0J8"
      },
      "execution_count": 17,
      "outputs": []
    },
    {
      "cell_type": "code",
      "source": [
        "f = open(\"task_result.txt\",\"w\")\n",
        "string_to_print = '('\n",
        "for number in enumerate(ChromosomeToCycle(chromosome)):\n",
        "    string_to_print = string_to_print + str(number[1]) + ' '\n",
        "string_to_print = string_to_print[0:len(string_to_print)-1]\n",
        "string_to_print = string_to_print + ')'\n",
        "f.write(string_to_print)\n",
        "f.close()"
      ],
      "metadata": {
        "id": "SfF2-9B2ppcd"
      },
      "execution_count": 18,
      "outputs": []
    }
  ]
}