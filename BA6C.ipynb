{
  "nbformat": 4,
  "nbformat_minor": 0,
  "metadata": {
    "colab": {
      "name": "BA6C.ipynb",
      "provenance": []
    },
    "kernelspec": {
      "name": "python3",
      "display_name": "Python 3"
    },
    "language_info": {
      "name": "python"
    }
  },
  "cells": [
    {
      "cell_type": "code",
      "source": [
        "def StringToIntRepr(text):\n",
        "    return [int(x) for x in text.split(\" \")]"
      ],
      "metadata": {
        "id": "VJG0zXe_-nlh"
      },
      "execution_count": 7,
      "outputs": []
    },
    {
      "cell_type": "code",
      "source": [
        "def RosalindInput(text):\n",
        "    chromosomes = text.split(\")\")\n",
        "    chromosomes = [StringToIntRepr(chrom[1:]) for chrom in chromosomes[:-1]]\n",
        "    return chromosomes"
      ],
      "metadata": {
        "id": "0gpfrJnJ--tV"
      },
      "execution_count": 8,
      "outputs": []
    },
    {
      "cell_type": "code",
      "source": [
        "def ChromosomeToCycle(chromosome):\n",
        "    cycle = []\n",
        "    for x in chromosome:\n",
        "      if x > 0:\n",
        "        cycle.extend([2*x-1, 2*x])\n",
        "      if x < 0:\n",
        "        x = abs(x)\n",
        "        cycle.extend([2*x, 2*x-1])\n",
        "    return cycle"
      ],
      "metadata": {
        "id": "-RnNODZC_LpB"
      },
      "execution_count": 9,
      "outputs": []
    },
    {
      "cell_type": "code",
      "source": [
        "def GetColoredEdges(chromosomes):\n",
        "    edges = []\n",
        "    for chrom in chromosomes:\n",
        "        nodes = ChromosomeToCycle(chrom)\n",
        "        for j in range(1, len(nodes) - 1, 2):\n",
        "            edges.append((nodes[j], nodes[j + 1]))\n",
        "        edges.append((nodes[-1], nodes[0]))\n",
        "    return edges"
      ],
      "metadata": {
        "id": "lWdNLaRO_fsi"
      },
      "execution_count": 10,
      "outputs": []
    },
    {
      "cell_type": "code",
      "source": [
        "def GetNCycles(edges):\n",
        "    edges = edges.copy()\n",
        "    n_cycles = 0\n",
        "    starting = edges[0][1]\n",
        "    del edges[0]\n",
        "    while True:\n",
        "      found = False\n",
        "      for i in range(0,len(edges)):\n",
        "          if starting == edges[i][0]:\n",
        "              starting = edges[i][1]\n",
        "              found = True\n",
        "              break\n",
        "          if starting == edges[i][1]:\n",
        "              starting = edges[i][0]\n",
        "              found = True\n",
        "              break\n",
        "      if found:\n",
        "        del edges[i]\n",
        "      else:\n",
        "        # cycle done\n",
        "        n_cycles += 1\n",
        "        if len(edges) == 0:\n",
        "            break\n",
        "        starting = edges[0][1]\n",
        "        del edges[0]\n",
        "\n",
        "    return n_cycles"
      ],
      "metadata": {
        "id": "Y_uSMwy9_wXO"
      },
      "execution_count": 11,
      "outputs": []
    },
    {
      "cell_type": "code",
      "source": [
        "def TwoBreakDistance(genome_P,genome_Q):\n",
        "  chromosomes_P = RosalindInput(genome_P)\n",
        "  chromosomes_Q = RosalindInput(genome_Q)\n",
        "\n",
        "  colored_edges_P = GetColoredEdges(chromosomes_P)\n",
        "  colored_edges_Q = GetColoredEdges(chromosomes_Q)\n",
        "\n",
        "  colored_edges_breakpoint_PQ = colored_edges_P + colored_edges_Q\n",
        "\n",
        "  n_cycles = GetNCycles(colored_edges_breakpoint_PQ)\n",
        "\n",
        "  n_syn_blocks = 0\n",
        "  for chrom in chromosomes_P:\n",
        "      n_syn_blocks += len(chrom)\n",
        "\n",
        "  print(n_syn_blocks - n_cycles)"
      ],
      "metadata": {
        "id": "9t9kbnsoAZZP"
      },
      "execution_count": 12,
      "outputs": []
    },
    {
      "cell_type": "code",
      "source": [
        "genome_P = '(+1 +2 +3 +4 +5 +6)'"
      ],
      "metadata": {
        "id": "tzAE_iJdAhzn"
      },
      "execution_count": 13,
      "outputs": []
    },
    {
      "cell_type": "code",
      "source": [
        "genome_Q = '(+1 -3 -6 -5)(+2 -4)'"
      ],
      "metadata": {
        "id": "fuTVyglSAin0"
      },
      "execution_count": 14,
      "outputs": []
    },
    {
      "cell_type": "code",
      "source": [
        "TwoBreakDistance(genome_P,genome_Q)"
      ],
      "metadata": {
        "colab": {
          "base_uri": "https://localhost:8080/"
        },
        "id": "cpXuUkPpBHnF",
        "outputId": "69c1a67b-d821-4eb2-b9ca-d89b625a77c5"
      },
      "execution_count": 15,
      "outputs": [
        {
          "output_type": "stream",
          "name": "stdout",
          "text": [
            "3\n"
          ]
        }
      ]
    },
    {
      "cell_type": "code",
      "source": [
        "with open('/content/rosalind_ba6c.txt') as task_file:\n",
        "  task_arguments = [line.rstrip() for line in task_file]"
      ],
      "metadata": {
        "id": "-D3Q8xnMBJ5D"
      },
      "execution_count": 16,
      "outputs": []
    },
    {
      "cell_type": "code",
      "source": [
        "genome_P = task_arguments[0]"
      ],
      "metadata": {
        "id": "NMs0BTm6BP3B"
      },
      "execution_count": 17,
      "outputs": []
    },
    {
      "cell_type": "code",
      "source": [
        "genome_Q = task_arguments[1]"
      ],
      "metadata": {
        "id": "yg2hmb8EBRVx"
      },
      "execution_count": 18,
      "outputs": []
    },
    {
      "cell_type": "code",
      "source": [
        "TwoBreakDistance(genome_P,genome_Q)"
      ],
      "metadata": {
        "colab": {
          "base_uri": "https://localhost:8080/"
        },
        "id": "fEggTCa4BSIe",
        "outputId": "b1bfddf2-23e4-45f7-ff29-dd5c3b241df9"
      },
      "execution_count": 19,
      "outputs": [
        {
          "output_type": "stream",
          "name": "stdout",
          "text": [
            "13563\n"
          ]
        }
      ]
    }
  ]
}