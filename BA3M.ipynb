{
  "nbformat": 4,
  "nbformat_minor": 0,
  "metadata": {
    "colab": {
      "name": "BA3M.ipynb",
      "provenance": []
    },
    "kernelspec": {
      "name": "python3",
      "display_name": "Python 3"
    },
    "language_info": {
      "name": "python"
    }
  },
  "cells": [
    {
      "cell_type": "markdown",
      "source": [
        "MaximalNonBranchingPaths(Graph)\n",
        "\n",
        "        Paths ← empty list\n",
        "\n",
        "        for each node v in Graph\n",
        "\n",
        "            if v is not a 1-in-1-out node\n",
        "\n",
        "                if out(v) > 0\n",
        "\n",
        "                    for each outgoing edge (v, w) from v\n",
        "\n",
        "                        NonBranchingPath ← the path consisting of the single edge (v, w)\n",
        "\n",
        "                        while w is a 1-in-1-out node\n",
        "\n",
        "                            extend NonBranchingPath by the outgoing edge (w, u) from w \n",
        "\n",
        "                            w ← u\n",
        "\n",
        "                        add NonBranchingPath to the set Paths\n",
        "\n",
        "        for each isolated cycle Cycle in Graph\n",
        "\n",
        "            add Cycle to Paths\n",
        "            \n",
        "        return Paths"
      ],
      "metadata": {
        "id": "TCkcYPr12w9S"
      }
    },
    {
      "cell_type": "code",
      "source": [
        "def DefineGraphDict(graph):\n",
        "  graph_dict = {}\n",
        "  for node_adjacent_nodes in graph:\n",
        "    node_adjacent_nodes = node_adjacent_nodes.split(' -> ')\n",
        "    graph_dict.setdefault(int(node_adjacent_nodes[0]),[])\n",
        "    node_adjacent_nodes[1] = node_adjacent_nodes[1].split(',')\n",
        "    for node in node_adjacent_nodes[1]:\n",
        "      graph_dict[int(node_adjacent_nodes[0])].append(int(node))\n",
        "  return graph_dict"
      ],
      "metadata": {
        "id": "h-HxFEF83R3r"
      },
      "execution_count": 1,
      "outputs": []
    },
    {
      "cell_type": "code",
      "source": [
        "def NodeInDegree(graph_dict,node):\n",
        "  node_in_degree = 0\n",
        "  for adjacent_nodes in graph_dict.values():\n",
        "    node_in_degree = node_in_degree + adjacent_nodes.count(node)\n",
        "  return node_in_degree"
      ],
      "metadata": {
        "id": "n0A2SYRT3ems"
      },
      "execution_count": 2,
      "outputs": []
    },
    {
      "cell_type": "code",
      "source": [
        "def NodeOutDegree(graph_dict,node):\n",
        "  if node in graph_dict.keys():\n",
        "    return len(graph_dict[node])\n",
        "  else:\n",
        "    return 0"
      ],
      "metadata": {
        "id": "jg9gnsz34L-D"
      },
      "execution_count": 3,
      "outputs": []
    },
    {
      "cell_type": "code",
      "source": [
        "def GraphNodes(graph_dict):\n",
        "  graph_nodes = set()\n",
        "  for key,adjacent_nodes in graph_dict.items():\n",
        "    graph_nodes.update([key] + adjacent_nodes)\n",
        "  return graph_nodes"
      ],
      "metadata": {
        "id": "PjpYWFNl4hTq"
      },
      "execution_count": 4,
      "outputs": []
    },
    {
      "cell_type": "markdown",
      "source": [
        "A node v in a directed graph Graph is called a 1-in-1-out node if its indegree and outdegree are both equal to 1, i.e., in(v) = out(v) = 1.  We can rephrase the definition of a \"maximal non-branching path\" from the main text as a path whose internal nodes are 1-in-1-out nodes and whose initial and final nodes are not 1-in-1-out nodes.  Also, note that the definition from the main text does not handle the special case when Graph has a connected component that is an isolated cycle, in which all nodes are 1-in-1-out nodes."
      ],
      "metadata": {
        "id": "gYfms9Rp8sfz"
      }
    },
    {
      "cell_type": "code",
      "source": [
        "def OneInOneOutNode(graph_dict,node):\n",
        "  if NodeInDegree(graph_dict,node) == 1 and NodeOutDegree(graph_dict,node) == 1:\n",
        "    return True\n",
        "  else:\n",
        "    return False"
      ],
      "metadata": {
        "id": "8InU0epMqQhJ"
      },
      "execution_count": 20,
      "outputs": []
    },
    {
      "cell_type": "code",
      "source": [
        "def NonBranchingPaths(graph_dict):\n",
        "  paths = []\n",
        "  for node in GraphNodes(graph_dict):\n",
        "    if not OneInOneOutNode(graph_dict,node): #not 1-in-1-out node\n",
        "      if NodeOutDegree(graph_dict,node) > 0:\n",
        "        for adjacent_node in graph_dict[node]:\n",
        "          non_branching_path = [node,adjacent_node]\n",
        "          while NodeInDegree(graph_dict,adjacent_node) == 1 and NodeOutDegree(graph_dict,adjacent_node) == 1:\n",
        "            non_branching_path.append(graph_dict[adjacent_node][0])\n",
        "            adjacent_node = graph_dict[adjacent_node][0]\n",
        "          paths.append(non_branching_path)\n",
        "  for node in GraphNodes(graph_dict):\n",
        "      #definition from the main text does not handle the special case when Graph has a connected component that is an isolated cycle, in which all nodes are 1-in-1-out nodes.\n",
        "      if OneInOneOutNode(graph_dict,node): #1-in-1-out node\n",
        "        for adjacent_node in graph_dict[node]:\n",
        "          non_branching_path = [node,adjacent_node]\n",
        "          while NodeInDegree(graph_dict,adjacent_node) == 1 and NodeOutDegree(graph_dict,adjacent_node) == 1 and adjacent_node != node:\n",
        "            non_branching_path.append(graph_dict[adjacent_node][0])\n",
        "            adjacent_node = graph_dict[adjacent_node][0]\n",
        "          paths.append(non_branching_path)\n",
        "  return paths"
      ],
      "metadata": {
        "id": "QNVXmQO53NvC"
      },
      "execution_count": 21,
      "outputs": []
    },
    {
      "cell_type": "code",
      "source": [
        "def FindAllKmers(non_branching_path,k):\n",
        "  kmers_list = []\n",
        "  i = 0\n",
        "  while i + k - 1 <= len(non_branching_path) - 1:\n",
        "    kmers_list.append(non_branching_path[i:i+k])\n",
        "    i = i + 1\n",
        "  return kmers_list"
      ],
      "metadata": {
        "id": "89fU5pR9-oYz"
      },
      "execution_count": 22,
      "outputs": []
    },
    {
      "cell_type": "markdown",
      "source": [
        "A maximal non-branching path is a non-branching path that cannot be extended into a longer non-branching path --> if we have a list of non-branching paths and if we sort the list by increasing non-branching paths length, certain non-branching path can only be contained in non-branching paths with higher length"
      ],
      "metadata": {
        "id": "fnwEbtmNixrx"
      }
    },
    {
      "cell_type": "code",
      "source": [
        "from numpy import delete"
      ],
      "metadata": {
        "id": "vDk3HYZ0l3IE"
      },
      "execution_count": 23,
      "outputs": []
    },
    {
      "cell_type": "code",
      "source": [
        "def MaximalNonBranchingPaths(paths):\n",
        "  indices_to_delete = []\n",
        "  for i in range(len(paths)):\n",
        "    for j in range(len(paths)):\n",
        "      if len(paths[i]) < len(paths[j]):\n",
        "        if paths[i] != paths[j] and paths[i] in FindAllKmers(paths[j],len(paths[i])):\n",
        "          indices_to_delete.append(i)\n",
        "      elif len(paths[i]) == len(paths[j]):\n",
        "        if paths[i] != paths[j] and set(paths[i]) == set(paths[j]) and j not in indices_to_delete:\n",
        "          indices_to_delete.append(i)\n",
        "  paths = list(delete(paths,indices_to_delete))\n",
        "  return paths"
      ],
      "metadata": {
        "id": "XKOkeRGbiYK0"
      },
      "execution_count": 24,
      "outputs": []
    },
    {
      "cell_type": "code",
      "source": [
        "def PrintResult(paths):\n",
        "  for path in paths:\n",
        "    string_to_print = ''\n",
        "    for node in path:\n",
        "      string_to_print = string_to_print + str(node) + ' -> '\n",
        "    print(string_to_print[0:len(string_to_print)-4])"
      ],
      "metadata": {
        "id": "b_vGpVHhFIFU"
      },
      "execution_count": 25,
      "outputs": []
    },
    {
      "cell_type": "code",
      "source": [
        "def PrintResultToFile(paths):\n",
        "  f = open(\"task_result.txt\",\"w\")\n",
        "  for path in paths:\n",
        "    string_to_print = ''\n",
        "    for node in path:\n",
        "      string_to_print = string_to_print + str(node) + ' -> '\n",
        "    f.write((string_to_print[0:len(string_to_print)-4] + '\\n'))\n",
        "  f.close()"
      ],
      "metadata": {
        "id": "sX3qNQHvFxlV"
      },
      "execution_count": 26,
      "outputs": []
    },
    {
      "cell_type": "code",
      "source": [
        "graph = [\n",
        "'1 -> 2',\n",
        "'2 -> 3',\n",
        "'3 -> 4,5',\n",
        "'6 -> 7',\n",
        "'7 -> 6']"
      ],
      "metadata": {
        "id": "07U4eb-D3USg"
      },
      "execution_count": 27,
      "outputs": []
    },
    {
      "cell_type": "code",
      "source": [
        "graph_dict = DefineGraphDict(graph)\n",
        "graph_dict"
      ],
      "metadata": {
        "colab": {
          "base_uri": "https://localhost:8080/"
        },
        "id": "ViQ3MxgK3WXl",
        "outputId": "3aeb4b96-6c6e-4c9b-b0f4-af665722e6a6"
      },
      "execution_count": 28,
      "outputs": [
        {
          "output_type": "execute_result",
          "data": {
            "text/plain": [
              "{1: [2], 2: [3], 3: [4, 5], 6: [7], 7: [6]}"
            ]
          },
          "metadata": {},
          "execution_count": 28
        }
      ]
    },
    {
      "cell_type": "code",
      "source": [
        "MaximalNonBranchingPaths(NonBranchingPaths(graph_dict))"
      ],
      "metadata": {
        "colab": {
          "base_uri": "https://localhost:8080/"
        },
        "id": "RQ-kdypEFrhn",
        "outputId": "928590ba-4759-4396-9e04-4cfe67b964a8"
      },
      "execution_count": 29,
      "outputs": [
        {
          "output_type": "stream",
          "name": "stderr",
          "text": [
            "/usr/local/lib/python3.7/dist-packages/numpy/lib/function_base.py:4454: VisibleDeprecationWarning: Creating an ndarray from ragged nested sequences (which is a list-or-tuple of lists-or-tuples-or ndarrays with different lengths or shapes) is deprecated. If you meant to do this, you must specify 'dtype=object' when creating the ndarray.\n",
            "  arr = asarray(arr)\n"
          ]
        },
        {
          "output_type": "execute_result",
          "data": {
            "text/plain": [
              "[[1, 2, 3], [3, 4], [3, 5], [7, 6, 7]]"
            ]
          },
          "metadata": {},
          "execution_count": 29
        }
      ]
    },
    {
      "cell_type": "code",
      "source": [
        "PrintResult(MaximalNonBranchingPaths(NonBranchingPaths(graph_dict)))"
      ],
      "metadata": {
        "colab": {
          "base_uri": "https://localhost:8080/"
        },
        "id": "H9MYA3UB6Reg",
        "outputId": "a60cc3ec-1cb9-4c6f-8015-bf2791add613"
      },
      "execution_count": 30,
      "outputs": [
        {
          "output_type": "stream",
          "name": "stdout",
          "text": [
            "1 -> 2 -> 3\n",
            "3 -> 4\n",
            "3 -> 5\n",
            "7 -> 6 -> 7\n"
          ]
        },
        {
          "output_type": "stream",
          "name": "stderr",
          "text": [
            "/usr/local/lib/python3.7/dist-packages/numpy/lib/function_base.py:4454: VisibleDeprecationWarning: Creating an ndarray from ragged nested sequences (which is a list-or-tuple of lists-or-tuples-or ndarrays with different lengths or shapes) is deprecated. If you meant to do this, you must specify 'dtype=object' when creating the ndarray.\n",
            "  arr = asarray(arr)\n"
          ]
        }
      ]
    },
    {
      "cell_type": "code",
      "source": [
        "with open('/content/rosalind_ba3m.txt') as task_file:\n",
        "  graph = [line.rstrip() for line in task_file]"
      ],
      "metadata": {
        "id": "3RVdBN_rFDGN"
      },
      "execution_count": 34,
      "outputs": []
    },
    {
      "cell_type": "code",
      "source": [
        "graph_dict = DefineGraphDict(graph)"
      ],
      "metadata": {
        "id": "g-STApwJFFYk"
      },
      "execution_count": 35,
      "outputs": []
    },
    {
      "cell_type": "code",
      "source": [
        "PrintResultToFile(MaximalNonBranchingPaths(NonBranchingPaths(graph_dict)))"
      ],
      "metadata": {
        "colab": {
          "base_uri": "https://localhost:8080/"
        },
        "id": "6-hdPwyVFGp9",
        "outputId": "34d1fd1a-ff1b-4b16-d7e6-eef7a64de89b"
      },
      "execution_count": 36,
      "outputs": [
        {
          "output_type": "stream",
          "name": "stderr",
          "text": [
            "/usr/local/lib/python3.7/dist-packages/numpy/lib/function_base.py:4454: VisibleDeprecationWarning: Creating an ndarray from ragged nested sequences (which is a list-or-tuple of lists-or-tuples-or ndarrays with different lengths or shapes) is deprecated. If you meant to do this, you must specify 'dtype=object' when creating the ndarray.\n",
            "  arr = asarray(arr)\n"
          ]
        }
      ]
    }
  ]
}