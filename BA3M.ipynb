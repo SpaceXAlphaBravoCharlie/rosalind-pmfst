{
  "nbformat": 4,
  "nbformat_minor": 0,
  "metadata": {
    "colab": {
      "name": "BA3M.ipynb",
      "provenance": [],
      "collapsed_sections": []
    },
    "kernelspec": {
      "name": "python3",
      "display_name": "Python 3"
    },
    "language_info": {
      "name": "python"
    }
  },
  "cells": [
    {
      "cell_type": "markdown",
      "source": [
        "Even after read breaking, most assemblies still have gaps in k-mer coverage, causing the de Bruijn graph to have missing edges, and so the search for an Eulerian path fails --> de Bruijn graph is not strongly connected --> Euler’s Theorem: Every balanced, strongly connected directed graph is Eulerian --> Eulerian graph is a graph that has Eulerian cycle\n",
        "\n",
        "In this case, biologists often settle on assembling contigs (long, contiguous segments of the genome) rather than entire chromosomes. For example, a typical bacterial sequencing project may result in about a hundred contigs, ranging in length from a few thousand to a few hundred thousand nucleotides. For most genomes, the order of these contigs along the genome remains unknown. Needless to say, biologists would prefer to have the entire genomic sequence, but the cost of ordering the contigs into a final assembly and closing the gaps using more expensive experimental methods is often prohibitive. \n",
        "\n",
        "Fortunately, we can derive contigs from the de Bruijn graph. A path in a graph is called non-branching if IN(v) = OUT(v) = 1 for each intermediate node v of this path, i.e., for each node except possibly the starting and ending node of a path. A maximal non-branching path is a non-branching path that cannot be extended into a longer non-branching path. We are interested in these paths because the strings of nucleotides that they spell out must be present in any assembly with a given k-mer composition. For this reason, contigs correspond to strings spelled by maximal non-branching paths in the de Bruijn graph.\n",
        "\n",
        "contigs --> dugi, kontinuirani segmenti genoma\n",
        "\n",
        "non-branching put --> ako za svaki čvor v na putu u grafu vrijedi In(v) = Out(v), onda je put non-branching\n",
        "\n",
        "maksimalni non-branching put --> non-branching put koji se ne može proširiti u veći non-branching put, tj. non-branching put koji nije dio nekog većeg non-branching puta, dakle najveći non-branching put, tj. non-branching put sa najvećim brojem čvorova\n",
        "\n",
        "In practice, biologists have no choice but to break genomes into contigs, even in the case of perfect coverage, since repeats prevent them from being\n",
        "able to infer a unique Eulerian path. --> Euler’s Theorem: Every balanced, strongly connected directed graph is Eulerian --> Eulerian graph is a graph that has Eulerian cycle\n",
        "\n",
        "Postoji samo jedan Eulerov ciklus u Eulerovom grafu --> Eulerov put formiramo tako da maknemo vezu između predzadnjeg čvora u Eulerovom ciklusu i zadnjeg čvora, tj. početnog čvora budući da su početni i završni čvorovi isti --> budući da Eulerov put formiramo preko Eulerovog ciklusa i budući da imamo samo jedan Eulerov ciklus u grafu, onda imamo samo jedan Eulerov put u grafu  -->  možemo ih imati više, ali od svih Eulerovih puteva tražimo najdulji Eulerov put u grafu\n"
      ],
      "metadata": {
        "id": "Lu6MgSMQjd7a"
      }
    },
    {
      "cell_type": "code",
      "source": [
        "def DefineGraphDict(graph):\n",
        "  graph_dict = {}\n",
        "  for node_adjacent_nodes in graph:\n",
        "    node_adjacent_nodes = node_adjacent_nodes.split(' -> ')\n",
        "    graph_dict.setdefault(int(node_adjacent_nodes[0]),[])\n",
        "    node_adjacent_nodes[1] = node_adjacent_nodes[1].split(',')\n",
        "    for node in node_adjacent_nodes[1]:\n",
        "      graph_dict[int(node_adjacent_nodes[0])].append(int(node))\n",
        "  return graph_dict"
      ],
      "metadata": {
        "id": "Z936DRa9nw9_"
      },
      "execution_count": 1,
      "outputs": []
    },
    {
      "cell_type": "code",
      "source": [
        "def GraphDictEdges(graph_dict):\n",
        "  graph_dict_edges = []\n",
        "  for key,adjacent_nodes in graph_dict.items():\n",
        "    for node in adjacent_nodes:\n",
        "      graph_dict_edges.append((key,node))\n",
        "  return graph_dict_edges"
      ],
      "metadata": {
        "id": "efaRqMScWiuF"
      },
      "execution_count": 12,
      "outputs": []
    },
    {
      "cell_type": "code",
      "source": [
        "def NumberOfOccurences(graph_dict_edges,edge):\n",
        "  count = 0\n",
        "  for graph_edge in graph_dict_edges:\n",
        "    if graph_edge[0] == edge[1]:\n",
        "      count = count + 1\n",
        "  return count"
      ],
      "metadata": {
        "id": "4_ZgVJ4oXXCK"
      },
      "execution_count": 19,
      "outputs": []
    },
    {
      "cell_type": "code",
      "source": [
        "def GraphEdgeNumberOfOccurences(graph_dict_edges,edge):\n",
        "  return graph_dict_edges.count(edge)"
      ],
      "metadata": {
        "id": "FXjOHEGbbv0R"
      },
      "execution_count": 74,
      "outputs": []
    },
    {
      "cell_type": "code",
      "source": [
        "def NonBranchingPathNumberOfOccurences(non_branching_path,edge):\n",
        "  return non_branching_path.count(edge)"
      ],
      "metadata": {
        "id": "w2nd5tohb2lN"
      },
      "execution_count": 73,
      "outputs": []
    },
    {
      "cell_type": "code",
      "source": [
        "def NextEdge(graph_dict_edges,non_branching_path,edge):\n",
        "  for graph_edge in graph_dict_edges:\n",
        "    if graph_edge[0] == edge[1] and NumberOfOccurences(graph_dict_edges,edge) == 1 and NonBranchingPathNumberOfOccurences(non_branching_path,graph_edge) < GraphEdgeNumberOfOccurences(graph_dict_edges,graph_edge):\n",
        "      return [graph_edge]\n",
        "  return []"
      ],
      "metadata": {
        "id": "RwI9mVv6XFUt"
      },
      "execution_count": 75,
      "outputs": []
    },
    {
      "cell_type": "code",
      "source": [
        "def FindAllKmers(non_branching_path,k):\n",
        "  kmers_list = []\n",
        "  i = 0\n",
        "  while i + k - 1 <= len(non_branching_path) - 1:\n",
        "    kmers_list.append(non_branching_path[i:i+k])\n",
        "    i = i + 1\n",
        "  return kmers_list"
      ],
      "metadata": {
        "id": "2_lucEjAq9Ha"
      },
      "execution_count": 105,
      "outputs": []
    },
    {
      "cell_type": "code",
      "source": [
        "def CheckBiggerNonBranchingPaths(non_branching_paths,possible_non_branching_path):\n",
        "   for non_branching_path in non_branching_paths:\n",
        "     if possible_non_branching_path in FindAllKmers(non_branching_path,len(possible_non_branching_path)) or sorted(possible_non_branching_path, key=lambda x:x[0]) == non_branching_path:\n",
        "       return False\n",
        "   return True"
      ],
      "metadata": {
        "id": "f8BxUaBme6ZY"
      },
      "execution_count": 196,
      "outputs": []
    },
    {
      "cell_type": "code",
      "source": [
        "def MaximalNonBranchingPaths(graph_dict_edges):\n",
        "  maximal_non_branching_paths = []\n",
        "  for edge in graph_dict_edges:\n",
        "    non_branching_path = [edge]\n",
        "    next_edge = NextEdge(graph_dict_edges,non_branching_path,non_branching_path[len(non_branching_path)-1])\n",
        "    while len(next_edge):\n",
        "      next_edge = next_edge[0]\n",
        "      non_branching_path.append(next_edge)\n",
        "      next_edge = NextEdge(graph_dict_edges,non_branching_path,non_branching_path[len(non_branching_path)-1])\n",
        "    if CheckBiggerNonBranchingPaths(maximal_non_branching_paths,non_branching_path):\n",
        "      maximal_non_branching_paths.append(non_branching_path)\n",
        "  return maximal_non_branching_paths"
      ],
      "metadata": {
        "id": "QZBFVFAmyKqP"
      },
      "execution_count": 197,
      "outputs": []
    },
    {
      "cell_type": "code",
      "source": [
        "def PrintResult(maximal_non_branching_paths):\n",
        "  for maximal_non_branching_path in maximal_non_branching_paths:\n",
        "    string_to_print = ''\n",
        "    string_to_print = string_to_print + str(maximal_non_branching_path[0][0]) + ' -> ' + str(maximal_non_branching_path[0][1]) + ' -> '\n",
        "    for i in range(1,len(maximal_non_branching_path)):\n",
        "      string_to_print = string_to_print + str(maximal_non_branching_path[i][1]) + ' -> '\n",
        "    string_to_print = string_to_print[0:len(string_to_print) - 4]\n",
        "    print(string_to_print)"
      ],
      "metadata": {
        "id": "hl-miT1gu64b"
      },
      "execution_count": 198,
      "outputs": []
    },
    {
      "cell_type": "code",
      "source": [
        "def PrintResultToFile(maximal_non_branching_paths):\n",
        "  f = open(\"task_result.txt\",\"w\")\n",
        "  for maximal_non_branching_path in maximal_non_branching_paths:\n",
        "    string_to_print = ''\n",
        "    string_to_print = string_to_print + str(maximal_non_branching_path[0][0]) + ' -> ' + str(maximal_non_branching_path[0][1]) + ' -> '\n",
        "    for i in range(1,len(maximal_non_branching_path)):\n",
        "      string_to_print = string_to_print + str(maximal_non_branching_path[i][1]) + ' -> '\n",
        "    string_to_print = string_to_print[0:len(string_to_print) - 4]\n",
        "    f.write(string_to_print + '\\n')\n",
        "  f.close()"
      ],
      "metadata": {
        "id": "n0pawaddxSbY"
      },
      "execution_count": 199,
      "outputs": []
    },
    {
      "cell_type": "code",
      "source": [
        "graph = [\n",
        "'1 -> 2',\n",
        "'2 -> 3',\n",
        "'3 -> 4,5',\n",
        "'6 -> 7',\n",
        "'7 -> 6']"
      ],
      "metadata": {
        "id": "E_w-FyLpnnHM"
      },
      "execution_count": 200,
      "outputs": []
    },
    {
      "cell_type": "code",
      "source": [
        "graph_dict = DefineGraphDict(graph)\n",
        "graph_dict"
      ],
      "metadata": {
        "colab": {
          "base_uri": "https://localhost:8080/"
        },
        "id": "1NY6gO7ewID8",
        "outputId": "2914050f-3e31-46a5-dbf2-f19004edf322"
      },
      "execution_count": 201,
      "outputs": [
        {
          "output_type": "execute_result",
          "data": {
            "text/plain": [
              "{1: [2], 2: [3], 3: [4, 5], 6: [7], 7: [6]}"
            ]
          },
          "metadata": {},
          "execution_count": 201
        }
      ]
    },
    {
      "cell_type": "code",
      "source": [
        "graph_dict_edges = GraphDictEdges(graph_dict)\n",
        "graph_dict_edges"
      ],
      "metadata": {
        "colab": {
          "base_uri": "https://localhost:8080/"
        },
        "id": "vnF_KrpL2XCS",
        "outputId": "d21bff5f-c698-404e-8ca4-2a4e2e6b6074"
      },
      "execution_count": 202,
      "outputs": [
        {
          "output_type": "execute_result",
          "data": {
            "text/plain": [
              "[(1, 2), (2, 3), (3, 4), (3, 5), (6, 7), (7, 6)]"
            ]
          },
          "metadata": {},
          "execution_count": 202
        }
      ]
    },
    {
      "cell_type": "code",
      "source": [
        "MaximalNonBranchingPaths(graph_dict_edges)"
      ],
      "metadata": {
        "colab": {
          "base_uri": "https://localhost:8080/"
        },
        "id": "dSpgnPoiwXcU",
        "outputId": "c9ae17ea-72d3-41cf-c169-175ec89091bd"
      },
      "execution_count": 203,
      "outputs": [
        {
          "output_type": "execute_result",
          "data": {
            "text/plain": [
              "[[(1, 2), (2, 3)], [(3, 4)], [(3, 5)], [(6, 7), (7, 6)]]"
            ]
          },
          "metadata": {},
          "execution_count": 203
        }
      ]
    },
    {
      "cell_type": "code",
      "source": [
        "PrintResult(MaximalNonBranchingPaths(graph_dict_edges))"
      ],
      "metadata": {
        "colab": {
          "base_uri": "https://localhost:8080/"
        },
        "id": "IYTih5ivZVRP",
        "outputId": "39f1a5cb-fdff-4b57-d04a-83ba4673f9ab"
      },
      "execution_count": 204,
      "outputs": [
        {
          "output_type": "stream",
          "name": "stdout",
          "text": [
            "1 -> 2 -> 3\n",
            "3 -> 4\n",
            "3 -> 5\n",
            "6 -> 7 -> 6\n"
          ]
        }
      ]
    },
    {
      "cell_type": "code",
      "source": [
        "with open('/content/rosalind_ba3m.txt') as task_file:\n",
        "  graph = [line.rstrip() for line in task_file]"
      ],
      "metadata": {
        "id": "BAEggtOuxFMR"
      },
      "execution_count": 182,
      "outputs": []
    },
    {
      "cell_type": "code",
      "source": [
        "graph_dict = DefineGraphDict(graph)"
      ],
      "metadata": {
        "id": "JWH5rcWAxbwL"
      },
      "execution_count": 183,
      "outputs": []
    },
    {
      "cell_type": "code",
      "source": [
        "graph_dict_edges = GraphDictEdges(graph_dict)"
      ],
      "metadata": {
        "id": "v5uH-_XWxyC8"
      },
      "execution_count": 184,
      "outputs": []
    },
    {
      "cell_type": "code",
      "source": [
        "PrintResultToFile(MaximalNonBranchingPaths(graph_dict_edges))"
      ],
      "metadata": {
        "id": "kxXcycm-xk1U"
      },
      "execution_count": 186,
      "outputs": []
    }
  ]
}